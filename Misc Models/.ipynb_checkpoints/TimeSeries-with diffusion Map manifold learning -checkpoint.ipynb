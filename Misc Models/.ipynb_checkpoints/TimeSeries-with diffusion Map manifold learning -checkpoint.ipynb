{
 "cells": [
  {
   "cell_type": "code",
   "execution_count": 8,
   "metadata": {},
   "outputs": [],
   "source": [
    "import pandas as pd\n",
    "import numpy as np\n",
    "from functools import partial\n",
    "from collections import OrderedDict\n",
    "from sklearn import manifold\n",
    "import matplotlib.pyplot as plt\n",
    "import numpy as np\n",
    "import pandas as pd\n",
    "from scipy.linalg import hankel, eigh\n",
    "import plotly.graph_objects as go\n",
    "from plotly.subplots import make_subplots\n",
    "import time\n",
    "from sklearn.metrics.pairwise import euclidean_distances\n"
   ]
  },
  {
   "cell_type": "code",
   "execution_count": 2,
   "metadata": {},
   "outputs": [],
   "source": [
    "def find_diffusion_matrix(X=None, alpha=0.15):\n",
    "    \"\"\"Function to find the diffusion matrix P\n",
    "        \n",
    "        >Parameters:\n",
    "        alpha - to be used for gaussian kernel function\n",
    "        X - feature matrix as numpy array\n",
    "        \n",
    "        >Returns:\n",
    "        P_prime, P, Di, K, D_left\n",
    "    \"\"\"\n",
    "    alpha = alpha\n",
    "        \n",
    "    dists = euclidean_distances(X, X)\n",
    "    K = np.exp(-dists**2 / alpha)\n",
    "    \n",
    "    r = np.sum(K, axis=0)\n",
    "    Di = np.diag(1/r)\n",
    "    P = np.matmul(Di, K)\n",
    "    \n",
    "    D_right = np.diag((r)**0.5)\n",
    "    D_left = np.diag((r)**-0.5)\n",
    "    P_prime = np.matmul(D_right, np.matmul(P,D_left))\n",
    "\n",
    "    return P_prime, P, Di, K, D_left"
   ]
  },
  {
   "cell_type": "code",
   "execution_count": 3,
   "metadata": {},
   "outputs": [],
   "source": [
    "def find_diffusion_map(P_prime, D_left, n_eign=3):\n",
    "    \"\"\"Function to find the diffusion coordinates in the diffusion space\n",
    "        \n",
    "        >Parameters:\n",
    "        P_prime - Symmetrized version of Diffusion Matrix P\n",
    "        D_left - D^{-1/2} matrix\n",
    "        n_eigen - Number of eigen vectors to return. This is effectively \n",
    "                    the dimensions to keep in diffusion space.\n",
    "        \n",
    "        >Returns:\n",
    "        Diffusion_map as np.array object\n",
    "    \"\"\"   \n",
    "    n_eign = n_eign\n",
    "    \n",
    "    eigenValues, eigenVectors = eigh(P_prime)\n",
    "    idx = eigenValues.argsort()[::-1]\n",
    "    eigenValues = eigenValues[idx]\n",
    "    eigenVectors = eigenVectors[:,idx]\n",
    "    \n",
    "    diffusion_coordinates = np.matmul(D_left, eigenVectors)\n",
    "    \n",
    "    return diffusion_coordinates[:,:n_eign]"
   ]
  },
  {
   "cell_type": "code",
   "execution_count": null,
   "metadata": {},
   "outputs": [],
   "source": []
  },
  {
   "cell_type": "code",
   "execution_count": 2,
   "metadata": {},
   "outputs": [],
   "source": [
    "# n_neighbors = 10\n",
    "# n_components = 1\n",
    "# Set-up manifold methods\n",
    "# LLE = partial(manifold.LocallyLinearEmbedding,\n",
    "#               n_neighbors, n_components, eigen_solver='auto')\n",
    "\n",
    "# methods = OrderedDict()\n",
    "# methods['LLE'] = LLE(method='standard')\n",
    "# methods['LTSA'] = LLE(method='ltsa')\n",
    "# methods['Hessian LLE'] = LLE(method='hessian')\n",
    "# methods['Modified LLE'] = LLE(method='modified')\n",
    "# methods['Isomap'] = manifold.Isomap(n_neighbors, n_components)\n",
    "# methods['MDS'] = manifold.MDS(n_components, max_iter=100, n_init=1)\n",
    "# methods['SE'] = manifold.SpectralEmbedding(n_components=n_components,\n",
    "#                                            n_neighbors=n_neighbors)\n",
    "# methods['t-SNE'] = manifold.TSNE(n_components=n_components, init='pca',\n",
    "#                                  random_state=0)"
   ]
  },
  {
   "cell_type": "code",
   "execution_count": 4,
   "metadata": {},
   "outputs": [],
   "source": [
    "df = pd.read_csv('steps_train.txt', skiprows=1,nrows=110, header=None, usecols=[1,2])\n",
    "df_test = pd.read_csv('steps_test.txt', skiprows=1, nrows=150, header=None, usecols=[1,2])"
   ]
  },
  {
   "cell_type": "code",
   "execution_count": 5,
   "metadata": {},
   "outputs": [],
   "source": [
    "report_cols = ['Method', 'Training Max Score', 'Training Min Score', \n",
    "               'Testing Max Score', 'Testing Min Score', 'Time elapsed']\n",
    "report = []"
   ]
  },
  {
   "cell_type": "code",
   "execution_count": null,
   "metadata": {},
   "outputs": [],
   "source": []
  },
  {
   "cell_type": "code",
   "execution_count": 10,
   "metadata": {},
   "outputs": [],
   "source": [
    "def run_algo(r=1, method_name='LLE', L=25):\n",
    "    method_name = 'Diffusion Map'\n",
    "#     method=methods[f'{method_name}']\n",
    "# #     print(method_name)\n",
    "#     X_train_data = method.fit_transform(df)\n",
    "    P_prime, P, Di, K, D_left = find_diffusion_matrix(df, alpha=0.15)\n",
    "    X_train_data = find_diffusion_map(P_prime, D_left, n_eign=3)\n",
    "\n",
    "    N = len(X_train_data)\n",
    "    # L = (N)//2\n",
    "    L =  25\n",
    "    X_train = hankel(X_train_data[:L],X_train_data[L-1:]) # Creating trajectory matrix\n",
    "    eigenValues, eigenVectors = eigh(np.matmul(X_train, X_train.T))\n",
    "    idx = eigenValues.argsort()[::-1]\n",
    "    eigenValues = eigenValues[idx]\n",
    "    eigenVectors = eigenVectors[:,idx]\n",
    "    # Sree plot\n",
    "\n",
    "    eigen_data = go.Scatter(x=list(range(len(eigenValues[0:10]))), y=eigenValues[0:10])\n",
    "    eigen_layout = go.Layout(title='ScreePlot', title_x=0.5, xaxis_title=\"No of eigen values\", yaxis_title=\"eigen value\",)\n",
    "    fig = go.Figure(data=[eigen_data], layout=eigen_layout)\n",
    "    fig.show()\n",
    "    \n",
    "    start = time.perf_counter()\n",
    "    # Setting statistical dimension based on screeplot above\n",
    "    r = 2\n",
    "    # Performing singular value decomposition\n",
    "    U, Sigma, V = np.linalg.svd(X_train)\n",
    "    V = V.T\n",
    "    X_elem = np.array( [Sigma[i] * np.outer(U[:,i], V[:,i]) for i in range(0,r)] )\n",
    "    X_train_extracted = X_elem.sum(axis=0)\n",
    "    U = eigenVectors[:,:r] # r as statistical dimension\n",
    "    UT = U.T\n",
    "    pX = np.matmul(UT,X_train_extracted)\n",
    "    centroid = np.mean(pX, axis=1)\n",
    "    centroid = centroid[:,np.newaxis]\n",
    "    pXt = np.matmul(UT,X_train)\n",
    "    dt_matrix = centroid - pXt\n",
    "    dt_scores = np.linalg.norm(dt_matrix, axis=0, ord=2)\n",
    "\n",
    "    # Testing positional Deviation\n",
    "    \n",
    "    P_prime, P, Di, K, D_left = find_diffusion_matrix(df_test, alpha=0.15)\n",
    "    X_test = find_diffusion_map(P_prime, D_left, n_eign=3)\n",
    "    \n",
    "    Xj = hankel(X_test[:L],X_test[L-1:])\n",
    "    pXj = np.matmul(UT, Xj)\n",
    "    dj_matrix = centroid - pXj\n",
    "    dj_scores = np.linalg.norm(dj_matrix, axis=0, ord=2)\n",
    "    dj_scores = np.asarray(dj_scores)\n",
    "    end = time.perf_counter()\n",
    "    finish = time.perf_counter()\n",
    "#     print(\"Time Taken for execution is \", round(finish-start, 2), 'Seconds\\n\\n')\n",
    "    \n",
    "    fig = make_subplots(rows=2, cols=2,specs=[[{}, {}], [{\"colspan\": 2}, None]],\n",
    "    subplot_titles=(\"Training plot\",\"Testing plot\", f\"Anomaly score by {method_name}\"))\n",
    "    fig.add_trace(go.Scatter(x=df[1], y=df[2], marker_color='blue',\n",
    "                            name=\"Training path\"),row=1, col=1)\n",
    "    fig.add_trace(go.Scatter(x=df_test[1], y=df_test[2], marker_color='red',\n",
    "                            name=\"Testing Score\"),row=1, col=2)\n",
    "    fig.add_trace(go.Scatter(x=list(range(len(dt_scores))), y=dt_scores[:], marker_color='blue',\n",
    "                             name=\"Training Score\"), row=2, col=1)\n",
    "    fig.add_trace(go.Scatter(x=list(range(len(dj_scores))), y=dj_scores, marker_color='red',\n",
    "                            name=\"Testing Score\"), row=2, col=1)\n",
    "    fig.update_layout(showlegend=False)\n",
    "    fig.show()\n",
    "    report.append([method_name, max(dt_scores), min(dt_scores), max(dj_scores), min(dj_scores), round(finish-start, 2)] )\n",
    "    return (pd.DataFrame(report, columns=report_cols))"
   ]
  },
  {
   "cell_type": "code",
   "execution_count": 11,
   "metadata": {},
   "outputs": [
    {
     "data": {
      "application/vnd.plotly.v1+json": {
       "config": {
        "plotlyServerURL": "https://plot.ly"
       },
       "data": [
        {
         "type": "scatter",
         "x": [
          0,
          1,
          2,
          3,
          4,
          5,
          6,
          7,
          8,
          9
         ],
         "y": [
          19.975142314549338,
          19.609737375332774,
          10.031583268849792,
          9.914527904240241,
          3.4561431239885474,
          2.9339857876024418,
          2.7291993714168026,
          2.3422183918919086,
          1.858386825312543,
          1.0672566334404776
         ]
        }
       ],
       "layout": {
        "template": {
         "data": {
          "bar": [
           {
            "error_x": {
             "color": "#2a3f5f"
            },
            "error_y": {
             "color": "#2a3f5f"
            },
            "marker": {
             "line": {
              "color": "#E5ECF6",
              "width": 0.5
             }
            },
            "type": "bar"
           }
          ],
          "barpolar": [
           {
            "marker": {
             "line": {
              "color": "#E5ECF6",
              "width": 0.5
             }
            },
            "type": "barpolar"
           }
          ],
          "carpet": [
           {
            "aaxis": {
             "endlinecolor": "#2a3f5f",
             "gridcolor": "white",
             "linecolor": "white",
             "minorgridcolor": "white",
             "startlinecolor": "#2a3f5f"
            },
            "baxis": {
             "endlinecolor": "#2a3f5f",
             "gridcolor": "white",
             "linecolor": "white",
             "minorgridcolor": "white",
             "startlinecolor": "#2a3f5f"
            },
            "type": "carpet"
           }
          ],
          "choropleth": [
           {
            "colorbar": {
             "outlinewidth": 0,
             "ticks": ""
            },
            "type": "choropleth"
           }
          ],
          "contour": [
           {
            "colorbar": {
             "outlinewidth": 0,
             "ticks": ""
            },
            "colorscale": [
             [
              0,
              "#0d0887"
             ],
             [
              0.1111111111111111,
              "#46039f"
             ],
             [
              0.2222222222222222,
              "#7201a8"
             ],
             [
              0.3333333333333333,
              "#9c179e"
             ],
             [
              0.4444444444444444,
              "#bd3786"
             ],
             [
              0.5555555555555556,
              "#d8576b"
             ],
             [
              0.6666666666666666,
              "#ed7953"
             ],
             [
              0.7777777777777778,
              "#fb9f3a"
             ],
             [
              0.8888888888888888,
              "#fdca26"
             ],
             [
              1,
              "#f0f921"
             ]
            ],
            "type": "contour"
           }
          ],
          "contourcarpet": [
           {
            "colorbar": {
             "outlinewidth": 0,
             "ticks": ""
            },
            "type": "contourcarpet"
           }
          ],
          "heatmap": [
           {
            "colorbar": {
             "outlinewidth": 0,
             "ticks": ""
            },
            "colorscale": [
             [
              0,
              "#0d0887"
             ],
             [
              0.1111111111111111,
              "#46039f"
             ],
             [
              0.2222222222222222,
              "#7201a8"
             ],
             [
              0.3333333333333333,
              "#9c179e"
             ],
             [
              0.4444444444444444,
              "#bd3786"
             ],
             [
              0.5555555555555556,
              "#d8576b"
             ],
             [
              0.6666666666666666,
              "#ed7953"
             ],
             [
              0.7777777777777778,
              "#fb9f3a"
             ],
             [
              0.8888888888888888,
              "#fdca26"
             ],
             [
              1,
              "#f0f921"
             ]
            ],
            "type": "heatmap"
           }
          ],
          "heatmapgl": [
           {
            "colorbar": {
             "outlinewidth": 0,
             "ticks": ""
            },
            "colorscale": [
             [
              0,
              "#0d0887"
             ],
             [
              0.1111111111111111,
              "#46039f"
             ],
             [
              0.2222222222222222,
              "#7201a8"
             ],
             [
              0.3333333333333333,
              "#9c179e"
             ],
             [
              0.4444444444444444,
              "#bd3786"
             ],
             [
              0.5555555555555556,
              "#d8576b"
             ],
             [
              0.6666666666666666,
              "#ed7953"
             ],
             [
              0.7777777777777778,
              "#fb9f3a"
             ],
             [
              0.8888888888888888,
              "#fdca26"
             ],
             [
              1,
              "#f0f921"
             ]
            ],
            "type": "heatmapgl"
           }
          ],
          "histogram": [
           {
            "marker": {
             "colorbar": {
              "outlinewidth": 0,
              "ticks": ""
             }
            },
            "type": "histogram"
           }
          ],
          "histogram2d": [
           {
            "colorbar": {
             "outlinewidth": 0,
             "ticks": ""
            },
            "colorscale": [
             [
              0,
              "#0d0887"
             ],
             [
              0.1111111111111111,
              "#46039f"
             ],
             [
              0.2222222222222222,
              "#7201a8"
             ],
             [
              0.3333333333333333,
              "#9c179e"
             ],
             [
              0.4444444444444444,
              "#bd3786"
             ],
             [
              0.5555555555555556,
              "#d8576b"
             ],
             [
              0.6666666666666666,
              "#ed7953"
             ],
             [
              0.7777777777777778,
              "#fb9f3a"
             ],
             [
              0.8888888888888888,
              "#fdca26"
             ],
             [
              1,
              "#f0f921"
             ]
            ],
            "type": "histogram2d"
           }
          ],
          "histogram2dcontour": [
           {
            "colorbar": {
             "outlinewidth": 0,
             "ticks": ""
            },
            "colorscale": [
             [
              0,
              "#0d0887"
             ],
             [
              0.1111111111111111,
              "#46039f"
             ],
             [
              0.2222222222222222,
              "#7201a8"
             ],
             [
              0.3333333333333333,
              "#9c179e"
             ],
             [
              0.4444444444444444,
              "#bd3786"
             ],
             [
              0.5555555555555556,
              "#d8576b"
             ],
             [
              0.6666666666666666,
              "#ed7953"
             ],
             [
              0.7777777777777778,
              "#fb9f3a"
             ],
             [
              0.8888888888888888,
              "#fdca26"
             ],
             [
              1,
              "#f0f921"
             ]
            ],
            "type": "histogram2dcontour"
           }
          ],
          "mesh3d": [
           {
            "colorbar": {
             "outlinewidth": 0,
             "ticks": ""
            },
            "type": "mesh3d"
           }
          ],
          "parcoords": [
           {
            "line": {
             "colorbar": {
              "outlinewidth": 0,
              "ticks": ""
             }
            },
            "type": "parcoords"
           }
          ],
          "pie": [
           {
            "automargin": true,
            "type": "pie"
           }
          ],
          "scatter": [
           {
            "marker": {
             "colorbar": {
              "outlinewidth": 0,
              "ticks": ""
             }
            },
            "type": "scatter"
           }
          ],
          "scatter3d": [
           {
            "line": {
             "colorbar": {
              "outlinewidth": 0,
              "ticks": ""
             }
            },
            "marker": {
             "colorbar": {
              "outlinewidth": 0,
              "ticks": ""
             }
            },
            "type": "scatter3d"
           }
          ],
          "scattercarpet": [
           {
            "marker": {
             "colorbar": {
              "outlinewidth": 0,
              "ticks": ""
             }
            },
            "type": "scattercarpet"
           }
          ],
          "scattergeo": [
           {
            "marker": {
             "colorbar": {
              "outlinewidth": 0,
              "ticks": ""
             }
            },
            "type": "scattergeo"
           }
          ],
          "scattergl": [
           {
            "marker": {
             "colorbar": {
              "outlinewidth": 0,
              "ticks": ""
             }
            },
            "type": "scattergl"
           }
          ],
          "scattermapbox": [
           {
            "marker": {
             "colorbar": {
              "outlinewidth": 0,
              "ticks": ""
             }
            },
            "type": "scattermapbox"
           }
          ],
          "scatterpolar": [
           {
            "marker": {
             "colorbar": {
              "outlinewidth": 0,
              "ticks": ""
             }
            },
            "type": "scatterpolar"
           }
          ],
          "scatterpolargl": [
           {
            "marker": {
             "colorbar": {
              "outlinewidth": 0,
              "ticks": ""
             }
            },
            "type": "scatterpolargl"
           }
          ],
          "scatterternary": [
           {
            "marker": {
             "colorbar": {
              "outlinewidth": 0,
              "ticks": ""
             }
            },
            "type": "scatterternary"
           }
          ],
          "surface": [
           {
            "colorbar": {
             "outlinewidth": 0,
             "ticks": ""
            },
            "colorscale": [
             [
              0,
              "#0d0887"
             ],
             [
              0.1111111111111111,
              "#46039f"
             ],
             [
              0.2222222222222222,
              "#7201a8"
             ],
             [
              0.3333333333333333,
              "#9c179e"
             ],
             [
              0.4444444444444444,
              "#bd3786"
             ],
             [
              0.5555555555555556,
              "#d8576b"
             ],
             [
              0.6666666666666666,
              "#ed7953"
             ],
             [
              0.7777777777777778,
              "#fb9f3a"
             ],
             [
              0.8888888888888888,
              "#fdca26"
             ],
             [
              1,
              "#f0f921"
             ]
            ],
            "type": "surface"
           }
          ],
          "table": [
           {
            "cells": {
             "fill": {
              "color": "#EBF0F8"
             },
             "line": {
              "color": "white"
             }
            },
            "header": {
             "fill": {
              "color": "#C8D4E3"
             },
             "line": {
              "color": "white"
             }
            },
            "type": "table"
           }
          ]
         },
         "layout": {
          "annotationdefaults": {
           "arrowcolor": "#2a3f5f",
           "arrowhead": 0,
           "arrowwidth": 1
          },
          "coloraxis": {
           "colorbar": {
            "outlinewidth": 0,
            "ticks": ""
           }
          },
          "colorscale": {
           "diverging": [
            [
             0,
             "#8e0152"
            ],
            [
             0.1,
             "#c51b7d"
            ],
            [
             0.2,
             "#de77ae"
            ],
            [
             0.3,
             "#f1b6da"
            ],
            [
             0.4,
             "#fde0ef"
            ],
            [
             0.5,
             "#f7f7f7"
            ],
            [
             0.6,
             "#e6f5d0"
            ],
            [
             0.7,
             "#b8e186"
            ],
            [
             0.8,
             "#7fbc41"
            ],
            [
             0.9,
             "#4d9221"
            ],
            [
             1,
             "#276419"
            ]
           ],
           "sequential": [
            [
             0,
             "#0d0887"
            ],
            [
             0.1111111111111111,
             "#46039f"
            ],
            [
             0.2222222222222222,
             "#7201a8"
            ],
            [
             0.3333333333333333,
             "#9c179e"
            ],
            [
             0.4444444444444444,
             "#bd3786"
            ],
            [
             0.5555555555555556,
             "#d8576b"
            ],
            [
             0.6666666666666666,
             "#ed7953"
            ],
            [
             0.7777777777777778,
             "#fb9f3a"
            ],
            [
             0.8888888888888888,
             "#fdca26"
            ],
            [
             1,
             "#f0f921"
            ]
           ],
           "sequentialminus": [
            [
             0,
             "#0d0887"
            ],
            [
             0.1111111111111111,
             "#46039f"
            ],
            [
             0.2222222222222222,
             "#7201a8"
            ],
            [
             0.3333333333333333,
             "#9c179e"
            ],
            [
             0.4444444444444444,
             "#bd3786"
            ],
            [
             0.5555555555555556,
             "#d8576b"
            ],
            [
             0.6666666666666666,
             "#ed7953"
            ],
            [
             0.7777777777777778,
             "#fb9f3a"
            ],
            [
             0.8888888888888888,
             "#fdca26"
            ],
            [
             1,
             "#f0f921"
            ]
           ]
          },
          "colorway": [
           "#636efa",
           "#EF553B",
           "#00cc96",
           "#ab63fa",
           "#FFA15A",
           "#19d3f3",
           "#FF6692",
           "#B6E880",
           "#FF97FF",
           "#FECB52"
          ],
          "font": {
           "color": "#2a3f5f"
          },
          "geo": {
           "bgcolor": "white",
           "lakecolor": "white",
           "landcolor": "#E5ECF6",
           "showlakes": true,
           "showland": true,
           "subunitcolor": "white"
          },
          "hoverlabel": {
           "align": "left"
          },
          "hovermode": "closest",
          "mapbox": {
           "style": "light"
          },
          "paper_bgcolor": "white",
          "plot_bgcolor": "#E5ECF6",
          "polar": {
           "angularaxis": {
            "gridcolor": "white",
            "linecolor": "white",
            "ticks": ""
           },
           "bgcolor": "#E5ECF6",
           "radialaxis": {
            "gridcolor": "white",
            "linecolor": "white",
            "ticks": ""
           }
          },
          "scene": {
           "xaxis": {
            "backgroundcolor": "#E5ECF6",
            "gridcolor": "white",
            "gridwidth": 2,
            "linecolor": "white",
            "showbackground": true,
            "ticks": "",
            "zerolinecolor": "white"
           },
           "yaxis": {
            "backgroundcolor": "#E5ECF6",
            "gridcolor": "white",
            "gridwidth": 2,
            "linecolor": "white",
            "showbackground": true,
            "ticks": "",
            "zerolinecolor": "white"
           },
           "zaxis": {
            "backgroundcolor": "#E5ECF6",
            "gridcolor": "white",
            "gridwidth": 2,
            "linecolor": "white",
            "showbackground": true,
            "ticks": "",
            "zerolinecolor": "white"
           }
          },
          "shapedefaults": {
           "line": {
            "color": "#2a3f5f"
           }
          },
          "ternary": {
           "aaxis": {
            "gridcolor": "white",
            "linecolor": "white",
            "ticks": ""
           },
           "baxis": {
            "gridcolor": "white",
            "linecolor": "white",
            "ticks": ""
           },
           "bgcolor": "#E5ECF6",
           "caxis": {
            "gridcolor": "white",
            "linecolor": "white",
            "ticks": ""
           }
          },
          "title": {
           "x": 0.05
          },
          "xaxis": {
           "automargin": true,
           "gridcolor": "white",
           "linecolor": "white",
           "ticks": "",
           "title": {
            "standoff": 15
           },
           "zerolinecolor": "white",
           "zerolinewidth": 2
          },
          "yaxis": {
           "automargin": true,
           "gridcolor": "white",
           "linecolor": "white",
           "ticks": "",
           "title": {
            "standoff": 15
           },
           "zerolinecolor": "white",
           "zerolinewidth": 2
          }
         }
        },
        "title": {
         "text": "ScreePlot",
         "x": 0.5
        },
        "xaxis": {
         "title": {
          "text": "No of eigen values"
         }
        },
        "yaxis": {
         "title": {
          "text": "eigen value"
         }
        }
       }
      },
      "text/html": [
       "<div>\n",
       "        \n",
       "        \n",
       "            <div id=\"06da14e4-6913-4a33-a563-dd1acacc1bdb\" class=\"plotly-graph-div\" style=\"height:525px; width:100%;\"></div>\n",
       "            <script type=\"text/javascript\">\n",
       "                require([\"plotly\"], function(Plotly) {\n",
       "                    window.PLOTLYENV=window.PLOTLYENV || {};\n",
       "                    \n",
       "                if (document.getElementById(\"06da14e4-6913-4a33-a563-dd1acacc1bdb\")) {\n",
       "                    Plotly.newPlot(\n",
       "                        '06da14e4-6913-4a33-a563-dd1acacc1bdb',\n",
       "                        [{\"type\": \"scatter\", \"x\": [0, 1, 2, 3, 4, 5, 6, 7, 8, 9], \"y\": [19.975142314549338, 19.609737375332774, 10.031583268849792, 9.914527904240241, 3.4561431239885474, 2.9339857876024418, 2.7291993714168026, 2.3422183918919086, 1.858386825312543, 1.0672566334404776]}],\n",
       "                        {\"template\": {\"data\": {\"bar\": [{\"error_x\": {\"color\": \"#2a3f5f\"}, \"error_y\": {\"color\": \"#2a3f5f\"}, \"marker\": {\"line\": {\"color\": \"#E5ECF6\", \"width\": 0.5}}, \"type\": \"bar\"}], \"barpolar\": [{\"marker\": {\"line\": {\"color\": \"#E5ECF6\", \"width\": 0.5}}, \"type\": \"barpolar\"}], \"carpet\": [{\"aaxis\": {\"endlinecolor\": \"#2a3f5f\", \"gridcolor\": \"white\", \"linecolor\": \"white\", \"minorgridcolor\": \"white\", \"startlinecolor\": \"#2a3f5f\"}, \"baxis\": {\"endlinecolor\": \"#2a3f5f\", \"gridcolor\": \"white\", \"linecolor\": \"white\", \"minorgridcolor\": \"white\", \"startlinecolor\": \"#2a3f5f\"}, \"type\": \"carpet\"}], \"choropleth\": [{\"colorbar\": {\"outlinewidth\": 0, \"ticks\": \"\"}, \"type\": \"choropleth\"}], \"contour\": [{\"colorbar\": {\"outlinewidth\": 0, \"ticks\": \"\"}, \"colorscale\": [[0.0, \"#0d0887\"], [0.1111111111111111, \"#46039f\"], [0.2222222222222222, \"#7201a8\"], [0.3333333333333333, \"#9c179e\"], [0.4444444444444444, \"#bd3786\"], [0.5555555555555556, \"#d8576b\"], [0.6666666666666666, \"#ed7953\"], [0.7777777777777778, \"#fb9f3a\"], [0.8888888888888888, \"#fdca26\"], [1.0, \"#f0f921\"]], \"type\": \"contour\"}], \"contourcarpet\": [{\"colorbar\": {\"outlinewidth\": 0, \"ticks\": \"\"}, \"type\": \"contourcarpet\"}], \"heatmap\": [{\"colorbar\": {\"outlinewidth\": 0, \"ticks\": \"\"}, \"colorscale\": [[0.0, \"#0d0887\"], [0.1111111111111111, \"#46039f\"], [0.2222222222222222, \"#7201a8\"], [0.3333333333333333, \"#9c179e\"], [0.4444444444444444, \"#bd3786\"], [0.5555555555555556, \"#d8576b\"], [0.6666666666666666, \"#ed7953\"], [0.7777777777777778, \"#fb9f3a\"], [0.8888888888888888, \"#fdca26\"], [1.0, \"#f0f921\"]], \"type\": \"heatmap\"}], \"heatmapgl\": [{\"colorbar\": {\"outlinewidth\": 0, \"ticks\": \"\"}, \"colorscale\": [[0.0, \"#0d0887\"], [0.1111111111111111, \"#46039f\"], [0.2222222222222222, \"#7201a8\"], [0.3333333333333333, \"#9c179e\"], [0.4444444444444444, \"#bd3786\"], [0.5555555555555556, \"#d8576b\"], [0.6666666666666666, \"#ed7953\"], [0.7777777777777778, \"#fb9f3a\"], [0.8888888888888888, \"#fdca26\"], [1.0, \"#f0f921\"]], \"type\": \"heatmapgl\"}], \"histogram\": [{\"marker\": {\"colorbar\": {\"outlinewidth\": 0, \"ticks\": \"\"}}, \"type\": \"histogram\"}], \"histogram2d\": [{\"colorbar\": {\"outlinewidth\": 0, \"ticks\": \"\"}, \"colorscale\": [[0.0, \"#0d0887\"], [0.1111111111111111, \"#46039f\"], [0.2222222222222222, \"#7201a8\"], [0.3333333333333333, \"#9c179e\"], [0.4444444444444444, \"#bd3786\"], [0.5555555555555556, \"#d8576b\"], [0.6666666666666666, \"#ed7953\"], [0.7777777777777778, \"#fb9f3a\"], [0.8888888888888888, \"#fdca26\"], [1.0, \"#f0f921\"]], \"type\": \"histogram2d\"}], \"histogram2dcontour\": [{\"colorbar\": {\"outlinewidth\": 0, \"ticks\": \"\"}, \"colorscale\": [[0.0, \"#0d0887\"], [0.1111111111111111, \"#46039f\"], [0.2222222222222222, \"#7201a8\"], [0.3333333333333333, \"#9c179e\"], [0.4444444444444444, \"#bd3786\"], [0.5555555555555556, \"#d8576b\"], [0.6666666666666666, \"#ed7953\"], [0.7777777777777778, \"#fb9f3a\"], [0.8888888888888888, \"#fdca26\"], [1.0, \"#f0f921\"]], \"type\": \"histogram2dcontour\"}], \"mesh3d\": [{\"colorbar\": {\"outlinewidth\": 0, \"ticks\": \"\"}, \"type\": \"mesh3d\"}], \"parcoords\": [{\"line\": {\"colorbar\": {\"outlinewidth\": 0, \"ticks\": \"\"}}, \"type\": \"parcoords\"}], \"pie\": [{\"automargin\": true, \"type\": \"pie\"}], \"scatter\": [{\"marker\": {\"colorbar\": {\"outlinewidth\": 0, \"ticks\": \"\"}}, \"type\": \"scatter\"}], \"scatter3d\": [{\"line\": {\"colorbar\": {\"outlinewidth\": 0, \"ticks\": \"\"}}, \"marker\": {\"colorbar\": {\"outlinewidth\": 0, \"ticks\": \"\"}}, \"type\": \"scatter3d\"}], \"scattercarpet\": [{\"marker\": {\"colorbar\": {\"outlinewidth\": 0, \"ticks\": \"\"}}, \"type\": \"scattercarpet\"}], \"scattergeo\": [{\"marker\": {\"colorbar\": {\"outlinewidth\": 0, \"ticks\": \"\"}}, \"type\": \"scattergeo\"}], \"scattergl\": [{\"marker\": {\"colorbar\": {\"outlinewidth\": 0, \"ticks\": \"\"}}, \"type\": \"scattergl\"}], \"scattermapbox\": [{\"marker\": {\"colorbar\": {\"outlinewidth\": 0, \"ticks\": \"\"}}, \"type\": \"scattermapbox\"}], \"scatterpolar\": [{\"marker\": {\"colorbar\": {\"outlinewidth\": 0, \"ticks\": \"\"}}, \"type\": \"scatterpolar\"}], \"scatterpolargl\": [{\"marker\": {\"colorbar\": {\"outlinewidth\": 0, \"ticks\": \"\"}}, \"type\": \"scatterpolargl\"}], \"scatterternary\": [{\"marker\": {\"colorbar\": {\"outlinewidth\": 0, \"ticks\": \"\"}}, \"type\": \"scatterternary\"}], \"surface\": [{\"colorbar\": {\"outlinewidth\": 0, \"ticks\": \"\"}, \"colorscale\": [[0.0, \"#0d0887\"], [0.1111111111111111, \"#46039f\"], [0.2222222222222222, \"#7201a8\"], [0.3333333333333333, \"#9c179e\"], [0.4444444444444444, \"#bd3786\"], [0.5555555555555556, \"#d8576b\"], [0.6666666666666666, \"#ed7953\"], [0.7777777777777778, \"#fb9f3a\"], [0.8888888888888888, \"#fdca26\"], [1.0, \"#f0f921\"]], \"type\": \"surface\"}], \"table\": [{\"cells\": {\"fill\": {\"color\": \"#EBF0F8\"}, \"line\": {\"color\": \"white\"}}, \"header\": {\"fill\": {\"color\": \"#C8D4E3\"}, \"line\": {\"color\": \"white\"}}, \"type\": \"table\"}]}, \"layout\": {\"annotationdefaults\": {\"arrowcolor\": \"#2a3f5f\", \"arrowhead\": 0, \"arrowwidth\": 1}, \"coloraxis\": {\"colorbar\": {\"outlinewidth\": 0, \"ticks\": \"\"}}, \"colorscale\": {\"diverging\": [[0, \"#8e0152\"], [0.1, \"#c51b7d\"], [0.2, \"#de77ae\"], [0.3, \"#f1b6da\"], [0.4, \"#fde0ef\"], [0.5, \"#f7f7f7\"], [0.6, \"#e6f5d0\"], [0.7, \"#b8e186\"], [0.8, \"#7fbc41\"], [0.9, \"#4d9221\"], [1, \"#276419\"]], \"sequential\": [[0.0, \"#0d0887\"], [0.1111111111111111, \"#46039f\"], [0.2222222222222222, \"#7201a8\"], [0.3333333333333333, \"#9c179e\"], [0.4444444444444444, \"#bd3786\"], [0.5555555555555556, \"#d8576b\"], [0.6666666666666666, \"#ed7953\"], [0.7777777777777778, \"#fb9f3a\"], [0.8888888888888888, \"#fdca26\"], [1.0, \"#f0f921\"]], \"sequentialminus\": [[0.0, \"#0d0887\"], [0.1111111111111111, \"#46039f\"], [0.2222222222222222, \"#7201a8\"], [0.3333333333333333, \"#9c179e\"], [0.4444444444444444, \"#bd3786\"], [0.5555555555555556, \"#d8576b\"], [0.6666666666666666, \"#ed7953\"], [0.7777777777777778, \"#fb9f3a\"], [0.8888888888888888, \"#fdca26\"], [1.0, \"#f0f921\"]]}, \"colorway\": [\"#636efa\", \"#EF553B\", \"#00cc96\", \"#ab63fa\", \"#FFA15A\", \"#19d3f3\", \"#FF6692\", \"#B6E880\", \"#FF97FF\", \"#FECB52\"], \"font\": {\"color\": \"#2a3f5f\"}, \"geo\": {\"bgcolor\": \"white\", \"lakecolor\": \"white\", \"landcolor\": \"#E5ECF6\", \"showlakes\": true, \"showland\": true, \"subunitcolor\": \"white\"}, \"hoverlabel\": {\"align\": \"left\"}, \"hovermode\": \"closest\", \"mapbox\": {\"style\": \"light\"}, \"paper_bgcolor\": \"white\", \"plot_bgcolor\": \"#E5ECF6\", \"polar\": {\"angularaxis\": {\"gridcolor\": \"white\", \"linecolor\": \"white\", \"ticks\": \"\"}, \"bgcolor\": \"#E5ECF6\", \"radialaxis\": {\"gridcolor\": \"white\", \"linecolor\": \"white\", \"ticks\": \"\"}}, \"scene\": {\"xaxis\": {\"backgroundcolor\": \"#E5ECF6\", \"gridcolor\": \"white\", \"gridwidth\": 2, \"linecolor\": \"white\", \"showbackground\": true, \"ticks\": \"\", \"zerolinecolor\": \"white\"}, \"yaxis\": {\"backgroundcolor\": \"#E5ECF6\", \"gridcolor\": \"white\", \"gridwidth\": 2, \"linecolor\": \"white\", \"showbackground\": true, \"ticks\": \"\", \"zerolinecolor\": \"white\"}, \"zaxis\": {\"backgroundcolor\": \"#E5ECF6\", \"gridcolor\": \"white\", \"gridwidth\": 2, \"linecolor\": \"white\", \"showbackground\": true, \"ticks\": \"\", \"zerolinecolor\": \"white\"}}, \"shapedefaults\": {\"line\": {\"color\": \"#2a3f5f\"}}, \"ternary\": {\"aaxis\": {\"gridcolor\": \"white\", \"linecolor\": \"white\", \"ticks\": \"\"}, \"baxis\": {\"gridcolor\": \"white\", \"linecolor\": \"white\", \"ticks\": \"\"}, \"bgcolor\": \"#E5ECF6\", \"caxis\": {\"gridcolor\": \"white\", \"linecolor\": \"white\", \"ticks\": \"\"}}, \"title\": {\"x\": 0.05}, \"xaxis\": {\"automargin\": true, \"gridcolor\": \"white\", \"linecolor\": \"white\", \"ticks\": \"\", \"title\": {\"standoff\": 15}, \"zerolinecolor\": \"white\", \"zerolinewidth\": 2}, \"yaxis\": {\"automargin\": true, \"gridcolor\": \"white\", \"linecolor\": \"white\", \"ticks\": \"\", \"title\": {\"standoff\": 15}, \"zerolinecolor\": \"white\", \"zerolinewidth\": 2}}}, \"title\": {\"text\": \"ScreePlot\", \"x\": 0.5}, \"xaxis\": {\"title\": {\"text\": \"No of eigen values\"}}, \"yaxis\": {\"title\": {\"text\": \"eigen value\"}}},\n",
       "                        {\"responsive\": true}\n",
       "                    ).then(function(){\n",
       "                            \n",
       "var gd = document.getElementById('06da14e4-6913-4a33-a563-dd1acacc1bdb');\n",
       "var x = new MutationObserver(function (mutations, observer) {{\n",
       "        var display = window.getComputedStyle(gd).display;\n",
       "        if (!display || display === 'none') {{\n",
       "            console.log([gd, 'removed!']);\n",
       "            Plotly.purge(gd);\n",
       "            observer.disconnect();\n",
       "        }}\n",
       "}});\n",
       "\n",
       "// Listen for the removal of the full notebook cells\n",
       "var notebookContainer = gd.closest('#notebook-container');\n",
       "if (notebookContainer) {{\n",
       "    x.observe(notebookContainer, {childList: true});\n",
       "}}\n",
       "\n",
       "// Listen for the clearing of the current output cell\n",
       "var outputEl = gd.closest('.output');\n",
       "if (outputEl) {{\n",
       "    x.observe(outputEl, {childList: true});\n",
       "}}\n",
       "\n",
       "                        })\n",
       "                };\n",
       "                });\n",
       "            </script>\n",
       "        </div>"
      ]
     },
     "metadata": {},
     "output_type": "display_data"
    },
    {
     "data": {
      "application/vnd.plotly.v1+json": {
       "config": {
        "plotlyServerURL": "https://plot.ly"
       },
       "data": [
        {
         "marker": {
          "color": "blue"
         },
         "name": "Training path",
         "type": "scatter",
         "x": [
          0,
          -0.2,
          -0.25,
          -0.27,
          -0.8,
          -1.25,
          -2.53,
          -2.69,
          -2.02,
          -0.82,
          0.45,
          1.77,
          3.1,
          4.4,
          5.73,
          7.06,
          8.38,
          9.71,
          11.1,
          12.4,
          13.67,
          14.95,
          16.23,
          17.53,
          18.82,
          20.1,
          21.42,
          22.73,
          24.02,
          25.29,
          26.51,
          27.5,
          26.32,
          24.94,
          23.55,
          22.16,
          20.8,
          19.45,
          18.11,
          16.76,
          13.95,
          12.54,
          11.15,
          9.76,
          8.37,
          7,
          5.63,
          4.26,
          2.95,
          1.56,
          0.21,
          -1.12,
          -2.39,
          -3.48,
          -2.14,
          -0.74,
          0.64,
          2.04,
          3.48,
          4.91,
          6.31,
          7.7,
          9.08,
          10.48,
          11.88,
          13.27,
          14.67,
          16.05,
          17.4,
          18.75,
          20.11,
          21.46,
          22.79,
          24.13,
          25.53,
          26.82,
          27.7,
          26.38,
          25,
          23.58,
          22.17,
          20.72,
          19.26,
          17.81,
          16.36,
          14.92,
          13.48,
          12.07,
          10.67,
          9.23,
          7.78,
          6.34,
          4.9,
          3.45,
          1.99,
          0.58,
          -0.82,
          -2.2,
          -2.82,
          -2.96,
          -1.69,
          -1.06,
          -0.89,
          0.11,
          0.04,
          0.07,
          -0.11,
          0,
          -0.2,
          -0.25
         ],
         "xaxis": "x",
         "y": [
          0,
          -0.01,
          0.32,
          1.14,
          2.06,
          3.3,
          3.69,
          3.96,
          5.03,
          5.55,
          5.67,
          5.71,
          5.69,
          5.71,
          5.77,
          5.81,
          5.86,
          5.99,
          6.09,
          6.24,
          6.43,
          6.53,
          6.51,
          6.47,
          6.53,
          6.61,
          6.68,
          6.82,
          6.87,
          6.93,
          6.88,
          6.95,
          6.94,
          6.85,
          6.88,
          6.8,
          6.71,
          6.6,
          6.55,
          6.5,
          6.45,
          6.37,
          6.27,
          6.24,
          6.27,
          6.25,
          6.26,
          6.25,
          6.05,
          6,
          6.01,
          5.93,
          5.95,
          5.72,
          5.75,
          5.87,
          5.85,
          5.85,
          5.87,
          5.95,
          6.04,
          6.08,
          6.1,
          6.15,
          6.2,
          6.23,
          6.3,
          6.33,
          6.4,
          6.37,
          6.4,
          6.28,
          6.24,
          6.18,
          6.32,
          6.42,
          6.53,
          6.52,
          6.46,
          6.47,
          6.51,
          6.42,
          6.37,
          6.33,
          6.33,
          6.35,
          6.41,
          6.51,
          6.59,
          6.5,
          6.42,
          6.38,
          6.24,
          6.24,
          6.21,
          6.21,
          6.25,
          6.15,
          5.3,
          4.41,
          4.09,
          3.29,
          2.17,
          1.76,
          1.74,
          1.82,
          1.47,
          0,
          -0.01,
          0.32
         ],
         "yaxis": "y"
        },
        {
         "marker": {
          "color": "red"
         },
         "name": "Testing Score",
         "type": "scatter",
         "x": [
          -2.03,
          -2.97,
          -2.74,
          -1.95,
          -0.67,
          0.68,
          1.99,
          3.33,
          4.64,
          5.87,
          6.6,
          6.73,
          6.71,
          6.72,
          6.72,
          6.43,
          6.1,
          6.08,
          6.25,
          6.6,
          6.96,
          7.89,
          9.19,
          10.55,
          11.88,
          13.24,
          14.58,
          15.92,
          17.27,
          18.6,
          19.93,
          21.23,
          22.58,
          23.84,
          25,
          25.99,
          24.81,
          23.43,
          22.07,
          20.72,
          19.32,
          17.92,
          16.51,
          15.12,
          13.73,
          12.35,
          11.01,
          9.68,
          8.32,
          7,
          5.66,
          4.28,
          2.95,
          1.6,
          0.25,
          -1.09,
          -2.34,
          -2.86,
          -3.31,
          -2.38,
          -1.33,
          -1.23,
          -1.4,
          -1.22,
          -1,
          -1.15,
          -1.18,
          -2.36,
          -3.41,
          -3.95,
          -3.95,
          -3.96,
          -3.8,
          -3.78,
          -3.79,
          -3.6,
          -3.16,
          -2.83,
          -2.55,
          -1.85,
          -0.62,
          0.64,
          1.98,
          3.29,
          4.56,
          5.78,
          6.59,
          6.69,
          6.45,
          6.21,
          5.98,
          5.82,
          6.04,
          6.12,
          6.21,
          6.43,
          6.82,
          7.58,
          8.79,
          10.08,
          11.46,
          12.78,
          14.11,
          15.43,
          16.73,
          18.06,
          19.38,
          20.68,
          21.93,
          23.18,
          24.45,
          25.76,
          26.75,
          25.5,
          24.17,
          22.88,
          21.52,
          20.19,
          18.82,
          17.48,
          16.09,
          14.74,
          13.36,
          12.03,
          10.68,
          9.34,
          7.97,
          6.61,
          5.24,
          3.86,
          2.46,
          1.05,
          -0.34,
          -1.67,
          -2.61,
          -3.07,
          -2.29,
          -1.2,
          -1.3,
          -1.42,
          -1.24,
          -1.16,
          -0.99,
          -1.04,
          0,
          -0.06,
          -0.76,
          -1.03,
          -0.98,
          -2.03
         ],
         "xaxis": "x2",
         "y": [
          3.5,
          3.72,
          3.86,
          4.77,
          4.95,
          5.02,
          5.13,
          5.04,
          5.04,
          4.81,
          3.85,
          2.58,
          1.26,
          -0.05,
          -1.35,
          -2.22,
          -1.44,
          -0.17,
          1.12,
          2.38,
          3.69,
          4.59,
          4.9,
          4.88,
          4.88,
          4.84,
          4.71,
          4.72,
          4.78,
          4.8,
          4.82,
          4.74,
          4.81,
          4.95,
          4.75,
          4.83,
          4.95,
          5.06,
          5.16,
          5.21,
          5.29,
          5.22,
          5.28,
          5.35,
          5.42,
          5.44,
          5.41,
          5.44,
          5.41,
          5.4,
          5.58,
          5.62,
          5.69,
          5.77,
          5.85,
          5.93,
          5.98,
          5.17,
          4.47,
          3.73,
          3.46,
          2.26,
          1.17,
          0.43,
          1.29,
          2.34,
          3.61,
          4.25,
          3.46,
          2.34,
          1.11,
          -0.07,
          -0.82,
          0.45,
          1.79,
          3.05,
          4.12,
          4.4,
          4.67,
          5.71,
          5.92,
          5.64,
          5.5,
          5.36,
          5.1,
          4.63,
          3.79,
          2.55,
          1.35,
          0.12,
          -1.11,
          -2.24,
          -2,
          -0.79,
          0.48,
          1.73,
          2.95,
          3.99,
          4.48,
          4.39,
          4.27,
          4.08,
          4.06,
          4.01,
          3.7,
          3.61,
          3.56,
          3.35,
          3.05,
          2.76,
          2.51,
          2.45,
          2.8,
          2.84,
          2.97,
          3.2,
          3.4,
          3.59,
          3.82,
          4,
          4.21,
          4.4,
          4.52,
          4.75,
          4.88,
          5.03,
          5.23,
          5.3,
          5.62,
          5.95,
          6.17,
          6.44,
          6.58,
          6.81,
          6.31,
          5.35,
          4.55,
          4.21,
          3.11,
          2.08,
          1.66,
          1.81,
          1.86,
          2.05,
          0,
          0,
          0.75,
          1.7,
          2.82,
          3.5
         ],
         "yaxis": "y2"
        },
        {
         "marker": {
          "color": "blue"
         },
         "name": "Training Score",
         "type": "scatter",
         "x": [
          0,
          1,
          2,
          3,
          4,
          5,
          6,
          7,
          8,
          9,
          10,
          11,
          12,
          13,
          14,
          15,
          16,
          17,
          18,
          19,
          20,
          21,
          22,
          23,
          24,
          25,
          26,
          27,
          28,
          29,
          30,
          31,
          32,
          33,
          34,
          35,
          36,
          37,
          38,
          39,
          40,
          41,
          42,
          43,
          44,
          45,
          46,
          47,
          48,
          49,
          50,
          51,
          52,
          53,
          54,
          55,
          56,
          57,
          58,
          59,
          60,
          61,
          62,
          63,
          64,
          65,
          66,
          67,
          68,
          69,
          70,
          71,
          72,
          73,
          74,
          75,
          76,
          77,
          78,
          79,
          80,
          81,
          82,
          83,
          84,
          85,
          86,
          87,
          88,
          89,
          90,
          91,
          92,
          93,
          94,
          95,
          96,
          97,
          98,
          99,
          100,
          101,
          102,
          103,
          104,
          105,
          106,
          107,
          108,
          109,
          110,
          111,
          112,
          113,
          114,
          115,
          116,
          117,
          118,
          119,
          120,
          121,
          122,
          123,
          124,
          125,
          126,
          127,
          128,
          129,
          130,
          131,
          132,
          133,
          134,
          135,
          136,
          137,
          138,
          139,
          140,
          141,
          142,
          143,
          144,
          145,
          146,
          147,
          148,
          149,
          150,
          151,
          152,
          153,
          154,
          155,
          156,
          157,
          158,
          159,
          160,
          161,
          162,
          163,
          164,
          165,
          166,
          167,
          168,
          169,
          170,
          171,
          172,
          173,
          174,
          175,
          176,
          177,
          178,
          179,
          180,
          181,
          182,
          183,
          184,
          185,
          186,
          187,
          188,
          189,
          190,
          191,
          192,
          193,
          194,
          195,
          196,
          197,
          198,
          199,
          200,
          201,
          202,
          203,
          204,
          205,
          206,
          207,
          208,
          209,
          210,
          211,
          212,
          213,
          214,
          215,
          216,
          217,
          218,
          219,
          220,
          221,
          222,
          223,
          224,
          225,
          226,
          227,
          228,
          229,
          230,
          231,
          232,
          233,
          234,
          235,
          236,
          237,
          238,
          239,
          240,
          241,
          242,
          243,
          244,
          245,
          246,
          247,
          248,
          249,
          250,
          251,
          252,
          253,
          254,
          255,
          256,
          257
         ],
         "xaxis": "x3",
         "y": [
          0.30667290187225704,
          0.297564180215502,
          0.2949088190326559,
          0.3031929373623495,
          0.29208003939764254,
          0.2877787469704847,
          0.29566816933143414,
          0.2827797140726234,
          0.2769119768154672,
          0.2843616262793976,
          0.26980393735563696,
          0.26253691197375706,
          0.2670798225618547,
          0.24574070095409015,
          0.2379399083354743,
          0.24254435774444266,
          0.21976207916513713,
          0.21205314801221614,
          0.21709963669586643,
          0.1939384721569692,
          0.18727329231231174,
          0.19310994825808603,
          0.17005575101277914,
          0.1660375167806904,
          0.1734067696528262,
          0.15078987848891162,
          0.15141083060114757,
          0.1608002217070909,
          0.14169284025456713,
          0.14843542388119152,
          0.15989005244389368,
          0.14645052432713518,
          0.15907694680059267,
          0.17194244958861973,
          0.16460611839903827,
          0.18138790170975183,
          0.19457200366827973,
          0.19212115725521672,
          0.2112470093566194,
          0.22421178118292107,
          0.22513569186458116,
          0.24529132381402194,
          0.25783789982280914,
          0.2609152631167131,
          0.2766904894518145,
          0.28773363694500503,
          0.29273870516314937,
          0.3079780325429308,
          0.31973376792233676,
          0.32566845066878736,
          0.33988949640797,
          0.3519614013685511,
          0.3582229804292336,
          0.3708911128862721,
          0.38300087652963327,
          0.3892566261447503,
          0.399940257035683,
          0.41189475693828276,
          0.417735450839695,
          0.4262301404182431,
          0.43784394735455984,
          0.4431200464719259,
          0.4492949417744871,
          0.4632780179486866,
          0.4645473639528214,
          0.46839124950929295,
          0.48139742332551566,
          0.4820037689254985,
          0.48357982963670415,
          0.49562749890048174,
          0.4957173666779537,
          0.48295448452185585,
          0.4863056022295317,
          0.4868476016843517,
          0.4735445336070466,
          0.47754227284324535,
          0.4782986321852164,
          0.4646193633823674,
          0.4691180916521024,
          0.4701140894566356,
          0.45611009015376147,
          0.4601198868613603,
          0.46129257440170973,
          0.4478368825071515,
          0.45252843845018387,
          0.45387214665446846,
          0.4411595496250921,
          0.4466132426230548,
          0.4481080363819153,
          0.43601930346815404,
          0.4437125272816373,
          0.44544872540199565,
          0.43386279350719853,
          0.4426710957191283,
          0.44468984462050315,
          0.4335525855244683,
          0.4430625752085708,
          0.44534601949715186,
          0.4345893339073988,
          0.44447504193724247,
          0.44698833201689747,
          0.4366683752540278,
          0.4467801492709804,
          0.449490430676049,
          0.4395076077418563,
          0.4495432822980228,
          0.4525427809798055,
          0.44279391123734047,
          0.4525546057257401,
          0.4557616475058927,
          0.4461741750351987,
          0.455463807510142,
          0.45879605074396995,
          0.4493118853229075,
          0.4579426745222258,
          0.46124726342778505,
          0.45183293385878415,
          0.45965270161579325,
          0.46282745166222533,
          0.45581525036009635,
          0.45732752600060017,
          0.46064628174957006,
          0.4536015308734411,
          0.454786336839903,
          0.45824274717362334,
          0.44792867338634806,
          0.4335411609327072,
          0.436800994716016,
          0.42660875504438656,
          0.4115092294012418,
          0.4145761499725412,
          0.40468298067662567,
          0.38901851083279515,
          0.3919166090501474,
          0.38249968719784394,
          0.3661432853635565,
          0.3688605056902126,
          0.36018333603980063,
          0.3433882015012891,
          0.3459769403577667,
          0.3383621062024204,
          0.3214964075960647,
          0.32402198774967794,
          0.31790065852725397,
          0.30137956877817723,
          0.303933748105462,
          0.3000214655575054,
          0.2843271977959827,
          0.2870034984696662,
          0.28588969622651556,
          0.27181531404947,
          0.2748466255026954,
          0.2769875406809568,
          0.2653305448915502,
          0.2687461657713907,
          0.27557582889361054,
          0.26656580311148714,
          0.2702886769758918,
          0.27941143256764794,
          0.2736109756979296,
          0.2776177344262156,
          0.28847150931250043,
          0.2860397814001384,
          0.2902824046882952,
          0.30015809899616447,
          0.30169112886873783,
          0.3061896908238155,
          0.3160967029133293,
          0.32077984441866414,
          0.3254797799712165,
          0.3353202002431437,
          0.3425183970007896,
          0.34735227759827286,
          0.3568626306824997,
          0.3659688045190783,
          0.370845957949843,
          0.3800734305060223,
          0.3906103288438743,
          0.39546619748514955,
          0.40105896394413404,
          0.4174711830313478,
          0.42168447721890223,
          0.42557073632325254,
          0.44171192495792455,
          0.4452435178807317,
          0.4472887316299559,
          0.4629390369465846,
          0.4656342738087197,
          0.46572947169546736,
          0.4807307688904091,
          0.4827085709160809,
          0.4808641138361259,
          0.4950556526077799,
          0.49637465002760284,
          0.4926251461304371,
          0.5058564112228308,
          0.5066081396807371,
          0.5010347198078765,
          0.5132117478895764,
          0.5135165998092556,
          0.5024329189251365,
          0.5046920431415867,
          0.5049841664494822,
          0.49299750376600276,
          0.49570549584990997,
          0.4960870743333352,
          0.4833603400846449,
          0.48668339470616845,
          0.48722152612991027,
          0.4739438164408946,
          0.4779080493689978,
          0.4786566191683333,
          0.46499052313910105,
          0.469451825839742,
          0.47043680709160013,
          0.4564262335286097,
          0.46039615742800694,
          0.46155562833210095,
          0.44808329249932066,
          0.45272600625969045,
          0.4540551439975346,
          0.4413230793134668,
          0.4463985068101043,
          0.447855881623156,
          0.4361290232939008,
          0.4415049265766258,
          0.443016141564125,
          0.43254926621240314,
          0.4380217248490662,
          0.4395120623170157,
          0.4330631001107571,
          0.42873099903755124,
          0.42946832634124427,
          0.4257908367574221,
          0.4212651326502056,
          0.4210210954311534,
          0.419996073786345,
          0.41548794963288566,
          0.41409156515526613,
          0.4155493039514127,
          0.41086198814129077,
          0.4082675457838121,
          0.41195859401456225,
          0.4071408229642413,
          0.40321226006838107,
          0.4089354967761806,
          0.4039391626878385,
          0.39858182631681693
         ],
         "yaxis": "y3"
        },
        {
         "marker": {
          "color": "red"
         },
         "name": "Testing Score",
         "type": "scatter",
         "x": [
          0,
          1,
          2,
          3,
          4,
          5,
          6,
          7,
          8,
          9,
          10,
          11,
          12,
          13,
          14,
          15,
          16,
          17,
          18,
          19,
          20,
          21,
          22,
          23,
          24,
          25,
          26,
          27,
          28,
          29,
          30,
          31,
          32,
          33,
          34,
          35,
          36,
          37,
          38,
          39,
          40,
          41,
          42,
          43,
          44,
          45,
          46,
          47,
          48,
          49,
          50,
          51,
          52,
          53,
          54,
          55,
          56,
          57,
          58,
          59,
          60,
          61,
          62,
          63,
          64,
          65,
          66,
          67,
          68,
          69,
          70,
          71,
          72,
          73,
          74,
          75,
          76,
          77,
          78,
          79,
          80,
          81,
          82,
          83,
          84,
          85,
          86,
          87,
          88,
          89,
          90,
          91,
          92,
          93,
          94,
          95,
          96,
          97,
          98,
          99,
          100,
          101,
          102,
          103,
          104,
          105,
          106,
          107,
          108,
          109,
          110,
          111,
          112,
          113,
          114,
          115,
          116,
          117,
          118,
          119,
          120,
          121,
          122,
          123,
          124,
          125,
          126,
          127,
          128,
          129,
          130,
          131,
          132,
          133,
          134,
          135,
          136,
          137,
          138,
          139,
          140,
          141,
          142,
          143,
          144,
          145,
          146,
          147,
          148,
          149,
          150,
          151,
          152,
          153,
          154,
          155,
          156,
          157,
          158,
          159,
          160,
          161,
          162,
          163,
          164,
          165,
          166,
          167,
          168,
          169,
          170,
          171,
          172,
          173,
          174,
          175,
          176,
          177,
          178,
          179,
          180,
          181,
          182,
          183,
          184,
          185,
          186,
          187,
          188,
          189,
          190,
          191,
          192,
          193,
          194,
          195,
          196,
          197,
          198,
          199,
          200,
          201,
          202,
          203,
          204,
          205,
          206,
          207,
          208,
          209,
          210,
          211,
          212,
          213,
          214,
          215,
          216,
          217,
          218,
          219,
          220,
          221,
          222,
          223,
          224,
          225,
          226,
          227,
          228,
          229,
          230,
          231,
          232,
          233,
          234,
          235,
          236,
          237,
          238,
          239,
          240,
          241,
          242,
          243,
          244,
          245,
          246,
          247,
          248,
          249,
          250,
          251,
          252,
          253,
          254,
          255,
          256,
          257,
          258,
          259,
          260,
          261,
          262,
          263,
          264,
          265,
          266,
          267,
          268,
          269,
          270,
          271,
          272,
          273,
          274,
          275,
          276,
          277,
          278,
          279,
          280,
          281,
          282,
          283,
          284,
          285,
          286,
          287,
          288,
          289,
          290,
          291,
          292,
          293,
          294,
          295,
          296,
          297,
          298,
          299,
          300,
          301,
          302,
          303,
          304,
          305,
          306,
          307,
          308,
          309,
          310,
          311,
          312,
          313,
          314,
          315,
          316,
          317,
          318,
          319,
          320,
          321,
          322,
          323,
          324,
          325,
          326,
          327,
          328,
          329,
          330,
          331,
          332,
          333,
          334,
          335,
          336,
          337,
          338,
          339,
          340,
          341,
          342,
          343,
          344,
          345,
          346,
          347,
          348,
          349,
          350,
          351,
          352,
          353,
          354,
          355,
          356,
          357,
          358,
          359,
          360,
          361,
          362,
          363,
          364,
          365,
          366,
          367,
          368,
          369,
          370,
          371,
          372,
          373,
          374,
          375,
          376,
          377
         ],
         "xaxis": "x3",
         "y": [
          0.39786095118043024,
          0.40046071512941933,
          0.3967623311015712,
          0.3928350707404809,
          0.3939651069320067,
          0.393498685706798,
          0.38768440341404475,
          0.38797648766550963,
          0.38811582310736403,
          0.38031439544107626,
          0.37976746109708936,
          0.3798805564988744,
          0.36993971477690535,
          0.36857580765495557,
          0.3689120210345033,
          0.35661105987330827,
          0.3546343790090543,
          0.3547396994192882,
          0.3389594514701715,
          0.33672191035722016,
          0.33718417870644013,
          0.3182150074235527,
          0.3162385377299152,
          0.31747219986163905,
          0.2966390509704978,
          0.29571638804585315,
          0.29850770688130635,
          0.27664855015221673,
          0.2778775947633543,
          0.2821683101025513,
          0.2599996858654089,
          0.2646067852760803,
          0.2722905362525915,
          0.24685261648643847,
          0.25603208279213985,
          0.26606960492049575,
          0.24392547749230256,
          0.25789950554730967,
          0.26971809855269785,
          0.2521785691487208,
          0.27031179806597466,
          0.2831772805757538,
          0.2706637180069731,
          0.2920174200622805,
          0.3056625119857023,
          0.2977706520477102,
          0.32090718988091704,
          0.3347037593457252,
          0.33062150824117137,
          0.35458006902967576,
          0.36842186764378765,
          0.36719771134108486,
          0.3911366863516017,
          0.40483499182011473,
          0.4056250210745551,
          0.42885743121622005,
          0.4422721853183246,
          0.444391937099655,
          0.4664546158369856,
          0.47950730993615037,
          0.4823945466495714,
          0.5023864997242248,
          0.5150639224859093,
          0.518190332274893,
          0.5341531936638325,
          0.5470999336576311,
          0.5501223060722048,
          0.562522244209501,
          0.5762685252121331,
          0.5788672000473919,
          0.5876833369472768,
          0.6024329503147902,
          0.6042661903587542,
          0.6096651472299709,
          0.6250762474747568,
          0.6257796216622374,
          0.6159275006537526,
          0.6264834231970158,
          0.6253156794425664,
          0.6107942601231668,
          0.6157471423004893,
          0.6142136783676967,
          0.59757738705603,
          0.6002901031124526,
          0.5985071925698449,
          0.5803892359549165,
          0.5815037503502895,
          0.579524573775937,
          0.560096739465478,
          0.5594455512565766,
          0.557338932528381,
          0.5369289256353998,
          0.5339371976483307,
          0.5317249525247432,
          0.5109197732241293,
          0.5060689482001643,
          0.5037565962247224,
          0.48314485802462276,
          0.47713527378987747,
          0.4747084829868289,
          0.4544879399713995,
          0.4469447647127361,
          0.4443919533950761,
          0.42518489559273165,
          0.4173449003111813,
          0.41464066349038614,
          0.3966424615073919,
          0.38867591218237874,
          0.38578547776769484,
          0.36942284498865213,
          0.36159283277205895,
          0.35846033914126646,
          0.34408432653539567,
          0.33656955095651964,
          0.33314282031199444,
          0.32101672749465193,
          0.3139084443406528,
          0.31017078306149787,
          0.3002305161539106,
          0.29351081938518114,
          0.2894268507781539,
          0.2818122862451355,
          0.2753546138555497,
          0.27089334504812507,
          0.26540067554097124,
          0.2591241980182616,
          0.2542823855067448,
          0.2507505799236942,
          0.24454262578536157,
          0.23928691725133117,
          0.23753182834555925,
          0.23118391201941443,
          0.22549495796444702,
          0.22527403584845512,
          0.21860636184646262,
          0.2124594650206625,
          0.21364493854052782,
          0.2060512951950454,
          0.19945795383753046,
          0.20212789803720316,
          0.19108666986812856,
          0.18427217385321223,
          0.1876933815230907,
          0.17484134322418332,
          0.1679694428259803,
          0.1718830428442835,
          0.15810513706310095,
          0.15132070920485352,
          0.1555530263538709,
          0.14190045582571428,
          0.13530751802292318,
          0.14010361321185216,
          0.13030597556997237,
          0.12383383178246157,
          0.12882477524081634,
          0.12068602647907166,
          0.11433933469400145,
          0.11945887353925763,
          0.11232063055482719,
          0.10612032677204258,
          0.11137997818304257,
          0.1053427233054489,
          0.0993008802057923,
          0.10471355085044265,
          0.09984726516854135,
          0.0939628991191783,
          0.09907470363685955,
          0.09717137808768861,
          0.09150878070944381,
          0.09651883857961477,
          0.09627495758872194,
          0.090868067866239,
          0.0953414907419917,
          0.09681461848380708,
          0.09180248909787962,
          0.09534432483390343,
          0.09974450543811336,
          0.09534843490641717,
          0.09851414787040838,
          0.10402365406728425,
          0.10035155078255832,
          0.10318577781240673,
          0.1097301050772314,
          0.10685987384641707,
          0.10920484289483777,
          0.11707092882668678,
          0.11508466990127751,
          0.11433497356641119,
          0.12854795156801122,
          0.12801892270908624,
          0.12743676219060157,
          0.14269291088894875,
          0.14350556917015322,
          0.14297561113999713,
          0.15897128011821388,
          0.16100665584273466,
          0.16039343289225932,
          0.177063332914751,
          0.18020642648305776,
          0.17946616694687384,
          0.1966781844450722,
          0.20078790217873674,
          0.19989782688072938,
          0.2175038074899684,
          0.22247820031129262,
          0.22142028096186428,
          0.23929989821997336,
          0.24503892875569452,
          0.2438287585438638,
          0.26187558126538224,
          0.26827627353083455,
          0.2669325992418943,
          0.285013403188581,
          0.29184468096062255,
          0.2904211639424321,
          0.3083727791768847,
          0.3155336039918483,
          0.3140323353862547,
          0.33168459636126535,
          0.33907710338658686,
          0.33749065298111086,
          0.3542282141333388,
          0.3617404121040382,
          0.3594905026237582,
          0.37455193517344815,
          0.3820988109520772,
          0.3787471895827311,
          0.39105399449728473,
          0.3985310207477919,
          0.3938320958597577,
          0.4020353187340042,
          0.40933772033555427,
          0.4026754670957171,
          0.4039702644045051,
          0.41096711327501406,
          0.40383612197963786,
          0.40193823472657764,
          0.4085658520540775,
          0.4014611788577171,
          0.39727704954517246,
          0.40347769805397515,
          0.3962948277633807,
          0.38946575341773043,
          0.39521990635203674,
          0.38844451636601823,
          0.3793958215020589,
          0.384703691339606,
          0.3784887361837943,
          0.367404792776242,
          0.3723467117820626,
          0.3667230257444342,
          0.35393293183235663,
          0.3586088206870855,
          0.3544216842612923,
          0.34085947856596194,
          0.34534359594877795,
          0.34290124231551805,
          0.32837579737323236,
          0.33276376941676533,
          0.3323432133488272,
          0.31715823270656546,
          0.3215458444174332,
          0.32107944527960325,
          0.30506503845254596,
          0.3097493428426187,
          0.31376339932422,
          0.30264261103550866,
          0.30769892010871625,
          0.31637681184581995,
          0.31218032693525244,
          0.31757836675271384,
          0.3298856786753267,
          0.3347591632334614,
          0.34026205912866514,
          0.3547425517256283,
          0.3651663111872014,
          0.37059215659667283,
          0.3861032008085658,
          0.4003676837865464,
          0.4055771822449925,
          0.42137083655008806,
          0.4380504540262723,
          0.4429673494819273,
          0.45842189782507214,
          0.4767098561687469,
          0.48125346710806166,
          0.4958673137046815,
          0.5150675017091776,
          0.5191453165217093,
          0.5323406651171085,
          0.5519777617198839,
          0.555483846568849,
          0.5669904905803383,
          0.5864587032889702,
          0.5892956542855199,
          0.598519982857798,
          0.6172796768593226,
          0.6193954811181839,
          0.6239434722618075,
          0.6421336814069489,
          0.6433730624544115,
          0.643291498496294,
          0.6595120126524203,
          0.6598601482339119,
          0.6550994208285786,
          0.6683765067364285,
          0.6679111834306924,
          0.6582142122710747,
          0.6667504891270826,
          0.6656984351555285,
          0.6514029338766198,
          0.6563536122395756,
          0.6548737289496265,
          0.6382861610335308,
          0.6413363051105614,
          0.6395364295456117,
          0.6213094549450325,
          0.6228496993006779,
          0.6208159580251797,
          0.6011341835034525,
          0.6011024765257286,
          0.5988792589756884,
          0.577905035096777,
          0.5759444478099948,
          0.5735417777663373,
          0.5516114079878899,
          0.5472128605196027,
          0.5446574524387087,
          0.5226447753685334,
          0.516971102284505,
          0.5142936726839786,
          0.4923757469176015,
          0.4854153902382381,
          0.4826827166836495,
          0.4609716602583494,
          0.4520383418400643,
          0.4492723148216426,
          0.4277074992810999,
          0.417187130001287,
          0.4143877442898017,
          0.3945663777295715,
          0.3846215033861719,
          0.38168331533781574,
          0.3642394230060576,
          0.3553791324817939,
          0.35217285460125414,
          0.33817245890674524,
          0.33056369049455786,
          0.327033276155959,
          0.3156109961630933,
          0.3084663547441525,
          0.3046177437945179,
          0.2954826174668347,
          0.28856126172607416,
          0.2843762589128177,
          0.27721644605097545,
          0.2705306085281528,
          0.26597914536413186,
          0.260738980488912,
          0.2542590311234411,
          0.24934229162869964,
          0.24604262044909997,
          0.23931716219671953,
          0.23397409025399388,
          0.23248853538612568,
          0.22559217504464726,
          0.21980045604196358,
          0.21970958237794408,
          0.2129776998021927,
          0.20672864918602676,
          0.20802779066800234,
          0.20048060758915062,
          0.1937862309448778,
          0.19655530753742945,
          0.1855707713709358,
          0.17866473702187258,
          0.18214426704432307,
          0.16942564899978765
         ],
         "yaxis": "y3"
        }
       ],
       "layout": {
        "annotations": [
         {
          "font": {
           "size": 16
          },
          "showarrow": false,
          "text": "Training plot",
          "x": 0.225,
          "xanchor": "center",
          "xref": "paper",
          "y": 1,
          "yanchor": "bottom",
          "yref": "paper"
         },
         {
          "font": {
           "size": 16
          },
          "showarrow": false,
          "text": "Testing plot",
          "x": 0.775,
          "xanchor": "center",
          "xref": "paper",
          "y": 1,
          "yanchor": "bottom",
          "yref": "paper"
         },
         {
          "font": {
           "size": 16
          },
          "showarrow": false,
          "text": "Anomaly score by Diffusion Map",
          "x": 0.5,
          "xanchor": "center",
          "xref": "paper",
          "y": 0.375,
          "yanchor": "bottom",
          "yref": "paper"
         }
        ],
        "showlegend": false,
        "template": {
         "data": {
          "bar": [
           {
            "error_x": {
             "color": "#2a3f5f"
            },
            "error_y": {
             "color": "#2a3f5f"
            },
            "marker": {
             "line": {
              "color": "#E5ECF6",
              "width": 0.5
             }
            },
            "type": "bar"
           }
          ],
          "barpolar": [
           {
            "marker": {
             "line": {
              "color": "#E5ECF6",
              "width": 0.5
             }
            },
            "type": "barpolar"
           }
          ],
          "carpet": [
           {
            "aaxis": {
             "endlinecolor": "#2a3f5f",
             "gridcolor": "white",
             "linecolor": "white",
             "minorgridcolor": "white",
             "startlinecolor": "#2a3f5f"
            },
            "baxis": {
             "endlinecolor": "#2a3f5f",
             "gridcolor": "white",
             "linecolor": "white",
             "minorgridcolor": "white",
             "startlinecolor": "#2a3f5f"
            },
            "type": "carpet"
           }
          ],
          "choropleth": [
           {
            "colorbar": {
             "outlinewidth": 0,
             "ticks": ""
            },
            "type": "choropleth"
           }
          ],
          "contour": [
           {
            "colorbar": {
             "outlinewidth": 0,
             "ticks": ""
            },
            "colorscale": [
             [
              0,
              "#0d0887"
             ],
             [
              0.1111111111111111,
              "#46039f"
             ],
             [
              0.2222222222222222,
              "#7201a8"
             ],
             [
              0.3333333333333333,
              "#9c179e"
             ],
             [
              0.4444444444444444,
              "#bd3786"
             ],
             [
              0.5555555555555556,
              "#d8576b"
             ],
             [
              0.6666666666666666,
              "#ed7953"
             ],
             [
              0.7777777777777778,
              "#fb9f3a"
             ],
             [
              0.8888888888888888,
              "#fdca26"
             ],
             [
              1,
              "#f0f921"
             ]
            ],
            "type": "contour"
           }
          ],
          "contourcarpet": [
           {
            "colorbar": {
             "outlinewidth": 0,
             "ticks": ""
            },
            "type": "contourcarpet"
           }
          ],
          "heatmap": [
           {
            "colorbar": {
             "outlinewidth": 0,
             "ticks": ""
            },
            "colorscale": [
             [
              0,
              "#0d0887"
             ],
             [
              0.1111111111111111,
              "#46039f"
             ],
             [
              0.2222222222222222,
              "#7201a8"
             ],
             [
              0.3333333333333333,
              "#9c179e"
             ],
             [
              0.4444444444444444,
              "#bd3786"
             ],
             [
              0.5555555555555556,
              "#d8576b"
             ],
             [
              0.6666666666666666,
              "#ed7953"
             ],
             [
              0.7777777777777778,
              "#fb9f3a"
             ],
             [
              0.8888888888888888,
              "#fdca26"
             ],
             [
              1,
              "#f0f921"
             ]
            ],
            "type": "heatmap"
           }
          ],
          "heatmapgl": [
           {
            "colorbar": {
             "outlinewidth": 0,
             "ticks": ""
            },
            "colorscale": [
             [
              0,
              "#0d0887"
             ],
             [
              0.1111111111111111,
              "#46039f"
             ],
             [
              0.2222222222222222,
              "#7201a8"
             ],
             [
              0.3333333333333333,
              "#9c179e"
             ],
             [
              0.4444444444444444,
              "#bd3786"
             ],
             [
              0.5555555555555556,
              "#d8576b"
             ],
             [
              0.6666666666666666,
              "#ed7953"
             ],
             [
              0.7777777777777778,
              "#fb9f3a"
             ],
             [
              0.8888888888888888,
              "#fdca26"
             ],
             [
              1,
              "#f0f921"
             ]
            ],
            "type": "heatmapgl"
           }
          ],
          "histogram": [
           {
            "marker": {
             "colorbar": {
              "outlinewidth": 0,
              "ticks": ""
             }
            },
            "type": "histogram"
           }
          ],
          "histogram2d": [
           {
            "colorbar": {
             "outlinewidth": 0,
             "ticks": ""
            },
            "colorscale": [
             [
              0,
              "#0d0887"
             ],
             [
              0.1111111111111111,
              "#46039f"
             ],
             [
              0.2222222222222222,
              "#7201a8"
             ],
             [
              0.3333333333333333,
              "#9c179e"
             ],
             [
              0.4444444444444444,
              "#bd3786"
             ],
             [
              0.5555555555555556,
              "#d8576b"
             ],
             [
              0.6666666666666666,
              "#ed7953"
             ],
             [
              0.7777777777777778,
              "#fb9f3a"
             ],
             [
              0.8888888888888888,
              "#fdca26"
             ],
             [
              1,
              "#f0f921"
             ]
            ],
            "type": "histogram2d"
           }
          ],
          "histogram2dcontour": [
           {
            "colorbar": {
             "outlinewidth": 0,
             "ticks": ""
            },
            "colorscale": [
             [
              0,
              "#0d0887"
             ],
             [
              0.1111111111111111,
              "#46039f"
             ],
             [
              0.2222222222222222,
              "#7201a8"
             ],
             [
              0.3333333333333333,
              "#9c179e"
             ],
             [
              0.4444444444444444,
              "#bd3786"
             ],
             [
              0.5555555555555556,
              "#d8576b"
             ],
             [
              0.6666666666666666,
              "#ed7953"
             ],
             [
              0.7777777777777778,
              "#fb9f3a"
             ],
             [
              0.8888888888888888,
              "#fdca26"
             ],
             [
              1,
              "#f0f921"
             ]
            ],
            "type": "histogram2dcontour"
           }
          ],
          "mesh3d": [
           {
            "colorbar": {
             "outlinewidth": 0,
             "ticks": ""
            },
            "type": "mesh3d"
           }
          ],
          "parcoords": [
           {
            "line": {
             "colorbar": {
              "outlinewidth": 0,
              "ticks": ""
             }
            },
            "type": "parcoords"
           }
          ],
          "pie": [
           {
            "automargin": true,
            "type": "pie"
           }
          ],
          "scatter": [
           {
            "marker": {
             "colorbar": {
              "outlinewidth": 0,
              "ticks": ""
             }
            },
            "type": "scatter"
           }
          ],
          "scatter3d": [
           {
            "line": {
             "colorbar": {
              "outlinewidth": 0,
              "ticks": ""
             }
            },
            "marker": {
             "colorbar": {
              "outlinewidth": 0,
              "ticks": ""
             }
            },
            "type": "scatter3d"
           }
          ],
          "scattercarpet": [
           {
            "marker": {
             "colorbar": {
              "outlinewidth": 0,
              "ticks": ""
             }
            },
            "type": "scattercarpet"
           }
          ],
          "scattergeo": [
           {
            "marker": {
             "colorbar": {
              "outlinewidth": 0,
              "ticks": ""
             }
            },
            "type": "scattergeo"
           }
          ],
          "scattergl": [
           {
            "marker": {
             "colorbar": {
              "outlinewidth": 0,
              "ticks": ""
             }
            },
            "type": "scattergl"
           }
          ],
          "scattermapbox": [
           {
            "marker": {
             "colorbar": {
              "outlinewidth": 0,
              "ticks": ""
             }
            },
            "type": "scattermapbox"
           }
          ],
          "scatterpolar": [
           {
            "marker": {
             "colorbar": {
              "outlinewidth": 0,
              "ticks": ""
             }
            },
            "type": "scatterpolar"
           }
          ],
          "scatterpolargl": [
           {
            "marker": {
             "colorbar": {
              "outlinewidth": 0,
              "ticks": ""
             }
            },
            "type": "scatterpolargl"
           }
          ],
          "scatterternary": [
           {
            "marker": {
             "colorbar": {
              "outlinewidth": 0,
              "ticks": ""
             }
            },
            "type": "scatterternary"
           }
          ],
          "surface": [
           {
            "colorbar": {
             "outlinewidth": 0,
             "ticks": ""
            },
            "colorscale": [
             [
              0,
              "#0d0887"
             ],
             [
              0.1111111111111111,
              "#46039f"
             ],
             [
              0.2222222222222222,
              "#7201a8"
             ],
             [
              0.3333333333333333,
              "#9c179e"
             ],
             [
              0.4444444444444444,
              "#bd3786"
             ],
             [
              0.5555555555555556,
              "#d8576b"
             ],
             [
              0.6666666666666666,
              "#ed7953"
             ],
             [
              0.7777777777777778,
              "#fb9f3a"
             ],
             [
              0.8888888888888888,
              "#fdca26"
             ],
             [
              1,
              "#f0f921"
             ]
            ],
            "type": "surface"
           }
          ],
          "table": [
           {
            "cells": {
             "fill": {
              "color": "#EBF0F8"
             },
             "line": {
              "color": "white"
             }
            },
            "header": {
             "fill": {
              "color": "#C8D4E3"
             },
             "line": {
              "color": "white"
             }
            },
            "type": "table"
           }
          ]
         },
         "layout": {
          "annotationdefaults": {
           "arrowcolor": "#2a3f5f",
           "arrowhead": 0,
           "arrowwidth": 1
          },
          "coloraxis": {
           "colorbar": {
            "outlinewidth": 0,
            "ticks": ""
           }
          },
          "colorscale": {
           "diverging": [
            [
             0,
             "#8e0152"
            ],
            [
             0.1,
             "#c51b7d"
            ],
            [
             0.2,
             "#de77ae"
            ],
            [
             0.3,
             "#f1b6da"
            ],
            [
             0.4,
             "#fde0ef"
            ],
            [
             0.5,
             "#f7f7f7"
            ],
            [
             0.6,
             "#e6f5d0"
            ],
            [
             0.7,
             "#b8e186"
            ],
            [
             0.8,
             "#7fbc41"
            ],
            [
             0.9,
             "#4d9221"
            ],
            [
             1,
             "#276419"
            ]
           ],
           "sequential": [
            [
             0,
             "#0d0887"
            ],
            [
             0.1111111111111111,
             "#46039f"
            ],
            [
             0.2222222222222222,
             "#7201a8"
            ],
            [
             0.3333333333333333,
             "#9c179e"
            ],
            [
             0.4444444444444444,
             "#bd3786"
            ],
            [
             0.5555555555555556,
             "#d8576b"
            ],
            [
             0.6666666666666666,
             "#ed7953"
            ],
            [
             0.7777777777777778,
             "#fb9f3a"
            ],
            [
             0.8888888888888888,
             "#fdca26"
            ],
            [
             1,
             "#f0f921"
            ]
           ],
           "sequentialminus": [
            [
             0,
             "#0d0887"
            ],
            [
             0.1111111111111111,
             "#46039f"
            ],
            [
             0.2222222222222222,
             "#7201a8"
            ],
            [
             0.3333333333333333,
             "#9c179e"
            ],
            [
             0.4444444444444444,
             "#bd3786"
            ],
            [
             0.5555555555555556,
             "#d8576b"
            ],
            [
             0.6666666666666666,
             "#ed7953"
            ],
            [
             0.7777777777777778,
             "#fb9f3a"
            ],
            [
             0.8888888888888888,
             "#fdca26"
            ],
            [
             1,
             "#f0f921"
            ]
           ]
          },
          "colorway": [
           "#636efa",
           "#EF553B",
           "#00cc96",
           "#ab63fa",
           "#FFA15A",
           "#19d3f3",
           "#FF6692",
           "#B6E880",
           "#FF97FF",
           "#FECB52"
          ],
          "font": {
           "color": "#2a3f5f"
          },
          "geo": {
           "bgcolor": "white",
           "lakecolor": "white",
           "landcolor": "#E5ECF6",
           "showlakes": true,
           "showland": true,
           "subunitcolor": "white"
          },
          "hoverlabel": {
           "align": "left"
          },
          "hovermode": "closest",
          "mapbox": {
           "style": "light"
          },
          "paper_bgcolor": "white",
          "plot_bgcolor": "#E5ECF6",
          "polar": {
           "angularaxis": {
            "gridcolor": "white",
            "linecolor": "white",
            "ticks": ""
           },
           "bgcolor": "#E5ECF6",
           "radialaxis": {
            "gridcolor": "white",
            "linecolor": "white",
            "ticks": ""
           }
          },
          "scene": {
           "xaxis": {
            "backgroundcolor": "#E5ECF6",
            "gridcolor": "white",
            "gridwidth": 2,
            "linecolor": "white",
            "showbackground": true,
            "ticks": "",
            "zerolinecolor": "white"
           },
           "yaxis": {
            "backgroundcolor": "#E5ECF6",
            "gridcolor": "white",
            "gridwidth": 2,
            "linecolor": "white",
            "showbackground": true,
            "ticks": "",
            "zerolinecolor": "white"
           },
           "zaxis": {
            "backgroundcolor": "#E5ECF6",
            "gridcolor": "white",
            "gridwidth": 2,
            "linecolor": "white",
            "showbackground": true,
            "ticks": "",
            "zerolinecolor": "white"
           }
          },
          "shapedefaults": {
           "line": {
            "color": "#2a3f5f"
           }
          },
          "ternary": {
           "aaxis": {
            "gridcolor": "white",
            "linecolor": "white",
            "ticks": ""
           },
           "baxis": {
            "gridcolor": "white",
            "linecolor": "white",
            "ticks": ""
           },
           "bgcolor": "#E5ECF6",
           "caxis": {
            "gridcolor": "white",
            "linecolor": "white",
            "ticks": ""
           }
          },
          "title": {
           "x": 0.05
          },
          "xaxis": {
           "automargin": true,
           "gridcolor": "white",
           "linecolor": "white",
           "ticks": "",
           "title": {
            "standoff": 15
           },
           "zerolinecolor": "white",
           "zerolinewidth": 2
          },
          "yaxis": {
           "automargin": true,
           "gridcolor": "white",
           "linecolor": "white",
           "ticks": "",
           "title": {
            "standoff": 15
           },
           "zerolinecolor": "white",
           "zerolinewidth": 2
          }
         }
        },
        "xaxis": {
         "anchor": "y",
         "domain": [
          0,
          0.45
         ]
        },
        "xaxis2": {
         "anchor": "y2",
         "domain": [
          0.55,
          1
         ]
        },
        "xaxis3": {
         "anchor": "y3",
         "domain": [
          0,
          1
         ]
        },
        "yaxis": {
         "anchor": "x",
         "domain": [
          0.625,
          1
         ]
        },
        "yaxis2": {
         "anchor": "x2",
         "domain": [
          0.625,
          1
         ]
        },
        "yaxis3": {
         "anchor": "x3",
         "domain": [
          0,
          0.375
         ]
        }
       }
      },
      "text/html": [
       "<div>\n",
       "        \n",
       "        \n",
       "            <div id=\"b51e0897-5825-409d-9e5b-2cd27db9f965\" class=\"plotly-graph-div\" style=\"height:525px; width:100%;\"></div>\n",
       "            <script type=\"text/javascript\">\n",
       "                require([\"plotly\"], function(Plotly) {\n",
       "                    window.PLOTLYENV=window.PLOTLYENV || {};\n",
       "                    \n",
       "                if (document.getElementById(\"b51e0897-5825-409d-9e5b-2cd27db9f965\")) {\n",
       "                    Plotly.newPlot(\n",
       "                        'b51e0897-5825-409d-9e5b-2cd27db9f965',\n",
       "                        [{\"marker\": {\"color\": \"blue\"}, \"name\": \"Training path\", \"type\": \"scatter\", \"x\": [-0.0, -0.2, -0.25, -0.27, -0.8, -1.25, -2.53, -2.69, -2.02, -0.82, 0.45, 1.77, 3.1, 4.4, 5.73, 7.06, 8.38, 9.71, 11.1, 12.4, 13.67, 14.95, 16.23, 17.53, 18.82, 20.1, 21.42, 22.73, 24.02, 25.29, 26.51, 27.5, 26.32, 24.94, 23.55, 22.16, 20.8, 19.45, 18.11, 16.76, 13.95, 12.54, 11.15, 9.76, 8.37, 7.0, 5.63, 4.26, 2.95, 1.56, 0.21, -1.12, -2.39, -3.48, -2.14, -0.74, 0.64, 2.04, 3.48, 4.91, 6.31, 7.7, 9.08, 10.48, 11.88, 13.27, 14.67, 16.05, 17.4, 18.75, 20.11, 21.46, 22.79, 24.13, 25.53, 26.82, 27.7, 26.38, 25.0, 23.58, 22.17, 20.72, 19.26, 17.81, 16.36, 14.92, 13.48, 12.07, 10.67, 9.23, 7.78, 6.34, 4.9, 3.45, 1.99, 0.58, -0.82, -2.2, -2.82, -2.96, -1.69, -1.06, -0.89, 0.11, 0.04, 0.07, -0.11, -0.0, -0.2, -0.25], \"xaxis\": \"x\", \"y\": [0.0, -0.01, 0.32, 1.14, 2.06, 3.3, 3.69, 3.96, 5.03, 5.55, 5.67, 5.71, 5.69, 5.71, 5.77, 5.81, 5.86, 5.99, 6.09, 6.24, 6.43, 6.53, 6.51, 6.47, 6.53, 6.61, 6.68, 6.82, 6.87, 6.93, 6.88, 6.95, 6.94, 6.85, 6.88, 6.8, 6.71, 6.6, 6.55, 6.5, 6.45, 6.37, 6.27, 6.24, 6.27, 6.25, 6.26, 6.25, 6.05, 6.0, 6.01, 5.93, 5.95, 5.72, 5.75, 5.87, 5.85, 5.85, 5.87, 5.95, 6.04, 6.08, 6.1, 6.15, 6.2, 6.23, 6.3, 6.33, 6.4, 6.37, 6.4, 6.28, 6.24, 6.18, 6.32, 6.42, 6.53, 6.52, 6.46, 6.47, 6.51, 6.42, 6.37, 6.33, 6.33, 6.35, 6.41, 6.51, 6.59, 6.5, 6.42, 6.38, 6.24, 6.24, 6.21, 6.21, 6.25, 6.15, 5.3, 4.41, 4.09, 3.29, 2.17, 1.76, 1.74, 1.82, 1.47, 0.0, -0.01, 0.32], \"yaxis\": \"y\"}, {\"marker\": {\"color\": \"red\"}, \"name\": \"Testing Score\", \"type\": \"scatter\", \"x\": [-2.03, -2.97, -2.74, -1.95, -0.67, 0.68, 1.99, 3.33, 4.64, 5.87, 6.6, 6.73, 6.71, 6.72, 6.72, 6.43, 6.1, 6.08, 6.25, 6.6, 6.96, 7.89, 9.19, 10.55, 11.88, 13.24, 14.58, 15.92, 17.27, 18.6, 19.93, 21.23, 22.58, 23.84, 25.0, 25.99, 24.81, 23.43, 22.07, 20.72, 19.32, 17.92, 16.51, 15.12, 13.73, 12.35, 11.01, 9.68, 8.32, 7.0, 5.66, 4.28, 2.95, 1.6, 0.25, -1.09, -2.34, -2.86, -3.31, -2.38, -1.33, -1.23, -1.4, -1.22, -1.0, -1.15, -1.18, -2.36, -3.41, -3.95, -3.95, -3.96, -3.8, -3.78, -3.79, -3.6, -3.16, -2.83, -2.55, -1.85, -0.62, 0.64, 1.98, 3.29, 4.56, 5.78, 6.59, 6.69, 6.45, 6.21, 5.98, 5.82, 6.04, 6.12, 6.21, 6.43, 6.82, 7.58, 8.79, 10.08, 11.46, 12.78, 14.11, 15.43, 16.73, 18.06, 19.38, 20.68, 21.93, 23.18, 24.45, 25.76, 26.75, 25.5, 24.17, 22.88, 21.52, 20.19, 18.82, 17.48, 16.09, 14.74, 13.36, 12.03, 10.68, 9.34, 7.97, 6.61, 5.24, 3.86, 2.46, 1.05, -0.34, -1.67, -2.61, -3.07, -2.29, -1.2, -1.3, -1.42, -1.24, -1.16, -0.99, -1.04, 0.0, -0.06, -0.76, -1.03, -0.98, -2.03], \"xaxis\": \"x2\", \"y\": [3.5, 3.72, 3.86, 4.77, 4.95, 5.02, 5.13, 5.04, 5.04, 4.81, 3.85, 2.58, 1.26, -0.05, -1.35, -2.22, -1.44, -0.17, 1.12, 2.38, 3.69, 4.59, 4.9, 4.88, 4.88, 4.84, 4.71, 4.72, 4.78, 4.8, 4.82, 4.74, 4.81, 4.95, 4.75, 4.83, 4.95, 5.06, 5.16, 5.21, 5.29, 5.22, 5.28, 5.35, 5.42, 5.44, 5.41, 5.44, 5.41, 5.4, 5.58, 5.62, 5.69, 5.77, 5.85, 5.93, 5.98, 5.17, 4.47, 3.73, 3.46, 2.26, 1.17, 0.43, 1.29, 2.34, 3.61, 4.25, 3.46, 2.34, 1.11, -0.07, -0.82, 0.45, 1.79, 3.05, 4.12, 4.4, 4.67, 5.71, 5.92, 5.64, 5.5, 5.36, 5.1, 4.63, 3.79, 2.55, 1.35, 0.12, -1.11, -2.24, -2.0, -0.79, 0.48, 1.73, 2.95, 3.99, 4.48, 4.39, 4.27, 4.08, 4.06, 4.01, 3.7, 3.61, 3.56, 3.35, 3.05, 2.76, 2.51, 2.45, 2.8, 2.84, 2.97, 3.2, 3.4, 3.59, 3.82, 4.0, 4.21, 4.4, 4.52, 4.75, 4.88, 5.03, 5.23, 5.3, 5.62, 5.95, 6.17, 6.44, 6.58, 6.81, 6.31, 5.35, 4.55, 4.21, 3.11, 2.08, 1.66, 1.81, 1.86, 2.05, -0.0, -0.0, 0.75, 1.7, 2.82, 3.5], \"yaxis\": \"y2\"}, {\"marker\": {\"color\": \"blue\"}, \"name\": \"Training Score\", \"type\": \"scatter\", \"x\": [0, 1, 2, 3, 4, 5, 6, 7, 8, 9, 10, 11, 12, 13, 14, 15, 16, 17, 18, 19, 20, 21, 22, 23, 24, 25, 26, 27, 28, 29, 30, 31, 32, 33, 34, 35, 36, 37, 38, 39, 40, 41, 42, 43, 44, 45, 46, 47, 48, 49, 50, 51, 52, 53, 54, 55, 56, 57, 58, 59, 60, 61, 62, 63, 64, 65, 66, 67, 68, 69, 70, 71, 72, 73, 74, 75, 76, 77, 78, 79, 80, 81, 82, 83, 84, 85, 86, 87, 88, 89, 90, 91, 92, 93, 94, 95, 96, 97, 98, 99, 100, 101, 102, 103, 104, 105, 106, 107, 108, 109, 110, 111, 112, 113, 114, 115, 116, 117, 118, 119, 120, 121, 122, 123, 124, 125, 126, 127, 128, 129, 130, 131, 132, 133, 134, 135, 136, 137, 138, 139, 140, 141, 142, 143, 144, 145, 146, 147, 148, 149, 150, 151, 152, 153, 154, 155, 156, 157, 158, 159, 160, 161, 162, 163, 164, 165, 166, 167, 168, 169, 170, 171, 172, 173, 174, 175, 176, 177, 178, 179, 180, 181, 182, 183, 184, 185, 186, 187, 188, 189, 190, 191, 192, 193, 194, 195, 196, 197, 198, 199, 200, 201, 202, 203, 204, 205, 206, 207, 208, 209, 210, 211, 212, 213, 214, 215, 216, 217, 218, 219, 220, 221, 222, 223, 224, 225, 226, 227, 228, 229, 230, 231, 232, 233, 234, 235, 236, 237, 238, 239, 240, 241, 242, 243, 244, 245, 246, 247, 248, 249, 250, 251, 252, 253, 254, 255, 256, 257], \"xaxis\": \"x3\", \"y\": [0.30667290187225704, 0.297564180215502, 0.2949088190326559, 0.3031929373623495, 0.29208003939764254, 0.2877787469704847, 0.29566816933143414, 0.2827797140726234, 0.2769119768154672, 0.2843616262793976, 0.26980393735563696, 0.26253691197375706, 0.2670798225618547, 0.24574070095409015, 0.2379399083354743, 0.24254435774444266, 0.21976207916513713, 0.21205314801221614, 0.21709963669586643, 0.1939384721569692, 0.18727329231231174, 0.19310994825808603, 0.17005575101277914, 0.1660375167806904, 0.1734067696528262, 0.15078987848891162, 0.15141083060114757, 0.1608002217070909, 0.14169284025456713, 0.14843542388119152, 0.15989005244389368, 0.14645052432713518, 0.15907694680059267, 0.17194244958861973, 0.16460611839903827, 0.18138790170975183, 0.19457200366827973, 0.19212115725521672, 0.2112470093566194, 0.22421178118292107, 0.22513569186458116, 0.24529132381402194, 0.25783789982280914, 0.2609152631167131, 0.2766904894518145, 0.28773363694500503, 0.29273870516314937, 0.3079780325429308, 0.31973376792233676, 0.32566845066878736, 0.33988949640797, 0.3519614013685511, 0.3582229804292336, 0.3708911128862721, 0.38300087652963327, 0.3892566261447503, 0.399940257035683, 0.41189475693828276, 0.417735450839695, 0.4262301404182431, 0.43784394735455984, 0.4431200464719259, 0.4492949417744871, 0.4632780179486866, 0.4645473639528214, 0.46839124950929295, 0.48139742332551566, 0.4820037689254985, 0.48357982963670415, 0.49562749890048174, 0.4957173666779537, 0.48295448452185585, 0.4863056022295317, 0.4868476016843517, 0.4735445336070466, 0.47754227284324535, 0.4782986321852164, 0.4646193633823674, 0.4691180916521024, 0.4701140894566356, 0.45611009015376147, 0.4601198868613603, 0.46129257440170973, 0.4478368825071515, 0.45252843845018387, 0.45387214665446846, 0.4411595496250921, 0.4466132426230548, 0.4481080363819153, 0.43601930346815404, 0.4437125272816373, 0.44544872540199565, 0.43386279350719853, 0.4426710957191283, 0.44468984462050315, 0.4335525855244683, 0.4430625752085708, 0.44534601949715186, 0.4345893339073988, 0.44447504193724247, 0.44698833201689747, 0.4366683752540278, 0.4467801492709804, 0.449490430676049, 0.4395076077418563, 0.4495432822980228, 0.4525427809798055, 0.44279391123734047, 0.4525546057257401, 0.4557616475058927, 0.4461741750351987, 0.455463807510142, 0.45879605074396995, 0.4493118853229075, 0.4579426745222258, 0.46124726342778505, 0.45183293385878415, 0.45965270161579325, 0.46282745166222533, 0.45581525036009635, 0.45732752600060017, 0.46064628174957006, 0.4536015308734411, 0.454786336839903, 0.45824274717362334, 0.44792867338634806, 0.4335411609327072, 0.436800994716016, 0.42660875504438656, 0.4115092294012418, 0.4145761499725412, 0.40468298067662567, 0.38901851083279515, 0.3919166090501474, 0.38249968719784394, 0.3661432853635565, 0.3688605056902126, 0.36018333603980063, 0.3433882015012891, 0.3459769403577667, 0.3383621062024204, 0.3214964075960647, 0.32402198774967794, 0.31790065852725397, 0.30137956877817723, 0.303933748105462, 0.3000214655575054, 0.2843271977959827, 0.2870034984696662, 0.28588969622651556, 0.27181531404947, 0.2748466255026954, 0.2769875406809568, 0.2653305448915502, 0.2687461657713907, 0.27557582889361054, 0.26656580311148714, 0.2702886769758918, 0.27941143256764794, 0.2736109756979296, 0.2776177344262156, 0.28847150931250043, 0.2860397814001384, 0.2902824046882952, 0.30015809899616447, 0.30169112886873783, 0.3061896908238155, 0.3160967029133293, 0.32077984441866414, 0.3254797799712165, 0.3353202002431437, 0.3425183970007896, 0.34735227759827286, 0.3568626306824997, 0.3659688045190783, 0.370845957949843, 0.3800734305060223, 0.3906103288438743, 0.39546619748514955, 0.40105896394413404, 0.4174711830313478, 0.42168447721890223, 0.42557073632325254, 0.44171192495792455, 0.4452435178807317, 0.4472887316299559, 0.4629390369465846, 0.4656342738087197, 0.46572947169546736, 0.4807307688904091, 0.4827085709160809, 0.4808641138361259, 0.4950556526077799, 0.49637465002760284, 0.4926251461304371, 0.5058564112228308, 0.5066081396807371, 0.5010347198078765, 0.5132117478895764, 0.5135165998092556, 0.5024329189251365, 0.5046920431415867, 0.5049841664494822, 0.49299750376600276, 0.49570549584990997, 0.4960870743333352, 0.4833603400846449, 0.48668339470616845, 0.48722152612991027, 0.4739438164408946, 0.4779080493689978, 0.4786566191683333, 0.46499052313910105, 0.469451825839742, 0.47043680709160013, 0.4564262335286097, 0.46039615742800694, 0.46155562833210095, 0.44808329249932066, 0.45272600625969045, 0.4540551439975346, 0.4413230793134668, 0.4463985068101043, 0.447855881623156, 0.4361290232939008, 0.4415049265766258, 0.443016141564125, 0.43254926621240314, 0.4380217248490662, 0.4395120623170157, 0.4330631001107571, 0.42873099903755124, 0.42946832634124427, 0.4257908367574221, 0.4212651326502056, 0.4210210954311534, 0.419996073786345, 0.41548794963288566, 0.41409156515526613, 0.4155493039514127, 0.41086198814129077, 0.4082675457838121, 0.41195859401456225, 0.4071408229642413, 0.40321226006838107, 0.4089354967761806, 0.4039391626878385, 0.39858182631681693], \"yaxis\": \"y3\"}, {\"marker\": {\"color\": \"red\"}, \"name\": \"Testing Score\", \"type\": \"scatter\", \"x\": [0, 1, 2, 3, 4, 5, 6, 7, 8, 9, 10, 11, 12, 13, 14, 15, 16, 17, 18, 19, 20, 21, 22, 23, 24, 25, 26, 27, 28, 29, 30, 31, 32, 33, 34, 35, 36, 37, 38, 39, 40, 41, 42, 43, 44, 45, 46, 47, 48, 49, 50, 51, 52, 53, 54, 55, 56, 57, 58, 59, 60, 61, 62, 63, 64, 65, 66, 67, 68, 69, 70, 71, 72, 73, 74, 75, 76, 77, 78, 79, 80, 81, 82, 83, 84, 85, 86, 87, 88, 89, 90, 91, 92, 93, 94, 95, 96, 97, 98, 99, 100, 101, 102, 103, 104, 105, 106, 107, 108, 109, 110, 111, 112, 113, 114, 115, 116, 117, 118, 119, 120, 121, 122, 123, 124, 125, 126, 127, 128, 129, 130, 131, 132, 133, 134, 135, 136, 137, 138, 139, 140, 141, 142, 143, 144, 145, 146, 147, 148, 149, 150, 151, 152, 153, 154, 155, 156, 157, 158, 159, 160, 161, 162, 163, 164, 165, 166, 167, 168, 169, 170, 171, 172, 173, 174, 175, 176, 177, 178, 179, 180, 181, 182, 183, 184, 185, 186, 187, 188, 189, 190, 191, 192, 193, 194, 195, 196, 197, 198, 199, 200, 201, 202, 203, 204, 205, 206, 207, 208, 209, 210, 211, 212, 213, 214, 215, 216, 217, 218, 219, 220, 221, 222, 223, 224, 225, 226, 227, 228, 229, 230, 231, 232, 233, 234, 235, 236, 237, 238, 239, 240, 241, 242, 243, 244, 245, 246, 247, 248, 249, 250, 251, 252, 253, 254, 255, 256, 257, 258, 259, 260, 261, 262, 263, 264, 265, 266, 267, 268, 269, 270, 271, 272, 273, 274, 275, 276, 277, 278, 279, 280, 281, 282, 283, 284, 285, 286, 287, 288, 289, 290, 291, 292, 293, 294, 295, 296, 297, 298, 299, 300, 301, 302, 303, 304, 305, 306, 307, 308, 309, 310, 311, 312, 313, 314, 315, 316, 317, 318, 319, 320, 321, 322, 323, 324, 325, 326, 327, 328, 329, 330, 331, 332, 333, 334, 335, 336, 337, 338, 339, 340, 341, 342, 343, 344, 345, 346, 347, 348, 349, 350, 351, 352, 353, 354, 355, 356, 357, 358, 359, 360, 361, 362, 363, 364, 365, 366, 367, 368, 369, 370, 371, 372, 373, 374, 375, 376, 377], \"xaxis\": \"x3\", \"y\": [0.39786095118043024, 0.40046071512941933, 0.3967623311015712, 0.3928350707404809, 0.3939651069320067, 0.393498685706798, 0.38768440341404475, 0.38797648766550963, 0.38811582310736403, 0.38031439544107626, 0.37976746109708936, 0.3798805564988744, 0.36993971477690535, 0.36857580765495557, 0.3689120210345033, 0.35661105987330827, 0.3546343790090543, 0.3547396994192882, 0.3389594514701715, 0.33672191035722016, 0.33718417870644013, 0.3182150074235527, 0.3162385377299152, 0.31747219986163905, 0.2966390509704978, 0.29571638804585315, 0.29850770688130635, 0.27664855015221673, 0.2778775947633543, 0.2821683101025513, 0.2599996858654089, 0.2646067852760803, 0.2722905362525915, 0.24685261648643847, 0.25603208279213985, 0.26606960492049575, 0.24392547749230256, 0.25789950554730967, 0.26971809855269785, 0.2521785691487208, 0.27031179806597466, 0.2831772805757538, 0.2706637180069731, 0.2920174200622805, 0.3056625119857023, 0.2977706520477102, 0.32090718988091704, 0.3347037593457252, 0.33062150824117137, 0.35458006902967576, 0.36842186764378765, 0.36719771134108486, 0.3911366863516017, 0.40483499182011473, 0.4056250210745551, 0.42885743121622005, 0.4422721853183246, 0.444391937099655, 0.4664546158369856, 0.47950730993615037, 0.4823945466495714, 0.5023864997242248, 0.5150639224859093, 0.518190332274893, 0.5341531936638325, 0.5470999336576311, 0.5501223060722048, 0.562522244209501, 0.5762685252121331, 0.5788672000473919, 0.5876833369472768, 0.6024329503147902, 0.6042661903587542, 0.6096651472299709, 0.6250762474747568, 0.6257796216622374, 0.6159275006537526, 0.6264834231970158, 0.6253156794425664, 0.6107942601231668, 0.6157471423004893, 0.6142136783676967, 0.59757738705603, 0.6002901031124526, 0.5985071925698449, 0.5803892359549165, 0.5815037503502895, 0.579524573775937, 0.560096739465478, 0.5594455512565766, 0.557338932528381, 0.5369289256353998, 0.5339371976483307, 0.5317249525247432, 0.5109197732241293, 0.5060689482001643, 0.5037565962247224, 0.48314485802462276, 0.47713527378987747, 0.4747084829868289, 0.4544879399713995, 0.4469447647127361, 0.4443919533950761, 0.42518489559273165, 0.4173449003111813, 0.41464066349038614, 0.3966424615073919, 0.38867591218237874, 0.38578547776769484, 0.36942284498865213, 0.36159283277205895, 0.35846033914126646, 0.34408432653539567, 0.33656955095651964, 0.33314282031199444, 0.32101672749465193, 0.3139084443406528, 0.31017078306149787, 0.3002305161539106, 0.29351081938518114, 0.2894268507781539, 0.2818122862451355, 0.2753546138555497, 0.27089334504812507, 0.26540067554097124, 0.2591241980182616, 0.2542823855067448, 0.2507505799236942, 0.24454262578536157, 0.23928691725133117, 0.23753182834555925, 0.23118391201941443, 0.22549495796444702, 0.22527403584845512, 0.21860636184646262, 0.2124594650206625, 0.21364493854052782, 0.2060512951950454, 0.19945795383753046, 0.20212789803720316, 0.19108666986812856, 0.18427217385321223, 0.1876933815230907, 0.17484134322418332, 0.1679694428259803, 0.1718830428442835, 0.15810513706310095, 0.15132070920485352, 0.1555530263538709, 0.14190045582571428, 0.13530751802292318, 0.14010361321185216, 0.13030597556997237, 0.12383383178246157, 0.12882477524081634, 0.12068602647907166, 0.11433933469400145, 0.11945887353925763, 0.11232063055482719, 0.10612032677204258, 0.11137997818304257, 0.1053427233054489, 0.0993008802057923, 0.10471355085044265, 0.09984726516854135, 0.0939628991191783, 0.09907470363685955, 0.09717137808768861, 0.09150878070944381, 0.09651883857961477, 0.09627495758872194, 0.090868067866239, 0.0953414907419917, 0.09681461848380708, 0.09180248909787962, 0.09534432483390343, 0.09974450543811336, 0.09534843490641717, 0.09851414787040838, 0.10402365406728425, 0.10035155078255832, 0.10318577781240673, 0.1097301050772314, 0.10685987384641707, 0.10920484289483777, 0.11707092882668678, 0.11508466990127751, 0.11433497356641119, 0.12854795156801122, 0.12801892270908624, 0.12743676219060157, 0.14269291088894875, 0.14350556917015322, 0.14297561113999713, 0.15897128011821388, 0.16100665584273466, 0.16039343289225932, 0.177063332914751, 0.18020642648305776, 0.17946616694687384, 0.1966781844450722, 0.20078790217873674, 0.19989782688072938, 0.2175038074899684, 0.22247820031129262, 0.22142028096186428, 0.23929989821997336, 0.24503892875569452, 0.2438287585438638, 0.26187558126538224, 0.26827627353083455, 0.2669325992418943, 0.285013403188581, 0.29184468096062255, 0.2904211639424321, 0.3083727791768847, 0.3155336039918483, 0.3140323353862547, 0.33168459636126535, 0.33907710338658686, 0.33749065298111086, 0.3542282141333388, 0.3617404121040382, 0.3594905026237582, 0.37455193517344815, 0.3820988109520772, 0.3787471895827311, 0.39105399449728473, 0.3985310207477919, 0.3938320958597577, 0.4020353187340042, 0.40933772033555427, 0.4026754670957171, 0.4039702644045051, 0.41096711327501406, 0.40383612197963786, 0.40193823472657764, 0.4085658520540775, 0.4014611788577171, 0.39727704954517246, 0.40347769805397515, 0.3962948277633807, 0.38946575341773043, 0.39521990635203674, 0.38844451636601823, 0.3793958215020589, 0.384703691339606, 0.3784887361837943, 0.367404792776242, 0.3723467117820626, 0.3667230257444342, 0.35393293183235663, 0.3586088206870855, 0.3544216842612923, 0.34085947856596194, 0.34534359594877795, 0.34290124231551805, 0.32837579737323236, 0.33276376941676533, 0.3323432133488272, 0.31715823270656546, 0.3215458444174332, 0.32107944527960325, 0.30506503845254596, 0.3097493428426187, 0.31376339932422, 0.30264261103550866, 0.30769892010871625, 0.31637681184581995, 0.31218032693525244, 0.31757836675271384, 0.3298856786753267, 0.3347591632334614, 0.34026205912866514, 0.3547425517256283, 0.3651663111872014, 0.37059215659667283, 0.3861032008085658, 0.4003676837865464, 0.4055771822449925, 0.42137083655008806, 0.4380504540262723, 0.4429673494819273, 0.45842189782507214, 0.4767098561687469, 0.48125346710806166, 0.4958673137046815, 0.5150675017091776, 0.5191453165217093, 0.5323406651171085, 0.5519777617198839, 0.555483846568849, 0.5669904905803383, 0.5864587032889702, 0.5892956542855199, 0.598519982857798, 0.6172796768593226, 0.6193954811181839, 0.6239434722618075, 0.6421336814069489, 0.6433730624544115, 0.643291498496294, 0.6595120126524203, 0.6598601482339119, 0.6550994208285786, 0.6683765067364285, 0.6679111834306924, 0.6582142122710747, 0.6667504891270826, 0.6656984351555285, 0.6514029338766198, 0.6563536122395756, 0.6548737289496265, 0.6382861610335308, 0.6413363051105614, 0.6395364295456117, 0.6213094549450325, 0.6228496993006779, 0.6208159580251797, 0.6011341835034525, 0.6011024765257286, 0.5988792589756884, 0.577905035096777, 0.5759444478099948, 0.5735417777663373, 0.5516114079878899, 0.5472128605196027, 0.5446574524387087, 0.5226447753685334, 0.516971102284505, 0.5142936726839786, 0.4923757469176015, 0.4854153902382381, 0.4826827166836495, 0.4609716602583494, 0.4520383418400643, 0.4492723148216426, 0.4277074992810999, 0.417187130001287, 0.4143877442898017, 0.3945663777295715, 0.3846215033861719, 0.38168331533781574, 0.3642394230060576, 0.3553791324817939, 0.35217285460125414, 0.33817245890674524, 0.33056369049455786, 0.327033276155959, 0.3156109961630933, 0.3084663547441525, 0.3046177437945179, 0.2954826174668347, 0.28856126172607416, 0.2843762589128177, 0.27721644605097545, 0.2705306085281528, 0.26597914536413186, 0.260738980488912, 0.2542590311234411, 0.24934229162869964, 0.24604262044909997, 0.23931716219671953, 0.23397409025399388, 0.23248853538612568, 0.22559217504464726, 0.21980045604196358, 0.21970958237794408, 0.2129776998021927, 0.20672864918602676, 0.20802779066800234, 0.20048060758915062, 0.1937862309448778, 0.19655530753742945, 0.1855707713709358, 0.17866473702187258, 0.18214426704432307, 0.16942564899978765], \"yaxis\": \"y3\"}],\n",
       "                        {\"annotations\": [{\"font\": {\"size\": 16}, \"showarrow\": false, \"text\": \"Training plot\", \"x\": 0.225, \"xanchor\": \"center\", \"xref\": \"paper\", \"y\": 1.0, \"yanchor\": \"bottom\", \"yref\": \"paper\"}, {\"font\": {\"size\": 16}, \"showarrow\": false, \"text\": \"Testing plot\", \"x\": 0.775, \"xanchor\": \"center\", \"xref\": \"paper\", \"y\": 1.0, \"yanchor\": \"bottom\", \"yref\": \"paper\"}, {\"font\": {\"size\": 16}, \"showarrow\": false, \"text\": \"Anomaly score by Diffusion Map\", \"x\": 0.5, \"xanchor\": \"center\", \"xref\": \"paper\", \"y\": 0.375, \"yanchor\": \"bottom\", \"yref\": \"paper\"}], \"showlegend\": false, \"template\": {\"data\": {\"bar\": [{\"error_x\": {\"color\": \"#2a3f5f\"}, \"error_y\": {\"color\": \"#2a3f5f\"}, \"marker\": {\"line\": {\"color\": \"#E5ECF6\", \"width\": 0.5}}, \"type\": \"bar\"}], \"barpolar\": [{\"marker\": {\"line\": {\"color\": \"#E5ECF6\", \"width\": 0.5}}, \"type\": \"barpolar\"}], \"carpet\": [{\"aaxis\": {\"endlinecolor\": \"#2a3f5f\", \"gridcolor\": \"white\", \"linecolor\": \"white\", \"minorgridcolor\": \"white\", \"startlinecolor\": \"#2a3f5f\"}, \"baxis\": {\"endlinecolor\": \"#2a3f5f\", \"gridcolor\": \"white\", \"linecolor\": \"white\", \"minorgridcolor\": \"white\", \"startlinecolor\": \"#2a3f5f\"}, \"type\": \"carpet\"}], \"choropleth\": [{\"colorbar\": {\"outlinewidth\": 0, \"ticks\": \"\"}, \"type\": \"choropleth\"}], \"contour\": [{\"colorbar\": {\"outlinewidth\": 0, \"ticks\": \"\"}, \"colorscale\": [[0.0, \"#0d0887\"], [0.1111111111111111, \"#46039f\"], [0.2222222222222222, \"#7201a8\"], [0.3333333333333333, \"#9c179e\"], [0.4444444444444444, \"#bd3786\"], [0.5555555555555556, \"#d8576b\"], [0.6666666666666666, \"#ed7953\"], [0.7777777777777778, \"#fb9f3a\"], [0.8888888888888888, \"#fdca26\"], [1.0, \"#f0f921\"]], \"type\": \"contour\"}], \"contourcarpet\": [{\"colorbar\": {\"outlinewidth\": 0, \"ticks\": \"\"}, \"type\": \"contourcarpet\"}], \"heatmap\": [{\"colorbar\": {\"outlinewidth\": 0, \"ticks\": \"\"}, \"colorscale\": [[0.0, \"#0d0887\"], [0.1111111111111111, \"#46039f\"], [0.2222222222222222, \"#7201a8\"], [0.3333333333333333, \"#9c179e\"], [0.4444444444444444, \"#bd3786\"], [0.5555555555555556, \"#d8576b\"], [0.6666666666666666, \"#ed7953\"], [0.7777777777777778, \"#fb9f3a\"], [0.8888888888888888, \"#fdca26\"], [1.0, \"#f0f921\"]], \"type\": \"heatmap\"}], \"heatmapgl\": [{\"colorbar\": {\"outlinewidth\": 0, \"ticks\": \"\"}, \"colorscale\": [[0.0, \"#0d0887\"], [0.1111111111111111, \"#46039f\"], [0.2222222222222222, \"#7201a8\"], [0.3333333333333333, \"#9c179e\"], [0.4444444444444444, \"#bd3786\"], [0.5555555555555556, \"#d8576b\"], [0.6666666666666666, \"#ed7953\"], [0.7777777777777778, \"#fb9f3a\"], [0.8888888888888888, \"#fdca26\"], [1.0, \"#f0f921\"]], \"type\": \"heatmapgl\"}], \"histogram\": [{\"marker\": {\"colorbar\": {\"outlinewidth\": 0, \"ticks\": \"\"}}, \"type\": \"histogram\"}], \"histogram2d\": [{\"colorbar\": {\"outlinewidth\": 0, \"ticks\": \"\"}, \"colorscale\": [[0.0, \"#0d0887\"], [0.1111111111111111, \"#46039f\"], [0.2222222222222222, \"#7201a8\"], [0.3333333333333333, \"#9c179e\"], [0.4444444444444444, \"#bd3786\"], [0.5555555555555556, \"#d8576b\"], [0.6666666666666666, \"#ed7953\"], [0.7777777777777778, \"#fb9f3a\"], [0.8888888888888888, \"#fdca26\"], [1.0, \"#f0f921\"]], \"type\": \"histogram2d\"}], \"histogram2dcontour\": [{\"colorbar\": {\"outlinewidth\": 0, \"ticks\": \"\"}, \"colorscale\": [[0.0, \"#0d0887\"], [0.1111111111111111, \"#46039f\"], [0.2222222222222222, \"#7201a8\"], [0.3333333333333333, \"#9c179e\"], [0.4444444444444444, \"#bd3786\"], [0.5555555555555556, \"#d8576b\"], [0.6666666666666666, \"#ed7953\"], [0.7777777777777778, \"#fb9f3a\"], [0.8888888888888888, \"#fdca26\"], [1.0, \"#f0f921\"]], \"type\": \"histogram2dcontour\"}], \"mesh3d\": [{\"colorbar\": {\"outlinewidth\": 0, \"ticks\": \"\"}, \"type\": \"mesh3d\"}], \"parcoords\": [{\"line\": {\"colorbar\": {\"outlinewidth\": 0, \"ticks\": \"\"}}, \"type\": \"parcoords\"}], \"pie\": [{\"automargin\": true, \"type\": \"pie\"}], \"scatter\": [{\"marker\": {\"colorbar\": {\"outlinewidth\": 0, \"ticks\": \"\"}}, \"type\": \"scatter\"}], \"scatter3d\": [{\"line\": {\"colorbar\": {\"outlinewidth\": 0, \"ticks\": \"\"}}, \"marker\": {\"colorbar\": {\"outlinewidth\": 0, \"ticks\": \"\"}}, \"type\": \"scatter3d\"}], \"scattercarpet\": [{\"marker\": {\"colorbar\": {\"outlinewidth\": 0, \"ticks\": \"\"}}, \"type\": \"scattercarpet\"}], \"scattergeo\": [{\"marker\": {\"colorbar\": {\"outlinewidth\": 0, \"ticks\": \"\"}}, \"type\": \"scattergeo\"}], \"scattergl\": [{\"marker\": {\"colorbar\": {\"outlinewidth\": 0, \"ticks\": \"\"}}, \"type\": \"scattergl\"}], \"scattermapbox\": [{\"marker\": {\"colorbar\": {\"outlinewidth\": 0, \"ticks\": \"\"}}, \"type\": \"scattermapbox\"}], \"scatterpolar\": [{\"marker\": {\"colorbar\": {\"outlinewidth\": 0, \"ticks\": \"\"}}, \"type\": \"scatterpolar\"}], \"scatterpolargl\": [{\"marker\": {\"colorbar\": {\"outlinewidth\": 0, \"ticks\": \"\"}}, \"type\": \"scatterpolargl\"}], \"scatterternary\": [{\"marker\": {\"colorbar\": {\"outlinewidth\": 0, \"ticks\": \"\"}}, \"type\": \"scatterternary\"}], \"surface\": [{\"colorbar\": {\"outlinewidth\": 0, \"ticks\": \"\"}, \"colorscale\": [[0.0, \"#0d0887\"], [0.1111111111111111, \"#46039f\"], [0.2222222222222222, \"#7201a8\"], [0.3333333333333333, \"#9c179e\"], [0.4444444444444444, \"#bd3786\"], [0.5555555555555556, \"#d8576b\"], [0.6666666666666666, \"#ed7953\"], [0.7777777777777778, \"#fb9f3a\"], [0.8888888888888888, \"#fdca26\"], [1.0, \"#f0f921\"]], \"type\": \"surface\"}], \"table\": [{\"cells\": {\"fill\": {\"color\": \"#EBF0F8\"}, \"line\": {\"color\": \"white\"}}, \"header\": {\"fill\": {\"color\": \"#C8D4E3\"}, \"line\": {\"color\": \"white\"}}, \"type\": \"table\"}]}, \"layout\": {\"annotationdefaults\": {\"arrowcolor\": \"#2a3f5f\", \"arrowhead\": 0, \"arrowwidth\": 1}, \"coloraxis\": {\"colorbar\": {\"outlinewidth\": 0, \"ticks\": \"\"}}, \"colorscale\": {\"diverging\": [[0, \"#8e0152\"], [0.1, \"#c51b7d\"], [0.2, \"#de77ae\"], [0.3, \"#f1b6da\"], [0.4, \"#fde0ef\"], [0.5, \"#f7f7f7\"], [0.6, \"#e6f5d0\"], [0.7, \"#b8e186\"], [0.8, \"#7fbc41\"], [0.9, \"#4d9221\"], [1, \"#276419\"]], \"sequential\": [[0.0, \"#0d0887\"], [0.1111111111111111, \"#46039f\"], [0.2222222222222222, \"#7201a8\"], [0.3333333333333333, \"#9c179e\"], [0.4444444444444444, \"#bd3786\"], [0.5555555555555556, \"#d8576b\"], [0.6666666666666666, \"#ed7953\"], [0.7777777777777778, \"#fb9f3a\"], [0.8888888888888888, \"#fdca26\"], [1.0, \"#f0f921\"]], \"sequentialminus\": [[0.0, \"#0d0887\"], [0.1111111111111111, \"#46039f\"], [0.2222222222222222, \"#7201a8\"], [0.3333333333333333, \"#9c179e\"], [0.4444444444444444, \"#bd3786\"], [0.5555555555555556, \"#d8576b\"], [0.6666666666666666, \"#ed7953\"], [0.7777777777777778, \"#fb9f3a\"], [0.8888888888888888, \"#fdca26\"], [1.0, \"#f0f921\"]]}, \"colorway\": [\"#636efa\", \"#EF553B\", \"#00cc96\", \"#ab63fa\", \"#FFA15A\", \"#19d3f3\", \"#FF6692\", \"#B6E880\", \"#FF97FF\", \"#FECB52\"], \"font\": {\"color\": \"#2a3f5f\"}, \"geo\": {\"bgcolor\": \"white\", \"lakecolor\": \"white\", \"landcolor\": \"#E5ECF6\", \"showlakes\": true, \"showland\": true, \"subunitcolor\": \"white\"}, \"hoverlabel\": {\"align\": \"left\"}, \"hovermode\": \"closest\", \"mapbox\": {\"style\": \"light\"}, \"paper_bgcolor\": \"white\", \"plot_bgcolor\": \"#E5ECF6\", \"polar\": {\"angularaxis\": {\"gridcolor\": \"white\", \"linecolor\": \"white\", \"ticks\": \"\"}, \"bgcolor\": \"#E5ECF6\", \"radialaxis\": {\"gridcolor\": \"white\", \"linecolor\": \"white\", \"ticks\": \"\"}}, \"scene\": {\"xaxis\": {\"backgroundcolor\": \"#E5ECF6\", \"gridcolor\": \"white\", \"gridwidth\": 2, \"linecolor\": \"white\", \"showbackground\": true, \"ticks\": \"\", \"zerolinecolor\": \"white\"}, \"yaxis\": {\"backgroundcolor\": \"#E5ECF6\", \"gridcolor\": \"white\", \"gridwidth\": 2, \"linecolor\": \"white\", \"showbackground\": true, \"ticks\": \"\", \"zerolinecolor\": \"white\"}, \"zaxis\": {\"backgroundcolor\": \"#E5ECF6\", \"gridcolor\": \"white\", \"gridwidth\": 2, \"linecolor\": \"white\", \"showbackground\": true, \"ticks\": \"\", \"zerolinecolor\": \"white\"}}, \"shapedefaults\": {\"line\": {\"color\": \"#2a3f5f\"}}, \"ternary\": {\"aaxis\": {\"gridcolor\": \"white\", \"linecolor\": \"white\", \"ticks\": \"\"}, \"baxis\": {\"gridcolor\": \"white\", \"linecolor\": \"white\", \"ticks\": \"\"}, \"bgcolor\": \"#E5ECF6\", \"caxis\": {\"gridcolor\": \"white\", \"linecolor\": \"white\", \"ticks\": \"\"}}, \"title\": {\"x\": 0.05}, \"xaxis\": {\"automargin\": true, \"gridcolor\": \"white\", \"linecolor\": \"white\", \"ticks\": \"\", \"title\": {\"standoff\": 15}, \"zerolinecolor\": \"white\", \"zerolinewidth\": 2}, \"yaxis\": {\"automargin\": true, \"gridcolor\": \"white\", \"linecolor\": \"white\", \"ticks\": \"\", \"title\": {\"standoff\": 15}, \"zerolinecolor\": \"white\", \"zerolinewidth\": 2}}}, \"xaxis\": {\"anchor\": \"y\", \"domain\": [0.0, 0.45]}, \"xaxis2\": {\"anchor\": \"y2\", \"domain\": [0.55, 1.0]}, \"xaxis3\": {\"anchor\": \"y3\", \"domain\": [0.0, 1.0]}, \"yaxis\": {\"anchor\": \"x\", \"domain\": [0.625, 1.0]}, \"yaxis2\": {\"anchor\": \"x2\", \"domain\": [0.625, 1.0]}, \"yaxis3\": {\"anchor\": \"x3\", \"domain\": [0.0, 0.375]}},\n",
       "                        {\"responsive\": true}\n",
       "                    ).then(function(){\n",
       "                            \n",
       "var gd = document.getElementById('b51e0897-5825-409d-9e5b-2cd27db9f965');\n",
       "var x = new MutationObserver(function (mutations, observer) {{\n",
       "        var display = window.getComputedStyle(gd).display;\n",
       "        if (!display || display === 'none') {{\n",
       "            console.log([gd, 'removed!']);\n",
       "            Plotly.purge(gd);\n",
       "            observer.disconnect();\n",
       "        }}\n",
       "}});\n",
       "\n",
       "// Listen for the removal of the full notebook cells\n",
       "var notebookContainer = gd.closest('#notebook-container');\n",
       "if (notebookContainer) {{\n",
       "    x.observe(notebookContainer, {childList: true});\n",
       "}}\n",
       "\n",
       "// Listen for the clearing of the current output cell\n",
       "var outputEl = gd.closest('.output');\n",
       "if (outputEl) {{\n",
       "    x.observe(outputEl, {childList: true});\n",
       "}}\n",
       "\n",
       "                        })\n",
       "                };\n",
       "                });\n",
       "            </script>\n",
       "        </div>"
      ]
     },
     "metadata": {},
     "output_type": "display_data"
    },
    {
     "data": {
      "text/html": [
       "<div>\n",
       "<style scoped>\n",
       "    .dataframe tbody tr th:only-of-type {\n",
       "        vertical-align: middle;\n",
       "    }\n",
       "\n",
       "    .dataframe tbody tr th {\n",
       "        vertical-align: top;\n",
       "    }\n",
       "\n",
       "    .dataframe thead th {\n",
       "        text-align: right;\n",
       "    }\n",
       "</style>\n",
       "<table border=\"1\" class=\"dataframe\">\n",
       "  <thead>\n",
       "    <tr style=\"text-align: right;\">\n",
       "      <th></th>\n",
       "      <th>Method</th>\n",
       "      <th>Training Max Score</th>\n",
       "      <th>Training Min Score</th>\n",
       "      <th>Testing Max Score</th>\n",
       "      <th>Testing Min Score</th>\n",
       "      <th>Time elapsed</th>\n",
       "    </tr>\n",
       "  </thead>\n",
       "  <tbody>\n",
       "    <tr>\n",
       "      <th>0</th>\n",
       "      <td>Diffusion Map</td>\n",
       "      <td>0.513517</td>\n",
       "      <td>0.141693</td>\n",
       "      <td>0.668377</td>\n",
       "      <td>0.090868</td>\n",
       "      <td>0.06</td>\n",
       "    </tr>\n",
       "  </tbody>\n",
       "</table>\n",
       "</div>"
      ],
      "text/plain": [
       "          Method  Training Max Score  Training Min Score  Testing Max Score  \\\n",
       "0  Diffusion Map            0.513517            0.141693           0.668377   \n",
       "\n",
       "   Testing Min Score  Time elapsed  \n",
       "0           0.090868          0.06  "
      ]
     },
     "execution_count": 11,
     "metadata": {},
     "output_type": "execute_result"
    }
   ],
   "source": [
    "result = run_algo(method_name='t-SNE')\n",
    "result"
   ]
  },
  {
   "cell_type": "code",
   "execution_count": 18,
   "metadata": {},
   "outputs": [],
   "source": [
    "cols = list(result.columns)"
   ]
  },
  {
   "cell_type": "code",
   "execution_count": 21,
   "metadata": {},
   "outputs": [],
   "source": [
    "cols=['Method',\n",
    " 'Training Max Score',\n",
    " 'Testing Max Score',\n",
    " 'Time elapsed']"
   ]
  },
  {
   "cell_type": "code",
   "execution_count": 26,
   "metadata": {},
   "outputs": [
    {
     "data": {
      "text/html": [
       "<div>\n",
       "<style scoped>\n",
       "    .dataframe tbody tr th:only-of-type {\n",
       "        vertical-align: middle;\n",
       "    }\n",
       "\n",
       "    .dataframe tbody tr th {\n",
       "        vertical-align: top;\n",
       "    }\n",
       "\n",
       "    .dataframe thead th {\n",
       "        text-align: right;\n",
       "    }\n",
       "</style>\n",
       "<table border=\"1\" class=\"dataframe\">\n",
       "  <thead>\n",
       "    <tr style=\"text-align: right;\">\n",
       "      <th></th>\n",
       "      <th>Method</th>\n",
       "      <th>Training Max Score</th>\n",
       "      <th>Testing Max Score</th>\n",
       "      <th>Time elapsed</th>\n",
       "    </tr>\n",
       "  </thead>\n",
       "  <tbody>\n",
       "    <tr>\n",
       "      <th>0</th>\n",
       "      <td>LLE</td>\n",
       "      <td>0.614756</td>\n",
       "      <td>0.552981</td>\n",
       "      <td>0.06</td>\n",
       "    </tr>\n",
       "    <tr>\n",
       "      <th>1</th>\n",
       "      <td>LTSA</td>\n",
       "      <td>0.510238</td>\n",
       "      <td>0.479564</td>\n",
       "      <td>0.06</td>\n",
       "    </tr>\n",
       "    <tr>\n",
       "      <th>2</th>\n",
       "      <td>Hessian LLE</td>\n",
       "      <td>0.510238</td>\n",
       "      <td>0.479564</td>\n",
       "      <td>0.04</td>\n",
       "    </tr>\n",
       "    <tr>\n",
       "      <th>3</th>\n",
       "      <td>Modified LLE</td>\n",
       "      <td>0.532398</td>\n",
       "      <td>0.749987</td>\n",
       "      <td>0.04</td>\n",
       "    </tr>\n",
       "    <tr>\n",
       "      <th>4</th>\n",
       "      <td>Isomap</td>\n",
       "      <td>64.949332</td>\n",
       "      <td>66.737926</td>\n",
       "      <td>0.01</td>\n",
       "    </tr>\n",
       "    <tr>\n",
       "      <th>5</th>\n",
       "      <td>MDS</td>\n",
       "      <td>47.296974</td>\n",
       "      <td>23.926399</td>\n",
       "      <td>0.02</td>\n",
       "    </tr>\n",
       "    <tr>\n",
       "      <th>6</th>\n",
       "      <td>SE</td>\n",
       "      <td>0.198066</td>\n",
       "      <td>0.216395</td>\n",
       "      <td>0.02</td>\n",
       "    </tr>\n",
       "    <tr>\n",
       "      <th>7</th>\n",
       "      <td>t-SNE</td>\n",
       "      <td>22.362803</td>\n",
       "      <td>74.484177</td>\n",
       "      <td>0.54</td>\n",
       "    </tr>\n",
       "  </tbody>\n",
       "</table>\n",
       "</div>"
      ],
      "text/plain": [
       "         Method  Training Max Score  Testing Max Score  Time elapsed\n",
       "0           LLE            0.614756           0.552981          0.06\n",
       "1          LTSA            0.510238           0.479564          0.06\n",
       "2   Hessian LLE            0.510238           0.479564          0.04\n",
       "3  Modified LLE            0.532398           0.749987          0.04\n",
       "4        Isomap           64.949332          66.737926          0.01\n",
       "5           MDS           47.296974          23.926399          0.02\n",
       "6            SE            0.198066           0.216395          0.02\n",
       "7         t-SNE           22.362803          74.484177          0.54"
      ]
     },
     "execution_count": 26,
     "metadata": {},
     "output_type": "execute_result"
    }
   ],
   "source": [
    "result[cols]"
   ]
  },
  {
   "cell_type": "markdown",
   "metadata": {},
   "source": [
    "### Diffusion Map based reduction"
   ]
  },
  {
   "cell_type": "code",
   "execution_count": null,
   "metadata": {},
   "outputs": [],
   "source": [
    "from sklearn.metrics.pairwise import euclidean_distances\n"
   ]
  },
  {
   "cell_type": "code",
   "execution_count": null,
   "metadata": {},
   "outputs": [],
   "source": [
    "df = pd.read_csv('steps_train.txt', skiprows=1,nrows=110, header=None, usecols=[1,2])\n",
    "df_test = pd.read_csv('steps_test.txt', skiprows=1, nrows=150, header=None, usecols=[1,2])"
   ]
  },
  {
   "cell_type": "code",
   "execution_count": null,
   "metadata": {},
   "outputs": [],
   "source": [
    "def find_diffusion_matrix(X=None, alpha=0.15):\n",
    "    \"\"\"Function to find the diffusion matrix P\n",
    "        \n",
    "        >Parameters:\n",
    "        alpha - to be used for gaussian kernel function\n",
    "        X - feature matrix as numpy array\n",
    "        \n",
    "        >Returns:\n",
    "        P_prime, P, Di, K, D_left\n",
    "    \"\"\"\n",
    "    alpha = alpha\n",
    "        \n",
    "    dists = euclidean_distances(X, X)\n",
    "    K = np.exp(-dists**2 / alpha)\n",
    "    \n",
    "    r = np.sum(K, axis=0)\n",
    "    Di = np.diag(1/r)\n",
    "    P = np.matmul(Di, K)\n",
    "    \n",
    "    D_right = np.diag((r)**0.5)\n",
    "    D_left = np.diag((r)**-0.5)\n",
    "    P_prime = np.matmul(D_right, np.matmul(P,D_left))\n",
    "\n",
    "    return P_prime, P, Di, K, D_left"
   ]
  },
  {
   "cell_type": "code",
   "execution_count": null,
   "metadata": {},
   "outputs": [],
   "source": [
    "def find_diffusion_map(P_prime, D_left, n_eign=3):\n",
    "    \"\"\"Function to find the diffusion coordinates in the diffusion space\n",
    "        \n",
    "        >Parameters:\n",
    "        P_prime - Symmetrized version of Diffusion Matrix P\n",
    "        D_left - D^{-1/2} matrix\n",
    "        n_eigen - Number of eigen vectors to return. This is effectively \n",
    "                    the dimensions to keep in diffusion space.\n",
    "        \n",
    "        >Returns:\n",
    "        Diffusion_map as np.array object\n",
    "    \"\"\"   \n",
    "    n_eign = n_eign\n",
    "    \n",
    "    eigenValues, eigenVectors = eigh(P_prime)\n",
    "    idx = eigenValues.argsort()[::-1]\n",
    "    eigenValues = eigenValues[idx]\n",
    "    eigenVectors = eigenVectors[:,idx]\n",
    "    \n",
    "    diffusion_coordinates = np.matmul(D_left, eigenVectors)\n",
    "    \n",
    "    return diffusion_coordinates[:,:n_eign]"
   ]
  },
  {
   "cell_type": "code",
   "execution_count": null,
   "metadata": {},
   "outputs": [],
   "source": [
    "P_prime, P, Di, K, D_left = find_diffusion_matrix(df, alpha=0.15)"
   ]
  },
  {
   "cell_type": "code",
   "execution_count": null,
   "metadata": {},
   "outputs": [],
   "source": [
    "X_train_data = find_diffusion_map(P_prime, D_left, n_eign=1)"
   ]
  },
  {
   "cell_type": "code",
   "execution_count": null,
   "metadata": {},
   "outputs": [],
   "source": [
    "N = len(X_train_data)\n",
    "# L = (N)//2\n",
    "L =  50\n",
    "X_train = hankel(X_train_data[:L],X_train_data[L-1:]) # Creating trajectory matrix\n",
    "eigenValues, eigenVectors = eigh(np.matmul(X_train, X_train.T))\n",
    "idx = eigenValues.argsort()[::-1]\n",
    "eigenValues = eigenValues[idx]\n",
    "eigenVectors = eigenVectors[:,idx]\n",
    "# Sree plot\n",
    "\n",
    "eigen_data = go.Scatter(x=list(range(len(eigenValues[0:10]))), y=eigenValues[0:10])\n",
    "eigen_layout = go.Layout(title='ScreePlot', title_x=0.5, xaxis_title=\"No of eigen values\", yaxis_title=\"eigen value\",)\n",
    "fig = go.Figure(data=[eigen_data], layout=eigen_layout)\n",
    "fig.show()"
   ]
  },
  {
   "cell_type": "code",
   "execution_count": null,
   "metadata": {},
   "outputs": [],
   "source": [
    "# Setting statistical dimension based on screeplot above\n",
    "r = 1\n",
    "# Performing singular value decomposition\n",
    "U, Sigma, V = np.linalg.svd(X_train)\n",
    "V = V.T\n",
    "X_elem = np.array( [Sigma[i] * np.outer(U[:,i], V[:,i]) for i in range(0,r)] )\n",
    "X_train_extracted = X_elem.sum(axis=0)\n",
    "U = eigenVectors[:,:r] # r as statistical dimension\n",
    "UT = U.T\n",
    "pX = np.matmul(UT,X_train_extracted)\n",
    "centroid = np.mean(pX, axis=1)\n",
    "centroid = centroid[:,np.newaxis]\n",
    "pXt = np.matmul(UT,X_train)\n",
    "dt_matrix = centroid - pXt\n",
    "dt_scores = np.linalg.norm(dt_matrix, axis=0, ord=2)\n",
    "\n",
    "# Testing positional Deviation\n",
    "# X_test = method.fit_transform(df_test)\n",
    "P_prime, P, Di, K, D_left = find_diffusion_matrix(df_test, alpha=0.15)\n",
    "X_test = find_diffusion_map(P_prime, D_left, n_eign=1)\n",
    "\n",
    "Xj = hankel(X_test[:L],X_test[L-1:])\n",
    "pXj = np.matmul(UT, Xj)\n",
    "dj_matrix = centroid - pXj\n",
    "dj_scores = np.linalg.norm(dj_matrix, axis=0, ord=2)\n",
    "dj_scores = np.asarray(dj_scores)"
   ]
  },
  {
   "cell_type": "code",
   "execution_count": null,
   "metadata": {},
   "outputs": [],
   "source": [
    "fig = make_subplots(rows=2, cols=2,specs=[[{}, {}], [{\"colspan\": 2}, None]],\n",
    "    subplot_titles=(\"Training plot\",\"Testing plot\", \"Anomaly score by Diffusion Map\"))\n",
    "fig.add_trace(go.Scatter(x=df[1], y=df[2], marker_color='blue',\n",
    "                        name=\"Training path\"),row=1, col=1)\n",
    "fig.add_trace(go.Scatter(x=df_test[1], y=df_test[2], marker_color='red',\n",
    "                        name=\"Testing Score\"),row=1, col=2)\n",
    "fig.add_trace(go.Scatter(x=list(range(len(dt_scores))), y=dt_scores[:], marker_color='blue',\n",
    "                         name=\"Training Score\"), row=2, col=1)\n",
    "fig.add_trace(go.Scatter(x=list(range(len(dj_scores))), y=dj_scores, marker_color='red',\n",
    "                        name=\"Testing Score\"), row=2, col=1)\n",
    "fig.update_layout(showlegend=False)\n"
   ]
  },
  {
   "cell_type": "code",
   "execution_count": null,
   "metadata": {},
   "outputs": [],
   "source": []
  }
 ],
 "metadata": {
  "kernelspec": {
   "display_name": "Python 3",
   "language": "python",
   "name": "python3"
  },
  "language_info": {
   "codemirror_mode": {
    "name": "ipython",
    "version": 3
   },
   "file_extension": ".py",
   "mimetype": "text/x-python",
   "name": "python",
   "nbconvert_exporter": "python",
   "pygments_lexer": "ipython3",
   "version": "3.7.5"
  }
 },
 "nbformat": 4,
 "nbformat_minor": 2
}
