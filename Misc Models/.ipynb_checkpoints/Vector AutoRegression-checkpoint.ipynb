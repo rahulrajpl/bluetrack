{
 "cells": [
  {
   "cell_type": "markdown",
   "metadata": {},
   "source": [
    "## Vector Autoregression (VAR)\n",
    "The Vector Autoregression (VAR) method models the next step in each time series using an AR model. It is the generalization of AR to multiple parallel time series, e.g. multivariate time series.\n",
    "\n",
    "Ref: https://machinelearningmastery.com/time-series-forecasting-methods-in-python-cheat-sheet/"
   ]
  },
  {
   "cell_type": "code",
   "execution_count": null,
   "metadata": {},
   "outputs": [],
   "source": [
    "# VAR example\n",
    "from statsmodels.tsa.vector_ar.var_model import VAR\n",
    "from random import random\n",
    "# contrived dataset with dependency\n",
    "data = list()\n",
    "for i in range(10):\n",
    "    v1 = i + random()\n",
    "    v2 = v1 + random()\n",
    "    row = [v1, v2]\n",
    "    data.append(row)\n",
    "print(data)\n",
    "# fit model\n",
    "model = VAR(data)\n",
    "model_fit = model.fit()\n",
    "# make prediction\n",
    "yhat = model_fit.forecast(model_fit.y, steps=1)\n",
    "print(yhat)"
   ]
  },
  {
   "cell_type": "markdown",
   "metadata": {},
   "source": [
    "## With trajectory Data"
   ]
  },
  {
   "cell_type": "code",
   "execution_count": 57,
   "metadata": {},
   "outputs": [],
   "source": [
    "import pandas as pd\n",
    "import plotly.graph_objects as go\n",
    "from statsmodels.tsa.vector_ar.var_model import VAR\n"
   ]
  },
  {
   "cell_type": "code",
   "execution_count": 58,
   "metadata": {},
   "outputs": [],
   "source": [
    "train_stream = pd.read_csv('steps_train.txt', skiprows=1, nrows=120, header=None, usecols=[1,2])\n",
    "actual_stream = pd.read_csv('steps_train.txt', skiprows=120, nrows=20, header=None, usecols=[1,2])"
   ]
  },
  {
   "cell_type": "code",
   "execution_count": 59,
   "metadata": {},
   "outputs": [],
   "source": [
    "model = VAR(list(train_stream.values))\n",
    "model_fit = model.fit()\n",
    "yhat = model_fit.forecast(model_fit.y, steps=20)"
   ]
  },
  {
   "cell_type": "code",
   "execution_count": 60,
   "metadata": {},
   "outputs": [],
   "source": [
    "pred_stream = pd.DataFrame(yhat)"
   ]
  },
  {
   "cell_type": "code",
   "execution_count": 88,
   "metadata": {},
   "outputs": [
    {
     "data": {
      "text/plain": [
       "[0, 1, 2, 3, 4, 5, 6, 7, 8, 9]"
      ]
     },
     "execution_count": 88,
     "metadata": {},
     "output_type": "execute_result"
    }
   ],
   "source": [
    "list(range(10))"
   ]
  },
  {
   "cell_type": "code",
   "execution_count": 104,
   "metadata": {},
   "outputs": [
    {
     "ename": "ValueError",
     "evalue": "\n    Invalid value of type 'builtins.list' received for the 'xaxis' property of layout\n        Received value: [-3.48, 27.7]\n\n    The 'xaxis' property is an instance of XAxis\n    that may be specified as:\n      - An instance of plotly.graph_objs.layout.XAxis\n      - A dict of string/value properties that will be passed\n        to the XAxis constructor\n\n        Supported dict properties:\n            \n            anchor\n                If set to an opposite-letter axis id (e.g.\n                `x2`, `y`), this axis is bound to the\n                corresponding opposite-letter axis. If set to\n                \"free\", this axis' position is determined by\n                `position`.\n            automargin\n                Determines whether long tick labels\n                automatically grow the figure margins.\n            autorange\n                Determines whether or not the range of this\n                axis is computed in relation to the input data.\n                See `rangemode` for more info. If `range` is\n                provided, then `autorange` is set to False.\n            calendar\n                Sets the calendar system to use for `range` and\n                `tick0` if this is a date axis. This does not\n                set the calendar for interpreting data on this\n                axis, that's specified in the trace or via the\n                global `layout.calendar`\n            categoryarray\n                Sets the order in which categories on this axis\n                appear. Only has an effect if `categoryorder`\n                is set to \"array\". Used with `categoryorder`.\n            categoryarraysrc\n                Sets the source reference on plot.ly for\n                categoryarray .\n            categoryorder\n                Specifies the ordering logic for the case of\n                categorical variables. By default, plotly uses\n                \"trace\", which specifies the order that is\n                present in the data supplied. Set\n                `categoryorder` to *category ascending* or\n                *category descending* if order should be\n                determined by the alphanumerical order of the\n                category names. Set `categoryorder` to \"array\"\n                to derive the ordering from the attribute\n                `categoryarray`. If a category is not found in\n                the `categoryarray` array, the sorting behavior\n                for that attribute will be identical to the\n                \"trace\" mode. The unspecified categories will\n                follow the categories in `categoryarray`. Set\n                `categoryorder` to *total ascending* or *total\n                descending* if order should be determined by\n                the numerical order of the values. Similarly,\n                the order can be determined by the min, max,\n                sum, mean or median of all the values.\n            color\n                Sets default for all colors associated with\n                this axis all at once: line, font, tick, and\n                grid colors. Grid color is lightened by\n                blending this with the plot background\n                Individual pieces can override this.\n            constrain\n                If this axis needs to be compressed (either due\n                to its own `scaleanchor` and `scaleratio` or\n                those of the other axis), determines how that\n                happens: by increasing the \"range\" (default),\n                or by decreasing the \"domain\".\n            constraintoward\n                If this axis needs to be compressed (either due\n                to its own `scaleanchor` and `scaleratio` or\n                those of the other axis), determines which\n                direction we push the originally specified plot\n                area. Options are \"left\", \"center\" (default),\n                and \"right\" for x axes, and \"top\", \"middle\"\n                (default), and \"bottom\" for y axes.\n            dividercolor\n                Sets the color of the dividers Only has an\n                effect on \"multicategory\" axes.\n            dividerwidth\n                Sets the width (in px) of the dividers Only has\n                an effect on \"multicategory\" axes.\n            domain\n                Sets the domain of this axis (in plot\n                fraction).\n            dtick\n                Sets the step in-between ticks on this axis.\n                Use with `tick0`. Must be a positive number, or\n                special strings available to \"log\" and \"date\"\n                axes. If the axis `type` is \"log\", then ticks\n                are set every 10^(n*dtick) where n is the tick\n                number. For example, to set a tick mark at 1,\n                10, 100, 1000, ... set dtick to 1. To set tick\n                marks at 1, 100, 10000, ... set dtick to 2. To\n                set tick marks at 1, 5, 25, 125, 625, 3125, ...\n                set dtick to log_10(5), or 0.69897000433. \"log\"\n                has several special values; \"L<f>\", where `f`\n                is a positive number, gives ticks linearly\n                spaced in value (but not position). For example\n                `tick0` = 0.1, `dtick` = \"L0.5\" will put ticks\n                at 0.1, 0.6, 1.1, 1.6 etc. To show powers of 10\n                plus small digits between, use \"D1\" (all\n                digits) or \"D2\" (only 2 and 5). `tick0` is\n                ignored for \"D1\" and \"D2\". If the axis `type`\n                is \"date\", then you must convert the time to\n                milliseconds. For example, to set the interval\n                between ticks to one day, set `dtick` to\n                86400000.0. \"date\" also has special values\n                \"M<n>\" gives ticks spaced by a number of\n                months. `n` must be a positive integer. To set\n                ticks on the 15th of every third month, set\n                `tick0` to \"2000-01-15\" and `dtick` to \"M3\". To\n                set ticks every 4 years, set `dtick` to \"M48\"\n            exponentformat\n                Determines a formatting rule for the tick\n                exponents. For example, consider the number\n                1,000,000,000. If \"none\", it appears as\n                1,000,000,000. If \"e\", 1e+9. If \"E\", 1E+9. If\n                \"power\", 1x10^9 (with 9 in a super script). If\n                \"SI\", 1G. If \"B\", 1B.\n            fixedrange\n                Determines whether or not this axis is zoom-\n                able. If true, then zoom is disabled.\n            gridcolor\n                Sets the color of the grid lines.\n            gridwidth\n                Sets the width (in px) of the grid lines.\n            hoverformat\n                Sets the hover text formatting rule using d3\n                formatting mini-languages which are very\n                similar to those in Python. For numbers, see:\n                https://github.com/d3/d3-3.x-api-\n                reference/blob/master/Formatting.md#d3_format\n                And for dates see:\n                https://github.com/d3/d3-3.x-api-\n                reference/blob/master/Time-Formatting.md#format\n                We add one item to d3's date formatter: \"%{n}f\"\n                for fractional seconds with n digits. For\n                example, *2016-10-13 09:15:23.456* with\n                tickformat \"%H~%M~%S.%2f\" would display\n                \"09~15~23.46\"\n            layer\n                Sets the layer on which this axis is displayed.\n                If *above traces*, this axis is displayed above\n                all the subplot's traces If *below traces*,\n                this axis is displayed below all the subplot's\n                traces, but above the grid lines. Useful when\n                used together with scatter-like traces with\n                `cliponaxis` set to False to show markers\n                and/or text nodes above this axis.\n            linecolor\n                Sets the axis line color.\n            linewidth\n                Sets the width (in px) of the axis line.\n            matches\n                If set to another axis id (e.g. `x2`, `y`), the\n                range of this axis will match the range of the\n                corresponding axis in data-coordinates space.\n                Moreover, matching axes share auto-range\n                values, category lists and histogram auto-bins.\n                Note that setting axes simultaneously in both a\n                `scaleanchor` and a `matches` constraint is\n                currently forbidden. Moreover, note that\n                matching axes must have the same `type`.\n            mirror\n                Determines if the axis lines or/and ticks are\n                mirrored to the opposite side of the plotting\n                area. If True, the axis lines are mirrored. If\n                \"ticks\", the axis lines and ticks are mirrored.\n                If False, mirroring is disable. If \"all\", axis\n                lines are mirrored on all shared-axes subplots.\n                If \"allticks\", axis lines and ticks are\n                mirrored on all shared-axes subplots.\n            nticks\n                Specifies the maximum number of ticks for the\n                particular axis. The actual number of ticks\n                will be chosen automatically to be less than or\n                equal to `nticks`. Has an effect only if\n                `tickmode` is set to \"auto\".\n            overlaying\n                If set a same-letter axis id, this axis is\n                overlaid on top of the corresponding same-\n                letter axis, with traces and axes visible for\n                both axes. If False, this axis does not overlay\n                any same-letter axes. In this case, for axes\n                with overlapping domains only the highest-\n                numbered axis will be visible.\n            position\n                Sets the position of this axis in the plotting\n                space (in normalized coordinates). Only has an\n                effect if `anchor` is set to \"free\".\n            range\n                Sets the range of this axis. If the axis `type`\n                is \"log\", then you must take the log of your\n                desired range (e.g. to set the range from 1 to\n                100, set the range from 0 to 2). If the axis\n                `type` is \"date\", it should be date strings,\n                like date data, though Date objects and unix\n                milliseconds will be accepted and converted to\n                strings. If the axis `type` is \"category\", it\n                should be numbers, using the scale where each\n                category is assigned a serial number from zero\n                in the order it appears.\n            rangemode\n                If \"normal\", the range is computed in relation\n                to the extrema of the input data. If *tozero*`,\n                the range extends to 0, regardless of the input\n                data If \"nonnegative\", the range is non-\n                negative, regardless of the input data. Applies\n                only to linear axes.\n            rangeselector\n                plotly.graph_objects.layout.xaxis.Rangeselector\n                instance or dict with compatible properties\n            rangeslider\n                plotly.graph_objects.layout.xaxis.Rangeslider\n                instance or dict with compatible properties\n            scaleanchor\n                If set to another axis id (e.g. `x2`, `y`), the\n                range of this axis changes together with the\n                range of the corresponding axis such that the\n                scale of pixels per unit is in a constant\n                ratio. Both axes are still zoomable, but when\n                you zoom one, the other will zoom the same\n                amount, keeping a fixed midpoint. `constrain`\n                and `constraintoward` determine how we enforce\n                the constraint. You can chain these, ie `yaxis:\n                {scaleanchor: *x*}, xaxis2: {scaleanchor: *y*}`\n                but you can only link axes of the same `type`.\n                The linked axis can have the opposite letter\n                (to constrain the aspect ratio) or the same\n                letter (to match scales across subplots). Loops\n                (`yaxis: {scaleanchor: *x*}, xaxis:\n                {scaleanchor: *y*}` or longer) are redundant\n                and the last constraint encountered will be\n                ignored to avoid possible inconsistent\n                constraints via `scaleratio`. Note that setting\n                axes simultaneously in both a `scaleanchor` and\n                a `matches` constraint is currently forbidden.\n            scaleratio\n                If this axis is linked to another by\n                `scaleanchor`, this determines the pixel to\n                unit scale ratio. For example, if this value is\n                10, then every unit on this axis spans 10 times\n                the number of pixels as a unit on the linked\n                axis. Use this for example to create an\n                elevation profile where the vertical scale is\n                exaggerated a fixed amount with respect to the\n                horizontal.\n            separatethousands\n                If \"true\", even 4-digit integers are separated\n            showdividers\n                Determines whether or not a dividers are drawn\n                between the category levels of this axis. Only\n                has an effect on \"multicategory\" axes.\n            showexponent\n                If \"all\", all exponents are shown besides their\n                significands. If \"first\", only the exponent of\n                the first tick is shown. If \"last\", only the\n                exponent of the last tick is shown. If \"none\",\n                no exponents appear.\n            showgrid\n                Determines whether or not grid lines are drawn.\n                If True, the grid lines are drawn at every tick\n                mark.\n            showline\n                Determines whether or not a line bounding this\n                axis is drawn.\n            showspikes\n                Determines whether or not spikes (aka\n                droplines) are drawn for this axis. Note: This\n                only takes affect when hovermode = closest\n            showticklabels\n                Determines whether or not the tick labels are\n                drawn.\n            showtickprefix\n                If \"all\", all tick labels are displayed with a\n                prefix. If \"first\", only the first tick is\n                displayed with a prefix. If \"last\", only the\n                last tick is displayed with a suffix. If\n                \"none\", tick prefixes are hidden.\n            showticksuffix\n                Same as `showtickprefix` but for tick suffixes.\n            side\n                Determines whether a x (y) axis is positioned\n                at the \"bottom\" (\"left\") or \"top\" (\"right\") of\n                the plotting area.\n            spikecolor\n                Sets the spike color. If undefined, will use\n                the series color\n            spikedash\n                Sets the dash style of lines. Set to a dash\n                type string (\"solid\", \"dot\", \"dash\",\n                \"longdash\", \"dashdot\", or \"longdashdot\") or a\n                dash length list in px (eg \"5px,10px,2px,2px\").\n            spikemode\n                Determines the drawing mode for the spike line\n                If \"toaxis\", the line is drawn from the data\n                point to the axis the  series is plotted on. If\n                \"across\", the line is drawn across the entire\n                plot area, and supercedes \"toaxis\". If\n                \"marker\", then a marker dot is drawn on the\n                axis the series is plotted on\n            spikesnap\n                Determines whether spikelines are stuck to the\n                cursor or to the closest datapoints.\n            spikethickness\n                Sets the width (in px) of the zero line.\n            tick0\n                Sets the placement of the first tick on this\n                axis. Use with `dtick`. If the axis `type` is\n                \"log\", then you must take the log of your\n                starting tick (e.g. to set the starting tick to\n                100, set the `tick0` to 2) except when\n                `dtick`=*L<f>* (see `dtick` for more info). If\n                the axis `type` is \"date\", it should be a date\n                string, like date data. If the axis `type` is\n                \"category\", it should be a number, using the\n                scale where each category is assigned a serial\n                number from zero in the order it appears.\n            tickangle\n                Sets the angle of the tick labels with respect\n                to the horizontal. For example, a `tickangle`\n                of -90 draws the tick labels vertically.\n            tickcolor\n                Sets the tick color.\n            tickfont\n                Sets the tick font.\n            tickformat\n                Sets the tick label formatting rule using d3\n                formatting mini-languages which are very\n                similar to those in Python. For numbers, see:\n                https://github.com/d3/d3-3.x-api-\n                reference/blob/master/Formatting.md#d3_format\n                And for dates see:\n                https://github.com/d3/d3-3.x-api-\n                reference/blob/master/Time-Formatting.md#format\n                We add one item to d3's date formatter: \"%{n}f\"\n                for fractional seconds with n digits. For\n                example, *2016-10-13 09:15:23.456* with\n                tickformat \"%H~%M~%S.%2f\" would display\n                \"09~15~23.46\"\n            tickformatstops\n                A tuple of plotly.graph_objects.layout.xaxis.Ti\n                ckformatstop instances or dicts with compatible\n                properties\n            tickformatstopdefaults\n                When used in a template (as layout.template.lay\n                out.xaxis.tickformatstopdefaults), sets the\n                default property values to use for elements of\n                layout.xaxis.tickformatstops\n            ticklen\n                Sets the tick length (in px).\n            tickmode\n                Sets the tick mode for this axis. If \"auto\",\n                the number of ticks is set via `nticks`. If\n                \"linear\", the placement of the ticks is\n                determined by a starting position `tick0` and a\n                tick step `dtick` (\"linear\" is the default\n                value if `tick0` and `dtick` are provided). If\n                \"array\", the placement of the ticks is set via\n                `tickvals` and the tick text is `ticktext`.\n                (\"array\" is the default value if `tickvals` is\n                provided).\n            tickprefix\n                Sets a tick label prefix.\n            ticks\n                Determines whether ticks are drawn or not. If\n                \"\", this axis' ticks are not drawn. If\n                \"outside\" (\"inside\"), this axis' are drawn\n                outside (inside) the axis lines.\n            tickson\n                Determines where ticks and grid lines are drawn\n                with respect to their corresponding tick\n                labels. Only has an effect for axes of `type`\n                \"category\" or \"multicategory\". When set to\n                \"boundaries\", ticks and grid lines are drawn\n                half a category to the left/bottom of labels.\n            ticksuffix\n                Sets a tick label suffix.\n            ticktext\n                Sets the text displayed at the ticks position\n                via `tickvals`. Only has an effect if\n                `tickmode` is set to \"array\". Used with\n                `tickvals`.\n            ticktextsrc\n                Sets the source reference on plot.ly for\n                ticktext .\n            tickvals\n                Sets the values at which ticks on this axis\n                appear. Only has an effect if `tickmode` is set\n                to \"array\". Used with `ticktext`.\n            tickvalssrc\n                Sets the source reference on plot.ly for\n                tickvals .\n            tickwidth\n                Sets the tick width (in px).\n            title\n                plotly.graph_objects.layout.xaxis.Title\n                instance or dict with compatible properties\n            titlefont\n                Deprecated: Please use layout.xaxis.title.font\n                instead. Sets this axis' title font. Note that\n                the title's font used to be customized by the\n                now deprecated `titlefont` attribute.\n            type\n                Sets the axis type. By default, plotly attempts\n                to determined the axis type by looking into the\n                data of the traces that referenced the axis in\n                question.\n            uirevision\n                Controls persistence of user-driven changes in\n                axis `range`, `autorange`, and `title` if in\n                `editable: true` configuration. Defaults to\n                `layout.uirevision`.\n            visible\n                A single toggle to hide the axis while\n                preserving interaction like dragging. Default\n                is true when a cheater plot is present on the\n                axis, otherwise false\n            zeroline\n                Determines whether or not a line is drawn at\n                along the 0 value of this axis. If True, the\n                zero line is drawn on top of the grid lines.\n            zerolinecolor\n                Sets the line color of the zero line.\n            zerolinewidth\n                Sets the width (in px) of the zero line.\n",
     "output_type": "error",
     "traceback": [
      "\u001b[0;31m---------------------------------------------------------------------------\u001b[0m",
      "\u001b[0;31mValueError\u001b[0m                                Traceback (most recent call last)",
      "\u001b[0;32m<ipython-input-104-4c6e8259f3e7>\u001b[0m in \u001b[0;36m<module>\u001b[0;34m\u001b[0m\n\u001b[1;32m      5\u001b[0m layout =go.Layout(title='Stream Data Comparison',\n\u001b[1;32m      6\u001b[0m                  \u001b[0mxaxis\u001b[0m\u001b[0;34m=\u001b[0m\u001b[0;34m[\u001b[0m\u001b[0mmin\u001b[0m\u001b[0;34m(\u001b[0m\u001b[0mtrain_stream\u001b[0m\u001b[0;34m[\u001b[0m\u001b[0;36m1\u001b[0m\u001b[0;34m]\u001b[0m\u001b[0;34m)\u001b[0m\u001b[0;34m,\u001b[0m \u001b[0mmax\u001b[0m\u001b[0;34m(\u001b[0m\u001b[0mtrain_stream\u001b[0m\u001b[0;34m[\u001b[0m\u001b[0;36m1\u001b[0m\u001b[0;34m]\u001b[0m\u001b[0;34m)\u001b[0m\u001b[0;34m]\u001b[0m\u001b[0;34m,\u001b[0m\u001b[0;34m\u001b[0m\u001b[0;34m\u001b[0m\u001b[0m\n\u001b[0;32m----> 7\u001b[0;31m                   \u001b[0myaxis\u001b[0m\u001b[0;34m=\u001b[0m\u001b[0;34m[\u001b[0m\u001b[0mmin\u001b[0m\u001b[0;34m(\u001b[0m\u001b[0mtrain_stream\u001b[0m\u001b[0;34m[\u001b[0m\u001b[0;36m2\u001b[0m\u001b[0;34m]\u001b[0m\u001b[0;34m)\u001b[0m\u001b[0;34m,\u001b[0m \u001b[0mmax\u001b[0m\u001b[0;34m(\u001b[0m\u001b[0mtrain_stream\u001b[0m\u001b[0;34m[\u001b[0m\u001b[0;36m2\u001b[0m\u001b[0;34m]\u001b[0m\u001b[0;34m)\u001b[0m\u001b[0;34m]\u001b[0m\u001b[0;34m,\u001b[0m\u001b[0;34m\u001b[0m\u001b[0;34m\u001b[0m\u001b[0m\n\u001b[0m\u001b[1;32m      8\u001b[0m                  )\n\u001b[1;32m      9\u001b[0m \u001b[0;34m\u001b[0m\u001b[0m\n",
      "\u001b[0;32m/usr/local/lib/python3.7/dist-packages/plotly/graph_objs/__init__.py\u001b[0m in \u001b[0;36m__init__\u001b[0;34m(self, arg, angularaxis, annotations, annotationdefaults, autosize, bargap, bargroupgap, barmode, barnorm, boxgap, boxgroupgap, boxmode, calendar, clickmode, coloraxis, colorscale, colorway, datarevision, direction, dragmode, editrevision, extendfunnelareacolors, extendpiecolors, extendsunburstcolors, extendtreemapcolors, font, funnelareacolorway, funnelgap, funnelgroupgap, funnelmode, geo, grid, height, hiddenlabels, hiddenlabelssrc, hidesources, hoverdistance, hoverlabel, hovermode, images, imagedefaults, legend, mapbox, margin, meta, metasrc, modebar, orientation, paper_bgcolor, piecolorway, plot_bgcolor, polar, radialaxis, scene, selectdirection, selectionrevision, separators, shapes, shapedefaults, showlegend, sliders, sliderdefaults, spikedistance, sunburstcolorway, template, ternary, title, titlefont, transition, treemapcolorway, uirevision, updatemenus, updatemenudefaults, violingap, violingroupgap, violinmode, waterfallgap, waterfallgroupgap, waterfallmode, width, xaxis, yaxis, **kwargs)\u001b[0m\n\u001b[1;32m  97785\u001b[0m         \u001b[0mself\u001b[0m\u001b[0;34m[\u001b[0m\u001b[0;34m\"width\"\u001b[0m\u001b[0;34m]\u001b[0m \u001b[0;34m=\u001b[0m \u001b[0mwidth\u001b[0m \u001b[0;32mif\u001b[0m \u001b[0mwidth\u001b[0m \u001b[0;32mis\u001b[0m \u001b[0;32mnot\u001b[0m \u001b[0;32mNone\u001b[0m \u001b[0;32melse\u001b[0m \u001b[0m_v\u001b[0m\u001b[0;34m\u001b[0m\u001b[0;34m\u001b[0m\u001b[0m\n\u001b[1;32m  97786\u001b[0m         \u001b[0m_v\u001b[0m \u001b[0;34m=\u001b[0m \u001b[0marg\u001b[0m\u001b[0;34m.\u001b[0m\u001b[0mpop\u001b[0m\u001b[0;34m(\u001b[0m\u001b[0;34m\"xaxis\"\u001b[0m\u001b[0;34m,\u001b[0m \u001b[0;32mNone\u001b[0m\u001b[0;34m)\u001b[0m\u001b[0;34m\u001b[0m\u001b[0;34m\u001b[0m\u001b[0m\n\u001b[0;32m> 97787\u001b[0;31m         \u001b[0mself\u001b[0m\u001b[0;34m[\u001b[0m\u001b[0;34m\"xaxis\"\u001b[0m\u001b[0;34m]\u001b[0m \u001b[0;34m=\u001b[0m \u001b[0mxaxis\u001b[0m \u001b[0;32mif\u001b[0m \u001b[0mxaxis\u001b[0m \u001b[0;32mis\u001b[0m \u001b[0;32mnot\u001b[0m \u001b[0;32mNone\u001b[0m \u001b[0;32melse\u001b[0m \u001b[0m_v\u001b[0m\u001b[0;34m\u001b[0m\u001b[0;34m\u001b[0m\u001b[0m\n\u001b[0m\u001b[1;32m  97788\u001b[0m         \u001b[0m_v\u001b[0m \u001b[0;34m=\u001b[0m \u001b[0marg\u001b[0m\u001b[0;34m.\u001b[0m\u001b[0mpop\u001b[0m\u001b[0;34m(\u001b[0m\u001b[0;34m\"yaxis\"\u001b[0m\u001b[0;34m,\u001b[0m \u001b[0;32mNone\u001b[0m\u001b[0;34m)\u001b[0m\u001b[0;34m\u001b[0m\u001b[0;34m\u001b[0m\u001b[0m\n\u001b[1;32m  97789\u001b[0m         \u001b[0mself\u001b[0m\u001b[0;34m[\u001b[0m\u001b[0;34m\"yaxis\"\u001b[0m\u001b[0;34m]\u001b[0m \u001b[0;34m=\u001b[0m \u001b[0myaxis\u001b[0m \u001b[0;32mif\u001b[0m \u001b[0myaxis\u001b[0m \u001b[0;32mis\u001b[0m \u001b[0;32mnot\u001b[0m \u001b[0;32mNone\u001b[0m \u001b[0;32melse\u001b[0m \u001b[0m_v\u001b[0m\u001b[0;34m\u001b[0m\u001b[0;34m\u001b[0m\u001b[0m\n",
      "\u001b[0;32m/usr/local/lib/python3.7/dist-packages/plotly/basedatatypes.py\u001b[0m in \u001b[0;36m__setitem__\u001b[0;34m(self, prop, value)\u001b[0m\n\u001b[1;32m   4435\u001b[0m         \u001b[0;32mif\u001b[0m \u001b[0mmatch\u001b[0m \u001b[0;32mis\u001b[0m \u001b[0;32mNone\u001b[0m\u001b[0;34m:\u001b[0m\u001b[0;34m\u001b[0m\u001b[0;34m\u001b[0m\u001b[0m\n\u001b[1;32m   4436\u001b[0m             \u001b[0;31m# Set as ordinary property\u001b[0m\u001b[0;34m\u001b[0m\u001b[0;34m\u001b[0m\u001b[0;34m\u001b[0m\u001b[0m\n\u001b[0;32m-> 4437\u001b[0;31m             \u001b[0msuper\u001b[0m\u001b[0;34m(\u001b[0m\u001b[0mBaseLayoutHierarchyType\u001b[0m\u001b[0;34m,\u001b[0m \u001b[0mself\u001b[0m\u001b[0;34m)\u001b[0m\u001b[0;34m.\u001b[0m\u001b[0m__setitem__\u001b[0m\u001b[0;34m(\u001b[0m\u001b[0mprop\u001b[0m\u001b[0;34m,\u001b[0m \u001b[0mvalue\u001b[0m\u001b[0;34m)\u001b[0m\u001b[0;34m\u001b[0m\u001b[0;34m\u001b[0m\u001b[0m\n\u001b[0m\u001b[1;32m   4438\u001b[0m         \u001b[0;32melse\u001b[0m\u001b[0;34m:\u001b[0m\u001b[0;34m\u001b[0m\u001b[0;34m\u001b[0m\u001b[0m\n\u001b[1;32m   4439\u001b[0m             \u001b[0;31m# Set as subplotid property\u001b[0m\u001b[0;34m\u001b[0m\u001b[0;34m\u001b[0m\u001b[0;34m\u001b[0m\u001b[0m\n",
      "\u001b[0;32m/usr/local/lib/python3.7/dist-packages/plotly/basedatatypes.py\u001b[0m in \u001b[0;36m__setitem__\u001b[0;34m(self, prop, value)\u001b[0m\n\u001b[1;32m   3480\u001b[0m             \u001b[0;31m# ### Handle compound property ###\u001b[0m\u001b[0;34m\u001b[0m\u001b[0;34m\u001b[0m\u001b[0;34m\u001b[0m\u001b[0m\n\u001b[1;32m   3481\u001b[0m             \u001b[0;32mif\u001b[0m \u001b[0misinstance\u001b[0m\u001b[0;34m(\u001b[0m\u001b[0mvalidator\u001b[0m\u001b[0;34m,\u001b[0m \u001b[0mCompoundValidator\u001b[0m\u001b[0;34m)\u001b[0m\u001b[0;34m:\u001b[0m\u001b[0;34m\u001b[0m\u001b[0;34m\u001b[0m\u001b[0m\n\u001b[0;32m-> 3482\u001b[0;31m                 \u001b[0mself\u001b[0m\u001b[0;34m.\u001b[0m\u001b[0m_set_compound_prop\u001b[0m\u001b[0;34m(\u001b[0m\u001b[0mprop\u001b[0m\u001b[0;34m,\u001b[0m \u001b[0mvalue\u001b[0m\u001b[0;34m)\u001b[0m\u001b[0;34m\u001b[0m\u001b[0;34m\u001b[0m\u001b[0m\n\u001b[0m\u001b[1;32m   3483\u001b[0m \u001b[0;34m\u001b[0m\u001b[0m\n\u001b[1;32m   3484\u001b[0m             \u001b[0;31m# ### Handle compound array property ###\u001b[0m\u001b[0;34m\u001b[0m\u001b[0;34m\u001b[0m\u001b[0;34m\u001b[0m\u001b[0m\n",
      "\u001b[0;32m/usr/local/lib/python3.7/dist-packages/plotly/basedatatypes.py\u001b[0m in \u001b[0;36m_set_compound_prop\u001b[0;34m(self, prop, val)\u001b[0m\n\u001b[1;32m   3834\u001b[0m         \u001b[0;31m# ------------\u001b[0m\u001b[0;34m\u001b[0m\u001b[0;34m\u001b[0m\u001b[0;34m\u001b[0m\u001b[0m\n\u001b[1;32m   3835\u001b[0m         \u001b[0mvalidator\u001b[0m \u001b[0;34m=\u001b[0m \u001b[0mself\u001b[0m\u001b[0;34m.\u001b[0m\u001b[0m_validators\u001b[0m\u001b[0;34m.\u001b[0m\u001b[0mget\u001b[0m\u001b[0;34m(\u001b[0m\u001b[0mprop\u001b[0m\u001b[0;34m)\u001b[0m\u001b[0;34m\u001b[0m\u001b[0;34m\u001b[0m\u001b[0m\n\u001b[0;32m-> 3836\u001b[0;31m         \u001b[0mval\u001b[0m \u001b[0;34m=\u001b[0m \u001b[0mvalidator\u001b[0m\u001b[0;34m.\u001b[0m\u001b[0mvalidate_coerce\u001b[0m\u001b[0;34m(\u001b[0m\u001b[0mval\u001b[0m\u001b[0;34m,\u001b[0m \u001b[0mskip_invalid\u001b[0m\u001b[0;34m=\u001b[0m\u001b[0mself\u001b[0m\u001b[0;34m.\u001b[0m\u001b[0m_skip_invalid\u001b[0m\u001b[0;34m)\u001b[0m\u001b[0;34m\u001b[0m\u001b[0;34m\u001b[0m\u001b[0m\n\u001b[0m\u001b[1;32m   3837\u001b[0m \u001b[0;34m\u001b[0m\u001b[0m\n\u001b[1;32m   3838\u001b[0m         \u001b[0;31m# Save deep copies of current and new states\u001b[0m\u001b[0;34m\u001b[0m\u001b[0;34m\u001b[0m\u001b[0;34m\u001b[0m\u001b[0m\n",
      "\u001b[0;32m/usr/local/lib/python3.7/dist-packages/_plotly_utils/basevalidators.py\u001b[0m in \u001b[0;36mvalidate_coerce\u001b[0;34m(self, v, skip_invalid)\u001b[0m\n\u001b[1;32m   2451\u001b[0m                 \u001b[0mv\u001b[0m \u001b[0;34m=\u001b[0m \u001b[0mself\u001b[0m\u001b[0;34m.\u001b[0m\u001b[0mdata_class\u001b[0m\u001b[0;34m(\u001b[0m\u001b[0;34m)\u001b[0m\u001b[0;34m\u001b[0m\u001b[0;34m\u001b[0m\u001b[0m\n\u001b[1;32m   2452\u001b[0m             \u001b[0;32melse\u001b[0m\u001b[0;34m:\u001b[0m\u001b[0;34m\u001b[0m\u001b[0;34m\u001b[0m\u001b[0m\n\u001b[0;32m-> 2453\u001b[0;31m                 \u001b[0mself\u001b[0m\u001b[0;34m.\u001b[0m\u001b[0mraise_invalid_val\u001b[0m\u001b[0;34m(\u001b[0m\u001b[0mv\u001b[0m\u001b[0;34m)\u001b[0m\u001b[0;34m\u001b[0m\u001b[0;34m\u001b[0m\u001b[0m\n\u001b[0m\u001b[1;32m   2454\u001b[0m \u001b[0;34m\u001b[0m\u001b[0m\n\u001b[1;32m   2455\u001b[0m         \u001b[0mv\u001b[0m\u001b[0;34m.\u001b[0m\u001b[0m_plotly_name\u001b[0m \u001b[0;34m=\u001b[0m \u001b[0mself\u001b[0m\u001b[0;34m.\u001b[0m\u001b[0mplotly_name\u001b[0m\u001b[0;34m\u001b[0m\u001b[0;34m\u001b[0m\u001b[0m\n",
      "\u001b[0;32m/usr/local/lib/python3.7/dist-packages/_plotly_utils/basevalidators.py\u001b[0m in \u001b[0;36mraise_invalid_val\u001b[0;34m(self, v, inds)\u001b[0m\n\u001b[1;32m    281\u001b[0m                 \u001b[0mtyp\u001b[0m\u001b[0;34m=\u001b[0m\u001b[0mtype_str\u001b[0m\u001b[0;34m(\u001b[0m\u001b[0mv\u001b[0m\u001b[0;34m)\u001b[0m\u001b[0;34m,\u001b[0m\u001b[0;34m\u001b[0m\u001b[0;34m\u001b[0m\u001b[0m\n\u001b[1;32m    282\u001b[0m                 \u001b[0mv\u001b[0m\u001b[0;34m=\u001b[0m\u001b[0mrepr\u001b[0m\u001b[0;34m(\u001b[0m\u001b[0mv\u001b[0m\u001b[0;34m)\u001b[0m\u001b[0;34m,\u001b[0m\u001b[0;34m\u001b[0m\u001b[0;34m\u001b[0m\u001b[0m\n\u001b[0;32m--> 283\u001b[0;31m                 \u001b[0mvalid_clr_desc\u001b[0m\u001b[0;34m=\u001b[0m\u001b[0mself\u001b[0m\u001b[0;34m.\u001b[0m\u001b[0mdescription\u001b[0m\u001b[0;34m(\u001b[0m\u001b[0;34m)\u001b[0m\u001b[0;34m,\u001b[0m\u001b[0;34m\u001b[0m\u001b[0;34m\u001b[0m\u001b[0m\n\u001b[0m\u001b[1;32m    284\u001b[0m             )\n\u001b[1;32m    285\u001b[0m         )\n",
      "\u001b[0;31mValueError\u001b[0m: \n    Invalid value of type 'builtins.list' received for the 'xaxis' property of layout\n        Received value: [-3.48, 27.7]\n\n    The 'xaxis' property is an instance of XAxis\n    that may be specified as:\n      - An instance of plotly.graph_objs.layout.XAxis\n      - A dict of string/value properties that will be passed\n        to the XAxis constructor\n\n        Supported dict properties:\n            \n            anchor\n                If set to an opposite-letter axis id (e.g.\n                `x2`, `y`), this axis is bound to the\n                corresponding opposite-letter axis. If set to\n                \"free\", this axis' position is determined by\n                `position`.\n            automargin\n                Determines whether long tick labels\n                automatically grow the figure margins.\n            autorange\n                Determines whether or not the range of this\n                axis is computed in relation to the input data.\n                See `rangemode` for more info. If `range` is\n                provided, then `autorange` is set to False.\n            calendar\n                Sets the calendar system to use for `range` and\n                `tick0` if this is a date axis. This does not\n                set the calendar for interpreting data on this\n                axis, that's specified in the trace or via the\n                global `layout.calendar`\n            categoryarray\n                Sets the order in which categories on this axis\n                appear. Only has an effect if `categoryorder`\n                is set to \"array\". Used with `categoryorder`.\n            categoryarraysrc\n                Sets the source reference on plot.ly for\n                categoryarray .\n            categoryorder\n                Specifies the ordering logic for the case of\n                categorical variables. By default, plotly uses\n                \"trace\", which specifies the order that is\n                present in the data supplied. Set\n                `categoryorder` to *category ascending* or\n                *category descending* if order should be\n                determined by the alphanumerical order of the\n                category names. Set `categoryorder` to \"array\"\n                to derive the ordering from the attribute\n                `categoryarray`. If a category is not found in\n                the `categoryarray` array, the sorting behavior\n                for that attribute will be identical to the\n                \"trace\" mode. The unspecified categories will\n                follow the categories in `categoryarray`. Set\n                `categoryorder` to *total ascending* or *total\n                descending* if order should be determined by\n                the numerical order of the values. Similarly,\n                the order can be determined by the min, max,\n                sum, mean or median of all the values.\n            color\n                Sets default for all colors associated with\n                this axis all at once: line, font, tick, and\n                grid colors. Grid color is lightened by\n                blending this with the plot background\n                Individual pieces can override this.\n            constrain\n                If this axis needs to be compressed (either due\n                to its own `scaleanchor` and `scaleratio` or\n                those of the other axis), determines how that\n                happens: by increasing the \"range\" (default),\n                or by decreasing the \"domain\".\n            constraintoward\n                If this axis needs to be compressed (either due\n                to its own `scaleanchor` and `scaleratio` or\n                those of the other axis), determines which\n                direction we push the originally specified plot\n                area. Options are \"left\", \"center\" (default),\n                and \"right\" for x axes, and \"top\", \"middle\"\n                (default), and \"bottom\" for y axes.\n            dividercolor\n                Sets the color of the dividers Only has an\n                effect on \"multicategory\" axes.\n            dividerwidth\n                Sets the width (in px) of the dividers Only has\n                an effect on \"multicategory\" axes.\n            domain\n                Sets the domain of this axis (in plot\n                fraction).\n            dtick\n                Sets the step in-between ticks on this axis.\n                Use with `tick0`. Must be a positive number, or\n                special strings available to \"log\" and \"date\"\n                axes. If the axis `type` is \"log\", then ticks\n                are set every 10^(n*dtick) where n is the tick\n                number. For example, to set a tick mark at 1,\n                10, 100, 1000, ... set dtick to 1. To set tick\n                marks at 1, 100, 10000, ... set dtick to 2. To\n                set tick marks at 1, 5, 25, 125, 625, 3125, ...\n                set dtick to log_10(5), or 0.69897000433. \"log\"\n                has several special values; \"L<f>\", where `f`\n                is a positive number, gives ticks linearly\n                spaced in value (but not position). For example\n                `tick0` = 0.1, `dtick` = \"L0.5\" will put ticks\n                at 0.1, 0.6, 1.1, 1.6 etc. To show powers of 10\n                plus small digits between, use \"D1\" (all\n                digits) or \"D2\" (only 2 and 5). `tick0` is\n                ignored for \"D1\" and \"D2\". If the axis `type`\n                is \"date\", then you must convert the time to\n                milliseconds. For example, to set the interval\n                between ticks to one day, set `dtick` to\n                86400000.0. \"date\" also has special values\n                \"M<n>\" gives ticks spaced by a number of\n                months. `n` must be a positive integer. To set\n                ticks on the 15th of every third month, set\n                `tick0` to \"2000-01-15\" and `dtick` to \"M3\". To\n                set ticks every 4 years, set `dtick` to \"M48\"\n            exponentformat\n                Determines a formatting rule for the tick\n                exponents. For example, consider the number\n                1,000,000,000. If \"none\", it appears as\n                1,000,000,000. If \"e\", 1e+9. If \"E\", 1E+9. If\n                \"power\", 1x10^9 (with 9 in a super script). If\n                \"SI\", 1G. If \"B\", 1B.\n            fixedrange\n                Determines whether or not this axis is zoom-\n                able. If true, then zoom is disabled.\n            gridcolor\n                Sets the color of the grid lines.\n            gridwidth\n                Sets the width (in px) of the grid lines.\n            hoverformat\n                Sets the hover text formatting rule using d3\n                formatting mini-languages which are very\n                similar to those in Python. For numbers, see:\n                https://github.com/d3/d3-3.x-api-\n                reference/blob/master/Formatting.md#d3_format\n                And for dates see:\n                https://github.com/d3/d3-3.x-api-\n                reference/blob/master/Time-Formatting.md#format\n                We add one item to d3's date formatter: \"%{n}f\"\n                for fractional seconds with n digits. For\n                example, *2016-10-13 09:15:23.456* with\n                tickformat \"%H~%M~%S.%2f\" would display\n                \"09~15~23.46\"\n            layer\n                Sets the layer on which this axis is displayed.\n                If *above traces*, this axis is displayed above\n                all the subplot's traces If *below traces*,\n                this axis is displayed below all the subplot's\n                traces, but above the grid lines. Useful when\n                used together with scatter-like traces with\n                `cliponaxis` set to False to show markers\n                and/or text nodes above this axis.\n            linecolor\n                Sets the axis line color.\n            linewidth\n                Sets the width (in px) of the axis line.\n            matches\n                If set to another axis id (e.g. `x2`, `y`), the\n                range of this axis will match the range of the\n                corresponding axis in data-coordinates space.\n                Moreover, matching axes share auto-range\n                values, category lists and histogram auto-bins.\n                Note that setting axes simultaneously in both a\n                `scaleanchor` and a `matches` constraint is\n                currently forbidden. Moreover, note that\n                matching axes must have the same `type`.\n            mirror\n                Determines if the axis lines or/and ticks are\n                mirrored to the opposite side of the plotting\n                area. If True, the axis lines are mirrored. If\n                \"ticks\", the axis lines and ticks are mirrored.\n                If False, mirroring is disable. If \"all\", axis\n                lines are mirrored on all shared-axes subplots.\n                If \"allticks\", axis lines and ticks are\n                mirrored on all shared-axes subplots.\n            nticks\n                Specifies the maximum number of ticks for the\n                particular axis. The actual number of ticks\n                will be chosen automatically to be less than or\n                equal to `nticks`. Has an effect only if\n                `tickmode` is set to \"auto\".\n            overlaying\n                If set a same-letter axis id, this axis is\n                overlaid on top of the corresponding same-\n                letter axis, with traces and axes visible for\n                both axes. If False, this axis does not overlay\n                any same-letter axes. In this case, for axes\n                with overlapping domains only the highest-\n                numbered axis will be visible.\n            position\n                Sets the position of this axis in the plotting\n                space (in normalized coordinates). Only has an\n                effect if `anchor` is set to \"free\".\n            range\n                Sets the range of this axis. If the axis `type`\n                is \"log\", then you must take the log of your\n                desired range (e.g. to set the range from 1 to\n                100, set the range from 0 to 2). If the axis\n                `type` is \"date\", it should be date strings,\n                like date data, though Date objects and unix\n                milliseconds will be accepted and converted to\n                strings. If the axis `type` is \"category\", it\n                should be numbers, using the scale where each\n                category is assigned a serial number from zero\n                in the order it appears.\n            rangemode\n                If \"normal\", the range is computed in relation\n                to the extrema of the input data. If *tozero*`,\n                the range extends to 0, regardless of the input\n                data If \"nonnegative\", the range is non-\n                negative, regardless of the input data. Applies\n                only to linear axes.\n            rangeselector\n                plotly.graph_objects.layout.xaxis.Rangeselector\n                instance or dict with compatible properties\n            rangeslider\n                plotly.graph_objects.layout.xaxis.Rangeslider\n                instance or dict with compatible properties\n            scaleanchor\n                If set to another axis id (e.g. `x2`, `y`), the\n                range of this axis changes together with the\n                range of the corresponding axis such that the\n                scale of pixels per unit is in a constant\n                ratio. Both axes are still zoomable, but when\n                you zoom one, the other will zoom the same\n                amount, keeping a fixed midpoint. `constrain`\n                and `constraintoward` determine how we enforce\n                the constraint. You can chain these, ie `yaxis:\n                {scaleanchor: *x*}, xaxis2: {scaleanchor: *y*}`\n                but you can only link axes of the same `type`.\n                The linked axis can have the opposite letter\n                (to constrain the aspect ratio) or the same\n                letter (to match scales across subplots). Loops\n                (`yaxis: {scaleanchor: *x*}, xaxis:\n                {scaleanchor: *y*}` or longer) are redundant\n                and the last constraint encountered will be\n                ignored to avoid possible inconsistent\n                constraints via `scaleratio`. Note that setting\n                axes simultaneously in both a `scaleanchor` and\n                a `matches` constraint is currently forbidden.\n            scaleratio\n                If this axis is linked to another by\n                `scaleanchor`, this determines the pixel to\n                unit scale ratio. For example, if this value is\n                10, then every unit on this axis spans 10 times\n                the number of pixels as a unit on the linked\n                axis. Use this for example to create an\n                elevation profile where the vertical scale is\n                exaggerated a fixed amount with respect to the\n                horizontal.\n            separatethousands\n                If \"true\", even 4-digit integers are separated\n            showdividers\n                Determines whether or not a dividers are drawn\n                between the category levels of this axis. Only\n                has an effect on \"multicategory\" axes.\n            showexponent\n                If \"all\", all exponents are shown besides their\n                significands. If \"first\", only the exponent of\n                the first tick is shown. If \"last\", only the\n                exponent of the last tick is shown. If \"none\",\n                no exponents appear.\n            showgrid\n                Determines whether or not grid lines are drawn.\n                If True, the grid lines are drawn at every tick\n                mark.\n            showline\n                Determines whether or not a line bounding this\n                axis is drawn.\n            showspikes\n                Determines whether or not spikes (aka\n                droplines) are drawn for this axis. Note: This\n                only takes affect when hovermode = closest\n            showticklabels\n                Determines whether or not the tick labels are\n                drawn.\n            showtickprefix\n                If \"all\", all tick labels are displayed with a\n                prefix. If \"first\", only the first tick is\n                displayed with a prefix. If \"last\", only the\n                last tick is displayed with a suffix. If\n                \"none\", tick prefixes are hidden.\n            showticksuffix\n                Same as `showtickprefix` but for tick suffixes.\n            side\n                Determines whether a x (y) axis is positioned\n                at the \"bottom\" (\"left\") or \"top\" (\"right\") of\n                the plotting area.\n            spikecolor\n                Sets the spike color. If undefined, will use\n                the series color\n            spikedash\n                Sets the dash style of lines. Set to a dash\n                type string (\"solid\", \"dot\", \"dash\",\n                \"longdash\", \"dashdot\", or \"longdashdot\") or a\n                dash length list in px (eg \"5px,10px,2px,2px\").\n            spikemode\n                Determines the drawing mode for the spike line\n                If \"toaxis\", the line is drawn from the data\n                point to the axis the  series is plotted on. If\n                \"across\", the line is drawn across the entire\n                plot area, and supercedes \"toaxis\". If\n                \"marker\", then a marker dot is drawn on the\n                axis the series is plotted on\n            spikesnap\n                Determines whether spikelines are stuck to the\n                cursor or to the closest datapoints.\n            spikethickness\n                Sets the width (in px) of the zero line.\n            tick0\n                Sets the placement of the first tick on this\n                axis. Use with `dtick`. If the axis `type` is\n                \"log\", then you must take the log of your\n                starting tick (e.g. to set the starting tick to\n                100, set the `tick0` to 2) except when\n                `dtick`=*L<f>* (see `dtick` for more info). If\n                the axis `type` is \"date\", it should be a date\n                string, like date data. If the axis `type` is\n                \"category\", it should be a number, using the\n                scale where each category is assigned a serial\n                number from zero in the order it appears.\n            tickangle\n                Sets the angle of the tick labels with respect\n                to the horizontal. For example, a `tickangle`\n                of -90 draws the tick labels vertically.\n            tickcolor\n                Sets the tick color.\n            tickfont\n                Sets the tick font.\n            tickformat\n                Sets the tick label formatting rule using d3\n                formatting mini-languages which are very\n                similar to those in Python. For numbers, see:\n                https://github.com/d3/d3-3.x-api-\n                reference/blob/master/Formatting.md#d3_format\n                And for dates see:\n                https://github.com/d3/d3-3.x-api-\n                reference/blob/master/Time-Formatting.md#format\n                We add one item to d3's date formatter: \"%{n}f\"\n                for fractional seconds with n digits. For\n                example, *2016-10-13 09:15:23.456* with\n                tickformat \"%H~%M~%S.%2f\" would display\n                \"09~15~23.46\"\n            tickformatstops\n                A tuple of plotly.graph_objects.layout.xaxis.Ti\n                ckformatstop instances or dicts with compatible\n                properties\n            tickformatstopdefaults\n                When used in a template (as layout.template.lay\n                out.xaxis.tickformatstopdefaults), sets the\n                default property values to use for elements of\n                layout.xaxis.tickformatstops\n            ticklen\n                Sets the tick length (in px).\n            tickmode\n                Sets the tick mode for this axis. If \"auto\",\n                the number of ticks is set via `nticks`. If\n                \"linear\", the placement of the ticks is\n                determined by a starting position `tick0` and a\n                tick step `dtick` (\"linear\" is the default\n                value if `tick0` and `dtick` are provided). If\n                \"array\", the placement of the ticks is set via\n                `tickvals` and the tick text is `ticktext`.\n                (\"array\" is the default value if `tickvals` is\n                provided).\n            tickprefix\n                Sets a tick label prefix.\n            ticks\n                Determines whether ticks are drawn or not. If\n                \"\", this axis' ticks are not drawn. If\n                \"outside\" (\"inside\"), this axis' are drawn\n                outside (inside) the axis lines.\n            tickson\n                Determines where ticks and grid lines are drawn\n                with respect to their corresponding tick\n                labels. Only has an effect for axes of `type`\n                \"category\" or \"multicategory\". When set to\n                \"boundaries\", ticks and grid lines are drawn\n                half a category to the left/bottom of labels.\n            ticksuffix\n                Sets a tick label suffix.\n            ticktext\n                Sets the text displayed at the ticks position\n                via `tickvals`. Only has an effect if\n                `tickmode` is set to \"array\". Used with\n                `tickvals`.\n            ticktextsrc\n                Sets the source reference on plot.ly for\n                ticktext .\n            tickvals\n                Sets the values at which ticks on this axis\n                appear. Only has an effect if `tickmode` is set\n                to \"array\". Used with `ticktext`.\n            tickvalssrc\n                Sets the source reference on plot.ly for\n                tickvals .\n            tickwidth\n                Sets the tick width (in px).\n            title\n                plotly.graph_objects.layout.xaxis.Title\n                instance or dict with compatible properties\n            titlefont\n                Deprecated: Please use layout.xaxis.title.font\n                instead. Sets this axis' title font. Note that\n                the title's font used to be customized by the\n                now deprecated `titlefont` attribute.\n            type\n                Sets the axis type. By default, plotly attempts\n                to determined the axis type by looking into the\n                data of the traces that referenced the axis in\n                question.\n            uirevision\n                Controls persistence of user-driven changes in\n                axis `range`, `autorange`, and `title` if in\n                `editable: true` configuration. Defaults to\n                `layout.uirevision`.\n            visible\n                A single toggle to hide the axis while\n                preserving interaction like dragging. Default\n                is true when a cheater plot is present on the\n                axis, otherwise false\n            zeroline\n                Determines whether or not a line is drawn at\n                along the 0 value of this axis. If True, the\n                zero line is drawn on top of the grid lines.\n            zerolinecolor\n                Sets the line color of the zero line.\n            zerolinewidth\n                Sets the width (in px) of the zero line.\n"
     ]
    }
   ],
   "source": [
    "train_data = go.Scatter(x=train_stream[1], y=train_stream[2], mode=\"lines\", name='Training Stream')\n",
    "pred_data = go.Scatter(x=pred_stream[0], y=pred_stream[1], mode=\"lines\", name='Predicted Stream')\n",
    "actual_data = go.Scatter(x=actual_stream[1], y=actual_stream[2], mode=\"lines\", name='Actual Stream')\n",
    "\n",
    "layout =go.Layout(title='Stream Data Comparison',\n",
    "                 xaxis=dict(range([min(train_stream[1]), max(train_stream[1])])) ,\n",
    "                  yaxis=dict(range([min(train_stream[2]), max(train_stream[2])])) ,\n",
    "                 )\n",
    "\n",
    "\n",
    "l = len(train_stream[1])\n",
    "frames = [go.Frame(data=\n",
    "            [go.Scatter(\n",
    "                    x=train_stream[1][0:m],\n",
    "                    y=train_stream[2][0:m],\n",
    "                )]\n",
    "          ) for m in range(l)]\n",
    "\n",
    "fig = go.Figure(data=[actual_data, pred_data], layout=layout, frames=frames)\n",
    "fig.show()"
   ]
  },
  {
   "cell_type": "code",
   "execution_count": 63,
   "metadata": {},
   "outputs": [],
   "source": [
    "import plotly.express as px\n",
    "df = px.data.gapminder()"
   ]
  },
  {
   "cell_type": "code",
   "execution_count": 68,
   "metadata": {},
   "outputs": [
    {
     "data": {
      "text/html": [
       "<div>\n",
       "<style scoped>\n",
       "    .dataframe tbody tr th:only-of-type {\n",
       "        vertical-align: middle;\n",
       "    }\n",
       "\n",
       "    .dataframe tbody tr th {\n",
       "        vertical-align: top;\n",
       "    }\n",
       "\n",
       "    .dataframe thead th {\n",
       "        text-align: right;\n",
       "    }\n",
       "</style>\n",
       "<table border=\"1\" class=\"dataframe\">\n",
       "  <thead>\n",
       "    <tr style=\"text-align: right;\">\n",
       "      <th></th>\n",
       "      <th>country</th>\n",
       "      <th>continent</th>\n",
       "      <th>year</th>\n",
       "      <th>lifeExp</th>\n",
       "      <th>pop</th>\n",
       "      <th>gdpPercap</th>\n",
       "      <th>iso_alpha</th>\n",
       "      <th>iso_num</th>\n",
       "    </tr>\n",
       "  </thead>\n",
       "  <tbody>\n",
       "    <tr>\n",
       "      <th>0</th>\n",
       "      <td>Afghanistan</td>\n",
       "      <td>Asia</td>\n",
       "      <td>1952</td>\n",
       "      <td>28.801</td>\n",
       "      <td>8425333</td>\n",
       "      <td>779.445314</td>\n",
       "      <td>AFG</td>\n",
       "      <td>4</td>\n",
       "    </tr>\n",
       "    <tr>\n",
       "      <th>1</th>\n",
       "      <td>Afghanistan</td>\n",
       "      <td>Asia</td>\n",
       "      <td>1957</td>\n",
       "      <td>30.332</td>\n",
       "      <td>9240934</td>\n",
       "      <td>820.853030</td>\n",
       "      <td>AFG</td>\n",
       "      <td>4</td>\n",
       "    </tr>\n",
       "    <tr>\n",
       "      <th>2</th>\n",
       "      <td>Afghanistan</td>\n",
       "      <td>Asia</td>\n",
       "      <td>1962</td>\n",
       "      <td>31.997</td>\n",
       "      <td>10267083</td>\n",
       "      <td>853.100710</td>\n",
       "      <td>AFG</td>\n",
       "      <td>4</td>\n",
       "    </tr>\n",
       "    <tr>\n",
       "      <th>3</th>\n",
       "      <td>Afghanistan</td>\n",
       "      <td>Asia</td>\n",
       "      <td>1967</td>\n",
       "      <td>34.020</td>\n",
       "      <td>11537966</td>\n",
       "      <td>836.197138</td>\n",
       "      <td>AFG</td>\n",
       "      <td>4</td>\n",
       "    </tr>\n",
       "    <tr>\n",
       "      <th>4</th>\n",
       "      <td>Afghanistan</td>\n",
       "      <td>Asia</td>\n",
       "      <td>1972</td>\n",
       "      <td>36.088</td>\n",
       "      <td>13079460</td>\n",
       "      <td>739.981106</td>\n",
       "      <td>AFG</td>\n",
       "      <td>4</td>\n",
       "    </tr>\n",
       "  </tbody>\n",
       "</table>\n",
       "</div>"
      ],
      "text/plain": [
       "       country continent  year  lifeExp       pop   gdpPercap iso_alpha  \\\n",
       "0  Afghanistan      Asia  1952   28.801   8425333  779.445314       AFG   \n",
       "1  Afghanistan      Asia  1957   30.332   9240934  820.853030       AFG   \n",
       "2  Afghanistan      Asia  1962   31.997  10267083  853.100710       AFG   \n",
       "3  Afghanistan      Asia  1967   34.020  11537966  836.197138       AFG   \n",
       "4  Afghanistan      Asia  1972   36.088  13079460  739.981106       AFG   \n",
       "\n",
       "   iso_num  \n",
       "0        4  \n",
       "1        4  \n",
       "2        4  \n",
       "3        4  \n",
       "4        4  "
      ]
     },
     "execution_count": 68,
     "metadata": {},
     "output_type": "execute_result"
    }
   ],
   "source": [
    "df.head()"
   ]
  },
  {
   "cell_type": "code",
   "execution_count": 73,
   "metadata": {},
   "outputs": [
    {
     "data": {
      "text/plain": [
       "-0.01"
      ]
     },
     "execution_count": 73,
     "metadata": {},
     "output_type": "execute_result"
    }
   ],
   "source": [
    "min(train_stream[2])"
   ]
  },
  {
   "cell_type": "code",
   "execution_count": 77,
   "metadata": {},
   "outputs": [
    {
     "data": {
      "application/vnd.plotly.v1+json": {
       "config": {
        "plotlyServerURL": "https://plot.ly"
       },
       "data": [
        {
         "hoverlabel": {
          "namelength": 0
         },
         "hovertemplate": "1=%{x}<br>2=%{y}",
         "legendgroup": "",
         "marker": {
          "color": "#636efa",
          "symbol": "circle"
         },
         "mode": "markers",
         "name": "",
         "showlegend": false,
         "type": "scatter",
         "x": [
          0,
          0
         ],
         "xaxis": "x",
         "y": [
          0,
          0
         ],
         "yaxis": "y"
        }
       ],
       "frames": [
        {
         "data": [
          {
           "hoverlabel": {
            "namelength": 0
           },
           "hovertemplate": "1=%{x}<br>2=%{y}",
           "legendgroup": "",
           "marker": {
            "color": "#636efa",
            "symbol": "circle"
           },
           "mode": "markers",
           "name": "",
           "showlegend": false,
           "type": "scatter",
           "x": [
            0,
            0
           ],
           "xaxis": "x",
           "y": [
            0,
            0
           ],
           "yaxis": "y"
          }
         ],
         "name": "-0.0"
        },
        {
         "data": [
          {
           "hoverlabel": {
            "namelength": 0
           },
           "hovertemplate": "1=%{x}<br>2=%{y}",
           "legendgroup": "",
           "marker": {
            "color": "#636efa",
            "symbol": "circle"
           },
           "mode": "markers",
           "name": "",
           "showlegend": false,
           "type": "scatter",
           "x": [
            -0.2,
            -0.2
           ],
           "xaxis": "x",
           "y": [
            -0.01,
            -0.01
           ],
           "yaxis": "y"
          }
         ],
         "name": "-0.2"
        },
        {
         "data": [
          {
           "hoverlabel": {
            "namelength": 0
           },
           "hovertemplate": "1=%{x}<br>2=%{y}",
           "legendgroup": "",
           "marker": {
            "color": "#636efa",
            "symbol": "circle"
           },
           "mode": "markers",
           "name": "",
           "showlegend": false,
           "type": "scatter",
           "x": [
            -0.25,
            -0.25
           ],
           "xaxis": "x",
           "y": [
            0.32,
            0.32
           ],
           "yaxis": "y"
          }
         ],
         "name": "-0.25"
        },
        {
         "data": [
          {
           "hoverlabel": {
            "namelength": 0
           },
           "hovertemplate": "1=%{x}<br>2=%{y}",
           "legendgroup": "",
           "marker": {
            "color": "#636efa",
            "symbol": "circle"
           },
           "mode": "markers",
           "name": "",
           "showlegend": false,
           "type": "scatter",
           "x": [
            -0.27,
            -0.27
           ],
           "xaxis": "x",
           "y": [
            1.14,
            1.14
           ],
           "yaxis": "y"
          }
         ],
         "name": "-0.27"
        },
        {
         "data": [
          {
           "hoverlabel": {
            "namelength": 0
           },
           "hovertemplate": "1=%{x}<br>2=%{y}",
           "legendgroup": "",
           "marker": {
            "color": "#636efa",
            "symbol": "circle"
           },
           "mode": "markers",
           "name": "",
           "showlegend": false,
           "type": "scatter",
           "x": [
            -0.8,
            -0.8
           ],
           "xaxis": "x",
           "y": [
            2.06,
            2.06
           ],
           "yaxis": "y"
          }
         ],
         "name": "-0.8"
        },
        {
         "data": [
          {
           "hoverlabel": {
            "namelength": 0
           },
           "hovertemplate": "1=%{x}<br>2=%{y}",
           "legendgroup": "",
           "marker": {
            "color": "#636efa",
            "symbol": "circle"
           },
           "mode": "markers",
           "name": "",
           "showlegend": false,
           "type": "scatter",
           "x": [
            -1.25,
            -1.25
           ],
           "xaxis": "x",
           "y": [
            3.3,
            3.3
           ],
           "yaxis": "y"
          }
         ],
         "name": "-1.25"
        },
        {
         "data": [
          {
           "hoverlabel": {
            "namelength": 0
           },
           "hovertemplate": "1=%{x}<br>2=%{y}",
           "legendgroup": "",
           "marker": {
            "color": "#636efa",
            "symbol": "circle"
           },
           "mode": "markers",
           "name": "",
           "showlegend": false,
           "type": "scatter",
           "x": [
            -2.53,
            -2.53
           ],
           "xaxis": "x",
           "y": [
            3.69,
            3.69
           ],
           "yaxis": "y"
          }
         ],
         "name": "-2.53"
        },
        {
         "data": [
          {
           "hoverlabel": {
            "namelength": 0
           },
           "hovertemplate": "1=%{x}<br>2=%{y}",
           "legendgroup": "",
           "marker": {
            "color": "#636efa",
            "symbol": "circle"
           },
           "mode": "markers",
           "name": "",
           "showlegend": false,
           "type": "scatter",
           "x": [
            -2.69,
            -2.69
           ],
           "xaxis": "x",
           "y": [
            3.96,
            3.96
           ],
           "yaxis": "y"
          }
         ],
         "name": "-2.69"
        },
        {
         "data": [
          {
           "hoverlabel": {
            "namelength": 0
           },
           "hovertemplate": "1=%{x}<br>2=%{y}",
           "legendgroup": "",
           "marker": {
            "color": "#636efa",
            "symbol": "circle"
           },
           "mode": "markers",
           "name": "",
           "showlegend": false,
           "type": "scatter",
           "x": [
            -2.02,
            -2.02
           ],
           "xaxis": "x",
           "y": [
            5.03,
            5.03
           ],
           "yaxis": "y"
          }
         ],
         "name": "-2.02"
        },
        {
         "data": [
          {
           "hoverlabel": {
            "namelength": 0
           },
           "hovertemplate": "1=%{x}<br>2=%{y}",
           "legendgroup": "",
           "marker": {
            "color": "#636efa",
            "symbol": "circle"
           },
           "mode": "markers",
           "name": "",
           "showlegend": false,
           "type": "scatter",
           "x": [
            -0.82,
            -0.82,
            -0.82
           ],
           "xaxis": "x",
           "y": [
            5.55,
            6.25,
            5.55
           ],
           "yaxis": "y"
          }
         ],
         "name": "-0.82"
        },
        {
         "data": [
          {
           "hoverlabel": {
            "namelength": 0
           },
           "hovertemplate": "1=%{x}<br>2=%{y}",
           "legendgroup": "",
           "marker": {
            "color": "#636efa",
            "symbol": "circle"
           },
           "mode": "markers",
           "name": "",
           "showlegend": false,
           "type": "scatter",
           "x": [
            0.45,
            0.45
           ],
           "xaxis": "x",
           "y": [
            5.67,
            5.67
           ],
           "yaxis": "y"
          }
         ],
         "name": "0.45"
        },
        {
         "data": [
          {
           "hoverlabel": {
            "namelength": 0
           },
           "hovertemplate": "1=%{x}<br>2=%{y}",
           "legendgroup": "",
           "marker": {
            "color": "#636efa",
            "symbol": "circle"
           },
           "mode": "markers",
           "name": "",
           "showlegend": false,
           "type": "scatter",
           "x": [
            1.77,
            1.77
           ],
           "xaxis": "x",
           "y": [
            5.71,
            5.71
           ],
           "yaxis": "y"
          }
         ],
         "name": "1.77"
        },
        {
         "data": [
          {
           "hoverlabel": {
            "namelength": 0
           },
           "hovertemplate": "1=%{x}<br>2=%{y}",
           "legendgroup": "",
           "marker": {
            "color": "#636efa",
            "symbol": "circle"
           },
           "mode": "markers",
           "name": "",
           "showlegend": false,
           "type": "scatter",
           "x": [
            3.1,
            3.1
           ],
           "xaxis": "x",
           "y": [
            5.69,
            5.69
           ],
           "yaxis": "y"
          }
         ],
         "name": "3.1"
        },
        {
         "data": [
          {
           "hoverlabel": {
            "namelength": 0
           },
           "hovertemplate": "1=%{x}<br>2=%{y}",
           "legendgroup": "",
           "marker": {
            "color": "#636efa",
            "symbol": "circle"
           },
           "mode": "markers",
           "name": "",
           "showlegend": false,
           "type": "scatter",
           "x": [
            4.4
           ],
           "xaxis": "x",
           "y": [
            5.71
           ],
           "yaxis": "y"
          }
         ],
         "name": "4.4"
        },
        {
         "data": [
          {
           "hoverlabel": {
            "namelength": 0
           },
           "hovertemplate": "1=%{x}<br>2=%{y}",
           "legendgroup": "",
           "marker": {
            "color": "#636efa",
            "symbol": "circle"
           },
           "mode": "markers",
           "name": "",
           "showlegend": false,
           "type": "scatter",
           "x": [
            5.73
           ],
           "xaxis": "x",
           "y": [
            5.77
           ],
           "yaxis": "y"
          }
         ],
         "name": "5.73"
        },
        {
         "data": [
          {
           "hoverlabel": {
            "namelength": 0
           },
           "hovertemplate": "1=%{x}<br>2=%{y}",
           "legendgroup": "",
           "marker": {
            "color": "#636efa",
            "symbol": "circle"
           },
           "mode": "markers",
           "name": "",
           "showlegend": false,
           "type": "scatter",
           "x": [
            7.06
           ],
           "xaxis": "x",
           "y": [
            5.81
           ],
           "yaxis": "y"
          }
         ],
         "name": "7.06"
        },
        {
         "data": [
          {
           "hoverlabel": {
            "namelength": 0
           },
           "hovertemplate": "1=%{x}<br>2=%{y}",
           "legendgroup": "",
           "marker": {
            "color": "#636efa",
            "symbol": "circle"
           },
           "mode": "markers",
           "name": "",
           "showlegend": false,
           "type": "scatter",
           "x": [
            8.38
           ],
           "xaxis": "x",
           "y": [
            5.86
           ],
           "yaxis": "y"
          }
         ],
         "name": "8.38"
        },
        {
         "data": [
          {
           "hoverlabel": {
            "namelength": 0
           },
           "hovertemplate": "1=%{x}<br>2=%{y}",
           "legendgroup": "",
           "marker": {
            "color": "#636efa",
            "symbol": "circle"
           },
           "mode": "markers",
           "name": "",
           "showlegend": false,
           "type": "scatter",
           "x": [
            9.71
           ],
           "xaxis": "x",
           "y": [
            5.99
           ],
           "yaxis": "y"
          }
         ],
         "name": "9.71"
        },
        {
         "data": [
          {
           "hoverlabel": {
            "namelength": 0
           },
           "hovertemplate": "1=%{x}<br>2=%{y}",
           "legendgroup": "",
           "marker": {
            "color": "#636efa",
            "symbol": "circle"
           },
           "mode": "markers",
           "name": "",
           "showlegend": false,
           "type": "scatter",
           "x": [
            11.1
           ],
           "xaxis": "x",
           "y": [
            6.09
           ],
           "yaxis": "y"
          }
         ],
         "name": "11.1"
        },
        {
         "data": [
          {
           "hoverlabel": {
            "namelength": 0
           },
           "hovertemplate": "1=%{x}<br>2=%{y}",
           "legendgroup": "",
           "marker": {
            "color": "#636efa",
            "symbol": "circle"
           },
           "mode": "markers",
           "name": "",
           "showlegend": false,
           "type": "scatter",
           "x": [
            12.4
           ],
           "xaxis": "x",
           "y": [
            6.24
           ],
           "yaxis": "y"
          }
         ],
         "name": "12.4"
        },
        {
         "data": [
          {
           "hoverlabel": {
            "namelength": 0
           },
           "hovertemplate": "1=%{x}<br>2=%{y}",
           "legendgroup": "",
           "marker": {
            "color": "#636efa",
            "symbol": "circle"
           },
           "mode": "markers",
           "name": "",
           "showlegend": false,
           "type": "scatter",
           "x": [
            13.67
           ],
           "xaxis": "x",
           "y": [
            6.43
           ],
           "yaxis": "y"
          }
         ],
         "name": "13.67"
        },
        {
         "data": [
          {
           "hoverlabel": {
            "namelength": 0
           },
           "hovertemplate": "1=%{x}<br>2=%{y}",
           "legendgroup": "",
           "marker": {
            "color": "#636efa",
            "symbol": "circle"
           },
           "mode": "markers",
           "name": "",
           "showlegend": false,
           "type": "scatter",
           "x": [
            14.95
           ],
           "xaxis": "x",
           "y": [
            6.53
           ],
           "yaxis": "y"
          }
         ],
         "name": "14.95"
        },
        {
         "data": [
          {
           "hoverlabel": {
            "namelength": 0
           },
           "hovertemplate": "1=%{x}<br>2=%{y}",
           "legendgroup": "",
           "marker": {
            "color": "#636efa",
            "symbol": "circle"
           },
           "mode": "markers",
           "name": "",
           "showlegend": false,
           "type": "scatter",
           "x": [
            16.23
           ],
           "xaxis": "x",
           "y": [
            6.51
           ],
           "yaxis": "y"
          }
         ],
         "name": "16.23"
        },
        {
         "data": [
          {
           "hoverlabel": {
            "namelength": 0
           },
           "hovertemplate": "1=%{x}<br>2=%{y}",
           "legendgroup": "",
           "marker": {
            "color": "#636efa",
            "symbol": "circle"
           },
           "mode": "markers",
           "name": "",
           "showlegend": false,
           "type": "scatter",
           "x": [
            17.53
           ],
           "xaxis": "x",
           "y": [
            6.47
           ],
           "yaxis": "y"
          }
         ],
         "name": "17.53"
        },
        {
         "data": [
          {
           "hoverlabel": {
            "namelength": 0
           },
           "hovertemplate": "1=%{x}<br>2=%{y}",
           "legendgroup": "",
           "marker": {
            "color": "#636efa",
            "symbol": "circle"
           },
           "mode": "markers",
           "name": "",
           "showlegend": false,
           "type": "scatter",
           "x": [
            18.82
           ],
           "xaxis": "x",
           "y": [
            6.53
           ],
           "yaxis": "y"
          }
         ],
         "name": "18.82"
        },
        {
         "data": [
          {
           "hoverlabel": {
            "namelength": 0
           },
           "hovertemplate": "1=%{x}<br>2=%{y}",
           "legendgroup": "",
           "marker": {
            "color": "#636efa",
            "symbol": "circle"
           },
           "mode": "markers",
           "name": "",
           "showlegend": false,
           "type": "scatter",
           "x": [
            20.1
           ],
           "xaxis": "x",
           "y": [
            6.61
           ],
           "yaxis": "y"
          }
         ],
         "name": "20.1"
        },
        {
         "data": [
          {
           "hoverlabel": {
            "namelength": 0
           },
           "hovertemplate": "1=%{x}<br>2=%{y}",
           "legendgroup": "",
           "marker": {
            "color": "#636efa",
            "symbol": "circle"
           },
           "mode": "markers",
           "name": "",
           "showlegend": false,
           "type": "scatter",
           "x": [
            21.42
           ],
           "xaxis": "x",
           "y": [
            6.68
           ],
           "yaxis": "y"
          }
         ],
         "name": "21.42"
        },
        {
         "data": [
          {
           "hoverlabel": {
            "namelength": 0
           },
           "hovertemplate": "1=%{x}<br>2=%{y}",
           "legendgroup": "",
           "marker": {
            "color": "#636efa",
            "symbol": "circle"
           },
           "mode": "markers",
           "name": "",
           "showlegend": false,
           "type": "scatter",
           "x": [
            22.73
           ],
           "xaxis": "x",
           "y": [
            6.82
           ],
           "yaxis": "y"
          }
         ],
         "name": "22.73"
        },
        {
         "data": [
          {
           "hoverlabel": {
            "namelength": 0
           },
           "hovertemplate": "1=%{x}<br>2=%{y}",
           "legendgroup": "",
           "marker": {
            "color": "#636efa",
            "symbol": "circle"
           },
           "mode": "markers",
           "name": "",
           "showlegend": false,
           "type": "scatter",
           "x": [
            24.02
           ],
           "xaxis": "x",
           "y": [
            6.87
           ],
           "yaxis": "y"
          }
         ],
         "name": "24.02"
        },
        {
         "data": [
          {
           "hoverlabel": {
            "namelength": 0
           },
           "hovertemplate": "1=%{x}<br>2=%{y}",
           "legendgroup": "",
           "marker": {
            "color": "#636efa",
            "symbol": "circle"
           },
           "mode": "markers",
           "name": "",
           "showlegend": false,
           "type": "scatter",
           "x": [
            25.29
           ],
           "xaxis": "x",
           "y": [
            6.93
           ],
           "yaxis": "y"
          }
         ],
         "name": "25.29"
        },
        {
         "data": [
          {
           "hoverlabel": {
            "namelength": 0
           },
           "hovertemplate": "1=%{x}<br>2=%{y}",
           "legendgroup": "",
           "marker": {
            "color": "#636efa",
            "symbol": "circle"
           },
           "mode": "markers",
           "name": "",
           "showlegend": false,
           "type": "scatter",
           "x": [
            26.51
           ],
           "xaxis": "x",
           "y": [
            6.88
           ],
           "yaxis": "y"
          }
         ],
         "name": "26.51"
        },
        {
         "data": [
          {
           "hoverlabel": {
            "namelength": 0
           },
           "hovertemplate": "1=%{x}<br>2=%{y}",
           "legendgroup": "",
           "marker": {
            "color": "#636efa",
            "symbol": "circle"
           },
           "mode": "markers",
           "name": "",
           "showlegend": false,
           "type": "scatter",
           "x": [
            27.5
           ],
           "xaxis": "x",
           "y": [
            6.95
           ],
           "yaxis": "y"
          }
         ],
         "name": "27.5"
        },
        {
         "data": [
          {
           "hoverlabel": {
            "namelength": 0
           },
           "hovertemplate": "1=%{x}<br>2=%{y}",
           "legendgroup": "",
           "marker": {
            "color": "#636efa",
            "symbol": "circle"
           },
           "mode": "markers",
           "name": "",
           "showlegend": false,
           "type": "scatter",
           "x": [
            26.32
           ],
           "xaxis": "x",
           "y": [
            6.94
           ],
           "yaxis": "y"
          }
         ],
         "name": "26.32"
        },
        {
         "data": [
          {
           "hoverlabel": {
            "namelength": 0
           },
           "hovertemplate": "1=%{x}<br>2=%{y}",
           "legendgroup": "",
           "marker": {
            "color": "#636efa",
            "symbol": "circle"
           },
           "mode": "markers",
           "name": "",
           "showlegend": false,
           "type": "scatter",
           "x": [
            24.94
           ],
           "xaxis": "x",
           "y": [
            6.85
           ],
           "yaxis": "y"
          }
         ],
         "name": "24.94"
        },
        {
         "data": [
          {
           "hoverlabel": {
            "namelength": 0
           },
           "hovertemplate": "1=%{x}<br>2=%{y}",
           "legendgroup": "",
           "marker": {
            "color": "#636efa",
            "symbol": "circle"
           },
           "mode": "markers",
           "name": "",
           "showlegend": false,
           "type": "scatter",
           "x": [
            23.55
           ],
           "xaxis": "x",
           "y": [
            6.88
           ],
           "yaxis": "y"
          }
         ],
         "name": "23.55"
        },
        {
         "data": [
          {
           "hoverlabel": {
            "namelength": 0
           },
           "hovertemplate": "1=%{x}<br>2=%{y}",
           "legendgroup": "",
           "marker": {
            "color": "#636efa",
            "symbol": "circle"
           },
           "mode": "markers",
           "name": "",
           "showlegend": false,
           "type": "scatter",
           "x": [
            22.16
           ],
           "xaxis": "x",
           "y": [
            6.8
           ],
           "yaxis": "y"
          }
         ],
         "name": "22.16"
        },
        {
         "data": [
          {
           "hoverlabel": {
            "namelength": 0
           },
           "hovertemplate": "1=%{x}<br>2=%{y}",
           "legendgroup": "",
           "marker": {
            "color": "#636efa",
            "symbol": "circle"
           },
           "mode": "markers",
           "name": "",
           "showlegend": false,
           "type": "scatter",
           "x": [
            20.8
           ],
           "xaxis": "x",
           "y": [
            6.71
           ],
           "yaxis": "y"
          }
         ],
         "name": "20.8"
        },
        {
         "data": [
          {
           "hoverlabel": {
            "namelength": 0
           },
           "hovertemplate": "1=%{x}<br>2=%{y}",
           "legendgroup": "",
           "marker": {
            "color": "#636efa",
            "symbol": "circle"
           },
           "mode": "markers",
           "name": "",
           "showlegend": false,
           "type": "scatter",
           "x": [
            19.45
           ],
           "xaxis": "x",
           "y": [
            6.6
           ],
           "yaxis": "y"
          }
         ],
         "name": "19.45"
        },
        {
         "data": [
          {
           "hoverlabel": {
            "namelength": 0
           },
           "hovertemplate": "1=%{x}<br>2=%{y}",
           "legendgroup": "",
           "marker": {
            "color": "#636efa",
            "symbol": "circle"
           },
           "mode": "markers",
           "name": "",
           "showlegend": false,
           "type": "scatter",
           "x": [
            18.11
           ],
           "xaxis": "x",
           "y": [
            6.55
           ],
           "yaxis": "y"
          }
         ],
         "name": "18.11"
        },
        {
         "data": [
          {
           "hoverlabel": {
            "namelength": 0
           },
           "hovertemplate": "1=%{x}<br>2=%{y}",
           "legendgroup": "",
           "marker": {
            "color": "#636efa",
            "symbol": "circle"
           },
           "mode": "markers",
           "name": "",
           "showlegend": false,
           "type": "scatter",
           "x": [
            16.76
           ],
           "xaxis": "x",
           "y": [
            6.5
           ],
           "yaxis": "y"
          }
         ],
         "name": "16.76"
        },
        {
         "data": [
          {
           "hoverlabel": {
            "namelength": 0
           },
           "hovertemplate": "1=%{x}<br>2=%{y}",
           "legendgroup": "",
           "marker": {
            "color": "#636efa",
            "symbol": "circle"
           },
           "mode": "markers",
           "name": "",
           "showlegend": false,
           "type": "scatter",
           "x": [
            13.95
           ],
           "xaxis": "x",
           "y": [
            6.45
           ],
           "yaxis": "y"
          }
         ],
         "name": "13.95"
        },
        {
         "data": [
          {
           "hoverlabel": {
            "namelength": 0
           },
           "hovertemplate": "1=%{x}<br>2=%{y}",
           "legendgroup": "",
           "marker": {
            "color": "#636efa",
            "symbol": "circle"
           },
           "mode": "markers",
           "name": "",
           "showlegend": false,
           "type": "scatter",
           "x": [
            12.54
           ],
           "xaxis": "x",
           "y": [
            6.37
           ],
           "yaxis": "y"
          }
         ],
         "name": "12.54"
        },
        {
         "data": [
          {
           "hoverlabel": {
            "namelength": 0
           },
           "hovertemplate": "1=%{x}<br>2=%{y}",
           "legendgroup": "",
           "marker": {
            "color": "#636efa",
            "symbol": "circle"
           },
           "mode": "markers",
           "name": "",
           "showlegend": false,
           "type": "scatter",
           "x": [
            11.15
           ],
           "xaxis": "x",
           "y": [
            6.27
           ],
           "yaxis": "y"
          }
         ],
         "name": "11.15"
        },
        {
         "data": [
          {
           "hoverlabel": {
            "namelength": 0
           },
           "hovertemplate": "1=%{x}<br>2=%{y}",
           "legendgroup": "",
           "marker": {
            "color": "#636efa",
            "symbol": "circle"
           },
           "mode": "markers",
           "name": "",
           "showlegend": false,
           "type": "scatter",
           "x": [
            9.76
           ],
           "xaxis": "x",
           "y": [
            6.24
           ],
           "yaxis": "y"
          }
         ],
         "name": "9.76"
        },
        {
         "data": [
          {
           "hoverlabel": {
            "namelength": 0
           },
           "hovertemplate": "1=%{x}<br>2=%{y}",
           "legendgroup": "",
           "marker": {
            "color": "#636efa",
            "symbol": "circle"
           },
           "mode": "markers",
           "name": "",
           "showlegend": false,
           "type": "scatter",
           "x": [
            8.37
           ],
           "xaxis": "x",
           "y": [
            6.27
           ],
           "yaxis": "y"
          }
         ],
         "name": "8.37"
        },
        {
         "data": [
          {
           "hoverlabel": {
            "namelength": 0
           },
           "hovertemplate": "1=%{x}<br>2=%{y}",
           "legendgroup": "",
           "marker": {
            "color": "#636efa",
            "symbol": "circle"
           },
           "mode": "markers",
           "name": "",
           "showlegend": false,
           "type": "scatter",
           "x": [
            7
           ],
           "xaxis": "x",
           "y": [
            6.25
           ],
           "yaxis": "y"
          }
         ],
         "name": "7.0"
        },
        {
         "data": [
          {
           "hoverlabel": {
            "namelength": 0
           },
           "hovertemplate": "1=%{x}<br>2=%{y}",
           "legendgroup": "",
           "marker": {
            "color": "#636efa",
            "symbol": "circle"
           },
           "mode": "markers",
           "name": "",
           "showlegend": false,
           "type": "scatter",
           "x": [
            5.63
           ],
           "xaxis": "x",
           "y": [
            6.26
           ],
           "yaxis": "y"
          }
         ],
         "name": "5.63"
        },
        {
         "data": [
          {
           "hoverlabel": {
            "namelength": 0
           },
           "hovertemplate": "1=%{x}<br>2=%{y}",
           "legendgroup": "",
           "marker": {
            "color": "#636efa",
            "symbol": "circle"
           },
           "mode": "markers",
           "name": "",
           "showlegend": false,
           "type": "scatter",
           "x": [
            4.26
           ],
           "xaxis": "x",
           "y": [
            6.25
           ],
           "yaxis": "y"
          }
         ],
         "name": "4.26"
        },
        {
         "data": [
          {
           "hoverlabel": {
            "namelength": 0
           },
           "hovertemplate": "1=%{x}<br>2=%{y}",
           "legendgroup": "",
           "marker": {
            "color": "#636efa",
            "symbol": "circle"
           },
           "mode": "markers",
           "name": "",
           "showlegend": false,
           "type": "scatter",
           "x": [
            2.95
           ],
           "xaxis": "x",
           "y": [
            6.05
           ],
           "yaxis": "y"
          }
         ],
         "name": "2.95"
        },
        {
         "data": [
          {
           "hoverlabel": {
            "namelength": 0
           },
           "hovertemplate": "1=%{x}<br>2=%{y}",
           "legendgroup": "",
           "marker": {
            "color": "#636efa",
            "symbol": "circle"
           },
           "mode": "markers",
           "name": "",
           "showlegend": false,
           "type": "scatter",
           "x": [
            1.56
           ],
           "xaxis": "x",
           "y": [
            6
           ],
           "yaxis": "y"
          }
         ],
         "name": "1.56"
        },
        {
         "data": [
          {
           "hoverlabel": {
            "namelength": 0
           },
           "hovertemplate": "1=%{x}<br>2=%{y}",
           "legendgroup": "",
           "marker": {
            "color": "#636efa",
            "symbol": "circle"
           },
           "mode": "markers",
           "name": "",
           "showlegend": false,
           "type": "scatter",
           "x": [
            0.21
           ],
           "xaxis": "x",
           "y": [
            6.01
           ],
           "yaxis": "y"
          }
         ],
         "name": "0.21"
        },
        {
         "data": [
          {
           "hoverlabel": {
            "namelength": 0
           },
           "hovertemplate": "1=%{x}<br>2=%{y}",
           "legendgroup": "",
           "marker": {
            "color": "#636efa",
            "symbol": "circle"
           },
           "mode": "markers",
           "name": "",
           "showlegend": false,
           "type": "scatter",
           "x": [
            -1.12
           ],
           "xaxis": "x",
           "y": [
            5.93
           ],
           "yaxis": "y"
          }
         ],
         "name": "-1.12"
        },
        {
         "data": [
          {
           "hoverlabel": {
            "namelength": 0
           },
           "hovertemplate": "1=%{x}<br>2=%{y}",
           "legendgroup": "",
           "marker": {
            "color": "#636efa",
            "symbol": "circle"
           },
           "mode": "markers",
           "name": "",
           "showlegend": false,
           "type": "scatter",
           "x": [
            -2.39
           ],
           "xaxis": "x",
           "y": [
            5.95
           ],
           "yaxis": "y"
          }
         ],
         "name": "-2.39"
        },
        {
         "data": [
          {
           "hoverlabel": {
            "namelength": 0
           },
           "hovertemplate": "1=%{x}<br>2=%{y}",
           "legendgroup": "",
           "marker": {
            "color": "#636efa",
            "symbol": "circle"
           },
           "mode": "markers",
           "name": "",
           "showlegend": false,
           "type": "scatter",
           "x": [
            -3.48
           ],
           "xaxis": "x",
           "y": [
            5.72
           ],
           "yaxis": "y"
          }
         ],
         "name": "-3.48"
        },
        {
         "data": [
          {
           "hoverlabel": {
            "namelength": 0
           },
           "hovertemplate": "1=%{x}<br>2=%{y}",
           "legendgroup": "",
           "marker": {
            "color": "#636efa",
            "symbol": "circle"
           },
           "mode": "markers",
           "name": "",
           "showlegend": false,
           "type": "scatter",
           "x": [
            -2.14
           ],
           "xaxis": "x",
           "y": [
            5.75
           ],
           "yaxis": "y"
          }
         ],
         "name": "-2.14"
        },
        {
         "data": [
          {
           "hoverlabel": {
            "namelength": 0
           },
           "hovertemplate": "1=%{x}<br>2=%{y}",
           "legendgroup": "",
           "marker": {
            "color": "#636efa",
            "symbol": "circle"
           },
           "mode": "markers",
           "name": "",
           "showlegend": false,
           "type": "scatter",
           "x": [
            -0.74
           ],
           "xaxis": "x",
           "y": [
            5.87
           ],
           "yaxis": "y"
          }
         ],
         "name": "-0.74"
        },
        {
         "data": [
          {
           "hoverlabel": {
            "namelength": 0
           },
           "hovertemplate": "1=%{x}<br>2=%{y}",
           "legendgroup": "",
           "marker": {
            "color": "#636efa",
            "symbol": "circle"
           },
           "mode": "markers",
           "name": "",
           "showlegend": false,
           "type": "scatter",
           "x": [
            0.64
           ],
           "xaxis": "x",
           "y": [
            5.85
           ],
           "yaxis": "y"
          }
         ],
         "name": "0.64"
        },
        {
         "data": [
          {
           "hoverlabel": {
            "namelength": 0
           },
           "hovertemplate": "1=%{x}<br>2=%{y}",
           "legendgroup": "",
           "marker": {
            "color": "#636efa",
            "symbol": "circle"
           },
           "mode": "markers",
           "name": "",
           "showlegend": false,
           "type": "scatter",
           "x": [
            2.04
           ],
           "xaxis": "x",
           "y": [
            5.85
           ],
           "yaxis": "y"
          }
         ],
         "name": "2.04"
        },
        {
         "data": [
          {
           "hoverlabel": {
            "namelength": 0
           },
           "hovertemplate": "1=%{x}<br>2=%{y}",
           "legendgroup": "",
           "marker": {
            "color": "#636efa",
            "symbol": "circle"
           },
           "mode": "markers",
           "name": "",
           "showlegend": false,
           "type": "scatter",
           "x": [
            3.48
           ],
           "xaxis": "x",
           "y": [
            5.87
           ],
           "yaxis": "y"
          }
         ],
         "name": "3.48"
        },
        {
         "data": [
          {
           "hoverlabel": {
            "namelength": 0
           },
           "hovertemplate": "1=%{x}<br>2=%{y}",
           "legendgroup": "",
           "marker": {
            "color": "#636efa",
            "symbol": "circle"
           },
           "mode": "markers",
           "name": "",
           "showlegend": false,
           "type": "scatter",
           "x": [
            4.91
           ],
           "xaxis": "x",
           "y": [
            5.95
           ],
           "yaxis": "y"
          }
         ],
         "name": "4.91"
        },
        {
         "data": [
          {
           "hoverlabel": {
            "namelength": 0
           },
           "hovertemplate": "1=%{x}<br>2=%{y}",
           "legendgroup": "",
           "marker": {
            "color": "#636efa",
            "symbol": "circle"
           },
           "mode": "markers",
           "name": "",
           "showlegend": false,
           "type": "scatter",
           "x": [
            6.31
           ],
           "xaxis": "x",
           "y": [
            6.04
           ],
           "yaxis": "y"
          }
         ],
         "name": "6.31"
        },
        {
         "data": [
          {
           "hoverlabel": {
            "namelength": 0
           },
           "hovertemplate": "1=%{x}<br>2=%{y}",
           "legendgroup": "",
           "marker": {
            "color": "#636efa",
            "symbol": "circle"
           },
           "mode": "markers",
           "name": "",
           "showlegend": false,
           "type": "scatter",
           "x": [
            7.7
           ],
           "xaxis": "x",
           "y": [
            6.08
           ],
           "yaxis": "y"
          }
         ],
         "name": "7.7"
        },
        {
         "data": [
          {
           "hoverlabel": {
            "namelength": 0
           },
           "hovertemplate": "1=%{x}<br>2=%{y}",
           "legendgroup": "",
           "marker": {
            "color": "#636efa",
            "symbol": "circle"
           },
           "mode": "markers",
           "name": "",
           "showlegend": false,
           "type": "scatter",
           "x": [
            9.08
           ],
           "xaxis": "x",
           "y": [
            6.1
           ],
           "yaxis": "y"
          }
         ],
         "name": "9.08"
        },
        {
         "data": [
          {
           "hoverlabel": {
            "namelength": 0
           },
           "hovertemplate": "1=%{x}<br>2=%{y}",
           "legendgroup": "",
           "marker": {
            "color": "#636efa",
            "symbol": "circle"
           },
           "mode": "markers",
           "name": "",
           "showlegend": false,
           "type": "scatter",
           "x": [
            10.48
           ],
           "xaxis": "x",
           "y": [
            6.15
           ],
           "yaxis": "y"
          }
         ],
         "name": "10.48"
        },
        {
         "data": [
          {
           "hoverlabel": {
            "namelength": 0
           },
           "hovertemplate": "1=%{x}<br>2=%{y}",
           "legendgroup": "",
           "marker": {
            "color": "#636efa",
            "symbol": "circle"
           },
           "mode": "markers",
           "name": "",
           "showlegend": false,
           "type": "scatter",
           "x": [
            11.88
           ],
           "xaxis": "x",
           "y": [
            6.2
           ],
           "yaxis": "y"
          }
         ],
         "name": "11.88"
        },
        {
         "data": [
          {
           "hoverlabel": {
            "namelength": 0
           },
           "hovertemplate": "1=%{x}<br>2=%{y}",
           "legendgroup": "",
           "marker": {
            "color": "#636efa",
            "symbol": "circle"
           },
           "mode": "markers",
           "name": "",
           "showlegend": false,
           "type": "scatter",
           "x": [
            13.27
           ],
           "xaxis": "x",
           "y": [
            6.23
           ],
           "yaxis": "y"
          }
         ],
         "name": "13.27"
        },
        {
         "data": [
          {
           "hoverlabel": {
            "namelength": 0
           },
           "hovertemplate": "1=%{x}<br>2=%{y}",
           "legendgroup": "",
           "marker": {
            "color": "#636efa",
            "symbol": "circle"
           },
           "mode": "markers",
           "name": "",
           "showlegend": false,
           "type": "scatter",
           "x": [
            14.67
           ],
           "xaxis": "x",
           "y": [
            6.3
           ],
           "yaxis": "y"
          }
         ],
         "name": "14.67"
        },
        {
         "data": [
          {
           "hoverlabel": {
            "namelength": 0
           },
           "hovertemplate": "1=%{x}<br>2=%{y}",
           "legendgroup": "",
           "marker": {
            "color": "#636efa",
            "symbol": "circle"
           },
           "mode": "markers",
           "name": "",
           "showlegend": false,
           "type": "scatter",
           "x": [
            16.05
           ],
           "xaxis": "x",
           "y": [
            6.33
           ],
           "yaxis": "y"
          }
         ],
         "name": "16.05"
        },
        {
         "data": [
          {
           "hoverlabel": {
            "namelength": 0
           },
           "hovertemplate": "1=%{x}<br>2=%{y}",
           "legendgroup": "",
           "marker": {
            "color": "#636efa",
            "symbol": "circle"
           },
           "mode": "markers",
           "name": "",
           "showlegend": false,
           "type": "scatter",
           "x": [
            17.4
           ],
           "xaxis": "x",
           "y": [
            6.4
           ],
           "yaxis": "y"
          }
         ],
         "name": "17.4"
        },
        {
         "data": [
          {
           "hoverlabel": {
            "namelength": 0
           },
           "hovertemplate": "1=%{x}<br>2=%{y}",
           "legendgroup": "",
           "marker": {
            "color": "#636efa",
            "symbol": "circle"
           },
           "mode": "markers",
           "name": "",
           "showlegend": false,
           "type": "scatter",
           "x": [
            18.75
           ],
           "xaxis": "x",
           "y": [
            6.37
           ],
           "yaxis": "y"
          }
         ],
         "name": "18.75"
        },
        {
         "data": [
          {
           "hoverlabel": {
            "namelength": 0
           },
           "hovertemplate": "1=%{x}<br>2=%{y}",
           "legendgroup": "",
           "marker": {
            "color": "#636efa",
            "symbol": "circle"
           },
           "mode": "markers",
           "name": "",
           "showlegend": false,
           "type": "scatter",
           "x": [
            20.11
           ],
           "xaxis": "x",
           "y": [
            6.4
           ],
           "yaxis": "y"
          }
         ],
         "name": "20.11"
        },
        {
         "data": [
          {
           "hoverlabel": {
            "namelength": 0
           },
           "hovertemplate": "1=%{x}<br>2=%{y}",
           "legendgroup": "",
           "marker": {
            "color": "#636efa",
            "symbol": "circle"
           },
           "mode": "markers",
           "name": "",
           "showlegend": false,
           "type": "scatter",
           "x": [
            21.46
           ],
           "xaxis": "x",
           "y": [
            6.28
           ],
           "yaxis": "y"
          }
         ],
         "name": "21.46"
        },
        {
         "data": [
          {
           "hoverlabel": {
            "namelength": 0
           },
           "hovertemplate": "1=%{x}<br>2=%{y}",
           "legendgroup": "",
           "marker": {
            "color": "#636efa",
            "symbol": "circle"
           },
           "mode": "markers",
           "name": "",
           "showlegend": false,
           "type": "scatter",
           "x": [
            22.79
           ],
           "xaxis": "x",
           "y": [
            6.24
           ],
           "yaxis": "y"
          }
         ],
         "name": "22.79"
        },
        {
         "data": [
          {
           "hoverlabel": {
            "namelength": 0
           },
           "hovertemplate": "1=%{x}<br>2=%{y}",
           "legendgroup": "",
           "marker": {
            "color": "#636efa",
            "symbol": "circle"
           },
           "mode": "markers",
           "name": "",
           "showlegend": false,
           "type": "scatter",
           "x": [
            24.13
           ],
           "xaxis": "x",
           "y": [
            6.18
           ],
           "yaxis": "y"
          }
         ],
         "name": "24.13"
        },
        {
         "data": [
          {
           "hoverlabel": {
            "namelength": 0
           },
           "hovertemplate": "1=%{x}<br>2=%{y}",
           "legendgroup": "",
           "marker": {
            "color": "#636efa",
            "symbol": "circle"
           },
           "mode": "markers",
           "name": "",
           "showlegend": false,
           "type": "scatter",
           "x": [
            25.53
           ],
           "xaxis": "x",
           "y": [
            6.32
           ],
           "yaxis": "y"
          }
         ],
         "name": "25.53"
        },
        {
         "data": [
          {
           "hoverlabel": {
            "namelength": 0
           },
           "hovertemplate": "1=%{x}<br>2=%{y}",
           "legendgroup": "",
           "marker": {
            "color": "#636efa",
            "symbol": "circle"
           },
           "mode": "markers",
           "name": "",
           "showlegend": false,
           "type": "scatter",
           "x": [
            26.82
           ],
           "xaxis": "x",
           "y": [
            6.42
           ],
           "yaxis": "y"
          }
         ],
         "name": "26.82"
        },
        {
         "data": [
          {
           "hoverlabel": {
            "namelength": 0
           },
           "hovertemplate": "1=%{x}<br>2=%{y}",
           "legendgroup": "",
           "marker": {
            "color": "#636efa",
            "symbol": "circle"
           },
           "mode": "markers",
           "name": "",
           "showlegend": false,
           "type": "scatter",
           "x": [
            27.7
           ],
           "xaxis": "x",
           "y": [
            6.53
           ],
           "yaxis": "y"
          }
         ],
         "name": "27.7"
        },
        {
         "data": [
          {
           "hoverlabel": {
            "namelength": 0
           },
           "hovertemplate": "1=%{x}<br>2=%{y}",
           "legendgroup": "",
           "marker": {
            "color": "#636efa",
            "symbol": "circle"
           },
           "mode": "markers",
           "name": "",
           "showlegend": false,
           "type": "scatter",
           "x": [
            26.38
           ],
           "xaxis": "x",
           "y": [
            6.52
           ],
           "yaxis": "y"
          }
         ],
         "name": "26.38"
        },
        {
         "data": [
          {
           "hoverlabel": {
            "namelength": 0
           },
           "hovertemplate": "1=%{x}<br>2=%{y}",
           "legendgroup": "",
           "marker": {
            "color": "#636efa",
            "symbol": "circle"
           },
           "mode": "markers",
           "name": "",
           "showlegend": false,
           "type": "scatter",
           "x": [
            25
           ],
           "xaxis": "x",
           "y": [
            6.46
           ],
           "yaxis": "y"
          }
         ],
         "name": "25.0"
        },
        {
         "data": [
          {
           "hoverlabel": {
            "namelength": 0
           },
           "hovertemplate": "1=%{x}<br>2=%{y}",
           "legendgroup": "",
           "marker": {
            "color": "#636efa",
            "symbol": "circle"
           },
           "mode": "markers",
           "name": "",
           "showlegend": false,
           "type": "scatter",
           "x": [
            23.58
           ],
           "xaxis": "x",
           "y": [
            6.47
           ],
           "yaxis": "y"
          }
         ],
         "name": "23.58"
        },
        {
         "data": [
          {
           "hoverlabel": {
            "namelength": 0
           },
           "hovertemplate": "1=%{x}<br>2=%{y}",
           "legendgroup": "",
           "marker": {
            "color": "#636efa",
            "symbol": "circle"
           },
           "mode": "markers",
           "name": "",
           "showlegend": false,
           "type": "scatter",
           "x": [
            22.17
           ],
           "xaxis": "x",
           "y": [
            6.51
           ],
           "yaxis": "y"
          }
         ],
         "name": "22.17"
        },
        {
         "data": [
          {
           "hoverlabel": {
            "namelength": 0
           },
           "hovertemplate": "1=%{x}<br>2=%{y}",
           "legendgroup": "",
           "marker": {
            "color": "#636efa",
            "symbol": "circle"
           },
           "mode": "markers",
           "name": "",
           "showlegend": false,
           "type": "scatter",
           "x": [
            20.72
           ],
           "xaxis": "x",
           "y": [
            6.42
           ],
           "yaxis": "y"
          }
         ],
         "name": "20.72"
        },
        {
         "data": [
          {
           "hoverlabel": {
            "namelength": 0
           },
           "hovertemplate": "1=%{x}<br>2=%{y}",
           "legendgroup": "",
           "marker": {
            "color": "#636efa",
            "symbol": "circle"
           },
           "mode": "markers",
           "name": "",
           "showlegend": false,
           "type": "scatter",
           "x": [
            19.26
           ],
           "xaxis": "x",
           "y": [
            6.37
           ],
           "yaxis": "y"
          }
         ],
         "name": "19.26"
        },
        {
         "data": [
          {
           "hoverlabel": {
            "namelength": 0
           },
           "hovertemplate": "1=%{x}<br>2=%{y}",
           "legendgroup": "",
           "marker": {
            "color": "#636efa",
            "symbol": "circle"
           },
           "mode": "markers",
           "name": "",
           "showlegend": false,
           "type": "scatter",
           "x": [
            17.81
           ],
           "xaxis": "x",
           "y": [
            6.33
           ],
           "yaxis": "y"
          }
         ],
         "name": "17.81"
        },
        {
         "data": [
          {
           "hoverlabel": {
            "namelength": 0
           },
           "hovertemplate": "1=%{x}<br>2=%{y}",
           "legendgroup": "",
           "marker": {
            "color": "#636efa",
            "symbol": "circle"
           },
           "mode": "markers",
           "name": "",
           "showlegend": false,
           "type": "scatter",
           "x": [
            16.36
           ],
           "xaxis": "x",
           "y": [
            6.33
           ],
           "yaxis": "y"
          }
         ],
         "name": "16.36"
        },
        {
         "data": [
          {
           "hoverlabel": {
            "namelength": 0
           },
           "hovertemplate": "1=%{x}<br>2=%{y}",
           "legendgroup": "",
           "marker": {
            "color": "#636efa",
            "symbol": "circle"
           },
           "mode": "markers",
           "name": "",
           "showlegend": false,
           "type": "scatter",
           "x": [
            14.92
           ],
           "xaxis": "x",
           "y": [
            6.35
           ],
           "yaxis": "y"
          }
         ],
         "name": "14.92"
        },
        {
         "data": [
          {
           "hoverlabel": {
            "namelength": 0
           },
           "hovertemplate": "1=%{x}<br>2=%{y}",
           "legendgroup": "",
           "marker": {
            "color": "#636efa",
            "symbol": "circle"
           },
           "mode": "markers",
           "name": "",
           "showlegend": false,
           "type": "scatter",
           "x": [
            13.48
           ],
           "xaxis": "x",
           "y": [
            6.41
           ],
           "yaxis": "y"
          }
         ],
         "name": "13.48"
        },
        {
         "data": [
          {
           "hoverlabel": {
            "namelength": 0
           },
           "hovertemplate": "1=%{x}<br>2=%{y}",
           "legendgroup": "",
           "marker": {
            "color": "#636efa",
            "symbol": "circle"
           },
           "mode": "markers",
           "name": "",
           "showlegend": false,
           "type": "scatter",
           "x": [
            12.07
           ],
           "xaxis": "x",
           "y": [
            6.51
           ],
           "yaxis": "y"
          }
         ],
         "name": "12.07"
        },
        {
         "data": [
          {
           "hoverlabel": {
            "namelength": 0
           },
           "hovertemplate": "1=%{x}<br>2=%{y}",
           "legendgroup": "",
           "marker": {
            "color": "#636efa",
            "symbol": "circle"
           },
           "mode": "markers",
           "name": "",
           "showlegend": false,
           "type": "scatter",
           "x": [
            10.67
           ],
           "xaxis": "x",
           "y": [
            6.59
           ],
           "yaxis": "y"
          }
         ],
         "name": "10.67"
        },
        {
         "data": [
          {
           "hoverlabel": {
            "namelength": 0
           },
           "hovertemplate": "1=%{x}<br>2=%{y}",
           "legendgroup": "",
           "marker": {
            "color": "#636efa",
            "symbol": "circle"
           },
           "mode": "markers",
           "name": "",
           "showlegend": false,
           "type": "scatter",
           "x": [
            9.23
           ],
           "xaxis": "x",
           "y": [
            6.5
           ],
           "yaxis": "y"
          }
         ],
         "name": "9.23"
        },
        {
         "data": [
          {
           "hoverlabel": {
            "namelength": 0
           },
           "hovertemplate": "1=%{x}<br>2=%{y}",
           "legendgroup": "",
           "marker": {
            "color": "#636efa",
            "symbol": "circle"
           },
           "mode": "markers",
           "name": "",
           "showlegend": false,
           "type": "scatter",
           "x": [
            7.78
           ],
           "xaxis": "x",
           "y": [
            6.42
           ],
           "yaxis": "y"
          }
         ],
         "name": "7.78"
        },
        {
         "data": [
          {
           "hoverlabel": {
            "namelength": 0
           },
           "hovertemplate": "1=%{x}<br>2=%{y}",
           "legendgroup": "",
           "marker": {
            "color": "#636efa",
            "symbol": "circle"
           },
           "mode": "markers",
           "name": "",
           "showlegend": false,
           "type": "scatter",
           "x": [
            6.34
           ],
           "xaxis": "x",
           "y": [
            6.38
           ],
           "yaxis": "y"
          }
         ],
         "name": "6.34"
        },
        {
         "data": [
          {
           "hoverlabel": {
            "namelength": 0
           },
           "hovertemplate": "1=%{x}<br>2=%{y}",
           "legendgroup": "",
           "marker": {
            "color": "#636efa",
            "symbol": "circle"
           },
           "mode": "markers",
           "name": "",
           "showlegend": false,
           "type": "scatter",
           "x": [
            4.9
           ],
           "xaxis": "x",
           "y": [
            6.24
           ],
           "yaxis": "y"
          }
         ],
         "name": "4.9"
        },
        {
         "data": [
          {
           "hoverlabel": {
            "namelength": 0
           },
           "hovertemplate": "1=%{x}<br>2=%{y}",
           "legendgroup": "",
           "marker": {
            "color": "#636efa",
            "symbol": "circle"
           },
           "mode": "markers",
           "name": "",
           "showlegend": false,
           "type": "scatter",
           "x": [
            3.45
           ],
           "xaxis": "x",
           "y": [
            6.24
           ],
           "yaxis": "y"
          }
         ],
         "name": "3.45"
        },
        {
         "data": [
          {
           "hoverlabel": {
            "namelength": 0
           },
           "hovertemplate": "1=%{x}<br>2=%{y}",
           "legendgroup": "",
           "marker": {
            "color": "#636efa",
            "symbol": "circle"
           },
           "mode": "markers",
           "name": "",
           "showlegend": false,
           "type": "scatter",
           "x": [
            1.99
           ],
           "xaxis": "x",
           "y": [
            6.21
           ],
           "yaxis": "y"
          }
         ],
         "name": "1.99"
        },
        {
         "data": [
          {
           "hoverlabel": {
            "namelength": 0
           },
           "hovertemplate": "1=%{x}<br>2=%{y}",
           "legendgroup": "",
           "marker": {
            "color": "#636efa",
            "symbol": "circle"
           },
           "mode": "markers",
           "name": "",
           "showlegend": false,
           "type": "scatter",
           "x": [
            0.58
           ],
           "xaxis": "x",
           "y": [
            6.21
           ],
           "yaxis": "y"
          }
         ],
         "name": "0.58"
        },
        {
         "data": [
          {
           "hoverlabel": {
            "namelength": 0
           },
           "hovertemplate": "1=%{x}<br>2=%{y}",
           "legendgroup": "",
           "marker": {
            "color": "#636efa",
            "symbol": "circle"
           },
           "mode": "markers",
           "name": "",
           "showlegend": false,
           "type": "scatter",
           "x": [
            -2.2
           ],
           "xaxis": "x",
           "y": [
            6.15
           ],
           "yaxis": "y"
          }
         ],
         "name": "-2.2"
        },
        {
         "data": [
          {
           "hoverlabel": {
            "namelength": 0
           },
           "hovertemplate": "1=%{x}<br>2=%{y}",
           "legendgroup": "",
           "marker": {
            "color": "#636efa",
            "symbol": "circle"
           },
           "mode": "markers",
           "name": "",
           "showlegend": false,
           "type": "scatter",
           "x": [
            -2.82
           ],
           "xaxis": "x",
           "y": [
            5.3
           ],
           "yaxis": "y"
          }
         ],
         "name": "-2.82"
        },
        {
         "data": [
          {
           "hoverlabel": {
            "namelength": 0
           },
           "hovertemplate": "1=%{x}<br>2=%{y}",
           "legendgroup": "",
           "marker": {
            "color": "#636efa",
            "symbol": "circle"
           },
           "mode": "markers",
           "name": "",
           "showlegend": false,
           "type": "scatter",
           "x": [
            -2.96
           ],
           "xaxis": "x",
           "y": [
            4.41
           ],
           "yaxis": "y"
          }
         ],
         "name": "-2.96"
        },
        {
         "data": [
          {
           "hoverlabel": {
            "namelength": 0
           },
           "hovertemplate": "1=%{x}<br>2=%{y}",
           "legendgroup": "",
           "marker": {
            "color": "#636efa",
            "symbol": "circle"
           },
           "mode": "markers",
           "name": "",
           "showlegend": false,
           "type": "scatter",
           "x": [
            -1.69
           ],
           "xaxis": "x",
           "y": [
            4.09
           ],
           "yaxis": "y"
          }
         ],
         "name": "-1.69"
        },
        {
         "data": [
          {
           "hoverlabel": {
            "namelength": 0
           },
           "hovertemplate": "1=%{x}<br>2=%{y}",
           "legendgroup": "",
           "marker": {
            "color": "#636efa",
            "symbol": "circle"
           },
           "mode": "markers",
           "name": "",
           "showlegend": false,
           "type": "scatter",
           "x": [
            -1.06
           ],
           "xaxis": "x",
           "y": [
            3.29
           ],
           "yaxis": "y"
          }
         ],
         "name": "-1.06"
        },
        {
         "data": [
          {
           "hoverlabel": {
            "namelength": 0
           },
           "hovertemplate": "1=%{x}<br>2=%{y}",
           "legendgroup": "",
           "marker": {
            "color": "#636efa",
            "symbol": "circle"
           },
           "mode": "markers",
           "name": "",
           "showlegend": false,
           "type": "scatter",
           "x": [
            -0.89
           ],
           "xaxis": "x",
           "y": [
            2.17
           ],
           "yaxis": "y"
          }
         ],
         "name": "-0.89"
        },
        {
         "data": [
          {
           "hoverlabel": {
            "namelength": 0
           },
           "hovertemplate": "1=%{x}<br>2=%{y}",
           "legendgroup": "",
           "marker": {
            "color": "#636efa",
            "symbol": "circle"
           },
           "mode": "markers",
           "name": "",
           "showlegend": false,
           "type": "scatter",
           "x": [
            0.11
           ],
           "xaxis": "x",
           "y": [
            1.76
           ],
           "yaxis": "y"
          }
         ],
         "name": "0.11"
        },
        {
         "data": [
          {
           "hoverlabel": {
            "namelength": 0
           },
           "hovertemplate": "1=%{x}<br>2=%{y}",
           "legendgroup": "",
           "marker": {
            "color": "#636efa",
            "symbol": "circle"
           },
           "mode": "markers",
           "name": "",
           "showlegend": false,
           "type": "scatter",
           "x": [
            0.04
           ],
           "xaxis": "x",
           "y": [
            1.74
           ],
           "yaxis": "y"
          }
         ],
         "name": "0.04"
        },
        {
         "data": [
          {
           "hoverlabel": {
            "namelength": 0
           },
           "hovertemplate": "1=%{x}<br>2=%{y}",
           "legendgroup": "",
           "marker": {
            "color": "#636efa",
            "symbol": "circle"
           },
           "mode": "markers",
           "name": "",
           "showlegend": false,
           "type": "scatter",
           "x": [
            0.07
           ],
           "xaxis": "x",
           "y": [
            1.82
           ],
           "yaxis": "y"
          }
         ],
         "name": "0.07"
        },
        {
         "data": [
          {
           "hoverlabel": {
            "namelength": 0
           },
           "hovertemplate": "1=%{x}<br>2=%{y}",
           "legendgroup": "",
           "marker": {
            "color": "#636efa",
            "symbol": "circle"
           },
           "mode": "markers",
           "name": "",
           "showlegend": false,
           "type": "scatter",
           "x": [
            -0.11
           ],
           "xaxis": "x",
           "y": [
            1.47
           ],
           "yaxis": "y"
          }
         ],
         "name": "-0.11"
        }
       ],
       "layout": {
        "legend": {
         "tracegroupgap": 0
        },
        "margin": {
         "t": 60
        },
        "sliders": [
         {
          "active": 0,
          "currentvalue": {
           "prefix": "1="
          },
          "len": 0.9,
          "pad": {
           "b": 10,
           "t": 60
          },
          "steps": [
           {
            "args": [
             [
              "-0.0"
             ],
             {
              "frame": {
               "duration": 0,
               "redraw": false
              },
              "fromcurrent": true,
              "mode": "immediate",
              "transition": {
               "duration": 0,
               "easing": "linear"
              }
             }
            ],
            "label": "-0.0",
            "method": "animate"
           },
           {
            "args": [
             [
              "-0.2"
             ],
             {
              "frame": {
               "duration": 0,
               "redraw": false
              },
              "fromcurrent": true,
              "mode": "immediate",
              "transition": {
               "duration": 0,
               "easing": "linear"
              }
             }
            ],
            "label": "-0.2",
            "method": "animate"
           },
           {
            "args": [
             [
              "-0.25"
             ],
             {
              "frame": {
               "duration": 0,
               "redraw": false
              },
              "fromcurrent": true,
              "mode": "immediate",
              "transition": {
               "duration": 0,
               "easing": "linear"
              }
             }
            ],
            "label": "-0.25",
            "method": "animate"
           },
           {
            "args": [
             [
              "-0.27"
             ],
             {
              "frame": {
               "duration": 0,
               "redraw": false
              },
              "fromcurrent": true,
              "mode": "immediate",
              "transition": {
               "duration": 0,
               "easing": "linear"
              }
             }
            ],
            "label": "-0.27",
            "method": "animate"
           },
           {
            "args": [
             [
              "-0.8"
             ],
             {
              "frame": {
               "duration": 0,
               "redraw": false
              },
              "fromcurrent": true,
              "mode": "immediate",
              "transition": {
               "duration": 0,
               "easing": "linear"
              }
             }
            ],
            "label": "-0.8",
            "method": "animate"
           },
           {
            "args": [
             [
              "-1.25"
             ],
             {
              "frame": {
               "duration": 0,
               "redraw": false
              },
              "fromcurrent": true,
              "mode": "immediate",
              "transition": {
               "duration": 0,
               "easing": "linear"
              }
             }
            ],
            "label": "-1.25",
            "method": "animate"
           },
           {
            "args": [
             [
              "-2.53"
             ],
             {
              "frame": {
               "duration": 0,
               "redraw": false
              },
              "fromcurrent": true,
              "mode": "immediate",
              "transition": {
               "duration": 0,
               "easing": "linear"
              }
             }
            ],
            "label": "-2.53",
            "method": "animate"
           },
           {
            "args": [
             [
              "-2.69"
             ],
             {
              "frame": {
               "duration": 0,
               "redraw": false
              },
              "fromcurrent": true,
              "mode": "immediate",
              "transition": {
               "duration": 0,
               "easing": "linear"
              }
             }
            ],
            "label": "-2.69",
            "method": "animate"
           },
           {
            "args": [
             [
              "-2.02"
             ],
             {
              "frame": {
               "duration": 0,
               "redraw": false
              },
              "fromcurrent": true,
              "mode": "immediate",
              "transition": {
               "duration": 0,
               "easing": "linear"
              }
             }
            ],
            "label": "-2.02",
            "method": "animate"
           },
           {
            "args": [
             [
              "-0.82"
             ],
             {
              "frame": {
               "duration": 0,
               "redraw": false
              },
              "fromcurrent": true,
              "mode": "immediate",
              "transition": {
               "duration": 0,
               "easing": "linear"
              }
             }
            ],
            "label": "-0.82",
            "method": "animate"
           },
           {
            "args": [
             [
              "0.45"
             ],
             {
              "frame": {
               "duration": 0,
               "redraw": false
              },
              "fromcurrent": true,
              "mode": "immediate",
              "transition": {
               "duration": 0,
               "easing": "linear"
              }
             }
            ],
            "label": "0.45",
            "method": "animate"
           },
           {
            "args": [
             [
              "1.77"
             ],
             {
              "frame": {
               "duration": 0,
               "redraw": false
              },
              "fromcurrent": true,
              "mode": "immediate",
              "transition": {
               "duration": 0,
               "easing": "linear"
              }
             }
            ],
            "label": "1.77",
            "method": "animate"
           },
           {
            "args": [
             [
              "3.1"
             ],
             {
              "frame": {
               "duration": 0,
               "redraw": false
              },
              "fromcurrent": true,
              "mode": "immediate",
              "transition": {
               "duration": 0,
               "easing": "linear"
              }
             }
            ],
            "label": "3.1",
            "method": "animate"
           },
           {
            "args": [
             [
              "4.4"
             ],
             {
              "frame": {
               "duration": 0,
               "redraw": false
              },
              "fromcurrent": true,
              "mode": "immediate",
              "transition": {
               "duration": 0,
               "easing": "linear"
              }
             }
            ],
            "label": "4.4",
            "method": "animate"
           },
           {
            "args": [
             [
              "5.73"
             ],
             {
              "frame": {
               "duration": 0,
               "redraw": false
              },
              "fromcurrent": true,
              "mode": "immediate",
              "transition": {
               "duration": 0,
               "easing": "linear"
              }
             }
            ],
            "label": "5.73",
            "method": "animate"
           },
           {
            "args": [
             [
              "7.06"
             ],
             {
              "frame": {
               "duration": 0,
               "redraw": false
              },
              "fromcurrent": true,
              "mode": "immediate",
              "transition": {
               "duration": 0,
               "easing": "linear"
              }
             }
            ],
            "label": "7.06",
            "method": "animate"
           },
           {
            "args": [
             [
              "8.38"
             ],
             {
              "frame": {
               "duration": 0,
               "redraw": false
              },
              "fromcurrent": true,
              "mode": "immediate",
              "transition": {
               "duration": 0,
               "easing": "linear"
              }
             }
            ],
            "label": "8.38",
            "method": "animate"
           },
           {
            "args": [
             [
              "9.71"
             ],
             {
              "frame": {
               "duration": 0,
               "redraw": false
              },
              "fromcurrent": true,
              "mode": "immediate",
              "transition": {
               "duration": 0,
               "easing": "linear"
              }
             }
            ],
            "label": "9.71",
            "method": "animate"
           },
           {
            "args": [
             [
              "11.1"
             ],
             {
              "frame": {
               "duration": 0,
               "redraw": false
              },
              "fromcurrent": true,
              "mode": "immediate",
              "transition": {
               "duration": 0,
               "easing": "linear"
              }
             }
            ],
            "label": "11.1",
            "method": "animate"
           },
           {
            "args": [
             [
              "12.4"
             ],
             {
              "frame": {
               "duration": 0,
               "redraw": false
              },
              "fromcurrent": true,
              "mode": "immediate",
              "transition": {
               "duration": 0,
               "easing": "linear"
              }
             }
            ],
            "label": "12.4",
            "method": "animate"
           },
           {
            "args": [
             [
              "13.67"
             ],
             {
              "frame": {
               "duration": 0,
               "redraw": false
              },
              "fromcurrent": true,
              "mode": "immediate",
              "transition": {
               "duration": 0,
               "easing": "linear"
              }
             }
            ],
            "label": "13.67",
            "method": "animate"
           },
           {
            "args": [
             [
              "14.95"
             ],
             {
              "frame": {
               "duration": 0,
               "redraw": false
              },
              "fromcurrent": true,
              "mode": "immediate",
              "transition": {
               "duration": 0,
               "easing": "linear"
              }
             }
            ],
            "label": "14.95",
            "method": "animate"
           },
           {
            "args": [
             [
              "16.23"
             ],
             {
              "frame": {
               "duration": 0,
               "redraw": false
              },
              "fromcurrent": true,
              "mode": "immediate",
              "transition": {
               "duration": 0,
               "easing": "linear"
              }
             }
            ],
            "label": "16.23",
            "method": "animate"
           },
           {
            "args": [
             [
              "17.53"
             ],
             {
              "frame": {
               "duration": 0,
               "redraw": false
              },
              "fromcurrent": true,
              "mode": "immediate",
              "transition": {
               "duration": 0,
               "easing": "linear"
              }
             }
            ],
            "label": "17.53",
            "method": "animate"
           },
           {
            "args": [
             [
              "18.82"
             ],
             {
              "frame": {
               "duration": 0,
               "redraw": false
              },
              "fromcurrent": true,
              "mode": "immediate",
              "transition": {
               "duration": 0,
               "easing": "linear"
              }
             }
            ],
            "label": "18.82",
            "method": "animate"
           },
           {
            "args": [
             [
              "20.1"
             ],
             {
              "frame": {
               "duration": 0,
               "redraw": false
              },
              "fromcurrent": true,
              "mode": "immediate",
              "transition": {
               "duration": 0,
               "easing": "linear"
              }
             }
            ],
            "label": "20.1",
            "method": "animate"
           },
           {
            "args": [
             [
              "21.42"
             ],
             {
              "frame": {
               "duration": 0,
               "redraw": false
              },
              "fromcurrent": true,
              "mode": "immediate",
              "transition": {
               "duration": 0,
               "easing": "linear"
              }
             }
            ],
            "label": "21.42",
            "method": "animate"
           },
           {
            "args": [
             [
              "22.73"
             ],
             {
              "frame": {
               "duration": 0,
               "redraw": false
              },
              "fromcurrent": true,
              "mode": "immediate",
              "transition": {
               "duration": 0,
               "easing": "linear"
              }
             }
            ],
            "label": "22.73",
            "method": "animate"
           },
           {
            "args": [
             [
              "24.02"
             ],
             {
              "frame": {
               "duration": 0,
               "redraw": false
              },
              "fromcurrent": true,
              "mode": "immediate",
              "transition": {
               "duration": 0,
               "easing": "linear"
              }
             }
            ],
            "label": "24.02",
            "method": "animate"
           },
           {
            "args": [
             [
              "25.29"
             ],
             {
              "frame": {
               "duration": 0,
               "redraw": false
              },
              "fromcurrent": true,
              "mode": "immediate",
              "transition": {
               "duration": 0,
               "easing": "linear"
              }
             }
            ],
            "label": "25.29",
            "method": "animate"
           },
           {
            "args": [
             [
              "26.51"
             ],
             {
              "frame": {
               "duration": 0,
               "redraw": false
              },
              "fromcurrent": true,
              "mode": "immediate",
              "transition": {
               "duration": 0,
               "easing": "linear"
              }
             }
            ],
            "label": "26.51",
            "method": "animate"
           },
           {
            "args": [
             [
              "27.5"
             ],
             {
              "frame": {
               "duration": 0,
               "redraw": false
              },
              "fromcurrent": true,
              "mode": "immediate",
              "transition": {
               "duration": 0,
               "easing": "linear"
              }
             }
            ],
            "label": "27.5",
            "method": "animate"
           },
           {
            "args": [
             [
              "26.32"
             ],
             {
              "frame": {
               "duration": 0,
               "redraw": false
              },
              "fromcurrent": true,
              "mode": "immediate",
              "transition": {
               "duration": 0,
               "easing": "linear"
              }
             }
            ],
            "label": "26.32",
            "method": "animate"
           },
           {
            "args": [
             [
              "24.94"
             ],
             {
              "frame": {
               "duration": 0,
               "redraw": false
              },
              "fromcurrent": true,
              "mode": "immediate",
              "transition": {
               "duration": 0,
               "easing": "linear"
              }
             }
            ],
            "label": "24.94",
            "method": "animate"
           },
           {
            "args": [
             [
              "23.55"
             ],
             {
              "frame": {
               "duration": 0,
               "redraw": false
              },
              "fromcurrent": true,
              "mode": "immediate",
              "transition": {
               "duration": 0,
               "easing": "linear"
              }
             }
            ],
            "label": "23.55",
            "method": "animate"
           },
           {
            "args": [
             [
              "22.16"
             ],
             {
              "frame": {
               "duration": 0,
               "redraw": false
              },
              "fromcurrent": true,
              "mode": "immediate",
              "transition": {
               "duration": 0,
               "easing": "linear"
              }
             }
            ],
            "label": "22.16",
            "method": "animate"
           },
           {
            "args": [
             [
              "20.8"
             ],
             {
              "frame": {
               "duration": 0,
               "redraw": false
              },
              "fromcurrent": true,
              "mode": "immediate",
              "transition": {
               "duration": 0,
               "easing": "linear"
              }
             }
            ],
            "label": "20.8",
            "method": "animate"
           },
           {
            "args": [
             [
              "19.45"
             ],
             {
              "frame": {
               "duration": 0,
               "redraw": false
              },
              "fromcurrent": true,
              "mode": "immediate",
              "transition": {
               "duration": 0,
               "easing": "linear"
              }
             }
            ],
            "label": "19.45",
            "method": "animate"
           },
           {
            "args": [
             [
              "18.11"
             ],
             {
              "frame": {
               "duration": 0,
               "redraw": false
              },
              "fromcurrent": true,
              "mode": "immediate",
              "transition": {
               "duration": 0,
               "easing": "linear"
              }
             }
            ],
            "label": "18.11",
            "method": "animate"
           },
           {
            "args": [
             [
              "16.76"
             ],
             {
              "frame": {
               "duration": 0,
               "redraw": false
              },
              "fromcurrent": true,
              "mode": "immediate",
              "transition": {
               "duration": 0,
               "easing": "linear"
              }
             }
            ],
            "label": "16.76",
            "method": "animate"
           },
           {
            "args": [
             [
              "13.95"
             ],
             {
              "frame": {
               "duration": 0,
               "redraw": false
              },
              "fromcurrent": true,
              "mode": "immediate",
              "transition": {
               "duration": 0,
               "easing": "linear"
              }
             }
            ],
            "label": "13.95",
            "method": "animate"
           },
           {
            "args": [
             [
              "12.54"
             ],
             {
              "frame": {
               "duration": 0,
               "redraw": false
              },
              "fromcurrent": true,
              "mode": "immediate",
              "transition": {
               "duration": 0,
               "easing": "linear"
              }
             }
            ],
            "label": "12.54",
            "method": "animate"
           },
           {
            "args": [
             [
              "11.15"
             ],
             {
              "frame": {
               "duration": 0,
               "redraw": false
              },
              "fromcurrent": true,
              "mode": "immediate",
              "transition": {
               "duration": 0,
               "easing": "linear"
              }
             }
            ],
            "label": "11.15",
            "method": "animate"
           },
           {
            "args": [
             [
              "9.76"
             ],
             {
              "frame": {
               "duration": 0,
               "redraw": false
              },
              "fromcurrent": true,
              "mode": "immediate",
              "transition": {
               "duration": 0,
               "easing": "linear"
              }
             }
            ],
            "label": "9.76",
            "method": "animate"
           },
           {
            "args": [
             [
              "8.37"
             ],
             {
              "frame": {
               "duration": 0,
               "redraw": false
              },
              "fromcurrent": true,
              "mode": "immediate",
              "transition": {
               "duration": 0,
               "easing": "linear"
              }
             }
            ],
            "label": "8.37",
            "method": "animate"
           },
           {
            "args": [
             [
              "7.0"
             ],
             {
              "frame": {
               "duration": 0,
               "redraw": false
              },
              "fromcurrent": true,
              "mode": "immediate",
              "transition": {
               "duration": 0,
               "easing": "linear"
              }
             }
            ],
            "label": "7.0",
            "method": "animate"
           },
           {
            "args": [
             [
              "5.63"
             ],
             {
              "frame": {
               "duration": 0,
               "redraw": false
              },
              "fromcurrent": true,
              "mode": "immediate",
              "transition": {
               "duration": 0,
               "easing": "linear"
              }
             }
            ],
            "label": "5.63",
            "method": "animate"
           },
           {
            "args": [
             [
              "4.26"
             ],
             {
              "frame": {
               "duration": 0,
               "redraw": false
              },
              "fromcurrent": true,
              "mode": "immediate",
              "transition": {
               "duration": 0,
               "easing": "linear"
              }
             }
            ],
            "label": "4.26",
            "method": "animate"
           },
           {
            "args": [
             [
              "2.95"
             ],
             {
              "frame": {
               "duration": 0,
               "redraw": false
              },
              "fromcurrent": true,
              "mode": "immediate",
              "transition": {
               "duration": 0,
               "easing": "linear"
              }
             }
            ],
            "label": "2.95",
            "method": "animate"
           },
           {
            "args": [
             [
              "1.56"
             ],
             {
              "frame": {
               "duration": 0,
               "redraw": false
              },
              "fromcurrent": true,
              "mode": "immediate",
              "transition": {
               "duration": 0,
               "easing": "linear"
              }
             }
            ],
            "label": "1.56",
            "method": "animate"
           },
           {
            "args": [
             [
              "0.21"
             ],
             {
              "frame": {
               "duration": 0,
               "redraw": false
              },
              "fromcurrent": true,
              "mode": "immediate",
              "transition": {
               "duration": 0,
               "easing": "linear"
              }
             }
            ],
            "label": "0.21",
            "method": "animate"
           },
           {
            "args": [
             [
              "-1.12"
             ],
             {
              "frame": {
               "duration": 0,
               "redraw": false
              },
              "fromcurrent": true,
              "mode": "immediate",
              "transition": {
               "duration": 0,
               "easing": "linear"
              }
             }
            ],
            "label": "-1.12",
            "method": "animate"
           },
           {
            "args": [
             [
              "-2.39"
             ],
             {
              "frame": {
               "duration": 0,
               "redraw": false
              },
              "fromcurrent": true,
              "mode": "immediate",
              "transition": {
               "duration": 0,
               "easing": "linear"
              }
             }
            ],
            "label": "-2.39",
            "method": "animate"
           },
           {
            "args": [
             [
              "-3.48"
             ],
             {
              "frame": {
               "duration": 0,
               "redraw": false
              },
              "fromcurrent": true,
              "mode": "immediate",
              "transition": {
               "duration": 0,
               "easing": "linear"
              }
             }
            ],
            "label": "-3.48",
            "method": "animate"
           },
           {
            "args": [
             [
              "-2.14"
             ],
             {
              "frame": {
               "duration": 0,
               "redraw": false
              },
              "fromcurrent": true,
              "mode": "immediate",
              "transition": {
               "duration": 0,
               "easing": "linear"
              }
             }
            ],
            "label": "-2.14",
            "method": "animate"
           },
           {
            "args": [
             [
              "-0.74"
             ],
             {
              "frame": {
               "duration": 0,
               "redraw": false
              },
              "fromcurrent": true,
              "mode": "immediate",
              "transition": {
               "duration": 0,
               "easing": "linear"
              }
             }
            ],
            "label": "-0.74",
            "method": "animate"
           },
           {
            "args": [
             [
              "0.64"
             ],
             {
              "frame": {
               "duration": 0,
               "redraw": false
              },
              "fromcurrent": true,
              "mode": "immediate",
              "transition": {
               "duration": 0,
               "easing": "linear"
              }
             }
            ],
            "label": "0.64",
            "method": "animate"
           },
           {
            "args": [
             [
              "2.04"
             ],
             {
              "frame": {
               "duration": 0,
               "redraw": false
              },
              "fromcurrent": true,
              "mode": "immediate",
              "transition": {
               "duration": 0,
               "easing": "linear"
              }
             }
            ],
            "label": "2.04",
            "method": "animate"
           },
           {
            "args": [
             [
              "3.48"
             ],
             {
              "frame": {
               "duration": 0,
               "redraw": false
              },
              "fromcurrent": true,
              "mode": "immediate",
              "transition": {
               "duration": 0,
               "easing": "linear"
              }
             }
            ],
            "label": "3.48",
            "method": "animate"
           },
           {
            "args": [
             [
              "4.91"
             ],
             {
              "frame": {
               "duration": 0,
               "redraw": false
              },
              "fromcurrent": true,
              "mode": "immediate",
              "transition": {
               "duration": 0,
               "easing": "linear"
              }
             }
            ],
            "label": "4.91",
            "method": "animate"
           },
           {
            "args": [
             [
              "6.31"
             ],
             {
              "frame": {
               "duration": 0,
               "redraw": false
              },
              "fromcurrent": true,
              "mode": "immediate",
              "transition": {
               "duration": 0,
               "easing": "linear"
              }
             }
            ],
            "label": "6.31",
            "method": "animate"
           },
           {
            "args": [
             [
              "7.7"
             ],
             {
              "frame": {
               "duration": 0,
               "redraw": false
              },
              "fromcurrent": true,
              "mode": "immediate",
              "transition": {
               "duration": 0,
               "easing": "linear"
              }
             }
            ],
            "label": "7.7",
            "method": "animate"
           },
           {
            "args": [
             [
              "9.08"
             ],
             {
              "frame": {
               "duration": 0,
               "redraw": false
              },
              "fromcurrent": true,
              "mode": "immediate",
              "transition": {
               "duration": 0,
               "easing": "linear"
              }
             }
            ],
            "label": "9.08",
            "method": "animate"
           },
           {
            "args": [
             [
              "10.48"
             ],
             {
              "frame": {
               "duration": 0,
               "redraw": false
              },
              "fromcurrent": true,
              "mode": "immediate",
              "transition": {
               "duration": 0,
               "easing": "linear"
              }
             }
            ],
            "label": "10.48",
            "method": "animate"
           },
           {
            "args": [
             [
              "11.88"
             ],
             {
              "frame": {
               "duration": 0,
               "redraw": false
              },
              "fromcurrent": true,
              "mode": "immediate",
              "transition": {
               "duration": 0,
               "easing": "linear"
              }
             }
            ],
            "label": "11.88",
            "method": "animate"
           },
           {
            "args": [
             [
              "13.27"
             ],
             {
              "frame": {
               "duration": 0,
               "redraw": false
              },
              "fromcurrent": true,
              "mode": "immediate",
              "transition": {
               "duration": 0,
               "easing": "linear"
              }
             }
            ],
            "label": "13.27",
            "method": "animate"
           },
           {
            "args": [
             [
              "14.67"
             ],
             {
              "frame": {
               "duration": 0,
               "redraw": false
              },
              "fromcurrent": true,
              "mode": "immediate",
              "transition": {
               "duration": 0,
               "easing": "linear"
              }
             }
            ],
            "label": "14.67",
            "method": "animate"
           },
           {
            "args": [
             [
              "16.05"
             ],
             {
              "frame": {
               "duration": 0,
               "redraw": false
              },
              "fromcurrent": true,
              "mode": "immediate",
              "transition": {
               "duration": 0,
               "easing": "linear"
              }
             }
            ],
            "label": "16.05",
            "method": "animate"
           },
           {
            "args": [
             [
              "17.4"
             ],
             {
              "frame": {
               "duration": 0,
               "redraw": false
              },
              "fromcurrent": true,
              "mode": "immediate",
              "transition": {
               "duration": 0,
               "easing": "linear"
              }
             }
            ],
            "label": "17.4",
            "method": "animate"
           },
           {
            "args": [
             [
              "18.75"
             ],
             {
              "frame": {
               "duration": 0,
               "redraw": false
              },
              "fromcurrent": true,
              "mode": "immediate",
              "transition": {
               "duration": 0,
               "easing": "linear"
              }
             }
            ],
            "label": "18.75",
            "method": "animate"
           },
           {
            "args": [
             [
              "20.11"
             ],
             {
              "frame": {
               "duration": 0,
               "redraw": false
              },
              "fromcurrent": true,
              "mode": "immediate",
              "transition": {
               "duration": 0,
               "easing": "linear"
              }
             }
            ],
            "label": "20.11",
            "method": "animate"
           },
           {
            "args": [
             [
              "21.46"
             ],
             {
              "frame": {
               "duration": 0,
               "redraw": false
              },
              "fromcurrent": true,
              "mode": "immediate",
              "transition": {
               "duration": 0,
               "easing": "linear"
              }
             }
            ],
            "label": "21.46",
            "method": "animate"
           },
           {
            "args": [
             [
              "22.79"
             ],
             {
              "frame": {
               "duration": 0,
               "redraw": false
              },
              "fromcurrent": true,
              "mode": "immediate",
              "transition": {
               "duration": 0,
               "easing": "linear"
              }
             }
            ],
            "label": "22.79",
            "method": "animate"
           },
           {
            "args": [
             [
              "24.13"
             ],
             {
              "frame": {
               "duration": 0,
               "redraw": false
              },
              "fromcurrent": true,
              "mode": "immediate",
              "transition": {
               "duration": 0,
               "easing": "linear"
              }
             }
            ],
            "label": "24.13",
            "method": "animate"
           },
           {
            "args": [
             [
              "25.53"
             ],
             {
              "frame": {
               "duration": 0,
               "redraw": false
              },
              "fromcurrent": true,
              "mode": "immediate",
              "transition": {
               "duration": 0,
               "easing": "linear"
              }
             }
            ],
            "label": "25.53",
            "method": "animate"
           },
           {
            "args": [
             [
              "26.82"
             ],
             {
              "frame": {
               "duration": 0,
               "redraw": false
              },
              "fromcurrent": true,
              "mode": "immediate",
              "transition": {
               "duration": 0,
               "easing": "linear"
              }
             }
            ],
            "label": "26.82",
            "method": "animate"
           },
           {
            "args": [
             [
              "27.7"
             ],
             {
              "frame": {
               "duration": 0,
               "redraw": false
              },
              "fromcurrent": true,
              "mode": "immediate",
              "transition": {
               "duration": 0,
               "easing": "linear"
              }
             }
            ],
            "label": "27.7",
            "method": "animate"
           },
           {
            "args": [
             [
              "26.38"
             ],
             {
              "frame": {
               "duration": 0,
               "redraw": false
              },
              "fromcurrent": true,
              "mode": "immediate",
              "transition": {
               "duration": 0,
               "easing": "linear"
              }
             }
            ],
            "label": "26.38",
            "method": "animate"
           },
           {
            "args": [
             [
              "25.0"
             ],
             {
              "frame": {
               "duration": 0,
               "redraw": false
              },
              "fromcurrent": true,
              "mode": "immediate",
              "transition": {
               "duration": 0,
               "easing": "linear"
              }
             }
            ],
            "label": "25.0",
            "method": "animate"
           },
           {
            "args": [
             [
              "23.58"
             ],
             {
              "frame": {
               "duration": 0,
               "redraw": false
              },
              "fromcurrent": true,
              "mode": "immediate",
              "transition": {
               "duration": 0,
               "easing": "linear"
              }
             }
            ],
            "label": "23.58",
            "method": "animate"
           },
           {
            "args": [
             [
              "22.17"
             ],
             {
              "frame": {
               "duration": 0,
               "redraw": false
              },
              "fromcurrent": true,
              "mode": "immediate",
              "transition": {
               "duration": 0,
               "easing": "linear"
              }
             }
            ],
            "label": "22.17",
            "method": "animate"
           },
           {
            "args": [
             [
              "20.72"
             ],
             {
              "frame": {
               "duration": 0,
               "redraw": false
              },
              "fromcurrent": true,
              "mode": "immediate",
              "transition": {
               "duration": 0,
               "easing": "linear"
              }
             }
            ],
            "label": "20.72",
            "method": "animate"
           },
           {
            "args": [
             [
              "19.26"
             ],
             {
              "frame": {
               "duration": 0,
               "redraw": false
              },
              "fromcurrent": true,
              "mode": "immediate",
              "transition": {
               "duration": 0,
               "easing": "linear"
              }
             }
            ],
            "label": "19.26",
            "method": "animate"
           },
           {
            "args": [
             [
              "17.81"
             ],
             {
              "frame": {
               "duration": 0,
               "redraw": false
              },
              "fromcurrent": true,
              "mode": "immediate",
              "transition": {
               "duration": 0,
               "easing": "linear"
              }
             }
            ],
            "label": "17.81",
            "method": "animate"
           },
           {
            "args": [
             [
              "16.36"
             ],
             {
              "frame": {
               "duration": 0,
               "redraw": false
              },
              "fromcurrent": true,
              "mode": "immediate",
              "transition": {
               "duration": 0,
               "easing": "linear"
              }
             }
            ],
            "label": "16.36",
            "method": "animate"
           },
           {
            "args": [
             [
              "14.92"
             ],
             {
              "frame": {
               "duration": 0,
               "redraw": false
              },
              "fromcurrent": true,
              "mode": "immediate",
              "transition": {
               "duration": 0,
               "easing": "linear"
              }
             }
            ],
            "label": "14.92",
            "method": "animate"
           },
           {
            "args": [
             [
              "13.48"
             ],
             {
              "frame": {
               "duration": 0,
               "redraw": false
              },
              "fromcurrent": true,
              "mode": "immediate",
              "transition": {
               "duration": 0,
               "easing": "linear"
              }
             }
            ],
            "label": "13.48",
            "method": "animate"
           },
           {
            "args": [
             [
              "12.07"
             ],
             {
              "frame": {
               "duration": 0,
               "redraw": false
              },
              "fromcurrent": true,
              "mode": "immediate",
              "transition": {
               "duration": 0,
               "easing": "linear"
              }
             }
            ],
            "label": "12.07",
            "method": "animate"
           },
           {
            "args": [
             [
              "10.67"
             ],
             {
              "frame": {
               "duration": 0,
               "redraw": false
              },
              "fromcurrent": true,
              "mode": "immediate",
              "transition": {
               "duration": 0,
               "easing": "linear"
              }
             }
            ],
            "label": "10.67",
            "method": "animate"
           },
           {
            "args": [
             [
              "9.23"
             ],
             {
              "frame": {
               "duration": 0,
               "redraw": false
              },
              "fromcurrent": true,
              "mode": "immediate",
              "transition": {
               "duration": 0,
               "easing": "linear"
              }
             }
            ],
            "label": "9.23",
            "method": "animate"
           },
           {
            "args": [
             [
              "7.78"
             ],
             {
              "frame": {
               "duration": 0,
               "redraw": false
              },
              "fromcurrent": true,
              "mode": "immediate",
              "transition": {
               "duration": 0,
               "easing": "linear"
              }
             }
            ],
            "label": "7.78",
            "method": "animate"
           },
           {
            "args": [
             [
              "6.34"
             ],
             {
              "frame": {
               "duration": 0,
               "redraw": false
              },
              "fromcurrent": true,
              "mode": "immediate",
              "transition": {
               "duration": 0,
               "easing": "linear"
              }
             }
            ],
            "label": "6.34",
            "method": "animate"
           },
           {
            "args": [
             [
              "4.9"
             ],
             {
              "frame": {
               "duration": 0,
               "redraw": false
              },
              "fromcurrent": true,
              "mode": "immediate",
              "transition": {
               "duration": 0,
               "easing": "linear"
              }
             }
            ],
            "label": "4.9",
            "method": "animate"
           },
           {
            "args": [
             [
              "3.45"
             ],
             {
              "frame": {
               "duration": 0,
               "redraw": false
              },
              "fromcurrent": true,
              "mode": "immediate",
              "transition": {
               "duration": 0,
               "easing": "linear"
              }
             }
            ],
            "label": "3.45",
            "method": "animate"
           },
           {
            "args": [
             [
              "1.99"
             ],
             {
              "frame": {
               "duration": 0,
               "redraw": false
              },
              "fromcurrent": true,
              "mode": "immediate",
              "transition": {
               "duration": 0,
               "easing": "linear"
              }
             }
            ],
            "label": "1.99",
            "method": "animate"
           },
           {
            "args": [
             [
              "0.58"
             ],
             {
              "frame": {
               "duration": 0,
               "redraw": false
              },
              "fromcurrent": true,
              "mode": "immediate",
              "transition": {
               "duration": 0,
               "easing": "linear"
              }
             }
            ],
            "label": "0.58",
            "method": "animate"
           },
           {
            "args": [
             [
              "-2.2"
             ],
             {
              "frame": {
               "duration": 0,
               "redraw": false
              },
              "fromcurrent": true,
              "mode": "immediate",
              "transition": {
               "duration": 0,
               "easing": "linear"
              }
             }
            ],
            "label": "-2.2",
            "method": "animate"
           },
           {
            "args": [
             [
              "-2.82"
             ],
             {
              "frame": {
               "duration": 0,
               "redraw": false
              },
              "fromcurrent": true,
              "mode": "immediate",
              "transition": {
               "duration": 0,
               "easing": "linear"
              }
             }
            ],
            "label": "-2.82",
            "method": "animate"
           },
           {
            "args": [
             [
              "-2.96"
             ],
             {
              "frame": {
               "duration": 0,
               "redraw": false
              },
              "fromcurrent": true,
              "mode": "immediate",
              "transition": {
               "duration": 0,
               "easing": "linear"
              }
             }
            ],
            "label": "-2.96",
            "method": "animate"
           },
           {
            "args": [
             [
              "-1.69"
             ],
             {
              "frame": {
               "duration": 0,
               "redraw": false
              },
              "fromcurrent": true,
              "mode": "immediate",
              "transition": {
               "duration": 0,
               "easing": "linear"
              }
             }
            ],
            "label": "-1.69",
            "method": "animate"
           },
           {
            "args": [
             [
              "-1.06"
             ],
             {
              "frame": {
               "duration": 0,
               "redraw": false
              },
              "fromcurrent": true,
              "mode": "immediate",
              "transition": {
               "duration": 0,
               "easing": "linear"
              }
             }
            ],
            "label": "-1.06",
            "method": "animate"
           },
           {
            "args": [
             [
              "-0.89"
             ],
             {
              "frame": {
               "duration": 0,
               "redraw": false
              },
              "fromcurrent": true,
              "mode": "immediate",
              "transition": {
               "duration": 0,
               "easing": "linear"
              }
             }
            ],
            "label": "-0.89",
            "method": "animate"
           },
           {
            "args": [
             [
              "0.11"
             ],
             {
              "frame": {
               "duration": 0,
               "redraw": false
              },
              "fromcurrent": true,
              "mode": "immediate",
              "transition": {
               "duration": 0,
               "easing": "linear"
              }
             }
            ],
            "label": "0.11",
            "method": "animate"
           },
           {
            "args": [
             [
              "0.04"
             ],
             {
              "frame": {
               "duration": 0,
               "redraw": false
              },
              "fromcurrent": true,
              "mode": "immediate",
              "transition": {
               "duration": 0,
               "easing": "linear"
              }
             }
            ],
            "label": "0.04",
            "method": "animate"
           },
           {
            "args": [
             [
              "0.07"
             ],
             {
              "frame": {
               "duration": 0,
               "redraw": false
              },
              "fromcurrent": true,
              "mode": "immediate",
              "transition": {
               "duration": 0,
               "easing": "linear"
              }
             }
            ],
            "label": "0.07",
            "method": "animate"
           },
           {
            "args": [
             [
              "-0.11"
             ],
             {
              "frame": {
               "duration": 0,
               "redraw": false
              },
              "fromcurrent": true,
              "mode": "immediate",
              "transition": {
               "duration": 0,
               "easing": "linear"
              }
             }
            ],
            "label": "-0.11",
            "method": "animate"
           }
          ],
          "x": 0.1,
          "xanchor": "left",
          "y": 0,
          "yanchor": "top"
         }
        ],
        "template": {
         "data": {
          "bar": [
           {
            "error_x": {
             "color": "#2a3f5f"
            },
            "error_y": {
             "color": "#2a3f5f"
            },
            "marker": {
             "line": {
              "color": "#E5ECF6",
              "width": 0.5
             }
            },
            "type": "bar"
           }
          ],
          "barpolar": [
           {
            "marker": {
             "line": {
              "color": "#E5ECF6",
              "width": 0.5
             }
            },
            "type": "barpolar"
           }
          ],
          "carpet": [
           {
            "aaxis": {
             "endlinecolor": "#2a3f5f",
             "gridcolor": "white",
             "linecolor": "white",
             "minorgridcolor": "white",
             "startlinecolor": "#2a3f5f"
            },
            "baxis": {
             "endlinecolor": "#2a3f5f",
             "gridcolor": "white",
             "linecolor": "white",
             "minorgridcolor": "white",
             "startlinecolor": "#2a3f5f"
            },
            "type": "carpet"
           }
          ],
          "choropleth": [
           {
            "colorbar": {
             "outlinewidth": 0,
             "ticks": ""
            },
            "type": "choropleth"
           }
          ],
          "contour": [
           {
            "colorbar": {
             "outlinewidth": 0,
             "ticks": ""
            },
            "colorscale": [
             [
              0,
              "#0d0887"
             ],
             [
              0.1111111111111111,
              "#46039f"
             ],
             [
              0.2222222222222222,
              "#7201a8"
             ],
             [
              0.3333333333333333,
              "#9c179e"
             ],
             [
              0.4444444444444444,
              "#bd3786"
             ],
             [
              0.5555555555555556,
              "#d8576b"
             ],
             [
              0.6666666666666666,
              "#ed7953"
             ],
             [
              0.7777777777777778,
              "#fb9f3a"
             ],
             [
              0.8888888888888888,
              "#fdca26"
             ],
             [
              1,
              "#f0f921"
             ]
            ],
            "type": "contour"
           }
          ],
          "contourcarpet": [
           {
            "colorbar": {
             "outlinewidth": 0,
             "ticks": ""
            },
            "type": "contourcarpet"
           }
          ],
          "heatmap": [
           {
            "colorbar": {
             "outlinewidth": 0,
             "ticks": ""
            },
            "colorscale": [
             [
              0,
              "#0d0887"
             ],
             [
              0.1111111111111111,
              "#46039f"
             ],
             [
              0.2222222222222222,
              "#7201a8"
             ],
             [
              0.3333333333333333,
              "#9c179e"
             ],
             [
              0.4444444444444444,
              "#bd3786"
             ],
             [
              0.5555555555555556,
              "#d8576b"
             ],
             [
              0.6666666666666666,
              "#ed7953"
             ],
             [
              0.7777777777777778,
              "#fb9f3a"
             ],
             [
              0.8888888888888888,
              "#fdca26"
             ],
             [
              1,
              "#f0f921"
             ]
            ],
            "type": "heatmap"
           }
          ],
          "heatmapgl": [
           {
            "colorbar": {
             "outlinewidth": 0,
             "ticks": ""
            },
            "colorscale": [
             [
              0,
              "#0d0887"
             ],
             [
              0.1111111111111111,
              "#46039f"
             ],
             [
              0.2222222222222222,
              "#7201a8"
             ],
             [
              0.3333333333333333,
              "#9c179e"
             ],
             [
              0.4444444444444444,
              "#bd3786"
             ],
             [
              0.5555555555555556,
              "#d8576b"
             ],
             [
              0.6666666666666666,
              "#ed7953"
             ],
             [
              0.7777777777777778,
              "#fb9f3a"
             ],
             [
              0.8888888888888888,
              "#fdca26"
             ],
             [
              1,
              "#f0f921"
             ]
            ],
            "type": "heatmapgl"
           }
          ],
          "histogram": [
           {
            "marker": {
             "colorbar": {
              "outlinewidth": 0,
              "ticks": ""
             }
            },
            "type": "histogram"
           }
          ],
          "histogram2d": [
           {
            "colorbar": {
             "outlinewidth": 0,
             "ticks": ""
            },
            "colorscale": [
             [
              0,
              "#0d0887"
             ],
             [
              0.1111111111111111,
              "#46039f"
             ],
             [
              0.2222222222222222,
              "#7201a8"
             ],
             [
              0.3333333333333333,
              "#9c179e"
             ],
             [
              0.4444444444444444,
              "#bd3786"
             ],
             [
              0.5555555555555556,
              "#d8576b"
             ],
             [
              0.6666666666666666,
              "#ed7953"
             ],
             [
              0.7777777777777778,
              "#fb9f3a"
             ],
             [
              0.8888888888888888,
              "#fdca26"
             ],
             [
              1,
              "#f0f921"
             ]
            ],
            "type": "histogram2d"
           }
          ],
          "histogram2dcontour": [
           {
            "colorbar": {
             "outlinewidth": 0,
             "ticks": ""
            },
            "colorscale": [
             [
              0,
              "#0d0887"
             ],
             [
              0.1111111111111111,
              "#46039f"
             ],
             [
              0.2222222222222222,
              "#7201a8"
             ],
             [
              0.3333333333333333,
              "#9c179e"
             ],
             [
              0.4444444444444444,
              "#bd3786"
             ],
             [
              0.5555555555555556,
              "#d8576b"
             ],
             [
              0.6666666666666666,
              "#ed7953"
             ],
             [
              0.7777777777777778,
              "#fb9f3a"
             ],
             [
              0.8888888888888888,
              "#fdca26"
             ],
             [
              1,
              "#f0f921"
             ]
            ],
            "type": "histogram2dcontour"
           }
          ],
          "mesh3d": [
           {
            "colorbar": {
             "outlinewidth": 0,
             "ticks": ""
            },
            "type": "mesh3d"
           }
          ],
          "parcoords": [
           {
            "line": {
             "colorbar": {
              "outlinewidth": 0,
              "ticks": ""
             }
            },
            "type": "parcoords"
           }
          ],
          "pie": [
           {
            "automargin": true,
            "type": "pie"
           }
          ],
          "scatter": [
           {
            "marker": {
             "colorbar": {
              "outlinewidth": 0,
              "ticks": ""
             }
            },
            "type": "scatter"
           }
          ],
          "scatter3d": [
           {
            "line": {
             "colorbar": {
              "outlinewidth": 0,
              "ticks": ""
             }
            },
            "marker": {
             "colorbar": {
              "outlinewidth": 0,
              "ticks": ""
             }
            },
            "type": "scatter3d"
           }
          ],
          "scattercarpet": [
           {
            "marker": {
             "colorbar": {
              "outlinewidth": 0,
              "ticks": ""
             }
            },
            "type": "scattercarpet"
           }
          ],
          "scattergeo": [
           {
            "marker": {
             "colorbar": {
              "outlinewidth": 0,
              "ticks": ""
             }
            },
            "type": "scattergeo"
           }
          ],
          "scattergl": [
           {
            "marker": {
             "colorbar": {
              "outlinewidth": 0,
              "ticks": ""
             }
            },
            "type": "scattergl"
           }
          ],
          "scattermapbox": [
           {
            "marker": {
             "colorbar": {
              "outlinewidth": 0,
              "ticks": ""
             }
            },
            "type": "scattermapbox"
           }
          ],
          "scatterpolar": [
           {
            "marker": {
             "colorbar": {
              "outlinewidth": 0,
              "ticks": ""
             }
            },
            "type": "scatterpolar"
           }
          ],
          "scatterpolargl": [
           {
            "marker": {
             "colorbar": {
              "outlinewidth": 0,
              "ticks": ""
             }
            },
            "type": "scatterpolargl"
           }
          ],
          "scatterternary": [
           {
            "marker": {
             "colorbar": {
              "outlinewidth": 0,
              "ticks": ""
             }
            },
            "type": "scatterternary"
           }
          ],
          "surface": [
           {
            "colorbar": {
             "outlinewidth": 0,
             "ticks": ""
            },
            "colorscale": [
             [
              0,
              "#0d0887"
             ],
             [
              0.1111111111111111,
              "#46039f"
             ],
             [
              0.2222222222222222,
              "#7201a8"
             ],
             [
              0.3333333333333333,
              "#9c179e"
             ],
             [
              0.4444444444444444,
              "#bd3786"
             ],
             [
              0.5555555555555556,
              "#d8576b"
             ],
             [
              0.6666666666666666,
              "#ed7953"
             ],
             [
              0.7777777777777778,
              "#fb9f3a"
             ],
             [
              0.8888888888888888,
              "#fdca26"
             ],
             [
              1,
              "#f0f921"
             ]
            ],
            "type": "surface"
           }
          ],
          "table": [
           {
            "cells": {
             "fill": {
              "color": "#EBF0F8"
             },
             "line": {
              "color": "white"
             }
            },
            "header": {
             "fill": {
              "color": "#C8D4E3"
             },
             "line": {
              "color": "white"
             }
            },
            "type": "table"
           }
          ]
         },
         "layout": {
          "annotationdefaults": {
           "arrowcolor": "#2a3f5f",
           "arrowhead": 0,
           "arrowwidth": 1
          },
          "coloraxis": {
           "colorbar": {
            "outlinewidth": 0,
            "ticks": ""
           }
          },
          "colorscale": {
           "diverging": [
            [
             0,
             "#8e0152"
            ],
            [
             0.1,
             "#c51b7d"
            ],
            [
             0.2,
             "#de77ae"
            ],
            [
             0.3,
             "#f1b6da"
            ],
            [
             0.4,
             "#fde0ef"
            ],
            [
             0.5,
             "#f7f7f7"
            ],
            [
             0.6,
             "#e6f5d0"
            ],
            [
             0.7,
             "#b8e186"
            ],
            [
             0.8,
             "#7fbc41"
            ],
            [
             0.9,
             "#4d9221"
            ],
            [
             1,
             "#276419"
            ]
           ],
           "sequential": [
            [
             0,
             "#0d0887"
            ],
            [
             0.1111111111111111,
             "#46039f"
            ],
            [
             0.2222222222222222,
             "#7201a8"
            ],
            [
             0.3333333333333333,
             "#9c179e"
            ],
            [
             0.4444444444444444,
             "#bd3786"
            ],
            [
             0.5555555555555556,
             "#d8576b"
            ],
            [
             0.6666666666666666,
             "#ed7953"
            ],
            [
             0.7777777777777778,
             "#fb9f3a"
            ],
            [
             0.8888888888888888,
             "#fdca26"
            ],
            [
             1,
             "#f0f921"
            ]
           ],
           "sequentialminus": [
            [
             0,
             "#0d0887"
            ],
            [
             0.1111111111111111,
             "#46039f"
            ],
            [
             0.2222222222222222,
             "#7201a8"
            ],
            [
             0.3333333333333333,
             "#9c179e"
            ],
            [
             0.4444444444444444,
             "#bd3786"
            ],
            [
             0.5555555555555556,
             "#d8576b"
            ],
            [
             0.6666666666666666,
             "#ed7953"
            ],
            [
             0.7777777777777778,
             "#fb9f3a"
            ],
            [
             0.8888888888888888,
             "#fdca26"
            ],
            [
             1,
             "#f0f921"
            ]
           ]
          },
          "colorway": [
           "#636efa",
           "#EF553B",
           "#00cc96",
           "#ab63fa",
           "#FFA15A",
           "#19d3f3",
           "#FF6692",
           "#B6E880",
           "#FF97FF",
           "#FECB52"
          ],
          "font": {
           "color": "#2a3f5f"
          },
          "geo": {
           "bgcolor": "white",
           "lakecolor": "white",
           "landcolor": "#E5ECF6",
           "showlakes": true,
           "showland": true,
           "subunitcolor": "white"
          },
          "hoverlabel": {
           "align": "left"
          },
          "hovermode": "closest",
          "mapbox": {
           "style": "light"
          },
          "paper_bgcolor": "white",
          "plot_bgcolor": "#E5ECF6",
          "polar": {
           "angularaxis": {
            "gridcolor": "white",
            "linecolor": "white",
            "ticks": ""
           },
           "bgcolor": "#E5ECF6",
           "radialaxis": {
            "gridcolor": "white",
            "linecolor": "white",
            "ticks": ""
           }
          },
          "scene": {
           "xaxis": {
            "backgroundcolor": "#E5ECF6",
            "gridcolor": "white",
            "gridwidth": 2,
            "linecolor": "white",
            "showbackground": true,
            "ticks": "",
            "zerolinecolor": "white"
           },
           "yaxis": {
            "backgroundcolor": "#E5ECF6",
            "gridcolor": "white",
            "gridwidth": 2,
            "linecolor": "white",
            "showbackground": true,
            "ticks": "",
            "zerolinecolor": "white"
           },
           "zaxis": {
            "backgroundcolor": "#E5ECF6",
            "gridcolor": "white",
            "gridwidth": 2,
            "linecolor": "white",
            "showbackground": true,
            "ticks": "",
            "zerolinecolor": "white"
           }
          },
          "shapedefaults": {
           "line": {
            "color": "#2a3f5f"
           }
          },
          "ternary": {
           "aaxis": {
            "gridcolor": "white",
            "linecolor": "white",
            "ticks": ""
           },
           "baxis": {
            "gridcolor": "white",
            "linecolor": "white",
            "ticks": ""
           },
           "bgcolor": "#E5ECF6",
           "caxis": {
            "gridcolor": "white",
            "linecolor": "white",
            "ticks": ""
           }
          },
          "title": {
           "x": 0.05
          },
          "xaxis": {
           "automargin": true,
           "gridcolor": "white",
           "linecolor": "white",
           "ticks": "",
           "title": {
            "standoff": 15
           },
           "zerolinecolor": "white",
           "zerolinewidth": 2
          },
          "yaxis": {
           "automargin": true,
           "gridcolor": "white",
           "linecolor": "white",
           "ticks": "",
           "title": {
            "standoff": 15
           },
           "zerolinecolor": "white",
           "zerolinewidth": 2
          }
         }
        },
        "updatemenus": [
         {
          "buttons": [
           {
            "args": [
             null,
             {
              "frame": {
               "duration": 500,
               "redraw": false
              },
              "fromcurrent": true,
              "mode": "immediate",
              "transition": {
               "duration": 500,
               "easing": "linear"
              }
             }
            ],
            "label": "&#9654;",
            "method": "animate"
           },
           {
            "args": [
             [
              null
             ],
             {
              "frame": {
               "duration": 0,
               "redraw": false
              },
              "fromcurrent": true,
              "mode": "immediate",
              "transition": {
               "duration": 0,
               "easing": "linear"
              }
             }
            ],
            "label": "&#9724;",
            "method": "animate"
           }
          ],
          "direction": "left",
          "pad": {
           "r": 10,
           "t": 70
          },
          "showactive": false,
          "type": "buttons",
          "x": 0.1,
          "xanchor": "right",
          "y": 0,
          "yanchor": "top"
         }
        ],
        "xaxis": {
         "anchor": "y",
         "categoryarray": [
          0,
          -0.2,
          -0.25,
          -0.27,
          -0.8,
          -1.25,
          -2.53,
          -2.69,
          -2.02,
          -0.82,
          0.45,
          1.77,
          3.1,
          4.4,
          5.73,
          7.06,
          8.38,
          9.71,
          11.1,
          12.4,
          13.67,
          14.95,
          16.23,
          17.53,
          18.82,
          20.1,
          21.42,
          22.73,
          24.02,
          25.29,
          26.51,
          27.5,
          26.32,
          24.94,
          23.55,
          22.16,
          20.8,
          19.45,
          18.11,
          16.76,
          13.95,
          12.54,
          11.15,
          9.76,
          8.37,
          7,
          5.63,
          4.26,
          2.95,
          1.56,
          0.21,
          -1.12,
          -2.39,
          -3.48,
          -2.14,
          -0.74,
          0.64,
          2.04,
          3.48,
          4.91,
          6.31,
          7.7,
          9.08,
          10.48,
          11.88,
          13.27,
          14.67,
          16.05,
          17.4,
          18.75,
          20.11,
          21.46,
          22.79,
          24.13,
          25.53,
          26.82,
          27.7,
          26.38,
          25,
          23.58,
          22.17,
          20.72,
          19.26,
          17.81,
          16.36,
          14.92,
          13.48,
          12.07,
          10.67,
          9.23,
          7.78,
          6.34,
          4.9,
          3.45,
          1.99,
          0.58,
          -2.2,
          -2.82,
          -2.96,
          -1.69,
          -1.06,
          -0.89,
          0.11,
          0.04,
          0.07,
          -0.11
         ],
         "categoryorder": "array",
         "domain": [
          0,
          1
         ],
         "range": [
          -3.48,
          27.7
         ],
         "title": {
          "text": "1"
         }
        },
        "yaxis": {
         "anchor": "x",
         "domain": [
          0,
          1
         ],
         "range": [
          -0.01,
          6.95
         ],
         "title": {
          "text": "2"
         }
        }
       }
      },
      "text/html": [
       "<div>\n",
       "        \n",
       "        \n",
       "            <div id=\"663126e1-7d9e-4529-9984-3c7ce820e026\" class=\"plotly-graph-div\" style=\"height:525px; width:100%;\"></div>\n",
       "            <script type=\"text/javascript\">\n",
       "                require([\"plotly\"], function(Plotly) {\n",
       "                    window.PLOTLYENV=window.PLOTLYENV || {};\n",
       "                    \n",
       "                if (document.getElementById(\"663126e1-7d9e-4529-9984-3c7ce820e026\")) {\n",
       "                    Plotly.newPlot(\n",
       "                        '663126e1-7d9e-4529-9984-3c7ce820e026',\n",
       "                        [{\"hoverlabel\": {\"namelength\": 0}, \"hovertemplate\": \"1=%{x}<br>2=%{y}\", \"legendgroup\": \"\", \"marker\": {\"color\": \"#636efa\", \"symbol\": \"circle\"}, \"mode\": \"markers\", \"name\": \"\", \"showlegend\": false, \"type\": \"scatter\", \"x\": [-0.0, -0.0], \"xaxis\": \"x\", \"y\": [0.0, 0.0], \"yaxis\": \"y\"}],\n",
       "                        {\"legend\": {\"tracegroupgap\": 0}, \"margin\": {\"t\": 60}, \"sliders\": [{\"active\": 0, \"currentvalue\": {\"prefix\": \"1=\"}, \"len\": 0.9, \"pad\": {\"b\": 10, \"t\": 60}, \"steps\": [{\"args\": [[\"-0.0\"], {\"frame\": {\"duration\": 0, \"redraw\": false}, \"fromcurrent\": true, \"mode\": \"immediate\", \"transition\": {\"duration\": 0, \"easing\": \"linear\"}}], \"label\": \"-0.0\", \"method\": \"animate\"}, {\"args\": [[\"-0.2\"], {\"frame\": {\"duration\": 0, \"redraw\": false}, \"fromcurrent\": true, \"mode\": \"immediate\", \"transition\": {\"duration\": 0, \"easing\": \"linear\"}}], \"label\": \"-0.2\", \"method\": \"animate\"}, {\"args\": [[\"-0.25\"], {\"frame\": {\"duration\": 0, \"redraw\": false}, \"fromcurrent\": true, \"mode\": \"immediate\", \"transition\": {\"duration\": 0, \"easing\": \"linear\"}}], \"label\": \"-0.25\", \"method\": \"animate\"}, {\"args\": [[\"-0.27\"], {\"frame\": {\"duration\": 0, \"redraw\": false}, \"fromcurrent\": true, \"mode\": \"immediate\", \"transition\": {\"duration\": 0, \"easing\": \"linear\"}}], \"label\": \"-0.27\", \"method\": \"animate\"}, {\"args\": [[\"-0.8\"], {\"frame\": {\"duration\": 0, \"redraw\": false}, \"fromcurrent\": true, \"mode\": \"immediate\", \"transition\": {\"duration\": 0, \"easing\": \"linear\"}}], \"label\": \"-0.8\", \"method\": \"animate\"}, {\"args\": [[\"-1.25\"], {\"frame\": {\"duration\": 0, \"redraw\": false}, \"fromcurrent\": true, \"mode\": \"immediate\", \"transition\": {\"duration\": 0, \"easing\": \"linear\"}}], \"label\": \"-1.25\", \"method\": \"animate\"}, {\"args\": [[\"-2.53\"], {\"frame\": {\"duration\": 0, \"redraw\": false}, \"fromcurrent\": true, \"mode\": \"immediate\", \"transition\": {\"duration\": 0, \"easing\": \"linear\"}}], \"label\": \"-2.53\", \"method\": \"animate\"}, {\"args\": [[\"-2.69\"], {\"frame\": {\"duration\": 0, \"redraw\": false}, \"fromcurrent\": true, \"mode\": \"immediate\", \"transition\": {\"duration\": 0, \"easing\": \"linear\"}}], \"label\": \"-2.69\", \"method\": \"animate\"}, {\"args\": [[\"-2.02\"], {\"frame\": {\"duration\": 0, \"redraw\": false}, \"fromcurrent\": true, \"mode\": \"immediate\", \"transition\": {\"duration\": 0, \"easing\": \"linear\"}}], \"label\": \"-2.02\", \"method\": \"animate\"}, {\"args\": [[\"-0.82\"], {\"frame\": {\"duration\": 0, \"redraw\": false}, \"fromcurrent\": true, \"mode\": \"immediate\", \"transition\": {\"duration\": 0, \"easing\": \"linear\"}}], \"label\": \"-0.82\", \"method\": \"animate\"}, {\"args\": [[\"0.45\"], {\"frame\": {\"duration\": 0, \"redraw\": false}, \"fromcurrent\": true, \"mode\": \"immediate\", \"transition\": {\"duration\": 0, \"easing\": \"linear\"}}], \"label\": \"0.45\", \"method\": \"animate\"}, {\"args\": [[\"1.77\"], {\"frame\": {\"duration\": 0, \"redraw\": false}, \"fromcurrent\": true, \"mode\": \"immediate\", \"transition\": {\"duration\": 0, \"easing\": \"linear\"}}], \"label\": \"1.77\", \"method\": \"animate\"}, {\"args\": [[\"3.1\"], {\"frame\": {\"duration\": 0, \"redraw\": false}, \"fromcurrent\": true, \"mode\": \"immediate\", \"transition\": {\"duration\": 0, \"easing\": \"linear\"}}], \"label\": \"3.1\", \"method\": \"animate\"}, {\"args\": [[\"4.4\"], {\"frame\": {\"duration\": 0, \"redraw\": false}, \"fromcurrent\": true, \"mode\": \"immediate\", \"transition\": {\"duration\": 0, \"easing\": \"linear\"}}], \"label\": \"4.4\", \"method\": \"animate\"}, {\"args\": [[\"5.73\"], {\"frame\": {\"duration\": 0, \"redraw\": false}, \"fromcurrent\": true, \"mode\": \"immediate\", \"transition\": {\"duration\": 0, \"easing\": \"linear\"}}], \"label\": \"5.73\", \"method\": \"animate\"}, {\"args\": [[\"7.06\"], {\"frame\": {\"duration\": 0, \"redraw\": false}, \"fromcurrent\": true, \"mode\": \"immediate\", \"transition\": {\"duration\": 0, \"easing\": \"linear\"}}], \"label\": \"7.06\", \"method\": \"animate\"}, {\"args\": [[\"8.38\"], {\"frame\": {\"duration\": 0, \"redraw\": false}, \"fromcurrent\": true, \"mode\": \"immediate\", \"transition\": {\"duration\": 0, \"easing\": \"linear\"}}], \"label\": \"8.38\", \"method\": \"animate\"}, {\"args\": [[\"9.71\"], {\"frame\": {\"duration\": 0, \"redraw\": false}, \"fromcurrent\": true, \"mode\": \"immediate\", \"transition\": {\"duration\": 0, \"easing\": \"linear\"}}], \"label\": \"9.71\", \"method\": \"animate\"}, {\"args\": [[\"11.1\"], {\"frame\": {\"duration\": 0, \"redraw\": false}, \"fromcurrent\": true, \"mode\": \"immediate\", \"transition\": {\"duration\": 0, \"easing\": \"linear\"}}], \"label\": \"11.1\", \"method\": \"animate\"}, {\"args\": [[\"12.4\"], {\"frame\": {\"duration\": 0, \"redraw\": false}, \"fromcurrent\": true, \"mode\": \"immediate\", \"transition\": {\"duration\": 0, \"easing\": \"linear\"}}], \"label\": \"12.4\", \"method\": \"animate\"}, {\"args\": [[\"13.67\"], {\"frame\": {\"duration\": 0, \"redraw\": false}, \"fromcurrent\": true, \"mode\": \"immediate\", \"transition\": {\"duration\": 0, \"easing\": \"linear\"}}], \"label\": \"13.67\", \"method\": \"animate\"}, {\"args\": [[\"14.95\"], {\"frame\": {\"duration\": 0, \"redraw\": false}, \"fromcurrent\": true, \"mode\": \"immediate\", \"transition\": {\"duration\": 0, \"easing\": \"linear\"}}], \"label\": \"14.95\", \"method\": \"animate\"}, {\"args\": [[\"16.23\"], {\"frame\": {\"duration\": 0, \"redraw\": false}, \"fromcurrent\": true, \"mode\": \"immediate\", \"transition\": {\"duration\": 0, \"easing\": \"linear\"}}], \"label\": \"16.23\", \"method\": \"animate\"}, {\"args\": [[\"17.53\"], {\"frame\": {\"duration\": 0, \"redraw\": false}, \"fromcurrent\": true, \"mode\": \"immediate\", \"transition\": {\"duration\": 0, \"easing\": \"linear\"}}], \"label\": \"17.53\", \"method\": \"animate\"}, {\"args\": [[\"18.82\"], {\"frame\": {\"duration\": 0, \"redraw\": false}, \"fromcurrent\": true, \"mode\": \"immediate\", \"transition\": {\"duration\": 0, \"easing\": \"linear\"}}], \"label\": \"18.82\", \"method\": \"animate\"}, {\"args\": [[\"20.1\"], {\"frame\": {\"duration\": 0, \"redraw\": false}, \"fromcurrent\": true, \"mode\": \"immediate\", \"transition\": {\"duration\": 0, \"easing\": \"linear\"}}], \"label\": \"20.1\", \"method\": \"animate\"}, {\"args\": [[\"21.42\"], {\"frame\": {\"duration\": 0, \"redraw\": false}, \"fromcurrent\": true, \"mode\": \"immediate\", \"transition\": {\"duration\": 0, \"easing\": \"linear\"}}], \"label\": \"21.42\", \"method\": \"animate\"}, {\"args\": [[\"22.73\"], {\"frame\": {\"duration\": 0, \"redraw\": false}, \"fromcurrent\": true, \"mode\": \"immediate\", \"transition\": {\"duration\": 0, \"easing\": \"linear\"}}], \"label\": \"22.73\", \"method\": \"animate\"}, {\"args\": [[\"24.02\"], {\"frame\": {\"duration\": 0, \"redraw\": false}, \"fromcurrent\": true, \"mode\": \"immediate\", \"transition\": {\"duration\": 0, \"easing\": \"linear\"}}], \"label\": \"24.02\", \"method\": \"animate\"}, {\"args\": [[\"25.29\"], {\"frame\": {\"duration\": 0, \"redraw\": false}, \"fromcurrent\": true, \"mode\": \"immediate\", \"transition\": {\"duration\": 0, \"easing\": \"linear\"}}], \"label\": \"25.29\", \"method\": \"animate\"}, {\"args\": [[\"26.51\"], {\"frame\": {\"duration\": 0, \"redraw\": false}, \"fromcurrent\": true, \"mode\": \"immediate\", \"transition\": {\"duration\": 0, \"easing\": \"linear\"}}], \"label\": \"26.51\", \"method\": \"animate\"}, {\"args\": [[\"27.5\"], {\"frame\": {\"duration\": 0, \"redraw\": false}, \"fromcurrent\": true, \"mode\": \"immediate\", \"transition\": {\"duration\": 0, \"easing\": \"linear\"}}], \"label\": \"27.5\", \"method\": \"animate\"}, {\"args\": [[\"26.32\"], {\"frame\": {\"duration\": 0, \"redraw\": false}, \"fromcurrent\": true, \"mode\": \"immediate\", \"transition\": {\"duration\": 0, \"easing\": \"linear\"}}], \"label\": \"26.32\", \"method\": \"animate\"}, {\"args\": [[\"24.94\"], {\"frame\": {\"duration\": 0, \"redraw\": false}, \"fromcurrent\": true, \"mode\": \"immediate\", \"transition\": {\"duration\": 0, \"easing\": \"linear\"}}], \"label\": \"24.94\", \"method\": \"animate\"}, {\"args\": [[\"23.55\"], {\"frame\": {\"duration\": 0, \"redraw\": false}, \"fromcurrent\": true, \"mode\": \"immediate\", \"transition\": {\"duration\": 0, \"easing\": \"linear\"}}], \"label\": \"23.55\", \"method\": \"animate\"}, {\"args\": [[\"22.16\"], {\"frame\": {\"duration\": 0, \"redraw\": false}, \"fromcurrent\": true, \"mode\": \"immediate\", \"transition\": {\"duration\": 0, \"easing\": \"linear\"}}], \"label\": \"22.16\", \"method\": \"animate\"}, {\"args\": [[\"20.8\"], {\"frame\": {\"duration\": 0, \"redraw\": false}, \"fromcurrent\": true, \"mode\": \"immediate\", \"transition\": {\"duration\": 0, \"easing\": \"linear\"}}], \"label\": \"20.8\", \"method\": \"animate\"}, {\"args\": [[\"19.45\"], {\"frame\": {\"duration\": 0, \"redraw\": false}, \"fromcurrent\": true, \"mode\": \"immediate\", \"transition\": {\"duration\": 0, \"easing\": \"linear\"}}], \"label\": \"19.45\", \"method\": \"animate\"}, {\"args\": [[\"18.11\"], {\"frame\": {\"duration\": 0, \"redraw\": false}, \"fromcurrent\": true, \"mode\": \"immediate\", \"transition\": {\"duration\": 0, \"easing\": \"linear\"}}], \"label\": \"18.11\", \"method\": \"animate\"}, {\"args\": [[\"16.76\"], {\"frame\": {\"duration\": 0, \"redraw\": false}, \"fromcurrent\": true, \"mode\": \"immediate\", \"transition\": {\"duration\": 0, \"easing\": \"linear\"}}], \"label\": \"16.76\", \"method\": \"animate\"}, {\"args\": [[\"13.95\"], {\"frame\": {\"duration\": 0, \"redraw\": false}, \"fromcurrent\": true, \"mode\": \"immediate\", \"transition\": {\"duration\": 0, \"easing\": \"linear\"}}], \"label\": \"13.95\", \"method\": \"animate\"}, {\"args\": [[\"12.54\"], {\"frame\": {\"duration\": 0, \"redraw\": false}, \"fromcurrent\": true, \"mode\": \"immediate\", \"transition\": {\"duration\": 0, \"easing\": \"linear\"}}], \"label\": \"12.54\", \"method\": \"animate\"}, {\"args\": [[\"11.15\"], {\"frame\": {\"duration\": 0, \"redraw\": false}, \"fromcurrent\": true, \"mode\": \"immediate\", \"transition\": {\"duration\": 0, \"easing\": \"linear\"}}], \"label\": \"11.15\", \"method\": \"animate\"}, {\"args\": [[\"9.76\"], {\"frame\": {\"duration\": 0, \"redraw\": false}, \"fromcurrent\": true, \"mode\": \"immediate\", \"transition\": {\"duration\": 0, \"easing\": \"linear\"}}], \"label\": \"9.76\", \"method\": \"animate\"}, {\"args\": [[\"8.37\"], {\"frame\": {\"duration\": 0, \"redraw\": false}, \"fromcurrent\": true, \"mode\": \"immediate\", \"transition\": {\"duration\": 0, \"easing\": \"linear\"}}], \"label\": \"8.37\", \"method\": \"animate\"}, {\"args\": [[\"7.0\"], {\"frame\": {\"duration\": 0, \"redraw\": false}, \"fromcurrent\": true, \"mode\": \"immediate\", \"transition\": {\"duration\": 0, \"easing\": \"linear\"}}], \"label\": \"7.0\", \"method\": \"animate\"}, {\"args\": [[\"5.63\"], {\"frame\": {\"duration\": 0, \"redraw\": false}, \"fromcurrent\": true, \"mode\": \"immediate\", \"transition\": {\"duration\": 0, \"easing\": \"linear\"}}], \"label\": \"5.63\", \"method\": \"animate\"}, {\"args\": [[\"4.26\"], {\"frame\": {\"duration\": 0, \"redraw\": false}, \"fromcurrent\": true, \"mode\": \"immediate\", \"transition\": {\"duration\": 0, \"easing\": \"linear\"}}], \"label\": \"4.26\", \"method\": \"animate\"}, {\"args\": [[\"2.95\"], {\"frame\": {\"duration\": 0, \"redraw\": false}, \"fromcurrent\": true, \"mode\": \"immediate\", \"transition\": {\"duration\": 0, \"easing\": \"linear\"}}], \"label\": \"2.95\", \"method\": \"animate\"}, {\"args\": [[\"1.56\"], {\"frame\": {\"duration\": 0, \"redraw\": false}, \"fromcurrent\": true, \"mode\": \"immediate\", \"transition\": {\"duration\": 0, \"easing\": \"linear\"}}], \"label\": \"1.56\", \"method\": \"animate\"}, {\"args\": [[\"0.21\"], {\"frame\": {\"duration\": 0, \"redraw\": false}, \"fromcurrent\": true, \"mode\": \"immediate\", \"transition\": {\"duration\": 0, \"easing\": \"linear\"}}], \"label\": \"0.21\", \"method\": \"animate\"}, {\"args\": [[\"-1.12\"], {\"frame\": {\"duration\": 0, \"redraw\": false}, \"fromcurrent\": true, \"mode\": \"immediate\", \"transition\": {\"duration\": 0, \"easing\": \"linear\"}}], \"label\": \"-1.12\", \"method\": \"animate\"}, {\"args\": [[\"-2.39\"], {\"frame\": {\"duration\": 0, \"redraw\": false}, \"fromcurrent\": true, \"mode\": \"immediate\", \"transition\": {\"duration\": 0, \"easing\": \"linear\"}}], \"label\": \"-2.39\", \"method\": \"animate\"}, {\"args\": [[\"-3.48\"], {\"frame\": {\"duration\": 0, \"redraw\": false}, \"fromcurrent\": true, \"mode\": \"immediate\", \"transition\": {\"duration\": 0, \"easing\": \"linear\"}}], \"label\": \"-3.48\", \"method\": \"animate\"}, {\"args\": [[\"-2.14\"], {\"frame\": {\"duration\": 0, \"redraw\": false}, \"fromcurrent\": true, \"mode\": \"immediate\", \"transition\": {\"duration\": 0, \"easing\": \"linear\"}}], \"label\": \"-2.14\", \"method\": \"animate\"}, {\"args\": [[\"-0.74\"], {\"frame\": {\"duration\": 0, \"redraw\": false}, \"fromcurrent\": true, \"mode\": \"immediate\", \"transition\": {\"duration\": 0, \"easing\": \"linear\"}}], \"label\": \"-0.74\", \"method\": \"animate\"}, {\"args\": [[\"0.64\"], {\"frame\": {\"duration\": 0, \"redraw\": false}, \"fromcurrent\": true, \"mode\": \"immediate\", \"transition\": {\"duration\": 0, \"easing\": \"linear\"}}], \"label\": \"0.64\", \"method\": \"animate\"}, {\"args\": [[\"2.04\"], {\"frame\": {\"duration\": 0, \"redraw\": false}, \"fromcurrent\": true, \"mode\": \"immediate\", \"transition\": {\"duration\": 0, \"easing\": \"linear\"}}], \"label\": \"2.04\", \"method\": \"animate\"}, {\"args\": [[\"3.48\"], {\"frame\": {\"duration\": 0, \"redraw\": false}, \"fromcurrent\": true, \"mode\": \"immediate\", \"transition\": {\"duration\": 0, \"easing\": \"linear\"}}], \"label\": \"3.48\", \"method\": \"animate\"}, {\"args\": [[\"4.91\"], {\"frame\": {\"duration\": 0, \"redraw\": false}, \"fromcurrent\": true, \"mode\": \"immediate\", \"transition\": {\"duration\": 0, \"easing\": \"linear\"}}], \"label\": \"4.91\", \"method\": \"animate\"}, {\"args\": [[\"6.31\"], {\"frame\": {\"duration\": 0, \"redraw\": false}, \"fromcurrent\": true, \"mode\": \"immediate\", \"transition\": {\"duration\": 0, \"easing\": \"linear\"}}], \"label\": \"6.31\", \"method\": \"animate\"}, {\"args\": [[\"7.7\"], {\"frame\": {\"duration\": 0, \"redraw\": false}, \"fromcurrent\": true, \"mode\": \"immediate\", \"transition\": {\"duration\": 0, \"easing\": \"linear\"}}], \"label\": \"7.7\", \"method\": \"animate\"}, {\"args\": [[\"9.08\"], {\"frame\": {\"duration\": 0, \"redraw\": false}, \"fromcurrent\": true, \"mode\": \"immediate\", \"transition\": {\"duration\": 0, \"easing\": \"linear\"}}], \"label\": \"9.08\", \"method\": \"animate\"}, {\"args\": [[\"10.48\"], {\"frame\": {\"duration\": 0, \"redraw\": false}, \"fromcurrent\": true, \"mode\": \"immediate\", \"transition\": {\"duration\": 0, \"easing\": \"linear\"}}], \"label\": \"10.48\", \"method\": \"animate\"}, {\"args\": [[\"11.88\"], {\"frame\": {\"duration\": 0, \"redraw\": false}, \"fromcurrent\": true, \"mode\": \"immediate\", \"transition\": {\"duration\": 0, \"easing\": \"linear\"}}], \"label\": \"11.88\", \"method\": \"animate\"}, {\"args\": [[\"13.27\"], {\"frame\": {\"duration\": 0, \"redraw\": false}, \"fromcurrent\": true, \"mode\": \"immediate\", \"transition\": {\"duration\": 0, \"easing\": \"linear\"}}], \"label\": \"13.27\", \"method\": \"animate\"}, {\"args\": [[\"14.67\"], {\"frame\": {\"duration\": 0, \"redraw\": false}, \"fromcurrent\": true, \"mode\": \"immediate\", \"transition\": {\"duration\": 0, \"easing\": \"linear\"}}], \"label\": \"14.67\", \"method\": \"animate\"}, {\"args\": [[\"16.05\"], {\"frame\": {\"duration\": 0, \"redraw\": false}, \"fromcurrent\": true, \"mode\": \"immediate\", \"transition\": {\"duration\": 0, \"easing\": \"linear\"}}], \"label\": \"16.05\", \"method\": \"animate\"}, {\"args\": [[\"17.4\"], {\"frame\": {\"duration\": 0, \"redraw\": false}, \"fromcurrent\": true, \"mode\": \"immediate\", \"transition\": {\"duration\": 0, \"easing\": \"linear\"}}], \"label\": \"17.4\", \"method\": \"animate\"}, {\"args\": [[\"18.75\"], {\"frame\": {\"duration\": 0, \"redraw\": false}, \"fromcurrent\": true, \"mode\": \"immediate\", \"transition\": {\"duration\": 0, \"easing\": \"linear\"}}], \"label\": \"18.75\", \"method\": \"animate\"}, {\"args\": [[\"20.11\"], {\"frame\": {\"duration\": 0, \"redraw\": false}, \"fromcurrent\": true, \"mode\": \"immediate\", \"transition\": {\"duration\": 0, \"easing\": \"linear\"}}], \"label\": \"20.11\", \"method\": \"animate\"}, {\"args\": [[\"21.46\"], {\"frame\": {\"duration\": 0, \"redraw\": false}, \"fromcurrent\": true, \"mode\": \"immediate\", \"transition\": {\"duration\": 0, \"easing\": \"linear\"}}], \"label\": \"21.46\", \"method\": \"animate\"}, {\"args\": [[\"22.79\"], {\"frame\": {\"duration\": 0, \"redraw\": false}, \"fromcurrent\": true, \"mode\": \"immediate\", \"transition\": {\"duration\": 0, \"easing\": \"linear\"}}], \"label\": \"22.79\", \"method\": \"animate\"}, {\"args\": [[\"24.13\"], {\"frame\": {\"duration\": 0, \"redraw\": false}, \"fromcurrent\": true, \"mode\": \"immediate\", \"transition\": {\"duration\": 0, \"easing\": \"linear\"}}], \"label\": \"24.13\", \"method\": \"animate\"}, {\"args\": [[\"25.53\"], {\"frame\": {\"duration\": 0, \"redraw\": false}, \"fromcurrent\": true, \"mode\": \"immediate\", \"transition\": {\"duration\": 0, \"easing\": \"linear\"}}], \"label\": \"25.53\", \"method\": \"animate\"}, {\"args\": [[\"26.82\"], {\"frame\": {\"duration\": 0, \"redraw\": false}, \"fromcurrent\": true, \"mode\": \"immediate\", \"transition\": {\"duration\": 0, \"easing\": \"linear\"}}], \"label\": \"26.82\", \"method\": \"animate\"}, {\"args\": [[\"27.7\"], {\"frame\": {\"duration\": 0, \"redraw\": false}, \"fromcurrent\": true, \"mode\": \"immediate\", \"transition\": {\"duration\": 0, \"easing\": \"linear\"}}], \"label\": \"27.7\", \"method\": \"animate\"}, {\"args\": [[\"26.38\"], {\"frame\": {\"duration\": 0, \"redraw\": false}, \"fromcurrent\": true, \"mode\": \"immediate\", \"transition\": {\"duration\": 0, \"easing\": \"linear\"}}], \"label\": \"26.38\", \"method\": \"animate\"}, {\"args\": [[\"25.0\"], {\"frame\": {\"duration\": 0, \"redraw\": false}, \"fromcurrent\": true, \"mode\": \"immediate\", \"transition\": {\"duration\": 0, \"easing\": \"linear\"}}], \"label\": \"25.0\", \"method\": \"animate\"}, {\"args\": [[\"23.58\"], {\"frame\": {\"duration\": 0, \"redraw\": false}, \"fromcurrent\": true, \"mode\": \"immediate\", \"transition\": {\"duration\": 0, \"easing\": \"linear\"}}], \"label\": \"23.58\", \"method\": \"animate\"}, {\"args\": [[\"22.17\"], {\"frame\": {\"duration\": 0, \"redraw\": false}, \"fromcurrent\": true, \"mode\": \"immediate\", \"transition\": {\"duration\": 0, \"easing\": \"linear\"}}], \"label\": \"22.17\", \"method\": \"animate\"}, {\"args\": [[\"20.72\"], {\"frame\": {\"duration\": 0, \"redraw\": false}, \"fromcurrent\": true, \"mode\": \"immediate\", \"transition\": {\"duration\": 0, \"easing\": \"linear\"}}], \"label\": \"20.72\", \"method\": \"animate\"}, {\"args\": [[\"19.26\"], {\"frame\": {\"duration\": 0, \"redraw\": false}, \"fromcurrent\": true, \"mode\": \"immediate\", \"transition\": {\"duration\": 0, \"easing\": \"linear\"}}], \"label\": \"19.26\", \"method\": \"animate\"}, {\"args\": [[\"17.81\"], {\"frame\": {\"duration\": 0, \"redraw\": false}, \"fromcurrent\": true, \"mode\": \"immediate\", \"transition\": {\"duration\": 0, \"easing\": \"linear\"}}], \"label\": \"17.81\", \"method\": \"animate\"}, {\"args\": [[\"16.36\"], {\"frame\": {\"duration\": 0, \"redraw\": false}, \"fromcurrent\": true, \"mode\": \"immediate\", \"transition\": {\"duration\": 0, \"easing\": \"linear\"}}], \"label\": \"16.36\", \"method\": \"animate\"}, {\"args\": [[\"14.92\"], {\"frame\": {\"duration\": 0, \"redraw\": false}, \"fromcurrent\": true, \"mode\": \"immediate\", \"transition\": {\"duration\": 0, \"easing\": \"linear\"}}], \"label\": \"14.92\", \"method\": \"animate\"}, {\"args\": [[\"13.48\"], {\"frame\": {\"duration\": 0, \"redraw\": false}, \"fromcurrent\": true, \"mode\": \"immediate\", \"transition\": {\"duration\": 0, \"easing\": \"linear\"}}], \"label\": \"13.48\", \"method\": \"animate\"}, {\"args\": [[\"12.07\"], {\"frame\": {\"duration\": 0, \"redraw\": false}, \"fromcurrent\": true, \"mode\": \"immediate\", \"transition\": {\"duration\": 0, \"easing\": \"linear\"}}], \"label\": \"12.07\", \"method\": \"animate\"}, {\"args\": [[\"10.67\"], {\"frame\": {\"duration\": 0, \"redraw\": false}, \"fromcurrent\": true, \"mode\": \"immediate\", \"transition\": {\"duration\": 0, \"easing\": \"linear\"}}], \"label\": \"10.67\", \"method\": \"animate\"}, {\"args\": [[\"9.23\"], {\"frame\": {\"duration\": 0, \"redraw\": false}, \"fromcurrent\": true, \"mode\": \"immediate\", \"transition\": {\"duration\": 0, \"easing\": \"linear\"}}], \"label\": \"9.23\", \"method\": \"animate\"}, {\"args\": [[\"7.78\"], {\"frame\": {\"duration\": 0, \"redraw\": false}, \"fromcurrent\": true, \"mode\": \"immediate\", \"transition\": {\"duration\": 0, \"easing\": \"linear\"}}], \"label\": \"7.78\", \"method\": \"animate\"}, {\"args\": [[\"6.34\"], {\"frame\": {\"duration\": 0, \"redraw\": false}, \"fromcurrent\": true, \"mode\": \"immediate\", \"transition\": {\"duration\": 0, \"easing\": \"linear\"}}], \"label\": \"6.34\", \"method\": \"animate\"}, {\"args\": [[\"4.9\"], {\"frame\": {\"duration\": 0, \"redraw\": false}, \"fromcurrent\": true, \"mode\": \"immediate\", \"transition\": {\"duration\": 0, \"easing\": \"linear\"}}], \"label\": \"4.9\", \"method\": \"animate\"}, {\"args\": [[\"3.45\"], {\"frame\": {\"duration\": 0, \"redraw\": false}, \"fromcurrent\": true, \"mode\": \"immediate\", \"transition\": {\"duration\": 0, \"easing\": \"linear\"}}], \"label\": \"3.45\", \"method\": \"animate\"}, {\"args\": [[\"1.99\"], {\"frame\": {\"duration\": 0, \"redraw\": false}, \"fromcurrent\": true, \"mode\": \"immediate\", \"transition\": {\"duration\": 0, \"easing\": \"linear\"}}], \"label\": \"1.99\", \"method\": \"animate\"}, {\"args\": [[\"0.58\"], {\"frame\": {\"duration\": 0, \"redraw\": false}, \"fromcurrent\": true, \"mode\": \"immediate\", \"transition\": {\"duration\": 0, \"easing\": \"linear\"}}], \"label\": \"0.58\", \"method\": \"animate\"}, {\"args\": [[\"-2.2\"], {\"frame\": {\"duration\": 0, \"redraw\": false}, \"fromcurrent\": true, \"mode\": \"immediate\", \"transition\": {\"duration\": 0, \"easing\": \"linear\"}}], \"label\": \"-2.2\", \"method\": \"animate\"}, {\"args\": [[\"-2.82\"], {\"frame\": {\"duration\": 0, \"redraw\": false}, \"fromcurrent\": true, \"mode\": \"immediate\", \"transition\": {\"duration\": 0, \"easing\": \"linear\"}}], \"label\": \"-2.82\", \"method\": \"animate\"}, {\"args\": [[\"-2.96\"], {\"frame\": {\"duration\": 0, \"redraw\": false}, \"fromcurrent\": true, \"mode\": \"immediate\", \"transition\": {\"duration\": 0, \"easing\": \"linear\"}}], \"label\": \"-2.96\", \"method\": \"animate\"}, {\"args\": [[\"-1.69\"], {\"frame\": {\"duration\": 0, \"redraw\": false}, \"fromcurrent\": true, \"mode\": \"immediate\", \"transition\": {\"duration\": 0, \"easing\": \"linear\"}}], \"label\": \"-1.69\", \"method\": \"animate\"}, {\"args\": [[\"-1.06\"], {\"frame\": {\"duration\": 0, \"redraw\": false}, \"fromcurrent\": true, \"mode\": \"immediate\", \"transition\": {\"duration\": 0, \"easing\": \"linear\"}}], \"label\": \"-1.06\", \"method\": \"animate\"}, {\"args\": [[\"-0.89\"], {\"frame\": {\"duration\": 0, \"redraw\": false}, \"fromcurrent\": true, \"mode\": \"immediate\", \"transition\": {\"duration\": 0, \"easing\": \"linear\"}}], \"label\": \"-0.89\", \"method\": \"animate\"}, {\"args\": [[\"0.11\"], {\"frame\": {\"duration\": 0, \"redraw\": false}, \"fromcurrent\": true, \"mode\": \"immediate\", \"transition\": {\"duration\": 0, \"easing\": \"linear\"}}], \"label\": \"0.11\", \"method\": \"animate\"}, {\"args\": [[\"0.04\"], {\"frame\": {\"duration\": 0, \"redraw\": false}, \"fromcurrent\": true, \"mode\": \"immediate\", \"transition\": {\"duration\": 0, \"easing\": \"linear\"}}], \"label\": \"0.04\", \"method\": \"animate\"}, {\"args\": [[\"0.07\"], {\"frame\": {\"duration\": 0, \"redraw\": false}, \"fromcurrent\": true, \"mode\": \"immediate\", \"transition\": {\"duration\": 0, \"easing\": \"linear\"}}], \"label\": \"0.07\", \"method\": \"animate\"}, {\"args\": [[\"-0.11\"], {\"frame\": {\"duration\": 0, \"redraw\": false}, \"fromcurrent\": true, \"mode\": \"immediate\", \"transition\": {\"duration\": 0, \"easing\": \"linear\"}}], \"label\": \"-0.11\", \"method\": \"animate\"}], \"x\": 0.1, \"xanchor\": \"left\", \"y\": 0, \"yanchor\": \"top\"}], \"template\": {\"data\": {\"bar\": [{\"error_x\": {\"color\": \"#2a3f5f\"}, \"error_y\": {\"color\": \"#2a3f5f\"}, \"marker\": {\"line\": {\"color\": \"#E5ECF6\", \"width\": 0.5}}, \"type\": \"bar\"}], \"barpolar\": [{\"marker\": {\"line\": {\"color\": \"#E5ECF6\", \"width\": 0.5}}, \"type\": \"barpolar\"}], \"carpet\": [{\"aaxis\": {\"endlinecolor\": \"#2a3f5f\", \"gridcolor\": \"white\", \"linecolor\": \"white\", \"minorgridcolor\": \"white\", \"startlinecolor\": \"#2a3f5f\"}, \"baxis\": {\"endlinecolor\": \"#2a3f5f\", \"gridcolor\": \"white\", \"linecolor\": \"white\", \"minorgridcolor\": \"white\", \"startlinecolor\": \"#2a3f5f\"}, \"type\": \"carpet\"}], \"choropleth\": [{\"colorbar\": {\"outlinewidth\": 0, \"ticks\": \"\"}, \"type\": \"choropleth\"}], \"contour\": [{\"colorbar\": {\"outlinewidth\": 0, \"ticks\": \"\"}, \"colorscale\": [[0.0, \"#0d0887\"], [0.1111111111111111, \"#46039f\"], [0.2222222222222222, \"#7201a8\"], [0.3333333333333333, \"#9c179e\"], [0.4444444444444444, \"#bd3786\"], [0.5555555555555556, \"#d8576b\"], [0.6666666666666666, \"#ed7953\"], [0.7777777777777778, \"#fb9f3a\"], [0.8888888888888888, \"#fdca26\"], [1.0, \"#f0f921\"]], \"type\": \"contour\"}], \"contourcarpet\": [{\"colorbar\": {\"outlinewidth\": 0, \"ticks\": \"\"}, \"type\": \"contourcarpet\"}], \"heatmap\": [{\"colorbar\": {\"outlinewidth\": 0, \"ticks\": \"\"}, \"colorscale\": [[0.0, \"#0d0887\"], [0.1111111111111111, \"#46039f\"], [0.2222222222222222, \"#7201a8\"], [0.3333333333333333, \"#9c179e\"], [0.4444444444444444, \"#bd3786\"], [0.5555555555555556, \"#d8576b\"], [0.6666666666666666, \"#ed7953\"], [0.7777777777777778, \"#fb9f3a\"], [0.8888888888888888, \"#fdca26\"], [1.0, \"#f0f921\"]], \"type\": \"heatmap\"}], \"heatmapgl\": [{\"colorbar\": {\"outlinewidth\": 0, \"ticks\": \"\"}, \"colorscale\": [[0.0, \"#0d0887\"], [0.1111111111111111, \"#46039f\"], [0.2222222222222222, \"#7201a8\"], [0.3333333333333333, \"#9c179e\"], [0.4444444444444444, \"#bd3786\"], [0.5555555555555556, \"#d8576b\"], [0.6666666666666666, \"#ed7953\"], [0.7777777777777778, \"#fb9f3a\"], [0.8888888888888888, \"#fdca26\"], [1.0, \"#f0f921\"]], \"type\": \"heatmapgl\"}], \"histogram\": [{\"marker\": {\"colorbar\": {\"outlinewidth\": 0, \"ticks\": \"\"}}, \"type\": \"histogram\"}], \"histogram2d\": [{\"colorbar\": {\"outlinewidth\": 0, \"ticks\": \"\"}, \"colorscale\": [[0.0, \"#0d0887\"], [0.1111111111111111, \"#46039f\"], [0.2222222222222222, \"#7201a8\"], [0.3333333333333333, \"#9c179e\"], [0.4444444444444444, \"#bd3786\"], [0.5555555555555556, \"#d8576b\"], [0.6666666666666666, \"#ed7953\"], [0.7777777777777778, \"#fb9f3a\"], [0.8888888888888888, \"#fdca26\"], [1.0, \"#f0f921\"]], \"type\": \"histogram2d\"}], \"histogram2dcontour\": [{\"colorbar\": {\"outlinewidth\": 0, \"ticks\": \"\"}, \"colorscale\": [[0.0, \"#0d0887\"], [0.1111111111111111, \"#46039f\"], [0.2222222222222222, \"#7201a8\"], [0.3333333333333333, \"#9c179e\"], [0.4444444444444444, \"#bd3786\"], [0.5555555555555556, \"#d8576b\"], [0.6666666666666666, \"#ed7953\"], [0.7777777777777778, \"#fb9f3a\"], [0.8888888888888888, \"#fdca26\"], [1.0, \"#f0f921\"]], \"type\": \"histogram2dcontour\"}], \"mesh3d\": [{\"colorbar\": {\"outlinewidth\": 0, \"ticks\": \"\"}, \"type\": \"mesh3d\"}], \"parcoords\": [{\"line\": {\"colorbar\": {\"outlinewidth\": 0, \"ticks\": \"\"}}, \"type\": \"parcoords\"}], \"pie\": [{\"automargin\": true, \"type\": \"pie\"}], \"scatter\": [{\"marker\": {\"colorbar\": {\"outlinewidth\": 0, \"ticks\": \"\"}}, \"type\": \"scatter\"}], \"scatter3d\": [{\"line\": {\"colorbar\": {\"outlinewidth\": 0, \"ticks\": \"\"}}, \"marker\": {\"colorbar\": {\"outlinewidth\": 0, \"ticks\": \"\"}}, \"type\": \"scatter3d\"}], \"scattercarpet\": [{\"marker\": {\"colorbar\": {\"outlinewidth\": 0, \"ticks\": \"\"}}, \"type\": \"scattercarpet\"}], \"scattergeo\": [{\"marker\": {\"colorbar\": {\"outlinewidth\": 0, \"ticks\": \"\"}}, \"type\": \"scattergeo\"}], \"scattergl\": [{\"marker\": {\"colorbar\": {\"outlinewidth\": 0, \"ticks\": \"\"}}, \"type\": \"scattergl\"}], \"scattermapbox\": [{\"marker\": {\"colorbar\": {\"outlinewidth\": 0, \"ticks\": \"\"}}, \"type\": \"scattermapbox\"}], \"scatterpolar\": [{\"marker\": {\"colorbar\": {\"outlinewidth\": 0, \"ticks\": \"\"}}, \"type\": \"scatterpolar\"}], \"scatterpolargl\": [{\"marker\": {\"colorbar\": {\"outlinewidth\": 0, \"ticks\": \"\"}}, \"type\": \"scatterpolargl\"}], \"scatterternary\": [{\"marker\": {\"colorbar\": {\"outlinewidth\": 0, \"ticks\": \"\"}}, \"type\": \"scatterternary\"}], \"surface\": [{\"colorbar\": {\"outlinewidth\": 0, \"ticks\": \"\"}, \"colorscale\": [[0.0, \"#0d0887\"], [0.1111111111111111, \"#46039f\"], [0.2222222222222222, \"#7201a8\"], [0.3333333333333333, \"#9c179e\"], [0.4444444444444444, \"#bd3786\"], [0.5555555555555556, \"#d8576b\"], [0.6666666666666666, \"#ed7953\"], [0.7777777777777778, \"#fb9f3a\"], [0.8888888888888888, \"#fdca26\"], [1.0, \"#f0f921\"]], \"type\": \"surface\"}], \"table\": [{\"cells\": {\"fill\": {\"color\": \"#EBF0F8\"}, \"line\": {\"color\": \"white\"}}, \"header\": {\"fill\": {\"color\": \"#C8D4E3\"}, \"line\": {\"color\": \"white\"}}, \"type\": \"table\"}]}, \"layout\": {\"annotationdefaults\": {\"arrowcolor\": \"#2a3f5f\", \"arrowhead\": 0, \"arrowwidth\": 1}, \"coloraxis\": {\"colorbar\": {\"outlinewidth\": 0, \"ticks\": \"\"}}, \"colorscale\": {\"diverging\": [[0, \"#8e0152\"], [0.1, \"#c51b7d\"], [0.2, \"#de77ae\"], [0.3, \"#f1b6da\"], [0.4, \"#fde0ef\"], [0.5, \"#f7f7f7\"], [0.6, \"#e6f5d0\"], [0.7, \"#b8e186\"], [0.8, \"#7fbc41\"], [0.9, \"#4d9221\"], [1, \"#276419\"]], \"sequential\": [[0.0, \"#0d0887\"], [0.1111111111111111, \"#46039f\"], [0.2222222222222222, \"#7201a8\"], [0.3333333333333333, \"#9c179e\"], [0.4444444444444444, \"#bd3786\"], [0.5555555555555556, \"#d8576b\"], [0.6666666666666666, \"#ed7953\"], [0.7777777777777778, \"#fb9f3a\"], [0.8888888888888888, \"#fdca26\"], [1.0, \"#f0f921\"]], \"sequentialminus\": [[0.0, \"#0d0887\"], [0.1111111111111111, \"#46039f\"], [0.2222222222222222, \"#7201a8\"], [0.3333333333333333, \"#9c179e\"], [0.4444444444444444, \"#bd3786\"], [0.5555555555555556, \"#d8576b\"], [0.6666666666666666, \"#ed7953\"], [0.7777777777777778, \"#fb9f3a\"], [0.8888888888888888, \"#fdca26\"], [1.0, \"#f0f921\"]]}, \"colorway\": [\"#636efa\", \"#EF553B\", \"#00cc96\", \"#ab63fa\", \"#FFA15A\", \"#19d3f3\", \"#FF6692\", \"#B6E880\", \"#FF97FF\", \"#FECB52\"], \"font\": {\"color\": \"#2a3f5f\"}, \"geo\": {\"bgcolor\": \"white\", \"lakecolor\": \"white\", \"landcolor\": \"#E5ECF6\", \"showlakes\": true, \"showland\": true, \"subunitcolor\": \"white\"}, \"hoverlabel\": {\"align\": \"left\"}, \"hovermode\": \"closest\", \"mapbox\": {\"style\": \"light\"}, \"paper_bgcolor\": \"white\", \"plot_bgcolor\": \"#E5ECF6\", \"polar\": {\"angularaxis\": {\"gridcolor\": \"white\", \"linecolor\": \"white\", \"ticks\": \"\"}, \"bgcolor\": \"#E5ECF6\", \"radialaxis\": {\"gridcolor\": \"white\", \"linecolor\": \"white\", \"ticks\": \"\"}}, \"scene\": {\"xaxis\": {\"backgroundcolor\": \"#E5ECF6\", \"gridcolor\": \"white\", \"gridwidth\": 2, \"linecolor\": \"white\", \"showbackground\": true, \"ticks\": \"\", \"zerolinecolor\": \"white\"}, \"yaxis\": {\"backgroundcolor\": \"#E5ECF6\", \"gridcolor\": \"white\", \"gridwidth\": 2, \"linecolor\": \"white\", \"showbackground\": true, \"ticks\": \"\", \"zerolinecolor\": \"white\"}, \"zaxis\": {\"backgroundcolor\": \"#E5ECF6\", \"gridcolor\": \"white\", \"gridwidth\": 2, \"linecolor\": \"white\", \"showbackground\": true, \"ticks\": \"\", \"zerolinecolor\": \"white\"}}, \"shapedefaults\": {\"line\": {\"color\": \"#2a3f5f\"}}, \"ternary\": {\"aaxis\": {\"gridcolor\": \"white\", \"linecolor\": \"white\", \"ticks\": \"\"}, \"baxis\": {\"gridcolor\": \"white\", \"linecolor\": \"white\", \"ticks\": \"\"}, \"bgcolor\": \"#E5ECF6\", \"caxis\": {\"gridcolor\": \"white\", \"linecolor\": \"white\", \"ticks\": \"\"}}, \"title\": {\"x\": 0.05}, \"xaxis\": {\"automargin\": true, \"gridcolor\": \"white\", \"linecolor\": \"white\", \"ticks\": \"\", \"title\": {\"standoff\": 15}, \"zerolinecolor\": \"white\", \"zerolinewidth\": 2}, \"yaxis\": {\"automargin\": true, \"gridcolor\": \"white\", \"linecolor\": \"white\", \"ticks\": \"\", \"title\": {\"standoff\": 15}, \"zerolinecolor\": \"white\", \"zerolinewidth\": 2}}}, \"updatemenus\": [{\"buttons\": [{\"args\": [null, {\"frame\": {\"duration\": 500, \"redraw\": false}, \"fromcurrent\": true, \"mode\": \"immediate\", \"transition\": {\"duration\": 500, \"easing\": \"linear\"}}], \"label\": \"&#9654;\", \"method\": \"animate\"}, {\"args\": [[null], {\"frame\": {\"duration\": 0, \"redraw\": false}, \"fromcurrent\": true, \"mode\": \"immediate\", \"transition\": {\"duration\": 0, \"easing\": \"linear\"}}], \"label\": \"&#9724;\", \"method\": \"animate\"}], \"direction\": \"left\", \"pad\": {\"r\": 10, \"t\": 70}, \"showactive\": false, \"type\": \"buttons\", \"x\": 0.1, \"xanchor\": \"right\", \"y\": 0, \"yanchor\": \"top\"}], \"xaxis\": {\"anchor\": \"y\", \"categoryarray\": [-0.0, -0.2, -0.25, -0.27, -0.8, -1.25, -2.53, -2.69, -2.02, -0.82, 0.45, 1.77, 3.1, 4.4, 5.73, 7.06, 8.38, 9.71, 11.1, 12.4, 13.67, 14.95, 16.23, 17.53, 18.82, 20.1, 21.42, 22.73, 24.02, 25.29, 26.51, 27.5, 26.32, 24.94, 23.55, 22.16, 20.8, 19.45, 18.11, 16.76, 13.95, 12.54, 11.15, 9.76, 8.37, 7.0, 5.63, 4.26, 2.95, 1.56, 0.21, -1.12, -2.39, -3.48, -2.14, -0.74, 0.64, 2.04, 3.48, 4.91, 6.31, 7.7, 9.08, 10.48, 11.88, 13.27, 14.67, 16.05, 17.4, 18.75, 20.11, 21.46, 22.79, 24.13, 25.53, 26.82, 27.7, 26.38, 25.0, 23.58, 22.17, 20.72, 19.26, 17.81, 16.36, 14.92, 13.48, 12.07, 10.67, 9.23, 7.78, 6.34, 4.9, 3.45, 1.99, 0.58, -2.2, -2.82, -2.96, -1.69, -1.06, -0.89, 0.11, 0.04, 0.07, -0.11], \"categoryorder\": \"array\", \"domain\": [0.0, 1.0], \"range\": [-3.48, 27.7], \"title\": {\"text\": \"1\"}}, \"yaxis\": {\"anchor\": \"x\", \"domain\": [0.0, 1.0], \"range\": [-0.01, 6.95], \"title\": {\"text\": \"2\"}}},\n",
       "                        {\"responsive\": true}\n",
       "                    ).then(function(){\n",
       "                            Plotly.addFrames('663126e1-7d9e-4529-9984-3c7ce820e026', [{\"data\": [{\"hoverlabel\": {\"namelength\": 0}, \"hovertemplate\": \"1=%{x}<br>2=%{y}\", \"legendgroup\": \"\", \"marker\": {\"color\": \"#636efa\", \"symbol\": \"circle\"}, \"mode\": \"markers\", \"name\": \"\", \"showlegend\": false, \"x\": [-0.0, -0.0], \"xaxis\": \"x\", \"y\": [0.0, 0.0], \"yaxis\": \"y\", \"type\": \"scatter\"}], \"name\": \"-0.0\"}, {\"data\": [{\"hoverlabel\": {\"namelength\": 0}, \"hovertemplate\": \"1=%{x}<br>2=%{y}\", \"legendgroup\": \"\", \"marker\": {\"color\": \"#636efa\", \"symbol\": \"circle\"}, \"mode\": \"markers\", \"name\": \"\", \"showlegend\": false, \"x\": [-0.2, -0.2], \"xaxis\": \"x\", \"y\": [-0.01, -0.01], \"yaxis\": \"y\", \"type\": \"scatter\"}], \"name\": \"-0.2\"}, {\"data\": [{\"hoverlabel\": {\"namelength\": 0}, \"hovertemplate\": \"1=%{x}<br>2=%{y}\", \"legendgroup\": \"\", \"marker\": {\"color\": \"#636efa\", \"symbol\": \"circle\"}, \"mode\": \"markers\", \"name\": \"\", \"showlegend\": false, \"x\": [-0.25, -0.25], \"xaxis\": \"x\", \"y\": [0.32, 0.32], \"yaxis\": \"y\", \"type\": \"scatter\"}], \"name\": \"-0.25\"}, {\"data\": [{\"hoverlabel\": {\"namelength\": 0}, \"hovertemplate\": \"1=%{x}<br>2=%{y}\", \"legendgroup\": \"\", \"marker\": {\"color\": \"#636efa\", \"symbol\": \"circle\"}, \"mode\": \"markers\", \"name\": \"\", \"showlegend\": false, \"x\": [-0.27, -0.27], \"xaxis\": \"x\", \"y\": [1.14, 1.14], \"yaxis\": \"y\", \"type\": \"scatter\"}], \"name\": \"-0.27\"}, {\"data\": [{\"hoverlabel\": {\"namelength\": 0}, \"hovertemplate\": \"1=%{x}<br>2=%{y}\", \"legendgroup\": \"\", \"marker\": {\"color\": \"#636efa\", \"symbol\": \"circle\"}, \"mode\": \"markers\", \"name\": \"\", \"showlegend\": false, \"x\": [-0.8, -0.8], \"xaxis\": \"x\", \"y\": [2.06, 2.06], \"yaxis\": \"y\", \"type\": \"scatter\"}], \"name\": \"-0.8\"}, {\"data\": [{\"hoverlabel\": {\"namelength\": 0}, \"hovertemplate\": \"1=%{x}<br>2=%{y}\", \"legendgroup\": \"\", \"marker\": {\"color\": \"#636efa\", \"symbol\": \"circle\"}, \"mode\": \"markers\", \"name\": \"\", \"showlegend\": false, \"x\": [-1.25, -1.25], \"xaxis\": \"x\", \"y\": [3.3, 3.3], \"yaxis\": \"y\", \"type\": \"scatter\"}], \"name\": \"-1.25\"}, {\"data\": [{\"hoverlabel\": {\"namelength\": 0}, \"hovertemplate\": \"1=%{x}<br>2=%{y}\", \"legendgroup\": \"\", \"marker\": {\"color\": \"#636efa\", \"symbol\": \"circle\"}, \"mode\": \"markers\", \"name\": \"\", \"showlegend\": false, \"x\": [-2.53, -2.53], \"xaxis\": \"x\", \"y\": [3.69, 3.69], \"yaxis\": \"y\", \"type\": \"scatter\"}], \"name\": \"-2.53\"}, {\"data\": [{\"hoverlabel\": {\"namelength\": 0}, \"hovertemplate\": \"1=%{x}<br>2=%{y}\", \"legendgroup\": \"\", \"marker\": {\"color\": \"#636efa\", \"symbol\": \"circle\"}, \"mode\": \"markers\", \"name\": \"\", \"showlegend\": false, \"x\": [-2.69, -2.69], \"xaxis\": \"x\", \"y\": [3.96, 3.96], \"yaxis\": \"y\", \"type\": \"scatter\"}], \"name\": \"-2.69\"}, {\"data\": [{\"hoverlabel\": {\"namelength\": 0}, \"hovertemplate\": \"1=%{x}<br>2=%{y}\", \"legendgroup\": \"\", \"marker\": {\"color\": \"#636efa\", \"symbol\": \"circle\"}, \"mode\": \"markers\", \"name\": \"\", \"showlegend\": false, \"x\": [-2.02, -2.02], \"xaxis\": \"x\", \"y\": [5.03, 5.03], \"yaxis\": \"y\", \"type\": \"scatter\"}], \"name\": \"-2.02\"}, {\"data\": [{\"hoverlabel\": {\"namelength\": 0}, \"hovertemplate\": \"1=%{x}<br>2=%{y}\", \"legendgroup\": \"\", \"marker\": {\"color\": \"#636efa\", \"symbol\": \"circle\"}, \"mode\": \"markers\", \"name\": \"\", \"showlegend\": false, \"x\": [-0.82, -0.82, -0.82], \"xaxis\": \"x\", \"y\": [5.55, 6.25, 5.55], \"yaxis\": \"y\", \"type\": \"scatter\"}], \"name\": \"-0.82\"}, {\"data\": [{\"hoverlabel\": {\"namelength\": 0}, \"hovertemplate\": \"1=%{x}<br>2=%{y}\", \"legendgroup\": \"\", \"marker\": {\"color\": \"#636efa\", \"symbol\": \"circle\"}, \"mode\": \"markers\", \"name\": \"\", \"showlegend\": false, \"x\": [0.45, 0.45], \"xaxis\": \"x\", \"y\": [5.67, 5.67], \"yaxis\": \"y\", \"type\": \"scatter\"}], \"name\": \"0.45\"}, {\"data\": [{\"hoverlabel\": {\"namelength\": 0}, \"hovertemplate\": \"1=%{x}<br>2=%{y}\", \"legendgroup\": \"\", \"marker\": {\"color\": \"#636efa\", \"symbol\": \"circle\"}, \"mode\": \"markers\", \"name\": \"\", \"showlegend\": false, \"x\": [1.77, 1.77], \"xaxis\": \"x\", \"y\": [5.71, 5.71], \"yaxis\": \"y\", \"type\": \"scatter\"}], \"name\": \"1.77\"}, {\"data\": [{\"hoverlabel\": {\"namelength\": 0}, \"hovertemplate\": \"1=%{x}<br>2=%{y}\", \"legendgroup\": \"\", \"marker\": {\"color\": \"#636efa\", \"symbol\": \"circle\"}, \"mode\": \"markers\", \"name\": \"\", \"showlegend\": false, \"x\": [3.1, 3.1], \"xaxis\": \"x\", \"y\": [5.69, 5.69], \"yaxis\": \"y\", \"type\": \"scatter\"}], \"name\": \"3.1\"}, {\"data\": [{\"hoverlabel\": {\"namelength\": 0}, \"hovertemplate\": \"1=%{x}<br>2=%{y}\", \"legendgroup\": \"\", \"marker\": {\"color\": \"#636efa\", \"symbol\": \"circle\"}, \"mode\": \"markers\", \"name\": \"\", \"showlegend\": false, \"x\": [4.4], \"xaxis\": \"x\", \"y\": [5.71], \"yaxis\": \"y\", \"type\": \"scatter\"}], \"name\": \"4.4\"}, {\"data\": [{\"hoverlabel\": {\"namelength\": 0}, \"hovertemplate\": \"1=%{x}<br>2=%{y}\", \"legendgroup\": \"\", \"marker\": {\"color\": \"#636efa\", \"symbol\": \"circle\"}, \"mode\": \"markers\", \"name\": \"\", \"showlegend\": false, \"x\": [5.73], \"xaxis\": \"x\", \"y\": [5.77], \"yaxis\": \"y\", \"type\": \"scatter\"}], \"name\": \"5.73\"}, {\"data\": [{\"hoverlabel\": {\"namelength\": 0}, \"hovertemplate\": \"1=%{x}<br>2=%{y}\", \"legendgroup\": \"\", \"marker\": {\"color\": \"#636efa\", \"symbol\": \"circle\"}, \"mode\": \"markers\", \"name\": \"\", \"showlegend\": false, \"x\": [7.06], \"xaxis\": \"x\", \"y\": [5.81], \"yaxis\": \"y\", \"type\": \"scatter\"}], \"name\": \"7.06\"}, {\"data\": [{\"hoverlabel\": {\"namelength\": 0}, \"hovertemplate\": \"1=%{x}<br>2=%{y}\", \"legendgroup\": \"\", \"marker\": {\"color\": \"#636efa\", \"symbol\": \"circle\"}, \"mode\": \"markers\", \"name\": \"\", \"showlegend\": false, \"x\": [8.38], \"xaxis\": \"x\", \"y\": [5.86], \"yaxis\": \"y\", \"type\": \"scatter\"}], \"name\": \"8.38\"}, {\"data\": [{\"hoverlabel\": {\"namelength\": 0}, \"hovertemplate\": \"1=%{x}<br>2=%{y}\", \"legendgroup\": \"\", \"marker\": {\"color\": \"#636efa\", \"symbol\": \"circle\"}, \"mode\": \"markers\", \"name\": \"\", \"showlegend\": false, \"x\": [9.71], \"xaxis\": \"x\", \"y\": [5.99], \"yaxis\": \"y\", \"type\": \"scatter\"}], \"name\": \"9.71\"}, {\"data\": [{\"hoverlabel\": {\"namelength\": 0}, \"hovertemplate\": \"1=%{x}<br>2=%{y}\", \"legendgroup\": \"\", \"marker\": {\"color\": \"#636efa\", \"symbol\": \"circle\"}, \"mode\": \"markers\", \"name\": \"\", \"showlegend\": false, \"x\": [11.1], \"xaxis\": \"x\", \"y\": [6.09], \"yaxis\": \"y\", \"type\": \"scatter\"}], \"name\": \"11.1\"}, {\"data\": [{\"hoverlabel\": {\"namelength\": 0}, \"hovertemplate\": \"1=%{x}<br>2=%{y}\", \"legendgroup\": \"\", \"marker\": {\"color\": \"#636efa\", \"symbol\": \"circle\"}, \"mode\": \"markers\", \"name\": \"\", \"showlegend\": false, \"x\": [12.4], \"xaxis\": \"x\", \"y\": [6.24], \"yaxis\": \"y\", \"type\": \"scatter\"}], \"name\": \"12.4\"}, {\"data\": [{\"hoverlabel\": {\"namelength\": 0}, \"hovertemplate\": \"1=%{x}<br>2=%{y}\", \"legendgroup\": \"\", \"marker\": {\"color\": \"#636efa\", \"symbol\": \"circle\"}, \"mode\": \"markers\", \"name\": \"\", \"showlegend\": false, \"x\": [13.67], \"xaxis\": \"x\", \"y\": [6.43], \"yaxis\": \"y\", \"type\": \"scatter\"}], \"name\": \"13.67\"}, {\"data\": [{\"hoverlabel\": {\"namelength\": 0}, \"hovertemplate\": \"1=%{x}<br>2=%{y}\", \"legendgroup\": \"\", \"marker\": {\"color\": \"#636efa\", \"symbol\": \"circle\"}, \"mode\": \"markers\", \"name\": \"\", \"showlegend\": false, \"x\": [14.95], \"xaxis\": \"x\", \"y\": [6.53], \"yaxis\": \"y\", \"type\": \"scatter\"}], \"name\": \"14.95\"}, {\"data\": [{\"hoverlabel\": {\"namelength\": 0}, \"hovertemplate\": \"1=%{x}<br>2=%{y}\", \"legendgroup\": \"\", \"marker\": {\"color\": \"#636efa\", \"symbol\": \"circle\"}, \"mode\": \"markers\", \"name\": \"\", \"showlegend\": false, \"x\": [16.23], \"xaxis\": \"x\", \"y\": [6.51], \"yaxis\": \"y\", \"type\": \"scatter\"}], \"name\": \"16.23\"}, {\"data\": [{\"hoverlabel\": {\"namelength\": 0}, \"hovertemplate\": \"1=%{x}<br>2=%{y}\", \"legendgroup\": \"\", \"marker\": {\"color\": \"#636efa\", \"symbol\": \"circle\"}, \"mode\": \"markers\", \"name\": \"\", \"showlegend\": false, \"x\": [17.53], \"xaxis\": \"x\", \"y\": [6.47], \"yaxis\": \"y\", \"type\": \"scatter\"}], \"name\": \"17.53\"}, {\"data\": [{\"hoverlabel\": {\"namelength\": 0}, \"hovertemplate\": \"1=%{x}<br>2=%{y}\", \"legendgroup\": \"\", \"marker\": {\"color\": \"#636efa\", \"symbol\": \"circle\"}, \"mode\": \"markers\", \"name\": \"\", \"showlegend\": false, \"x\": [18.82], \"xaxis\": \"x\", \"y\": [6.53], \"yaxis\": \"y\", \"type\": \"scatter\"}], \"name\": \"18.82\"}, {\"data\": [{\"hoverlabel\": {\"namelength\": 0}, \"hovertemplate\": \"1=%{x}<br>2=%{y}\", \"legendgroup\": \"\", \"marker\": {\"color\": \"#636efa\", \"symbol\": \"circle\"}, \"mode\": \"markers\", \"name\": \"\", \"showlegend\": false, \"x\": [20.1], \"xaxis\": \"x\", \"y\": [6.61], \"yaxis\": \"y\", \"type\": \"scatter\"}], \"name\": \"20.1\"}, {\"data\": [{\"hoverlabel\": {\"namelength\": 0}, \"hovertemplate\": \"1=%{x}<br>2=%{y}\", \"legendgroup\": \"\", \"marker\": {\"color\": \"#636efa\", \"symbol\": \"circle\"}, \"mode\": \"markers\", \"name\": \"\", \"showlegend\": false, \"x\": [21.42], \"xaxis\": \"x\", \"y\": [6.68], \"yaxis\": \"y\", \"type\": \"scatter\"}], \"name\": \"21.42\"}, {\"data\": [{\"hoverlabel\": {\"namelength\": 0}, \"hovertemplate\": \"1=%{x}<br>2=%{y}\", \"legendgroup\": \"\", \"marker\": {\"color\": \"#636efa\", \"symbol\": \"circle\"}, \"mode\": \"markers\", \"name\": \"\", \"showlegend\": false, \"x\": [22.73], \"xaxis\": \"x\", \"y\": [6.82], \"yaxis\": \"y\", \"type\": \"scatter\"}], \"name\": \"22.73\"}, {\"data\": [{\"hoverlabel\": {\"namelength\": 0}, \"hovertemplate\": \"1=%{x}<br>2=%{y}\", \"legendgroup\": \"\", \"marker\": {\"color\": \"#636efa\", \"symbol\": \"circle\"}, \"mode\": \"markers\", \"name\": \"\", \"showlegend\": false, \"x\": [24.02], \"xaxis\": \"x\", \"y\": [6.87], \"yaxis\": \"y\", \"type\": \"scatter\"}], \"name\": \"24.02\"}, {\"data\": [{\"hoverlabel\": {\"namelength\": 0}, \"hovertemplate\": \"1=%{x}<br>2=%{y}\", \"legendgroup\": \"\", \"marker\": {\"color\": \"#636efa\", \"symbol\": \"circle\"}, \"mode\": \"markers\", \"name\": \"\", \"showlegend\": false, \"x\": [25.29], \"xaxis\": \"x\", \"y\": [6.93], \"yaxis\": \"y\", \"type\": \"scatter\"}], \"name\": \"25.29\"}, {\"data\": [{\"hoverlabel\": {\"namelength\": 0}, \"hovertemplate\": \"1=%{x}<br>2=%{y}\", \"legendgroup\": \"\", \"marker\": {\"color\": \"#636efa\", \"symbol\": \"circle\"}, \"mode\": \"markers\", \"name\": \"\", \"showlegend\": false, \"x\": [26.51], \"xaxis\": \"x\", \"y\": [6.88], \"yaxis\": \"y\", \"type\": \"scatter\"}], \"name\": \"26.51\"}, {\"data\": [{\"hoverlabel\": {\"namelength\": 0}, \"hovertemplate\": \"1=%{x}<br>2=%{y}\", \"legendgroup\": \"\", \"marker\": {\"color\": \"#636efa\", \"symbol\": \"circle\"}, \"mode\": \"markers\", \"name\": \"\", \"showlegend\": false, \"x\": [27.5], \"xaxis\": \"x\", \"y\": [6.95], \"yaxis\": \"y\", \"type\": \"scatter\"}], \"name\": \"27.5\"}, {\"data\": [{\"hoverlabel\": {\"namelength\": 0}, \"hovertemplate\": \"1=%{x}<br>2=%{y}\", \"legendgroup\": \"\", \"marker\": {\"color\": \"#636efa\", \"symbol\": \"circle\"}, \"mode\": \"markers\", \"name\": \"\", \"showlegend\": false, \"x\": [26.32], \"xaxis\": \"x\", \"y\": [6.94], \"yaxis\": \"y\", \"type\": \"scatter\"}], \"name\": \"26.32\"}, {\"data\": [{\"hoverlabel\": {\"namelength\": 0}, \"hovertemplate\": \"1=%{x}<br>2=%{y}\", \"legendgroup\": \"\", \"marker\": {\"color\": \"#636efa\", \"symbol\": \"circle\"}, \"mode\": \"markers\", \"name\": \"\", \"showlegend\": false, \"x\": [24.94], \"xaxis\": \"x\", \"y\": [6.85], \"yaxis\": \"y\", \"type\": \"scatter\"}], \"name\": \"24.94\"}, {\"data\": [{\"hoverlabel\": {\"namelength\": 0}, \"hovertemplate\": \"1=%{x}<br>2=%{y}\", \"legendgroup\": \"\", \"marker\": {\"color\": \"#636efa\", \"symbol\": \"circle\"}, \"mode\": \"markers\", \"name\": \"\", \"showlegend\": false, \"x\": [23.55], \"xaxis\": \"x\", \"y\": [6.88], \"yaxis\": \"y\", \"type\": \"scatter\"}], \"name\": \"23.55\"}, {\"data\": [{\"hoverlabel\": {\"namelength\": 0}, \"hovertemplate\": \"1=%{x}<br>2=%{y}\", \"legendgroup\": \"\", \"marker\": {\"color\": \"#636efa\", \"symbol\": \"circle\"}, \"mode\": \"markers\", \"name\": \"\", \"showlegend\": false, \"x\": [22.16], \"xaxis\": \"x\", \"y\": [6.8], \"yaxis\": \"y\", \"type\": \"scatter\"}], \"name\": \"22.16\"}, {\"data\": [{\"hoverlabel\": {\"namelength\": 0}, \"hovertemplate\": \"1=%{x}<br>2=%{y}\", \"legendgroup\": \"\", \"marker\": {\"color\": \"#636efa\", \"symbol\": \"circle\"}, \"mode\": \"markers\", \"name\": \"\", \"showlegend\": false, \"x\": [20.8], \"xaxis\": \"x\", \"y\": [6.71], \"yaxis\": \"y\", \"type\": \"scatter\"}], \"name\": \"20.8\"}, {\"data\": [{\"hoverlabel\": {\"namelength\": 0}, \"hovertemplate\": \"1=%{x}<br>2=%{y}\", \"legendgroup\": \"\", \"marker\": {\"color\": \"#636efa\", \"symbol\": \"circle\"}, \"mode\": \"markers\", \"name\": \"\", \"showlegend\": false, \"x\": [19.45], \"xaxis\": \"x\", \"y\": [6.6], \"yaxis\": \"y\", \"type\": \"scatter\"}], \"name\": \"19.45\"}, {\"data\": [{\"hoverlabel\": {\"namelength\": 0}, \"hovertemplate\": \"1=%{x}<br>2=%{y}\", \"legendgroup\": \"\", \"marker\": {\"color\": \"#636efa\", \"symbol\": \"circle\"}, \"mode\": \"markers\", \"name\": \"\", \"showlegend\": false, \"x\": [18.11], \"xaxis\": \"x\", \"y\": [6.55], \"yaxis\": \"y\", \"type\": \"scatter\"}], \"name\": \"18.11\"}, {\"data\": [{\"hoverlabel\": {\"namelength\": 0}, \"hovertemplate\": \"1=%{x}<br>2=%{y}\", \"legendgroup\": \"\", \"marker\": {\"color\": \"#636efa\", \"symbol\": \"circle\"}, \"mode\": \"markers\", \"name\": \"\", \"showlegend\": false, \"x\": [16.76], \"xaxis\": \"x\", \"y\": [6.5], \"yaxis\": \"y\", \"type\": \"scatter\"}], \"name\": \"16.76\"}, {\"data\": [{\"hoverlabel\": {\"namelength\": 0}, \"hovertemplate\": \"1=%{x}<br>2=%{y}\", \"legendgroup\": \"\", \"marker\": {\"color\": \"#636efa\", \"symbol\": \"circle\"}, \"mode\": \"markers\", \"name\": \"\", \"showlegend\": false, \"x\": [13.95], \"xaxis\": \"x\", \"y\": [6.45], \"yaxis\": \"y\", \"type\": \"scatter\"}], \"name\": \"13.95\"}, {\"data\": [{\"hoverlabel\": {\"namelength\": 0}, \"hovertemplate\": \"1=%{x}<br>2=%{y}\", \"legendgroup\": \"\", \"marker\": {\"color\": \"#636efa\", \"symbol\": \"circle\"}, \"mode\": \"markers\", \"name\": \"\", \"showlegend\": false, \"x\": [12.54], \"xaxis\": \"x\", \"y\": [6.37], \"yaxis\": \"y\", \"type\": \"scatter\"}], \"name\": \"12.54\"}, {\"data\": [{\"hoverlabel\": {\"namelength\": 0}, \"hovertemplate\": \"1=%{x}<br>2=%{y}\", \"legendgroup\": \"\", \"marker\": {\"color\": \"#636efa\", \"symbol\": \"circle\"}, \"mode\": \"markers\", \"name\": \"\", \"showlegend\": false, \"x\": [11.15], \"xaxis\": \"x\", \"y\": [6.27], \"yaxis\": \"y\", \"type\": \"scatter\"}], \"name\": \"11.15\"}, {\"data\": [{\"hoverlabel\": {\"namelength\": 0}, \"hovertemplate\": \"1=%{x}<br>2=%{y}\", \"legendgroup\": \"\", \"marker\": {\"color\": \"#636efa\", \"symbol\": \"circle\"}, \"mode\": \"markers\", \"name\": \"\", \"showlegend\": false, \"x\": [9.76], \"xaxis\": \"x\", \"y\": [6.24], \"yaxis\": \"y\", \"type\": \"scatter\"}], \"name\": \"9.76\"}, {\"data\": [{\"hoverlabel\": {\"namelength\": 0}, \"hovertemplate\": \"1=%{x}<br>2=%{y}\", \"legendgroup\": \"\", \"marker\": {\"color\": \"#636efa\", \"symbol\": \"circle\"}, \"mode\": \"markers\", \"name\": \"\", \"showlegend\": false, \"x\": [8.37], \"xaxis\": \"x\", \"y\": [6.27], \"yaxis\": \"y\", \"type\": \"scatter\"}], \"name\": \"8.37\"}, {\"data\": [{\"hoverlabel\": {\"namelength\": 0}, \"hovertemplate\": \"1=%{x}<br>2=%{y}\", \"legendgroup\": \"\", \"marker\": {\"color\": \"#636efa\", \"symbol\": \"circle\"}, \"mode\": \"markers\", \"name\": \"\", \"showlegend\": false, \"x\": [7.0], \"xaxis\": \"x\", \"y\": [6.25], \"yaxis\": \"y\", \"type\": \"scatter\"}], \"name\": \"7.0\"}, {\"data\": [{\"hoverlabel\": {\"namelength\": 0}, \"hovertemplate\": \"1=%{x}<br>2=%{y}\", \"legendgroup\": \"\", \"marker\": {\"color\": \"#636efa\", \"symbol\": \"circle\"}, \"mode\": \"markers\", \"name\": \"\", \"showlegend\": false, \"x\": [5.63], \"xaxis\": \"x\", \"y\": [6.26], \"yaxis\": \"y\", \"type\": \"scatter\"}], \"name\": \"5.63\"}, {\"data\": [{\"hoverlabel\": {\"namelength\": 0}, \"hovertemplate\": \"1=%{x}<br>2=%{y}\", \"legendgroup\": \"\", \"marker\": {\"color\": \"#636efa\", \"symbol\": \"circle\"}, \"mode\": \"markers\", \"name\": \"\", \"showlegend\": false, \"x\": [4.26], \"xaxis\": \"x\", \"y\": [6.25], \"yaxis\": \"y\", \"type\": \"scatter\"}], \"name\": \"4.26\"}, {\"data\": [{\"hoverlabel\": {\"namelength\": 0}, \"hovertemplate\": \"1=%{x}<br>2=%{y}\", \"legendgroup\": \"\", \"marker\": {\"color\": \"#636efa\", \"symbol\": \"circle\"}, \"mode\": \"markers\", \"name\": \"\", \"showlegend\": false, \"x\": [2.95], \"xaxis\": \"x\", \"y\": [6.05], \"yaxis\": \"y\", \"type\": \"scatter\"}], \"name\": \"2.95\"}, {\"data\": [{\"hoverlabel\": {\"namelength\": 0}, \"hovertemplate\": \"1=%{x}<br>2=%{y}\", \"legendgroup\": \"\", \"marker\": {\"color\": \"#636efa\", \"symbol\": \"circle\"}, \"mode\": \"markers\", \"name\": \"\", \"showlegend\": false, \"x\": [1.56], \"xaxis\": \"x\", \"y\": [6.0], \"yaxis\": \"y\", \"type\": \"scatter\"}], \"name\": \"1.56\"}, {\"data\": [{\"hoverlabel\": {\"namelength\": 0}, \"hovertemplate\": \"1=%{x}<br>2=%{y}\", \"legendgroup\": \"\", \"marker\": {\"color\": \"#636efa\", \"symbol\": \"circle\"}, \"mode\": \"markers\", \"name\": \"\", \"showlegend\": false, \"x\": [0.21], \"xaxis\": \"x\", \"y\": [6.01], \"yaxis\": \"y\", \"type\": \"scatter\"}], \"name\": \"0.21\"}, {\"data\": [{\"hoverlabel\": {\"namelength\": 0}, \"hovertemplate\": \"1=%{x}<br>2=%{y}\", \"legendgroup\": \"\", \"marker\": {\"color\": \"#636efa\", \"symbol\": \"circle\"}, \"mode\": \"markers\", \"name\": \"\", \"showlegend\": false, \"x\": [-1.12], \"xaxis\": \"x\", \"y\": [5.93], \"yaxis\": \"y\", \"type\": \"scatter\"}], \"name\": \"-1.12\"}, {\"data\": [{\"hoverlabel\": {\"namelength\": 0}, \"hovertemplate\": \"1=%{x}<br>2=%{y}\", \"legendgroup\": \"\", \"marker\": {\"color\": \"#636efa\", \"symbol\": \"circle\"}, \"mode\": \"markers\", \"name\": \"\", \"showlegend\": false, \"x\": [-2.39], \"xaxis\": \"x\", \"y\": [5.95], \"yaxis\": \"y\", \"type\": \"scatter\"}], \"name\": \"-2.39\"}, {\"data\": [{\"hoverlabel\": {\"namelength\": 0}, \"hovertemplate\": \"1=%{x}<br>2=%{y}\", \"legendgroup\": \"\", \"marker\": {\"color\": \"#636efa\", \"symbol\": \"circle\"}, \"mode\": \"markers\", \"name\": \"\", \"showlegend\": false, \"x\": [-3.48], \"xaxis\": \"x\", \"y\": [5.72], \"yaxis\": \"y\", \"type\": \"scatter\"}], \"name\": \"-3.48\"}, {\"data\": [{\"hoverlabel\": {\"namelength\": 0}, \"hovertemplate\": \"1=%{x}<br>2=%{y}\", \"legendgroup\": \"\", \"marker\": {\"color\": \"#636efa\", \"symbol\": \"circle\"}, \"mode\": \"markers\", \"name\": \"\", \"showlegend\": false, \"x\": [-2.14], \"xaxis\": \"x\", \"y\": [5.75], \"yaxis\": \"y\", \"type\": \"scatter\"}], \"name\": \"-2.14\"}, {\"data\": [{\"hoverlabel\": {\"namelength\": 0}, \"hovertemplate\": \"1=%{x}<br>2=%{y}\", \"legendgroup\": \"\", \"marker\": {\"color\": \"#636efa\", \"symbol\": \"circle\"}, \"mode\": \"markers\", \"name\": \"\", \"showlegend\": false, \"x\": [-0.74], \"xaxis\": \"x\", \"y\": [5.87], \"yaxis\": \"y\", \"type\": \"scatter\"}], \"name\": \"-0.74\"}, {\"data\": [{\"hoverlabel\": {\"namelength\": 0}, \"hovertemplate\": \"1=%{x}<br>2=%{y}\", \"legendgroup\": \"\", \"marker\": {\"color\": \"#636efa\", \"symbol\": \"circle\"}, \"mode\": \"markers\", \"name\": \"\", \"showlegend\": false, \"x\": [0.64], \"xaxis\": \"x\", \"y\": [5.85], \"yaxis\": \"y\", \"type\": \"scatter\"}], \"name\": \"0.64\"}, {\"data\": [{\"hoverlabel\": {\"namelength\": 0}, \"hovertemplate\": \"1=%{x}<br>2=%{y}\", \"legendgroup\": \"\", \"marker\": {\"color\": \"#636efa\", \"symbol\": \"circle\"}, \"mode\": \"markers\", \"name\": \"\", \"showlegend\": false, \"x\": [2.04], \"xaxis\": \"x\", \"y\": [5.85], \"yaxis\": \"y\", \"type\": \"scatter\"}], \"name\": \"2.04\"}, {\"data\": [{\"hoverlabel\": {\"namelength\": 0}, \"hovertemplate\": \"1=%{x}<br>2=%{y}\", \"legendgroup\": \"\", \"marker\": {\"color\": \"#636efa\", \"symbol\": \"circle\"}, \"mode\": \"markers\", \"name\": \"\", \"showlegend\": false, \"x\": [3.48], \"xaxis\": \"x\", \"y\": [5.87], \"yaxis\": \"y\", \"type\": \"scatter\"}], \"name\": \"3.48\"}, {\"data\": [{\"hoverlabel\": {\"namelength\": 0}, \"hovertemplate\": \"1=%{x}<br>2=%{y}\", \"legendgroup\": \"\", \"marker\": {\"color\": \"#636efa\", \"symbol\": \"circle\"}, \"mode\": \"markers\", \"name\": \"\", \"showlegend\": false, \"x\": [4.91], \"xaxis\": \"x\", \"y\": [5.95], \"yaxis\": \"y\", \"type\": \"scatter\"}], \"name\": \"4.91\"}, {\"data\": [{\"hoverlabel\": {\"namelength\": 0}, \"hovertemplate\": \"1=%{x}<br>2=%{y}\", \"legendgroup\": \"\", \"marker\": {\"color\": \"#636efa\", \"symbol\": \"circle\"}, \"mode\": \"markers\", \"name\": \"\", \"showlegend\": false, \"x\": [6.31], \"xaxis\": \"x\", \"y\": [6.04], \"yaxis\": \"y\", \"type\": \"scatter\"}], \"name\": \"6.31\"}, {\"data\": [{\"hoverlabel\": {\"namelength\": 0}, \"hovertemplate\": \"1=%{x}<br>2=%{y}\", \"legendgroup\": \"\", \"marker\": {\"color\": \"#636efa\", \"symbol\": \"circle\"}, \"mode\": \"markers\", \"name\": \"\", \"showlegend\": false, \"x\": [7.7], \"xaxis\": \"x\", \"y\": [6.08], \"yaxis\": \"y\", \"type\": \"scatter\"}], \"name\": \"7.7\"}, {\"data\": [{\"hoverlabel\": {\"namelength\": 0}, \"hovertemplate\": \"1=%{x}<br>2=%{y}\", \"legendgroup\": \"\", \"marker\": {\"color\": \"#636efa\", \"symbol\": \"circle\"}, \"mode\": \"markers\", \"name\": \"\", \"showlegend\": false, \"x\": [9.08], \"xaxis\": \"x\", \"y\": [6.1], \"yaxis\": \"y\", \"type\": \"scatter\"}], \"name\": \"9.08\"}, {\"data\": [{\"hoverlabel\": {\"namelength\": 0}, \"hovertemplate\": \"1=%{x}<br>2=%{y}\", \"legendgroup\": \"\", \"marker\": {\"color\": \"#636efa\", \"symbol\": \"circle\"}, \"mode\": \"markers\", \"name\": \"\", \"showlegend\": false, \"x\": [10.48], \"xaxis\": \"x\", \"y\": [6.15], \"yaxis\": \"y\", \"type\": \"scatter\"}], \"name\": \"10.48\"}, {\"data\": [{\"hoverlabel\": {\"namelength\": 0}, \"hovertemplate\": \"1=%{x}<br>2=%{y}\", \"legendgroup\": \"\", \"marker\": {\"color\": \"#636efa\", \"symbol\": \"circle\"}, \"mode\": \"markers\", \"name\": \"\", \"showlegend\": false, \"x\": [11.88], \"xaxis\": \"x\", \"y\": [6.2], \"yaxis\": \"y\", \"type\": \"scatter\"}], \"name\": \"11.88\"}, {\"data\": [{\"hoverlabel\": {\"namelength\": 0}, \"hovertemplate\": \"1=%{x}<br>2=%{y}\", \"legendgroup\": \"\", \"marker\": {\"color\": \"#636efa\", \"symbol\": \"circle\"}, \"mode\": \"markers\", \"name\": \"\", \"showlegend\": false, \"x\": [13.27], \"xaxis\": \"x\", \"y\": [6.23], \"yaxis\": \"y\", \"type\": \"scatter\"}], \"name\": \"13.27\"}, {\"data\": [{\"hoverlabel\": {\"namelength\": 0}, \"hovertemplate\": \"1=%{x}<br>2=%{y}\", \"legendgroup\": \"\", \"marker\": {\"color\": \"#636efa\", \"symbol\": \"circle\"}, \"mode\": \"markers\", \"name\": \"\", \"showlegend\": false, \"x\": [14.67], \"xaxis\": \"x\", \"y\": [6.3], \"yaxis\": \"y\", \"type\": \"scatter\"}], \"name\": \"14.67\"}, {\"data\": [{\"hoverlabel\": {\"namelength\": 0}, \"hovertemplate\": \"1=%{x}<br>2=%{y}\", \"legendgroup\": \"\", \"marker\": {\"color\": \"#636efa\", \"symbol\": \"circle\"}, \"mode\": \"markers\", \"name\": \"\", \"showlegend\": false, \"x\": [16.05], \"xaxis\": \"x\", \"y\": [6.33], \"yaxis\": \"y\", \"type\": \"scatter\"}], \"name\": \"16.05\"}, {\"data\": [{\"hoverlabel\": {\"namelength\": 0}, \"hovertemplate\": \"1=%{x}<br>2=%{y}\", \"legendgroup\": \"\", \"marker\": {\"color\": \"#636efa\", \"symbol\": \"circle\"}, \"mode\": \"markers\", \"name\": \"\", \"showlegend\": false, \"x\": [17.4], \"xaxis\": \"x\", \"y\": [6.4], \"yaxis\": \"y\", \"type\": \"scatter\"}], \"name\": \"17.4\"}, {\"data\": [{\"hoverlabel\": {\"namelength\": 0}, \"hovertemplate\": \"1=%{x}<br>2=%{y}\", \"legendgroup\": \"\", \"marker\": {\"color\": \"#636efa\", \"symbol\": \"circle\"}, \"mode\": \"markers\", \"name\": \"\", \"showlegend\": false, \"x\": [18.75], \"xaxis\": \"x\", \"y\": [6.37], \"yaxis\": \"y\", \"type\": \"scatter\"}], \"name\": \"18.75\"}, {\"data\": [{\"hoverlabel\": {\"namelength\": 0}, \"hovertemplate\": \"1=%{x}<br>2=%{y}\", \"legendgroup\": \"\", \"marker\": {\"color\": \"#636efa\", \"symbol\": \"circle\"}, \"mode\": \"markers\", \"name\": \"\", \"showlegend\": false, \"x\": [20.11], \"xaxis\": \"x\", \"y\": [6.4], \"yaxis\": \"y\", \"type\": \"scatter\"}], \"name\": \"20.11\"}, {\"data\": [{\"hoverlabel\": {\"namelength\": 0}, \"hovertemplate\": \"1=%{x}<br>2=%{y}\", \"legendgroup\": \"\", \"marker\": {\"color\": \"#636efa\", \"symbol\": \"circle\"}, \"mode\": \"markers\", \"name\": \"\", \"showlegend\": false, \"x\": [21.46], \"xaxis\": \"x\", \"y\": [6.28], \"yaxis\": \"y\", \"type\": \"scatter\"}], \"name\": \"21.46\"}, {\"data\": [{\"hoverlabel\": {\"namelength\": 0}, \"hovertemplate\": \"1=%{x}<br>2=%{y}\", \"legendgroup\": \"\", \"marker\": {\"color\": \"#636efa\", \"symbol\": \"circle\"}, \"mode\": \"markers\", \"name\": \"\", \"showlegend\": false, \"x\": [22.79], \"xaxis\": \"x\", \"y\": [6.24], \"yaxis\": \"y\", \"type\": \"scatter\"}], \"name\": \"22.79\"}, {\"data\": [{\"hoverlabel\": {\"namelength\": 0}, \"hovertemplate\": \"1=%{x}<br>2=%{y}\", \"legendgroup\": \"\", \"marker\": {\"color\": \"#636efa\", \"symbol\": \"circle\"}, \"mode\": \"markers\", \"name\": \"\", \"showlegend\": false, \"x\": [24.13], \"xaxis\": \"x\", \"y\": [6.18], \"yaxis\": \"y\", \"type\": \"scatter\"}], \"name\": \"24.13\"}, {\"data\": [{\"hoverlabel\": {\"namelength\": 0}, \"hovertemplate\": \"1=%{x}<br>2=%{y}\", \"legendgroup\": \"\", \"marker\": {\"color\": \"#636efa\", \"symbol\": \"circle\"}, \"mode\": \"markers\", \"name\": \"\", \"showlegend\": false, \"x\": [25.53], \"xaxis\": \"x\", \"y\": [6.32], \"yaxis\": \"y\", \"type\": \"scatter\"}], \"name\": \"25.53\"}, {\"data\": [{\"hoverlabel\": {\"namelength\": 0}, \"hovertemplate\": \"1=%{x}<br>2=%{y}\", \"legendgroup\": \"\", \"marker\": {\"color\": \"#636efa\", \"symbol\": \"circle\"}, \"mode\": \"markers\", \"name\": \"\", \"showlegend\": false, \"x\": [26.82], \"xaxis\": \"x\", \"y\": [6.42], \"yaxis\": \"y\", \"type\": \"scatter\"}], \"name\": \"26.82\"}, {\"data\": [{\"hoverlabel\": {\"namelength\": 0}, \"hovertemplate\": \"1=%{x}<br>2=%{y}\", \"legendgroup\": \"\", \"marker\": {\"color\": \"#636efa\", \"symbol\": \"circle\"}, \"mode\": \"markers\", \"name\": \"\", \"showlegend\": false, \"x\": [27.7], \"xaxis\": \"x\", \"y\": [6.53], \"yaxis\": \"y\", \"type\": \"scatter\"}], \"name\": \"27.7\"}, {\"data\": [{\"hoverlabel\": {\"namelength\": 0}, \"hovertemplate\": \"1=%{x}<br>2=%{y}\", \"legendgroup\": \"\", \"marker\": {\"color\": \"#636efa\", \"symbol\": \"circle\"}, \"mode\": \"markers\", \"name\": \"\", \"showlegend\": false, \"x\": [26.38], \"xaxis\": \"x\", \"y\": [6.52], \"yaxis\": \"y\", \"type\": \"scatter\"}], \"name\": \"26.38\"}, {\"data\": [{\"hoverlabel\": {\"namelength\": 0}, \"hovertemplate\": \"1=%{x}<br>2=%{y}\", \"legendgroup\": \"\", \"marker\": {\"color\": \"#636efa\", \"symbol\": \"circle\"}, \"mode\": \"markers\", \"name\": \"\", \"showlegend\": false, \"x\": [25.0], \"xaxis\": \"x\", \"y\": [6.46], \"yaxis\": \"y\", \"type\": \"scatter\"}], \"name\": \"25.0\"}, {\"data\": [{\"hoverlabel\": {\"namelength\": 0}, \"hovertemplate\": \"1=%{x}<br>2=%{y}\", \"legendgroup\": \"\", \"marker\": {\"color\": \"#636efa\", \"symbol\": \"circle\"}, \"mode\": \"markers\", \"name\": \"\", \"showlegend\": false, \"x\": [23.58], \"xaxis\": \"x\", \"y\": [6.47], \"yaxis\": \"y\", \"type\": \"scatter\"}], \"name\": \"23.58\"}, {\"data\": [{\"hoverlabel\": {\"namelength\": 0}, \"hovertemplate\": \"1=%{x}<br>2=%{y}\", \"legendgroup\": \"\", \"marker\": {\"color\": \"#636efa\", \"symbol\": \"circle\"}, \"mode\": \"markers\", \"name\": \"\", \"showlegend\": false, \"x\": [22.17], \"xaxis\": \"x\", \"y\": [6.51], \"yaxis\": \"y\", \"type\": \"scatter\"}], \"name\": \"22.17\"}, {\"data\": [{\"hoverlabel\": {\"namelength\": 0}, \"hovertemplate\": \"1=%{x}<br>2=%{y}\", \"legendgroup\": \"\", \"marker\": {\"color\": \"#636efa\", \"symbol\": \"circle\"}, \"mode\": \"markers\", \"name\": \"\", \"showlegend\": false, \"x\": [20.72], \"xaxis\": \"x\", \"y\": [6.42], \"yaxis\": \"y\", \"type\": \"scatter\"}], \"name\": \"20.72\"}, {\"data\": [{\"hoverlabel\": {\"namelength\": 0}, \"hovertemplate\": \"1=%{x}<br>2=%{y}\", \"legendgroup\": \"\", \"marker\": {\"color\": \"#636efa\", \"symbol\": \"circle\"}, \"mode\": \"markers\", \"name\": \"\", \"showlegend\": false, \"x\": [19.26], \"xaxis\": \"x\", \"y\": [6.37], \"yaxis\": \"y\", \"type\": \"scatter\"}], \"name\": \"19.26\"}, {\"data\": [{\"hoverlabel\": {\"namelength\": 0}, \"hovertemplate\": \"1=%{x}<br>2=%{y}\", \"legendgroup\": \"\", \"marker\": {\"color\": \"#636efa\", \"symbol\": \"circle\"}, \"mode\": \"markers\", \"name\": \"\", \"showlegend\": false, \"x\": [17.81], \"xaxis\": \"x\", \"y\": [6.33], \"yaxis\": \"y\", \"type\": \"scatter\"}], \"name\": \"17.81\"}, {\"data\": [{\"hoverlabel\": {\"namelength\": 0}, \"hovertemplate\": \"1=%{x}<br>2=%{y}\", \"legendgroup\": \"\", \"marker\": {\"color\": \"#636efa\", \"symbol\": \"circle\"}, \"mode\": \"markers\", \"name\": \"\", \"showlegend\": false, \"x\": [16.36], \"xaxis\": \"x\", \"y\": [6.33], \"yaxis\": \"y\", \"type\": \"scatter\"}], \"name\": \"16.36\"}, {\"data\": [{\"hoverlabel\": {\"namelength\": 0}, \"hovertemplate\": \"1=%{x}<br>2=%{y}\", \"legendgroup\": \"\", \"marker\": {\"color\": \"#636efa\", \"symbol\": \"circle\"}, \"mode\": \"markers\", \"name\": \"\", \"showlegend\": false, \"x\": [14.92], \"xaxis\": \"x\", \"y\": [6.35], \"yaxis\": \"y\", \"type\": \"scatter\"}], \"name\": \"14.92\"}, {\"data\": [{\"hoverlabel\": {\"namelength\": 0}, \"hovertemplate\": \"1=%{x}<br>2=%{y}\", \"legendgroup\": \"\", \"marker\": {\"color\": \"#636efa\", \"symbol\": \"circle\"}, \"mode\": \"markers\", \"name\": \"\", \"showlegend\": false, \"x\": [13.48], \"xaxis\": \"x\", \"y\": [6.41], \"yaxis\": \"y\", \"type\": \"scatter\"}], \"name\": \"13.48\"}, {\"data\": [{\"hoverlabel\": {\"namelength\": 0}, \"hovertemplate\": \"1=%{x}<br>2=%{y}\", \"legendgroup\": \"\", \"marker\": {\"color\": \"#636efa\", \"symbol\": \"circle\"}, \"mode\": \"markers\", \"name\": \"\", \"showlegend\": false, \"x\": [12.07], \"xaxis\": \"x\", \"y\": [6.51], \"yaxis\": \"y\", \"type\": \"scatter\"}], \"name\": \"12.07\"}, {\"data\": [{\"hoverlabel\": {\"namelength\": 0}, \"hovertemplate\": \"1=%{x}<br>2=%{y}\", \"legendgroup\": \"\", \"marker\": {\"color\": \"#636efa\", \"symbol\": \"circle\"}, \"mode\": \"markers\", \"name\": \"\", \"showlegend\": false, \"x\": [10.67], \"xaxis\": \"x\", \"y\": [6.59], \"yaxis\": \"y\", \"type\": \"scatter\"}], \"name\": \"10.67\"}, {\"data\": [{\"hoverlabel\": {\"namelength\": 0}, \"hovertemplate\": \"1=%{x}<br>2=%{y}\", \"legendgroup\": \"\", \"marker\": {\"color\": \"#636efa\", \"symbol\": \"circle\"}, \"mode\": \"markers\", \"name\": \"\", \"showlegend\": false, \"x\": [9.23], \"xaxis\": \"x\", \"y\": [6.5], \"yaxis\": \"y\", \"type\": \"scatter\"}], \"name\": \"9.23\"}, {\"data\": [{\"hoverlabel\": {\"namelength\": 0}, \"hovertemplate\": \"1=%{x}<br>2=%{y}\", \"legendgroup\": \"\", \"marker\": {\"color\": \"#636efa\", \"symbol\": \"circle\"}, \"mode\": \"markers\", \"name\": \"\", \"showlegend\": false, \"x\": [7.78], \"xaxis\": \"x\", \"y\": [6.42], \"yaxis\": \"y\", \"type\": \"scatter\"}], \"name\": \"7.78\"}, {\"data\": [{\"hoverlabel\": {\"namelength\": 0}, \"hovertemplate\": \"1=%{x}<br>2=%{y}\", \"legendgroup\": \"\", \"marker\": {\"color\": \"#636efa\", \"symbol\": \"circle\"}, \"mode\": \"markers\", \"name\": \"\", \"showlegend\": false, \"x\": [6.34], \"xaxis\": \"x\", \"y\": [6.38], \"yaxis\": \"y\", \"type\": \"scatter\"}], \"name\": \"6.34\"}, {\"data\": [{\"hoverlabel\": {\"namelength\": 0}, \"hovertemplate\": \"1=%{x}<br>2=%{y}\", \"legendgroup\": \"\", \"marker\": {\"color\": \"#636efa\", \"symbol\": \"circle\"}, \"mode\": \"markers\", \"name\": \"\", \"showlegend\": false, \"x\": [4.9], \"xaxis\": \"x\", \"y\": [6.24], \"yaxis\": \"y\", \"type\": \"scatter\"}], \"name\": \"4.9\"}, {\"data\": [{\"hoverlabel\": {\"namelength\": 0}, \"hovertemplate\": \"1=%{x}<br>2=%{y}\", \"legendgroup\": \"\", \"marker\": {\"color\": \"#636efa\", \"symbol\": \"circle\"}, \"mode\": \"markers\", \"name\": \"\", \"showlegend\": false, \"x\": [3.45], \"xaxis\": \"x\", \"y\": [6.24], \"yaxis\": \"y\", \"type\": \"scatter\"}], \"name\": \"3.45\"}, {\"data\": [{\"hoverlabel\": {\"namelength\": 0}, \"hovertemplate\": \"1=%{x}<br>2=%{y}\", \"legendgroup\": \"\", \"marker\": {\"color\": \"#636efa\", \"symbol\": \"circle\"}, \"mode\": \"markers\", \"name\": \"\", \"showlegend\": false, \"x\": [1.99], \"xaxis\": \"x\", \"y\": [6.21], \"yaxis\": \"y\", \"type\": \"scatter\"}], \"name\": \"1.99\"}, {\"data\": [{\"hoverlabel\": {\"namelength\": 0}, \"hovertemplate\": \"1=%{x}<br>2=%{y}\", \"legendgroup\": \"\", \"marker\": {\"color\": \"#636efa\", \"symbol\": \"circle\"}, \"mode\": \"markers\", \"name\": \"\", \"showlegend\": false, \"x\": [0.58], \"xaxis\": \"x\", \"y\": [6.21], \"yaxis\": \"y\", \"type\": \"scatter\"}], \"name\": \"0.58\"}, {\"data\": [{\"hoverlabel\": {\"namelength\": 0}, \"hovertemplate\": \"1=%{x}<br>2=%{y}\", \"legendgroup\": \"\", \"marker\": {\"color\": \"#636efa\", \"symbol\": \"circle\"}, \"mode\": \"markers\", \"name\": \"\", \"showlegend\": false, \"x\": [-2.2], \"xaxis\": \"x\", \"y\": [6.15], \"yaxis\": \"y\", \"type\": \"scatter\"}], \"name\": \"-2.2\"}, {\"data\": [{\"hoverlabel\": {\"namelength\": 0}, \"hovertemplate\": \"1=%{x}<br>2=%{y}\", \"legendgroup\": \"\", \"marker\": {\"color\": \"#636efa\", \"symbol\": \"circle\"}, \"mode\": \"markers\", \"name\": \"\", \"showlegend\": false, \"x\": [-2.82], \"xaxis\": \"x\", \"y\": [5.3], \"yaxis\": \"y\", \"type\": \"scatter\"}], \"name\": \"-2.82\"}, {\"data\": [{\"hoverlabel\": {\"namelength\": 0}, \"hovertemplate\": \"1=%{x}<br>2=%{y}\", \"legendgroup\": \"\", \"marker\": {\"color\": \"#636efa\", \"symbol\": \"circle\"}, \"mode\": \"markers\", \"name\": \"\", \"showlegend\": false, \"x\": [-2.96], \"xaxis\": \"x\", \"y\": [4.41], \"yaxis\": \"y\", \"type\": \"scatter\"}], \"name\": \"-2.96\"}, {\"data\": [{\"hoverlabel\": {\"namelength\": 0}, \"hovertemplate\": \"1=%{x}<br>2=%{y}\", \"legendgroup\": \"\", \"marker\": {\"color\": \"#636efa\", \"symbol\": \"circle\"}, \"mode\": \"markers\", \"name\": \"\", \"showlegend\": false, \"x\": [-1.69], \"xaxis\": \"x\", \"y\": [4.09], \"yaxis\": \"y\", \"type\": \"scatter\"}], \"name\": \"-1.69\"}, {\"data\": [{\"hoverlabel\": {\"namelength\": 0}, \"hovertemplate\": \"1=%{x}<br>2=%{y}\", \"legendgroup\": \"\", \"marker\": {\"color\": \"#636efa\", \"symbol\": \"circle\"}, \"mode\": \"markers\", \"name\": \"\", \"showlegend\": false, \"x\": [-1.06], \"xaxis\": \"x\", \"y\": [3.29], \"yaxis\": \"y\", \"type\": \"scatter\"}], \"name\": \"-1.06\"}, {\"data\": [{\"hoverlabel\": {\"namelength\": 0}, \"hovertemplate\": \"1=%{x}<br>2=%{y}\", \"legendgroup\": \"\", \"marker\": {\"color\": \"#636efa\", \"symbol\": \"circle\"}, \"mode\": \"markers\", \"name\": \"\", \"showlegend\": false, \"x\": [-0.89], \"xaxis\": \"x\", \"y\": [2.17], \"yaxis\": \"y\", \"type\": \"scatter\"}], \"name\": \"-0.89\"}, {\"data\": [{\"hoverlabel\": {\"namelength\": 0}, \"hovertemplate\": \"1=%{x}<br>2=%{y}\", \"legendgroup\": \"\", \"marker\": {\"color\": \"#636efa\", \"symbol\": \"circle\"}, \"mode\": \"markers\", \"name\": \"\", \"showlegend\": false, \"x\": [0.11], \"xaxis\": \"x\", \"y\": [1.76], \"yaxis\": \"y\", \"type\": \"scatter\"}], \"name\": \"0.11\"}, {\"data\": [{\"hoverlabel\": {\"namelength\": 0}, \"hovertemplate\": \"1=%{x}<br>2=%{y}\", \"legendgroup\": \"\", \"marker\": {\"color\": \"#636efa\", \"symbol\": \"circle\"}, \"mode\": \"markers\", \"name\": \"\", \"showlegend\": false, \"x\": [0.04], \"xaxis\": \"x\", \"y\": [1.74], \"yaxis\": \"y\", \"type\": \"scatter\"}], \"name\": \"0.04\"}, {\"data\": [{\"hoverlabel\": {\"namelength\": 0}, \"hovertemplate\": \"1=%{x}<br>2=%{y}\", \"legendgroup\": \"\", \"marker\": {\"color\": \"#636efa\", \"symbol\": \"circle\"}, \"mode\": \"markers\", \"name\": \"\", \"showlegend\": false, \"x\": [0.07], \"xaxis\": \"x\", \"y\": [1.82], \"yaxis\": \"y\", \"type\": \"scatter\"}], \"name\": \"0.07\"}, {\"data\": [{\"hoverlabel\": {\"namelength\": 0}, \"hovertemplate\": \"1=%{x}<br>2=%{y}\", \"legendgroup\": \"\", \"marker\": {\"color\": \"#636efa\", \"symbol\": \"circle\"}, \"mode\": \"markers\", \"name\": \"\", \"showlegend\": false, \"x\": [-0.11], \"xaxis\": \"x\", \"y\": [1.47], \"yaxis\": \"y\", \"type\": \"scatter\"}], \"name\": \"-0.11\"}]);\n",
       "                        }).then(function(){\n",
       "                            \n",
       "var gd = document.getElementById('663126e1-7d9e-4529-9984-3c7ce820e026');\n",
       "var x = new MutationObserver(function (mutations, observer) {{\n",
       "        var display = window.getComputedStyle(gd).display;\n",
       "        if (!display || display === 'none') {{\n",
       "            console.log([gd, 'removed!']);\n",
       "            Plotly.purge(gd);\n",
       "            observer.disconnect();\n",
       "        }}\n",
       "}});\n",
       "\n",
       "// Listen for the removal of the full notebook cells\n",
       "var notebookContainer = gd.closest('#notebook-container');\n",
       "if (notebookContainer) {{\n",
       "    x.observe(notebookContainer, {childList: true});\n",
       "}}\n",
       "\n",
       "// Listen for the clearing of the current output cell\n",
       "var outputEl = gd.closest('.output');\n",
       "if (outputEl) {{\n",
       "    x.observe(outputEl, {childList: true});\n",
       "}}\n",
       "\n",
       "                        })\n",
       "                };\n",
       "                });\n",
       "            </script>\n",
       "        </div>"
      ]
     },
     "metadata": {},
     "output_type": "display_data"
    }
   ],
   "source": [
    "px.scatter(train_stream, x=1, y=2, animation_frame=1,\n",
    "                      log_x=False, size_max=55, range_x=[min(train_stream[1]),max(train_stream[1])], \n",
    "                       range_y=[min(train_stream[2]),max(train_stream[2])])"
   ]
  },
  {
   "cell_type": "code",
   "execution_count": 70,
   "metadata": {},
   "outputs": [
    {
     "data": {
      "text/html": [
       "<div>\n",
       "<style scoped>\n",
       "    .dataframe tbody tr th:only-of-type {\n",
       "        vertical-align: middle;\n",
       "    }\n",
       "\n",
       "    .dataframe tbody tr th {\n",
       "        vertical-align: top;\n",
       "    }\n",
       "\n",
       "    .dataframe thead th {\n",
       "        text-align: right;\n",
       "    }\n",
       "</style>\n",
       "<table border=\"1\" class=\"dataframe\">\n",
       "  <thead>\n",
       "    <tr style=\"text-align: right;\">\n",
       "      <th></th>\n",
       "      <th>1</th>\n",
       "      <th>2</th>\n",
       "    </tr>\n",
       "  </thead>\n",
       "  <tbody>\n",
       "    <tr>\n",
       "      <th>0</th>\n",
       "      <td>-0.00</td>\n",
       "      <td>0.00</td>\n",
       "    </tr>\n",
       "    <tr>\n",
       "      <th>1</th>\n",
       "      <td>-0.20</td>\n",
       "      <td>-0.01</td>\n",
       "    </tr>\n",
       "    <tr>\n",
       "      <th>2</th>\n",
       "      <td>-0.25</td>\n",
       "      <td>0.32</td>\n",
       "    </tr>\n",
       "    <tr>\n",
       "      <th>3</th>\n",
       "      <td>-0.27</td>\n",
       "      <td>1.14</td>\n",
       "    </tr>\n",
       "    <tr>\n",
       "      <th>4</th>\n",
       "      <td>-0.80</td>\n",
       "      <td>2.06</td>\n",
       "    </tr>\n",
       "  </tbody>\n",
       "</table>\n",
       "</div>"
      ],
      "text/plain": [
       "      1     2\n",
       "0 -0.00  0.00\n",
       "1 -0.20 -0.01\n",
       "2 -0.25  0.32\n",
       "3 -0.27  1.14\n",
       "4 -0.80  2.06"
      ]
     },
     "execution_count": 70,
     "metadata": {},
     "output_type": "execute_result"
    }
   ],
   "source": [
    "train_stream.head()"
   ]
  },
  {
   "cell_type": "code",
   "execution_count": null,
   "metadata": {},
   "outputs": [],
   "source": []
  }
 ],
 "metadata": {
  "kernelspec": {
   "display_name": "Python 3",
   "language": "python",
   "name": "python3"
  },
  "language_info": {
   "codemirror_mode": {
    "name": "ipython",
    "version": 3
   },
   "file_extension": ".py",
   "mimetype": "text/x-python",
   "name": "python",
   "nbconvert_exporter": "python",
   "pygments_lexer": "ipython3",
   "version": "3.7.5"
  }
 },
 "nbformat": 4,
 "nbformat_minor": 2
}
