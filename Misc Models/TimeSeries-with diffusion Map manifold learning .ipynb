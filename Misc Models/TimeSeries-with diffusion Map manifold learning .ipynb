{
 "cells": [
  {
   "cell_type": "code",
   "execution_count": 8,
   "metadata": {},
   "outputs": [],
   "source": [
    "import pandas as pd\n",
    "import numpy as np\n",
    "from functools import partial\n",
    "from collections import OrderedDict\n",
    "from sklearn import manifold\n",
    "import matplotlib.pyplot as plt\n",
    "import numpy as np\n",
    "import pandas as pd\n",
    "from scipy.linalg import hankel, eigh\n",
    "import plotly.graph_objects as go\n",
    "from plotly.subplots import make_subplots\n",
    "import time\n",
    "from sklearn.metrics.pairwise import euclidean_distances\n"
   ]
  },
  {
   "cell_type": "code",
   "execution_count": 2,
   "metadata": {},
   "outputs": [],
   "source": [
    "def find_diffusion_matrix(X=None, alpha=0.15):\n",
    "    \"\"\"Function to find the diffusion matrix P\n",
    "        \n",
    "        >Parameters:\n",
    "        alpha - to be used for gaussian kernel function\n",
    "        X - feature matrix as numpy array\n",
    "        \n",
    "        >Returns:\n",
    "        P_prime, P, Di, K, D_left\n",
    "    \"\"\"\n",
    "    alpha = alpha\n",
    "        \n",
    "    dists = euclidean_distances(X, X)\n",
    "    K = np.exp(-dists**2 / alpha)\n",
    "    \n",
    "    r = np.sum(K, axis=0)\n",
    "    Di = np.diag(1/r)\n",
    "    P = np.matmul(Di, K)\n",
    "    \n",
    "    D_right = np.diag((r)**0.5)\n",
    "    D_left = np.diag((r)**-0.5)\n",
    "    P_prime = np.matmul(D_right, np.matmul(P,D_left))\n",
    "\n",
    "    return P_prime, P, Di, K, D_left"
   ]
  },
  {
   "cell_type": "code",
   "execution_count": 3,
   "metadata": {},
   "outputs": [],
   "source": [
    "def find_diffusion_map(P_prime, D_left, n_eign=3):\n",
    "    \"\"\"Function to find the diffusion coordinates in the diffusion space\n",
    "        \n",
    "        >Parameters:\n",
    "        P_prime - Symmetrized version of Diffusion Matrix P\n",
    "        D_left - D^{-1/2} matrix\n",
    "        n_eigen - Number of eigen vectors to return. This is effectively \n",
    "                    the dimensions to keep in diffusion space.\n",
    "        \n",
    "        >Returns:\n",
    "        Diffusion_map as np.array object\n",
    "    \"\"\"   \n",
    "    n_eign = n_eign\n",
    "    \n",
    "    eigenValues, eigenVectors = eigh(P_prime)\n",
    "    idx = eigenValues.argsort()[::-1]\n",
    "    eigenValues = eigenValues[idx]\n",
    "    eigenVectors = eigenVectors[:,idx]\n",
    "    \n",
    "    diffusion_coordinates = np.matmul(D_left, eigenVectors)\n",
    "    \n",
    "    return diffusion_coordinates[:,:n_eign]"
   ]
  },
  {
   "cell_type": "code",
   "execution_count": null,
   "metadata": {},
   "outputs": [],
   "source": []
  },
  {
   "cell_type": "code",
   "execution_count": 2,
   "metadata": {},
   "outputs": [],
   "source": [
    "# n_neighbors = 10\n",
    "# n_components = 1\n",
    "# Set-up manifold methods\n",
    "# LLE = partial(manifold.LocallyLinearEmbedding,\n",
    "#               n_neighbors, n_components, eigen_solver='auto')\n",
    "\n",
    "# methods = OrderedDict()\n",
    "# methods['LLE'] = LLE(method='standard')\n",
    "# methods['LTSA'] = LLE(method='ltsa')\n",
    "# methods['Hessian LLE'] = LLE(method='hessian')\n",
    "# methods['Modified LLE'] = LLE(method='modified')\n",
    "# methods['Isomap'] = manifold.Isomap(n_neighbors, n_components)\n",
    "# methods['MDS'] = manifold.MDS(n_components, max_iter=100, n_init=1)\n",
    "# methods['SE'] = manifold.SpectralEmbedding(n_components=n_components,\n",
    "#                                            n_neighbors=n_neighbors)\n",
    "# methods['t-SNE'] = manifold.TSNE(n_components=n_components, init='pca',\n",
    "#                                  random_state=0)"
   ]
  },
  {
   "cell_type": "code",
   "execution_count": 4,
   "metadata": {},
   "outputs": [],
   "source": [
    "df = pd.read_csv('steps_train.txt', skiprows=1,nrows=110, header=None, usecols=[1,2])\n",
    "df_test = pd.read_csv('steps_test.txt', skiprows=1, nrows=150, header=None, usecols=[1,2])"
   ]
  },
  {
   "cell_type": "code",
   "execution_count": 5,
   "metadata": {},
   "outputs": [],
   "source": [
    "report_cols = ['Method', 'Training Max Score', 'Training Min Score', \n",
    "               'Testing Max Score', 'Testing Min Score', 'Time elapsed']\n",
    "report = []"
   ]
  },
  {
   "cell_type": "code",
   "execution_count": null,
   "metadata": {},
   "outputs": [],
   "source": []
  },
  {
   "cell_type": "code",
   "execution_count": 28,
   "metadata": {},
   "outputs": [
    {
     "ename": "SyntaxError",
     "evalue": "duplicate argument 'r' in function definition (<ipython-input-28-a471838c30ac>, line 4)",
     "output_type": "error",
     "traceback": [
      "\u001b[0;36m  File \u001b[0;32m\"<ipython-input-28-a471838c30ac>\"\u001b[0;36m, line \u001b[0;32m4\u001b[0m\n\u001b[0;31m    P_prime, P, Di, K, D_left = find_diffusion_matrix(df, alpha=alpha)\u001b[0m\n\u001b[0m       ^\u001b[0m\n\u001b[0;31mSyntaxError\u001b[0m\u001b[0;31m:\u001b[0m duplicate argument 'r' in function definition\n"
     ]
    }
   ],
   "source": [
    "def run_algo(r=1, method_name='LLE', L=25, alpha=0.0005,r=2):\n",
    "    method_name = 'Diffusion Map'\n",
    "\n",
    "    P_prime, P, Di, K, D_left = find_diffusion_matrix(df, alpha=alpha)\n",
    "    X_train_data = find_diffusion_map(P_prime, D_left, n_eign=1)\n",
    "\n",
    "    N = len(X_train_data)\n",
    "    # L = (N)//2\n",
    "    L =  25\n",
    "    X_train = hankel(X_train_data[:L],X_train_data[L-1:]) # Creating trajectory matrix\n",
    "    eigenValues, eigenVectors = eigh(np.matmul(X_train, X_train.T))\n",
    "    idx = eigenValues.argsort()[::-1]\n",
    "    eigenValues = eigenValues[idx]\n",
    "    eigenVectors = eigenVectors[:,idx]\n",
    "    # Sree plot\n",
    "\n",
    "    eigen_data = go.Scatter(x=list(range(len(eigenValues[0:10]))), y=eigenValues[0:10])\n",
    "    eigen_layout = go.Layout(title='ScreePlot', title_x=0.5, xaxis_title=\"No of eigen values\", yaxis_title=\"eigen value\",)\n",
    "    fig = go.Figure(data=[eigen_data], layout=eigen_layout)\n",
    "    fig.show()\n",
    "    \n",
    "    start = time.perf_counter()\n",
    "    # Setting statistical dimension based on screeplot above\n",
    "    r = r\n",
    "    # Performing singular value decomposition\n",
    "    U, Sigma, V = np.linalg.svd(X_train)\n",
    "    V = V.T\n",
    "    X_elem = np.array( [Sigma[i] * np.outer(U[:,i], V[:,i]) for i in range(0,r)] )\n",
    "    X_train_extracted = X_elem.sum(axis=0)\n",
    "    U = eigenVectors[:,:r] # r as statistical dimension\n",
    "    UT = U.T\n",
    "    pX = np.matmul(UT,X_train_extracted)\n",
    "    centroid = np.mean(pX, axis=1)\n",
    "    centroid = centroid[:,np.newaxis]\n",
    "    pXt = np.matmul(UT,X_train)\n",
    "    dt_matrix = centroid - pXt\n",
    "    dt_scores = np.linalg.norm(dt_matrix, axis=0, ord=2)\n",
    "\n",
    "    # Testing positional Deviation\n",
    "    \n",
    "    P_prime, P, Di, K, D_left = find_diffusion_matrix(df_test, alpha=alpha)\n",
    "    X_test = find_diffusion_map(P_prime, D_left, n_eign=1)\n",
    "    \n",
    "    Xj = hankel(X_test[:L],X_test[L-1:])\n",
    "    pXj = np.matmul(UT, Xj)\n",
    "    dj_matrix = centroid - pXj\n",
    "    dj_scores = np.linalg.norm(dj_matrix, axis=0, ord=2)\n",
    "    dj_scores = np.asarray(dj_scores)\n",
    "    end = time.perf_counter()\n",
    "    finish = time.perf_counter()\n",
    "#     print(\"Time Taken for execution is \", round(finish-start, 2), 'Seconds\\n\\n')\n",
    "    \n",
    "    fig = make_subplots(rows=2, cols=2,specs=[[{}, {}], [{\"colspan\": 2}, None]],\n",
    "    subplot_titles=(\"Training plot\",\"Testing plot\", f\"Anomaly score by {method_name}\"))\n",
    "    fig.add_trace(go.Scatter(x=df[1], y=df[2], marker_color='blue',\n",
    "                            name=\"Training path\"),row=1, col=1)\n",
    "    fig.add_trace(go.Scatter(x=df_test[1], y=df_test[2], marker_color='red',\n",
    "                            name=\"Testing Score\"),row=1, col=2)\n",
    "    fig.add_trace(go.Scatter(x=list(range(len(dt_scores))), y=dt_scores[:], marker_color='blue',\n",
    "                             name=\"Training Score\"), row=2, col=1)\n",
    "    fig.add_trace(go.Scatter(x=list(range(len(dj_scores))), y=dj_scores, marker_color='red',\n",
    "                            name=\"Testing Score\"), row=2, col=1)\n",
    "    fig.update_layout(showlegend=False)\n",
    "    fig.show()\n",
    "    report.append([method_name, max(dt_scores), min(dt_scores), max(dj_scores), min(dj_scores), round(finish-start, 2)] )\n",
    "    return (pd.DataFrame(report, columns=report_cols))"
   ]
  },
  {
   "cell_type": "code",
   "execution_count": 48,
   "metadata": {},
   "outputs": [
    {
     "data": {
      "application/vnd.plotly.v1+json": {
       "config": {
        "plotlyServerURL": "https://plot.ly"
       },
       "data": [
        {
         "type": "scatter",
         "x": [
          0,
          1,
          2,
          3,
          4,
          5,
          6,
          7,
          8,
          9
         ],
         "y": [
          2.288765665376787,
          2.2464290220060215,
          1.6457526336220907,
          1.3201655367063734,
          1.2862090240666255,
          1.2676587983876408,
          1.2594578772870506,
          1.1128916521309138,
          1.1077889621076331,
          1.0608994588104732
         ]
        }
       ],
       "layout": {
        "template": {
         "data": {
          "bar": [
           {
            "error_x": {
             "color": "#2a3f5f"
            },
            "error_y": {
             "color": "#2a3f5f"
            },
            "marker": {
             "line": {
              "color": "#E5ECF6",
              "width": 0.5
             }
            },
            "type": "bar"
           }
          ],
          "barpolar": [
           {
            "marker": {
             "line": {
              "color": "#E5ECF6",
              "width": 0.5
             }
            },
            "type": "barpolar"
           }
          ],
          "carpet": [
           {
            "aaxis": {
             "endlinecolor": "#2a3f5f",
             "gridcolor": "white",
             "linecolor": "white",
             "minorgridcolor": "white",
             "startlinecolor": "#2a3f5f"
            },
            "baxis": {
             "endlinecolor": "#2a3f5f",
             "gridcolor": "white",
             "linecolor": "white",
             "minorgridcolor": "white",
             "startlinecolor": "#2a3f5f"
            },
            "type": "carpet"
           }
          ],
          "choropleth": [
           {
            "colorbar": {
             "outlinewidth": 0,
             "ticks": ""
            },
            "type": "choropleth"
           }
          ],
          "contour": [
           {
            "colorbar": {
             "outlinewidth": 0,
             "ticks": ""
            },
            "colorscale": [
             [
              0,
              "#0d0887"
             ],
             [
              0.1111111111111111,
              "#46039f"
             ],
             [
              0.2222222222222222,
              "#7201a8"
             ],
             [
              0.3333333333333333,
              "#9c179e"
             ],
             [
              0.4444444444444444,
              "#bd3786"
             ],
             [
              0.5555555555555556,
              "#d8576b"
             ],
             [
              0.6666666666666666,
              "#ed7953"
             ],
             [
              0.7777777777777778,
              "#fb9f3a"
             ],
             [
              0.8888888888888888,
              "#fdca26"
             ],
             [
              1,
              "#f0f921"
             ]
            ],
            "type": "contour"
           }
          ],
          "contourcarpet": [
           {
            "colorbar": {
             "outlinewidth": 0,
             "ticks": ""
            },
            "type": "contourcarpet"
           }
          ],
          "heatmap": [
           {
            "colorbar": {
             "outlinewidth": 0,
             "ticks": ""
            },
            "colorscale": [
             [
              0,
              "#0d0887"
             ],
             [
              0.1111111111111111,
              "#46039f"
             ],
             [
              0.2222222222222222,
              "#7201a8"
             ],
             [
              0.3333333333333333,
              "#9c179e"
             ],
             [
              0.4444444444444444,
              "#bd3786"
             ],
             [
              0.5555555555555556,
              "#d8576b"
             ],
             [
              0.6666666666666666,
              "#ed7953"
             ],
             [
              0.7777777777777778,
              "#fb9f3a"
             ],
             [
              0.8888888888888888,
              "#fdca26"
             ],
             [
              1,
              "#f0f921"
             ]
            ],
            "type": "heatmap"
           }
          ],
          "heatmapgl": [
           {
            "colorbar": {
             "outlinewidth": 0,
             "ticks": ""
            },
            "colorscale": [
             [
              0,
              "#0d0887"
             ],
             [
              0.1111111111111111,
              "#46039f"
             ],
             [
              0.2222222222222222,
              "#7201a8"
             ],
             [
              0.3333333333333333,
              "#9c179e"
             ],
             [
              0.4444444444444444,
              "#bd3786"
             ],
             [
              0.5555555555555556,
              "#d8576b"
             ],
             [
              0.6666666666666666,
              "#ed7953"
             ],
             [
              0.7777777777777778,
              "#fb9f3a"
             ],
             [
              0.8888888888888888,
              "#fdca26"
             ],
             [
              1,
              "#f0f921"
             ]
            ],
            "type": "heatmapgl"
           }
          ],
          "histogram": [
           {
            "marker": {
             "colorbar": {
              "outlinewidth": 0,
              "ticks": ""
             }
            },
            "type": "histogram"
           }
          ],
          "histogram2d": [
           {
            "colorbar": {
             "outlinewidth": 0,
             "ticks": ""
            },
            "colorscale": [
             [
              0,
              "#0d0887"
             ],
             [
              0.1111111111111111,
              "#46039f"
             ],
             [
              0.2222222222222222,
              "#7201a8"
             ],
             [
              0.3333333333333333,
              "#9c179e"
             ],
             [
              0.4444444444444444,
              "#bd3786"
             ],
             [
              0.5555555555555556,
              "#d8576b"
             ],
             [
              0.6666666666666666,
              "#ed7953"
             ],
             [
              0.7777777777777778,
              "#fb9f3a"
             ],
             [
              0.8888888888888888,
              "#fdca26"
             ],
             [
              1,
              "#f0f921"
             ]
            ],
            "type": "histogram2d"
           }
          ],
          "histogram2dcontour": [
           {
            "colorbar": {
             "outlinewidth": 0,
             "ticks": ""
            },
            "colorscale": [
             [
              0,
              "#0d0887"
             ],
             [
              0.1111111111111111,
              "#46039f"
             ],
             [
              0.2222222222222222,
              "#7201a8"
             ],
             [
              0.3333333333333333,
              "#9c179e"
             ],
             [
              0.4444444444444444,
              "#bd3786"
             ],
             [
              0.5555555555555556,
              "#d8576b"
             ],
             [
              0.6666666666666666,
              "#ed7953"
             ],
             [
              0.7777777777777778,
              "#fb9f3a"
             ],
             [
              0.8888888888888888,
              "#fdca26"
             ],
             [
              1,
              "#f0f921"
             ]
            ],
            "type": "histogram2dcontour"
           }
          ],
          "mesh3d": [
           {
            "colorbar": {
             "outlinewidth": 0,
             "ticks": ""
            },
            "type": "mesh3d"
           }
          ],
          "parcoords": [
           {
            "line": {
             "colorbar": {
              "outlinewidth": 0,
              "ticks": ""
             }
            },
            "type": "parcoords"
           }
          ],
          "pie": [
           {
            "automargin": true,
            "type": "pie"
           }
          ],
          "scatter": [
           {
            "marker": {
             "colorbar": {
              "outlinewidth": 0,
              "ticks": ""
             }
            },
            "type": "scatter"
           }
          ],
          "scatter3d": [
           {
            "line": {
             "colorbar": {
              "outlinewidth": 0,
              "ticks": ""
             }
            },
            "marker": {
             "colorbar": {
              "outlinewidth": 0,
              "ticks": ""
             }
            },
            "type": "scatter3d"
           }
          ],
          "scattercarpet": [
           {
            "marker": {
             "colorbar": {
              "outlinewidth": 0,
              "ticks": ""
             }
            },
            "type": "scattercarpet"
           }
          ],
          "scattergeo": [
           {
            "marker": {
             "colorbar": {
              "outlinewidth": 0,
              "ticks": ""
             }
            },
            "type": "scattergeo"
           }
          ],
          "scattergl": [
           {
            "marker": {
             "colorbar": {
              "outlinewidth": 0,
              "ticks": ""
             }
            },
            "type": "scattergl"
           }
          ],
          "scattermapbox": [
           {
            "marker": {
             "colorbar": {
              "outlinewidth": 0,
              "ticks": ""
             }
            },
            "type": "scattermapbox"
           }
          ],
          "scatterpolar": [
           {
            "marker": {
             "colorbar": {
              "outlinewidth": 0,
              "ticks": ""
             }
            },
            "type": "scatterpolar"
           }
          ],
          "scatterpolargl": [
           {
            "marker": {
             "colorbar": {
              "outlinewidth": 0,
              "ticks": ""
             }
            },
            "type": "scatterpolargl"
           }
          ],
          "scatterternary": [
           {
            "marker": {
             "colorbar": {
              "outlinewidth": 0,
              "ticks": ""
             }
            },
            "type": "scatterternary"
           }
          ],
          "surface": [
           {
            "colorbar": {
             "outlinewidth": 0,
             "ticks": ""
            },
            "colorscale": [
             [
              0,
              "#0d0887"
             ],
             [
              0.1111111111111111,
              "#46039f"
             ],
             [
              0.2222222222222222,
              "#7201a8"
             ],
             [
              0.3333333333333333,
              "#9c179e"
             ],
             [
              0.4444444444444444,
              "#bd3786"
             ],
             [
              0.5555555555555556,
              "#d8576b"
             ],
             [
              0.6666666666666666,
              "#ed7953"
             ],
             [
              0.7777777777777778,
              "#fb9f3a"
             ],
             [
              0.8888888888888888,
              "#fdca26"
             ],
             [
              1,
              "#f0f921"
             ]
            ],
            "type": "surface"
           }
          ],
          "table": [
           {
            "cells": {
             "fill": {
              "color": "#EBF0F8"
             },
             "line": {
              "color": "white"
             }
            },
            "header": {
             "fill": {
              "color": "#C8D4E3"
             },
             "line": {
              "color": "white"
             }
            },
            "type": "table"
           }
          ]
         },
         "layout": {
          "annotationdefaults": {
           "arrowcolor": "#2a3f5f",
           "arrowhead": 0,
           "arrowwidth": 1
          },
          "coloraxis": {
           "colorbar": {
            "outlinewidth": 0,
            "ticks": ""
           }
          },
          "colorscale": {
           "diverging": [
            [
             0,
             "#8e0152"
            ],
            [
             0.1,
             "#c51b7d"
            ],
            [
             0.2,
             "#de77ae"
            ],
            [
             0.3,
             "#f1b6da"
            ],
            [
             0.4,
             "#fde0ef"
            ],
            [
             0.5,
             "#f7f7f7"
            ],
            [
             0.6,
             "#e6f5d0"
            ],
            [
             0.7,
             "#b8e186"
            ],
            [
             0.8,
             "#7fbc41"
            ],
            [
             0.9,
             "#4d9221"
            ],
            [
             1,
             "#276419"
            ]
           ],
           "sequential": [
            [
             0,
             "#0d0887"
            ],
            [
             0.1111111111111111,
             "#46039f"
            ],
            [
             0.2222222222222222,
             "#7201a8"
            ],
            [
             0.3333333333333333,
             "#9c179e"
            ],
            [
             0.4444444444444444,
             "#bd3786"
            ],
            [
             0.5555555555555556,
             "#d8576b"
            ],
            [
             0.6666666666666666,
             "#ed7953"
            ],
            [
             0.7777777777777778,
             "#fb9f3a"
            ],
            [
             0.8888888888888888,
             "#fdca26"
            ],
            [
             1,
             "#f0f921"
            ]
           ],
           "sequentialminus": [
            [
             0,
             "#0d0887"
            ],
            [
             0.1111111111111111,
             "#46039f"
            ],
            [
             0.2222222222222222,
             "#7201a8"
            ],
            [
             0.3333333333333333,
             "#9c179e"
            ],
            [
             0.4444444444444444,
             "#bd3786"
            ],
            [
             0.5555555555555556,
             "#d8576b"
            ],
            [
             0.6666666666666666,
             "#ed7953"
            ],
            [
             0.7777777777777778,
             "#fb9f3a"
            ],
            [
             0.8888888888888888,
             "#fdca26"
            ],
            [
             1,
             "#f0f921"
            ]
           ]
          },
          "colorway": [
           "#636efa",
           "#EF553B",
           "#00cc96",
           "#ab63fa",
           "#FFA15A",
           "#19d3f3",
           "#FF6692",
           "#B6E880",
           "#FF97FF",
           "#FECB52"
          ],
          "font": {
           "color": "#2a3f5f"
          },
          "geo": {
           "bgcolor": "white",
           "lakecolor": "white",
           "landcolor": "#E5ECF6",
           "showlakes": true,
           "showland": true,
           "subunitcolor": "white"
          },
          "hoverlabel": {
           "align": "left"
          },
          "hovermode": "closest",
          "mapbox": {
           "style": "light"
          },
          "paper_bgcolor": "white",
          "plot_bgcolor": "#E5ECF6",
          "polar": {
           "angularaxis": {
            "gridcolor": "white",
            "linecolor": "white",
            "ticks": ""
           },
           "bgcolor": "#E5ECF6",
           "radialaxis": {
            "gridcolor": "white",
            "linecolor": "white",
            "ticks": ""
           }
          },
          "scene": {
           "xaxis": {
            "backgroundcolor": "#E5ECF6",
            "gridcolor": "white",
            "gridwidth": 2,
            "linecolor": "white",
            "showbackground": true,
            "ticks": "",
            "zerolinecolor": "white"
           },
           "yaxis": {
            "backgroundcolor": "#E5ECF6",
            "gridcolor": "white",
            "gridwidth": 2,
            "linecolor": "white",
            "showbackground": true,
            "ticks": "",
            "zerolinecolor": "white"
           },
           "zaxis": {
            "backgroundcolor": "#E5ECF6",
            "gridcolor": "white",
            "gridwidth": 2,
            "linecolor": "white",
            "showbackground": true,
            "ticks": "",
            "zerolinecolor": "white"
           }
          },
          "shapedefaults": {
           "line": {
            "color": "#2a3f5f"
           }
          },
          "ternary": {
           "aaxis": {
            "gridcolor": "white",
            "linecolor": "white",
            "ticks": ""
           },
           "baxis": {
            "gridcolor": "white",
            "linecolor": "white",
            "ticks": ""
           },
           "bgcolor": "#E5ECF6",
           "caxis": {
            "gridcolor": "white",
            "linecolor": "white",
            "ticks": ""
           }
          },
          "title": {
           "x": 0.05
          },
          "xaxis": {
           "automargin": true,
           "gridcolor": "white",
           "linecolor": "white",
           "ticks": "",
           "title": {
            "standoff": 15
           },
           "zerolinecolor": "white",
           "zerolinewidth": 2
          },
          "yaxis": {
           "automargin": true,
           "gridcolor": "white",
           "linecolor": "white",
           "ticks": "",
           "title": {
            "standoff": 15
           },
           "zerolinecolor": "white",
           "zerolinewidth": 2
          }
         }
        },
        "title": {
         "text": "ScreePlot",
         "x": 0.5
        },
        "xaxis": {
         "title": {
          "text": "No of eigen values"
         }
        },
        "yaxis": {
         "title": {
          "text": "eigen value"
         }
        }
       }
      },
      "text/html": [
       "<div>\n",
       "        \n",
       "        \n",
       "            <div id=\"0d0af80c-4780-4b67-8674-a162ce602eec\" class=\"plotly-graph-div\" style=\"height:525px; width:100%;\"></div>\n",
       "            <script type=\"text/javascript\">\n",
       "                require([\"plotly\"], function(Plotly) {\n",
       "                    window.PLOTLYENV=window.PLOTLYENV || {};\n",
       "                    \n",
       "                if (document.getElementById(\"0d0af80c-4780-4b67-8674-a162ce602eec\")) {\n",
       "                    Plotly.newPlot(\n",
       "                        '0d0af80c-4780-4b67-8674-a162ce602eec',\n",
       "                        [{\"type\": \"scatter\", \"x\": [0, 1, 2, 3, 4, 5, 6, 7, 8, 9], \"y\": [2.288765665376787, 2.2464290220060215, 1.6457526336220907, 1.3201655367063734, 1.2862090240666255, 1.2676587983876408, 1.2594578772870506, 1.1128916521309138, 1.1077889621076331, 1.0608994588104732]}],\n",
       "                        {\"template\": {\"data\": {\"bar\": [{\"error_x\": {\"color\": \"#2a3f5f\"}, \"error_y\": {\"color\": \"#2a3f5f\"}, \"marker\": {\"line\": {\"color\": \"#E5ECF6\", \"width\": 0.5}}, \"type\": \"bar\"}], \"barpolar\": [{\"marker\": {\"line\": {\"color\": \"#E5ECF6\", \"width\": 0.5}}, \"type\": \"barpolar\"}], \"carpet\": [{\"aaxis\": {\"endlinecolor\": \"#2a3f5f\", \"gridcolor\": \"white\", \"linecolor\": \"white\", \"minorgridcolor\": \"white\", \"startlinecolor\": \"#2a3f5f\"}, \"baxis\": {\"endlinecolor\": \"#2a3f5f\", \"gridcolor\": \"white\", \"linecolor\": \"white\", \"minorgridcolor\": \"white\", \"startlinecolor\": \"#2a3f5f\"}, \"type\": \"carpet\"}], \"choropleth\": [{\"colorbar\": {\"outlinewidth\": 0, \"ticks\": \"\"}, \"type\": \"choropleth\"}], \"contour\": [{\"colorbar\": {\"outlinewidth\": 0, \"ticks\": \"\"}, \"colorscale\": [[0.0, \"#0d0887\"], [0.1111111111111111, \"#46039f\"], [0.2222222222222222, \"#7201a8\"], [0.3333333333333333, \"#9c179e\"], [0.4444444444444444, \"#bd3786\"], [0.5555555555555556, \"#d8576b\"], [0.6666666666666666, \"#ed7953\"], [0.7777777777777778, \"#fb9f3a\"], [0.8888888888888888, \"#fdca26\"], [1.0, \"#f0f921\"]], \"type\": \"contour\"}], \"contourcarpet\": [{\"colorbar\": {\"outlinewidth\": 0, \"ticks\": \"\"}, \"type\": \"contourcarpet\"}], \"heatmap\": [{\"colorbar\": {\"outlinewidth\": 0, \"ticks\": \"\"}, \"colorscale\": [[0.0, \"#0d0887\"], [0.1111111111111111, \"#46039f\"], [0.2222222222222222, \"#7201a8\"], [0.3333333333333333, \"#9c179e\"], [0.4444444444444444, \"#bd3786\"], [0.5555555555555556, \"#d8576b\"], [0.6666666666666666, \"#ed7953\"], [0.7777777777777778, \"#fb9f3a\"], [0.8888888888888888, \"#fdca26\"], [1.0, \"#f0f921\"]], \"type\": \"heatmap\"}], \"heatmapgl\": [{\"colorbar\": {\"outlinewidth\": 0, \"ticks\": \"\"}, \"colorscale\": [[0.0, \"#0d0887\"], [0.1111111111111111, \"#46039f\"], [0.2222222222222222, \"#7201a8\"], [0.3333333333333333, \"#9c179e\"], [0.4444444444444444, \"#bd3786\"], [0.5555555555555556, \"#d8576b\"], [0.6666666666666666, \"#ed7953\"], [0.7777777777777778, \"#fb9f3a\"], [0.8888888888888888, \"#fdca26\"], [1.0, \"#f0f921\"]], \"type\": \"heatmapgl\"}], \"histogram\": [{\"marker\": {\"colorbar\": {\"outlinewidth\": 0, \"ticks\": \"\"}}, \"type\": \"histogram\"}], \"histogram2d\": [{\"colorbar\": {\"outlinewidth\": 0, \"ticks\": \"\"}, \"colorscale\": [[0.0, \"#0d0887\"], [0.1111111111111111, \"#46039f\"], [0.2222222222222222, \"#7201a8\"], [0.3333333333333333, \"#9c179e\"], [0.4444444444444444, \"#bd3786\"], [0.5555555555555556, \"#d8576b\"], [0.6666666666666666, \"#ed7953\"], [0.7777777777777778, \"#fb9f3a\"], [0.8888888888888888, \"#fdca26\"], [1.0, \"#f0f921\"]], \"type\": \"histogram2d\"}], \"histogram2dcontour\": [{\"colorbar\": {\"outlinewidth\": 0, \"ticks\": \"\"}, \"colorscale\": [[0.0, \"#0d0887\"], [0.1111111111111111, \"#46039f\"], [0.2222222222222222, \"#7201a8\"], [0.3333333333333333, \"#9c179e\"], [0.4444444444444444, \"#bd3786\"], [0.5555555555555556, \"#d8576b\"], [0.6666666666666666, \"#ed7953\"], [0.7777777777777778, \"#fb9f3a\"], [0.8888888888888888, \"#fdca26\"], [1.0, \"#f0f921\"]], \"type\": \"histogram2dcontour\"}], \"mesh3d\": [{\"colorbar\": {\"outlinewidth\": 0, \"ticks\": \"\"}, \"type\": \"mesh3d\"}], \"parcoords\": [{\"line\": {\"colorbar\": {\"outlinewidth\": 0, \"ticks\": \"\"}}, \"type\": \"parcoords\"}], \"pie\": [{\"automargin\": true, \"type\": \"pie\"}], \"scatter\": [{\"marker\": {\"colorbar\": {\"outlinewidth\": 0, \"ticks\": \"\"}}, \"type\": \"scatter\"}], \"scatter3d\": [{\"line\": {\"colorbar\": {\"outlinewidth\": 0, \"ticks\": \"\"}}, \"marker\": {\"colorbar\": {\"outlinewidth\": 0, \"ticks\": \"\"}}, \"type\": \"scatter3d\"}], \"scattercarpet\": [{\"marker\": {\"colorbar\": {\"outlinewidth\": 0, \"ticks\": \"\"}}, \"type\": \"scattercarpet\"}], \"scattergeo\": [{\"marker\": {\"colorbar\": {\"outlinewidth\": 0, \"ticks\": \"\"}}, \"type\": \"scattergeo\"}], \"scattergl\": [{\"marker\": {\"colorbar\": {\"outlinewidth\": 0, \"ticks\": \"\"}}, \"type\": \"scattergl\"}], \"scattermapbox\": [{\"marker\": {\"colorbar\": {\"outlinewidth\": 0, \"ticks\": \"\"}}, \"type\": \"scattermapbox\"}], \"scatterpolar\": [{\"marker\": {\"colorbar\": {\"outlinewidth\": 0, \"ticks\": \"\"}}, \"type\": \"scatterpolar\"}], \"scatterpolargl\": [{\"marker\": {\"colorbar\": {\"outlinewidth\": 0, \"ticks\": \"\"}}, \"type\": \"scatterpolargl\"}], \"scatterternary\": [{\"marker\": {\"colorbar\": {\"outlinewidth\": 0, \"ticks\": \"\"}}, \"type\": \"scatterternary\"}], \"surface\": [{\"colorbar\": {\"outlinewidth\": 0, \"ticks\": \"\"}, \"colorscale\": [[0.0, \"#0d0887\"], [0.1111111111111111, \"#46039f\"], [0.2222222222222222, \"#7201a8\"], [0.3333333333333333, \"#9c179e\"], [0.4444444444444444, \"#bd3786\"], [0.5555555555555556, \"#d8576b\"], [0.6666666666666666, \"#ed7953\"], [0.7777777777777778, \"#fb9f3a\"], [0.8888888888888888, \"#fdca26\"], [1.0, \"#f0f921\"]], \"type\": \"surface\"}], \"table\": [{\"cells\": {\"fill\": {\"color\": \"#EBF0F8\"}, \"line\": {\"color\": \"white\"}}, \"header\": {\"fill\": {\"color\": \"#C8D4E3\"}, \"line\": {\"color\": \"white\"}}, \"type\": \"table\"}]}, \"layout\": {\"annotationdefaults\": {\"arrowcolor\": \"#2a3f5f\", \"arrowhead\": 0, \"arrowwidth\": 1}, \"coloraxis\": {\"colorbar\": {\"outlinewidth\": 0, \"ticks\": \"\"}}, \"colorscale\": {\"diverging\": [[0, \"#8e0152\"], [0.1, \"#c51b7d\"], [0.2, \"#de77ae\"], [0.3, \"#f1b6da\"], [0.4, \"#fde0ef\"], [0.5, \"#f7f7f7\"], [0.6, \"#e6f5d0\"], [0.7, \"#b8e186\"], [0.8, \"#7fbc41\"], [0.9, \"#4d9221\"], [1, \"#276419\"]], \"sequential\": [[0.0, \"#0d0887\"], [0.1111111111111111, \"#46039f\"], [0.2222222222222222, \"#7201a8\"], [0.3333333333333333, \"#9c179e\"], [0.4444444444444444, \"#bd3786\"], [0.5555555555555556, \"#d8576b\"], [0.6666666666666666, \"#ed7953\"], [0.7777777777777778, \"#fb9f3a\"], [0.8888888888888888, \"#fdca26\"], [1.0, \"#f0f921\"]], \"sequentialminus\": [[0.0, \"#0d0887\"], [0.1111111111111111, \"#46039f\"], [0.2222222222222222, \"#7201a8\"], [0.3333333333333333, \"#9c179e\"], [0.4444444444444444, \"#bd3786\"], [0.5555555555555556, \"#d8576b\"], [0.6666666666666666, \"#ed7953\"], [0.7777777777777778, \"#fb9f3a\"], [0.8888888888888888, \"#fdca26\"], [1.0, \"#f0f921\"]]}, \"colorway\": [\"#636efa\", \"#EF553B\", \"#00cc96\", \"#ab63fa\", \"#FFA15A\", \"#19d3f3\", \"#FF6692\", \"#B6E880\", \"#FF97FF\", \"#FECB52\"], \"font\": {\"color\": \"#2a3f5f\"}, \"geo\": {\"bgcolor\": \"white\", \"lakecolor\": \"white\", \"landcolor\": \"#E5ECF6\", \"showlakes\": true, \"showland\": true, \"subunitcolor\": \"white\"}, \"hoverlabel\": {\"align\": \"left\"}, \"hovermode\": \"closest\", \"mapbox\": {\"style\": \"light\"}, \"paper_bgcolor\": \"white\", \"plot_bgcolor\": \"#E5ECF6\", \"polar\": {\"angularaxis\": {\"gridcolor\": \"white\", \"linecolor\": \"white\", \"ticks\": \"\"}, \"bgcolor\": \"#E5ECF6\", \"radialaxis\": {\"gridcolor\": \"white\", \"linecolor\": \"white\", \"ticks\": \"\"}}, \"scene\": {\"xaxis\": {\"backgroundcolor\": \"#E5ECF6\", \"gridcolor\": \"white\", \"gridwidth\": 2, \"linecolor\": \"white\", \"showbackground\": true, \"ticks\": \"\", \"zerolinecolor\": \"white\"}, \"yaxis\": {\"backgroundcolor\": \"#E5ECF6\", \"gridcolor\": \"white\", \"gridwidth\": 2, \"linecolor\": \"white\", \"showbackground\": true, \"ticks\": \"\", \"zerolinecolor\": \"white\"}, \"zaxis\": {\"backgroundcolor\": \"#E5ECF6\", \"gridcolor\": \"white\", \"gridwidth\": 2, \"linecolor\": \"white\", \"showbackground\": true, \"ticks\": \"\", \"zerolinecolor\": \"white\"}}, \"shapedefaults\": {\"line\": {\"color\": \"#2a3f5f\"}}, \"ternary\": {\"aaxis\": {\"gridcolor\": \"white\", \"linecolor\": \"white\", \"ticks\": \"\"}, \"baxis\": {\"gridcolor\": \"white\", \"linecolor\": \"white\", \"ticks\": \"\"}, \"bgcolor\": \"#E5ECF6\", \"caxis\": {\"gridcolor\": \"white\", \"linecolor\": \"white\", \"ticks\": \"\"}}, \"title\": {\"x\": 0.05}, \"xaxis\": {\"automargin\": true, \"gridcolor\": \"white\", \"linecolor\": \"white\", \"ticks\": \"\", \"title\": {\"standoff\": 15}, \"zerolinecolor\": \"white\", \"zerolinewidth\": 2}, \"yaxis\": {\"automargin\": true, \"gridcolor\": \"white\", \"linecolor\": \"white\", \"ticks\": \"\", \"title\": {\"standoff\": 15}, \"zerolinecolor\": \"white\", \"zerolinewidth\": 2}}}, \"title\": {\"text\": \"ScreePlot\", \"x\": 0.5}, \"xaxis\": {\"title\": {\"text\": \"No of eigen values\"}}, \"yaxis\": {\"title\": {\"text\": \"eigen value\"}}},\n",
       "                        {\"responsive\": true}\n",
       "                    ).then(function(){\n",
       "                            \n",
       "var gd = document.getElementById('0d0af80c-4780-4b67-8674-a162ce602eec');\n",
       "var x = new MutationObserver(function (mutations, observer) {{\n",
       "        var display = window.getComputedStyle(gd).display;\n",
       "        if (!display || display === 'none') {{\n",
       "            console.log([gd, 'removed!']);\n",
       "            Plotly.purge(gd);\n",
       "            observer.disconnect();\n",
       "        }}\n",
       "}});\n",
       "\n",
       "// Listen for the removal of the full notebook cells\n",
       "var notebookContainer = gd.closest('#notebook-container');\n",
       "if (notebookContainer) {{\n",
       "    x.observe(notebookContainer, {childList: true});\n",
       "}}\n",
       "\n",
       "// Listen for the clearing of the current output cell\n",
       "var outputEl = gd.closest('.output');\n",
       "if (outputEl) {{\n",
       "    x.observe(outputEl, {childList: true});\n",
       "}}\n",
       "\n",
       "                        })\n",
       "                };\n",
       "                });\n",
       "            </script>\n",
       "        </div>"
      ]
     },
     "metadata": {},
     "output_type": "display_data"
    },
    {
     "data": {
      "application/vnd.plotly.v1+json": {
       "config": {
        "plotlyServerURL": "https://plot.ly"
       },
       "data": [
        {
         "marker": {
          "color": "blue"
         },
         "name": "Training path",
         "type": "scatter",
         "x": [
          0,
          -0.2,
          -0.25,
          -0.27,
          -0.8,
          -1.25,
          -2.53,
          -2.69,
          -2.02,
          -0.82,
          0.45,
          1.77,
          3.1,
          4.4,
          5.73,
          7.06,
          8.38,
          9.71,
          11.1,
          12.4,
          13.67,
          14.95,
          16.23,
          17.53,
          18.82,
          20.1,
          21.42,
          22.73,
          24.02,
          25.29,
          26.51,
          27.5,
          26.32,
          24.94,
          23.55,
          22.16,
          20.8,
          19.45,
          18.11,
          16.76,
          13.95,
          12.54,
          11.15,
          9.76,
          8.37,
          7,
          5.63,
          4.26,
          2.95,
          1.56,
          0.21,
          -1.12,
          -2.39,
          -3.48,
          -2.14,
          -0.74,
          0.64,
          2.04,
          3.48,
          4.91,
          6.31,
          7.7,
          9.08,
          10.48,
          11.88,
          13.27,
          14.67,
          16.05,
          17.4,
          18.75,
          20.11,
          21.46,
          22.79,
          24.13,
          25.53,
          26.82,
          27.7,
          26.38,
          25,
          23.58,
          22.17,
          20.72,
          19.26,
          17.81,
          16.36,
          14.92,
          13.48,
          12.07,
          10.67,
          9.23,
          7.78,
          6.34,
          4.9,
          3.45,
          1.99,
          0.58,
          -0.82,
          -2.2,
          -2.82,
          -2.96,
          -1.69,
          -1.06,
          -0.89,
          0.11,
          0.04,
          0.07,
          -0.11,
          0,
          -0.2,
          -0.25
         ],
         "xaxis": "x",
         "y": [
          0,
          -0.01,
          0.32,
          1.14,
          2.06,
          3.3,
          3.69,
          3.96,
          5.03,
          5.55,
          5.67,
          5.71,
          5.69,
          5.71,
          5.77,
          5.81,
          5.86,
          5.99,
          6.09,
          6.24,
          6.43,
          6.53,
          6.51,
          6.47,
          6.53,
          6.61,
          6.68,
          6.82,
          6.87,
          6.93,
          6.88,
          6.95,
          6.94,
          6.85,
          6.88,
          6.8,
          6.71,
          6.6,
          6.55,
          6.5,
          6.45,
          6.37,
          6.27,
          6.24,
          6.27,
          6.25,
          6.26,
          6.25,
          6.05,
          6,
          6.01,
          5.93,
          5.95,
          5.72,
          5.75,
          5.87,
          5.85,
          5.85,
          5.87,
          5.95,
          6.04,
          6.08,
          6.1,
          6.15,
          6.2,
          6.23,
          6.3,
          6.33,
          6.4,
          6.37,
          6.4,
          6.28,
          6.24,
          6.18,
          6.32,
          6.42,
          6.53,
          6.52,
          6.46,
          6.47,
          6.51,
          6.42,
          6.37,
          6.33,
          6.33,
          6.35,
          6.41,
          6.51,
          6.59,
          6.5,
          6.42,
          6.38,
          6.24,
          6.24,
          6.21,
          6.21,
          6.25,
          6.15,
          5.3,
          4.41,
          4.09,
          3.29,
          2.17,
          1.76,
          1.74,
          1.82,
          1.47,
          0,
          -0.01,
          0.32
         ],
         "yaxis": "y"
        },
        {
         "marker": {
          "color": "red"
         },
         "name": "Testing Score",
         "type": "scatter",
         "x": [
          -2.03,
          -2.97,
          -2.74,
          -1.95,
          -0.67,
          0.68,
          1.99,
          3.33,
          4.64,
          5.87,
          6.6,
          6.73,
          6.71,
          6.72,
          6.72,
          6.43,
          6.1,
          6.08,
          6.25,
          6.6,
          6.96,
          7.89,
          9.19,
          10.55,
          11.88,
          13.24,
          14.58,
          15.92,
          17.27,
          18.6,
          19.93,
          21.23,
          22.58,
          23.84,
          25,
          25.99,
          24.81,
          23.43,
          22.07,
          20.72,
          19.32,
          17.92,
          16.51,
          15.12,
          13.73,
          12.35,
          11.01,
          9.68,
          8.32,
          7,
          5.66,
          4.28,
          2.95,
          1.6,
          0.25,
          -1.09,
          -2.34,
          -2.86,
          -3.31,
          -2.38,
          -1.33,
          -1.23,
          -1.4,
          -1.22,
          -1,
          -1.15,
          -1.18,
          -2.36,
          -3.41,
          -3.95,
          -3.95,
          -3.96,
          -3.8,
          -3.78,
          -3.79,
          -3.6,
          -3.16,
          -2.83,
          -2.55,
          -1.85,
          -0.62,
          0.64,
          1.98,
          3.29,
          4.56,
          5.78,
          6.59,
          6.69,
          6.45,
          6.21,
          5.98,
          5.82,
          6.04,
          6.12,
          6.21,
          6.43,
          6.82,
          7.58,
          8.79,
          10.08,
          11.46,
          12.78,
          14.11,
          15.43,
          16.73,
          18.06,
          19.38,
          20.68,
          21.93,
          23.18,
          24.45,
          25.76,
          26.75,
          25.5,
          24.17,
          22.88,
          21.52,
          20.19,
          18.82,
          17.48,
          16.09,
          14.74,
          13.36,
          12.03,
          10.68,
          9.34,
          7.97,
          6.61,
          5.24,
          3.86,
          2.46,
          1.05,
          -0.34,
          -1.67,
          -2.61,
          -3.07,
          -2.29,
          -1.2,
          -1.3,
          -1.42,
          -1.24,
          -1.16,
          -0.99,
          -1.04,
          0,
          -0.06,
          -0.76,
          -1.03,
          -0.98,
          -2.03
         ],
         "xaxis": "x2",
         "y": [
          3.5,
          3.72,
          3.86,
          4.77,
          4.95,
          5.02,
          5.13,
          5.04,
          5.04,
          4.81,
          3.85,
          2.58,
          1.26,
          -0.05,
          -1.35,
          -2.22,
          -1.44,
          -0.17,
          1.12,
          2.38,
          3.69,
          4.59,
          4.9,
          4.88,
          4.88,
          4.84,
          4.71,
          4.72,
          4.78,
          4.8,
          4.82,
          4.74,
          4.81,
          4.95,
          4.75,
          4.83,
          4.95,
          5.06,
          5.16,
          5.21,
          5.29,
          5.22,
          5.28,
          5.35,
          5.42,
          5.44,
          5.41,
          5.44,
          5.41,
          5.4,
          5.58,
          5.62,
          5.69,
          5.77,
          5.85,
          5.93,
          5.98,
          5.17,
          4.47,
          3.73,
          3.46,
          2.26,
          1.17,
          0.43,
          1.29,
          2.34,
          3.61,
          4.25,
          3.46,
          2.34,
          1.11,
          -0.07,
          -0.82,
          0.45,
          1.79,
          3.05,
          4.12,
          4.4,
          4.67,
          5.71,
          5.92,
          5.64,
          5.5,
          5.36,
          5.1,
          4.63,
          3.79,
          2.55,
          1.35,
          0.12,
          -1.11,
          -2.24,
          -2,
          -0.79,
          0.48,
          1.73,
          2.95,
          3.99,
          4.48,
          4.39,
          4.27,
          4.08,
          4.06,
          4.01,
          3.7,
          3.61,
          3.56,
          3.35,
          3.05,
          2.76,
          2.51,
          2.45,
          2.8,
          2.84,
          2.97,
          3.2,
          3.4,
          3.59,
          3.82,
          4,
          4.21,
          4.4,
          4.52,
          4.75,
          4.88,
          5.03,
          5.23,
          5.3,
          5.62,
          5.95,
          6.17,
          6.44,
          6.58,
          6.81,
          6.31,
          5.35,
          4.55,
          4.21,
          3.11,
          2.08,
          1.66,
          1.81,
          1.86,
          2.05,
          0,
          0,
          0.75,
          1.7,
          2.82,
          3.5
         ],
         "yaxis": "y2"
        },
        {
         "marker": {
          "color": "blue"
         },
         "name": "Training Score",
         "type": "scatter",
         "x": [
          0,
          1,
          2,
          3,
          4,
          5,
          6,
          7,
          8,
          9,
          10,
          11,
          12,
          13,
          14,
          15,
          16,
          17,
          18,
          19,
          20,
          21,
          22,
          23,
          24,
          25,
          26,
          27,
          28,
          29,
          30,
          31,
          32,
          33,
          34,
          35,
          36,
          37,
          38,
          39,
          40,
          41,
          42,
          43,
          44,
          45,
          46,
          47,
          48,
          49,
          50,
          51,
          52,
          53,
          54,
          55,
          56,
          57,
          58,
          59,
          60,
          61,
          62,
          63,
          64,
          65,
          66,
          67,
          68,
          69,
          70,
          71,
          72,
          73,
          74,
          75,
          76,
          77,
          78,
          79,
          80,
          81,
          82,
          83,
          84,
          85
         ],
         "xaxis": "x3",
         "y": [
          0.16643241636687733,
          0.18212602834067435,
          0.2170356057038121,
          0.24176881971535713,
          0.2092484512603557,
          0.23359987514859615,
          0.22373006353494082,
          0.17932278909063168,
          0.20856327373930064,
          0.22894076501284516,
          0.1828012672583563,
          0.17770816723797223,
          0.16953045273069187,
          0.2129762650759314,
          0.15117136859864483,
          0.1088888838179421,
          0.12233809028086139,
          0.2504048253397084,
          0.16352566539621327,
          0.1959142530478358,
          0.13724044363185806,
          0.15187373926275113,
          0.12708510317507343,
          0.3162915241230084,
          0.32361495084169134,
          0.28680838814182713,
          0.30223397760653964,
          0.2805208026910417,
          0.22325144438139843,
          0.26317027910204616,
          0.30196140756018297,
          0.31411983715906905,
          0.37161837346401655,
          0.35786314587819257,
          0.4123613131352663,
          0.39306386219072004,
          0.3263422170439559,
          0.3382860596186019,
          0.42227296498393346,
          0.3852634665945186,
          0.41014759859525085,
          0.44582253699214885,
          0.4302004717990497,
          0.36365522944990625,
          0.3549178367328029,
          0.386119222642318,
          0.3750802972246696,
          0.3505819730072019,
          0.3335423194921676,
          0.4757223964385729,
          0.43576739672983067,
          0.41764884607090863,
          0.4547476004305121,
          0.3898592369757708,
          0.34360254699896753,
          0.36038980290162764,
          0.39621809745037395,
          0.3290241944866897,
          0.3825628519684261,
          0.3360245744106953,
          0.29132913062990984,
          0.2866651837459992,
          0.40914227501291794,
          0.36862272767676985,
          0.37637165741300854,
          0.3124288312091482,
          0.3454501953524845,
          0.35007641211844337,
          0.2620670608119497,
          0.30409551135841917,
          0.3229543446422204,
          0.3338628905339636,
          0.31931582730285635,
          0.35255417668973815,
          0.1308320698577241,
          0.09773490962901651,
          0.1003707029376388,
          0.13420008406674136,
          0.11848821637409312,
          0.12145036887587142,
          0.10720404468710204,
          0.11830352158670057,
          0.12315610455622383,
          0.11793534737351483,
          0.11031053519871495,
          0.13308250392135232
         ],
         "yaxis": "y3"
        },
        {
         "marker": {
          "color": "red"
         },
         "name": "Testing Score",
         "type": "scatter",
         "x": [
          0,
          1,
          2,
          3,
          4,
          5,
          6,
          7,
          8,
          9,
          10,
          11,
          12,
          13,
          14,
          15,
          16,
          17,
          18,
          19,
          20,
          21,
          22,
          23,
          24,
          25,
          26,
          27,
          28,
          29,
          30,
          31,
          32,
          33,
          34,
          35,
          36,
          37,
          38,
          39,
          40,
          41,
          42,
          43,
          44,
          45,
          46,
          47,
          48,
          49,
          50,
          51,
          52,
          53,
          54,
          55,
          56,
          57,
          58,
          59,
          60,
          61,
          62,
          63,
          64,
          65,
          66,
          67,
          68,
          69,
          70,
          71,
          72,
          73,
          74,
          75,
          76,
          77,
          78,
          79,
          80,
          81,
          82,
          83,
          84,
          85,
          86,
          87,
          88,
          89,
          90,
          91,
          92,
          93,
          94,
          95,
          96,
          97,
          98,
          99,
          100,
          101,
          102,
          103,
          104,
          105,
          106,
          107,
          108,
          109,
          110,
          111,
          112,
          113,
          114,
          115,
          116,
          117,
          118,
          119,
          120,
          121,
          122,
          123,
          124,
          125
         ],
         "xaxis": "x3",
         "y": [
          0.25835371422595316,
          0.2890933554080475,
          0.31649926892421004,
          0.31715071094289377,
          0.3455913605489711,
          0.3377354272643532,
          0.3265023297677171,
          0.3345450480016438,
          0.33365741630977075,
          0.32640506349128856,
          0.3273505738196438,
          0.29189445644503803,
          0.30245391330426996,
          0.2668440870717182,
          0.20272640208553425,
          0.19175803473167485,
          0.16031781628873643,
          0.2303663249346437,
          0.19118138779253196,
          0.18653809224822593,
          0.23059129427119088,
          0.1790174535293336,
          0.15362098675438693,
          0.16766525597809492,
          0.22935946546671515,
          0.10492821212564761,
          0.14366179543448654,
          0.18594637409751744,
          0.2519221170816562,
          0.19872086906579597,
          0.2581268377774771,
          0.1843876102936512,
          0.1847884837501282,
          0.21821103432640832,
          0.2674467966653327,
          0.26581598113543237,
          0.2067359857244456,
          0.21858664490919258,
          0.24902130279402074,
          0.20006549147865407,
          0.23282424349688433,
          0.21323648195377906,
          0.21186994152036856,
          0.1914901561648549,
          0.16864315993922566,
          0.17128641099462838,
          0.16265212429065645,
          0.19806826231313193,
          0.1407228899798996,
          0.12775813837098218,
          0.13128934091308858,
          0.12095397993482218,
          0.12485764183137589,
          0.09641732049801954,
          0.10653732557070478,
          0.10094148846839403,
          0.10182113250236971,
          0.09026504656485423,
          0.08473147738679893,
          0.059266801554533885,
          0.06932892421501347,
          0.095529005349046,
          0.09712377330594668,
          0.11354693458466117,
          0.10173626430365812,
          0.10444308699226725,
          0.09024735401347132,
          0.07808400982570204,
          0.09904864023673908,
          0.11980490296139162,
          0.12632722594978021,
          0.12420247369673383,
          0.17841369998402512,
          0.20652993503809167,
          0.13833768541933422,
          0.1474561511743925,
          0.16902865536673733,
          0.17200561772459708,
          0.12665643609792707,
          0.18663382618265467,
          0.17698755265601793,
          0.1738638542924381,
          0.17433942148873574,
          0.22603351777577455,
          0.19125263172101523,
          0.20446160392935228,
          0.1840547118986919,
          0.2070087903489857,
          0.18904027056483785,
          0.17162842977353934,
          0.17494947254419432,
          0.13967811617317644,
          0.12666360211582622,
          0.1147409414796158,
          0.09467721700849871,
          0.05918031557392469,
          0.008587401796808055,
          0.0038819297597503604,
          0.0048327577710451765,
          0.016447309695648202,
          0.01589923294367804,
          0.016403761548017818,
          0.04512503190617453,
          0.023350308236945547,
          0.04039743407177029,
          0.040747377548057045,
          0.019657122697071414,
          0.02997346282682897,
          0.02985749631120328,
          0.019945869353718327,
          0.0228288825415146,
          0.04077571439218205,
          0.04273095836438684,
          0.05126802617926834,
          0.04635485694477534,
          0.054463047655322366,
          0.05260931046616063,
          0.03653016451545249,
          0.03740822672494013,
          0.04795954353443271,
          0.047915366489117525,
          0.03957980254975979,
          0.03957743647542482,
          0.05927268407884815,
          0.06875246491206154,
          0.07206601365803518
         ],
         "yaxis": "y3"
        }
       ],
       "layout": {
        "annotations": [
         {
          "font": {
           "size": 16
          },
          "showarrow": false,
          "text": "Training plot",
          "x": 0.225,
          "xanchor": "center",
          "xref": "paper",
          "y": 1,
          "yanchor": "bottom",
          "yref": "paper"
         },
         {
          "font": {
           "size": 16
          },
          "showarrow": false,
          "text": "Testing plot",
          "x": 0.775,
          "xanchor": "center",
          "xref": "paper",
          "y": 1,
          "yanchor": "bottom",
          "yref": "paper"
         },
         {
          "font": {
           "size": 16
          },
          "showarrow": false,
          "text": "Anomaly score by Diffusion Map",
          "x": 0.5,
          "xanchor": "center",
          "xref": "paper",
          "y": 0.375,
          "yanchor": "bottom",
          "yref": "paper"
         }
        ],
        "showlegend": false,
        "template": {
         "data": {
          "bar": [
           {
            "error_x": {
             "color": "#2a3f5f"
            },
            "error_y": {
             "color": "#2a3f5f"
            },
            "marker": {
             "line": {
              "color": "#E5ECF6",
              "width": 0.5
             }
            },
            "type": "bar"
           }
          ],
          "barpolar": [
           {
            "marker": {
             "line": {
              "color": "#E5ECF6",
              "width": 0.5
             }
            },
            "type": "barpolar"
           }
          ],
          "carpet": [
           {
            "aaxis": {
             "endlinecolor": "#2a3f5f",
             "gridcolor": "white",
             "linecolor": "white",
             "minorgridcolor": "white",
             "startlinecolor": "#2a3f5f"
            },
            "baxis": {
             "endlinecolor": "#2a3f5f",
             "gridcolor": "white",
             "linecolor": "white",
             "minorgridcolor": "white",
             "startlinecolor": "#2a3f5f"
            },
            "type": "carpet"
           }
          ],
          "choropleth": [
           {
            "colorbar": {
             "outlinewidth": 0,
             "ticks": ""
            },
            "type": "choropleth"
           }
          ],
          "contour": [
           {
            "colorbar": {
             "outlinewidth": 0,
             "ticks": ""
            },
            "colorscale": [
             [
              0,
              "#0d0887"
             ],
             [
              0.1111111111111111,
              "#46039f"
             ],
             [
              0.2222222222222222,
              "#7201a8"
             ],
             [
              0.3333333333333333,
              "#9c179e"
             ],
             [
              0.4444444444444444,
              "#bd3786"
             ],
             [
              0.5555555555555556,
              "#d8576b"
             ],
             [
              0.6666666666666666,
              "#ed7953"
             ],
             [
              0.7777777777777778,
              "#fb9f3a"
             ],
             [
              0.8888888888888888,
              "#fdca26"
             ],
             [
              1,
              "#f0f921"
             ]
            ],
            "type": "contour"
           }
          ],
          "contourcarpet": [
           {
            "colorbar": {
             "outlinewidth": 0,
             "ticks": ""
            },
            "type": "contourcarpet"
           }
          ],
          "heatmap": [
           {
            "colorbar": {
             "outlinewidth": 0,
             "ticks": ""
            },
            "colorscale": [
             [
              0,
              "#0d0887"
             ],
             [
              0.1111111111111111,
              "#46039f"
             ],
             [
              0.2222222222222222,
              "#7201a8"
             ],
             [
              0.3333333333333333,
              "#9c179e"
             ],
             [
              0.4444444444444444,
              "#bd3786"
             ],
             [
              0.5555555555555556,
              "#d8576b"
             ],
             [
              0.6666666666666666,
              "#ed7953"
             ],
             [
              0.7777777777777778,
              "#fb9f3a"
             ],
             [
              0.8888888888888888,
              "#fdca26"
             ],
             [
              1,
              "#f0f921"
             ]
            ],
            "type": "heatmap"
           }
          ],
          "heatmapgl": [
           {
            "colorbar": {
             "outlinewidth": 0,
             "ticks": ""
            },
            "colorscale": [
             [
              0,
              "#0d0887"
             ],
             [
              0.1111111111111111,
              "#46039f"
             ],
             [
              0.2222222222222222,
              "#7201a8"
             ],
             [
              0.3333333333333333,
              "#9c179e"
             ],
             [
              0.4444444444444444,
              "#bd3786"
             ],
             [
              0.5555555555555556,
              "#d8576b"
             ],
             [
              0.6666666666666666,
              "#ed7953"
             ],
             [
              0.7777777777777778,
              "#fb9f3a"
             ],
             [
              0.8888888888888888,
              "#fdca26"
             ],
             [
              1,
              "#f0f921"
             ]
            ],
            "type": "heatmapgl"
           }
          ],
          "histogram": [
           {
            "marker": {
             "colorbar": {
              "outlinewidth": 0,
              "ticks": ""
             }
            },
            "type": "histogram"
           }
          ],
          "histogram2d": [
           {
            "colorbar": {
             "outlinewidth": 0,
             "ticks": ""
            },
            "colorscale": [
             [
              0,
              "#0d0887"
             ],
             [
              0.1111111111111111,
              "#46039f"
             ],
             [
              0.2222222222222222,
              "#7201a8"
             ],
             [
              0.3333333333333333,
              "#9c179e"
             ],
             [
              0.4444444444444444,
              "#bd3786"
             ],
             [
              0.5555555555555556,
              "#d8576b"
             ],
             [
              0.6666666666666666,
              "#ed7953"
             ],
             [
              0.7777777777777778,
              "#fb9f3a"
             ],
             [
              0.8888888888888888,
              "#fdca26"
             ],
             [
              1,
              "#f0f921"
             ]
            ],
            "type": "histogram2d"
           }
          ],
          "histogram2dcontour": [
           {
            "colorbar": {
             "outlinewidth": 0,
             "ticks": ""
            },
            "colorscale": [
             [
              0,
              "#0d0887"
             ],
             [
              0.1111111111111111,
              "#46039f"
             ],
             [
              0.2222222222222222,
              "#7201a8"
             ],
             [
              0.3333333333333333,
              "#9c179e"
             ],
             [
              0.4444444444444444,
              "#bd3786"
             ],
             [
              0.5555555555555556,
              "#d8576b"
             ],
             [
              0.6666666666666666,
              "#ed7953"
             ],
             [
              0.7777777777777778,
              "#fb9f3a"
             ],
             [
              0.8888888888888888,
              "#fdca26"
             ],
             [
              1,
              "#f0f921"
             ]
            ],
            "type": "histogram2dcontour"
           }
          ],
          "mesh3d": [
           {
            "colorbar": {
             "outlinewidth": 0,
             "ticks": ""
            },
            "type": "mesh3d"
           }
          ],
          "parcoords": [
           {
            "line": {
             "colorbar": {
              "outlinewidth": 0,
              "ticks": ""
             }
            },
            "type": "parcoords"
           }
          ],
          "pie": [
           {
            "automargin": true,
            "type": "pie"
           }
          ],
          "scatter": [
           {
            "marker": {
             "colorbar": {
              "outlinewidth": 0,
              "ticks": ""
             }
            },
            "type": "scatter"
           }
          ],
          "scatter3d": [
           {
            "line": {
             "colorbar": {
              "outlinewidth": 0,
              "ticks": ""
             }
            },
            "marker": {
             "colorbar": {
              "outlinewidth": 0,
              "ticks": ""
             }
            },
            "type": "scatter3d"
           }
          ],
          "scattercarpet": [
           {
            "marker": {
             "colorbar": {
              "outlinewidth": 0,
              "ticks": ""
             }
            },
            "type": "scattercarpet"
           }
          ],
          "scattergeo": [
           {
            "marker": {
             "colorbar": {
              "outlinewidth": 0,
              "ticks": ""
             }
            },
            "type": "scattergeo"
           }
          ],
          "scattergl": [
           {
            "marker": {
             "colorbar": {
              "outlinewidth": 0,
              "ticks": ""
             }
            },
            "type": "scattergl"
           }
          ],
          "scattermapbox": [
           {
            "marker": {
             "colorbar": {
              "outlinewidth": 0,
              "ticks": ""
             }
            },
            "type": "scattermapbox"
           }
          ],
          "scatterpolar": [
           {
            "marker": {
             "colorbar": {
              "outlinewidth": 0,
              "ticks": ""
             }
            },
            "type": "scatterpolar"
           }
          ],
          "scatterpolargl": [
           {
            "marker": {
             "colorbar": {
              "outlinewidth": 0,
              "ticks": ""
             }
            },
            "type": "scatterpolargl"
           }
          ],
          "scatterternary": [
           {
            "marker": {
             "colorbar": {
              "outlinewidth": 0,
              "ticks": ""
             }
            },
            "type": "scatterternary"
           }
          ],
          "surface": [
           {
            "colorbar": {
             "outlinewidth": 0,
             "ticks": ""
            },
            "colorscale": [
             [
              0,
              "#0d0887"
             ],
             [
              0.1111111111111111,
              "#46039f"
             ],
             [
              0.2222222222222222,
              "#7201a8"
             ],
             [
              0.3333333333333333,
              "#9c179e"
             ],
             [
              0.4444444444444444,
              "#bd3786"
             ],
             [
              0.5555555555555556,
              "#d8576b"
             ],
             [
              0.6666666666666666,
              "#ed7953"
             ],
             [
              0.7777777777777778,
              "#fb9f3a"
             ],
             [
              0.8888888888888888,
              "#fdca26"
             ],
             [
              1,
              "#f0f921"
             ]
            ],
            "type": "surface"
           }
          ],
          "table": [
           {
            "cells": {
             "fill": {
              "color": "#EBF0F8"
             },
             "line": {
              "color": "white"
             }
            },
            "header": {
             "fill": {
              "color": "#C8D4E3"
             },
             "line": {
              "color": "white"
             }
            },
            "type": "table"
           }
          ]
         },
         "layout": {
          "annotationdefaults": {
           "arrowcolor": "#2a3f5f",
           "arrowhead": 0,
           "arrowwidth": 1
          },
          "coloraxis": {
           "colorbar": {
            "outlinewidth": 0,
            "ticks": ""
           }
          },
          "colorscale": {
           "diverging": [
            [
             0,
             "#8e0152"
            ],
            [
             0.1,
             "#c51b7d"
            ],
            [
             0.2,
             "#de77ae"
            ],
            [
             0.3,
             "#f1b6da"
            ],
            [
             0.4,
             "#fde0ef"
            ],
            [
             0.5,
             "#f7f7f7"
            ],
            [
             0.6,
             "#e6f5d0"
            ],
            [
             0.7,
             "#b8e186"
            ],
            [
             0.8,
             "#7fbc41"
            ],
            [
             0.9,
             "#4d9221"
            ],
            [
             1,
             "#276419"
            ]
           ],
           "sequential": [
            [
             0,
             "#0d0887"
            ],
            [
             0.1111111111111111,
             "#46039f"
            ],
            [
             0.2222222222222222,
             "#7201a8"
            ],
            [
             0.3333333333333333,
             "#9c179e"
            ],
            [
             0.4444444444444444,
             "#bd3786"
            ],
            [
             0.5555555555555556,
             "#d8576b"
            ],
            [
             0.6666666666666666,
             "#ed7953"
            ],
            [
             0.7777777777777778,
             "#fb9f3a"
            ],
            [
             0.8888888888888888,
             "#fdca26"
            ],
            [
             1,
             "#f0f921"
            ]
           ],
           "sequentialminus": [
            [
             0,
             "#0d0887"
            ],
            [
             0.1111111111111111,
             "#46039f"
            ],
            [
             0.2222222222222222,
             "#7201a8"
            ],
            [
             0.3333333333333333,
             "#9c179e"
            ],
            [
             0.4444444444444444,
             "#bd3786"
            ],
            [
             0.5555555555555556,
             "#d8576b"
            ],
            [
             0.6666666666666666,
             "#ed7953"
            ],
            [
             0.7777777777777778,
             "#fb9f3a"
            ],
            [
             0.8888888888888888,
             "#fdca26"
            ],
            [
             1,
             "#f0f921"
            ]
           ]
          },
          "colorway": [
           "#636efa",
           "#EF553B",
           "#00cc96",
           "#ab63fa",
           "#FFA15A",
           "#19d3f3",
           "#FF6692",
           "#B6E880",
           "#FF97FF",
           "#FECB52"
          ],
          "font": {
           "color": "#2a3f5f"
          },
          "geo": {
           "bgcolor": "white",
           "lakecolor": "white",
           "landcolor": "#E5ECF6",
           "showlakes": true,
           "showland": true,
           "subunitcolor": "white"
          },
          "hoverlabel": {
           "align": "left"
          },
          "hovermode": "closest",
          "mapbox": {
           "style": "light"
          },
          "paper_bgcolor": "white",
          "plot_bgcolor": "#E5ECF6",
          "polar": {
           "angularaxis": {
            "gridcolor": "white",
            "linecolor": "white",
            "ticks": ""
           },
           "bgcolor": "#E5ECF6",
           "radialaxis": {
            "gridcolor": "white",
            "linecolor": "white",
            "ticks": ""
           }
          },
          "scene": {
           "xaxis": {
            "backgroundcolor": "#E5ECF6",
            "gridcolor": "white",
            "gridwidth": 2,
            "linecolor": "white",
            "showbackground": true,
            "ticks": "",
            "zerolinecolor": "white"
           },
           "yaxis": {
            "backgroundcolor": "#E5ECF6",
            "gridcolor": "white",
            "gridwidth": 2,
            "linecolor": "white",
            "showbackground": true,
            "ticks": "",
            "zerolinecolor": "white"
           },
           "zaxis": {
            "backgroundcolor": "#E5ECF6",
            "gridcolor": "white",
            "gridwidth": 2,
            "linecolor": "white",
            "showbackground": true,
            "ticks": "",
            "zerolinecolor": "white"
           }
          },
          "shapedefaults": {
           "line": {
            "color": "#2a3f5f"
           }
          },
          "ternary": {
           "aaxis": {
            "gridcolor": "white",
            "linecolor": "white",
            "ticks": ""
           },
           "baxis": {
            "gridcolor": "white",
            "linecolor": "white",
            "ticks": ""
           },
           "bgcolor": "#E5ECF6",
           "caxis": {
            "gridcolor": "white",
            "linecolor": "white",
            "ticks": ""
           }
          },
          "title": {
           "x": 0.05
          },
          "xaxis": {
           "automargin": true,
           "gridcolor": "white",
           "linecolor": "white",
           "ticks": "",
           "title": {
            "standoff": 15
           },
           "zerolinecolor": "white",
           "zerolinewidth": 2
          },
          "yaxis": {
           "automargin": true,
           "gridcolor": "white",
           "linecolor": "white",
           "ticks": "",
           "title": {
            "standoff": 15
           },
           "zerolinecolor": "white",
           "zerolinewidth": 2
          }
         }
        },
        "xaxis": {
         "anchor": "y",
         "domain": [
          0,
          0.45
         ]
        },
        "xaxis2": {
         "anchor": "y2",
         "domain": [
          0.55,
          1
         ]
        },
        "xaxis3": {
         "anchor": "y3",
         "domain": [
          0,
          1
         ]
        },
        "yaxis": {
         "anchor": "x",
         "domain": [
          0.625,
          1
         ]
        },
        "yaxis2": {
         "anchor": "x2",
         "domain": [
          0.625,
          1
         ]
        },
        "yaxis3": {
         "anchor": "x3",
         "domain": [
          0,
          0.375
         ]
        }
       }
      },
      "text/html": [
       "<div>\n",
       "        \n",
       "        \n",
       "            <div id=\"a80eb06a-eed1-4fd7-9186-b87a114fe395\" class=\"plotly-graph-div\" style=\"height:525px; width:100%;\"></div>\n",
       "            <script type=\"text/javascript\">\n",
       "                require([\"plotly\"], function(Plotly) {\n",
       "                    window.PLOTLYENV=window.PLOTLYENV || {};\n",
       "                    \n",
       "                if (document.getElementById(\"a80eb06a-eed1-4fd7-9186-b87a114fe395\")) {\n",
       "                    Plotly.newPlot(\n",
       "                        'a80eb06a-eed1-4fd7-9186-b87a114fe395',\n",
       "                        [{\"marker\": {\"color\": \"blue\"}, \"name\": \"Training path\", \"type\": \"scatter\", \"x\": [-0.0, -0.2, -0.25, -0.27, -0.8, -1.25, -2.53, -2.69, -2.02, -0.82, 0.45, 1.77, 3.1, 4.4, 5.73, 7.06, 8.38, 9.71, 11.1, 12.4, 13.67, 14.95, 16.23, 17.53, 18.82, 20.1, 21.42, 22.73, 24.02, 25.29, 26.51, 27.5, 26.32, 24.94, 23.55, 22.16, 20.8, 19.45, 18.11, 16.76, 13.95, 12.54, 11.15, 9.76, 8.37, 7.0, 5.63, 4.26, 2.95, 1.56, 0.21, -1.12, -2.39, -3.48, -2.14, -0.74, 0.64, 2.04, 3.48, 4.91, 6.31, 7.7, 9.08, 10.48, 11.88, 13.27, 14.67, 16.05, 17.4, 18.75, 20.11, 21.46, 22.79, 24.13, 25.53, 26.82, 27.7, 26.38, 25.0, 23.58, 22.17, 20.72, 19.26, 17.81, 16.36, 14.92, 13.48, 12.07, 10.67, 9.23, 7.78, 6.34, 4.9, 3.45, 1.99, 0.58, -0.82, -2.2, -2.82, -2.96, -1.69, -1.06, -0.89, 0.11, 0.04, 0.07, -0.11, -0.0, -0.2, -0.25], \"xaxis\": \"x\", \"y\": [0.0, -0.01, 0.32, 1.14, 2.06, 3.3, 3.69, 3.96, 5.03, 5.55, 5.67, 5.71, 5.69, 5.71, 5.77, 5.81, 5.86, 5.99, 6.09, 6.24, 6.43, 6.53, 6.51, 6.47, 6.53, 6.61, 6.68, 6.82, 6.87, 6.93, 6.88, 6.95, 6.94, 6.85, 6.88, 6.8, 6.71, 6.6, 6.55, 6.5, 6.45, 6.37, 6.27, 6.24, 6.27, 6.25, 6.26, 6.25, 6.05, 6.0, 6.01, 5.93, 5.95, 5.72, 5.75, 5.87, 5.85, 5.85, 5.87, 5.95, 6.04, 6.08, 6.1, 6.15, 6.2, 6.23, 6.3, 6.33, 6.4, 6.37, 6.4, 6.28, 6.24, 6.18, 6.32, 6.42, 6.53, 6.52, 6.46, 6.47, 6.51, 6.42, 6.37, 6.33, 6.33, 6.35, 6.41, 6.51, 6.59, 6.5, 6.42, 6.38, 6.24, 6.24, 6.21, 6.21, 6.25, 6.15, 5.3, 4.41, 4.09, 3.29, 2.17, 1.76, 1.74, 1.82, 1.47, 0.0, -0.01, 0.32], \"yaxis\": \"y\"}, {\"marker\": {\"color\": \"red\"}, \"name\": \"Testing Score\", \"type\": \"scatter\", \"x\": [-2.03, -2.97, -2.74, -1.95, -0.67, 0.68, 1.99, 3.33, 4.64, 5.87, 6.6, 6.73, 6.71, 6.72, 6.72, 6.43, 6.1, 6.08, 6.25, 6.6, 6.96, 7.89, 9.19, 10.55, 11.88, 13.24, 14.58, 15.92, 17.27, 18.6, 19.93, 21.23, 22.58, 23.84, 25.0, 25.99, 24.81, 23.43, 22.07, 20.72, 19.32, 17.92, 16.51, 15.12, 13.73, 12.35, 11.01, 9.68, 8.32, 7.0, 5.66, 4.28, 2.95, 1.6, 0.25, -1.09, -2.34, -2.86, -3.31, -2.38, -1.33, -1.23, -1.4, -1.22, -1.0, -1.15, -1.18, -2.36, -3.41, -3.95, -3.95, -3.96, -3.8, -3.78, -3.79, -3.6, -3.16, -2.83, -2.55, -1.85, -0.62, 0.64, 1.98, 3.29, 4.56, 5.78, 6.59, 6.69, 6.45, 6.21, 5.98, 5.82, 6.04, 6.12, 6.21, 6.43, 6.82, 7.58, 8.79, 10.08, 11.46, 12.78, 14.11, 15.43, 16.73, 18.06, 19.38, 20.68, 21.93, 23.18, 24.45, 25.76, 26.75, 25.5, 24.17, 22.88, 21.52, 20.19, 18.82, 17.48, 16.09, 14.74, 13.36, 12.03, 10.68, 9.34, 7.97, 6.61, 5.24, 3.86, 2.46, 1.05, -0.34, -1.67, -2.61, -3.07, -2.29, -1.2, -1.3, -1.42, -1.24, -1.16, -0.99, -1.04, 0.0, -0.06, -0.76, -1.03, -0.98, -2.03], \"xaxis\": \"x2\", \"y\": [3.5, 3.72, 3.86, 4.77, 4.95, 5.02, 5.13, 5.04, 5.04, 4.81, 3.85, 2.58, 1.26, -0.05, -1.35, -2.22, -1.44, -0.17, 1.12, 2.38, 3.69, 4.59, 4.9, 4.88, 4.88, 4.84, 4.71, 4.72, 4.78, 4.8, 4.82, 4.74, 4.81, 4.95, 4.75, 4.83, 4.95, 5.06, 5.16, 5.21, 5.29, 5.22, 5.28, 5.35, 5.42, 5.44, 5.41, 5.44, 5.41, 5.4, 5.58, 5.62, 5.69, 5.77, 5.85, 5.93, 5.98, 5.17, 4.47, 3.73, 3.46, 2.26, 1.17, 0.43, 1.29, 2.34, 3.61, 4.25, 3.46, 2.34, 1.11, -0.07, -0.82, 0.45, 1.79, 3.05, 4.12, 4.4, 4.67, 5.71, 5.92, 5.64, 5.5, 5.36, 5.1, 4.63, 3.79, 2.55, 1.35, 0.12, -1.11, -2.24, -2.0, -0.79, 0.48, 1.73, 2.95, 3.99, 4.48, 4.39, 4.27, 4.08, 4.06, 4.01, 3.7, 3.61, 3.56, 3.35, 3.05, 2.76, 2.51, 2.45, 2.8, 2.84, 2.97, 3.2, 3.4, 3.59, 3.82, 4.0, 4.21, 4.4, 4.52, 4.75, 4.88, 5.03, 5.23, 5.3, 5.62, 5.95, 6.17, 6.44, 6.58, 6.81, 6.31, 5.35, 4.55, 4.21, 3.11, 2.08, 1.66, 1.81, 1.86, 2.05, -0.0, -0.0, 0.75, 1.7, 2.82, 3.5], \"yaxis\": \"y2\"}, {\"marker\": {\"color\": \"blue\"}, \"name\": \"Training Score\", \"type\": \"scatter\", \"x\": [0, 1, 2, 3, 4, 5, 6, 7, 8, 9, 10, 11, 12, 13, 14, 15, 16, 17, 18, 19, 20, 21, 22, 23, 24, 25, 26, 27, 28, 29, 30, 31, 32, 33, 34, 35, 36, 37, 38, 39, 40, 41, 42, 43, 44, 45, 46, 47, 48, 49, 50, 51, 52, 53, 54, 55, 56, 57, 58, 59, 60, 61, 62, 63, 64, 65, 66, 67, 68, 69, 70, 71, 72, 73, 74, 75, 76, 77, 78, 79, 80, 81, 82, 83, 84, 85], \"xaxis\": \"x3\", \"y\": [0.16643241636687733, 0.18212602834067435, 0.2170356057038121, 0.24176881971535713, 0.2092484512603557, 0.23359987514859615, 0.22373006353494082, 0.17932278909063168, 0.20856327373930064, 0.22894076501284516, 0.1828012672583563, 0.17770816723797223, 0.16953045273069187, 0.2129762650759314, 0.15117136859864483, 0.1088888838179421, 0.12233809028086139, 0.2504048253397084, 0.16352566539621327, 0.1959142530478358, 0.13724044363185806, 0.15187373926275113, 0.12708510317507343, 0.3162915241230084, 0.32361495084169134, 0.28680838814182713, 0.30223397760653964, 0.2805208026910417, 0.22325144438139843, 0.26317027910204616, 0.30196140756018297, 0.31411983715906905, 0.37161837346401655, 0.35786314587819257, 0.4123613131352663, 0.39306386219072004, 0.3263422170439559, 0.3382860596186019, 0.42227296498393346, 0.3852634665945186, 0.41014759859525085, 0.44582253699214885, 0.4302004717990497, 0.36365522944990625, 0.3549178367328029, 0.386119222642318, 0.3750802972246696, 0.3505819730072019, 0.3335423194921676, 0.4757223964385729, 0.43576739672983067, 0.41764884607090863, 0.4547476004305121, 0.3898592369757708, 0.34360254699896753, 0.36038980290162764, 0.39621809745037395, 0.3290241944866897, 0.3825628519684261, 0.3360245744106953, 0.29132913062990984, 0.2866651837459992, 0.40914227501291794, 0.36862272767676985, 0.37637165741300854, 0.3124288312091482, 0.3454501953524845, 0.35007641211844337, 0.2620670608119497, 0.30409551135841917, 0.3229543446422204, 0.3338628905339636, 0.31931582730285635, 0.35255417668973815, 0.1308320698577241, 0.09773490962901651, 0.1003707029376388, 0.13420008406674136, 0.11848821637409312, 0.12145036887587142, 0.10720404468710204, 0.11830352158670057, 0.12315610455622383, 0.11793534737351483, 0.11031053519871495, 0.13308250392135232], \"yaxis\": \"y3\"}, {\"marker\": {\"color\": \"red\"}, \"name\": \"Testing Score\", \"type\": \"scatter\", \"x\": [0, 1, 2, 3, 4, 5, 6, 7, 8, 9, 10, 11, 12, 13, 14, 15, 16, 17, 18, 19, 20, 21, 22, 23, 24, 25, 26, 27, 28, 29, 30, 31, 32, 33, 34, 35, 36, 37, 38, 39, 40, 41, 42, 43, 44, 45, 46, 47, 48, 49, 50, 51, 52, 53, 54, 55, 56, 57, 58, 59, 60, 61, 62, 63, 64, 65, 66, 67, 68, 69, 70, 71, 72, 73, 74, 75, 76, 77, 78, 79, 80, 81, 82, 83, 84, 85, 86, 87, 88, 89, 90, 91, 92, 93, 94, 95, 96, 97, 98, 99, 100, 101, 102, 103, 104, 105, 106, 107, 108, 109, 110, 111, 112, 113, 114, 115, 116, 117, 118, 119, 120, 121, 122, 123, 124, 125], \"xaxis\": \"x3\", \"y\": [0.25835371422595316, 0.2890933554080475, 0.31649926892421004, 0.31715071094289377, 0.3455913605489711, 0.3377354272643532, 0.3265023297677171, 0.3345450480016438, 0.33365741630977075, 0.32640506349128856, 0.3273505738196438, 0.29189445644503803, 0.30245391330426996, 0.2668440870717182, 0.20272640208553425, 0.19175803473167485, 0.16031781628873643, 0.2303663249346437, 0.19118138779253196, 0.18653809224822593, 0.23059129427119088, 0.1790174535293336, 0.15362098675438693, 0.16766525597809492, 0.22935946546671515, 0.10492821212564761, 0.14366179543448654, 0.18594637409751744, 0.2519221170816562, 0.19872086906579597, 0.2581268377774771, 0.1843876102936512, 0.1847884837501282, 0.21821103432640832, 0.2674467966653327, 0.26581598113543237, 0.2067359857244456, 0.21858664490919258, 0.24902130279402074, 0.20006549147865407, 0.23282424349688433, 0.21323648195377906, 0.21186994152036856, 0.1914901561648549, 0.16864315993922566, 0.17128641099462838, 0.16265212429065645, 0.19806826231313193, 0.1407228899798996, 0.12775813837098218, 0.13128934091308858, 0.12095397993482218, 0.12485764183137589, 0.09641732049801954, 0.10653732557070478, 0.10094148846839403, 0.10182113250236971, 0.09026504656485423, 0.08473147738679893, 0.059266801554533885, 0.06932892421501347, 0.095529005349046, 0.09712377330594668, 0.11354693458466117, 0.10173626430365812, 0.10444308699226725, 0.09024735401347132, 0.07808400982570204, 0.09904864023673908, 0.11980490296139162, 0.12632722594978021, 0.12420247369673383, 0.17841369998402512, 0.20652993503809167, 0.13833768541933422, 0.1474561511743925, 0.16902865536673733, 0.17200561772459708, 0.12665643609792707, 0.18663382618265467, 0.17698755265601793, 0.1738638542924381, 0.17433942148873574, 0.22603351777577455, 0.19125263172101523, 0.20446160392935228, 0.1840547118986919, 0.2070087903489857, 0.18904027056483785, 0.17162842977353934, 0.17494947254419432, 0.13967811617317644, 0.12666360211582622, 0.1147409414796158, 0.09467721700849871, 0.05918031557392469, 0.008587401796808055, 0.0038819297597503604, 0.0048327577710451765, 0.016447309695648202, 0.01589923294367804, 0.016403761548017818, 0.04512503190617453, 0.023350308236945547, 0.04039743407177029, 0.040747377548057045, 0.019657122697071414, 0.02997346282682897, 0.02985749631120328, 0.019945869353718327, 0.0228288825415146, 0.04077571439218205, 0.04273095836438684, 0.05126802617926834, 0.04635485694477534, 0.054463047655322366, 0.05260931046616063, 0.03653016451545249, 0.03740822672494013, 0.04795954353443271, 0.047915366489117525, 0.03957980254975979, 0.03957743647542482, 0.05927268407884815, 0.06875246491206154, 0.07206601365803518], \"yaxis\": \"y3\"}],\n",
       "                        {\"annotations\": [{\"font\": {\"size\": 16}, \"showarrow\": false, \"text\": \"Training plot\", \"x\": 0.225, \"xanchor\": \"center\", \"xref\": \"paper\", \"y\": 1.0, \"yanchor\": \"bottom\", \"yref\": \"paper\"}, {\"font\": {\"size\": 16}, \"showarrow\": false, \"text\": \"Testing plot\", \"x\": 0.775, \"xanchor\": \"center\", \"xref\": \"paper\", \"y\": 1.0, \"yanchor\": \"bottom\", \"yref\": \"paper\"}, {\"font\": {\"size\": 16}, \"showarrow\": false, \"text\": \"Anomaly score by Diffusion Map\", \"x\": 0.5, \"xanchor\": \"center\", \"xref\": \"paper\", \"y\": 0.375, \"yanchor\": \"bottom\", \"yref\": \"paper\"}], \"showlegend\": false, \"template\": {\"data\": {\"bar\": [{\"error_x\": {\"color\": \"#2a3f5f\"}, \"error_y\": {\"color\": \"#2a3f5f\"}, \"marker\": {\"line\": {\"color\": \"#E5ECF6\", \"width\": 0.5}}, \"type\": \"bar\"}], \"barpolar\": [{\"marker\": {\"line\": {\"color\": \"#E5ECF6\", \"width\": 0.5}}, \"type\": \"barpolar\"}], \"carpet\": [{\"aaxis\": {\"endlinecolor\": \"#2a3f5f\", \"gridcolor\": \"white\", \"linecolor\": \"white\", \"minorgridcolor\": \"white\", \"startlinecolor\": \"#2a3f5f\"}, \"baxis\": {\"endlinecolor\": \"#2a3f5f\", \"gridcolor\": \"white\", \"linecolor\": \"white\", \"minorgridcolor\": \"white\", \"startlinecolor\": \"#2a3f5f\"}, \"type\": \"carpet\"}], \"choropleth\": [{\"colorbar\": {\"outlinewidth\": 0, \"ticks\": \"\"}, \"type\": \"choropleth\"}], \"contour\": [{\"colorbar\": {\"outlinewidth\": 0, \"ticks\": \"\"}, \"colorscale\": [[0.0, \"#0d0887\"], [0.1111111111111111, \"#46039f\"], [0.2222222222222222, \"#7201a8\"], [0.3333333333333333, \"#9c179e\"], [0.4444444444444444, \"#bd3786\"], [0.5555555555555556, \"#d8576b\"], [0.6666666666666666, \"#ed7953\"], [0.7777777777777778, \"#fb9f3a\"], [0.8888888888888888, \"#fdca26\"], [1.0, \"#f0f921\"]], \"type\": \"contour\"}], \"contourcarpet\": [{\"colorbar\": {\"outlinewidth\": 0, \"ticks\": \"\"}, \"type\": \"contourcarpet\"}], \"heatmap\": [{\"colorbar\": {\"outlinewidth\": 0, \"ticks\": \"\"}, \"colorscale\": [[0.0, \"#0d0887\"], [0.1111111111111111, \"#46039f\"], [0.2222222222222222, \"#7201a8\"], [0.3333333333333333, \"#9c179e\"], [0.4444444444444444, \"#bd3786\"], [0.5555555555555556, \"#d8576b\"], [0.6666666666666666, \"#ed7953\"], [0.7777777777777778, \"#fb9f3a\"], [0.8888888888888888, \"#fdca26\"], [1.0, \"#f0f921\"]], \"type\": \"heatmap\"}], \"heatmapgl\": [{\"colorbar\": {\"outlinewidth\": 0, \"ticks\": \"\"}, \"colorscale\": [[0.0, \"#0d0887\"], [0.1111111111111111, \"#46039f\"], [0.2222222222222222, \"#7201a8\"], [0.3333333333333333, \"#9c179e\"], [0.4444444444444444, \"#bd3786\"], [0.5555555555555556, \"#d8576b\"], [0.6666666666666666, \"#ed7953\"], [0.7777777777777778, \"#fb9f3a\"], [0.8888888888888888, \"#fdca26\"], [1.0, \"#f0f921\"]], \"type\": \"heatmapgl\"}], \"histogram\": [{\"marker\": {\"colorbar\": {\"outlinewidth\": 0, \"ticks\": \"\"}}, \"type\": \"histogram\"}], \"histogram2d\": [{\"colorbar\": {\"outlinewidth\": 0, \"ticks\": \"\"}, \"colorscale\": [[0.0, \"#0d0887\"], [0.1111111111111111, \"#46039f\"], [0.2222222222222222, \"#7201a8\"], [0.3333333333333333, \"#9c179e\"], [0.4444444444444444, \"#bd3786\"], [0.5555555555555556, \"#d8576b\"], [0.6666666666666666, \"#ed7953\"], [0.7777777777777778, \"#fb9f3a\"], [0.8888888888888888, \"#fdca26\"], [1.0, \"#f0f921\"]], \"type\": \"histogram2d\"}], \"histogram2dcontour\": [{\"colorbar\": {\"outlinewidth\": 0, \"ticks\": \"\"}, \"colorscale\": [[0.0, \"#0d0887\"], [0.1111111111111111, \"#46039f\"], [0.2222222222222222, \"#7201a8\"], [0.3333333333333333, \"#9c179e\"], [0.4444444444444444, \"#bd3786\"], [0.5555555555555556, \"#d8576b\"], [0.6666666666666666, \"#ed7953\"], [0.7777777777777778, \"#fb9f3a\"], [0.8888888888888888, \"#fdca26\"], [1.0, \"#f0f921\"]], \"type\": \"histogram2dcontour\"}], \"mesh3d\": [{\"colorbar\": {\"outlinewidth\": 0, \"ticks\": \"\"}, \"type\": \"mesh3d\"}], \"parcoords\": [{\"line\": {\"colorbar\": {\"outlinewidth\": 0, \"ticks\": \"\"}}, \"type\": \"parcoords\"}], \"pie\": [{\"automargin\": true, \"type\": \"pie\"}], \"scatter\": [{\"marker\": {\"colorbar\": {\"outlinewidth\": 0, \"ticks\": \"\"}}, \"type\": \"scatter\"}], \"scatter3d\": [{\"line\": {\"colorbar\": {\"outlinewidth\": 0, \"ticks\": \"\"}}, \"marker\": {\"colorbar\": {\"outlinewidth\": 0, \"ticks\": \"\"}}, \"type\": \"scatter3d\"}], \"scattercarpet\": [{\"marker\": {\"colorbar\": {\"outlinewidth\": 0, \"ticks\": \"\"}}, \"type\": \"scattercarpet\"}], \"scattergeo\": [{\"marker\": {\"colorbar\": {\"outlinewidth\": 0, \"ticks\": \"\"}}, \"type\": \"scattergeo\"}], \"scattergl\": [{\"marker\": {\"colorbar\": {\"outlinewidth\": 0, \"ticks\": \"\"}}, \"type\": \"scattergl\"}], \"scattermapbox\": [{\"marker\": {\"colorbar\": {\"outlinewidth\": 0, \"ticks\": \"\"}}, \"type\": \"scattermapbox\"}], \"scatterpolar\": [{\"marker\": {\"colorbar\": {\"outlinewidth\": 0, \"ticks\": \"\"}}, \"type\": \"scatterpolar\"}], \"scatterpolargl\": [{\"marker\": {\"colorbar\": {\"outlinewidth\": 0, \"ticks\": \"\"}}, \"type\": \"scatterpolargl\"}], \"scatterternary\": [{\"marker\": {\"colorbar\": {\"outlinewidth\": 0, \"ticks\": \"\"}}, \"type\": \"scatterternary\"}], \"surface\": [{\"colorbar\": {\"outlinewidth\": 0, \"ticks\": \"\"}, \"colorscale\": [[0.0, \"#0d0887\"], [0.1111111111111111, \"#46039f\"], [0.2222222222222222, \"#7201a8\"], [0.3333333333333333, \"#9c179e\"], [0.4444444444444444, \"#bd3786\"], [0.5555555555555556, \"#d8576b\"], [0.6666666666666666, \"#ed7953\"], [0.7777777777777778, \"#fb9f3a\"], [0.8888888888888888, \"#fdca26\"], [1.0, \"#f0f921\"]], \"type\": \"surface\"}], \"table\": [{\"cells\": {\"fill\": {\"color\": \"#EBF0F8\"}, \"line\": {\"color\": \"white\"}}, \"header\": {\"fill\": {\"color\": \"#C8D4E3\"}, \"line\": {\"color\": \"white\"}}, \"type\": \"table\"}]}, \"layout\": {\"annotationdefaults\": {\"arrowcolor\": \"#2a3f5f\", \"arrowhead\": 0, \"arrowwidth\": 1}, \"coloraxis\": {\"colorbar\": {\"outlinewidth\": 0, \"ticks\": \"\"}}, \"colorscale\": {\"diverging\": [[0, \"#8e0152\"], [0.1, \"#c51b7d\"], [0.2, \"#de77ae\"], [0.3, \"#f1b6da\"], [0.4, \"#fde0ef\"], [0.5, \"#f7f7f7\"], [0.6, \"#e6f5d0\"], [0.7, \"#b8e186\"], [0.8, \"#7fbc41\"], [0.9, \"#4d9221\"], [1, \"#276419\"]], \"sequential\": [[0.0, \"#0d0887\"], [0.1111111111111111, \"#46039f\"], [0.2222222222222222, \"#7201a8\"], [0.3333333333333333, \"#9c179e\"], [0.4444444444444444, \"#bd3786\"], [0.5555555555555556, \"#d8576b\"], [0.6666666666666666, \"#ed7953\"], [0.7777777777777778, \"#fb9f3a\"], [0.8888888888888888, \"#fdca26\"], [1.0, \"#f0f921\"]], \"sequentialminus\": [[0.0, \"#0d0887\"], [0.1111111111111111, \"#46039f\"], [0.2222222222222222, \"#7201a8\"], [0.3333333333333333, \"#9c179e\"], [0.4444444444444444, \"#bd3786\"], [0.5555555555555556, \"#d8576b\"], [0.6666666666666666, \"#ed7953\"], [0.7777777777777778, \"#fb9f3a\"], [0.8888888888888888, \"#fdca26\"], [1.0, \"#f0f921\"]]}, \"colorway\": [\"#636efa\", \"#EF553B\", \"#00cc96\", \"#ab63fa\", \"#FFA15A\", \"#19d3f3\", \"#FF6692\", \"#B6E880\", \"#FF97FF\", \"#FECB52\"], \"font\": {\"color\": \"#2a3f5f\"}, \"geo\": {\"bgcolor\": \"white\", \"lakecolor\": \"white\", \"landcolor\": \"#E5ECF6\", \"showlakes\": true, \"showland\": true, \"subunitcolor\": \"white\"}, \"hoverlabel\": {\"align\": \"left\"}, \"hovermode\": \"closest\", \"mapbox\": {\"style\": \"light\"}, \"paper_bgcolor\": \"white\", \"plot_bgcolor\": \"#E5ECF6\", \"polar\": {\"angularaxis\": {\"gridcolor\": \"white\", \"linecolor\": \"white\", \"ticks\": \"\"}, \"bgcolor\": \"#E5ECF6\", \"radialaxis\": {\"gridcolor\": \"white\", \"linecolor\": \"white\", \"ticks\": \"\"}}, \"scene\": {\"xaxis\": {\"backgroundcolor\": \"#E5ECF6\", \"gridcolor\": \"white\", \"gridwidth\": 2, \"linecolor\": \"white\", \"showbackground\": true, \"ticks\": \"\", \"zerolinecolor\": \"white\"}, \"yaxis\": {\"backgroundcolor\": \"#E5ECF6\", \"gridcolor\": \"white\", \"gridwidth\": 2, \"linecolor\": \"white\", \"showbackground\": true, \"ticks\": \"\", \"zerolinecolor\": \"white\"}, \"zaxis\": {\"backgroundcolor\": \"#E5ECF6\", \"gridcolor\": \"white\", \"gridwidth\": 2, \"linecolor\": \"white\", \"showbackground\": true, \"ticks\": \"\", \"zerolinecolor\": \"white\"}}, \"shapedefaults\": {\"line\": {\"color\": \"#2a3f5f\"}}, \"ternary\": {\"aaxis\": {\"gridcolor\": \"white\", \"linecolor\": \"white\", \"ticks\": \"\"}, \"baxis\": {\"gridcolor\": \"white\", \"linecolor\": \"white\", \"ticks\": \"\"}, \"bgcolor\": \"#E5ECF6\", \"caxis\": {\"gridcolor\": \"white\", \"linecolor\": \"white\", \"ticks\": \"\"}}, \"title\": {\"x\": 0.05}, \"xaxis\": {\"automargin\": true, \"gridcolor\": \"white\", \"linecolor\": \"white\", \"ticks\": \"\", \"title\": {\"standoff\": 15}, \"zerolinecolor\": \"white\", \"zerolinewidth\": 2}, \"yaxis\": {\"automargin\": true, \"gridcolor\": \"white\", \"linecolor\": \"white\", \"ticks\": \"\", \"title\": {\"standoff\": 15}, \"zerolinecolor\": \"white\", \"zerolinewidth\": 2}}}, \"xaxis\": {\"anchor\": \"y\", \"domain\": [0.0, 0.45]}, \"xaxis2\": {\"anchor\": \"y2\", \"domain\": [0.55, 1.0]}, \"xaxis3\": {\"anchor\": \"y3\", \"domain\": [0.0, 1.0]}, \"yaxis\": {\"anchor\": \"x\", \"domain\": [0.625, 1.0]}, \"yaxis2\": {\"anchor\": \"x2\", \"domain\": [0.625, 1.0]}, \"yaxis3\": {\"anchor\": \"x3\", \"domain\": [0.0, 0.375]}},\n",
       "                        {\"responsive\": true}\n",
       "                    ).then(function(){\n",
       "                            \n",
       "var gd = document.getElementById('a80eb06a-eed1-4fd7-9186-b87a114fe395');\n",
       "var x = new MutationObserver(function (mutations, observer) {{\n",
       "        var display = window.getComputedStyle(gd).display;\n",
       "        if (!display || display === 'none') {{\n",
       "            console.log([gd, 'removed!']);\n",
       "            Plotly.purge(gd);\n",
       "            observer.disconnect();\n",
       "        }}\n",
       "}});\n",
       "\n",
       "// Listen for the removal of the full notebook cells\n",
       "var notebookContainer = gd.closest('#notebook-container');\n",
       "if (notebookContainer) {{\n",
       "    x.observe(notebookContainer, {childList: true});\n",
       "}}\n",
       "\n",
       "// Listen for the clearing of the current output cell\n",
       "var outputEl = gd.closest('.output');\n",
       "if (outputEl) {{\n",
       "    x.observe(outputEl, {childList: true});\n",
       "}}\n",
       "\n",
       "                        })\n",
       "                };\n",
       "                });\n",
       "            </script>\n",
       "        </div>"
      ]
     },
     "metadata": {},
     "output_type": "display_data"
    }
   ],
   "source": [
    "result = run_algo(method_name='t-SNE', alpha=0.00770, r=2)\n"
   ]
  },
  {
   "cell_type": "code",
   "execution_count": 14,
   "metadata": {},
   "outputs": [
    {
     "data": {
      "text/html": [
       "<div>\n",
       "<style scoped>\n",
       "    .dataframe tbody tr th:only-of-type {\n",
       "        vertical-align: middle;\n",
       "    }\n",
       "\n",
       "    .dataframe tbody tr th {\n",
       "        vertical-align: top;\n",
       "    }\n",
       "\n",
       "    .dataframe thead th {\n",
       "        text-align: right;\n",
       "    }\n",
       "</style>\n",
       "<table border=\"1\" class=\"dataframe\">\n",
       "  <thead>\n",
       "    <tr style=\"text-align: right;\">\n",
       "      <th></th>\n",
       "      <th>1</th>\n",
       "      <th>2</th>\n",
       "    </tr>\n",
       "  </thead>\n",
       "  <tbody>\n",
       "    <tr>\n",
       "      <th>0</th>\n",
       "      <td>-0.00</td>\n",
       "      <td>0.00</td>\n",
       "    </tr>\n",
       "    <tr>\n",
       "      <th>1</th>\n",
       "      <td>-0.20</td>\n",
       "      <td>-0.01</td>\n",
       "    </tr>\n",
       "    <tr>\n",
       "      <th>2</th>\n",
       "      <td>-0.25</td>\n",
       "      <td>0.32</td>\n",
       "    </tr>\n",
       "    <tr>\n",
       "      <th>3</th>\n",
       "      <td>-0.27</td>\n",
       "      <td>1.14</td>\n",
       "    </tr>\n",
       "    <tr>\n",
       "      <th>4</th>\n",
       "      <td>-0.80</td>\n",
       "      <td>2.06</td>\n",
       "    </tr>\n",
       "  </tbody>\n",
       "</table>\n",
       "</div>"
      ],
      "text/plain": [
       "      1     2\n",
       "0 -0.00  0.00\n",
       "1 -0.20 -0.01\n",
       "2 -0.25  0.32\n",
       "3 -0.27  1.14\n",
       "4 -0.80  2.06"
      ]
     },
     "execution_count": 14,
     "metadata": {},
     "output_type": "execute_result"
    }
   ],
   "source": [
    "df.head()"
   ]
  },
  {
   "cell_type": "code",
   "execution_count": 18,
   "metadata": {},
   "outputs": [],
   "source": [
    "cols = list(result.columns)"
   ]
  },
  {
   "cell_type": "code",
   "execution_count": 21,
   "metadata": {},
   "outputs": [],
   "source": [
    "cols=['Method',\n",
    " 'Training Max Score',\n",
    " 'Testing Max Score',\n",
    " 'Time elapsed']"
   ]
  },
  {
   "cell_type": "code",
   "execution_count": 26,
   "metadata": {},
   "outputs": [
    {
     "data": {
      "text/html": [
       "<div>\n",
       "<style scoped>\n",
       "    .dataframe tbody tr th:only-of-type {\n",
       "        vertical-align: middle;\n",
       "    }\n",
       "\n",
       "    .dataframe tbody tr th {\n",
       "        vertical-align: top;\n",
       "    }\n",
       "\n",
       "    .dataframe thead th {\n",
       "        text-align: right;\n",
       "    }\n",
       "</style>\n",
       "<table border=\"1\" class=\"dataframe\">\n",
       "  <thead>\n",
       "    <tr style=\"text-align: right;\">\n",
       "      <th></th>\n",
       "      <th>Method</th>\n",
       "      <th>Training Max Score</th>\n",
       "      <th>Testing Max Score</th>\n",
       "      <th>Time elapsed</th>\n",
       "    </tr>\n",
       "  </thead>\n",
       "  <tbody>\n",
       "    <tr>\n",
       "      <th>0</th>\n",
       "      <td>LLE</td>\n",
       "      <td>0.614756</td>\n",
       "      <td>0.552981</td>\n",
       "      <td>0.06</td>\n",
       "    </tr>\n",
       "    <tr>\n",
       "      <th>1</th>\n",
       "      <td>LTSA</td>\n",
       "      <td>0.510238</td>\n",
       "      <td>0.479564</td>\n",
       "      <td>0.06</td>\n",
       "    </tr>\n",
       "    <tr>\n",
       "      <th>2</th>\n",
       "      <td>Hessian LLE</td>\n",
       "      <td>0.510238</td>\n",
       "      <td>0.479564</td>\n",
       "      <td>0.04</td>\n",
       "    </tr>\n",
       "    <tr>\n",
       "      <th>3</th>\n",
       "      <td>Modified LLE</td>\n",
       "      <td>0.532398</td>\n",
       "      <td>0.749987</td>\n",
       "      <td>0.04</td>\n",
       "    </tr>\n",
       "    <tr>\n",
       "      <th>4</th>\n",
       "      <td>Isomap</td>\n",
       "      <td>64.949332</td>\n",
       "      <td>66.737926</td>\n",
       "      <td>0.01</td>\n",
       "    </tr>\n",
       "    <tr>\n",
       "      <th>5</th>\n",
       "      <td>MDS</td>\n",
       "      <td>47.296974</td>\n",
       "      <td>23.926399</td>\n",
       "      <td>0.02</td>\n",
       "    </tr>\n",
       "    <tr>\n",
       "      <th>6</th>\n",
       "      <td>SE</td>\n",
       "      <td>0.198066</td>\n",
       "      <td>0.216395</td>\n",
       "      <td>0.02</td>\n",
       "    </tr>\n",
       "    <tr>\n",
       "      <th>7</th>\n",
       "      <td>t-SNE</td>\n",
       "      <td>22.362803</td>\n",
       "      <td>74.484177</td>\n",
       "      <td>0.54</td>\n",
       "    </tr>\n",
       "  </tbody>\n",
       "</table>\n",
       "</div>"
      ],
      "text/plain": [
       "         Method  Training Max Score  Testing Max Score  Time elapsed\n",
       "0           LLE            0.614756           0.552981          0.06\n",
       "1          LTSA            0.510238           0.479564          0.06\n",
       "2   Hessian LLE            0.510238           0.479564          0.04\n",
       "3  Modified LLE            0.532398           0.749987          0.04\n",
       "4        Isomap           64.949332          66.737926          0.01\n",
       "5           MDS           47.296974          23.926399          0.02\n",
       "6            SE            0.198066           0.216395          0.02\n",
       "7         t-SNE           22.362803          74.484177          0.54"
      ]
     },
     "execution_count": 26,
     "metadata": {},
     "output_type": "execute_result"
    }
   ],
   "source": [
    "result[cols]"
   ]
  },
  {
   "cell_type": "markdown",
   "metadata": {},
   "source": [
    "### Diffusion Map based reduction"
   ]
  },
  {
   "cell_type": "code",
   "execution_count": null,
   "metadata": {},
   "outputs": [],
   "source": [
    "from sklearn.metrics.pairwise import euclidean_distances\n"
   ]
  },
  {
   "cell_type": "code",
   "execution_count": null,
   "metadata": {},
   "outputs": [],
   "source": [
    "df = pd.read_csv('steps_train.txt', skiprows=1,nrows=110, header=None, usecols=[1,2])\n",
    "df_test = pd.read_csv('steps_test.txt', skiprows=1, nrows=150, header=None, usecols=[1,2])"
   ]
  },
  {
   "cell_type": "code",
   "execution_count": null,
   "metadata": {},
   "outputs": [],
   "source": [
    "def find_diffusion_matrix(X=None, alpha=0.15):\n",
    "    \"\"\"Function to find the diffusion matrix P\n",
    "        \n",
    "        >Parameters:\n",
    "        alpha - to be used for gaussian kernel function\n",
    "        X - feature matrix as numpy array\n",
    "        \n",
    "        >Returns:\n",
    "        P_prime, P, Di, K, D_left\n",
    "    \"\"\"\n",
    "    alpha = alpha\n",
    "        \n",
    "    dists = euclidean_distances(X, X)\n",
    "    K = np.exp(-dists**2 / alpha)\n",
    "    \n",
    "    r = np.sum(K, axis=0)\n",
    "    Di = np.diag(1/r)\n",
    "    P = np.matmul(Di, K)\n",
    "    \n",
    "    D_right = np.diag((r)**0.5)\n",
    "    D_left = np.diag((r)**-0.5)\n",
    "    P_prime = np.matmul(D_right, np.matmul(P,D_left))\n",
    "\n",
    "    return P_prime, P, Di, K, D_left"
   ]
  },
  {
   "cell_type": "code",
   "execution_count": null,
   "metadata": {},
   "outputs": [],
   "source": [
    "def find_diffusion_map(P_prime, D_left, n_eign=3):\n",
    "    \"\"\"Function to find the diffusion coordinates in the diffusion space\n",
    "        \n",
    "        >Parameters:\n",
    "        P_prime - Symmetrized version of Diffusion Matrix P\n",
    "        D_left - D^{-1/2} matrix\n",
    "        n_eigen - Number of eigen vectors to return. This is effectively \n",
    "                    the dimensions to keep in diffusion space.\n",
    "        \n",
    "        >Returns:\n",
    "        Diffusion_map as np.array object\n",
    "    \"\"\"   \n",
    "    n_eign = n_eign\n",
    "    \n",
    "    eigenValues, eigenVectors = eigh(P_prime)\n",
    "    idx = eigenValues.argsort()[::-1]\n",
    "    eigenValues = eigenValues[idx]\n",
    "    eigenVectors = eigenVectors[:,idx]\n",
    "    \n",
    "    diffusion_coordinates = np.matmul(D_left, eigenVectors)\n",
    "    \n",
    "    return diffusion_coordinates[:,:n_eign]"
   ]
  },
  {
   "cell_type": "code",
   "execution_count": null,
   "metadata": {},
   "outputs": [],
   "source": [
    "P_prime, P, Di, K, D_left = find_diffusion_matrix(df, alpha=0.15)"
   ]
  },
  {
   "cell_type": "code",
   "execution_count": null,
   "metadata": {},
   "outputs": [],
   "source": [
    "X_train_data = find_diffusion_map(P_prime, D_left, n_eign=1)"
   ]
  },
  {
   "cell_type": "code",
   "execution_count": null,
   "metadata": {},
   "outputs": [],
   "source": [
    "N = len(X_train_data)\n",
    "# L = (N)//2\n",
    "L =  50\n",
    "X_train = hankel(X_train_data[:L],X_train_data[L-1:]) # Creating trajectory matrix\n",
    "eigenValues, eigenVectors = eigh(np.matmul(X_train, X_train.T))\n",
    "idx = eigenValues.argsort()[::-1]\n",
    "eigenValues = eigenValues[idx]\n",
    "eigenVectors = eigenVectors[:,idx]\n",
    "# Sree plot\n",
    "\n",
    "eigen_data = go.Scatter(x=list(range(len(eigenValues[0:10]))), y=eigenValues[0:10])\n",
    "eigen_layout = go.Layout(title='ScreePlot', title_x=0.5, xaxis_title=\"No of eigen values\", yaxis_title=\"eigen value\",)\n",
    "fig = go.Figure(data=[eigen_data], layout=eigen_layout)\n",
    "fig.show()"
   ]
  },
  {
   "cell_type": "code",
   "execution_count": null,
   "metadata": {},
   "outputs": [],
   "source": [
    "# Setting statistical dimension based on screeplot above\n",
    "r = 1\n",
    "# Performing singular value decomposition\n",
    "U, Sigma, V = np.linalg.svd(X_train)\n",
    "V = V.T\n",
    "X_elem = np.array( [Sigma[i] * np.outer(U[:,i], V[:,i]) for i in range(0,r)] )\n",
    "X_train_extracted = X_elem.sum(axis=0)\n",
    "U = eigenVectors[:,:r] # r as statistical dimension\n",
    "UT = U.T\n",
    "pX = np.matmul(UT,X_train_extracted)\n",
    "centroid = np.mean(pX, axis=1)\n",
    "centroid = centroid[:,np.newaxis]\n",
    "pXt = np.matmul(UT,X_train)\n",
    "dt_matrix = centroid - pXt\n",
    "dt_scores = np.linalg.norm(dt_matrix, axis=0, ord=2)\n",
    "\n",
    "# Testing positional Deviation\n",
    "# X_test = method.fit_transform(df_test)\n",
    "P_prime, P, Di, K, D_left = find_diffusion_matrix(df_test, alpha=0.15)\n",
    "X_test = find_diffusion_map(P_prime, D_left, n_eign=1)\n",
    "\n",
    "Xj = hankel(X_test[:L],X_test[L-1:])\n",
    "pXj = np.matmul(UT, Xj)\n",
    "dj_matrix = centroid - pXj\n",
    "dj_scores = np.linalg.norm(dj_matrix, axis=0, ord=2)\n",
    "dj_scores = np.asarray(dj_scores)"
   ]
  },
  {
   "cell_type": "code",
   "execution_count": null,
   "metadata": {},
   "outputs": [],
   "source": [
    "fig = make_subplots(rows=2, cols=2,specs=[[{}, {}], [{\"colspan\": 2}, None]],\n",
    "    subplot_titles=(\"Training plot\",\"Testing plot\", \"Anomaly score by Diffusion Map\"))\n",
    "fig.add_trace(go.Scatter(x=df[1], y=df[2], marker_color='blue',\n",
    "                        name=\"Training path\"),row=1, col=1)\n",
    "fig.add_trace(go.Scatter(x=df_test[1], y=df_test[2], marker_color='red',\n",
    "                        name=\"Testing Score\"),row=1, col=2)\n",
    "fig.add_trace(go.Scatter(x=list(range(len(dt_scores))), y=dt_scores[:], marker_color='blue',\n",
    "                         name=\"Training Score\"), row=2, col=1)\n",
    "fig.add_trace(go.Scatter(x=list(range(len(dj_scores))), y=dj_scores, marker_color='red',\n",
    "                        name=\"Testing Score\"), row=2, col=1)\n",
    "fig.update_layout(showlegend=False)\n"
   ]
  },
  {
   "cell_type": "code",
   "execution_count": null,
   "metadata": {},
   "outputs": [],
   "source": []
  }
 ],
 "metadata": {
  "kernelspec": {
   "display_name": "Python 3",
   "language": "python",
   "name": "python3"
  },
  "language_info": {
   "codemirror_mode": {
    "name": "ipython",
    "version": 3
   },
   "file_extension": ".py",
   "mimetype": "text/x-python",
   "name": "python",
   "nbconvert_exporter": "python",
   "pygments_lexer": "ipython3",
   "version": "3.7.5"
  }
 },
 "nbformat": 4,
 "nbformat_minor": 2
}
