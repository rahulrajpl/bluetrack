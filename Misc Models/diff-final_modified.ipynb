{
 "cells": [
  {
   "cell_type": "code",
   "execution_count": null,
   "metadata": {},
   "outputs": [],
   "source": [
    "!python3 -m pip install xlrd --user"
   ]
  },
  {
   "cell_type": "code",
   "execution_count": null,
   "metadata": {},
   "outputs": [],
   "source": []
  },
  {
   "cell_type": "code",
   "execution_count": 3,
   "metadata": {},
   "outputs": [],
   "source": [
    "from sklearn.metrics.pairwise import euclidean_distances\n",
    "from scipy.linalg import eigh\n",
    "from matplotlib.colors import ListedColormap\n",
    "import matplotlib.pyplot as plt\n",
    "import numpy as np\n",
    "import pandas as pd\n",
    "import plotly\n",
    "import plotly.graph_objs as go\n",
    "import warnings\n",
    "warnings.filterwarnings('ignore')\n"
   ]
  },
  {
   "cell_type": "code",
   "execution_count": 25,
   "metadata": {},
   "outputs": [],
   "source": [
    "from sklearn.preprocessing import StandardScaler\n",
    "from sklearn.model_selection import train_test_split\n",
    "from sklearn.manifold import SpectralEmbedding, TSNE\n",
    "from sklearn.cluster import KMeans"
   ]
  },
  {
   "cell_type": "markdown",
   "metadata": {},
   "source": [
    "## Data Preperation"
   ]
  },
  {
   "cell_type": "code",
   "execution_count": 5,
   "metadata": {},
   "outputs": [],
   "source": [
    "cols = ['Word Count',\n",
    " 'Length',\n",
    " 'Syllable Count',\n",
    " 'Vowel Count',\n",
    " 'Consonent Count',\n",
    " 'Created Since',\n",
    " 'Updated Since',\n",
    " 'Registrar',\n",
    " 'TTL',\n",
    " 'IANA',\n",
    " 'Unique Letter',\n",
    " 'Hyphen',\n",
    " 'Underscore', 'Type']"
   ]
  },
  {
   "cell_type": "code",
   "execution_count": 6,
   "metadata": {},
   "outputs": [],
   "source": [
    "feature_cols = ['Word Count',\n",
    " 'Length',\n",
    " 'Syllable Count',\n",
    " 'Vowel Count',\n",
    " 'Consonent Count',\n",
    " 'Created Since',\n",
    " 'Updated Since',\n",
    " 'Registrar',\n",
    " 'TTL',\n",
    " 'IANA',\n",
    " 'Unique Letter',\n",
    " 'Hyphen',\n",
    " 'Underscore']"
   ]
  },
  {
   "cell_type": "code",
   "execution_count": 7,
   "metadata": {},
   "outputs": [],
   "source": [
    "df = pd.read_csv('DiffusionMapTrainig.csv', usecols=cols)"
   ]
  },
  {
   "cell_type": "code",
   "execution_count": 8,
   "metadata": {},
   "outputs": [],
   "source": [
    "X_small, X_large = train_test_split(df, stratify=df['Type'], test_size=0.8)"
   ]
  },
  {
   "cell_type": "code",
   "execution_count": 9,
   "metadata": {},
   "outputs": [
    {
     "data": {
      "text/plain": [
       "(4800, 14)"
      ]
     },
     "execution_count": 9,
     "metadata": {},
     "output_type": "execute_result"
    }
   ],
   "source": [
    "X_small.shape"
   ]
  },
  {
   "cell_type": "code",
   "execution_count": 10,
   "metadata": {},
   "outputs": [],
   "source": [
    "X = X_small[feature_cols]"
   ]
  },
  {
   "cell_type": "code",
   "execution_count": 11,
   "metadata": {},
   "outputs": [
    {
     "data": {
      "text/html": [
       "<div>\n",
       "<style scoped>\n",
       "    .dataframe tbody tr th:only-of-type {\n",
       "        vertical-align: middle;\n",
       "    }\n",
       "\n",
       "    .dataframe tbody tr th {\n",
       "        vertical-align: top;\n",
       "    }\n",
       "\n",
       "    .dataframe thead th {\n",
       "        text-align: right;\n",
       "    }\n",
       "</style>\n",
       "<table border=\"1\" class=\"dataframe\">\n",
       "  <thead>\n",
       "    <tr style=\"text-align: right;\">\n",
       "      <th></th>\n",
       "      <th>Word Count</th>\n",
       "      <th>Length</th>\n",
       "      <th>Syllable Count</th>\n",
       "      <th>Vowel Count</th>\n",
       "      <th>Consonent Count</th>\n",
       "      <th>Created Since</th>\n",
       "      <th>Updated Since</th>\n",
       "      <th>Registrar</th>\n",
       "      <th>TTL</th>\n",
       "      <th>IANA</th>\n",
       "      <th>Unique Letter</th>\n",
       "      <th>Hyphen</th>\n",
       "      <th>Underscore</th>\n",
       "    </tr>\n",
       "  </thead>\n",
       "  <tbody>\n",
       "    <tr>\n",
       "      <th>6149</th>\n",
       "      <td>3</td>\n",
       "      <td>20</td>\n",
       "      <td>5</td>\n",
       "      <td>7</td>\n",
       "      <td>9</td>\n",
       "      <td>2188</td>\n",
       "      <td>2185</td>\n",
       "      <td>0</td>\n",
       "      <td>0</td>\n",
       "      <td>0</td>\n",
       "      <td>12</td>\n",
       "      <td>0</td>\n",
       "      <td>0</td>\n",
       "    </tr>\n",
       "    <tr>\n",
       "      <th>20436</th>\n",
       "      <td>2</td>\n",
       "      <td>18</td>\n",
       "      <td>4</td>\n",
       "      <td>4</td>\n",
       "      <td>8</td>\n",
       "      <td>375</td>\n",
       "      <td>372</td>\n",
       "      <td>0</td>\n",
       "      <td>0</td>\n",
       "      <td>0</td>\n",
       "      <td>8</td>\n",
       "      <td>0</td>\n",
       "      <td>0</td>\n",
       "    </tr>\n",
       "    <tr>\n",
       "      <th>16779</th>\n",
       "      <td>3</td>\n",
       "      <td>29</td>\n",
       "      <td>9</td>\n",
       "      <td>9</td>\n",
       "      <td>15</td>\n",
       "      <td>564</td>\n",
       "      <td>552</td>\n",
       "      <td>0</td>\n",
       "      <td>0</td>\n",
       "      <td>0</td>\n",
       "      <td>14</td>\n",
       "      <td>0</td>\n",
       "      <td>0</td>\n",
       "    </tr>\n",
       "    <tr>\n",
       "      <th>6890</th>\n",
       "      <td>3</td>\n",
       "      <td>23</td>\n",
       "      <td>7</td>\n",
       "      <td>8</td>\n",
       "      <td>11</td>\n",
       "      <td>2200</td>\n",
       "      <td>2197</td>\n",
       "      <td>0</td>\n",
       "      <td>0</td>\n",
       "      <td>0</td>\n",
       "      <td>13</td>\n",
       "      <td>0</td>\n",
       "      <td>0</td>\n",
       "    </tr>\n",
       "    <tr>\n",
       "      <th>10461</th>\n",
       "      <td>2</td>\n",
       "      <td>17</td>\n",
       "      <td>4</td>\n",
       "      <td>4</td>\n",
       "      <td>9</td>\n",
       "      <td>2150</td>\n",
       "      <td>2147</td>\n",
       "      <td>0</td>\n",
       "      <td>0</td>\n",
       "      <td>0</td>\n",
       "      <td>10</td>\n",
       "      <td>0</td>\n",
       "      <td>0</td>\n",
       "    </tr>\n",
       "  </tbody>\n",
       "</table>\n",
       "</div>"
      ],
      "text/plain": [
       "       Word Count  Length  Syllable Count  Vowel Count  Consonent Count  \\\n",
       "6149            3      20               5            7                9   \n",
       "20436           2      18               4            4                8   \n",
       "16779           3      29               9            9               15   \n",
       "6890            3      23               7            8               11   \n",
       "10461           2      17               4            4                9   \n",
       "\n",
       "       Created Since  Updated Since  Registrar  TTL  IANA  Unique Letter  \\\n",
       "6149            2188           2185          0    0     0             12   \n",
       "20436            375            372          0    0     0              8   \n",
       "16779            564            552          0    0     0             14   \n",
       "6890            2200           2197          0    0     0             13   \n",
       "10461           2150           2147          0    0     0             10   \n",
       "\n",
       "       Hyphen  Underscore  \n",
       "6149        0           0  \n",
       "20436       0           0  \n",
       "16779       0           0  \n",
       "6890        0           0  \n",
       "10461       0           0  "
      ]
     },
     "execution_count": 11,
     "metadata": {},
     "output_type": "execute_result"
    }
   ],
   "source": [
    "X.head()"
   ]
  },
  {
   "cell_type": "code",
   "execution_count": 12,
   "metadata": {},
   "outputs": [],
   "source": [
    "y = pd.DataFrame(X_small['Type'])"
   ]
  },
  {
   "cell_type": "code",
   "execution_count": 13,
   "metadata": {},
   "outputs": [
    {
     "data": {
      "text/html": [
       "<div>\n",
       "<style scoped>\n",
       "    .dataframe tbody tr th:only-of-type {\n",
       "        vertical-align: middle;\n",
       "    }\n",
       "\n",
       "    .dataframe tbody tr th {\n",
       "        vertical-align: top;\n",
       "    }\n",
       "\n",
       "    .dataframe thead th {\n",
       "        text-align: right;\n",
       "    }\n",
       "</style>\n",
       "<table border=\"1\" class=\"dataframe\">\n",
       "  <thead>\n",
       "    <tr style=\"text-align: right;\">\n",
       "      <th></th>\n",
       "      <th>Type</th>\n",
       "    </tr>\n",
       "  </thead>\n",
       "  <tbody>\n",
       "    <tr>\n",
       "      <th>6149</th>\n",
       "      <td>matsnu</td>\n",
       "    </tr>\n",
       "    <tr>\n",
       "      <th>20436</th>\n",
       "      <td>suppobox</td>\n",
       "    </tr>\n",
       "    <tr>\n",
       "      <th>16779</th>\n",
       "      <td>gozi</td>\n",
       "    </tr>\n",
       "    <tr>\n",
       "      <th>6890</th>\n",
       "      <td>matsnu</td>\n",
       "    </tr>\n",
       "    <tr>\n",
       "      <th>10461</th>\n",
       "      <td>matsnu</td>\n",
       "    </tr>\n",
       "  </tbody>\n",
       "</table>\n",
       "</div>"
      ],
      "text/plain": [
       "           Type\n",
       "6149     matsnu\n",
       "20436  suppobox\n",
       "16779      gozi\n",
       "6890     matsnu\n",
       "10461    matsnu"
      ]
     },
     "execution_count": 13,
     "metadata": {},
     "output_type": "execute_result"
    }
   ],
   "source": [
    "y.head()"
   ]
  },
  {
   "cell_type": "code",
   "execution_count": 14,
   "metadata": {},
   "outputs": [],
   "source": [
    "scalar = StandardScaler().fit(X)"
   ]
  },
  {
   "cell_type": "code",
   "execution_count": 15,
   "metadata": {
    "scrolled": true
   },
   "outputs": [],
   "source": [
    "X_transformed = pd.DataFrame(scalar.transform(X))"
   ]
  },
  {
   "cell_type": "code",
   "execution_count": 16,
   "metadata": {},
   "outputs": [],
   "source": [
    "classes = ['benign', 'matsnu', 'gozi', 'suppobox']"
   ]
  },
  {
   "cell_type": "markdown",
   "metadata": {},
   "source": [
    "## Finding Diffusion Matrix"
   ]
  },
  {
   "cell_type": "code",
   "execution_count": 17,
   "metadata": {},
   "outputs": [],
   "source": [
    "def find_diffusion_matrix(X=None, alpha=0.15):\n",
    "    \"\"\"Function to find the diffusion matrix P\n",
    "        \n",
    "        >Parameters:\n",
    "        alpha - to be used for gaussian kernel function\n",
    "        X - feature matrix as numpy array\n",
    "        \n",
    "        >Returns:\n",
    "        P_prime, P, Di, K, D_left\n",
    "    \"\"\"\n",
    "    alpha = alpha\n",
    "        \n",
    "    dists = euclidean_distances(X, X)\n",
    "    K = np.exp(-dists**2 / alpha)\n",
    "    \n",
    "    r = np.sum(K, axis=0)\n",
    "    Di = np.diag(1/r)\n",
    "    P = np.matmul(Di, K)\n",
    "    \n",
    "    D_right = np.diag((r)**0.5)\n",
    "    D_left = np.diag((r)**-0.5)\n",
    "    P_prime = np.matmul(D_right, np.matmul(P,D_left))\n",
    "\n",
    "    return P_prime, P, Di, K, D_left"
   ]
  },
  {
   "cell_type": "markdown",
   "metadata": {},
   "source": [
    "## Finding Diffusion Map"
   ]
  },
  {
   "cell_type": "code",
   "execution_count": 18,
   "metadata": {},
   "outputs": [],
   "source": [
    "def find_diffusion_map(P_prime, D_left, n_eign=3):\n",
    "    \"\"\"Function to find the diffusion coordinates in the diffusion space\n",
    "        \n",
    "        >Parameters:\n",
    "        P_prime - Symmetrized version of Diffusion Matrix P\n",
    "        D_left - D^{-1/2} matrix\n",
    "        n_eigen - Number of eigen vectors to return. This is effectively \n",
    "                    the dimensions to keep in diffusion space.\n",
    "        \n",
    "        >Returns:\n",
    "        Diffusion_map as np.array object\n",
    "    \"\"\"   \n",
    "    n_eign = n_eign\n",
    "    \n",
    "    eigenValues, eigenVectors = eigh(P_prime)\n",
    "    idx = eigenValues.argsort()[::-1]\n",
    "    eigenValues = eigenValues[idx]\n",
    "    eigenVectors = eigenVectors[:,idx]\n",
    "    \n",
    "    diffusion_coordinates = np.matmul(D_left, eigenVectors)\n",
    "    \n",
    "    return diffusion_coordinates[:,:n_eign]"
   ]
  },
  {
   "cell_type": "markdown",
   "metadata": {},
   "source": [
    "## From mapalign diffusion map library of sklearn developer"
   ]
  },
  {
   "cell_type": "code",
   "execution_count": 19,
   "metadata": {},
   "outputs": [],
   "source": [
    "from mapalign.embed import DiffusionMapEmbedding"
   ]
  },
  {
   "cell_type": "code",
   "execution_count": 26,
   "metadata": {},
   "outputs": [],
   "source": [
    "def compare_methods(X, title, cluster=None):\n",
    "    f, axarr = plt.subplots(2, 7, sharex=True, sharey=True, figsize=(15, 5))\n",
    "    for idx, t in enumerate([0, 0.1, 1, 10, 100, 250, 1000]):\n",
    "        de = DiffusionMapEmbedding(alpha=0.5, diffusion_time=t, affinity='markov',\n",
    "                                   n_components=10).fit_transform(X.copy())\n",
    "        ed = (de - de[0, :])\n",
    "        ed = np.sqrt(np.sum(ed * ed , axis=1))\n",
    "        ed = ed/max(ed)\n",
    "        if cluster is not None:\n",
    "            ed = KMeans(n_clusters=cluster).fit(de).labels_\n",
    "        plt.axes(axarr[0][idx])\n",
    "        if cluster is not None: \n",
    "            plt.scatter(X[:, 0], X[:, 1], c=ed, cmap=plt.cm.Set1, linewidths=0)\n",
    "        else:\n",
    "            plt.scatter(X[:, 0], X[:, 1], c=ed, cmap=plt.cm.Spectral, linewidths=0)\n",
    "        plt.axis('tight')\n",
    "        if cluster is None:\n",
    "            plt.colorbar()\n",
    "        plt.title('t={:g}'.format(t))\n",
    "    for idx, c in enumerate([2, 3, 4, 5, 10, 20, 50]):\n",
    "        se = SpectralEmbedding(n_components=c).fit_transform(X.copy())\n",
    "        ed = (se - se[0, :])\n",
    "        ed = np.sqrt(np.sum(ed * ed , axis=1))\n",
    "        ed = ed/max(ed)\n",
    "        if cluster is not None:\n",
    "            ed = KMeans(n_clusters=cluster).fit(ed[:, None]).labels_\n",
    "        plt.axes(axarr[1][idx])\n",
    "        if cluster is not None: \n",
    "            plt.scatter(X[:, 0], X[:, 1], c=ed, cmap=plt.cm.Set1, linewidths=0)\n",
    "        else:\n",
    "            plt.scatter(X[:, 0], X[:, 1], c=ed, cmap=plt.cm.Spectral, linewidths=0)\n",
    "        plt.axis('tight')\n",
    "        if cluster is None:\n",
    "            plt.colorbar()\n",
    "        plt.title('num_c=%d' % (c))\n",
    "    ph = plt.suptitle(title)"
   ]
  },
  {
   "cell_type": "code",
   "execution_count": 27,
   "metadata": {},
   "outputs": [
    {
     "data": {
      "image/png": "[encoded data removed]",
      "text/plain": [
       "<Figure size 1080x360 with 28 Axes>"
      ]
     },
     "metadata": {
      "needs_background": "light"
     },
     "output_type": "display_data"
    }
   ],
   "source": [
    "compare_methods(np.asarray(X_transformed), 'Comparison')"
   ]
  },
  {
   "cell_type": "code",
   "execution_count": null,
   "metadata": {},
   "outputs": [],
   "source": [
    "P_prime, P, Di, K, D_left = find_diffusion_matrix(X_transformed, alpha=0.15)"
   ]
  },
  {
   "cell_type": "code",
   "execution_count": null,
   "metadata": {},
   "outputs": [],
   "source": [
    "d_map = find_diffusion_map(P_prime, D_left, n_eign=3)"
   ]
  },
  {
   "cell_type": "code",
   "execution_count": null,
   "metadata": {},
   "outputs": [],
   "source": [
    "y.values"
   ]
  },
  {
   "cell_type": "markdown",
   "metadata": {},
   "source": [
    "## 3D Plotting"
   ]
  },
  {
   "cell_type": "code",
   "execution_count": null,
   "metadata": {},
   "outputs": [],
   "source": [
    "def plotly3D(d_map, y, title='Interactive Cluster Shapes in 3D'):\n",
    "    # Visualize cluster shapes in 3d.\n",
    "    \n",
    "    def rename_columns(df, prefix='x'):\n",
    "        df = df.copy()\n",
    "        df.columns = [prefix + str(i) for i in df.columns]\n",
    "        return df\n",
    "    \n",
    "    X, Y = d_map, y\n",
    "    df = pd.DataFrame(X)\n",
    "    # rename X columns\n",
    "    df = rename_columns(df)\n",
    "    # and add the Y\n",
    "    df['y'] = Y\n",
    "    print(df.head())\n",
    "    # ['benign', 'matsnu', 'gozi', 'suppobox']\n",
    "    cluster1=df.loc[df['y'] == 'benign']\n",
    "    cluster2=df.loc[df['y'] == 'matsnu']\n",
    "    cluster3=df.loc[df['y'] == 'gozi']\n",
    "    cluster4=df.loc[df['y'] == 'suppobox']\n",
    "    \n",
    "    # cluster3=df.loc[df['y'] == 2]\n",
    "\n",
    "    scatter1 = dict(mode = \"markers\",name = \"benign\",type = \"scatter3d\",    \n",
    "        x = cluster1.as_matrix()[:,0], y = cluster1.as_matrix()[:,1], z = cluster1.as_matrix()[:,2],\n",
    "        marker = dict( size=2, color='red')\n",
    "    )\n",
    "    scatter2 = dict(mode = \"markers\",name = \"matsnu\",type = \"scatter3d\",    \n",
    "        x = cluster2.as_matrix()[:,0], y = cluster2.as_matrix()[:,1], z = cluster2.as_matrix()[:,2],\n",
    "        marker = dict( size=2, color='blue')\n",
    "    )\n",
    "\n",
    "    scatter3 = dict(mode = \"markers\",name = \"gozi\",type = \"scatter3d\",    \n",
    "        x = cluster3.as_matrix()[:,0], y = cluster3.as_matrix()[:,1], z = cluster3.as_matrix()[:,2],\n",
    "        marker = dict( size=2, color='green')\n",
    "    )\n",
    "    scatter4 = dict(mode = \"markers\",name = \"suppobox\",type = \"scatter3d\",    \n",
    "        x = cluster4.as_matrix()[:,0], y = cluster4.as_matrix()[:,1], z = cluster4.as_matrix()[:,2],\n",
    "        marker = dict( size=2, color='black')\n",
    "    )\n",
    "    layout = dict(\n",
    "        title = title,\n",
    "        scene = dict(\n",
    "            xaxis = dict( zeroline=True ),\n",
    "            yaxis = dict( zeroline=True ),\n",
    "            zaxis = dict( zeroline=True )),\n",
    "        height=700)\n",
    "    fig = dict( data=[scatter1, scatter2, scatter3, scatter4], layout=layout )\n",
    "    plotly.offline.iplot(fig, filename='mesh3d_sample')\n",
    "#     plotly.iplot(fig)"
   ]
  },
  {
   "cell_type": "code",
   "execution_count": null,
   "metadata": {},
   "outputs": [],
   "source": [
    "plotly3D(d_map, y.values, title='Cluster in 3D with alpha=0.15')"
   ]
  },
  {
   "cell_type": "code",
   "execution_count": null,
   "metadata": {},
   "outputs": [],
   "source": [
    "def rename_columns(df, prefix='x'):\n",
    "        df = df.copy()\n",
    "        df.columns = [prefix + str(i) for i in df.columns]\n",
    "        return df\n",
    "    \n",
    "X, Y = d_map, y.values\n",
    "df = pd.DataFrame(X)\n",
    "# rename X columns\n",
    "df = rename_columns(df)\n",
    "# and add the Y\n",
    "df['y'] = Y"
   ]
  },
  {
   "cell_type": "code",
   "execution_count": null,
   "metadata": {},
   "outputs": [],
   "source": [
    "df[df['y']=='gozi'].count()"
   ]
  },
  {
   "cell_type": "markdown",
   "metadata": {},
   "source": [
    "## Plotting with different values of alpha"
   ]
  },
  {
   "cell_type": "code",
   "execution_count": null,
   "metadata": {},
   "outputs": [],
   "source": [
    "P_prime, P, Di, K, D_left = find_diffusion_matrix(X, alpha=0.5)"
   ]
  },
  {
   "cell_type": "code",
   "execution_count": null,
   "metadata": {},
   "outputs": [],
   "source": [
    "d_map = find_diffusion_map(P_prime, D_left, n_eign=3)"
   ]
  },
  {
   "cell_type": "code",
   "execution_count": null,
   "metadata": {},
   "outputs": [],
   "source": [
    "plotly3D(d_map, y, title='Cluster in 3D with alpha=0.5')"
   ]
  },
  {
   "cell_type": "code",
   "execution_count": null,
   "metadata": {},
   "outputs": [],
   "source": [
    "P_prime, P, Di, K, D_left = find_diffusion_matrix(X, alpha=0.005)\n",
    "d_map = find_diffusion_map(P_prime, D_left, n_eign=3)\n",
    "plotly3D(d_map, y, title='Cluster in 3D with alpha=0.005')"
   ]
  },
  {
   "cell_type": "code",
   "execution_count": null,
   "metadata": {},
   "outputs": [],
   "source": [
    "P_prime, P, Di, K, D_left = find_diffusion_matrix(X, alpha=0.001)\n",
    "d_map = find_diffusion_map(P_prime, D_left, n_eign=3)\n",
    "plotly3D(d_map, y, title='Cluster in 3D with alpha=0.001')"
   ]
  },
  {
   "cell_type": "code",
   "execution_count": null,
   "metadata": {},
   "outputs": [],
   "source": [
    "P_prime, P, Di, K, D_left = find_diffusion_matrix(X, alpha=0.002)\n",
    "d_map = find_diffusion_map(P_prime, D_left, n_eign=3)\n",
    "plotly3D(d_map, y, title='Cluster in 3D with alpha=0.002')"
   ]
  },
  {
   "cell_type": "code",
   "execution_count": null,
   "metadata": {},
   "outputs": [],
   "source": [
    "P_prime, P, Di, K, D_left = find_diffusion_matrix(X, alpha=0.8)\n",
    "d_map = find_diffusion_map(P_prime, D_left, n_eign=3)\n",
    "plotly3D(d_map, y, title='Cluster in 3D with alpha=0.8')"
   ]
  },
  {
   "cell_type": "code",
   "execution_count": null,
   "metadata": {},
   "outputs": [],
   "source": [
    "P_prime, P, Di, K, D_left = find_diffusion_matrix(X, alpha=1)\n",
    "d_map = find_diffusion_map(P_prime, D_left, n_eign=3)\n",
    "plotly3D(d_map, y, title='Cluster in 3D with alpha=1')"
   ]
  },
  {
   "cell_type": "markdown",
   "metadata": {},
   "source": [
    "## Plotting Unsupervised clustering using KMeans "
   ]
  },
  {
   "cell_type": "code",
   "execution_count": null,
   "metadata": {},
   "outputs": [],
   "source": [
    "from sklearn.cluster import KMeans\n",
    "km = KMeans(\n",
    "    n_clusters=4, init='random',\n",
    "    n_init=10, max_iter=300, \n",
    "    tol=1e-04, random_state=0\n",
    ")"
   ]
  },
  {
   "cell_type": "code",
   "execution_count": null,
   "metadata": {},
   "outputs": [],
   "source": [
    "#Kmeans prediction on 3D diffusion space \n",
    "y_km = km.fit_predict(d_map)"
   ]
  },
  {
   "cell_type": "code",
   "execution_count": null,
   "metadata": {},
   "outputs": [],
   "source": [
    "y_km"
   ]
  },
  {
   "cell_type": "code",
   "execution_count": null,
   "metadata": {},
   "outputs": [],
   "source": [
    "def plotly3D_Kmeans(d_map, y, title='Interactive Cluster Shapes in 3D'):\n",
    "    # Visualize cluster shapes in 3d.\n",
    "    \n",
    "    def rename_columns(df, prefix='x'):\n",
    "        df = df.copy()\n",
    "        df.columns = [prefix + str(i) for i in df.columns]\n",
    "        return df\n",
    "    \n",
    "    X, Y = d_map, y\n",
    "    df = pd.DataFrame(X)\n",
    "    # rename X columns\n",
    "    df = rename_columns(df)\n",
    "    # and add the Y\n",
    "    df['y'] = Y\n",
    "    print(df.head())\n",
    "    # ['benign', 'matsnu', 'gozi', 'suppobox']\n",
    "    cluster1=df.loc[df['y'] == 0]\n",
    "    cluster2=df.loc[df['y'] == 1]\n",
    "    cluster3=df.loc[df['y'] == 2]\n",
    "    cluster4=df.loc[df['y'] == 3]\n",
    "    \n",
    "    # cluster3=df.loc[df['y'] == 2]\n",
    "\n",
    "    scatter1 = dict(mode = \"markers\",name = \"benign\",type = \"scatter3d\",    \n",
    "        x = cluster1.as_matrix()[:,0], y = cluster1.as_matrix()[:,1], z = cluster1.as_matrix()[:,2],\n",
    "        marker = dict( size=2, color='red')\n",
    "    )\n",
    "    scatter2 = dict(mode = \"markers\",name = \"matsnu\",type = \"scatter3d\",    \n",
    "        x = cluster2.as_matrix()[:,0], y = cluster2.as_matrix()[:,1], z = cluster2.as_matrix()[:,2],\n",
    "        marker = dict( size=2, color='blue')\n",
    "    )\n",
    "\n",
    "    scatter3 = dict(mode = \"markers\",name = \"gozi\",type = \"scatter3d\",    \n",
    "        x = cluster3.as_matrix()[:,0], y = cluster3.as_matrix()[:,1], z = cluster3.as_matrix()[:,2],\n",
    "        marker = dict( size=2, color='green')\n",
    "    )\n",
    "    scatter4 = dict(mode = \"markers\",name = \"suppobox\",type = \"scatter3d\",    \n",
    "        x = cluster4.as_matrix()[:,0], y = cluster4.as_matrix()[:,1], z = cluster4.as_matrix()[:,2],\n",
    "        marker = dict( size=2, color='black')\n",
    "    )\n",
    "    layout = dict(\n",
    "        title = title,\n",
    "        scene = dict(\n",
    "            xaxis = dict( zeroline=True ),\n",
    "            yaxis = dict( zeroline=True ),\n",
    "            zaxis = dict( zeroline=True )),\n",
    "        height=700)\n",
    "    fig = dict( data=[scatter1, scatter2, scatter3, scatter4], layout=layout )\n",
    "    plotly.offline.iplot(fig, filename='mesh3d_sample')"
   ]
  },
  {
   "cell_type": "code",
   "execution_count": null,
   "metadata": {
    "scrolled": false
   },
   "outputs": [],
   "source": [
    "plotly3D_Kmeans(d_map, y_km, title='KMeans Cluster in 3D')"
   ]
  },
  {
   "cell_type": "code",
   "execution_count": null,
   "metadata": {},
   "outputs": [],
   "source": [
    "def rename_columns(df, prefix='x'):\n",
    "        df = df.copy()\n",
    "        df.columns = [prefix + str(i) for i in df.columns]\n",
    "        return df\n",
    "    \n",
    "X, Y = d_map, y_km\n",
    "df = pd.DataFrame(X)\n",
    "# rename X columns\n",
    "df = rename_columns(df)\n",
    "# and add the Y\n",
    "df['y'] = Y"
   ]
  },
  {
   "cell_type": "code",
   "execution_count": null,
   "metadata": {},
   "outputs": [],
   "source": [
    "df"
   ]
  },
  {
   "cell_type": "markdown",
   "metadata": {},
   "source": [
    "## Comparison with Diffusion Map library for Python"
   ]
  },
  {
   "cell_type": "code",
   "execution_count": null,
   "metadata": {},
   "outputs": [],
   "source": [
    "from pydiffmap import diffusion_map as dm\n",
    "mydmap = dm.DiffusionMap.from_sklearn(n_evecs = 3, alpha = 1)\n",
    "X_mapped = mydmap.fit_transform(X)\n",
    "# Note:\n",
    "\n",
    "# To compare the result, we have plotted the ground truth with a library called 'pyDiffMap' available for python. \n",
    "# However, the plots were slightly different. Documentation of the library revealed that implementation is based \n",
    "# on different approach as given in the link https://pydiffmap.readthedocs.io/en/master/theory.html.\n",
    "\n",
    "plotly3D(X_mapped, y, title='Clusters obtained using Diffmap Library')"
   ]
  },
  {
   "cell_type": "markdown",
   "metadata": {},
   "source": [
    "## Clustering in higher dimensions"
   ]
  },
  {
   "cell_type": "code",
   "execution_count": null,
   "metadata": {},
   "outputs": [],
   "source": [
    "# List to store the clustering results of each experiment\n",
    "results = []\n",
    "col_names = ['Case', 'Dimensions', 'alpha', 'Count(0)', 'Count(1)', 'Cluster1', 'Cluster2']"
   ]
  },
  {
   "cell_type": "code",
   "execution_count": null,
   "metadata": {},
   "outputs": [],
   "source": [
    "## Clustering dataset in Original Space\n",
    "\n",
    "y_pred = km.fit_predict(X)\n",
    "results.append(['KMeans in original space', \n",
    "                132,\n",
    "                'NA',\n",
    "               list(y.ravel()).count(0),\n",
    "               list(y.ravel()).count(1),\n",
    "               list(y_pred).count(0),\n",
    "               list(y_pred).count(1)]\n",
    "              )"
   ]
  },
  {
   "cell_type": "code",
   "execution_count": null,
   "metadata": {},
   "outputs": [],
   "source": [
    "## Clustering dataset in diffusion space but without dimensionality reduction\n",
    "\n",
    "P_prime, P, Di, K, D_left = find_diffusion_matrix(X, alpha=1)\n",
    "d_map = find_diffusion_map(P_prime, D_left, n_eign=132)\n",
    "y_d_map = km.fit_predict(d_map)\n",
    "results.append(['KMeans in diffusion space',\n",
    "                132,\n",
    "                1,\n",
    "               list(y.ravel()).count(0),\n",
    "               list(y.ravel()).count(1),\n",
    "               list(y_d_map).count(0),\n",
    "               list(y_d_map).count(1)]\n",
    "              )"
   ]
  },
  {
   "cell_type": "code",
   "execution_count": null,
   "metadata": {},
   "outputs": [],
   "source": [
    "## Clustering dataset in diffusion space but without dimensionality reduction\n",
    "\n",
    "P_prime, P, Di, K, D_left = find_diffusion_matrix(X, alpha=1)\n",
    "d_map = find_diffusion_map(P_prime, D_left, n_eign=3)\n",
    "y_d_map = km.fit_predict(d_map)\n",
    "results.append(['KMeans in diffusion space',\n",
    "                3,\n",
    "                1,\n",
    "               list(y.ravel()).count(0),\n",
    "               list(y.ravel()).count(1),\n",
    "               list(y_d_map).count(0),\n",
    "               list(y_d_map).count(1)]\n",
    "              )"
   ]
  },
  {
   "cell_type": "code",
   "execution_count": null,
   "metadata": {},
   "outputs": [],
   "source": [
    "pd.DataFrame(results, columns=col_names)"
   ]
  },
  {
   "cell_type": "code",
   "execution_count": null,
   "metadata": {},
   "outputs": [],
   "source": []
  }
 ],
 "metadata": {
  "kernelspec": {
   "display_name": "Python 3",
   "language": "python",
   "name": "python3"
  },
  "language_info": {
   "codemirror_mode": {
    "name": "ipython",
    "version": 3
   },
   "file_extension": ".py",
   "mimetype": "text/x-python",
   "name": "python",
   "nbconvert_exporter": "python",
   "pygments_lexer": "ipython3",
   "version": "3.7.5"
  }
 },
 "nbformat": 4,
 "nbformat_minor": 2
}
