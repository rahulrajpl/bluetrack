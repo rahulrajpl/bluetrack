{
 "cells": [
  {
   "cell_type": "code",
   "execution_count": 1,
   "metadata": {},
   "outputs": [
    {
     "name": "stdout",
     "output_type": "stream",
     "text": [
      "'Arima Model.ipynb'\r\n",
      " daily-min-temperatures.csv\r\n",
      "'LSTM Model.ipynb'\r\n",
      " shampoo.csv\r\n",
      "'Simple Approach.ipynb'\r\n",
      " steps_stationarity.txt\r\n",
      " steps_test.txt\r\n",
      " steps_train.txt\r\n",
      " TimeSeries.ipynb\r\n",
      "'TimeSeries-with all manifold learning methods from scikit learn.ipynb'\r\n",
      "'TimeSeries-with PCA.ipynb'\r\n",
      "'Vector AutoRegression.ipynb'\r\n",
      "'Vector AutoRegression (VAR).ipynb'\r\n"
     ]
    }
   ],
   "source": [
    "!ls"
   ]
  },
  {
   "cell_type": "code",
   "execution_count": 39,
   "metadata": {},
   "outputs": [],
   "source": [
    "import pandas as pd\n",
    "import numpy as np\n",
    "from functools import partial\n",
    "from collections import OrderedDict\n",
    "from sklearn import manifold\n",
    "import matplotlib.pyplot as plt\n",
    "import numpy as np\n",
    "import pandas as pd\n",
    "from scipy.linalg import hankel, eigh\n",
    "import plotly.graph_objects as go\n",
    "from plotly.subplots import make_subplots"
   ]
  },
  {
   "cell_type": "code",
   "execution_count": 3,
   "metadata": {},
   "outputs": [],
   "source": [
    "n_neighbors = 10\n",
    "n_components = 1\n",
    "# Set-up manifold methods\n",
    "LLE = partial(manifold.LocallyLinearEmbedding,\n",
    "              n_neighbors, n_components, eigen_solver='auto')\n",
    "\n",
    "methods = OrderedDict()\n",
    "methods['LLE'] = LLE(method='standard')\n",
    "methods['LTSA'] = LLE(method='ltsa')\n",
    "methods['Hessian LLE'] = LLE(method='hessian')\n",
    "methods['Modified LLE'] = LLE(method='modified')\n",
    "methods['Isomap'] = manifold.Isomap(n_neighbors, n_components)\n",
    "methods['MDS'] = manifold.MDS(n_components, max_iter=100, n_init=1)\n",
    "methods['SE'] = manifold.SpectralEmbedding(n_components=n_components,\n",
    "                                           n_neighbors=n_neighbors)\n",
    "methods['t-SNE'] = manifold.TSNE(n_components=n_components, init='pca',\n",
    "                                 random_state=0)"
   ]
  },
  {
   "cell_type": "code",
   "execution_count": 4,
   "metadata": {},
   "outputs": [
    {
     "data": {
      "text/plain": [
       "odict_keys(['LLE', 'LTSA', 'Hessian LLE', 'Modified LLE', 'Isomap', 'MDS', 'SE', 't-SNE'])"
      ]
     },
     "execution_count": 4,
     "metadata": {},
     "output_type": "execute_result"
    }
   ],
   "source": [
    "methods.keys()"
   ]
  },
  {
   "cell_type": "code",
   "execution_count": 56,
   "metadata": {},
   "outputs": [],
   "source": [
    "df = pd.read_csv('steps_train.txt', skiprows=1,nrows=110, header=None, usecols=[1,2])\n",
    "df_test = pd.read_csv('steps_test.txt', skiprows=1, nrows=150, header=None, usecols=[1,2])"
   ]
  },
  {
   "cell_type": "markdown",
   "metadata": {},
   "source": [
    "### Locally Linear Embedding\n",
    "Locally linear embedding (LLE) seeks a lower-dimensional projection of the data which preserves distances within local neighborhoods. It can be thought of as a series of local Principal Component Analyses which are globally compared to find the best non-linear embedding."
   ]
  },
  {
   "cell_type": "code",
   "execution_count": 5,
   "metadata": {},
   "outputs": [],
   "source": [
    "method = methods['LLE']"
   ]
  },
  {
   "cell_type": "code",
   "execution_count": 8,
   "metadata": {},
   "outputs": [],
   "source": [
    "X_train_data = method.fit_transform(df)"
   ]
  },
  {
   "cell_type": "code",
   "execution_count": 9,
   "metadata": {},
   "outputs": [],
   "source": [
    "N = len(X_train_data)\n",
    "L = (N)//2\n",
    "# trajectory_matrix = hankel(series[:L], hankel(series[L-1:]))\n",
    "# d2 = hankel(df[2][:L], hankel(df[2][L-1:]))"
   ]
  },
  {
   "cell_type": "code",
   "execution_count": 10,
   "metadata": {},
   "outputs": [],
   "source": [
    "X_train = hankel(X_train_data[:L],X_train_data[L-1:]) # Creating trajectory matrix"
   ]
  },
  {
   "cell_type": "code",
   "execution_count": 11,
   "metadata": {},
   "outputs": [
    {
     "data": {
      "text/plain": [
       "(55, 56)"
      ]
     },
     "execution_count": 11,
     "metadata": {},
     "output_type": "execute_result"
    }
   ],
   "source": [
    "X_train.shape"
   ]
  },
  {
   "cell_type": "code",
   "execution_count": 12,
   "metadata": {},
   "outputs": [
    {
     "data": {
      "text/plain": [
       "Text(0.5, 0, 'Cardinal Number of Eigen value ->')"
      ]
     },
     "execution_count": 12,
     "metadata": {},
     "output_type": "execute_result"
    },
    {
     "data": {
      "image/png": "[encoded data removed]",
      "text/plain": [
       "<Figure size 720x576 with 1 Axes>"
      ]
     },
     "metadata": {
      "needs_background": "light"
     },
     "output_type": "display_data"
    }
   ],
   "source": [
    "eigenValues, eigenVectors = eigh(np.matmul(X_train, X_train.T))\n",
    "idx = eigenValues.argsort()[::-1]\n",
    "eigenValues = eigenValues[idx]\n",
    "eigenVectors = eigenVectors[:,idx]\n",
    "# Sree plot\n",
    "fig, ax = plt.subplots(1, 1, figsize=(10,8))\n",
    "ax.plot(eigenValues[0:10])\n",
    "ax.set_title(\"Screeplot\")\n",
    "ax.set_ylabel(\"Eigen value ->\")\n",
    "ax.set_xlabel(\"Cardinal Number of Eigen value ->\")"
   ]
  },
  {
   "cell_type": "code",
   "execution_count": 27,
   "metadata": {},
   "outputs": [],
   "source": [
    "# From the above scree plot, it is seen that the first eigen value is more \n",
    "# significant and the other eigen values are close to zero. Thus we choose r as 1\n",
    "# and then we compute the U for projection and centroid in the signal subspace\n",
    "r = 1\n",
    "# Extracted Training signals\n",
    "U, Sigma, V = np.linalg.svd(X_train)\n",
    "V = V.T\n",
    "# d = np.linalg.matrix_rank(X_train)\n",
    "X_elem = np.array( [Sigma[i] * np.outer(U[:,i], V[:,i]) for i in range(0,r)] )\n",
    "X_train_extracted = X_elem.sum(axis=0)\n",
    "X_train_extracted_data = np.asarray(list(X_train_extracted[:,0]) + list(X_train_extracted[:,-1]))\n",
    "\n",
    "U = eigenVectors[:,:r] # r as statistical dimension\n",
    "UT = U.T\n",
    "pX = np.matmul(UT,X_train_extracted)\n",
    "centroid = np.mean(pX, axis=1)\n",
    "centroid = centroid[:,np.newaxis]"
   ]
  },
  {
   "cell_type": "code",
   "execution_count": 29,
   "metadata": {},
   "outputs": [
    {
     "data": {
      "text/plain": [
       "0.7258421068234178"
      ]
     },
     "execution_count": 29,
     "metadata": {},
     "output_type": "execute_result"
    }
   ],
   "source": [
    "# Calculating the departure threshold in signal subspace using centroid and UT\n",
    "\n",
    "# #For training phase\n",
    "# Xtrg = hankel(X_train_data[:L], X_train_data[L-1:])\n",
    "# pXtrg = np.matmul(UT,Xtrg)\n",
    "# dtrg_matrix = centroid - pXtrg\n",
    "# dtrg_scores = np.linalg.norm(dtrg_matrix, axis=0, ord=2)\n",
    "\n",
    "# For Validation phase and threshold calculation\n",
    "# Xt = hankel(X_train_data[:L],X_train_data[L-1:])\n",
    "pXt = np.matmul(UT,X_train)\n",
    "dt_matrix = centroid - pXt\n",
    "dt_scores = np.linalg.norm(dt_matrix, axis=0, ord=2)\n",
    "# d_scores = np.asarray([np.matmul(d_matrix[:,i].T, d_matrix[:,i]) for i in range(d_matrix.shape[1])])\n",
    "np.max(dt_scores)\n"
   ]
  },
  {
   "cell_type": "code",
   "execution_count": 35,
   "metadata": {},
   "outputs": [
    {
     "data": {
      "text/plain": [
       "0.3973796898518659"
      ]
     },
     "execution_count": 35,
     "metadata": {},
     "output_type": "execute_result"
    }
   ],
   "source": [
    "# Testing positional Deviation\n",
    "X_test = method.fit_transform(df_test)\n",
    "Xj = hankel(X_test[:L],X_test[L-1:])\n",
    "pXj = np.matmul(UT, Xj)\n",
    "dj_matrix = centroid - pXj\n",
    "dj_scores = np.linalg.norm(dj_matrix, axis=0, ord=2)\n",
    "# dj_scores = [np.matmul(dj_matrix[:,i].T, dj_matrix[:,i]) for i in range(dj_matrix.shape[1])]\n",
    "dj_scores = np.asarray(dj_scores)\n",
    "np.max(dj_scores)"
   ]
  },
  {
   "cell_type": "code",
   "execution_count": 55,
   "metadata": {},
   "outputs": [
    {
     "data": {
      "application/vnd.plotly.v1+json": {
       "config": {
        "plotlyServerURL": "https://plot.ly"
       },
       "data": [
        {
         "marker": {
          "color": "blue"
         },
         "name": "Training path",
         "type": "scatter",
         "x": [
          0,
          -0.2,
          -0.25,
          -0.27,
          -0.8,
          -1.25,
          -2.53,
          -2.69,
          -2.02,
          -0.82,
          0.45,
          1.77,
          3.1,
          4.4,
          5.73,
          7.06,
          8.38,
          9.71,
          11.1,
          12.4,
          13.67,
          14.95,
          16.23,
          17.53,
          18.82,
          20.1,
          21.42,
          22.73,
          24.02,
          25.29,
          26.51,
          27.5,
          26.32,
          24.94,
          23.55,
          22.16,
          20.8,
          19.45,
          18.11,
          16.76,
          13.95,
          12.54,
          11.15,
          9.76,
          8.37,
          7,
          5.63,
          4.26,
          2.95,
          1.56,
          0.21,
          -1.12,
          -2.39,
          -3.48,
          -2.14,
          -0.74,
          0.64,
          2.04,
          3.48,
          4.91,
          6.31,
          7.7,
          9.08,
          10.48,
          11.88,
          13.27,
          14.67,
          16.05,
          17.4,
          18.75,
          20.11,
          21.46,
          22.79,
          24.13,
          25.53,
          26.82,
          27.7,
          26.38,
          25,
          23.58,
          22.17,
          20.72,
          19.26,
          17.81,
          16.36,
          14.92,
          13.48,
          12.07,
          10.67,
          9.23,
          7.78,
          6.34,
          4.9,
          3.45,
          1.99,
          0.58,
          -0.82,
          -2.2,
          -2.82,
          -2.96,
          -1.69,
          -1.06,
          -0.89,
          0.11,
          0.04,
          0.07,
          -0.11,
          0,
          -0.2,
          -0.25
         ],
         "xaxis": "x",
         "y": [
          0,
          -0.01,
          0.32,
          1.14,
          2.06,
          3.3,
          3.69,
          3.96,
          5.03,
          5.55,
          5.67,
          5.71,
          5.69,
          5.71,
          5.77,
          5.81,
          5.86,
          5.99,
          6.09,
          6.24,
          6.43,
          6.53,
          6.51,
          6.47,
          6.53,
          6.61,
          6.68,
          6.82,
          6.87,
          6.93,
          6.88,
          6.95,
          6.94,
          6.85,
          6.88,
          6.8,
          6.71,
          6.6,
          6.55,
          6.5,
          6.45,
          6.37,
          6.27,
          6.24,
          6.27,
          6.25,
          6.26,
          6.25,
          6.05,
          6,
          6.01,
          5.93,
          5.95,
          5.72,
          5.75,
          5.87,
          5.85,
          5.85,
          5.87,
          5.95,
          6.04,
          6.08,
          6.1,
          6.15,
          6.2,
          6.23,
          6.3,
          6.33,
          6.4,
          6.37,
          6.4,
          6.28,
          6.24,
          6.18,
          6.32,
          6.42,
          6.53,
          6.52,
          6.46,
          6.47,
          6.51,
          6.42,
          6.37,
          6.33,
          6.33,
          6.35,
          6.41,
          6.51,
          6.59,
          6.5,
          6.42,
          6.38,
          6.24,
          6.24,
          6.21,
          6.21,
          6.25,
          6.15,
          5.3,
          4.41,
          4.09,
          3.29,
          2.17,
          1.76,
          1.74,
          1.82,
          1.47,
          0,
          -0.01,
          0.32
         ],
         "yaxis": "y"
        },
        {
         "marker": {
          "color": "red"
         },
         "name": "Testing Score",
         "type": "scatter",
         "x": [
          -2.03,
          -2.97,
          -2.74,
          -1.95,
          -0.67,
          0.68,
          1.99,
          3.33,
          4.64,
          5.87,
          6.6,
          6.73,
          6.71,
          6.72,
          6.72,
          6.43,
          6.1,
          6.08,
          6.25,
          6.6,
          6.96,
          7.89,
          9.19,
          10.55,
          11.88,
          13.24,
          14.58,
          15.92,
          17.27,
          18.6,
          19.93,
          21.23,
          22.58,
          23.84,
          25,
          25.99,
          24.81,
          23.43,
          22.07,
          20.72,
          19.32,
          17.92,
          16.51,
          15.12,
          13.73,
          12.35,
          11.01,
          9.68,
          8.32,
          7,
          5.66,
          4.28,
          2.95,
          1.6,
          0.25,
          -1.09,
          -2.34,
          -2.86,
          -3.31,
          -2.38,
          -1.33,
          -1.23,
          -1.4,
          -1.22,
          -1,
          -1.15,
          -1.18,
          -2.36,
          -3.41,
          -3.95,
          -3.95,
          -3.96,
          -3.8,
          -3.78,
          -3.79,
          -3.6,
          -3.16,
          -2.83,
          -2.55,
          -1.85,
          -0.62,
          0.64,
          1.98,
          3.29,
          4.56,
          5.78,
          6.59,
          6.69,
          6.45,
          6.21,
          5.98,
          5.82,
          6.04,
          6.12,
          6.21,
          6.43,
          6.82,
          7.58,
          8.79,
          10.08,
          11.46,
          12.78,
          14.11,
          15.43,
          16.73,
          18.06,
          19.38,
          20.68,
          21.93,
          23.18,
          24.45,
          25.76,
          26.75,
          25.5,
          24.17,
          22.88,
          21.52,
          20.19,
          18.82,
          17.48,
          16.09,
          14.74,
          13.36,
          12.03,
          10.68,
          9.34,
          7.97,
          6.61,
          5.24,
          3.86,
          2.46,
          1.05,
          -0.34,
          -1.67,
          -2.61,
          -3.07,
          -2.29,
          -1.2,
          -1.3,
          -1.42,
          -1.24,
          -1.16,
          -0.99,
          -1.04,
          0,
          -0.06,
          -0.76,
          -1.03,
          -0.98,
          -2.03
         ],
         "xaxis": "x2",
         "y": [
          3.5,
          3.72,
          3.86,
          4.77,
          4.95,
          5.02,
          5.13,
          5.04,
          5.04,
          4.81,
          3.85,
          2.58,
          1.26,
          -0.05,
          -1.35,
          -2.22,
          -1.44,
          -0.17,
          1.12,
          2.38,
          3.69,
          4.59,
          4.9,
          4.88,
          4.88,
          4.84,
          4.71,
          4.72,
          4.78,
          4.8,
          4.82,
          4.74,
          4.81,
          4.95,
          4.75,
          4.83,
          4.95,
          5.06,
          5.16,
          5.21,
          5.29,
          5.22,
          5.28,
          5.35,
          5.42,
          5.44,
          5.41,
          5.44,
          5.41,
          5.4,
          5.58,
          5.62,
          5.69,
          5.77,
          5.85,
          5.93,
          5.98,
          5.17,
          4.47,
          3.73,
          3.46,
          2.26,
          1.17,
          0.43,
          1.29,
          2.34,
          3.61,
          4.25,
          3.46,
          2.34,
          1.11,
          -0.07,
          -0.82,
          0.45,
          1.79,
          3.05,
          4.12,
          4.4,
          4.67,
          5.71,
          5.92,
          5.64,
          5.5,
          5.36,
          5.1,
          4.63,
          3.79,
          2.55,
          1.35,
          0.12,
          -1.11,
          -2.24,
          -2,
          -0.79,
          0.48,
          1.73,
          2.95,
          3.99,
          4.48,
          4.39,
          4.27,
          4.08,
          4.06,
          4.01,
          3.7,
          3.61,
          3.56,
          3.35,
          3.05,
          2.76,
          2.51,
          2.45,
          2.8,
          2.84,
          2.97,
          3.2,
          3.4,
          3.59,
          3.82,
          4,
          4.21,
          4.4,
          4.52,
          4.75,
          4.88,
          5.03,
          5.23,
          5.3,
          5.62,
          5.95,
          6.17,
          6.44,
          6.58,
          6.81,
          6.31,
          5.35,
          4.55,
          4.21,
          3.11,
          2.08,
          1.66,
          1.81,
          1.86,
          2.05,
          0,
          0,
          0.75,
          1.7,
          2.82,
          3.5
         ],
         "yaxis": "y2"
        },
        {
         "marker": {
          "color": "blue"
         },
         "name": "Training Score",
         "type": "scatter",
         "x": [
          0,
          1,
          2,
          3,
          4,
          5,
          6,
          7,
          8,
          9,
          10,
          11,
          12,
          13,
          14,
          15,
          16,
          17,
          18,
          19,
          20,
          21,
          22,
          23,
          24,
          25,
          26,
          27,
          28,
          29,
          30,
          31,
          32,
          33,
          34,
          35,
          36,
          37,
          38,
          39,
          40,
          41,
          42,
          43,
          44,
          45,
          46,
          47,
          48,
          49,
          50,
          51,
          52,
          53,
          54,
          55
         ],
         "xaxis": "x3",
         "y": [
          0.5032227195119693,
          0.5186131953344076,
          0.5240064386858316,
          0.5197946023322682,
          0.5068471592048535,
          0.48535450525623475,
          0.45611724976031226,
          0.41666702866765365,
          0.368241306019265,
          0.31476758702417673,
          0.2560755857750496,
          0.19200968484679892,
          0.12331623952640018,
          0.05089201160074992,
          0.024254182009258815,
          0.10100496041108979,
          0.17833704729924893,
          0.25517407426633554,
          0.33040523043703346,
          0.4029513604963426,
          0.47206119430816557,
          0.5366877408769056,
          0.5954026052987209,
          0.6442905575178722,
          0.6823824195884055,
          0.7089671891997978,
          0.7235938610971334,
          0.7258421068234178,
          0.7156176946057137,
          0.6930929702225705,
          0.6586124560079556,
          0.6127850333959407,
          0.5566192213577681,
          0.4940830807567561,
          0.4263646114820111,
          0.3542885670057499,
          0.278837258785139,
          0.20102837838644905,
          0.12186795631037138,
          0.0425252994350111,
          0.03587276273437896,
          0.11003301147903828,
          0.1808813535660061,
          0.2477170138616004,
          0.31088614033502665,
          0.36919195566907465,
          0.41874202782645714,
          0.4610270541707769,
          0.4963084529935828,
          0.5225892405122364,
          0.5387319622386441,
          0.5445130788818711,
          0.5406952194775618,
          0.5302668957959598,
          0.510130956578518,
          0.4835646177144533
         ],
         "yaxis": "y3"
        },
        {
         "marker": {
          "color": "red"
         },
         "name": "Testing Score",
         "type": "scatter",
         "x": [
          0,
          1,
          2,
          3,
          4,
          5,
          6,
          7,
          8,
          9,
          10,
          11,
          12,
          13,
          14,
          15,
          16,
          17,
          18,
          19,
          20,
          21,
          22,
          23,
          24,
          25,
          26,
          27,
          28,
          29,
          30,
          31,
          32,
          33,
          34,
          35,
          36,
          37,
          38,
          39,
          40,
          41,
          42,
          43,
          44,
          45,
          46,
          47,
          48,
          49,
          50,
          51,
          52,
          53,
          54,
          55,
          56,
          57,
          58,
          59,
          60,
          61,
          62,
          63,
          64,
          65,
          66,
          67,
          68,
          69,
          70,
          71,
          72,
          73,
          74,
          75,
          76,
          77,
          78,
          79,
          80,
          81,
          82,
          83,
          84,
          85,
          86,
          87,
          88,
          89,
          90,
          91,
          92,
          93,
          94,
          95
         ],
         "xaxis": "x3",
         "y": [
          0.34488654622365833,
          0.34827944345992556,
          0.34973911264070723,
          0.3506337696063011,
          0.3524262897181405,
          0.35315444735845836,
          0.3523105295959427,
          0.35210189293047756,
          0.35267126132358184,
          0.3531429527747254,
          0.35155125211722205,
          0.3494528654961511,
          0.3467179415119319,
          0.34546060108619475,
          0.34718381814014904,
          0.3515341450375583,
          0.35659738476411434,
          0.356957568647315,
          0.3503821399056356,
          0.33483978574333323,
          0.3105978916625668,
          0.2780266799380916,
          0.23964064038133248,
          0.1993631073191346,
          0.15893171958327784,
          0.11737215460128858,
          0.07545276249896173,
          0.03414702218953236,
          0.006508094206393991,
          0.046088818452390864,
          0.08440928716490699,
          0.12171928428601196,
          0.15826586855288827,
          0.19434290205620447,
          0.229476413640535,
          0.2634220381770251,
          0.29629895050500943,
          0.32973653859463936,
          0.35904383852742344,
          0.38056684676833574,
          0.39347254585866803,
          0.3973796898518659,
          0.39196139644309397,
          0.37827792365711665,
          0.3585201705204003,
          0.33453620085508945,
          0.30681667004037105,
          0.27586394338870307,
          0.24217925605442697,
          0.2061322306157129,
          0.16842918592763295,
          0.13014525813276934,
          0.09165528132256585,
          0.053817337700075615,
          0.017494118494849484,
          0.01660949199346476,
          0.04788717939669046,
          0.07602349600575965,
          0.10112501654274389,
          0.12499293085014544,
          0.14924004944662836,
          0.1741281235924783,
          0.19680586143594397,
          0.21680973343354082,
          0.23462427900050548,
          0.2519802307121582,
          0.2686792038856711,
          0.2849484250097993,
          0.29822298274709846,
          0.30710726294457485,
          0.31199203975650086,
          0.3137577783138175,
          0.31308893252294573,
          0.3106359582919265,
          0.30957716942193997,
          0.30976364664678435,
          0.31108091865855175,
          0.3135943832913763,
          0.31627971938814364,
          0.3189019225217628,
          0.3232103509184727,
          0.3288013570069074,
          0.33325609880556006,
          0.33573679245987276,
          0.33884628600877553,
          0.3425353431316898,
          0.3464960978904214,
          0.3505951563621118,
          0.35528184539053936,
          0.3600339714702585,
          0.36686547492056437,
          0.37384929016015195,
          0.3799103745690886,
          0.3797796157113156,
          0.36997537029979166,
          0.3523645246065122
         ],
         "yaxis": "y3"
        }
       ],
       "layout": {
        "annotations": [
         {
          "font": {
           "size": 16
          },
          "showarrow": false,
          "text": "Training plot",
          "x": 0.225,
          "xanchor": "center",
          "xref": "paper",
          "y": 1,
          "yanchor": "bottom",
          "yref": "paper"
         },
         {
          "font": {
           "size": 16
          },
          "showarrow": false,
          "text": "Testing plot",
          "x": 0.775,
          "xanchor": "center",
          "xref": "paper",
          "y": 1,
          "yanchor": "bottom",
          "yref": "paper"
         },
         {
          "font": {
           "size": 16
          },
          "showarrow": false,
          "text": "Anomaly scoring by (Locally Linear Embedding)",
          "x": 0.5,
          "xanchor": "center",
          "xref": "paper",
          "y": 0.375,
          "yanchor": "bottom",
          "yref": "paper"
         }
        ],
        "showlegend": false,
        "template": {
         "data": {
          "bar": [
           {
            "error_x": {
             "color": "#2a3f5f"
            },
            "error_y": {
             "color": "#2a3f5f"
            },
            "marker": {
             "line": {
              "color": "#E5ECF6",
              "width": 0.5
             }
            },
            "type": "bar"
           }
          ],
          "barpolar": [
           {
            "marker": {
             "line": {
              "color": "#E5ECF6",
              "width": 0.5
             }
            },
            "type": "barpolar"
           }
          ],
          "carpet": [
           {
            "aaxis": {
             "endlinecolor": "#2a3f5f",
             "gridcolor": "white",
             "linecolor": "white",
             "minorgridcolor": "white",
             "startlinecolor": "#2a3f5f"
            },
            "baxis": {
             "endlinecolor": "#2a3f5f",
             "gridcolor": "white",
             "linecolor": "white",
             "minorgridcolor": "white",
             "startlinecolor": "#2a3f5f"
            },
            "type": "carpet"
           }
          ],
          "choropleth": [
           {
            "colorbar": {
             "outlinewidth": 0,
             "ticks": ""
            },
            "type": "choropleth"
           }
          ],
          "contour": [
           {
            "colorbar": {
             "outlinewidth": 0,
             "ticks": ""
            },
            "colorscale": [
             [
              0,
              "#0d0887"
             ],
             [
              0.1111111111111111,
              "#46039f"
             ],
             [
              0.2222222222222222,
              "#7201a8"
             ],
             [
              0.3333333333333333,
              "#9c179e"
             ],
             [
              0.4444444444444444,
              "#bd3786"
             ],
             [
              0.5555555555555556,
              "#d8576b"
             ],
             [
              0.6666666666666666,
              "#ed7953"
             ],
             [
              0.7777777777777778,
              "#fb9f3a"
             ],
             [
              0.8888888888888888,
              "#fdca26"
             ],
             [
              1,
              "#f0f921"
             ]
            ],
            "type": "contour"
           }
          ],
          "contourcarpet": [
           {
            "colorbar": {
             "outlinewidth": 0,
             "ticks": ""
            },
            "type": "contourcarpet"
           }
          ],
          "heatmap": [
           {
            "colorbar": {
             "outlinewidth": 0,
             "ticks": ""
            },
            "colorscale": [
             [
              0,
              "#0d0887"
             ],
             [
              0.1111111111111111,
              "#46039f"
             ],
             [
              0.2222222222222222,
              "#7201a8"
             ],
             [
              0.3333333333333333,
              "#9c179e"
             ],
             [
              0.4444444444444444,
              "#bd3786"
             ],
             [
              0.5555555555555556,
              "#d8576b"
             ],
             [
              0.6666666666666666,
              "#ed7953"
             ],
             [
              0.7777777777777778,
              "#fb9f3a"
             ],
             [
              0.8888888888888888,
              "#fdca26"
             ],
             [
              1,
              "#f0f921"
             ]
            ],
            "type": "heatmap"
           }
          ],
          "heatmapgl": [
           {
            "colorbar": {
             "outlinewidth": 0,
             "ticks": ""
            },
            "colorscale": [
             [
              0,
              "#0d0887"
             ],
             [
              0.1111111111111111,
              "#46039f"
             ],
             [
              0.2222222222222222,
              "#7201a8"
             ],
             [
              0.3333333333333333,
              "#9c179e"
             ],
             [
              0.4444444444444444,
              "#bd3786"
             ],
             [
              0.5555555555555556,
              "#d8576b"
             ],
             [
              0.6666666666666666,
              "#ed7953"
             ],
             [
              0.7777777777777778,
              "#fb9f3a"
             ],
             [
              0.8888888888888888,
              "#fdca26"
             ],
             [
              1,
              "#f0f921"
             ]
            ],
            "type": "heatmapgl"
           }
          ],
          "histogram": [
           {
            "marker": {
             "colorbar": {
              "outlinewidth": 0,
              "ticks": ""
             }
            },
            "type": "histogram"
           }
          ],
          "histogram2d": [
           {
            "colorbar": {
             "outlinewidth": 0,
             "ticks": ""
            },
            "colorscale": [
             [
              0,
              "#0d0887"
             ],
             [
              0.1111111111111111,
              "#46039f"
             ],
             [
              0.2222222222222222,
              "#7201a8"
             ],
             [
              0.3333333333333333,
              "#9c179e"
             ],
             [
              0.4444444444444444,
              "#bd3786"
             ],
             [
              0.5555555555555556,
              "#d8576b"
             ],
             [
              0.6666666666666666,
              "#ed7953"
             ],
             [
              0.7777777777777778,
              "#fb9f3a"
             ],
             [
              0.8888888888888888,
              "#fdca26"
             ],
             [
              1,
              "#f0f921"
             ]
            ],
            "type": "histogram2d"
           }
          ],
          "histogram2dcontour": [
           {
            "colorbar": {
             "outlinewidth": 0,
             "ticks": ""
            },
            "colorscale": [
             [
              0,
              "#0d0887"
             ],
             [
              0.1111111111111111,
              "#46039f"
             ],
             [
              0.2222222222222222,
              "#7201a8"
             ],
             [
              0.3333333333333333,
              "#9c179e"
             ],
             [
              0.4444444444444444,
              "#bd3786"
             ],
             [
              0.5555555555555556,
              "#d8576b"
             ],
             [
              0.6666666666666666,
              "#ed7953"
             ],
             [
              0.7777777777777778,
              "#fb9f3a"
             ],
             [
              0.8888888888888888,
              "#fdca26"
             ],
             [
              1,
              "#f0f921"
             ]
            ],
            "type": "histogram2dcontour"
           }
          ],
          "mesh3d": [
           {
            "colorbar": {
             "outlinewidth": 0,
             "ticks": ""
            },
            "type": "mesh3d"
           }
          ],
          "parcoords": [
           {
            "line": {
             "colorbar": {
              "outlinewidth": 0,
              "ticks": ""
             }
            },
            "type": "parcoords"
           }
          ],
          "pie": [
           {
            "automargin": true,
            "type": "pie"
           }
          ],
          "scatter": [
           {
            "marker": {
             "colorbar": {
              "outlinewidth": 0,
              "ticks": ""
             }
            },
            "type": "scatter"
           }
          ],
          "scatter3d": [
           {
            "line": {
             "colorbar": {
              "outlinewidth": 0,
              "ticks": ""
             }
            },
            "marker": {
             "colorbar": {
              "outlinewidth": 0,
              "ticks": ""
             }
            },
            "type": "scatter3d"
           }
          ],
          "scattercarpet": [
           {
            "marker": {
             "colorbar": {
              "outlinewidth": 0,
              "ticks": ""
             }
            },
            "type": "scattercarpet"
           }
          ],
          "scattergeo": [
           {
            "marker": {
             "colorbar": {
              "outlinewidth": 0,
              "ticks": ""
             }
            },
            "type": "scattergeo"
           }
          ],
          "scattergl": [
           {
            "marker": {
             "colorbar": {
              "outlinewidth": 0,
              "ticks": ""
             }
            },
            "type": "scattergl"
           }
          ],
          "scattermapbox": [
           {
            "marker": {
             "colorbar": {
              "outlinewidth": 0,
              "ticks": ""
             }
            },
            "type": "scattermapbox"
           }
          ],
          "scatterpolar": [
           {
            "marker": {
             "colorbar": {
              "outlinewidth": 0,
              "ticks": ""
             }
            },
            "type": "scatterpolar"
           }
          ],
          "scatterpolargl": [
           {
            "marker": {
             "colorbar": {
              "outlinewidth": 0,
              "ticks": ""
             }
            },
            "type": "scatterpolargl"
           }
          ],
          "scatterternary": [
           {
            "marker": {
             "colorbar": {
              "outlinewidth": 0,
              "ticks": ""
             }
            },
            "type": "scatterternary"
           }
          ],
          "surface": [
           {
            "colorbar": {
             "outlinewidth": 0,
             "ticks": ""
            },
            "colorscale": [
             [
              0,
              "#0d0887"
             ],
             [
              0.1111111111111111,
              "#46039f"
             ],
             [
              0.2222222222222222,
              "#7201a8"
             ],
             [
              0.3333333333333333,
              "#9c179e"
             ],
             [
              0.4444444444444444,
              "#bd3786"
             ],
             [
              0.5555555555555556,
              "#d8576b"
             ],
             [
              0.6666666666666666,
              "#ed7953"
             ],
             [
              0.7777777777777778,
              "#fb9f3a"
             ],
             [
              0.8888888888888888,
              "#fdca26"
             ],
             [
              1,
              "#f0f921"
             ]
            ],
            "type": "surface"
           }
          ],
          "table": [
           {
            "cells": {
             "fill": {
              "color": "#EBF0F8"
             },
             "line": {
              "color": "white"
             }
            },
            "header": {
             "fill": {
              "color": "#C8D4E3"
             },
             "line": {
              "color": "white"
             }
            },
            "type": "table"
           }
          ]
         },
         "layout": {
          "annotationdefaults": {
           "arrowcolor": "#2a3f5f",
           "arrowhead": 0,
           "arrowwidth": 1
          },
          "coloraxis": {
           "colorbar": {
            "outlinewidth": 0,
            "ticks": ""
           }
          },
          "colorscale": {
           "diverging": [
            [
             0,
             "#8e0152"
            ],
            [
             0.1,
             "#c51b7d"
            ],
            [
             0.2,
             "#de77ae"
            ],
            [
             0.3,
             "#f1b6da"
            ],
            [
             0.4,
             "#fde0ef"
            ],
            [
             0.5,
             "#f7f7f7"
            ],
            [
             0.6,
             "#e6f5d0"
            ],
            [
             0.7,
             "#b8e186"
            ],
            [
             0.8,
             "#7fbc41"
            ],
            [
             0.9,
             "#4d9221"
            ],
            [
             1,
             "#276419"
            ]
           ],
           "sequential": [
            [
             0,
             "#0d0887"
            ],
            [
             0.1111111111111111,
             "#46039f"
            ],
            [
             0.2222222222222222,
             "#7201a8"
            ],
            [
             0.3333333333333333,
             "#9c179e"
            ],
            [
             0.4444444444444444,
             "#bd3786"
            ],
            [
             0.5555555555555556,
             "#d8576b"
            ],
            [
             0.6666666666666666,
             "#ed7953"
            ],
            [
             0.7777777777777778,
             "#fb9f3a"
            ],
            [
             0.8888888888888888,
             "#fdca26"
            ],
            [
             1,
             "#f0f921"
            ]
           ],
           "sequentialminus": [
            [
             0,
             "#0d0887"
            ],
            [
             0.1111111111111111,
             "#46039f"
            ],
            [
             0.2222222222222222,
             "#7201a8"
            ],
            [
             0.3333333333333333,
             "#9c179e"
            ],
            [
             0.4444444444444444,
             "#bd3786"
            ],
            [
             0.5555555555555556,
             "#d8576b"
            ],
            [
             0.6666666666666666,
             "#ed7953"
            ],
            [
             0.7777777777777778,
             "#fb9f3a"
            ],
            [
             0.8888888888888888,
             "#fdca26"
            ],
            [
             1,
             "#f0f921"
            ]
           ]
          },
          "colorway": [
           "#636efa",
           "#EF553B",
           "#00cc96",
           "#ab63fa",
           "#FFA15A",
           "#19d3f3",
           "#FF6692",
           "#B6E880",
           "#FF97FF",
           "#FECB52"
          ],
          "font": {
           "color": "#2a3f5f"
          },
          "geo": {
           "bgcolor": "white",
           "lakecolor": "white",
           "landcolor": "#E5ECF6",
           "showlakes": true,
           "showland": true,
           "subunitcolor": "white"
          },
          "hoverlabel": {
           "align": "left"
          },
          "hovermode": "closest",
          "mapbox": {
           "style": "light"
          },
          "paper_bgcolor": "white",
          "plot_bgcolor": "#E5ECF6",
          "polar": {
           "angularaxis": {
            "gridcolor": "white",
            "linecolor": "white",
            "ticks": ""
           },
           "bgcolor": "#E5ECF6",
           "radialaxis": {
            "gridcolor": "white",
            "linecolor": "white",
            "ticks": ""
           }
          },
          "scene": {
           "xaxis": {
            "backgroundcolor": "#E5ECF6",
            "gridcolor": "white",
            "gridwidth": 2,
            "linecolor": "white",
            "showbackground": true,
            "ticks": "",
            "zerolinecolor": "white"
           },
           "yaxis": {
            "backgroundcolor": "#E5ECF6",
            "gridcolor": "white",
            "gridwidth": 2,
            "linecolor": "white",
            "showbackground": true,
            "ticks": "",
            "zerolinecolor": "white"
           },
           "zaxis": {
            "backgroundcolor": "#E5ECF6",
            "gridcolor": "white",
            "gridwidth": 2,
            "linecolor": "white",
            "showbackground": true,
            "ticks": "",
            "zerolinecolor": "white"
           }
          },
          "shapedefaults": {
           "line": {
            "color": "#2a3f5f"
           }
          },
          "ternary": {
           "aaxis": {
            "gridcolor": "white",
            "linecolor": "white",
            "ticks": ""
           },
           "baxis": {
            "gridcolor": "white",
            "linecolor": "white",
            "ticks": ""
           },
           "bgcolor": "#E5ECF6",
           "caxis": {
            "gridcolor": "white",
            "linecolor": "white",
            "ticks": ""
           }
          },
          "title": {
           "x": 0.05
          },
          "xaxis": {
           "automargin": true,
           "gridcolor": "white",
           "linecolor": "white",
           "ticks": "",
           "title": {
            "standoff": 15
           },
           "zerolinecolor": "white",
           "zerolinewidth": 2
          },
          "yaxis": {
           "automargin": true,
           "gridcolor": "white",
           "linecolor": "white",
           "ticks": "",
           "title": {
            "standoff": 15
           },
           "zerolinecolor": "white",
           "zerolinewidth": 2
          }
         }
        },
        "xaxis": {
         "anchor": "y",
         "domain": [
          0,
          0.45
         ]
        },
        "xaxis2": {
         "anchor": "y2",
         "domain": [
          0.55,
          1
         ]
        },
        "xaxis3": {
         "anchor": "y3",
         "domain": [
          0,
          1
         ]
        },
        "yaxis": {
         "anchor": "x",
         "domain": [
          0.625,
          1
         ]
        },
        "yaxis2": {
         "anchor": "x2",
         "domain": [
          0.625,
          1
         ]
        },
        "yaxis3": {
         "anchor": "x3",
         "domain": [
          0,
          0.375
         ]
        }
       }
      },
      "text/html": [
       "<div>\n",
       "        \n",
       "        \n",
       "            <div id=\"595651d0-1231-4a25-a475-cb7eddad76bf\" class=\"plotly-graph-div\" style=\"height:525px; width:100%;\"></div>\n",
       "            <script type=\"text/javascript\">\n",
       "                require([\"plotly\"], function(Plotly) {\n",
       "                    window.PLOTLYENV=window.PLOTLYENV || {};\n",
       "                    \n",
       "                if (document.getElementById(\"595651d0-1231-4a25-a475-cb7eddad76bf\")) {\n",
       "                    Plotly.newPlot(\n",
       "                        '595651d0-1231-4a25-a475-cb7eddad76bf',\n",
       "                        [{\"marker\": {\"color\": \"blue\"}, \"name\": \"Training path\", \"type\": \"scatter\", \"x\": [-0.0, -0.2, -0.25, -0.27, -0.8, -1.25, -2.53, -2.69, -2.02, -0.82, 0.45, 1.77, 3.1, 4.4, 5.73, 7.06, 8.38, 9.71, 11.1, 12.4, 13.67, 14.95, 16.23, 17.53, 18.82, 20.1, 21.42, 22.73, 24.02, 25.29, 26.51, 27.5, 26.32, 24.94, 23.55, 22.16, 20.8, 19.45, 18.11, 16.76, 13.95, 12.54, 11.15, 9.76, 8.37, 7.0, 5.63, 4.26, 2.95, 1.56, 0.21, -1.12, -2.39, -3.48, -2.14, -0.74, 0.64, 2.04, 3.48, 4.91, 6.31, 7.7, 9.08, 10.48, 11.88, 13.27, 14.67, 16.05, 17.4, 18.75, 20.11, 21.46, 22.79, 24.13, 25.53, 26.82, 27.7, 26.38, 25.0, 23.58, 22.17, 20.72, 19.26, 17.81, 16.36, 14.92, 13.48, 12.07, 10.67, 9.23, 7.78, 6.34, 4.9, 3.45, 1.99, 0.58, -0.82, -2.2, -2.82, -2.96, -1.69, -1.06, -0.89, 0.11, 0.04, 0.07, -0.11, -0.0, -0.2, -0.25], \"xaxis\": \"x\", \"y\": [0.0, -0.01, 0.32, 1.14, 2.06, 3.3, 3.69, 3.96, 5.03, 5.55, 5.67, 5.71, 5.69, 5.71, 5.77, 5.81, 5.86, 5.99, 6.09, 6.24, 6.43, 6.53, 6.51, 6.47, 6.53, 6.61, 6.68, 6.82, 6.87, 6.93, 6.88, 6.95, 6.94, 6.85, 6.88, 6.8, 6.71, 6.6, 6.55, 6.5, 6.45, 6.37, 6.27, 6.24, 6.27, 6.25, 6.26, 6.25, 6.05, 6.0, 6.01, 5.93, 5.95, 5.72, 5.75, 5.87, 5.85, 5.85, 5.87, 5.95, 6.04, 6.08, 6.1, 6.15, 6.2, 6.23, 6.3, 6.33, 6.4, 6.37, 6.4, 6.28, 6.24, 6.18, 6.32, 6.42, 6.53, 6.52, 6.46, 6.47, 6.51, 6.42, 6.37, 6.33, 6.33, 6.35, 6.41, 6.51, 6.59, 6.5, 6.42, 6.38, 6.24, 6.24, 6.21, 6.21, 6.25, 6.15, 5.3, 4.41, 4.09, 3.29, 2.17, 1.76, 1.74, 1.82, 1.47, 0.0, -0.01, 0.32], \"yaxis\": \"y\"}, {\"marker\": {\"color\": \"red\"}, \"name\": \"Testing Score\", \"type\": \"scatter\", \"x\": [-2.03, -2.97, -2.74, -1.95, -0.67, 0.68, 1.99, 3.33, 4.64, 5.87, 6.6, 6.73, 6.71, 6.72, 6.72, 6.43, 6.1, 6.08, 6.25, 6.6, 6.96, 7.89, 9.19, 10.55, 11.88, 13.24, 14.58, 15.92, 17.27, 18.6, 19.93, 21.23, 22.58, 23.84, 25.0, 25.99, 24.81, 23.43, 22.07, 20.72, 19.32, 17.92, 16.51, 15.12, 13.73, 12.35, 11.01, 9.68, 8.32, 7.0, 5.66, 4.28, 2.95, 1.6, 0.25, -1.09, -2.34, -2.86, -3.31, -2.38, -1.33, -1.23, -1.4, -1.22, -1.0, -1.15, -1.18, -2.36, -3.41, -3.95, -3.95, -3.96, -3.8, -3.78, -3.79, -3.6, -3.16, -2.83, -2.55, -1.85, -0.62, 0.64, 1.98, 3.29, 4.56, 5.78, 6.59, 6.69, 6.45, 6.21, 5.98, 5.82, 6.04, 6.12, 6.21, 6.43, 6.82, 7.58, 8.79, 10.08, 11.46, 12.78, 14.11, 15.43, 16.73, 18.06, 19.38, 20.68, 21.93, 23.18, 24.45, 25.76, 26.75, 25.5, 24.17, 22.88, 21.52, 20.19, 18.82, 17.48, 16.09, 14.74, 13.36, 12.03, 10.68, 9.34, 7.97, 6.61, 5.24, 3.86, 2.46, 1.05, -0.34, -1.67, -2.61, -3.07, -2.29, -1.2, -1.3, -1.42, -1.24, -1.16, -0.99, -1.04, 0.0, -0.06, -0.76, -1.03, -0.98, -2.03], \"xaxis\": \"x2\", \"y\": [3.5, 3.72, 3.86, 4.77, 4.95, 5.02, 5.13, 5.04, 5.04, 4.81, 3.85, 2.58, 1.26, -0.05, -1.35, -2.22, -1.44, -0.17, 1.12, 2.38, 3.69, 4.59, 4.9, 4.88, 4.88, 4.84, 4.71, 4.72, 4.78, 4.8, 4.82, 4.74, 4.81, 4.95, 4.75, 4.83, 4.95, 5.06, 5.16, 5.21, 5.29, 5.22, 5.28, 5.35, 5.42, 5.44, 5.41, 5.44, 5.41, 5.4, 5.58, 5.62, 5.69, 5.77, 5.85, 5.93, 5.98, 5.17, 4.47, 3.73, 3.46, 2.26, 1.17, 0.43, 1.29, 2.34, 3.61, 4.25, 3.46, 2.34, 1.11, -0.07, -0.82, 0.45, 1.79, 3.05, 4.12, 4.4, 4.67, 5.71, 5.92, 5.64, 5.5, 5.36, 5.1, 4.63, 3.79, 2.55, 1.35, 0.12, -1.11, -2.24, -2.0, -0.79, 0.48, 1.73, 2.95, 3.99, 4.48, 4.39, 4.27, 4.08, 4.06, 4.01, 3.7, 3.61, 3.56, 3.35, 3.05, 2.76, 2.51, 2.45, 2.8, 2.84, 2.97, 3.2, 3.4, 3.59, 3.82, 4.0, 4.21, 4.4, 4.52, 4.75, 4.88, 5.03, 5.23, 5.3, 5.62, 5.95, 6.17, 6.44, 6.58, 6.81, 6.31, 5.35, 4.55, 4.21, 3.11, 2.08, 1.66, 1.81, 1.86, 2.05, -0.0, -0.0, 0.75, 1.7, 2.82, 3.5], \"yaxis\": \"y2\"}, {\"marker\": {\"color\": \"blue\"}, \"name\": \"Training Score\", \"type\": \"scatter\", \"x\": [0, 1, 2, 3, 4, 5, 6, 7, 8, 9, 10, 11, 12, 13, 14, 15, 16, 17, 18, 19, 20, 21, 22, 23, 24, 25, 26, 27, 28, 29, 30, 31, 32, 33, 34, 35, 36, 37, 38, 39, 40, 41, 42, 43, 44, 45, 46, 47, 48, 49, 50, 51, 52, 53, 54, 55], \"xaxis\": \"x3\", \"y\": [0.5032227195119693, 0.5186131953344076, 0.5240064386858316, 0.5197946023322682, 0.5068471592048535, 0.48535450525623475, 0.45611724976031226, 0.41666702866765365, 0.368241306019265, 0.31476758702417673, 0.2560755857750496, 0.19200968484679892, 0.12331623952640018, 0.05089201160074992, 0.024254182009258815, 0.10100496041108979, 0.17833704729924893, 0.25517407426633554, 0.33040523043703346, 0.4029513604963426, 0.47206119430816557, 0.5366877408769056, 0.5954026052987209, 0.6442905575178722, 0.6823824195884055, 0.7089671891997978, 0.7235938610971334, 0.7258421068234178, 0.7156176946057137, 0.6930929702225705, 0.6586124560079556, 0.6127850333959407, 0.5566192213577681, 0.4940830807567561, 0.4263646114820111, 0.3542885670057499, 0.278837258785139, 0.20102837838644905, 0.12186795631037138, 0.0425252994350111, 0.03587276273437896, 0.11003301147903828, 0.1808813535660061, 0.2477170138616004, 0.31088614033502665, 0.36919195566907465, 0.41874202782645714, 0.4610270541707769, 0.4963084529935828, 0.5225892405122364, 0.5387319622386441, 0.5445130788818711, 0.5406952194775618, 0.5302668957959598, 0.510130956578518, 0.4835646177144533], \"yaxis\": \"y3\"}, {\"marker\": {\"color\": \"red\"}, \"name\": \"Testing Score\", \"type\": \"scatter\", \"x\": [0, 1, 2, 3, 4, 5, 6, 7, 8, 9, 10, 11, 12, 13, 14, 15, 16, 17, 18, 19, 20, 21, 22, 23, 24, 25, 26, 27, 28, 29, 30, 31, 32, 33, 34, 35, 36, 37, 38, 39, 40, 41, 42, 43, 44, 45, 46, 47, 48, 49, 50, 51, 52, 53, 54, 55, 56, 57, 58, 59, 60, 61, 62, 63, 64, 65, 66, 67, 68, 69, 70, 71, 72, 73, 74, 75, 76, 77, 78, 79, 80, 81, 82, 83, 84, 85, 86, 87, 88, 89, 90, 91, 92, 93, 94, 95], \"xaxis\": \"x3\", \"y\": [0.34488654622365833, 0.34827944345992556, 0.34973911264070723, 0.3506337696063011, 0.3524262897181405, 0.35315444735845836, 0.3523105295959427, 0.35210189293047756, 0.35267126132358184, 0.3531429527747254, 0.35155125211722205, 0.3494528654961511, 0.3467179415119319, 0.34546060108619475, 0.34718381814014904, 0.3515341450375583, 0.35659738476411434, 0.356957568647315, 0.3503821399056356, 0.33483978574333323, 0.3105978916625668, 0.2780266799380916, 0.23964064038133248, 0.1993631073191346, 0.15893171958327784, 0.11737215460128858, 0.07545276249896173, 0.03414702218953236, 0.006508094206393991, 0.046088818452390864, 0.08440928716490699, 0.12171928428601196, 0.15826586855288827, 0.19434290205620447, 0.229476413640535, 0.2634220381770251, 0.29629895050500943, 0.32973653859463936, 0.35904383852742344, 0.38056684676833574, 0.39347254585866803, 0.3973796898518659, 0.39196139644309397, 0.37827792365711665, 0.3585201705204003, 0.33453620085508945, 0.30681667004037105, 0.27586394338870307, 0.24217925605442697, 0.2061322306157129, 0.16842918592763295, 0.13014525813276934, 0.09165528132256585, 0.053817337700075615, 0.017494118494849484, 0.01660949199346476, 0.04788717939669046, 0.07602349600575965, 0.10112501654274389, 0.12499293085014544, 0.14924004944662836, 0.1741281235924783, 0.19680586143594397, 0.21680973343354082, 0.23462427900050548, 0.2519802307121582, 0.2686792038856711, 0.2849484250097993, 0.29822298274709846, 0.30710726294457485, 0.31199203975650086, 0.3137577783138175, 0.31308893252294573, 0.3106359582919265, 0.30957716942193997, 0.30976364664678435, 0.31108091865855175, 0.3135943832913763, 0.31627971938814364, 0.3189019225217628, 0.3232103509184727, 0.3288013570069074, 0.33325609880556006, 0.33573679245987276, 0.33884628600877553, 0.3425353431316898, 0.3464960978904214, 0.3505951563621118, 0.35528184539053936, 0.3600339714702585, 0.36686547492056437, 0.37384929016015195, 0.3799103745690886, 0.3797796157113156, 0.36997537029979166, 0.3523645246065122], \"yaxis\": \"y3\"}],\n",
       "                        {\"annotations\": [{\"font\": {\"size\": 16}, \"showarrow\": false, \"text\": \"Training plot\", \"x\": 0.225, \"xanchor\": \"center\", \"xref\": \"paper\", \"y\": 1.0, \"yanchor\": \"bottom\", \"yref\": \"paper\"}, {\"font\": {\"size\": 16}, \"showarrow\": false, \"text\": \"Testing plot\", \"x\": 0.775, \"xanchor\": \"center\", \"xref\": \"paper\", \"y\": 1.0, \"yanchor\": \"bottom\", \"yref\": \"paper\"}, {\"font\": {\"size\": 16}, \"showarrow\": false, \"text\": \"Anomaly scoring by (Locally Linear Embedding)\", \"x\": 0.5, \"xanchor\": \"center\", \"xref\": \"paper\", \"y\": 0.375, \"yanchor\": \"bottom\", \"yref\": \"paper\"}], \"showlegend\": false, \"template\": {\"data\": {\"bar\": [{\"error_x\": {\"color\": \"#2a3f5f\"}, \"error_y\": {\"color\": \"#2a3f5f\"}, \"marker\": {\"line\": {\"color\": \"#E5ECF6\", \"width\": 0.5}}, \"type\": \"bar\"}], \"barpolar\": [{\"marker\": {\"line\": {\"color\": \"#E5ECF6\", \"width\": 0.5}}, \"type\": \"barpolar\"}], \"carpet\": [{\"aaxis\": {\"endlinecolor\": \"#2a3f5f\", \"gridcolor\": \"white\", \"linecolor\": \"white\", \"minorgridcolor\": \"white\", \"startlinecolor\": \"#2a3f5f\"}, \"baxis\": {\"endlinecolor\": \"#2a3f5f\", \"gridcolor\": \"white\", \"linecolor\": \"white\", \"minorgridcolor\": \"white\", \"startlinecolor\": \"#2a3f5f\"}, \"type\": \"carpet\"}], \"choropleth\": [{\"colorbar\": {\"outlinewidth\": 0, \"ticks\": \"\"}, \"type\": \"choropleth\"}], \"contour\": [{\"colorbar\": {\"outlinewidth\": 0, \"ticks\": \"\"}, \"colorscale\": [[0.0, \"#0d0887\"], [0.1111111111111111, \"#46039f\"], [0.2222222222222222, \"#7201a8\"], [0.3333333333333333, \"#9c179e\"], [0.4444444444444444, \"#bd3786\"], [0.5555555555555556, \"#d8576b\"], [0.6666666666666666, \"#ed7953\"], [0.7777777777777778, \"#fb9f3a\"], [0.8888888888888888, \"#fdca26\"], [1.0, \"#f0f921\"]], \"type\": \"contour\"}], \"contourcarpet\": [{\"colorbar\": {\"outlinewidth\": 0, \"ticks\": \"\"}, \"type\": \"contourcarpet\"}], \"heatmap\": [{\"colorbar\": {\"outlinewidth\": 0, \"ticks\": \"\"}, \"colorscale\": [[0.0, \"#0d0887\"], [0.1111111111111111, \"#46039f\"], [0.2222222222222222, \"#7201a8\"], [0.3333333333333333, \"#9c179e\"], [0.4444444444444444, \"#bd3786\"], [0.5555555555555556, \"#d8576b\"], [0.6666666666666666, \"#ed7953\"], [0.7777777777777778, \"#fb9f3a\"], [0.8888888888888888, \"#fdca26\"], [1.0, \"#f0f921\"]], \"type\": \"heatmap\"}], \"heatmapgl\": [{\"colorbar\": {\"outlinewidth\": 0, \"ticks\": \"\"}, \"colorscale\": [[0.0, \"#0d0887\"], [0.1111111111111111, \"#46039f\"], [0.2222222222222222, \"#7201a8\"], [0.3333333333333333, \"#9c179e\"], [0.4444444444444444, \"#bd3786\"], [0.5555555555555556, \"#d8576b\"], [0.6666666666666666, \"#ed7953\"], [0.7777777777777778, \"#fb9f3a\"], [0.8888888888888888, \"#fdca26\"], [1.0, \"#f0f921\"]], \"type\": \"heatmapgl\"}], \"histogram\": [{\"marker\": {\"colorbar\": {\"outlinewidth\": 0, \"ticks\": \"\"}}, \"type\": \"histogram\"}], \"histogram2d\": [{\"colorbar\": {\"outlinewidth\": 0, \"ticks\": \"\"}, \"colorscale\": [[0.0, \"#0d0887\"], [0.1111111111111111, \"#46039f\"], [0.2222222222222222, \"#7201a8\"], [0.3333333333333333, \"#9c179e\"], [0.4444444444444444, \"#bd3786\"], [0.5555555555555556, \"#d8576b\"], [0.6666666666666666, \"#ed7953\"], [0.7777777777777778, \"#fb9f3a\"], [0.8888888888888888, \"#fdca26\"], [1.0, \"#f0f921\"]], \"type\": \"histogram2d\"}], \"histogram2dcontour\": [{\"colorbar\": {\"outlinewidth\": 0, \"ticks\": \"\"}, \"colorscale\": [[0.0, \"#0d0887\"], [0.1111111111111111, \"#46039f\"], [0.2222222222222222, \"#7201a8\"], [0.3333333333333333, \"#9c179e\"], [0.4444444444444444, \"#bd3786\"], [0.5555555555555556, \"#d8576b\"], [0.6666666666666666, \"#ed7953\"], [0.7777777777777778, \"#fb9f3a\"], [0.8888888888888888, \"#fdca26\"], [1.0, \"#f0f921\"]], \"type\": \"histogram2dcontour\"}], \"mesh3d\": [{\"colorbar\": {\"outlinewidth\": 0, \"ticks\": \"\"}, \"type\": \"mesh3d\"}], \"parcoords\": [{\"line\": {\"colorbar\": {\"outlinewidth\": 0, \"ticks\": \"\"}}, \"type\": \"parcoords\"}], \"pie\": [{\"automargin\": true, \"type\": \"pie\"}], \"scatter\": [{\"marker\": {\"colorbar\": {\"outlinewidth\": 0, \"ticks\": \"\"}}, \"type\": \"scatter\"}], \"scatter3d\": [{\"line\": {\"colorbar\": {\"outlinewidth\": 0, \"ticks\": \"\"}}, \"marker\": {\"colorbar\": {\"outlinewidth\": 0, \"ticks\": \"\"}}, \"type\": \"scatter3d\"}], \"scattercarpet\": [{\"marker\": {\"colorbar\": {\"outlinewidth\": 0, \"ticks\": \"\"}}, \"type\": \"scattercarpet\"}], \"scattergeo\": [{\"marker\": {\"colorbar\": {\"outlinewidth\": 0, \"ticks\": \"\"}}, \"type\": \"scattergeo\"}], \"scattergl\": [{\"marker\": {\"colorbar\": {\"outlinewidth\": 0, \"ticks\": \"\"}}, \"type\": \"scattergl\"}], \"scattermapbox\": [{\"marker\": {\"colorbar\": {\"outlinewidth\": 0, \"ticks\": \"\"}}, \"type\": \"scattermapbox\"}], \"scatterpolar\": [{\"marker\": {\"colorbar\": {\"outlinewidth\": 0, \"ticks\": \"\"}}, \"type\": \"scatterpolar\"}], \"scatterpolargl\": [{\"marker\": {\"colorbar\": {\"outlinewidth\": 0, \"ticks\": \"\"}}, \"type\": \"scatterpolargl\"}], \"scatterternary\": [{\"marker\": {\"colorbar\": {\"outlinewidth\": 0, \"ticks\": \"\"}}, \"type\": \"scatterternary\"}], \"surface\": [{\"colorbar\": {\"outlinewidth\": 0, \"ticks\": \"\"}, \"colorscale\": [[0.0, \"#0d0887\"], [0.1111111111111111, \"#46039f\"], [0.2222222222222222, \"#7201a8\"], [0.3333333333333333, \"#9c179e\"], [0.4444444444444444, \"#bd3786\"], [0.5555555555555556, \"#d8576b\"], [0.6666666666666666, \"#ed7953\"], [0.7777777777777778, \"#fb9f3a\"], [0.8888888888888888, \"#fdca26\"], [1.0, \"#f0f921\"]], \"type\": \"surface\"}], \"table\": [{\"cells\": {\"fill\": {\"color\": \"#EBF0F8\"}, \"line\": {\"color\": \"white\"}}, \"header\": {\"fill\": {\"color\": \"#C8D4E3\"}, \"line\": {\"color\": \"white\"}}, \"type\": \"table\"}]}, \"layout\": {\"annotationdefaults\": {\"arrowcolor\": \"#2a3f5f\", \"arrowhead\": 0, \"arrowwidth\": 1}, \"coloraxis\": {\"colorbar\": {\"outlinewidth\": 0, \"ticks\": \"\"}}, \"colorscale\": {\"diverging\": [[0, \"#8e0152\"], [0.1, \"#c51b7d\"], [0.2, \"#de77ae\"], [0.3, \"#f1b6da\"], [0.4, \"#fde0ef\"], [0.5, \"#f7f7f7\"], [0.6, \"#e6f5d0\"], [0.7, \"#b8e186\"], [0.8, \"#7fbc41\"], [0.9, \"#4d9221\"], [1, \"#276419\"]], \"sequential\": [[0.0, \"#0d0887\"], [0.1111111111111111, \"#46039f\"], [0.2222222222222222, \"#7201a8\"], [0.3333333333333333, \"#9c179e\"], [0.4444444444444444, \"#bd3786\"], [0.5555555555555556, \"#d8576b\"], [0.6666666666666666, \"#ed7953\"], [0.7777777777777778, \"#fb9f3a\"], [0.8888888888888888, \"#fdca26\"], [1.0, \"#f0f921\"]], \"sequentialminus\": [[0.0, \"#0d0887\"], [0.1111111111111111, \"#46039f\"], [0.2222222222222222, \"#7201a8\"], [0.3333333333333333, \"#9c179e\"], [0.4444444444444444, \"#bd3786\"], [0.5555555555555556, \"#d8576b\"], [0.6666666666666666, \"#ed7953\"], [0.7777777777777778, \"#fb9f3a\"], [0.8888888888888888, \"#fdca26\"], [1.0, \"#f0f921\"]]}, \"colorway\": [\"#636efa\", \"#EF553B\", \"#00cc96\", \"#ab63fa\", \"#FFA15A\", \"#19d3f3\", \"#FF6692\", \"#B6E880\", \"#FF97FF\", \"#FECB52\"], \"font\": {\"color\": \"#2a3f5f\"}, \"geo\": {\"bgcolor\": \"white\", \"lakecolor\": \"white\", \"landcolor\": \"#E5ECF6\", \"showlakes\": true, \"showland\": true, \"subunitcolor\": \"white\"}, \"hoverlabel\": {\"align\": \"left\"}, \"hovermode\": \"closest\", \"mapbox\": {\"style\": \"light\"}, \"paper_bgcolor\": \"white\", \"plot_bgcolor\": \"#E5ECF6\", \"polar\": {\"angularaxis\": {\"gridcolor\": \"white\", \"linecolor\": \"white\", \"ticks\": \"\"}, \"bgcolor\": \"#E5ECF6\", \"radialaxis\": {\"gridcolor\": \"white\", \"linecolor\": \"white\", \"ticks\": \"\"}}, \"scene\": {\"xaxis\": {\"backgroundcolor\": \"#E5ECF6\", \"gridcolor\": \"white\", \"gridwidth\": 2, \"linecolor\": \"white\", \"showbackground\": true, \"ticks\": \"\", \"zerolinecolor\": \"white\"}, \"yaxis\": {\"backgroundcolor\": \"#E5ECF6\", \"gridcolor\": \"white\", \"gridwidth\": 2, \"linecolor\": \"white\", \"showbackground\": true, \"ticks\": \"\", \"zerolinecolor\": \"white\"}, \"zaxis\": {\"backgroundcolor\": \"#E5ECF6\", \"gridcolor\": \"white\", \"gridwidth\": 2, \"linecolor\": \"white\", \"showbackground\": true, \"ticks\": \"\", \"zerolinecolor\": \"white\"}}, \"shapedefaults\": {\"line\": {\"color\": \"#2a3f5f\"}}, \"ternary\": {\"aaxis\": {\"gridcolor\": \"white\", \"linecolor\": \"white\", \"ticks\": \"\"}, \"baxis\": {\"gridcolor\": \"white\", \"linecolor\": \"white\", \"ticks\": \"\"}, \"bgcolor\": \"#E5ECF6\", \"caxis\": {\"gridcolor\": \"white\", \"linecolor\": \"white\", \"ticks\": \"\"}}, \"title\": {\"x\": 0.05}, \"xaxis\": {\"automargin\": true, \"gridcolor\": \"white\", \"linecolor\": \"white\", \"ticks\": \"\", \"title\": {\"standoff\": 15}, \"zerolinecolor\": \"white\", \"zerolinewidth\": 2}, \"yaxis\": {\"automargin\": true, \"gridcolor\": \"white\", \"linecolor\": \"white\", \"ticks\": \"\", \"title\": {\"standoff\": 15}, \"zerolinecolor\": \"white\", \"zerolinewidth\": 2}}}, \"xaxis\": {\"anchor\": \"y\", \"domain\": [0.0, 0.45]}, \"xaxis2\": {\"anchor\": \"y2\", \"domain\": [0.55, 1.0]}, \"xaxis3\": {\"anchor\": \"y3\", \"domain\": [0.0, 1.0]}, \"yaxis\": {\"anchor\": \"x\", \"domain\": [0.625, 1.0]}, \"yaxis2\": {\"anchor\": \"x2\", \"domain\": [0.625, 1.0]}, \"yaxis3\": {\"anchor\": \"x3\", \"domain\": [0.0, 0.375]}},\n",
       "                        {\"responsive\": true}\n",
       "                    ).then(function(){\n",
       "                            \n",
       "var gd = document.getElementById('595651d0-1231-4a25-a475-cb7eddad76bf');\n",
       "var x = new MutationObserver(function (mutations, observer) {{\n",
       "        var display = window.getComputedStyle(gd).display;\n",
       "        if (!display || display === 'none') {{\n",
       "            console.log([gd, 'removed!']);\n",
       "            Plotly.purge(gd);\n",
       "            observer.disconnect();\n",
       "        }}\n",
       "}});\n",
       "\n",
       "// Listen for the removal of the full notebook cells\n",
       "var notebookContainer = gd.closest('#notebook-container');\n",
       "if (notebookContainer) {{\n",
       "    x.observe(notebookContainer, {childList: true});\n",
       "}}\n",
       "\n",
       "// Listen for the clearing of the current output cell\n",
       "var outputEl = gd.closest('.output');\n",
       "if (outputEl) {{\n",
       "    x.observe(outputEl, {childList: true});\n",
       "}}\n",
       "\n",
       "                        })\n",
       "                };\n",
       "                });\n",
       "            </script>\n",
       "        </div>"
      ]
     },
     "metadata": {},
     "output_type": "display_data"
    }
   ],
   "source": [
    "fig = make_subplots(rows=2, cols=2,specs=[[{}, {}], [{\"colspan\": 2}, None]],\n",
    "    subplot_titles=(\"Training plot\",\"Testing plot\", \"Anomaly scoring by (Locally Linear Embedding)\"))\n",
    "fig.add_trace(go.Scatter(x=df[1], y=df[2], marker_color='blue',\n",
    "                        name=\"Training path\"),row=1, col=1)\n",
    "fig.add_trace(go.Scatter(x=df_test[1], y=df_test[2], marker_color='red',\n",
    "                        name=\"Testing Score\"),row=1, col=2)\n",
    "fig.add_trace(go.Scatter(x=list(range(len(dt_scores))), y=dt_scores, marker_color='blue',\n",
    "                         name=\"Training Score\"), row=2, col=1)\n",
    "fig.add_trace(go.Scatter(x=list(range(len(dj_scores))), y=dj_scores, marker_color='red',\n",
    "                        name=\"Testing Score\"), row=2, col=1)\n",
    "fig.update_layout(showlegend=False)\n"
   ]
  },
  {
   "cell_type": "code",
   "execution_count": null,
   "metadata": {},
   "outputs": [],
   "source": []
  },
  {
   "cell_type": "code",
   "execution_count": null,
   "metadata": {},
   "outputs": [],
   "source": []
  }
 ],
 "metadata": {
  "kernelspec": {
   "display_name": "Python 3",
   "language": "python",
   "name": "python3"
  },
  "language_info": {
   "codemirror_mode": {
    "name": "ipython",
    "version": 3
   },
   "file_extension": ".py",
   "mimetype": "text/x-python",
   "name": "python",
   "nbconvert_exporter": "python",
   "pygments_lexer": "ipython3",
   "version": "3.7.5"
  }
 },
 "nbformat": 4,
 "nbformat_minor": 2
}
