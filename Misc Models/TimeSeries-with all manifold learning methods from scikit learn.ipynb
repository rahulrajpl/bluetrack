{
 "cells": [
  {
   "cell_type": "code",
   "execution_count": 1,
   "metadata": {},
   "outputs": [],
   "source": [
    "import pandas as pd\n",
    "import numpy as np\n",
    "from functools import partial\n",
    "from collections import OrderedDict\n",
    "from sklearn import manifold\n",
    "import matplotlib.pyplot as plt\n",
    "import numpy as np\n",
    "import pandas as pd\n",
    "from scipy.linalg import hankel, eigh\n",
    "import plotly.graph_objects as go\n",
    "from plotly.subplots import make_subplots"
   ]
  },
  {
   "cell_type": "code",
   "execution_count": 2,
   "metadata": {},
   "outputs": [],
   "source": [
    "n_neighbors = 10\n",
    "n_components = 1\n",
    "# Set-up manifold methods\n",
    "LLE = partial(manifold.LocallyLinearEmbedding,\n",
    "              n_neighbors, n_components, eigen_solver='auto')\n",
    "\n",
    "methods = OrderedDict()\n",
    "methods['LLE'] = LLE(method='standard')\n",
    "methods['LTSA'] = LLE(method='ltsa')\n",
    "methods['Hessian LLE'] = LLE(method='hessian')\n",
    "methods['Modified LLE'] = LLE(method='modified')\n",
    "methods['Isomap'] = manifold.Isomap(n_neighbors, n_components)\n",
    "methods['MDS'] = manifold.MDS(n_components, max_iter=100, n_init=1)\n",
    "methods['SE'] = manifold.SpectralEmbedding(n_components=n_components,\n",
    "                                           n_neighbors=n_neighbors)\n",
    "methods['t-SNE'] = manifold.TSNE(n_components=n_components, init='pca',\n",
    "                                 random_state=0)"
   ]
  },
  {
   "cell_type": "code",
   "execution_count": 3,
   "metadata": {},
   "outputs": [
    {
     "data": {
      "text/plain": [
       "odict_keys(['LLE', 'LTSA', 'Hessian LLE', 'Modified LLE', 'Isomap', 'MDS', 'SE', 't-SNE'])"
      ]
     },
     "execution_count": 3,
     "metadata": {},
     "output_type": "execute_result"
    }
   ],
   "source": [
    "methods.keys()"
   ]
  },
  {
   "cell_type": "code",
   "execution_count": 4,
   "metadata": {},
   "outputs": [],
   "source": [
    "df = pd.read_csv('steps_train.txt', skiprows=1,nrows=110, header=None, usecols=[1,2])\n",
    "df_test = pd.read_csv('steps_test.txt', skiprows=1, nrows=150, header=None, usecols=[1,2])"
   ]
  },
  {
   "cell_type": "markdown",
   "metadata": {},
   "source": [
    "## Locally Linear Embedding\n",
    "Locally linear embedding (LLE) seeks a lower-dimensional projection of the data which preserves distances within local neighborhoods. It can be thought of as a series of local Principal Component Analyses which are globally compared to find the best non-linear embedding."
   ]
  },
  {
   "cell_type": "code",
   "execution_count": 59,
   "metadata": {
    "scrolled": false
   },
   "outputs": [
    {
     "data": {
      "application/vnd.plotly.v1+json": {
       "config": {
        "plotlyServerURL": "https://plot.ly"
       },
       "data": [
        {
         "type": "scatter",
         "x": [
          0,
          1,
          2,
          3,
          4,
          5,
          6,
          7,
          8,
          9
         ],
         "y": [
          8.297937985619606,
          7.4085161604502785,
          0.3295850620164033,
          0.08160042077312113,
          0.03300386836037642,
          0.010754686848887817,
          0.006554089847604645,
          0.003220728205878107,
          0.0025724857523763793,
          0.0017239233766755879
         ]
        }
       ],
       "layout": {
        "template": {
         "data": {
          "bar": [
           {
            "error_x": {
             "color": "#2a3f5f"
            },
            "error_y": {
             "color": "#2a3f5f"
            },
            "marker": {
             "line": {
              "color": "#E5ECF6",
              "width": 0.5
             }
            },
            "type": "bar"
           }
          ],
          "barpolar": [
           {
            "marker": {
             "line": {
              "color": "#E5ECF6",
              "width": 0.5
             }
            },
            "type": "barpolar"
           }
          ],
          "carpet": [
           {
            "aaxis": {
             "endlinecolor": "#2a3f5f",
             "gridcolor": "white",
             "linecolor": "white",
             "minorgridcolor": "white",
             "startlinecolor": "#2a3f5f"
            },
            "baxis": {
             "endlinecolor": "#2a3f5f",
             "gridcolor": "white",
             "linecolor": "white",
             "minorgridcolor": "white",
             "startlinecolor": "#2a3f5f"
            },
            "type": "carpet"
           }
          ],
          "choropleth": [
           {
            "colorbar": {
             "outlinewidth": 0,
             "ticks": ""
            },
            "type": "choropleth"
           }
          ],
          "contour": [
           {
            "colorbar": {
             "outlinewidth": 0,
             "ticks": ""
            },
            "colorscale": [
             [
              0,
              "#0d0887"
             ],
             [
              0.1111111111111111,
              "#46039f"
             ],
             [
              0.2222222222222222,
              "#7201a8"
             ],
             [
              0.3333333333333333,
              "#9c179e"
             ],
             [
              0.4444444444444444,
              "#bd3786"
             ],
             [
              0.5555555555555556,
              "#d8576b"
             ],
             [
              0.6666666666666666,
              "#ed7953"
             ],
             [
              0.7777777777777778,
              "#fb9f3a"
             ],
             [
              0.8888888888888888,
              "#fdca26"
             ],
             [
              1,
              "#f0f921"
             ]
            ],
            "type": "contour"
           }
          ],
          "contourcarpet": [
           {
            "colorbar": {
             "outlinewidth": 0,
             "ticks": ""
            },
            "type": "contourcarpet"
           }
          ],
          "heatmap": [
           {
            "colorbar": {
             "outlinewidth": 0,
             "ticks": ""
            },
            "colorscale": [
             [
              0,
              "#0d0887"
             ],
             [
              0.1111111111111111,
              "#46039f"
             ],
             [
              0.2222222222222222,
              "#7201a8"
             ],
             [
              0.3333333333333333,
              "#9c179e"
             ],
             [
              0.4444444444444444,
              "#bd3786"
             ],
             [
              0.5555555555555556,
              "#d8576b"
             ],
             [
              0.6666666666666666,
              "#ed7953"
             ],
             [
              0.7777777777777778,
              "#fb9f3a"
             ],
             [
              0.8888888888888888,
              "#fdca26"
             ],
             [
              1,
              "#f0f921"
             ]
            ],
            "type": "heatmap"
           }
          ],
          "heatmapgl": [
           {
            "colorbar": {
             "outlinewidth": 0,
             "ticks": ""
            },
            "colorscale": [
             [
              0,
              "#0d0887"
             ],
             [
              0.1111111111111111,
              "#46039f"
             ],
             [
              0.2222222222222222,
              "#7201a8"
             ],
             [
              0.3333333333333333,
              "#9c179e"
             ],
             [
              0.4444444444444444,
              "#bd3786"
             ],
             [
              0.5555555555555556,
              "#d8576b"
             ],
             [
              0.6666666666666666,
              "#ed7953"
             ],
             [
              0.7777777777777778,
              "#fb9f3a"
             ],
             [
              0.8888888888888888,
              "#fdca26"
             ],
             [
              1,
              "#f0f921"
             ]
            ],
            "type": "heatmapgl"
           }
          ],
          "histogram": [
           {
            "marker": {
             "colorbar": {
              "outlinewidth": 0,
              "ticks": ""
             }
            },
            "type": "histogram"
           }
          ],
          "histogram2d": [
           {
            "colorbar": {
             "outlinewidth": 0,
             "ticks": ""
            },
            "colorscale": [
             [
              0,
              "#0d0887"
             ],
             [
              0.1111111111111111,
              "#46039f"
             ],
             [
              0.2222222222222222,
              "#7201a8"
             ],
             [
              0.3333333333333333,
              "#9c179e"
             ],
             [
              0.4444444444444444,
              "#bd3786"
             ],
             [
              0.5555555555555556,
              "#d8576b"
             ],
             [
              0.6666666666666666,
              "#ed7953"
             ],
             [
              0.7777777777777778,
              "#fb9f3a"
             ],
             [
              0.8888888888888888,
              "#fdca26"
             ],
             [
              1,
              "#f0f921"
             ]
            ],
            "type": "histogram2d"
           }
          ],
          "histogram2dcontour": [
           {
            "colorbar": {
             "outlinewidth": 0,
             "ticks": ""
            },
            "colorscale": [
             [
              0,
              "#0d0887"
             ],
             [
              0.1111111111111111,
              "#46039f"
             ],
             [
              0.2222222222222222,
              "#7201a8"
             ],
             [
              0.3333333333333333,
              "#9c179e"
             ],
             [
              0.4444444444444444,
              "#bd3786"
             ],
             [
              0.5555555555555556,
              "#d8576b"
             ],
             [
              0.6666666666666666,
              "#ed7953"
             ],
             [
              0.7777777777777778,
              "#fb9f3a"
             ],
             [
              0.8888888888888888,
              "#fdca26"
             ],
             [
              1,
              "#f0f921"
             ]
            ],
            "type": "histogram2dcontour"
           }
          ],
          "mesh3d": [
           {
            "colorbar": {
             "outlinewidth": 0,
             "ticks": ""
            },
            "type": "mesh3d"
           }
          ],
          "parcoords": [
           {
            "line": {
             "colorbar": {
              "outlinewidth": 0,
              "ticks": ""
             }
            },
            "type": "parcoords"
           }
          ],
          "pie": [
           {
            "automargin": true,
            "type": "pie"
           }
          ],
          "scatter": [
           {
            "marker": {
             "colorbar": {
              "outlinewidth": 0,
              "ticks": ""
             }
            },
            "type": "scatter"
           }
          ],
          "scatter3d": [
           {
            "line": {
             "colorbar": {
              "outlinewidth": 0,
              "ticks": ""
             }
            },
            "marker": {
             "colorbar": {
              "outlinewidth": 0,
              "ticks": ""
             }
            },
            "type": "scatter3d"
           }
          ],
          "scattercarpet": [
           {
            "marker": {
             "colorbar": {
              "outlinewidth": 0,
              "ticks": ""
             }
            },
            "type": "scattercarpet"
           }
          ],
          "scattergeo": [
           {
            "marker": {
             "colorbar": {
              "outlinewidth": 0,
              "ticks": ""
             }
            },
            "type": "scattergeo"
           }
          ],
          "scattergl": [
           {
            "marker": {
             "colorbar": {
              "outlinewidth": 0,
              "ticks": ""
             }
            },
            "type": "scattergl"
           }
          ],
          "scattermapbox": [
           {
            "marker": {
             "colorbar": {
              "outlinewidth": 0,
              "ticks": ""
             }
            },
            "type": "scattermapbox"
           }
          ],
          "scatterpolar": [
           {
            "marker": {
             "colorbar": {
              "outlinewidth": 0,
              "ticks": ""
             }
            },
            "type": "scatterpolar"
           }
          ],
          "scatterpolargl": [
           {
            "marker": {
             "colorbar": {
              "outlinewidth": 0,
              "ticks": ""
             }
            },
            "type": "scatterpolargl"
           }
          ],
          "scatterternary": [
           {
            "marker": {
             "colorbar": {
              "outlinewidth": 0,
              "ticks": ""
             }
            },
            "type": "scatterternary"
           }
          ],
          "surface": [
           {
            "colorbar": {
             "outlinewidth": 0,
             "ticks": ""
            },
            "colorscale": [
             [
              0,
              "#0d0887"
             ],
             [
              0.1111111111111111,
              "#46039f"
             ],
             [
              0.2222222222222222,
              "#7201a8"
             ],
             [
              0.3333333333333333,
              "#9c179e"
             ],
             [
              0.4444444444444444,
              "#bd3786"
             ],
             [
              0.5555555555555556,
              "#d8576b"
             ],
             [
              0.6666666666666666,
              "#ed7953"
             ],
             [
              0.7777777777777778,
              "#fb9f3a"
             ],
             [
              0.8888888888888888,
              "#fdca26"
             ],
             [
              1,
              "#f0f921"
             ]
            ],
            "type": "surface"
           }
          ],
          "table": [
           {
            "cells": {
             "fill": {
              "color": "#EBF0F8"
             },
             "line": {
              "color": "white"
             }
            },
            "header": {
             "fill": {
              "color": "#C8D4E3"
             },
             "line": {
              "color": "white"
             }
            },
            "type": "table"
           }
          ]
         },
         "layout": {
          "annotationdefaults": {
           "arrowcolor": "#2a3f5f",
           "arrowhead": 0,
           "arrowwidth": 1
          },
          "coloraxis": {
           "colorbar": {
            "outlinewidth": 0,
            "ticks": ""
           }
          },
          "colorscale": {
           "diverging": [
            [
             0,
             "#8e0152"
            ],
            [
             0.1,
             "#c51b7d"
            ],
            [
             0.2,
             "#de77ae"
            ],
            [
             0.3,
             "#f1b6da"
            ],
            [
             0.4,
             "#fde0ef"
            ],
            [
             0.5,
             "#f7f7f7"
            ],
            [
             0.6,
             "#e6f5d0"
            ],
            [
             0.7,
             "#b8e186"
            ],
            [
             0.8,
             "#7fbc41"
            ],
            [
             0.9,
             "#4d9221"
            ],
            [
             1,
             "#276419"
            ]
           ],
           "sequential": [
            [
             0,
             "#0d0887"
            ],
            [
             0.1111111111111111,
             "#46039f"
            ],
            [
             0.2222222222222222,
             "#7201a8"
            ],
            [
             0.3333333333333333,
             "#9c179e"
            ],
            [
             0.4444444444444444,
             "#bd3786"
            ],
            [
             0.5555555555555556,
             "#d8576b"
            ],
            [
             0.6666666666666666,
             "#ed7953"
            ],
            [
             0.7777777777777778,
             "#fb9f3a"
            ],
            [
             0.8888888888888888,
             "#fdca26"
            ],
            [
             1,
             "#f0f921"
            ]
           ],
           "sequentialminus": [
            [
             0,
             "#0d0887"
            ],
            [
             0.1111111111111111,
             "#46039f"
            ],
            [
             0.2222222222222222,
             "#7201a8"
            ],
            [
             0.3333333333333333,
             "#9c179e"
            ],
            [
             0.4444444444444444,
             "#bd3786"
            ],
            [
             0.5555555555555556,
             "#d8576b"
            ],
            [
             0.6666666666666666,
             "#ed7953"
            ],
            [
             0.7777777777777778,
             "#fb9f3a"
            ],
            [
             0.8888888888888888,
             "#fdca26"
            ],
            [
             1,
             "#f0f921"
            ]
           ]
          },
          "colorway": [
           "#636efa",
           "#EF553B",
           "#00cc96",
           "#ab63fa",
           "#FFA15A",
           "#19d3f3",
           "#FF6692",
           "#B6E880",
           "#FF97FF",
           "#FECB52"
          ],
          "font": {
           "color": "#2a3f5f"
          },
          "geo": {
           "bgcolor": "white",
           "lakecolor": "white",
           "landcolor": "#E5ECF6",
           "showlakes": true,
           "showland": true,
           "subunitcolor": "white"
          },
          "hoverlabel": {
           "align": "left"
          },
          "hovermode": "closest",
          "mapbox": {
           "style": "light"
          },
          "paper_bgcolor": "white",
          "plot_bgcolor": "#E5ECF6",
          "polar": {
           "angularaxis": {
            "gridcolor": "white",
            "linecolor": "white",
            "ticks": ""
           },
           "bgcolor": "#E5ECF6",
           "radialaxis": {
            "gridcolor": "white",
            "linecolor": "white",
            "ticks": ""
           }
          },
          "scene": {
           "xaxis": {
            "backgroundcolor": "#E5ECF6",
            "gridcolor": "white",
            "gridwidth": 2,
            "linecolor": "white",
            "showbackground": true,
            "ticks": "",
            "zerolinecolor": "white"
           },
           "yaxis": {
            "backgroundcolor": "#E5ECF6",
            "gridcolor": "white",
            "gridwidth": 2,
            "linecolor": "white",
            "showbackground": true,
            "ticks": "",
            "zerolinecolor": "white"
           },
           "zaxis": {
            "backgroundcolor": "#E5ECF6",
            "gridcolor": "white",
            "gridwidth": 2,
            "linecolor": "white",
            "showbackground": true,
            "ticks": "",
            "zerolinecolor": "white"
           }
          },
          "shapedefaults": {
           "line": {
            "color": "#2a3f5f"
           }
          },
          "ternary": {
           "aaxis": {
            "gridcolor": "white",
            "linecolor": "white",
            "ticks": ""
           },
           "baxis": {
            "gridcolor": "white",
            "linecolor": "white",
            "ticks": ""
           },
           "bgcolor": "#E5ECF6",
           "caxis": {
            "gridcolor": "white",
            "linecolor": "white",
            "ticks": ""
           }
          },
          "title": {
           "x": 0.05
          },
          "xaxis": {
           "automargin": true,
           "gridcolor": "white",
           "linecolor": "white",
           "ticks": "",
           "title": {
            "standoff": 15
           },
           "zerolinecolor": "white",
           "zerolinewidth": 2
          },
          "yaxis": {
           "automargin": true,
           "gridcolor": "white",
           "linecolor": "white",
           "ticks": "",
           "title": {
            "standoff": 15
           },
           "zerolinecolor": "white",
           "zerolinewidth": 2
          }
         }
        },
        "title": {
         "text": "ScreePlot",
         "x": 0.5
        },
        "xaxis": {
         "title": {
          "text": "No of eigen values"
         }
        },
        "yaxis": {
         "title": {
          "text": "eigen value"
         }
        }
       }
      },
      "text/html": [
       "<div>\n",
       "        \n",
       "        \n",
       "            <div id=\"0eb6e525-dbdb-4a40-8b77-80df3d763723\" class=\"plotly-graph-div\" style=\"height:525px; width:100%;\"></div>\n",
       "            <script type=\"text/javascript\">\n",
       "                require([\"plotly\"], function(Plotly) {\n",
       "                    window.PLOTLYENV=window.PLOTLYENV || {};\n",
       "                    \n",
       "                if (document.getElementById(\"0eb6e525-dbdb-4a40-8b77-80df3d763723\")) {\n",
       "                    Plotly.newPlot(\n",
       "                        '0eb6e525-dbdb-4a40-8b77-80df3d763723',\n",
       "                        [{\"type\": \"scatter\", \"x\": [0, 1, 2, 3, 4, 5, 6, 7, 8, 9], \"y\": [8.297937985619606, 7.4085161604502785, 0.3295850620164033, 0.08160042077312113, 0.03300386836037642, 0.010754686848887817, 0.006554089847604645, 0.003220728205878107, 0.0025724857523763793, 0.0017239233766755879]}],\n",
       "                        {\"template\": {\"data\": {\"bar\": [{\"error_x\": {\"color\": \"#2a3f5f\"}, \"error_y\": {\"color\": \"#2a3f5f\"}, \"marker\": {\"line\": {\"color\": \"#E5ECF6\", \"width\": 0.5}}, \"type\": \"bar\"}], \"barpolar\": [{\"marker\": {\"line\": {\"color\": \"#E5ECF6\", \"width\": 0.5}}, \"type\": \"barpolar\"}], \"carpet\": [{\"aaxis\": {\"endlinecolor\": \"#2a3f5f\", \"gridcolor\": \"white\", \"linecolor\": \"white\", \"minorgridcolor\": \"white\", \"startlinecolor\": \"#2a3f5f\"}, \"baxis\": {\"endlinecolor\": \"#2a3f5f\", \"gridcolor\": \"white\", \"linecolor\": \"white\", \"minorgridcolor\": \"white\", \"startlinecolor\": \"#2a3f5f\"}, \"type\": \"carpet\"}], \"choropleth\": [{\"colorbar\": {\"outlinewidth\": 0, \"ticks\": \"\"}, \"type\": \"choropleth\"}], \"contour\": [{\"colorbar\": {\"outlinewidth\": 0, \"ticks\": \"\"}, \"colorscale\": [[0.0, \"#0d0887\"], [0.1111111111111111, \"#46039f\"], [0.2222222222222222, \"#7201a8\"], [0.3333333333333333, \"#9c179e\"], [0.4444444444444444, \"#bd3786\"], [0.5555555555555556, \"#d8576b\"], [0.6666666666666666, \"#ed7953\"], [0.7777777777777778, \"#fb9f3a\"], [0.8888888888888888, \"#fdca26\"], [1.0, \"#f0f921\"]], \"type\": \"contour\"}], \"contourcarpet\": [{\"colorbar\": {\"outlinewidth\": 0, \"ticks\": \"\"}, \"type\": \"contourcarpet\"}], \"heatmap\": [{\"colorbar\": {\"outlinewidth\": 0, \"ticks\": \"\"}, \"colorscale\": [[0.0, \"#0d0887\"], [0.1111111111111111, \"#46039f\"], [0.2222222222222222, \"#7201a8\"], [0.3333333333333333, \"#9c179e\"], [0.4444444444444444, \"#bd3786\"], [0.5555555555555556, \"#d8576b\"], [0.6666666666666666, \"#ed7953\"], [0.7777777777777778, \"#fb9f3a\"], [0.8888888888888888, \"#fdca26\"], [1.0, \"#f0f921\"]], \"type\": \"heatmap\"}], \"heatmapgl\": [{\"colorbar\": {\"outlinewidth\": 0, \"ticks\": \"\"}, \"colorscale\": [[0.0, \"#0d0887\"], [0.1111111111111111, \"#46039f\"], [0.2222222222222222, \"#7201a8\"], [0.3333333333333333, \"#9c179e\"], [0.4444444444444444, \"#bd3786\"], [0.5555555555555556, \"#d8576b\"], [0.6666666666666666, \"#ed7953\"], [0.7777777777777778, \"#fb9f3a\"], [0.8888888888888888, \"#fdca26\"], [1.0, \"#f0f921\"]], \"type\": \"heatmapgl\"}], \"histogram\": [{\"marker\": {\"colorbar\": {\"outlinewidth\": 0, \"ticks\": \"\"}}, \"type\": \"histogram\"}], \"histogram2d\": [{\"colorbar\": {\"outlinewidth\": 0, \"ticks\": \"\"}, \"colorscale\": [[0.0, \"#0d0887\"], [0.1111111111111111, \"#46039f\"], [0.2222222222222222, \"#7201a8\"], [0.3333333333333333, \"#9c179e\"], [0.4444444444444444, \"#bd3786\"], [0.5555555555555556, \"#d8576b\"], [0.6666666666666666, \"#ed7953\"], [0.7777777777777778, \"#fb9f3a\"], [0.8888888888888888, \"#fdca26\"], [1.0, \"#f0f921\"]], \"type\": \"histogram2d\"}], \"histogram2dcontour\": [{\"colorbar\": {\"outlinewidth\": 0, \"ticks\": \"\"}, \"colorscale\": [[0.0, \"#0d0887\"], [0.1111111111111111, \"#46039f\"], [0.2222222222222222, \"#7201a8\"], [0.3333333333333333, \"#9c179e\"], [0.4444444444444444, \"#bd3786\"], [0.5555555555555556, \"#d8576b\"], [0.6666666666666666, \"#ed7953\"], [0.7777777777777778, \"#fb9f3a\"], [0.8888888888888888, \"#fdca26\"], [1.0, \"#f0f921\"]], \"type\": \"histogram2dcontour\"}], \"mesh3d\": [{\"colorbar\": {\"outlinewidth\": 0, \"ticks\": \"\"}, \"type\": \"mesh3d\"}], \"parcoords\": [{\"line\": {\"colorbar\": {\"outlinewidth\": 0, \"ticks\": \"\"}}, \"type\": \"parcoords\"}], \"pie\": [{\"automargin\": true, \"type\": \"pie\"}], \"scatter\": [{\"marker\": {\"colorbar\": {\"outlinewidth\": 0, \"ticks\": \"\"}}, \"type\": \"scatter\"}], \"scatter3d\": [{\"line\": {\"colorbar\": {\"outlinewidth\": 0, \"ticks\": \"\"}}, \"marker\": {\"colorbar\": {\"outlinewidth\": 0, \"ticks\": \"\"}}, \"type\": \"scatter3d\"}], \"scattercarpet\": [{\"marker\": {\"colorbar\": {\"outlinewidth\": 0, \"ticks\": \"\"}}, \"type\": \"scattercarpet\"}], \"scattergeo\": [{\"marker\": {\"colorbar\": {\"outlinewidth\": 0, \"ticks\": \"\"}}, \"type\": \"scattergeo\"}], \"scattergl\": [{\"marker\": {\"colorbar\": {\"outlinewidth\": 0, \"ticks\": \"\"}}, \"type\": \"scattergl\"}], \"scattermapbox\": [{\"marker\": {\"colorbar\": {\"outlinewidth\": 0, \"ticks\": \"\"}}, \"type\": \"scattermapbox\"}], \"scatterpolar\": [{\"marker\": {\"colorbar\": {\"outlinewidth\": 0, \"ticks\": \"\"}}, \"type\": \"scatterpolar\"}], \"scatterpolargl\": [{\"marker\": {\"colorbar\": {\"outlinewidth\": 0, \"ticks\": \"\"}}, \"type\": \"scatterpolargl\"}], \"scatterternary\": [{\"marker\": {\"colorbar\": {\"outlinewidth\": 0, \"ticks\": \"\"}}, \"type\": \"scatterternary\"}], \"surface\": [{\"colorbar\": {\"outlinewidth\": 0, \"ticks\": \"\"}, \"colorscale\": [[0.0, \"#0d0887\"], [0.1111111111111111, \"#46039f\"], [0.2222222222222222, \"#7201a8\"], [0.3333333333333333, \"#9c179e\"], [0.4444444444444444, \"#bd3786\"], [0.5555555555555556, \"#d8576b\"], [0.6666666666666666, \"#ed7953\"], [0.7777777777777778, \"#fb9f3a\"], [0.8888888888888888, \"#fdca26\"], [1.0, \"#f0f921\"]], \"type\": \"surface\"}], \"table\": [{\"cells\": {\"fill\": {\"color\": \"#EBF0F8\"}, \"line\": {\"color\": \"white\"}}, \"header\": {\"fill\": {\"color\": \"#C8D4E3\"}, \"line\": {\"color\": \"white\"}}, \"type\": \"table\"}]}, \"layout\": {\"annotationdefaults\": {\"arrowcolor\": \"#2a3f5f\", \"arrowhead\": 0, \"arrowwidth\": 1}, \"coloraxis\": {\"colorbar\": {\"outlinewidth\": 0, \"ticks\": \"\"}}, \"colorscale\": {\"diverging\": [[0, \"#8e0152\"], [0.1, \"#c51b7d\"], [0.2, \"#de77ae\"], [0.3, \"#f1b6da\"], [0.4, \"#fde0ef\"], [0.5, \"#f7f7f7\"], [0.6, \"#e6f5d0\"], [0.7, \"#b8e186\"], [0.8, \"#7fbc41\"], [0.9, \"#4d9221\"], [1, \"#276419\"]], \"sequential\": [[0.0, \"#0d0887\"], [0.1111111111111111, \"#46039f\"], [0.2222222222222222, \"#7201a8\"], [0.3333333333333333, \"#9c179e\"], [0.4444444444444444, \"#bd3786\"], [0.5555555555555556, \"#d8576b\"], [0.6666666666666666, \"#ed7953\"], [0.7777777777777778, \"#fb9f3a\"], [0.8888888888888888, \"#fdca26\"], [1.0, \"#f0f921\"]], \"sequentialminus\": [[0.0, \"#0d0887\"], [0.1111111111111111, \"#46039f\"], [0.2222222222222222, \"#7201a8\"], [0.3333333333333333, \"#9c179e\"], [0.4444444444444444, \"#bd3786\"], [0.5555555555555556, \"#d8576b\"], [0.6666666666666666, \"#ed7953\"], [0.7777777777777778, \"#fb9f3a\"], [0.8888888888888888, \"#fdca26\"], [1.0, \"#f0f921\"]]}, \"colorway\": [\"#636efa\", \"#EF553B\", \"#00cc96\", \"#ab63fa\", \"#FFA15A\", \"#19d3f3\", \"#FF6692\", \"#B6E880\", \"#FF97FF\", \"#FECB52\"], \"font\": {\"color\": \"#2a3f5f\"}, \"geo\": {\"bgcolor\": \"white\", \"lakecolor\": \"white\", \"landcolor\": \"#E5ECF6\", \"showlakes\": true, \"showland\": true, \"subunitcolor\": \"white\"}, \"hoverlabel\": {\"align\": \"left\"}, \"hovermode\": \"closest\", \"mapbox\": {\"style\": \"light\"}, \"paper_bgcolor\": \"white\", \"plot_bgcolor\": \"#E5ECF6\", \"polar\": {\"angularaxis\": {\"gridcolor\": \"white\", \"linecolor\": \"white\", \"ticks\": \"\"}, \"bgcolor\": \"#E5ECF6\", \"radialaxis\": {\"gridcolor\": \"white\", \"linecolor\": \"white\", \"ticks\": \"\"}}, \"scene\": {\"xaxis\": {\"backgroundcolor\": \"#E5ECF6\", \"gridcolor\": \"white\", \"gridwidth\": 2, \"linecolor\": \"white\", \"showbackground\": true, \"ticks\": \"\", \"zerolinecolor\": \"white\"}, \"yaxis\": {\"backgroundcolor\": \"#E5ECF6\", \"gridcolor\": \"white\", \"gridwidth\": 2, \"linecolor\": \"white\", \"showbackground\": true, \"ticks\": \"\", \"zerolinecolor\": \"white\"}, \"zaxis\": {\"backgroundcolor\": \"#E5ECF6\", \"gridcolor\": \"white\", \"gridwidth\": 2, \"linecolor\": \"white\", \"showbackground\": true, \"ticks\": \"\", \"zerolinecolor\": \"white\"}}, \"shapedefaults\": {\"line\": {\"color\": \"#2a3f5f\"}}, \"ternary\": {\"aaxis\": {\"gridcolor\": \"white\", \"linecolor\": \"white\", \"ticks\": \"\"}, \"baxis\": {\"gridcolor\": \"white\", \"linecolor\": \"white\", \"ticks\": \"\"}, \"bgcolor\": \"#E5ECF6\", \"caxis\": {\"gridcolor\": \"white\", \"linecolor\": \"white\", \"ticks\": \"\"}}, \"title\": {\"x\": 0.05}, \"xaxis\": {\"automargin\": true, \"gridcolor\": \"white\", \"linecolor\": \"white\", \"ticks\": \"\", \"title\": {\"standoff\": 15}, \"zerolinecolor\": \"white\", \"zerolinewidth\": 2}, \"yaxis\": {\"automargin\": true, \"gridcolor\": \"white\", \"linecolor\": \"white\", \"ticks\": \"\", \"title\": {\"standoff\": 15}, \"zerolinecolor\": \"white\", \"zerolinewidth\": 2}}}, \"title\": {\"text\": \"ScreePlot\", \"x\": 0.5}, \"xaxis\": {\"title\": {\"text\": \"No of eigen values\"}}, \"yaxis\": {\"title\": {\"text\": \"eigen value\"}}},\n",
       "                        {\"responsive\": true}\n",
       "                    ).then(function(){\n",
       "                            \n",
       "var gd = document.getElementById('0eb6e525-dbdb-4a40-8b77-80df3d763723');\n",
       "var x = new MutationObserver(function (mutations, observer) {{\n",
       "        var display = window.getComputedStyle(gd).display;\n",
       "        if (!display || display === 'none') {{\n",
       "            console.log([gd, 'removed!']);\n",
       "            Plotly.purge(gd);\n",
       "            observer.disconnect();\n",
       "        }}\n",
       "}});\n",
       "\n",
       "// Listen for the removal of the full notebook cells\n",
       "var notebookContainer = gd.closest('#notebook-container');\n",
       "if (notebookContainer) {{\n",
       "    x.observe(notebookContainer, {childList: true});\n",
       "}}\n",
       "\n",
       "// Listen for the clearing of the current output cell\n",
       "var outputEl = gd.closest('.output');\n",
       "if (outputEl) {{\n",
       "    x.observe(outputEl, {childList: true});\n",
       "}}\n",
       "\n",
       "                        })\n",
       "                };\n",
       "                });\n",
       "            </script>\n",
       "        </div>"
      ]
     },
     "metadata": {},
     "output_type": "display_data"
    }
   ],
   "source": [
    "method=methods['LLE']\n",
    "X_train_data = method.fit_transform(df)\n",
    "N = len(X_train_data)\n",
    "# L = (N)//2\n",
    "L =  25\n",
    "X_train = hankel(X_train_data[:L],X_train_data[L-1:]) # Creating trajectory matrix\n",
    "eigenValues, eigenVectors = eigh(np.matmul(X_train, X_train.T))\n",
    "idx = eigenValues.argsort()[::-1]\n",
    "eigenValues = eigenValues[idx]\n",
    "eigenVectors = eigenVectors[:,idx]\n",
    "# Sree plot\n",
    "\n",
    "eigen_data = go.Scatter(x=list(range(len(eigenValues[0:10]))), y=eigenValues[0:10])\n",
    "eigen_layout = go.Layout(title='ScreePlot', title_x=0.5, xaxis_title=\"No of eigen values\", yaxis_title=\"eigen value\",)\n",
    "fig = go.Figure(data=[eigen_data], layout=eigen_layout)\n",
    "fig.show()"
   ]
  },
  {
   "cell_type": "code",
   "execution_count": 6,
   "metadata": {},
   "outputs": [],
   "source": [
    "# Setting statistical dimension based on screeplot above\n",
    "r = 2\n",
    "# Performing singular value decomposition\n",
    "U, Sigma, V = np.linalg.svd(X_train)\n",
    "V = V.T\n",
    "X_elem = np.array( [Sigma[i] * np.outer(U[:,i], V[:,i]) for i in range(0,r)] )\n",
    "X_train_extracted = X_elem.sum(axis=0)\n",
    "U = eigenVectors[:,:r] # r as statistical dimension\n",
    "UT = U.T\n",
    "pX = np.matmul(UT,X_train_extracted)\n",
    "centroid = np.mean(pX, axis=1)\n",
    "centroid = centroid[:,np.newaxis]\n",
    "pXt = np.matmul(UT,X_train)\n",
    "dt_matrix = centroid - pXt\n",
    "dt_scores = np.linalg.norm(dt_matrix, axis=0, ord=2)\n",
    "\n",
    "# Testing positional Deviation\n",
    "X_test = method.fit_transform(df_test)\n",
    "Xj = hankel(X_test[:L],X_test[L-1:])\n",
    "pXj = np.matmul(UT, Xj)\n",
    "dj_matrix = centroid - pXj\n",
    "dj_scores = np.linalg.norm(dj_matrix, axis=0, ord=2)\n",
    "dj_scores = np.asarray(dj_scores)\n"
   ]
  },
  {
   "cell_type": "code",
   "execution_count": 8,
   "metadata": {},
   "outputs": [
    {
     "data": {
      "application/vnd.plotly.v1+json": {
       "config": {
        "plotlyServerURL": "https://plot.ly"
       },
       "data": [
        {
         "marker": {
          "color": "blue"
         },
         "name": "Training path",
         "type": "scatter",
         "x": [
          0,
          -0.2,
          -0.25,
          -0.27,
          -0.8,
          -1.25,
          -2.53,
          -2.69,
          -2.02,
          -0.82,
          0.45,
          1.77,
          3.1,
          4.4,
          5.73,
          7.06,
          8.38,
          9.71,
          11.1,
          12.4,
          13.67,
          14.95,
          16.23,
          17.53,
          18.82,
          20.1,
          21.42,
          22.73,
          24.02,
          25.29,
          26.51,
          27.5,
          26.32,
          24.94,
          23.55,
          22.16,
          20.8,
          19.45,
          18.11,
          16.76,
          13.95,
          12.54,
          11.15,
          9.76,
          8.37,
          7,
          5.63,
          4.26,
          2.95,
          1.56,
          0.21,
          -1.12,
          -2.39,
          -3.48,
          -2.14,
          -0.74,
          0.64,
          2.04,
          3.48,
          4.91,
          6.31,
          7.7,
          9.08,
          10.48,
          11.88,
          13.27,
          14.67,
          16.05,
          17.4,
          18.75,
          20.11,
          21.46,
          22.79,
          24.13,
          25.53,
          26.82,
          27.7,
          26.38,
          25,
          23.58,
          22.17,
          20.72,
          19.26,
          17.81,
          16.36,
          14.92,
          13.48,
          12.07,
          10.67,
          9.23,
          7.78,
          6.34,
          4.9,
          3.45,
          1.99,
          0.58,
          -0.82,
          -2.2,
          -2.82,
          -2.96,
          -1.69,
          -1.06,
          -0.89,
          0.11,
          0.04,
          0.07,
          -0.11,
          0,
          -0.2,
          -0.25
         ],
         "xaxis": "x",
         "y": [
          0,
          -0.01,
          0.32,
          1.14,
          2.06,
          3.3,
          3.69,
          3.96,
          5.03,
          5.55,
          5.67,
          5.71,
          5.69,
          5.71,
          5.77,
          5.81,
          5.86,
          5.99,
          6.09,
          6.24,
          6.43,
          6.53,
          6.51,
          6.47,
          6.53,
          6.61,
          6.68,
          6.82,
          6.87,
          6.93,
          6.88,
          6.95,
          6.94,
          6.85,
          6.88,
          6.8,
          6.71,
          6.6,
          6.55,
          6.5,
          6.45,
          6.37,
          6.27,
          6.24,
          6.27,
          6.25,
          6.26,
          6.25,
          6.05,
          6,
          6.01,
          5.93,
          5.95,
          5.72,
          5.75,
          5.87,
          5.85,
          5.85,
          5.87,
          5.95,
          6.04,
          6.08,
          6.1,
          6.15,
          6.2,
          6.23,
          6.3,
          6.33,
          6.4,
          6.37,
          6.4,
          6.28,
          6.24,
          6.18,
          6.32,
          6.42,
          6.53,
          6.52,
          6.46,
          6.47,
          6.51,
          6.42,
          6.37,
          6.33,
          6.33,
          6.35,
          6.41,
          6.51,
          6.59,
          6.5,
          6.42,
          6.38,
          6.24,
          6.24,
          6.21,
          6.21,
          6.25,
          6.15,
          5.3,
          4.41,
          4.09,
          3.29,
          2.17,
          1.76,
          1.74,
          1.82,
          1.47,
          0,
          -0.01,
          0.32
         ],
         "yaxis": "y"
        },
        {
         "marker": {
          "color": "red"
         },
         "name": "Testing Score",
         "type": "scatter",
         "x": [
          -2.03,
          -2.97,
          -2.74,
          -1.95,
          -0.67,
          0.68,
          1.99,
          3.33,
          4.64,
          5.87,
          6.6,
          6.73,
          6.71,
          6.72,
          6.72,
          6.43,
          6.1,
          6.08,
          6.25,
          6.6,
          6.96,
          7.89,
          9.19,
          10.55,
          11.88,
          13.24,
          14.58,
          15.92,
          17.27,
          18.6,
          19.93,
          21.23,
          22.58,
          23.84,
          25,
          25.99,
          24.81,
          23.43,
          22.07,
          20.72,
          19.32,
          17.92,
          16.51,
          15.12,
          13.73,
          12.35,
          11.01,
          9.68,
          8.32,
          7,
          5.66,
          4.28,
          2.95,
          1.6,
          0.25,
          -1.09,
          -2.34,
          -2.86,
          -3.31,
          -2.38,
          -1.33,
          -1.23,
          -1.4,
          -1.22,
          -1,
          -1.15,
          -1.18,
          -2.36,
          -3.41,
          -3.95,
          -3.95,
          -3.96,
          -3.8,
          -3.78,
          -3.79,
          -3.6,
          -3.16,
          -2.83,
          -2.55,
          -1.85,
          -0.62,
          0.64,
          1.98,
          3.29,
          4.56,
          5.78,
          6.59,
          6.69,
          6.45,
          6.21,
          5.98,
          5.82,
          6.04,
          6.12,
          6.21,
          6.43,
          6.82,
          7.58,
          8.79,
          10.08,
          11.46,
          12.78,
          14.11,
          15.43,
          16.73,
          18.06,
          19.38,
          20.68,
          21.93,
          23.18,
          24.45,
          25.76,
          26.75,
          25.5,
          24.17,
          22.88,
          21.52,
          20.19,
          18.82,
          17.48,
          16.09,
          14.74,
          13.36,
          12.03,
          10.68,
          9.34,
          7.97,
          6.61,
          5.24,
          3.86,
          2.46,
          1.05,
          -0.34,
          -1.67,
          -2.61,
          -3.07,
          -2.29,
          -1.2,
          -1.3,
          -1.42,
          -1.24,
          -1.16,
          -0.99,
          -1.04,
          0,
          -0.06,
          -0.76,
          -1.03,
          -0.98,
          -2.03
         ],
         "xaxis": "x2",
         "y": [
          3.5,
          3.72,
          3.86,
          4.77,
          4.95,
          5.02,
          5.13,
          5.04,
          5.04,
          4.81,
          3.85,
          2.58,
          1.26,
          -0.05,
          -1.35,
          -2.22,
          -1.44,
          -0.17,
          1.12,
          2.38,
          3.69,
          4.59,
          4.9,
          4.88,
          4.88,
          4.84,
          4.71,
          4.72,
          4.78,
          4.8,
          4.82,
          4.74,
          4.81,
          4.95,
          4.75,
          4.83,
          4.95,
          5.06,
          5.16,
          5.21,
          5.29,
          5.22,
          5.28,
          5.35,
          5.42,
          5.44,
          5.41,
          5.44,
          5.41,
          5.4,
          5.58,
          5.62,
          5.69,
          5.77,
          5.85,
          5.93,
          5.98,
          5.17,
          4.47,
          3.73,
          3.46,
          2.26,
          1.17,
          0.43,
          1.29,
          2.34,
          3.61,
          4.25,
          3.46,
          2.34,
          1.11,
          -0.07,
          -0.82,
          0.45,
          1.79,
          3.05,
          4.12,
          4.4,
          4.67,
          5.71,
          5.92,
          5.64,
          5.5,
          5.36,
          5.1,
          4.63,
          3.79,
          2.55,
          1.35,
          0.12,
          -1.11,
          -2.24,
          -2,
          -0.79,
          0.48,
          1.73,
          2.95,
          3.99,
          4.48,
          4.39,
          4.27,
          4.08,
          4.06,
          4.01,
          3.7,
          3.61,
          3.56,
          3.35,
          3.05,
          2.76,
          2.51,
          2.45,
          2.8,
          2.84,
          2.97,
          3.2,
          3.4,
          3.59,
          3.82,
          4,
          4.21,
          4.4,
          4.52,
          4.75,
          4.88,
          5.03,
          5.23,
          5.3,
          5.62,
          5.95,
          6.17,
          6.44,
          6.58,
          6.81,
          6.31,
          5.35,
          4.55,
          4.21,
          3.11,
          2.08,
          1.66,
          1.81,
          1.86,
          2.05,
          0,
          0,
          0.75,
          1.7,
          2.82,
          3.5
         ],
         "yaxis": "y2"
        },
        {
         "marker": {
          "color": "blue"
         },
         "name": "Training Score",
         "type": "scatter",
         "x": [
          0,
          1,
          2,
          3,
          4,
          5,
          6,
          7,
          8,
          9,
          10,
          11,
          12,
          13,
          14,
          15,
          16,
          17,
          18,
          19,
          20,
          21,
          22,
          23,
          24,
          25,
          26,
          27,
          28,
          29,
          30,
          31,
          32,
          33,
          34,
          35,
          36,
          37,
          38,
          39,
          40,
          41,
          42,
          43,
          44,
          45,
          46,
          47,
          48,
          49,
          50,
          51,
          52,
          53,
          54,
          55,
          56,
          57,
          58,
          59,
          60,
          61,
          62,
          63,
          64,
          65,
          66,
          67,
          68,
          69,
          70,
          71,
          72,
          73,
          74,
          75,
          76,
          77,
          78,
          79,
          80,
          81,
          82,
          83,
          84,
          85
         ],
         "xaxis": "x3",
         "y": [
          0.43412156568855237,
          0.42305144017010343,
          0.4138616702078371,
          0.40270965444535267,
          0.3946369591700289,
          0.3881777378092508,
          0.38180185499021396,
          0.37548256882251535,
          0.36924799425665145,
          0.363278195326787,
          0.3578119362308929,
          0.3510178556435121,
          0.3455540156509988,
          0.3416816964456829,
          0.3395584735215451,
          0.33925717719923765,
          0.3407993365136992,
          0.34412328562051897,
          0.34909133339704207,
          0.3555465688258547,
          0.36324123623377796,
          0.37174826342335315,
          0.3809492867889406,
          0.3900838268259615,
          0.39971518943868706,
          0.4036421500213726,
          0.40120167634029275,
          0.3937351135742901,
          0.3862399281139492,
          0.37919289187155863,
          0.3727331788477778,
          0.36717810257521233,
          0.3627896255160339,
          0.35980253161646303,
          0.35836165810154663,
          0.35860601655208585,
          0.3601305226832822,
          0.36271042595389336,
          0.36624893402189285,
          0.37059704088571055,
          0.375600555593467,
          0.38110650734134,
          0.38694433733164274,
          0.39295138083080755,
          0.39890035455610723,
          0.4049312812354571,
          0.4110156131867046,
          0.41591327988867166,
          0.41488458446464266,
          0.40712287053172547,
          0.39867996086214386,
          0.39035216356837155,
          0.38172450278872405,
          0.37319860735588156,
          0.3651532074768922,
          0.3578725958282973,
          0.351577342055933,
          0.3464773866039964,
          0.3428098783049247,
          0.34069936576965937,
          0.3401655877457784,
          0.3412302478254302,
          0.3438125142909244,
          0.34786056811661453,
          0.35317985263310414,
          0.3595351581584437,
          0.3664608814180665,
          0.37364854428257,
          0.38132117311958513,
          0.3913987807777156,
          0.40300068622768687,
          0.41090705023408963,
          0.41993291763582635,
          0.4360946254655302,
          0.4562081929652131,
          0.4782754449592897
         ],
         "yaxis": "y3"
        },
        {
         "marker": {
          "color": "red"
         },
         "name": "Testing Score",
         "type": "scatter",
         "x": [
          0,
          1,
          2,
          3,
          4,
          5,
          6,
          7,
          8,
          9,
          10,
          11,
          12,
          13,
          14,
          15,
          16,
          17,
          18,
          19,
          20,
          21,
          22,
          23,
          24,
          25,
          26,
          27,
          28,
          29,
          30,
          31,
          32,
          33,
          34,
          35,
          36,
          37,
          38,
          39,
          40,
          41,
          42,
          43,
          44,
          45,
          46,
          47,
          48,
          49,
          50,
          51,
          52,
          53,
          54,
          55,
          56,
          57,
          58,
          59,
          60,
          61,
          62,
          63,
          64,
          65,
          66,
          67,
          68,
          69,
          70,
          71,
          72,
          73,
          74,
          75,
          76,
          77,
          78,
          79,
          80,
          81,
          82,
          83,
          84,
          85,
          86,
          87,
          88,
          89,
          90,
          91,
          92,
          93,
          94,
          95,
          96,
          97,
          98,
          99,
          100,
          101,
          102,
          103,
          104,
          105,
          106,
          107,
          108,
          109,
          110,
          111,
          112,
          113,
          114,
          115,
          116,
          117,
          118,
          119,
          120,
          121,
          122,
          123,
          124,
          125
         ],
         "xaxis": "x3",
         "y": [
          0.38809005839172683,
          0.39013720008222813,
          0.39367571330462475,
          0.3992342768946033,
          0.4066488422813352,
          0.4147591497390979,
          0.42266864286795475,
          0.4297089634154877,
          0.43547978280941085,
          0.4398855876075614,
          0.44310061259212485,
          0.4451995195058505,
          0.44659890560547255,
          0.44812499947147527,
          0.4506910177858158,
          0.4553063541882828,
          0.46275958219106256,
          0.4723276732535361,
          0.4819807434705055,
          0.49024302151074745,
          0.496404264237673,
          0.5004746139066658,
          0.5028521983136863,
          0.5035952410390815,
          0.5026266283789125,
          0.49996193984672344,
          0.4956296084929065,
          0.4895857344497015,
          0.48200811473133476,
          0.4730885293641335,
          0.46300266113881433,
          0.4518796011418112,
          0.43963077916570825,
          0.42630457347916395,
          0.41193720376687337,
          0.3940288233921485,
          0.37193708915453916,
          0.35288567552946115,
          0.3378609273134691,
          0.326153146789035,
          0.31453264353475524,
          0.30326844373442463,
          0.29164348498815784,
          0.28406281782605197,
          0.2828877614569,
          0.2869549641828557,
          0.2946057819071177,
          0.30509175441000924,
          0.31712036488413187,
          0.32755346806909535,
          0.336270905997258,
          0.3434881202359105,
          0.34899502650755476,
          0.3536511064119042,
          0.3573859964733175,
          0.35919250857903284,
          0.35917033044864854,
          0.3574829870679511,
          0.354084450889149,
          0.34913294015431434,
          0.34366542067109107,
          0.3390275097713836,
          0.3349590888572529,
          0.332780966201669,
          0.3343578040900484,
          0.3440066815871172,
          0.3635598946393484,
          0.3941829712678523,
          0.4244071097359957,
          0.44490786234590785,
          0.45483049347324817,
          0.4549154251438728,
          0.44576045841356693,
          0.4312605561577265,
          0.4189761223930107,
          0.4115877005944776,
          0.40907697710874624,
          0.4108699612184189,
          0.41509806942278066,
          0.4211390843686802,
          0.4289503155578707,
          0.4373304414984465,
          0.44542162727980505,
          0.45268014166804116,
          0.45870861825407566,
          0.46328521554804136,
          0.4663702339018091,
          0.4683487004889393,
          0.47005286621571796,
          0.4723509746311323,
          0.47608501506638384,
          0.4821808855176767,
          0.49146278892746004,
          0.5035181425326283,
          0.5162278809966543,
          0.5278524340197337,
          0.5373500098629529,
          0.5443953584054235,
          0.5492353443510686,
          0.5520917973759165,
          0.5529813528503854,
          0.5519010981100512,
          0.5488452099560905,
          0.5439399341060334,
          0.5374013402970803,
          0.5291309569198586,
          0.5191355041165034,
          0.5074659148648748,
          0.49415721665458606,
          0.4791724269914513,
          0.4628569682725666,
          0.44518869232569136,
          0.42400926847086173,
          0.39867198542888743,
          0.37623585896282574,
          0.3570232268888183,
          0.3400585748358695,
          0.3246861748608349,
          0.311137371568524,
          0.2996838280268972,
          0.29391270407797765,
          0.2906597964682262,
          0.28887373853356474,
          0.28755320154329017,
          0.2862342137708025,
          0.28723734989328353
         ],
         "yaxis": "y3"
        }
       ],
       "layout": {
        "annotations": [
         {
          "font": {
           "size": 16
          },
          "showarrow": false,
          "text": "Training plot",
          "x": 0.225,
          "xanchor": "center",
          "xref": "paper",
          "y": 1,
          "yanchor": "bottom",
          "yref": "paper"
         },
         {
          "font": {
           "size": 16
          },
          "showarrow": false,
          "text": "Testing plot",
          "x": 0.775,
          "xanchor": "center",
          "xref": "paper",
          "y": 1,
          "yanchor": "bottom",
          "yref": "paper"
         },
         {
          "font": {
           "size": 16
          },
          "showarrow": false,
          "text": "Anomaly score by Locally Linear Embedding",
          "x": 0.5,
          "xanchor": "center",
          "xref": "paper",
          "y": 0.375,
          "yanchor": "bottom",
          "yref": "paper"
         }
        ],
        "showlegend": false,
        "template": {
         "data": {
          "bar": [
           {
            "error_x": {
             "color": "#2a3f5f"
            },
            "error_y": {
             "color": "#2a3f5f"
            },
            "marker": {
             "line": {
              "color": "#E5ECF6",
              "width": 0.5
             }
            },
            "type": "bar"
           }
          ],
          "barpolar": [
           {
            "marker": {
             "line": {
              "color": "#E5ECF6",
              "width": 0.5
             }
            },
            "type": "barpolar"
           }
          ],
          "carpet": [
           {
            "aaxis": {
             "endlinecolor": "#2a3f5f",
             "gridcolor": "white",
             "linecolor": "white",
             "minorgridcolor": "white",
             "startlinecolor": "#2a3f5f"
            },
            "baxis": {
             "endlinecolor": "#2a3f5f",
             "gridcolor": "white",
             "linecolor": "white",
             "minorgridcolor": "white",
             "startlinecolor": "#2a3f5f"
            },
            "type": "carpet"
           }
          ],
          "choropleth": [
           {
            "colorbar": {
             "outlinewidth": 0,
             "ticks": ""
            },
            "type": "choropleth"
           }
          ],
          "contour": [
           {
            "colorbar": {
             "outlinewidth": 0,
             "ticks": ""
            },
            "colorscale": [
             [
              0,
              "#0d0887"
             ],
             [
              0.1111111111111111,
              "#46039f"
             ],
             [
              0.2222222222222222,
              "#7201a8"
             ],
             [
              0.3333333333333333,
              "#9c179e"
             ],
             [
              0.4444444444444444,
              "#bd3786"
             ],
             [
              0.5555555555555556,
              "#d8576b"
             ],
             [
              0.6666666666666666,
              "#ed7953"
             ],
             [
              0.7777777777777778,
              "#fb9f3a"
             ],
             [
              0.8888888888888888,
              "#fdca26"
             ],
             [
              1,
              "#f0f921"
             ]
            ],
            "type": "contour"
           }
          ],
          "contourcarpet": [
           {
            "colorbar": {
             "outlinewidth": 0,
             "ticks": ""
            },
            "type": "contourcarpet"
           }
          ],
          "heatmap": [
           {
            "colorbar": {
             "outlinewidth": 0,
             "ticks": ""
            },
            "colorscale": [
             [
              0,
              "#0d0887"
             ],
             [
              0.1111111111111111,
              "#46039f"
             ],
             [
              0.2222222222222222,
              "#7201a8"
             ],
             [
              0.3333333333333333,
              "#9c179e"
             ],
             [
              0.4444444444444444,
              "#bd3786"
             ],
             [
              0.5555555555555556,
              "#d8576b"
             ],
             [
              0.6666666666666666,
              "#ed7953"
             ],
             [
              0.7777777777777778,
              "#fb9f3a"
             ],
             [
              0.8888888888888888,
              "#fdca26"
             ],
             [
              1,
              "#f0f921"
             ]
            ],
            "type": "heatmap"
           }
          ],
          "heatmapgl": [
           {
            "colorbar": {
             "outlinewidth": 0,
             "ticks": ""
            },
            "colorscale": [
             [
              0,
              "#0d0887"
             ],
             [
              0.1111111111111111,
              "#46039f"
             ],
             [
              0.2222222222222222,
              "#7201a8"
             ],
             [
              0.3333333333333333,
              "#9c179e"
             ],
             [
              0.4444444444444444,
              "#bd3786"
             ],
             [
              0.5555555555555556,
              "#d8576b"
             ],
             [
              0.6666666666666666,
              "#ed7953"
             ],
             [
              0.7777777777777778,
              "#fb9f3a"
             ],
             [
              0.8888888888888888,
              "#fdca26"
             ],
             [
              1,
              "#f0f921"
             ]
            ],
            "type": "heatmapgl"
           }
          ],
          "histogram": [
           {
            "marker": {
             "colorbar": {
              "outlinewidth": 0,
              "ticks": ""
             }
            },
            "type": "histogram"
           }
          ],
          "histogram2d": [
           {
            "colorbar": {
             "outlinewidth": 0,
             "ticks": ""
            },
            "colorscale": [
             [
              0,
              "#0d0887"
             ],
             [
              0.1111111111111111,
              "#46039f"
             ],
             [
              0.2222222222222222,
              "#7201a8"
             ],
             [
              0.3333333333333333,
              "#9c179e"
             ],
             [
              0.4444444444444444,
              "#bd3786"
             ],
             [
              0.5555555555555556,
              "#d8576b"
             ],
             [
              0.6666666666666666,
              "#ed7953"
             ],
             [
              0.7777777777777778,
              "#fb9f3a"
             ],
             [
              0.8888888888888888,
              "#fdca26"
             ],
             [
              1,
              "#f0f921"
             ]
            ],
            "type": "histogram2d"
           }
          ],
          "histogram2dcontour": [
           {
            "colorbar": {
             "outlinewidth": 0,
             "ticks": ""
            },
            "colorscale": [
             [
              0,
              "#0d0887"
             ],
             [
              0.1111111111111111,
              "#46039f"
             ],
             [
              0.2222222222222222,
              "#7201a8"
             ],
             [
              0.3333333333333333,
              "#9c179e"
             ],
             [
              0.4444444444444444,
              "#bd3786"
             ],
             [
              0.5555555555555556,
              "#d8576b"
             ],
             [
              0.6666666666666666,
              "#ed7953"
             ],
             [
              0.7777777777777778,
              "#fb9f3a"
             ],
             [
              0.8888888888888888,
              "#fdca26"
             ],
             [
              1,
              "#f0f921"
             ]
            ],
            "type": "histogram2dcontour"
           }
          ],
          "mesh3d": [
           {
            "colorbar": {
             "outlinewidth": 0,
             "ticks": ""
            },
            "type": "mesh3d"
           }
          ],
          "parcoords": [
           {
            "line": {
             "colorbar": {
              "outlinewidth": 0,
              "ticks": ""
             }
            },
            "type": "parcoords"
           }
          ],
          "pie": [
           {
            "automargin": true,
            "type": "pie"
           }
          ],
          "scatter": [
           {
            "marker": {
             "colorbar": {
              "outlinewidth": 0,
              "ticks": ""
             }
            },
            "type": "scatter"
           }
          ],
          "scatter3d": [
           {
            "line": {
             "colorbar": {
              "outlinewidth": 0,
              "ticks": ""
             }
            },
            "marker": {
             "colorbar": {
              "outlinewidth": 0,
              "ticks": ""
             }
            },
            "type": "scatter3d"
           }
          ],
          "scattercarpet": [
           {
            "marker": {
             "colorbar": {
              "outlinewidth": 0,
              "ticks": ""
             }
            },
            "type": "scattercarpet"
           }
          ],
          "scattergeo": [
           {
            "marker": {
             "colorbar": {
              "outlinewidth": 0,
              "ticks": ""
             }
            },
            "type": "scattergeo"
           }
          ],
          "scattergl": [
           {
            "marker": {
             "colorbar": {
              "outlinewidth": 0,
              "ticks": ""
             }
            },
            "type": "scattergl"
           }
          ],
          "scattermapbox": [
           {
            "marker": {
             "colorbar": {
              "outlinewidth": 0,
              "ticks": ""
             }
            },
            "type": "scattermapbox"
           }
          ],
          "scatterpolar": [
           {
            "marker": {
             "colorbar": {
              "outlinewidth": 0,
              "ticks": ""
             }
            },
            "type": "scatterpolar"
           }
          ],
          "scatterpolargl": [
           {
            "marker": {
             "colorbar": {
              "outlinewidth": 0,
              "ticks": ""
             }
            },
            "type": "scatterpolargl"
           }
          ],
          "scatterternary": [
           {
            "marker": {
             "colorbar": {
              "outlinewidth": 0,
              "ticks": ""
             }
            },
            "type": "scatterternary"
           }
          ],
          "surface": [
           {
            "colorbar": {
             "outlinewidth": 0,
             "ticks": ""
            },
            "colorscale": [
             [
              0,
              "#0d0887"
             ],
             [
              0.1111111111111111,
              "#46039f"
             ],
             [
              0.2222222222222222,
              "#7201a8"
             ],
             [
              0.3333333333333333,
              "#9c179e"
             ],
             [
              0.4444444444444444,
              "#bd3786"
             ],
             [
              0.5555555555555556,
              "#d8576b"
             ],
             [
              0.6666666666666666,
              "#ed7953"
             ],
             [
              0.7777777777777778,
              "#fb9f3a"
             ],
             [
              0.8888888888888888,
              "#fdca26"
             ],
             [
              1,
              "#f0f921"
             ]
            ],
            "type": "surface"
           }
          ],
          "table": [
           {
            "cells": {
             "fill": {
              "color": "#EBF0F8"
             },
             "line": {
              "color": "white"
             }
            },
            "header": {
             "fill": {
              "color": "#C8D4E3"
             },
             "line": {
              "color": "white"
             }
            },
            "type": "table"
           }
          ]
         },
         "layout": {
          "annotationdefaults": {
           "arrowcolor": "#2a3f5f",
           "arrowhead": 0,
           "arrowwidth": 1
          },
          "coloraxis": {
           "colorbar": {
            "outlinewidth": 0,
            "ticks": ""
           }
          },
          "colorscale": {
           "diverging": [
            [
             0,
             "#8e0152"
            ],
            [
             0.1,
             "#c51b7d"
            ],
            [
             0.2,
             "#de77ae"
            ],
            [
             0.3,
             "#f1b6da"
            ],
            [
             0.4,
             "#fde0ef"
            ],
            [
             0.5,
             "#f7f7f7"
            ],
            [
             0.6,
             "#e6f5d0"
            ],
            [
             0.7,
             "#b8e186"
            ],
            [
             0.8,
             "#7fbc41"
            ],
            [
             0.9,
             "#4d9221"
            ],
            [
             1,
             "#276419"
            ]
           ],
           "sequential": [
            [
             0,
             "#0d0887"
            ],
            [
             0.1111111111111111,
             "#46039f"
            ],
            [
             0.2222222222222222,
             "#7201a8"
            ],
            [
             0.3333333333333333,
             "#9c179e"
            ],
            [
             0.4444444444444444,
             "#bd3786"
            ],
            [
             0.5555555555555556,
             "#d8576b"
            ],
            [
             0.6666666666666666,
             "#ed7953"
            ],
            [
             0.7777777777777778,
             "#fb9f3a"
            ],
            [
             0.8888888888888888,
             "#fdca26"
            ],
            [
             1,
             "#f0f921"
            ]
           ],
           "sequentialminus": [
            [
             0,
             "#0d0887"
            ],
            [
             0.1111111111111111,
             "#46039f"
            ],
            [
             0.2222222222222222,
             "#7201a8"
            ],
            [
             0.3333333333333333,
             "#9c179e"
            ],
            [
             0.4444444444444444,
             "#bd3786"
            ],
            [
             0.5555555555555556,
             "#d8576b"
            ],
            [
             0.6666666666666666,
             "#ed7953"
            ],
            [
             0.7777777777777778,
             "#fb9f3a"
            ],
            [
             0.8888888888888888,
             "#fdca26"
            ],
            [
             1,
             "#f0f921"
            ]
           ]
          },
          "colorway": [
           "#636efa",
           "#EF553B",
           "#00cc96",
           "#ab63fa",
           "#FFA15A",
           "#19d3f3",
           "#FF6692",
           "#B6E880",
           "#FF97FF",
           "#FECB52"
          ],
          "font": {
           "color": "#2a3f5f"
          },
          "geo": {
           "bgcolor": "white",
           "lakecolor": "white",
           "landcolor": "#E5ECF6",
           "showlakes": true,
           "showland": true,
           "subunitcolor": "white"
          },
          "hoverlabel": {
           "align": "left"
          },
          "hovermode": "closest",
          "mapbox": {
           "style": "light"
          },
          "paper_bgcolor": "white",
          "plot_bgcolor": "#E5ECF6",
          "polar": {
           "angularaxis": {
            "gridcolor": "white",
            "linecolor": "white",
            "ticks": ""
           },
           "bgcolor": "#E5ECF6",
           "radialaxis": {
            "gridcolor": "white",
            "linecolor": "white",
            "ticks": ""
           }
          },
          "scene": {
           "xaxis": {
            "backgroundcolor": "#E5ECF6",
            "gridcolor": "white",
            "gridwidth": 2,
            "linecolor": "white",
            "showbackground": true,
            "ticks": "",
            "zerolinecolor": "white"
           },
           "yaxis": {
            "backgroundcolor": "#E5ECF6",
            "gridcolor": "white",
            "gridwidth": 2,
            "linecolor": "white",
            "showbackground": true,
            "ticks": "",
            "zerolinecolor": "white"
           },
           "zaxis": {
            "backgroundcolor": "#E5ECF6",
            "gridcolor": "white",
            "gridwidth": 2,
            "linecolor": "white",
            "showbackground": true,
            "ticks": "",
            "zerolinecolor": "white"
           }
          },
          "shapedefaults": {
           "line": {
            "color": "#2a3f5f"
           }
          },
          "ternary": {
           "aaxis": {
            "gridcolor": "white",
            "linecolor": "white",
            "ticks": ""
           },
           "baxis": {
            "gridcolor": "white",
            "linecolor": "white",
            "ticks": ""
           },
           "bgcolor": "#E5ECF6",
           "caxis": {
            "gridcolor": "white",
            "linecolor": "white",
            "ticks": ""
           }
          },
          "title": {
           "x": 0.05
          },
          "xaxis": {
           "automargin": true,
           "gridcolor": "white",
           "linecolor": "white",
           "ticks": "",
           "title": {
            "standoff": 15
           },
           "zerolinecolor": "white",
           "zerolinewidth": 2
          },
          "yaxis": {
           "automargin": true,
           "gridcolor": "white",
           "linecolor": "white",
           "ticks": "",
           "title": {
            "standoff": 15
           },
           "zerolinecolor": "white",
           "zerolinewidth": 2
          }
         }
        },
        "xaxis": {
         "anchor": "y",
         "domain": [
          0,
          0.45
         ]
        },
        "xaxis2": {
         "anchor": "y2",
         "domain": [
          0.55,
          1
         ]
        },
        "xaxis3": {
         "anchor": "y3",
         "domain": [
          0,
          1
         ]
        },
        "yaxis": {
         "anchor": "x",
         "domain": [
          0.625,
          1
         ]
        },
        "yaxis2": {
         "anchor": "x2",
         "domain": [
          0.625,
          1
         ]
        },
        "yaxis3": {
         "anchor": "x3",
         "domain": [
          0,
          0.375
         ]
        }
       }
      },
      "text/html": [
       "<div>\n",
       "        \n",
       "        \n",
       "            <div id=\"509865a0-2b17-4b7c-b0e1-23d03b8e47cd\" class=\"plotly-graph-div\" style=\"height:525px; width:100%;\"></div>\n",
       "            <script type=\"text/javascript\">\n",
       "                require([\"plotly\"], function(Plotly) {\n",
       "                    window.PLOTLYENV=window.PLOTLYENV || {};\n",
       "                    \n",
       "                if (document.getElementById(\"509865a0-2b17-4b7c-b0e1-23d03b8e47cd\")) {\n",
       "                    Plotly.newPlot(\n",
       "                        '509865a0-2b17-4b7c-b0e1-23d03b8e47cd',\n",
       "                        [{\"marker\": {\"color\": \"blue\"}, \"name\": \"Training path\", \"type\": \"scatter\", \"x\": [-0.0, -0.2, -0.25, -0.27, -0.8, -1.25, -2.53, -2.69, -2.02, -0.82, 0.45, 1.77, 3.1, 4.4, 5.73, 7.06, 8.38, 9.71, 11.1, 12.4, 13.67, 14.95, 16.23, 17.53, 18.82, 20.1, 21.42, 22.73, 24.02, 25.29, 26.51, 27.5, 26.32, 24.94, 23.55, 22.16, 20.8, 19.45, 18.11, 16.76, 13.95, 12.54, 11.15, 9.76, 8.37, 7.0, 5.63, 4.26, 2.95, 1.56, 0.21, -1.12, -2.39, -3.48, -2.14, -0.74, 0.64, 2.04, 3.48, 4.91, 6.31, 7.7, 9.08, 10.48, 11.88, 13.27, 14.67, 16.05, 17.4, 18.75, 20.11, 21.46, 22.79, 24.13, 25.53, 26.82, 27.7, 26.38, 25.0, 23.58, 22.17, 20.72, 19.26, 17.81, 16.36, 14.92, 13.48, 12.07, 10.67, 9.23, 7.78, 6.34, 4.9, 3.45, 1.99, 0.58, -0.82, -2.2, -2.82, -2.96, -1.69, -1.06, -0.89, 0.11, 0.04, 0.07, -0.11, -0.0, -0.2, -0.25], \"xaxis\": \"x\", \"y\": [0.0, -0.01, 0.32, 1.14, 2.06, 3.3, 3.69, 3.96, 5.03, 5.55, 5.67, 5.71, 5.69, 5.71, 5.77, 5.81, 5.86, 5.99, 6.09, 6.24, 6.43, 6.53, 6.51, 6.47, 6.53, 6.61, 6.68, 6.82, 6.87, 6.93, 6.88, 6.95, 6.94, 6.85, 6.88, 6.8, 6.71, 6.6, 6.55, 6.5, 6.45, 6.37, 6.27, 6.24, 6.27, 6.25, 6.26, 6.25, 6.05, 6.0, 6.01, 5.93, 5.95, 5.72, 5.75, 5.87, 5.85, 5.85, 5.87, 5.95, 6.04, 6.08, 6.1, 6.15, 6.2, 6.23, 6.3, 6.33, 6.4, 6.37, 6.4, 6.28, 6.24, 6.18, 6.32, 6.42, 6.53, 6.52, 6.46, 6.47, 6.51, 6.42, 6.37, 6.33, 6.33, 6.35, 6.41, 6.51, 6.59, 6.5, 6.42, 6.38, 6.24, 6.24, 6.21, 6.21, 6.25, 6.15, 5.3, 4.41, 4.09, 3.29, 2.17, 1.76, 1.74, 1.82, 1.47, 0.0, -0.01, 0.32], \"yaxis\": \"y\"}, {\"marker\": {\"color\": \"red\"}, \"name\": \"Testing Score\", \"type\": \"scatter\", \"x\": [-2.03, -2.97, -2.74, -1.95, -0.67, 0.68, 1.99, 3.33, 4.64, 5.87, 6.6, 6.73, 6.71, 6.72, 6.72, 6.43, 6.1, 6.08, 6.25, 6.6, 6.96, 7.89, 9.19, 10.55, 11.88, 13.24, 14.58, 15.92, 17.27, 18.6, 19.93, 21.23, 22.58, 23.84, 25.0, 25.99, 24.81, 23.43, 22.07, 20.72, 19.32, 17.92, 16.51, 15.12, 13.73, 12.35, 11.01, 9.68, 8.32, 7.0, 5.66, 4.28, 2.95, 1.6, 0.25, -1.09, -2.34, -2.86, -3.31, -2.38, -1.33, -1.23, -1.4, -1.22, -1.0, -1.15, -1.18, -2.36, -3.41, -3.95, -3.95, -3.96, -3.8, -3.78, -3.79, -3.6, -3.16, -2.83, -2.55, -1.85, -0.62, 0.64, 1.98, 3.29, 4.56, 5.78, 6.59, 6.69, 6.45, 6.21, 5.98, 5.82, 6.04, 6.12, 6.21, 6.43, 6.82, 7.58, 8.79, 10.08, 11.46, 12.78, 14.11, 15.43, 16.73, 18.06, 19.38, 20.68, 21.93, 23.18, 24.45, 25.76, 26.75, 25.5, 24.17, 22.88, 21.52, 20.19, 18.82, 17.48, 16.09, 14.74, 13.36, 12.03, 10.68, 9.34, 7.97, 6.61, 5.24, 3.86, 2.46, 1.05, -0.34, -1.67, -2.61, -3.07, -2.29, -1.2, -1.3, -1.42, -1.24, -1.16, -0.99, -1.04, 0.0, -0.06, -0.76, -1.03, -0.98, -2.03], \"xaxis\": \"x2\", \"y\": [3.5, 3.72, 3.86, 4.77, 4.95, 5.02, 5.13, 5.04, 5.04, 4.81, 3.85, 2.58, 1.26, -0.05, -1.35, -2.22, -1.44, -0.17, 1.12, 2.38, 3.69, 4.59, 4.9, 4.88, 4.88, 4.84, 4.71, 4.72, 4.78, 4.8, 4.82, 4.74, 4.81, 4.95, 4.75, 4.83, 4.95, 5.06, 5.16, 5.21, 5.29, 5.22, 5.28, 5.35, 5.42, 5.44, 5.41, 5.44, 5.41, 5.4, 5.58, 5.62, 5.69, 5.77, 5.85, 5.93, 5.98, 5.17, 4.47, 3.73, 3.46, 2.26, 1.17, 0.43, 1.29, 2.34, 3.61, 4.25, 3.46, 2.34, 1.11, -0.07, -0.82, 0.45, 1.79, 3.05, 4.12, 4.4, 4.67, 5.71, 5.92, 5.64, 5.5, 5.36, 5.1, 4.63, 3.79, 2.55, 1.35, 0.12, -1.11, -2.24, -2.0, -0.79, 0.48, 1.73, 2.95, 3.99, 4.48, 4.39, 4.27, 4.08, 4.06, 4.01, 3.7, 3.61, 3.56, 3.35, 3.05, 2.76, 2.51, 2.45, 2.8, 2.84, 2.97, 3.2, 3.4, 3.59, 3.82, 4.0, 4.21, 4.4, 4.52, 4.75, 4.88, 5.03, 5.23, 5.3, 5.62, 5.95, 6.17, 6.44, 6.58, 6.81, 6.31, 5.35, 4.55, 4.21, 3.11, 2.08, 1.66, 1.81, 1.86, 2.05, -0.0, -0.0, 0.75, 1.7, 2.82, 3.5], \"yaxis\": \"y2\"}, {\"marker\": {\"color\": \"blue\"}, \"name\": \"Training Score\", \"type\": \"scatter\", \"x\": [0, 1, 2, 3, 4, 5, 6, 7, 8, 9, 10, 11, 12, 13, 14, 15, 16, 17, 18, 19, 20, 21, 22, 23, 24, 25, 26, 27, 28, 29, 30, 31, 32, 33, 34, 35, 36, 37, 38, 39, 40, 41, 42, 43, 44, 45, 46, 47, 48, 49, 50, 51, 52, 53, 54, 55, 56, 57, 58, 59, 60, 61, 62, 63, 64, 65, 66, 67, 68, 69, 70, 71, 72, 73, 74, 75, 76, 77, 78, 79, 80, 81, 82, 83, 84, 85], \"xaxis\": \"x3\", \"y\": [0.43412156568855237, 0.42305144017010343, 0.4138616702078371, 0.40270965444535267, 0.3946369591700289, 0.3881777378092508, 0.38180185499021396, 0.37548256882251535, 0.36924799425665145, 0.363278195326787, 0.3578119362308929, 0.3510178556435121, 0.3455540156509988, 0.3416816964456829, 0.3395584735215451, 0.33925717719923765, 0.3407993365136992, 0.34412328562051897, 0.34909133339704207, 0.3555465688258547, 0.36324123623377796, 0.37174826342335315, 0.3809492867889406, 0.3900838268259615, 0.39971518943868706, 0.4036421500213726, 0.40120167634029275, 0.3937351135742901, 0.3862399281139492, 0.37919289187155863, 0.3727331788477778, 0.36717810257521233, 0.3627896255160339, 0.35980253161646303, 0.35836165810154663, 0.35860601655208585, 0.3601305226832822, 0.36271042595389336, 0.36624893402189285, 0.37059704088571055, 0.375600555593467, 0.38110650734134, 0.38694433733164274, 0.39295138083080755, 0.39890035455610723, 0.4049312812354571, 0.4110156131867046, 0.41591327988867166, 0.41488458446464266, 0.40712287053172547, 0.39867996086214386, 0.39035216356837155, 0.38172450278872405, 0.37319860735588156, 0.3651532074768922, 0.3578725958282973, 0.351577342055933, 0.3464773866039964, 0.3428098783049247, 0.34069936576965937, 0.3401655877457784, 0.3412302478254302, 0.3438125142909244, 0.34786056811661453, 0.35317985263310414, 0.3595351581584437, 0.3664608814180665, 0.37364854428257, 0.38132117311958513, 0.3913987807777156, 0.40300068622768687, 0.41090705023408963, 0.41993291763582635, 0.4360946254655302, 0.4562081929652131, 0.4782754449592897], \"yaxis\": \"y3\"}, {\"marker\": {\"color\": \"red\"}, \"name\": \"Testing Score\", \"type\": \"scatter\", \"x\": [0, 1, 2, 3, 4, 5, 6, 7, 8, 9, 10, 11, 12, 13, 14, 15, 16, 17, 18, 19, 20, 21, 22, 23, 24, 25, 26, 27, 28, 29, 30, 31, 32, 33, 34, 35, 36, 37, 38, 39, 40, 41, 42, 43, 44, 45, 46, 47, 48, 49, 50, 51, 52, 53, 54, 55, 56, 57, 58, 59, 60, 61, 62, 63, 64, 65, 66, 67, 68, 69, 70, 71, 72, 73, 74, 75, 76, 77, 78, 79, 80, 81, 82, 83, 84, 85, 86, 87, 88, 89, 90, 91, 92, 93, 94, 95, 96, 97, 98, 99, 100, 101, 102, 103, 104, 105, 106, 107, 108, 109, 110, 111, 112, 113, 114, 115, 116, 117, 118, 119, 120, 121, 122, 123, 124, 125], \"xaxis\": \"x3\", \"y\": [0.38809005839172683, 0.39013720008222813, 0.39367571330462475, 0.3992342768946033, 0.4066488422813352, 0.4147591497390979, 0.42266864286795475, 0.4297089634154877, 0.43547978280941085, 0.4398855876075614, 0.44310061259212485, 0.4451995195058505, 0.44659890560547255, 0.44812499947147527, 0.4506910177858158, 0.4553063541882828, 0.46275958219106256, 0.4723276732535361, 0.4819807434705055, 0.49024302151074745, 0.496404264237673, 0.5004746139066658, 0.5028521983136863, 0.5035952410390815, 0.5026266283789125, 0.49996193984672344, 0.4956296084929065, 0.4895857344497015, 0.48200811473133476, 0.4730885293641335, 0.46300266113881433, 0.4518796011418112, 0.43963077916570825, 0.42630457347916395, 0.41193720376687337, 0.3940288233921485, 0.37193708915453916, 0.35288567552946115, 0.3378609273134691, 0.326153146789035, 0.31453264353475524, 0.30326844373442463, 0.29164348498815784, 0.28406281782605197, 0.2828877614569, 0.2869549641828557, 0.2946057819071177, 0.30509175441000924, 0.31712036488413187, 0.32755346806909535, 0.336270905997258, 0.3434881202359105, 0.34899502650755476, 0.3536511064119042, 0.3573859964733175, 0.35919250857903284, 0.35917033044864854, 0.3574829870679511, 0.354084450889149, 0.34913294015431434, 0.34366542067109107, 0.3390275097713836, 0.3349590888572529, 0.332780966201669, 0.3343578040900484, 0.3440066815871172, 0.3635598946393484, 0.3941829712678523, 0.4244071097359957, 0.44490786234590785, 0.45483049347324817, 0.4549154251438728, 0.44576045841356693, 0.4312605561577265, 0.4189761223930107, 0.4115877005944776, 0.40907697710874624, 0.4108699612184189, 0.41509806942278066, 0.4211390843686802, 0.4289503155578707, 0.4373304414984465, 0.44542162727980505, 0.45268014166804116, 0.45870861825407566, 0.46328521554804136, 0.4663702339018091, 0.4683487004889393, 0.47005286621571796, 0.4723509746311323, 0.47608501506638384, 0.4821808855176767, 0.49146278892746004, 0.5035181425326283, 0.5162278809966543, 0.5278524340197337, 0.5373500098629529, 0.5443953584054235, 0.5492353443510686, 0.5520917973759165, 0.5529813528503854, 0.5519010981100512, 0.5488452099560905, 0.5439399341060334, 0.5374013402970803, 0.5291309569198586, 0.5191355041165034, 0.5074659148648748, 0.49415721665458606, 0.4791724269914513, 0.4628569682725666, 0.44518869232569136, 0.42400926847086173, 0.39867198542888743, 0.37623585896282574, 0.3570232268888183, 0.3400585748358695, 0.3246861748608349, 0.311137371568524, 0.2996838280268972, 0.29391270407797765, 0.2906597964682262, 0.28887373853356474, 0.28755320154329017, 0.2862342137708025, 0.28723734989328353], \"yaxis\": \"y3\"}],\n",
       "                        {\"annotations\": [{\"font\": {\"size\": 16}, \"showarrow\": false, \"text\": \"Training plot\", \"x\": 0.225, \"xanchor\": \"center\", \"xref\": \"paper\", \"y\": 1.0, \"yanchor\": \"bottom\", \"yref\": \"paper\"}, {\"font\": {\"size\": 16}, \"showarrow\": false, \"text\": \"Testing plot\", \"x\": 0.775, \"xanchor\": \"center\", \"xref\": \"paper\", \"y\": 1.0, \"yanchor\": \"bottom\", \"yref\": \"paper\"}, {\"font\": {\"size\": 16}, \"showarrow\": false, \"text\": \"Anomaly score by Locally Linear Embedding\", \"x\": 0.5, \"xanchor\": \"center\", \"xref\": \"paper\", \"y\": 0.375, \"yanchor\": \"bottom\", \"yref\": \"paper\"}], \"showlegend\": false, \"template\": {\"data\": {\"bar\": [{\"error_x\": {\"color\": \"#2a3f5f\"}, \"error_y\": {\"color\": \"#2a3f5f\"}, \"marker\": {\"line\": {\"color\": \"#E5ECF6\", \"width\": 0.5}}, \"type\": \"bar\"}], \"barpolar\": [{\"marker\": {\"line\": {\"color\": \"#E5ECF6\", \"width\": 0.5}}, \"type\": \"barpolar\"}], \"carpet\": [{\"aaxis\": {\"endlinecolor\": \"#2a3f5f\", \"gridcolor\": \"white\", \"linecolor\": \"white\", \"minorgridcolor\": \"white\", \"startlinecolor\": \"#2a3f5f\"}, \"baxis\": {\"endlinecolor\": \"#2a3f5f\", \"gridcolor\": \"white\", \"linecolor\": \"white\", \"minorgridcolor\": \"white\", \"startlinecolor\": \"#2a3f5f\"}, \"type\": \"carpet\"}], \"choropleth\": [{\"colorbar\": {\"outlinewidth\": 0, \"ticks\": \"\"}, \"type\": \"choropleth\"}], \"contour\": [{\"colorbar\": {\"outlinewidth\": 0, \"ticks\": \"\"}, \"colorscale\": [[0.0, \"#0d0887\"], [0.1111111111111111, \"#46039f\"], [0.2222222222222222, \"#7201a8\"], [0.3333333333333333, \"#9c179e\"], [0.4444444444444444, \"#bd3786\"], [0.5555555555555556, \"#d8576b\"], [0.6666666666666666, \"#ed7953\"], [0.7777777777777778, \"#fb9f3a\"], [0.8888888888888888, \"#fdca26\"], [1.0, \"#f0f921\"]], \"type\": \"contour\"}], \"contourcarpet\": [{\"colorbar\": {\"outlinewidth\": 0, \"ticks\": \"\"}, \"type\": \"contourcarpet\"}], \"heatmap\": [{\"colorbar\": {\"outlinewidth\": 0, \"ticks\": \"\"}, \"colorscale\": [[0.0, \"#0d0887\"], [0.1111111111111111, \"#46039f\"], [0.2222222222222222, \"#7201a8\"], [0.3333333333333333, \"#9c179e\"], [0.4444444444444444, \"#bd3786\"], [0.5555555555555556, \"#d8576b\"], [0.6666666666666666, \"#ed7953\"], [0.7777777777777778, \"#fb9f3a\"], [0.8888888888888888, \"#fdca26\"], [1.0, \"#f0f921\"]], \"type\": \"heatmap\"}], \"heatmapgl\": [{\"colorbar\": {\"outlinewidth\": 0, \"ticks\": \"\"}, \"colorscale\": [[0.0, \"#0d0887\"], [0.1111111111111111, \"#46039f\"], [0.2222222222222222, \"#7201a8\"], [0.3333333333333333, \"#9c179e\"], [0.4444444444444444, \"#bd3786\"], [0.5555555555555556, \"#d8576b\"], [0.6666666666666666, \"#ed7953\"], [0.7777777777777778, \"#fb9f3a\"], [0.8888888888888888, \"#fdca26\"], [1.0, \"#f0f921\"]], \"type\": \"heatmapgl\"}], \"histogram\": [{\"marker\": {\"colorbar\": {\"outlinewidth\": 0, \"ticks\": \"\"}}, \"type\": \"histogram\"}], \"histogram2d\": [{\"colorbar\": {\"outlinewidth\": 0, \"ticks\": \"\"}, \"colorscale\": [[0.0, \"#0d0887\"], [0.1111111111111111, \"#46039f\"], [0.2222222222222222, \"#7201a8\"], [0.3333333333333333, \"#9c179e\"], [0.4444444444444444, \"#bd3786\"], [0.5555555555555556, \"#d8576b\"], [0.6666666666666666, \"#ed7953\"], [0.7777777777777778, \"#fb9f3a\"], [0.8888888888888888, \"#fdca26\"], [1.0, \"#f0f921\"]], \"type\": \"histogram2d\"}], \"histogram2dcontour\": [{\"colorbar\": {\"outlinewidth\": 0, \"ticks\": \"\"}, \"colorscale\": [[0.0, \"#0d0887\"], [0.1111111111111111, \"#46039f\"], [0.2222222222222222, \"#7201a8\"], [0.3333333333333333, \"#9c179e\"], [0.4444444444444444, \"#bd3786\"], [0.5555555555555556, \"#d8576b\"], [0.6666666666666666, \"#ed7953\"], [0.7777777777777778, \"#fb9f3a\"], [0.8888888888888888, \"#fdca26\"], [1.0, \"#f0f921\"]], \"type\": \"histogram2dcontour\"}], \"mesh3d\": [{\"colorbar\": {\"outlinewidth\": 0, \"ticks\": \"\"}, \"type\": \"mesh3d\"}], \"parcoords\": [{\"line\": {\"colorbar\": {\"outlinewidth\": 0, \"ticks\": \"\"}}, \"type\": \"parcoords\"}], \"pie\": [{\"automargin\": true, \"type\": \"pie\"}], \"scatter\": [{\"marker\": {\"colorbar\": {\"outlinewidth\": 0, \"ticks\": \"\"}}, \"type\": \"scatter\"}], \"scatter3d\": [{\"line\": {\"colorbar\": {\"outlinewidth\": 0, \"ticks\": \"\"}}, \"marker\": {\"colorbar\": {\"outlinewidth\": 0, \"ticks\": \"\"}}, \"type\": \"scatter3d\"}], \"scattercarpet\": [{\"marker\": {\"colorbar\": {\"outlinewidth\": 0, \"ticks\": \"\"}}, \"type\": \"scattercarpet\"}], \"scattergeo\": [{\"marker\": {\"colorbar\": {\"outlinewidth\": 0, \"ticks\": \"\"}}, \"type\": \"scattergeo\"}], \"scattergl\": [{\"marker\": {\"colorbar\": {\"outlinewidth\": 0, \"ticks\": \"\"}}, \"type\": \"scattergl\"}], \"scattermapbox\": [{\"marker\": {\"colorbar\": {\"outlinewidth\": 0, \"ticks\": \"\"}}, \"type\": \"scattermapbox\"}], \"scatterpolar\": [{\"marker\": {\"colorbar\": {\"outlinewidth\": 0, \"ticks\": \"\"}}, \"type\": \"scatterpolar\"}], \"scatterpolargl\": [{\"marker\": {\"colorbar\": {\"outlinewidth\": 0, \"ticks\": \"\"}}, \"type\": \"scatterpolargl\"}], \"scatterternary\": [{\"marker\": {\"colorbar\": {\"outlinewidth\": 0, \"ticks\": \"\"}}, \"type\": \"scatterternary\"}], \"surface\": [{\"colorbar\": {\"outlinewidth\": 0, \"ticks\": \"\"}, \"colorscale\": [[0.0, \"#0d0887\"], [0.1111111111111111, \"#46039f\"], [0.2222222222222222, \"#7201a8\"], [0.3333333333333333, \"#9c179e\"], [0.4444444444444444, \"#bd3786\"], [0.5555555555555556, \"#d8576b\"], [0.6666666666666666, \"#ed7953\"], [0.7777777777777778, \"#fb9f3a\"], [0.8888888888888888, \"#fdca26\"], [1.0, \"#f0f921\"]], \"type\": \"surface\"}], \"table\": [{\"cells\": {\"fill\": {\"color\": \"#EBF0F8\"}, \"line\": {\"color\": \"white\"}}, \"header\": {\"fill\": {\"color\": \"#C8D4E3\"}, \"line\": {\"color\": \"white\"}}, \"type\": \"table\"}]}, \"layout\": {\"annotationdefaults\": {\"arrowcolor\": \"#2a3f5f\", \"arrowhead\": 0, \"arrowwidth\": 1}, \"coloraxis\": {\"colorbar\": {\"outlinewidth\": 0, \"ticks\": \"\"}}, \"colorscale\": {\"diverging\": [[0, \"#8e0152\"], [0.1, \"#c51b7d\"], [0.2, \"#de77ae\"], [0.3, \"#f1b6da\"], [0.4, \"#fde0ef\"], [0.5, \"#f7f7f7\"], [0.6, \"#e6f5d0\"], [0.7, \"#b8e186\"], [0.8, \"#7fbc41\"], [0.9, \"#4d9221\"], [1, \"#276419\"]], \"sequential\": [[0.0, \"#0d0887\"], [0.1111111111111111, \"#46039f\"], [0.2222222222222222, \"#7201a8\"], [0.3333333333333333, \"#9c179e\"], [0.4444444444444444, \"#bd3786\"], [0.5555555555555556, \"#d8576b\"], [0.6666666666666666, \"#ed7953\"], [0.7777777777777778, \"#fb9f3a\"], [0.8888888888888888, \"#fdca26\"], [1.0, \"#f0f921\"]], \"sequentialminus\": [[0.0, \"#0d0887\"], [0.1111111111111111, \"#46039f\"], [0.2222222222222222, \"#7201a8\"], [0.3333333333333333, \"#9c179e\"], [0.4444444444444444, \"#bd3786\"], [0.5555555555555556, \"#d8576b\"], [0.6666666666666666, \"#ed7953\"], [0.7777777777777778, \"#fb9f3a\"], [0.8888888888888888, \"#fdca26\"], [1.0, \"#f0f921\"]]}, \"colorway\": [\"#636efa\", \"#EF553B\", \"#00cc96\", \"#ab63fa\", \"#FFA15A\", \"#19d3f3\", \"#FF6692\", \"#B6E880\", \"#FF97FF\", \"#FECB52\"], \"font\": {\"color\": \"#2a3f5f\"}, \"geo\": {\"bgcolor\": \"white\", \"lakecolor\": \"white\", \"landcolor\": \"#E5ECF6\", \"showlakes\": true, \"showland\": true, \"subunitcolor\": \"white\"}, \"hoverlabel\": {\"align\": \"left\"}, \"hovermode\": \"closest\", \"mapbox\": {\"style\": \"light\"}, \"paper_bgcolor\": \"white\", \"plot_bgcolor\": \"#E5ECF6\", \"polar\": {\"angularaxis\": {\"gridcolor\": \"white\", \"linecolor\": \"white\", \"ticks\": \"\"}, \"bgcolor\": \"#E5ECF6\", \"radialaxis\": {\"gridcolor\": \"white\", \"linecolor\": \"white\", \"ticks\": \"\"}}, \"scene\": {\"xaxis\": {\"backgroundcolor\": \"#E5ECF6\", \"gridcolor\": \"white\", \"gridwidth\": 2, \"linecolor\": \"white\", \"showbackground\": true, \"ticks\": \"\", \"zerolinecolor\": \"white\"}, \"yaxis\": {\"backgroundcolor\": \"#E5ECF6\", \"gridcolor\": \"white\", \"gridwidth\": 2, \"linecolor\": \"white\", \"showbackground\": true, \"ticks\": \"\", \"zerolinecolor\": \"white\"}, \"zaxis\": {\"backgroundcolor\": \"#E5ECF6\", \"gridcolor\": \"white\", \"gridwidth\": 2, \"linecolor\": \"white\", \"showbackground\": true, \"ticks\": \"\", \"zerolinecolor\": \"white\"}}, \"shapedefaults\": {\"line\": {\"color\": \"#2a3f5f\"}}, \"ternary\": {\"aaxis\": {\"gridcolor\": \"white\", \"linecolor\": \"white\", \"ticks\": \"\"}, \"baxis\": {\"gridcolor\": \"white\", \"linecolor\": \"white\", \"ticks\": \"\"}, \"bgcolor\": \"#E5ECF6\", \"caxis\": {\"gridcolor\": \"white\", \"linecolor\": \"white\", \"ticks\": \"\"}}, \"title\": {\"x\": 0.05}, \"xaxis\": {\"automargin\": true, \"gridcolor\": \"white\", \"linecolor\": \"white\", \"ticks\": \"\", \"title\": {\"standoff\": 15}, \"zerolinecolor\": \"white\", \"zerolinewidth\": 2}, \"yaxis\": {\"automargin\": true, \"gridcolor\": \"white\", \"linecolor\": \"white\", \"ticks\": \"\", \"title\": {\"standoff\": 15}, \"zerolinecolor\": \"white\", \"zerolinewidth\": 2}}}, \"xaxis\": {\"anchor\": \"y\", \"domain\": [0.0, 0.45]}, \"xaxis2\": {\"anchor\": \"y2\", \"domain\": [0.55, 1.0]}, \"xaxis3\": {\"anchor\": \"y3\", \"domain\": [0.0, 1.0]}, \"yaxis\": {\"anchor\": \"x\", \"domain\": [0.625, 1.0]}, \"yaxis2\": {\"anchor\": \"x2\", \"domain\": [0.625, 1.0]}, \"yaxis3\": {\"anchor\": \"x3\", \"domain\": [0.0, 0.375]}},\n",
       "                        {\"responsive\": true}\n",
       "                    ).then(function(){\n",
       "                            \n",
       "var gd = document.getElementById('509865a0-2b17-4b7c-b0e1-23d03b8e47cd');\n",
       "var x = new MutationObserver(function (mutations, observer) {{\n",
       "        var display = window.getComputedStyle(gd).display;\n",
       "        if (!display || display === 'none') {{\n",
       "            console.log([gd, 'removed!']);\n",
       "            Plotly.purge(gd);\n",
       "            observer.disconnect();\n",
       "        }}\n",
       "}});\n",
       "\n",
       "// Listen for the removal of the full notebook cells\n",
       "var notebookContainer = gd.closest('#notebook-container');\n",
       "if (notebookContainer) {{\n",
       "    x.observe(notebookContainer, {childList: true});\n",
       "}}\n",
       "\n",
       "// Listen for the clearing of the current output cell\n",
       "var outputEl = gd.closest('.output');\n",
       "if (outputEl) {{\n",
       "    x.observe(outputEl, {childList: true});\n",
       "}}\n",
       "\n",
       "                        })\n",
       "                };\n",
       "                });\n",
       "            </script>\n",
       "        </div>"
      ]
     },
     "metadata": {},
     "output_type": "display_data"
    }
   ],
   "source": [
    "fig = make_subplots(rows=2, cols=2,specs=[[{}, {}], [{\"colspan\": 2}, None]],\n",
    "    subplot_titles=(\"Training plot\",\"Testing plot\", \"Anomaly score by Locally Linear Embedding\"))\n",
    "fig.add_trace(go.Scatter(x=df[1], y=df[2], marker_color='blue',\n",
    "                        name=\"Training path\"),row=1, col=1)\n",
    "fig.add_trace(go.Scatter(x=df_test[1], y=df_test[2], marker_color='red',\n",
    "                        name=\"Testing Score\"),row=1, col=2)\n",
    "fig.add_trace(go.Scatter(x=list(range(len(dt_scores))), y=dt_scores[5:-5], marker_color='blue',\n",
    "                         name=\"Training Score\"), row=2, col=1)\n",
    "fig.add_trace(go.Scatter(x=list(range(len(dj_scores))), y=dj_scores, marker_color='red',\n",
    "                        name=\"Testing Score\"), row=2, col=1)\n",
    "fig.update_layout(showlegend=False)\n"
   ]
  },
  {
   "cell_type": "code",
   "execution_count": null,
   "metadata": {},
   "outputs": [],
   "source": []
  },
  {
   "cell_type": "markdown",
   "metadata": {},
   "source": [
    "## Multidimensional scaling (MDS)\n",
    "Multidimensional scaling (MDS) seeks a low-dimensional representation of the data in which the distances respect well the distances in the original high-dimensional space.\n",
    "\n",
    "In general, MDS is a technique used for analyzing similarity or dissimilarity data. It attempts to model similarity or dissimilarity data as distances in a geometric spaces. The data can be ratings of similarity between objects, interaction frequencies of molecules, or trade indices between countries.\n",
    "\n",
    "There exists two types of MDS algorithm: metric and non metric. In the scikit-learn, the class MDS implements both. In Metric MDS, the input similarity matrix arises from a metric (and thus respects the triangular inequality), the distances between output two points are then set to be as close as possible to the similarity or dissimilarity data. In the non-metric version, the algorithms will try to preserve the order of the distances, and hence seek for a monotonic relationship between the distances in the embedded space and the similarities/dissimilarities."
   ]
  },
  {
   "cell_type": "code",
   "execution_count": 58,
   "metadata": {
    "scrolled": false
   },
   "outputs": [
    {
     "data": {
      "application/vnd.plotly.v1+json": {
       "config": {
        "plotlyServerURL": "https://plot.ly"
       },
       "data": [
        {
         "type": "scatter",
         "x": [
          0,
          1,
          2,
          3,
          4,
          5,
          6,
          7,
          8,
          9
         ],
         "y": [
          10744.487348978224,
          10527.252313270179,
          9614.818086854391,
          9456.701131727821,
          9192.87581716991,
          9116.554524473846,
          8957.964543797996,
          8798.310464883809,
          8557.931265191986,
          8499.239459302782
         ]
        }
       ],
       "layout": {
        "template": {
         "data": {
          "bar": [
           {
            "error_x": {
             "color": "#2a3f5f"
            },
            "error_y": {
             "color": "#2a3f5f"
            },
            "marker": {
             "line": {
              "color": "#E5ECF6",
              "width": 0.5
             }
            },
            "type": "bar"
           }
          ],
          "barpolar": [
           {
            "marker": {
             "line": {
              "color": "#E5ECF6",
              "width": 0.5
             }
            },
            "type": "barpolar"
           }
          ],
          "carpet": [
           {
            "aaxis": {
             "endlinecolor": "#2a3f5f",
             "gridcolor": "white",
             "linecolor": "white",
             "minorgridcolor": "white",
             "startlinecolor": "#2a3f5f"
            },
            "baxis": {
             "endlinecolor": "#2a3f5f",
             "gridcolor": "white",
             "linecolor": "white",
             "minorgridcolor": "white",
             "startlinecolor": "#2a3f5f"
            },
            "type": "carpet"
           }
          ],
          "choropleth": [
           {
            "colorbar": {
             "outlinewidth": 0,
             "ticks": ""
            },
            "type": "choropleth"
           }
          ],
          "contour": [
           {
            "colorbar": {
             "outlinewidth": 0,
             "ticks": ""
            },
            "colorscale": [
             [
              0,
              "#0d0887"
             ],
             [
              0.1111111111111111,
              "#46039f"
             ],
             [
              0.2222222222222222,
              "#7201a8"
             ],
             [
              0.3333333333333333,
              "#9c179e"
             ],
             [
              0.4444444444444444,
              "#bd3786"
             ],
             [
              0.5555555555555556,
              "#d8576b"
             ],
             [
              0.6666666666666666,
              "#ed7953"
             ],
             [
              0.7777777777777778,
              "#fb9f3a"
             ],
             [
              0.8888888888888888,
              "#fdca26"
             ],
             [
              1,
              "#f0f921"
             ]
            ],
            "type": "contour"
           }
          ],
          "contourcarpet": [
           {
            "colorbar": {
             "outlinewidth": 0,
             "ticks": ""
            },
            "type": "contourcarpet"
           }
          ],
          "heatmap": [
           {
            "colorbar": {
             "outlinewidth": 0,
             "ticks": ""
            },
            "colorscale": [
             [
              0,
              "#0d0887"
             ],
             [
              0.1111111111111111,
              "#46039f"
             ],
             [
              0.2222222222222222,
              "#7201a8"
             ],
             [
              0.3333333333333333,
              "#9c179e"
             ],
             [
              0.4444444444444444,
              "#bd3786"
             ],
             [
              0.5555555555555556,
              "#d8576b"
             ],
             [
              0.6666666666666666,
              "#ed7953"
             ],
             [
              0.7777777777777778,
              "#fb9f3a"
             ],
             [
              0.8888888888888888,
              "#fdca26"
             ],
             [
              1,
              "#f0f921"
             ]
            ],
            "type": "heatmap"
           }
          ],
          "heatmapgl": [
           {
            "colorbar": {
             "outlinewidth": 0,
             "ticks": ""
            },
            "colorscale": [
             [
              0,
              "#0d0887"
             ],
             [
              0.1111111111111111,
              "#46039f"
             ],
             [
              0.2222222222222222,
              "#7201a8"
             ],
             [
              0.3333333333333333,
              "#9c179e"
             ],
             [
              0.4444444444444444,
              "#bd3786"
             ],
             [
              0.5555555555555556,
              "#d8576b"
             ],
             [
              0.6666666666666666,
              "#ed7953"
             ],
             [
              0.7777777777777778,
              "#fb9f3a"
             ],
             [
              0.8888888888888888,
              "#fdca26"
             ],
             [
              1,
              "#f0f921"
             ]
            ],
            "type": "heatmapgl"
           }
          ],
          "histogram": [
           {
            "marker": {
             "colorbar": {
              "outlinewidth": 0,
              "ticks": ""
             }
            },
            "type": "histogram"
           }
          ],
          "histogram2d": [
           {
            "colorbar": {
             "outlinewidth": 0,
             "ticks": ""
            },
            "colorscale": [
             [
              0,
              "#0d0887"
             ],
             [
              0.1111111111111111,
              "#46039f"
             ],
             [
              0.2222222222222222,
              "#7201a8"
             ],
             [
              0.3333333333333333,
              "#9c179e"
             ],
             [
              0.4444444444444444,
              "#bd3786"
             ],
             [
              0.5555555555555556,
              "#d8576b"
             ],
             [
              0.6666666666666666,
              "#ed7953"
             ],
             [
              0.7777777777777778,
              "#fb9f3a"
             ],
             [
              0.8888888888888888,
              "#fdca26"
             ],
             [
              1,
              "#f0f921"
             ]
            ],
            "type": "histogram2d"
           }
          ],
          "histogram2dcontour": [
           {
            "colorbar": {
             "outlinewidth": 0,
             "ticks": ""
            },
            "colorscale": [
             [
              0,
              "#0d0887"
             ],
             [
              0.1111111111111111,
              "#46039f"
             ],
             [
              0.2222222222222222,
              "#7201a8"
             ],
             [
              0.3333333333333333,
              "#9c179e"
             ],
             [
              0.4444444444444444,
              "#bd3786"
             ],
             [
              0.5555555555555556,
              "#d8576b"
             ],
             [
              0.6666666666666666,
              "#ed7953"
             ],
             [
              0.7777777777777778,
              "#fb9f3a"
             ],
             [
              0.8888888888888888,
              "#fdca26"
             ],
             [
              1,
              "#f0f921"
             ]
            ],
            "type": "histogram2dcontour"
           }
          ],
          "mesh3d": [
           {
            "colorbar": {
             "outlinewidth": 0,
             "ticks": ""
            },
            "type": "mesh3d"
           }
          ],
          "parcoords": [
           {
            "line": {
             "colorbar": {
              "outlinewidth": 0,
              "ticks": ""
             }
            },
            "type": "parcoords"
           }
          ],
          "pie": [
           {
            "automargin": true,
            "type": "pie"
           }
          ],
          "scatter": [
           {
            "marker": {
             "colorbar": {
              "outlinewidth": 0,
              "ticks": ""
             }
            },
            "type": "scatter"
           }
          ],
          "scatter3d": [
           {
            "line": {
             "colorbar": {
              "outlinewidth": 0,
              "ticks": ""
             }
            },
            "marker": {
             "colorbar": {
              "outlinewidth": 0,
              "ticks": ""
             }
            },
            "type": "scatter3d"
           }
          ],
          "scattercarpet": [
           {
            "marker": {
             "colorbar": {
              "outlinewidth": 0,
              "ticks": ""
             }
            },
            "type": "scattercarpet"
           }
          ],
          "scattergeo": [
           {
            "marker": {
             "colorbar": {
              "outlinewidth": 0,
              "ticks": ""
             }
            },
            "type": "scattergeo"
           }
          ],
          "scattergl": [
           {
            "marker": {
             "colorbar": {
              "outlinewidth": 0,
              "ticks": ""
             }
            },
            "type": "scattergl"
           }
          ],
          "scattermapbox": [
           {
            "marker": {
             "colorbar": {
              "outlinewidth": 0,
              "ticks": ""
             }
            },
            "type": "scattermapbox"
           }
          ],
          "scatterpolar": [
           {
            "marker": {
             "colorbar": {
              "outlinewidth": 0,
              "ticks": ""
             }
            },
            "type": "scatterpolar"
           }
          ],
          "scatterpolargl": [
           {
            "marker": {
             "colorbar": {
              "outlinewidth": 0,
              "ticks": ""
             }
            },
            "type": "scatterpolargl"
           }
          ],
          "scatterternary": [
           {
            "marker": {
             "colorbar": {
              "outlinewidth": 0,
              "ticks": ""
             }
            },
            "type": "scatterternary"
           }
          ],
          "surface": [
           {
            "colorbar": {
             "outlinewidth": 0,
             "ticks": ""
            },
            "colorscale": [
             [
              0,
              "#0d0887"
             ],
             [
              0.1111111111111111,
              "#46039f"
             ],
             [
              0.2222222222222222,
              "#7201a8"
             ],
             [
              0.3333333333333333,
              "#9c179e"
             ],
             [
              0.4444444444444444,
              "#bd3786"
             ],
             [
              0.5555555555555556,
              "#d8576b"
             ],
             [
              0.6666666666666666,
              "#ed7953"
             ],
             [
              0.7777777777777778,
              "#fb9f3a"
             ],
             [
              0.8888888888888888,
              "#fdca26"
             ],
             [
              1,
              "#f0f921"
             ]
            ],
            "type": "surface"
           }
          ],
          "table": [
           {
            "cells": {
             "fill": {
              "color": "#EBF0F8"
             },
             "line": {
              "color": "white"
             }
            },
            "header": {
             "fill": {
              "color": "#C8D4E3"
             },
             "line": {
              "color": "white"
             }
            },
            "type": "table"
           }
          ]
         },
         "layout": {
          "annotationdefaults": {
           "arrowcolor": "#2a3f5f",
           "arrowhead": 0,
           "arrowwidth": 1
          },
          "coloraxis": {
           "colorbar": {
            "outlinewidth": 0,
            "ticks": ""
           }
          },
          "colorscale": {
           "diverging": [
            [
             0,
             "#8e0152"
            ],
            [
             0.1,
             "#c51b7d"
            ],
            [
             0.2,
             "#de77ae"
            ],
            [
             0.3,
             "#f1b6da"
            ],
            [
             0.4,
             "#fde0ef"
            ],
            [
             0.5,
             "#f7f7f7"
            ],
            [
             0.6,
             "#e6f5d0"
            ],
            [
             0.7,
             "#b8e186"
            ],
            [
             0.8,
             "#7fbc41"
            ],
            [
             0.9,
             "#4d9221"
            ],
            [
             1,
             "#276419"
            ]
           ],
           "sequential": [
            [
             0,
             "#0d0887"
            ],
            [
             0.1111111111111111,
             "#46039f"
            ],
            [
             0.2222222222222222,
             "#7201a8"
            ],
            [
             0.3333333333333333,
             "#9c179e"
            ],
            [
             0.4444444444444444,
             "#bd3786"
            ],
            [
             0.5555555555555556,
             "#d8576b"
            ],
            [
             0.6666666666666666,
             "#ed7953"
            ],
            [
             0.7777777777777778,
             "#fb9f3a"
            ],
            [
             0.8888888888888888,
             "#fdca26"
            ],
            [
             1,
             "#f0f921"
            ]
           ],
           "sequentialminus": [
            [
             0,
             "#0d0887"
            ],
            [
             0.1111111111111111,
             "#46039f"
            ],
            [
             0.2222222222222222,
             "#7201a8"
            ],
            [
             0.3333333333333333,
             "#9c179e"
            ],
            [
             0.4444444444444444,
             "#bd3786"
            ],
            [
             0.5555555555555556,
             "#d8576b"
            ],
            [
             0.6666666666666666,
             "#ed7953"
            ],
            [
             0.7777777777777778,
             "#fb9f3a"
            ],
            [
             0.8888888888888888,
             "#fdca26"
            ],
            [
             1,
             "#f0f921"
            ]
           ]
          },
          "colorway": [
           "#636efa",
           "#EF553B",
           "#00cc96",
           "#ab63fa",
           "#FFA15A",
           "#19d3f3",
           "#FF6692",
           "#B6E880",
           "#FF97FF",
           "#FECB52"
          ],
          "font": {
           "color": "#2a3f5f"
          },
          "geo": {
           "bgcolor": "white",
           "lakecolor": "white",
           "landcolor": "#E5ECF6",
           "showlakes": true,
           "showland": true,
           "subunitcolor": "white"
          },
          "hoverlabel": {
           "align": "left"
          },
          "hovermode": "closest",
          "mapbox": {
           "style": "light"
          },
          "paper_bgcolor": "white",
          "plot_bgcolor": "#E5ECF6",
          "polar": {
           "angularaxis": {
            "gridcolor": "white",
            "linecolor": "white",
            "ticks": ""
           },
           "bgcolor": "#E5ECF6",
           "radialaxis": {
            "gridcolor": "white",
            "linecolor": "white",
            "ticks": ""
           }
          },
          "scene": {
           "xaxis": {
            "backgroundcolor": "#E5ECF6",
            "gridcolor": "white",
            "gridwidth": 2,
            "linecolor": "white",
            "showbackground": true,
            "ticks": "",
            "zerolinecolor": "white"
           },
           "yaxis": {
            "backgroundcolor": "#E5ECF6",
            "gridcolor": "white",
            "gridwidth": 2,
            "linecolor": "white",
            "showbackground": true,
            "ticks": "",
            "zerolinecolor": "white"
           },
           "zaxis": {
            "backgroundcolor": "#E5ECF6",
            "gridcolor": "white",
            "gridwidth": 2,
            "linecolor": "white",
            "showbackground": true,
            "ticks": "",
            "zerolinecolor": "white"
           }
          },
          "shapedefaults": {
           "line": {
            "color": "#2a3f5f"
           }
          },
          "ternary": {
           "aaxis": {
            "gridcolor": "white",
            "linecolor": "white",
            "ticks": ""
           },
           "baxis": {
            "gridcolor": "white",
            "linecolor": "white",
            "ticks": ""
           },
           "bgcolor": "#E5ECF6",
           "caxis": {
            "gridcolor": "white",
            "linecolor": "white",
            "ticks": ""
           }
          },
          "title": {
           "x": 0.05
          },
          "xaxis": {
           "automargin": true,
           "gridcolor": "white",
           "linecolor": "white",
           "ticks": "",
           "title": {
            "standoff": 15
           },
           "zerolinecolor": "white",
           "zerolinewidth": 2
          },
          "yaxis": {
           "automargin": true,
           "gridcolor": "white",
           "linecolor": "white",
           "ticks": "",
           "title": {
            "standoff": 15
           },
           "zerolinecolor": "white",
           "zerolinewidth": 2
          }
         }
        },
        "title": {
         "text": "ScreePlot",
         "x": 0.5
        },
        "xaxis": {
         "title": {
          "text": "No of eigen values"
         }
        },
        "yaxis": {
         "title": {
          "text": "eigen value"
         }
        }
       }
      },
      "text/html": [
       "<div>\n",
       "        \n",
       "        \n",
       "            <div id=\"cea0dfed-d25d-4616-a168-dabfab275273\" class=\"plotly-graph-div\" style=\"height:525px; width:100%;\"></div>\n",
       "            <script type=\"text/javascript\">\n",
       "                require([\"plotly\"], function(Plotly) {\n",
       "                    window.PLOTLYENV=window.PLOTLYENV || {};\n",
       "                    \n",
       "                if (document.getElementById(\"cea0dfed-d25d-4616-a168-dabfab275273\")) {\n",
       "                    Plotly.newPlot(\n",
       "                        'cea0dfed-d25d-4616-a168-dabfab275273',\n",
       "                        [{\"type\": \"scatter\", \"x\": [0, 1, 2, 3, 4, 5, 6, 7, 8, 9], \"y\": [10744.487348978224, 10527.252313270179, 9614.818086854391, 9456.701131727821, 9192.87581716991, 9116.554524473846, 8957.964543797996, 8798.310464883809, 8557.931265191986, 8499.239459302782]}],\n",
       "                        {\"template\": {\"data\": {\"bar\": [{\"error_x\": {\"color\": \"#2a3f5f\"}, \"error_y\": {\"color\": \"#2a3f5f\"}, \"marker\": {\"line\": {\"color\": \"#E5ECF6\", \"width\": 0.5}}, \"type\": \"bar\"}], \"barpolar\": [{\"marker\": {\"line\": {\"color\": \"#E5ECF6\", \"width\": 0.5}}, \"type\": \"barpolar\"}], \"carpet\": [{\"aaxis\": {\"endlinecolor\": \"#2a3f5f\", \"gridcolor\": \"white\", \"linecolor\": \"white\", \"minorgridcolor\": \"white\", \"startlinecolor\": \"#2a3f5f\"}, \"baxis\": {\"endlinecolor\": \"#2a3f5f\", \"gridcolor\": \"white\", \"linecolor\": \"white\", \"minorgridcolor\": \"white\", \"startlinecolor\": \"#2a3f5f\"}, \"type\": \"carpet\"}], \"choropleth\": [{\"colorbar\": {\"outlinewidth\": 0, \"ticks\": \"\"}, \"type\": \"choropleth\"}], \"contour\": [{\"colorbar\": {\"outlinewidth\": 0, \"ticks\": \"\"}, \"colorscale\": [[0.0, \"#0d0887\"], [0.1111111111111111, \"#46039f\"], [0.2222222222222222, \"#7201a8\"], [0.3333333333333333, \"#9c179e\"], [0.4444444444444444, \"#bd3786\"], [0.5555555555555556, \"#d8576b\"], [0.6666666666666666, \"#ed7953\"], [0.7777777777777778, \"#fb9f3a\"], [0.8888888888888888, \"#fdca26\"], [1.0, \"#f0f921\"]], \"type\": \"contour\"}], \"contourcarpet\": [{\"colorbar\": {\"outlinewidth\": 0, \"ticks\": \"\"}, \"type\": \"contourcarpet\"}], \"heatmap\": [{\"colorbar\": {\"outlinewidth\": 0, \"ticks\": \"\"}, \"colorscale\": [[0.0, \"#0d0887\"], [0.1111111111111111, \"#46039f\"], [0.2222222222222222, \"#7201a8\"], [0.3333333333333333, \"#9c179e\"], [0.4444444444444444, \"#bd3786\"], [0.5555555555555556, \"#d8576b\"], [0.6666666666666666, \"#ed7953\"], [0.7777777777777778, \"#fb9f3a\"], [0.8888888888888888, \"#fdca26\"], [1.0, \"#f0f921\"]], \"type\": \"heatmap\"}], \"heatmapgl\": [{\"colorbar\": {\"outlinewidth\": 0, \"ticks\": \"\"}, \"colorscale\": [[0.0, \"#0d0887\"], [0.1111111111111111, \"#46039f\"], [0.2222222222222222, \"#7201a8\"], [0.3333333333333333, \"#9c179e\"], [0.4444444444444444, \"#bd3786\"], [0.5555555555555556, \"#d8576b\"], [0.6666666666666666, \"#ed7953\"], [0.7777777777777778, \"#fb9f3a\"], [0.8888888888888888, \"#fdca26\"], [1.0, \"#f0f921\"]], \"type\": \"heatmapgl\"}], \"histogram\": [{\"marker\": {\"colorbar\": {\"outlinewidth\": 0, \"ticks\": \"\"}}, \"type\": \"histogram\"}], \"histogram2d\": [{\"colorbar\": {\"outlinewidth\": 0, \"ticks\": \"\"}, \"colorscale\": [[0.0, \"#0d0887\"], [0.1111111111111111, \"#46039f\"], [0.2222222222222222, \"#7201a8\"], [0.3333333333333333, \"#9c179e\"], [0.4444444444444444, \"#bd3786\"], [0.5555555555555556, \"#d8576b\"], [0.6666666666666666, \"#ed7953\"], [0.7777777777777778, \"#fb9f3a\"], [0.8888888888888888, \"#fdca26\"], [1.0, \"#f0f921\"]], \"type\": \"histogram2d\"}], \"histogram2dcontour\": [{\"colorbar\": {\"outlinewidth\": 0, \"ticks\": \"\"}, \"colorscale\": [[0.0, \"#0d0887\"], [0.1111111111111111, \"#46039f\"], [0.2222222222222222, \"#7201a8\"], [0.3333333333333333, \"#9c179e\"], [0.4444444444444444, \"#bd3786\"], [0.5555555555555556, \"#d8576b\"], [0.6666666666666666, \"#ed7953\"], [0.7777777777777778, \"#fb9f3a\"], [0.8888888888888888, \"#fdca26\"], [1.0, \"#f0f921\"]], \"type\": \"histogram2dcontour\"}], \"mesh3d\": [{\"colorbar\": {\"outlinewidth\": 0, \"ticks\": \"\"}, \"type\": \"mesh3d\"}], \"parcoords\": [{\"line\": {\"colorbar\": {\"outlinewidth\": 0, \"ticks\": \"\"}}, \"type\": \"parcoords\"}], \"pie\": [{\"automargin\": true, \"type\": \"pie\"}], \"scatter\": [{\"marker\": {\"colorbar\": {\"outlinewidth\": 0, \"ticks\": \"\"}}, \"type\": \"scatter\"}], \"scatter3d\": [{\"line\": {\"colorbar\": {\"outlinewidth\": 0, \"ticks\": \"\"}}, \"marker\": {\"colorbar\": {\"outlinewidth\": 0, \"ticks\": \"\"}}, \"type\": \"scatter3d\"}], \"scattercarpet\": [{\"marker\": {\"colorbar\": {\"outlinewidth\": 0, \"ticks\": \"\"}}, \"type\": \"scattercarpet\"}], \"scattergeo\": [{\"marker\": {\"colorbar\": {\"outlinewidth\": 0, \"ticks\": \"\"}}, \"type\": \"scattergeo\"}], \"scattergl\": [{\"marker\": {\"colorbar\": {\"outlinewidth\": 0, \"ticks\": \"\"}}, \"type\": \"scattergl\"}], \"scattermapbox\": [{\"marker\": {\"colorbar\": {\"outlinewidth\": 0, \"ticks\": \"\"}}, \"type\": \"scattermapbox\"}], \"scatterpolar\": [{\"marker\": {\"colorbar\": {\"outlinewidth\": 0, \"ticks\": \"\"}}, \"type\": \"scatterpolar\"}], \"scatterpolargl\": [{\"marker\": {\"colorbar\": {\"outlinewidth\": 0, \"ticks\": \"\"}}, \"type\": \"scatterpolargl\"}], \"scatterternary\": [{\"marker\": {\"colorbar\": {\"outlinewidth\": 0, \"ticks\": \"\"}}, \"type\": \"scatterternary\"}], \"surface\": [{\"colorbar\": {\"outlinewidth\": 0, \"ticks\": \"\"}, \"colorscale\": [[0.0, \"#0d0887\"], [0.1111111111111111, \"#46039f\"], [0.2222222222222222, \"#7201a8\"], [0.3333333333333333, \"#9c179e\"], [0.4444444444444444, \"#bd3786\"], [0.5555555555555556, \"#d8576b\"], [0.6666666666666666, \"#ed7953\"], [0.7777777777777778, \"#fb9f3a\"], [0.8888888888888888, \"#fdca26\"], [1.0, \"#f0f921\"]], \"type\": \"surface\"}], \"table\": [{\"cells\": {\"fill\": {\"color\": \"#EBF0F8\"}, \"line\": {\"color\": \"white\"}}, \"header\": {\"fill\": {\"color\": \"#C8D4E3\"}, \"line\": {\"color\": \"white\"}}, \"type\": \"table\"}]}, \"layout\": {\"annotationdefaults\": {\"arrowcolor\": \"#2a3f5f\", \"arrowhead\": 0, \"arrowwidth\": 1}, \"coloraxis\": {\"colorbar\": {\"outlinewidth\": 0, \"ticks\": \"\"}}, \"colorscale\": {\"diverging\": [[0, \"#8e0152\"], [0.1, \"#c51b7d\"], [0.2, \"#de77ae\"], [0.3, \"#f1b6da\"], [0.4, \"#fde0ef\"], [0.5, \"#f7f7f7\"], [0.6, \"#e6f5d0\"], [0.7, \"#b8e186\"], [0.8, \"#7fbc41\"], [0.9, \"#4d9221\"], [1, \"#276419\"]], \"sequential\": [[0.0, \"#0d0887\"], [0.1111111111111111, \"#46039f\"], [0.2222222222222222, \"#7201a8\"], [0.3333333333333333, \"#9c179e\"], [0.4444444444444444, \"#bd3786\"], [0.5555555555555556, \"#d8576b\"], [0.6666666666666666, \"#ed7953\"], [0.7777777777777778, \"#fb9f3a\"], [0.8888888888888888, \"#fdca26\"], [1.0, \"#f0f921\"]], \"sequentialminus\": [[0.0, \"#0d0887\"], [0.1111111111111111, \"#46039f\"], [0.2222222222222222, \"#7201a8\"], [0.3333333333333333, \"#9c179e\"], [0.4444444444444444, \"#bd3786\"], [0.5555555555555556, \"#d8576b\"], [0.6666666666666666, \"#ed7953\"], [0.7777777777777778, \"#fb9f3a\"], [0.8888888888888888, \"#fdca26\"], [1.0, \"#f0f921\"]]}, \"colorway\": [\"#636efa\", \"#EF553B\", \"#00cc96\", \"#ab63fa\", \"#FFA15A\", \"#19d3f3\", \"#FF6692\", \"#B6E880\", \"#FF97FF\", \"#FECB52\"], \"font\": {\"color\": \"#2a3f5f\"}, \"geo\": {\"bgcolor\": \"white\", \"lakecolor\": \"white\", \"landcolor\": \"#E5ECF6\", \"showlakes\": true, \"showland\": true, \"subunitcolor\": \"white\"}, \"hoverlabel\": {\"align\": \"left\"}, \"hovermode\": \"closest\", \"mapbox\": {\"style\": \"light\"}, \"paper_bgcolor\": \"white\", \"plot_bgcolor\": \"#E5ECF6\", \"polar\": {\"angularaxis\": {\"gridcolor\": \"white\", \"linecolor\": \"white\", \"ticks\": \"\"}, \"bgcolor\": \"#E5ECF6\", \"radialaxis\": {\"gridcolor\": \"white\", \"linecolor\": \"white\", \"ticks\": \"\"}}, \"scene\": {\"xaxis\": {\"backgroundcolor\": \"#E5ECF6\", \"gridcolor\": \"white\", \"gridwidth\": 2, \"linecolor\": \"white\", \"showbackground\": true, \"ticks\": \"\", \"zerolinecolor\": \"white\"}, \"yaxis\": {\"backgroundcolor\": \"#E5ECF6\", \"gridcolor\": \"white\", \"gridwidth\": 2, \"linecolor\": \"white\", \"showbackground\": true, \"ticks\": \"\", \"zerolinecolor\": \"white\"}, \"zaxis\": {\"backgroundcolor\": \"#E5ECF6\", \"gridcolor\": \"white\", \"gridwidth\": 2, \"linecolor\": \"white\", \"showbackground\": true, \"ticks\": \"\", \"zerolinecolor\": \"white\"}}, \"shapedefaults\": {\"line\": {\"color\": \"#2a3f5f\"}}, \"ternary\": {\"aaxis\": {\"gridcolor\": \"white\", \"linecolor\": \"white\", \"ticks\": \"\"}, \"baxis\": {\"gridcolor\": \"white\", \"linecolor\": \"white\", \"ticks\": \"\"}, \"bgcolor\": \"#E5ECF6\", \"caxis\": {\"gridcolor\": \"white\", \"linecolor\": \"white\", \"ticks\": \"\"}}, \"title\": {\"x\": 0.05}, \"xaxis\": {\"automargin\": true, \"gridcolor\": \"white\", \"linecolor\": \"white\", \"ticks\": \"\", \"title\": {\"standoff\": 15}, \"zerolinecolor\": \"white\", \"zerolinewidth\": 2}, \"yaxis\": {\"automargin\": true, \"gridcolor\": \"white\", \"linecolor\": \"white\", \"ticks\": \"\", \"title\": {\"standoff\": 15}, \"zerolinecolor\": \"white\", \"zerolinewidth\": 2}}}, \"title\": {\"text\": \"ScreePlot\", \"x\": 0.5}, \"xaxis\": {\"title\": {\"text\": \"No of eigen values\"}}, \"yaxis\": {\"title\": {\"text\": \"eigen value\"}}},\n",
       "                        {\"responsive\": true}\n",
       "                    ).then(function(){\n",
       "                            \n",
       "var gd = document.getElementById('cea0dfed-d25d-4616-a168-dabfab275273');\n",
       "var x = new MutationObserver(function (mutations, observer) {{\n",
       "        var display = window.getComputedStyle(gd).display;\n",
       "        if (!display || display === 'none') {{\n",
       "            console.log([gd, 'removed!']);\n",
       "            Plotly.purge(gd);\n",
       "            observer.disconnect();\n",
       "        }}\n",
       "}});\n",
       "\n",
       "// Listen for the removal of the full notebook cells\n",
       "var notebookContainer = gd.closest('#notebook-container');\n",
       "if (notebookContainer) {{\n",
       "    x.observe(notebookContainer, {childList: true});\n",
       "}}\n",
       "\n",
       "// Listen for the clearing of the current output cell\n",
       "var outputEl = gd.closest('.output');\n",
       "if (outputEl) {{\n",
       "    x.observe(outputEl, {childList: true});\n",
       "}}\n",
       "\n",
       "                        })\n",
       "                };\n",
       "                });\n",
       "            </script>\n",
       "        </div>"
      ]
     },
     "metadata": {},
     "output_type": "display_data"
    }
   ],
   "source": [
    "method=methods['MDS']\n",
    "X_train_data = method.fit_transform(df)\n",
    "N = len(X_train_data)\n",
    "# L = (N)//2\n",
    "L =  25\n",
    "X_train = hankel(X_train_data[:L],X_train_data[L-1:]) # Creating trajectory matrix\n",
    "eigenValues, eigenVectors = eigh(np.matmul(X_train, X_train.T))\n",
    "idx = eigenValues.argsort()[::-1]\n",
    "eigenValues = eigenValues[idx]\n",
    "eigenVectors = eigenVectors[:,idx]\n",
    "# Sree plot\n",
    "\n",
    "eigen_data = go.Scatter(x=list(range(len(eigenValues[0:10]))), y=eigenValues[0:10])\n",
    "eigen_layout = go.Layout(title='ScreePlot', title_x=0.5, xaxis_title=\"No of eigen values\", yaxis_title=\"eigen value\",)\n",
    "fig = go.Figure(data=[eigen_data], layout=eigen_layout)\n",
    "fig.show()"
   ]
  },
  {
   "cell_type": "code",
   "execution_count": 10,
   "metadata": {},
   "outputs": [],
   "source": [
    "# Setting statistical dimension based on screeplot above\n",
    "r = 2\n",
    "# Performing singular value decomposition\n",
    "U, Sigma, V = np.linalg.svd(X_train)\n",
    "V = V.T\n",
    "X_elem = np.array( [Sigma[i] * np.outer(U[:,i], V[:,i]) for i in range(0,r)] )\n",
    "X_train_extracted = X_elem.sum(axis=0)\n",
    "U = eigenVectors[:,:r] # r as statistical dimension\n",
    "UT = U.T\n",
    "pX = np.matmul(UT,X_train_extracted)\n",
    "centroid = np.mean(pX, axis=1)\n",
    "centroid = centroid[:,np.newaxis]\n",
    "pXt = np.matmul(UT,X_train)\n",
    "dt_matrix = centroid - pXt\n",
    "dt_scores = np.linalg.norm(dt_matrix, axis=0, ord=2)\n",
    "\n",
    "# Testing positional Deviation\n",
    "X_test = method.fit_transform(df_test)\n",
    "Xj = hankel(X_test[:L],X_test[L-1:])\n",
    "pXj = np.matmul(UT, Xj)\n",
    "dj_matrix = centroid - pXj\n",
    "dj_scores = np.linalg.norm(dj_matrix, axis=0, ord=2)\n",
    "dj_scores = np.asarray(dj_scores)\n"
   ]
  },
  {
   "cell_type": "code",
   "execution_count": 12,
   "metadata": {},
   "outputs": [
    {
     "data": {
      "application/vnd.plotly.v1+json": {
       "config": {
        "plotlyServerURL": "https://plot.ly"
       },
       "data": [
        {
         "marker": {
          "color": "blue"
         },
         "name": "Training path",
         "type": "scatter",
         "x": [
          0,
          -0.2,
          -0.25,
          -0.27,
          -0.8,
          -1.25,
          -2.53,
          -2.69,
          -2.02,
          -0.82,
          0.45,
          1.77,
          3.1,
          4.4,
          5.73,
          7.06,
          8.38,
          9.71,
          11.1,
          12.4,
          13.67,
          14.95,
          16.23,
          17.53,
          18.82,
          20.1,
          21.42,
          22.73,
          24.02,
          25.29,
          26.51,
          27.5,
          26.32,
          24.94,
          23.55,
          22.16,
          20.8,
          19.45,
          18.11,
          16.76,
          13.95,
          12.54,
          11.15,
          9.76,
          8.37,
          7,
          5.63,
          4.26,
          2.95,
          1.56,
          0.21,
          -1.12,
          -2.39,
          -3.48,
          -2.14,
          -0.74,
          0.64,
          2.04,
          3.48,
          4.91,
          6.31,
          7.7,
          9.08,
          10.48,
          11.88,
          13.27,
          14.67,
          16.05,
          17.4,
          18.75,
          20.11,
          21.46,
          22.79,
          24.13,
          25.53,
          26.82,
          27.7,
          26.38,
          25,
          23.58,
          22.17,
          20.72,
          19.26,
          17.81,
          16.36,
          14.92,
          13.48,
          12.07,
          10.67,
          9.23,
          7.78,
          6.34,
          4.9,
          3.45,
          1.99,
          0.58,
          -0.82,
          -2.2,
          -2.82,
          -2.96,
          -1.69,
          -1.06,
          -0.89,
          0.11,
          0.04,
          0.07,
          -0.11,
          0,
          -0.2,
          -0.25
         ],
         "xaxis": "x",
         "y": [
          0,
          -0.01,
          0.32,
          1.14,
          2.06,
          3.3,
          3.69,
          3.96,
          5.03,
          5.55,
          5.67,
          5.71,
          5.69,
          5.71,
          5.77,
          5.81,
          5.86,
          5.99,
          6.09,
          6.24,
          6.43,
          6.53,
          6.51,
          6.47,
          6.53,
          6.61,
          6.68,
          6.82,
          6.87,
          6.93,
          6.88,
          6.95,
          6.94,
          6.85,
          6.88,
          6.8,
          6.71,
          6.6,
          6.55,
          6.5,
          6.45,
          6.37,
          6.27,
          6.24,
          6.27,
          6.25,
          6.26,
          6.25,
          6.05,
          6,
          6.01,
          5.93,
          5.95,
          5.72,
          5.75,
          5.87,
          5.85,
          5.85,
          5.87,
          5.95,
          6.04,
          6.08,
          6.1,
          6.15,
          6.2,
          6.23,
          6.3,
          6.33,
          6.4,
          6.37,
          6.4,
          6.28,
          6.24,
          6.18,
          6.32,
          6.42,
          6.53,
          6.52,
          6.46,
          6.47,
          6.51,
          6.42,
          6.37,
          6.33,
          6.33,
          6.35,
          6.41,
          6.51,
          6.59,
          6.5,
          6.42,
          6.38,
          6.24,
          6.24,
          6.21,
          6.21,
          6.25,
          6.15,
          5.3,
          4.41,
          4.09,
          3.29,
          2.17,
          1.76,
          1.74,
          1.82,
          1.47,
          0,
          -0.01,
          0.32
         ],
         "yaxis": "y"
        },
        {
         "marker": {
          "color": "red"
         },
         "name": "Testing Score",
         "type": "scatter",
         "x": [
          -2.03,
          -2.97,
          -2.74,
          -1.95,
          -0.67,
          0.68,
          1.99,
          3.33,
          4.64,
          5.87,
          6.6,
          6.73,
          6.71,
          6.72,
          6.72,
          6.43,
          6.1,
          6.08,
          6.25,
          6.6,
          6.96,
          7.89,
          9.19,
          10.55,
          11.88,
          13.24,
          14.58,
          15.92,
          17.27,
          18.6,
          19.93,
          21.23,
          22.58,
          23.84,
          25,
          25.99,
          24.81,
          23.43,
          22.07,
          20.72,
          19.32,
          17.92,
          16.51,
          15.12,
          13.73,
          12.35,
          11.01,
          9.68,
          8.32,
          7,
          5.66,
          4.28,
          2.95,
          1.6,
          0.25,
          -1.09,
          -2.34,
          -2.86,
          -3.31,
          -2.38,
          -1.33,
          -1.23,
          -1.4,
          -1.22,
          -1,
          -1.15,
          -1.18,
          -2.36,
          -3.41,
          -3.95,
          -3.95,
          -3.96,
          -3.8,
          -3.78,
          -3.79,
          -3.6,
          -3.16,
          -2.83,
          -2.55,
          -1.85,
          -0.62,
          0.64,
          1.98,
          3.29,
          4.56,
          5.78,
          6.59,
          6.69,
          6.45,
          6.21,
          5.98,
          5.82,
          6.04,
          6.12,
          6.21,
          6.43,
          6.82,
          7.58,
          8.79,
          10.08,
          11.46,
          12.78,
          14.11,
          15.43,
          16.73,
          18.06,
          19.38,
          20.68,
          21.93,
          23.18,
          24.45,
          25.76,
          26.75,
          25.5,
          24.17,
          22.88,
          21.52,
          20.19,
          18.82,
          17.48,
          16.09,
          14.74,
          13.36,
          12.03,
          10.68,
          9.34,
          7.97,
          6.61,
          5.24,
          3.86,
          2.46,
          1.05,
          -0.34,
          -1.67,
          -2.61,
          -3.07,
          -2.29,
          -1.2,
          -1.3,
          -1.42,
          -1.24,
          -1.16,
          -0.99,
          -1.04,
          0,
          -0.06,
          -0.76,
          -1.03,
          -0.98,
          -2.03
         ],
         "xaxis": "x2",
         "y": [
          3.5,
          3.72,
          3.86,
          4.77,
          4.95,
          5.02,
          5.13,
          5.04,
          5.04,
          4.81,
          3.85,
          2.58,
          1.26,
          -0.05,
          -1.35,
          -2.22,
          -1.44,
          -0.17,
          1.12,
          2.38,
          3.69,
          4.59,
          4.9,
          4.88,
          4.88,
          4.84,
          4.71,
          4.72,
          4.78,
          4.8,
          4.82,
          4.74,
          4.81,
          4.95,
          4.75,
          4.83,
          4.95,
          5.06,
          5.16,
          5.21,
          5.29,
          5.22,
          5.28,
          5.35,
          5.42,
          5.44,
          5.41,
          5.44,
          5.41,
          5.4,
          5.58,
          5.62,
          5.69,
          5.77,
          5.85,
          5.93,
          5.98,
          5.17,
          4.47,
          3.73,
          3.46,
          2.26,
          1.17,
          0.43,
          1.29,
          2.34,
          3.61,
          4.25,
          3.46,
          2.34,
          1.11,
          -0.07,
          -0.82,
          0.45,
          1.79,
          3.05,
          4.12,
          4.4,
          4.67,
          5.71,
          5.92,
          5.64,
          5.5,
          5.36,
          5.1,
          4.63,
          3.79,
          2.55,
          1.35,
          0.12,
          -1.11,
          -2.24,
          -2,
          -0.79,
          0.48,
          1.73,
          2.95,
          3.99,
          4.48,
          4.39,
          4.27,
          4.08,
          4.06,
          4.01,
          3.7,
          3.61,
          3.56,
          3.35,
          3.05,
          2.76,
          2.51,
          2.45,
          2.8,
          2.84,
          2.97,
          3.2,
          3.4,
          3.59,
          3.82,
          4,
          4.21,
          4.4,
          4.52,
          4.75,
          4.88,
          5.03,
          5.23,
          5.3,
          5.62,
          5.95,
          6.17,
          6.44,
          6.58,
          6.81,
          6.31,
          5.35,
          4.55,
          4.21,
          3.11,
          2.08,
          1.66,
          1.81,
          1.86,
          2.05,
          0,
          0,
          0.75,
          1.7,
          2.82,
          3.5
         ],
         "yaxis": "y2"
        },
        {
         "marker": {
          "color": "blue"
         },
         "name": "Training Score",
         "type": "scatter",
         "x": [
          0,
          1,
          2,
          3,
          4,
          5,
          6,
          7,
          8,
          9,
          10,
          11,
          12,
          13,
          14,
          15,
          16,
          17,
          18,
          19,
          20,
          21,
          22,
          23,
          24,
          25,
          26,
          27,
          28,
          29,
          30,
          31,
          32,
          33,
          34,
          35,
          36,
          37,
          38,
          39,
          40,
          41,
          42,
          43,
          44,
          45,
          46,
          47,
          48,
          49,
          50,
          51,
          52,
          53,
          54,
          55,
          56,
          57,
          58,
          59,
          60,
          61,
          62,
          63,
          64,
          65,
          66,
          67,
          68,
          69,
          70,
          71,
          72,
          73,
          74,
          75,
          76,
          77,
          78,
          79,
          80,
          81,
          82,
          83,
          84,
          85
         ],
         "xaxis": "x3",
         "y": [
          33.41331266837964,
          34.2401239058454,
          35.18037865471072,
          26.492738704815523,
          18.658269732833872,
          19.02994678177247,
          19.412348033645646,
          19.496896298106336,
          19.45354511298552,
          19.425051288761285,
          19.429277206843018,
          19.297756959134382,
          19.16135904907715,
          19.04323155961053,
          18.940583163261554,
          18.875922985877136,
          18.803157921315208,
          18.708531983451508,
          18.603214978670643,
          18.523263312556807,
          18.574509652698175,
          18.630927504801658,
          18.66909655172202,
          19.06601928644548,
          19.858105802853828,
          28.419083982473477,
          27.16026092214813,
          25.47626490307238,
          32.29721952758196,
          38.24740508237174,
          36.71027210840056,
          35.350109407722705,
          34.213476179411906,
          33.34094779918132,
          32.7632909992564,
          32.518491484436055,
          32.610517596097885,
          32.97510502084426,
          33.59899987949056,
          34.45363139466806,
          35.50184470771657,
          36.70582072300904,
          38.023546907996504,
          39.40915479588911,
          33.4868319966983,
          34.83321767262705,
          36.502367829518924,
          37.96061176720185,
          38.35488430069707,
          29.818251541719157,
          29.63914812823049,
          29.921415988182066,
          29.925065907150685,
          29.797816445512453,
          29.646046745862215,
          29.588233968021402,
          29.50561358962564,
          29.406010637862895,
          29.244446649682352,
          29.096484749873728,
          28.956307543211754,
          28.823771688976482,
          28.699805045119973,
          28.595933504967384,
          28.598492763167982,
          28.58774126553333,
          28.516210068425377,
          28.233409230742375,
          28.522557257184886,
          36.48431831503406,
          36.44058368496141,
          35.704843057545425,
          34.32032877434957,
          33.63339812465797,
          40.842347347082686,
          40.62676626478642
         ],
         "yaxis": "y3"
        },
        {
         "marker": {
          "color": "red"
         },
         "name": "Testing Score",
         "type": "scatter",
         "x": [
          0,
          1,
          2,
          3,
          4,
          5,
          6,
          7,
          8,
          9,
          10,
          11,
          12,
          13,
          14,
          15,
          16,
          17,
          18,
          19,
          20,
          21,
          22,
          23,
          24,
          25,
          26,
          27,
          28,
          29,
          30,
          31,
          32,
          33,
          34,
          35,
          36,
          37,
          38,
          39,
          40,
          41,
          42,
          43,
          44,
          45,
          46,
          47,
          48,
          49,
          50,
          51,
          52,
          53,
          54,
          55,
          56,
          57,
          58,
          59,
          60,
          61,
          62,
          63,
          64,
          65,
          66,
          67,
          68,
          69,
          70,
          71,
          72,
          73,
          74,
          75,
          76,
          77,
          78,
          79,
          80,
          81,
          82,
          83,
          84,
          85,
          86,
          87,
          88,
          89,
          90,
          91,
          92,
          93,
          94,
          95,
          96,
          97,
          98,
          99,
          100,
          101,
          102,
          103,
          104,
          105,
          106,
          107,
          108,
          109,
          110,
          111,
          112,
          113,
          114,
          115,
          116,
          117,
          118,
          119,
          120,
          121,
          122,
          123,
          124,
          125
         ],
         "xaxis": "x3",
         "y": [
          18.31973601461978,
          17.61390283791465,
          16.968640658288162,
          16.68385835174027,
          16.88111910659529,
          17.818681246136325,
          19.3696869525914,
          21.452214378037464,
          16.168030262823578,
          11.878127390236996,
          14.268614409104053,
          17.362773471013153,
          20.183029405537784,
          22.681128509647518,
          19.383447520501267,
          17.674499040180716,
          18.181664148395495,
          17.858256759845233,
          17.573780707014386,
          17.254774465037684,
          16.91492566502482,
          16.485130784011755,
          15.942025438722125,
          15.238032411288323,
          14.425570472233835,
          13.554075457639915,
          12.802855481709267,
          12.053193216926564,
          11.381738200491856,
          10.726236297909542,
          9.872766879389227,
          8.817701241709086,
          7.6576162844322395,
          14.374873638092318,
          22.093954899345754,
          20.290724711305163,
          18.030445677360923,
          16.07559737853466,
          14.734498603871437,
          20.571421353829514,
          25.973707571905585,
          25.373282849154972,
          29.85211534224175,
          29.9721253955044,
          30.481357734511935,
          31.217278945184585,
          32.08185377985348,
          33.03374321498228,
          34.004931808512225,
          34.88571540851961,
          35.67289701156597,
          36.43211320508265,
          37.09603329595147,
          37.670318702476166,
          38.15697541781131,
          38.54977832772196,
          38.81734808636333,
          38.974075898909746,
          39.01782508929751,
          38.94289968116962,
          38.773506418232145,
          38.526113482090814,
          38.19702563334521,
          37.72221965069781,
          37.094034376650406,
          36.35349951169085,
          35.44599860445212,
          34.4958955351637,
          33.11185984632145,
          31.434738290979865,
          29.552531861079242,
          27.516669218058013,
          25.34784053119952,
          23.21270817223284,
          21.315703740773262,
          19.656818365799495,
          18.28600373367059,
          17.241422868375004,
          12.178386874087192,
          11.746911262124858,
          11.856701472875738,
          12.649429432195337,
          14.030617797762128,
          8.390720783665554,
          10.85576270380803,
          14.028115360420825,
          8.811999761608423,
          12.246761277171995,
          8.044942508700679,
          10.34505093755938,
          8.162620599218645,
          8.68457799106554,
          9.93297761217973,
          11.239266273418382,
          9.469225537091386,
          9.963302466413262,
          9.099195308160263,
          10.651412614709672,
          9.627031515093641,
          8.47890725091355,
          7.261488746523303,
          5.865295556989581,
          4.615535079800554,
          7.174305213751224,
          5.739944612694115,
          4.245495580111209,
          2.651879575393481,
          1.2418620078497682,
          7.43503782171327,
          6.1745233194182285,
          5.225077126326334,
          12.525569503444688,
          10.648338442651482,
          17.61450359415677,
          15.768497275552493,
          22.20298526232809,
          21.016623678691268,
          20.20037163303935,
          19.78788594683019,
          23.1969910619119,
          26.493721963495403,
          26.428373136577715,
          29.108567708633878,
          29.460692247653363,
          29.888160574558466,
          30.44619037740586
         ],
         "yaxis": "y3"
        }
       ],
       "layout": {
        "annotations": [
         {
          "font": {
           "size": 16
          },
          "showarrow": false,
          "text": "Training plot",
          "x": 0.225,
          "xanchor": "center",
          "xref": "paper",
          "y": 1,
          "yanchor": "bottom",
          "yref": "paper"
         },
         {
          "font": {
           "size": 16
          },
          "showarrow": false,
          "text": "Testing plot",
          "x": 0.775,
          "xanchor": "center",
          "xref": "paper",
          "y": 1,
          "yanchor": "bottom",
          "yref": "paper"
         },
         {
          "font": {
           "size": 16
          },
          "showarrow": false,
          "text": "Anomaly score by Multidimensional scaling",
          "x": 0.5,
          "xanchor": "center",
          "xref": "paper",
          "y": 0.375,
          "yanchor": "bottom",
          "yref": "paper"
         }
        ],
        "showlegend": false,
        "template": {
         "data": {
          "bar": [
           {
            "error_x": {
             "color": "#2a3f5f"
            },
            "error_y": {
             "color": "#2a3f5f"
            },
            "marker": {
             "line": {
              "color": "#E5ECF6",
              "width": 0.5
             }
            },
            "type": "bar"
           }
          ],
          "barpolar": [
           {
            "marker": {
             "line": {
              "color": "#E5ECF6",
              "width": 0.5
             }
            },
            "type": "barpolar"
           }
          ],
          "carpet": [
           {
            "aaxis": {
             "endlinecolor": "#2a3f5f",
             "gridcolor": "white",
             "linecolor": "white",
             "minorgridcolor": "white",
             "startlinecolor": "#2a3f5f"
            },
            "baxis": {
             "endlinecolor": "#2a3f5f",
             "gridcolor": "white",
             "linecolor": "white",
             "minorgridcolor": "white",
             "startlinecolor": "#2a3f5f"
            },
            "type": "carpet"
           }
          ],
          "choropleth": [
           {
            "colorbar": {
             "outlinewidth": 0,
             "ticks": ""
            },
            "type": "choropleth"
           }
          ],
          "contour": [
           {
            "colorbar": {
             "outlinewidth": 0,
             "ticks": ""
            },
            "colorscale": [
             [
              0,
              "#0d0887"
             ],
             [
              0.1111111111111111,
              "#46039f"
             ],
             [
              0.2222222222222222,
              "#7201a8"
             ],
             [
              0.3333333333333333,
              "#9c179e"
             ],
             [
              0.4444444444444444,
              "#bd3786"
             ],
             [
              0.5555555555555556,
              "#d8576b"
             ],
             [
              0.6666666666666666,
              "#ed7953"
             ],
             [
              0.7777777777777778,
              "#fb9f3a"
             ],
             [
              0.8888888888888888,
              "#fdca26"
             ],
             [
              1,
              "#f0f921"
             ]
            ],
            "type": "contour"
           }
          ],
          "contourcarpet": [
           {
            "colorbar": {
             "outlinewidth": 0,
             "ticks": ""
            },
            "type": "contourcarpet"
           }
          ],
          "heatmap": [
           {
            "colorbar": {
             "outlinewidth": 0,
             "ticks": ""
            },
            "colorscale": [
             [
              0,
              "#0d0887"
             ],
             [
              0.1111111111111111,
              "#46039f"
             ],
             [
              0.2222222222222222,
              "#7201a8"
             ],
             [
              0.3333333333333333,
              "#9c179e"
             ],
             [
              0.4444444444444444,
              "#bd3786"
             ],
             [
              0.5555555555555556,
              "#d8576b"
             ],
             [
              0.6666666666666666,
              "#ed7953"
             ],
             [
              0.7777777777777778,
              "#fb9f3a"
             ],
             [
              0.8888888888888888,
              "#fdca26"
             ],
             [
              1,
              "#f0f921"
             ]
            ],
            "type": "heatmap"
           }
          ],
          "heatmapgl": [
           {
            "colorbar": {
             "outlinewidth": 0,
             "ticks": ""
            },
            "colorscale": [
             [
              0,
              "#0d0887"
             ],
             [
              0.1111111111111111,
              "#46039f"
             ],
             [
              0.2222222222222222,
              "#7201a8"
             ],
             [
              0.3333333333333333,
              "#9c179e"
             ],
             [
              0.4444444444444444,
              "#bd3786"
             ],
             [
              0.5555555555555556,
              "#d8576b"
             ],
             [
              0.6666666666666666,
              "#ed7953"
             ],
             [
              0.7777777777777778,
              "#fb9f3a"
             ],
             [
              0.8888888888888888,
              "#fdca26"
             ],
             [
              1,
              "#f0f921"
             ]
            ],
            "type": "heatmapgl"
           }
          ],
          "histogram": [
           {
            "marker": {
             "colorbar": {
              "outlinewidth": 0,
              "ticks": ""
             }
            },
            "type": "histogram"
           }
          ],
          "histogram2d": [
           {
            "colorbar": {
             "outlinewidth": 0,
             "ticks": ""
            },
            "colorscale": [
             [
              0,
              "#0d0887"
             ],
             [
              0.1111111111111111,
              "#46039f"
             ],
             [
              0.2222222222222222,
              "#7201a8"
             ],
             [
              0.3333333333333333,
              "#9c179e"
             ],
             [
              0.4444444444444444,
              "#bd3786"
             ],
             [
              0.5555555555555556,
              "#d8576b"
             ],
             [
              0.6666666666666666,
              "#ed7953"
             ],
             [
              0.7777777777777778,
              "#fb9f3a"
             ],
             [
              0.8888888888888888,
              "#fdca26"
             ],
             [
              1,
              "#f0f921"
             ]
            ],
            "type": "histogram2d"
           }
          ],
          "histogram2dcontour": [
           {
            "colorbar": {
             "outlinewidth": 0,
             "ticks": ""
            },
            "colorscale": [
             [
              0,
              "#0d0887"
             ],
             [
              0.1111111111111111,
              "#46039f"
             ],
             [
              0.2222222222222222,
              "#7201a8"
             ],
             [
              0.3333333333333333,
              "#9c179e"
             ],
             [
              0.4444444444444444,
              "#bd3786"
             ],
             [
              0.5555555555555556,
              "#d8576b"
             ],
             [
              0.6666666666666666,
              "#ed7953"
             ],
             [
              0.7777777777777778,
              "#fb9f3a"
             ],
             [
              0.8888888888888888,
              "#fdca26"
             ],
             [
              1,
              "#f0f921"
             ]
            ],
            "type": "histogram2dcontour"
           }
          ],
          "mesh3d": [
           {
            "colorbar": {
             "outlinewidth": 0,
             "ticks": ""
            },
            "type": "mesh3d"
           }
          ],
          "parcoords": [
           {
            "line": {
             "colorbar": {
              "outlinewidth": 0,
              "ticks": ""
             }
            },
            "type": "parcoords"
           }
          ],
          "pie": [
           {
            "automargin": true,
            "type": "pie"
           }
          ],
          "scatter": [
           {
            "marker": {
             "colorbar": {
              "outlinewidth": 0,
              "ticks": ""
             }
            },
            "type": "scatter"
           }
          ],
          "scatter3d": [
           {
            "line": {
             "colorbar": {
              "outlinewidth": 0,
              "ticks": ""
             }
            },
            "marker": {
             "colorbar": {
              "outlinewidth": 0,
              "ticks": ""
             }
            },
            "type": "scatter3d"
           }
          ],
          "scattercarpet": [
           {
            "marker": {
             "colorbar": {
              "outlinewidth": 0,
              "ticks": ""
             }
            },
            "type": "scattercarpet"
           }
          ],
          "scattergeo": [
           {
            "marker": {
             "colorbar": {
              "outlinewidth": 0,
              "ticks": ""
             }
            },
            "type": "scattergeo"
           }
          ],
          "scattergl": [
           {
            "marker": {
             "colorbar": {
              "outlinewidth": 0,
              "ticks": ""
             }
            },
            "type": "scattergl"
           }
          ],
          "scattermapbox": [
           {
            "marker": {
             "colorbar": {
              "outlinewidth": 0,
              "ticks": ""
             }
            },
            "type": "scattermapbox"
           }
          ],
          "scatterpolar": [
           {
            "marker": {
             "colorbar": {
              "outlinewidth": 0,
              "ticks": ""
             }
            },
            "type": "scatterpolar"
           }
          ],
          "scatterpolargl": [
           {
            "marker": {
             "colorbar": {
              "outlinewidth": 0,
              "ticks": ""
             }
            },
            "type": "scatterpolargl"
           }
          ],
          "scatterternary": [
           {
            "marker": {
             "colorbar": {
              "outlinewidth": 0,
              "ticks": ""
             }
            },
            "type": "scatterternary"
           }
          ],
          "surface": [
           {
            "colorbar": {
             "outlinewidth": 0,
             "ticks": ""
            },
            "colorscale": [
             [
              0,
              "#0d0887"
             ],
             [
              0.1111111111111111,
              "#46039f"
             ],
             [
              0.2222222222222222,
              "#7201a8"
             ],
             [
              0.3333333333333333,
              "#9c179e"
             ],
             [
              0.4444444444444444,
              "#bd3786"
             ],
             [
              0.5555555555555556,
              "#d8576b"
             ],
             [
              0.6666666666666666,
              "#ed7953"
             ],
             [
              0.7777777777777778,
              "#fb9f3a"
             ],
             [
              0.8888888888888888,
              "#fdca26"
             ],
             [
              1,
              "#f0f921"
             ]
            ],
            "type": "surface"
           }
          ],
          "table": [
           {
            "cells": {
             "fill": {
              "color": "#EBF0F8"
             },
             "line": {
              "color": "white"
             }
            },
            "header": {
             "fill": {
              "color": "#C8D4E3"
             },
             "line": {
              "color": "white"
             }
            },
            "type": "table"
           }
          ]
         },
         "layout": {
          "annotationdefaults": {
           "arrowcolor": "#2a3f5f",
           "arrowhead": 0,
           "arrowwidth": 1
          },
          "coloraxis": {
           "colorbar": {
            "outlinewidth": 0,
            "ticks": ""
           }
          },
          "colorscale": {
           "diverging": [
            [
             0,
             "#8e0152"
            ],
            [
             0.1,
             "#c51b7d"
            ],
            [
             0.2,
             "#de77ae"
            ],
            [
             0.3,
             "#f1b6da"
            ],
            [
             0.4,
             "#fde0ef"
            ],
            [
             0.5,
             "#f7f7f7"
            ],
            [
             0.6,
             "#e6f5d0"
            ],
            [
             0.7,
             "#b8e186"
            ],
            [
             0.8,
             "#7fbc41"
            ],
            [
             0.9,
             "#4d9221"
            ],
            [
             1,
             "#276419"
            ]
           ],
           "sequential": [
            [
             0,
             "#0d0887"
            ],
            [
             0.1111111111111111,
             "#46039f"
            ],
            [
             0.2222222222222222,
             "#7201a8"
            ],
            [
             0.3333333333333333,
             "#9c179e"
            ],
            [
             0.4444444444444444,
             "#bd3786"
            ],
            [
             0.5555555555555556,
             "#d8576b"
            ],
            [
             0.6666666666666666,
             "#ed7953"
            ],
            [
             0.7777777777777778,
             "#fb9f3a"
            ],
            [
             0.8888888888888888,
             "#fdca26"
            ],
            [
             1,
             "#f0f921"
            ]
           ],
           "sequentialminus": [
            [
             0,
             "#0d0887"
            ],
            [
             0.1111111111111111,
             "#46039f"
            ],
            [
             0.2222222222222222,
             "#7201a8"
            ],
            [
             0.3333333333333333,
             "#9c179e"
            ],
            [
             0.4444444444444444,
             "#bd3786"
            ],
            [
             0.5555555555555556,
             "#d8576b"
            ],
            [
             0.6666666666666666,
             "#ed7953"
            ],
            [
             0.7777777777777778,
             "#fb9f3a"
            ],
            [
             0.8888888888888888,
             "#fdca26"
            ],
            [
             1,
             "#f0f921"
            ]
           ]
          },
          "colorway": [
           "#636efa",
           "#EF553B",
           "#00cc96",
           "#ab63fa",
           "#FFA15A",
           "#19d3f3",
           "#FF6692",
           "#B6E880",
           "#FF97FF",
           "#FECB52"
          ],
          "font": {
           "color": "#2a3f5f"
          },
          "geo": {
           "bgcolor": "white",
           "lakecolor": "white",
           "landcolor": "#E5ECF6",
           "showlakes": true,
           "showland": true,
           "subunitcolor": "white"
          },
          "hoverlabel": {
           "align": "left"
          },
          "hovermode": "closest",
          "mapbox": {
           "style": "light"
          },
          "paper_bgcolor": "white",
          "plot_bgcolor": "#E5ECF6",
          "polar": {
           "angularaxis": {
            "gridcolor": "white",
            "linecolor": "white",
            "ticks": ""
           },
           "bgcolor": "#E5ECF6",
           "radialaxis": {
            "gridcolor": "white",
            "linecolor": "white",
            "ticks": ""
           }
          },
          "scene": {
           "xaxis": {
            "backgroundcolor": "#E5ECF6",
            "gridcolor": "white",
            "gridwidth": 2,
            "linecolor": "white",
            "showbackground": true,
            "ticks": "",
            "zerolinecolor": "white"
           },
           "yaxis": {
            "backgroundcolor": "#E5ECF6",
            "gridcolor": "white",
            "gridwidth": 2,
            "linecolor": "white",
            "showbackground": true,
            "ticks": "",
            "zerolinecolor": "white"
           },
           "zaxis": {
            "backgroundcolor": "#E5ECF6",
            "gridcolor": "white",
            "gridwidth": 2,
            "linecolor": "white",
            "showbackground": true,
            "ticks": "",
            "zerolinecolor": "white"
           }
          },
          "shapedefaults": {
           "line": {
            "color": "#2a3f5f"
           }
          },
          "ternary": {
           "aaxis": {
            "gridcolor": "white",
            "linecolor": "white",
            "ticks": ""
           },
           "baxis": {
            "gridcolor": "white",
            "linecolor": "white",
            "ticks": ""
           },
           "bgcolor": "#E5ECF6",
           "caxis": {
            "gridcolor": "white",
            "linecolor": "white",
            "ticks": ""
           }
          },
          "title": {
           "x": 0.05
          },
          "xaxis": {
           "automargin": true,
           "gridcolor": "white",
           "linecolor": "white",
           "ticks": "",
           "title": {
            "standoff": 15
           },
           "zerolinecolor": "white",
           "zerolinewidth": 2
          },
          "yaxis": {
           "automargin": true,
           "gridcolor": "white",
           "linecolor": "white",
           "ticks": "",
           "title": {
            "standoff": 15
           },
           "zerolinecolor": "white",
           "zerolinewidth": 2
          }
         }
        },
        "xaxis": {
         "anchor": "y",
         "domain": [
          0,
          0.45
         ]
        },
        "xaxis2": {
         "anchor": "y2",
         "domain": [
          0.55,
          1
         ]
        },
        "xaxis3": {
         "anchor": "y3",
         "domain": [
          0,
          1
         ]
        },
        "yaxis": {
         "anchor": "x",
         "domain": [
          0.625,
          1
         ]
        },
        "yaxis2": {
         "anchor": "x2",
         "domain": [
          0.625,
          1
         ]
        },
        "yaxis3": {
         "anchor": "x3",
         "domain": [
          0,
          0.375
         ]
        }
       }
      },
      "text/html": [
       "<div>\n",
       "        \n",
       "        \n",
       "            <div id=\"f0792430-c1b5-4332-b6dd-5b57fb1f08d8\" class=\"plotly-graph-div\" style=\"height:525px; width:100%;\"></div>\n",
       "            <script type=\"text/javascript\">\n",
       "                require([\"plotly\"], function(Plotly) {\n",
       "                    window.PLOTLYENV=window.PLOTLYENV || {};\n",
       "                    \n",
       "                if (document.getElementById(\"f0792430-c1b5-4332-b6dd-5b57fb1f08d8\")) {\n",
       "                    Plotly.newPlot(\n",
       "                        'f0792430-c1b5-4332-b6dd-5b57fb1f08d8',\n",
       "                        [{\"marker\": {\"color\": \"blue\"}, \"name\": \"Training path\", \"type\": \"scatter\", \"x\": [-0.0, -0.2, -0.25, -0.27, -0.8, -1.25, -2.53, -2.69, -2.02, -0.82, 0.45, 1.77, 3.1, 4.4, 5.73, 7.06, 8.38, 9.71, 11.1, 12.4, 13.67, 14.95, 16.23, 17.53, 18.82, 20.1, 21.42, 22.73, 24.02, 25.29, 26.51, 27.5, 26.32, 24.94, 23.55, 22.16, 20.8, 19.45, 18.11, 16.76, 13.95, 12.54, 11.15, 9.76, 8.37, 7.0, 5.63, 4.26, 2.95, 1.56, 0.21, -1.12, -2.39, -3.48, -2.14, -0.74, 0.64, 2.04, 3.48, 4.91, 6.31, 7.7, 9.08, 10.48, 11.88, 13.27, 14.67, 16.05, 17.4, 18.75, 20.11, 21.46, 22.79, 24.13, 25.53, 26.82, 27.7, 26.38, 25.0, 23.58, 22.17, 20.72, 19.26, 17.81, 16.36, 14.92, 13.48, 12.07, 10.67, 9.23, 7.78, 6.34, 4.9, 3.45, 1.99, 0.58, -0.82, -2.2, -2.82, -2.96, -1.69, -1.06, -0.89, 0.11, 0.04, 0.07, -0.11, -0.0, -0.2, -0.25], \"xaxis\": \"x\", \"y\": [0.0, -0.01, 0.32, 1.14, 2.06, 3.3, 3.69, 3.96, 5.03, 5.55, 5.67, 5.71, 5.69, 5.71, 5.77, 5.81, 5.86, 5.99, 6.09, 6.24, 6.43, 6.53, 6.51, 6.47, 6.53, 6.61, 6.68, 6.82, 6.87, 6.93, 6.88, 6.95, 6.94, 6.85, 6.88, 6.8, 6.71, 6.6, 6.55, 6.5, 6.45, 6.37, 6.27, 6.24, 6.27, 6.25, 6.26, 6.25, 6.05, 6.0, 6.01, 5.93, 5.95, 5.72, 5.75, 5.87, 5.85, 5.85, 5.87, 5.95, 6.04, 6.08, 6.1, 6.15, 6.2, 6.23, 6.3, 6.33, 6.4, 6.37, 6.4, 6.28, 6.24, 6.18, 6.32, 6.42, 6.53, 6.52, 6.46, 6.47, 6.51, 6.42, 6.37, 6.33, 6.33, 6.35, 6.41, 6.51, 6.59, 6.5, 6.42, 6.38, 6.24, 6.24, 6.21, 6.21, 6.25, 6.15, 5.3, 4.41, 4.09, 3.29, 2.17, 1.76, 1.74, 1.82, 1.47, 0.0, -0.01, 0.32], \"yaxis\": \"y\"}, {\"marker\": {\"color\": \"red\"}, \"name\": \"Testing Score\", \"type\": \"scatter\", \"x\": [-2.03, -2.97, -2.74, -1.95, -0.67, 0.68, 1.99, 3.33, 4.64, 5.87, 6.6, 6.73, 6.71, 6.72, 6.72, 6.43, 6.1, 6.08, 6.25, 6.6, 6.96, 7.89, 9.19, 10.55, 11.88, 13.24, 14.58, 15.92, 17.27, 18.6, 19.93, 21.23, 22.58, 23.84, 25.0, 25.99, 24.81, 23.43, 22.07, 20.72, 19.32, 17.92, 16.51, 15.12, 13.73, 12.35, 11.01, 9.68, 8.32, 7.0, 5.66, 4.28, 2.95, 1.6, 0.25, -1.09, -2.34, -2.86, -3.31, -2.38, -1.33, -1.23, -1.4, -1.22, -1.0, -1.15, -1.18, -2.36, -3.41, -3.95, -3.95, -3.96, -3.8, -3.78, -3.79, -3.6, -3.16, -2.83, -2.55, -1.85, -0.62, 0.64, 1.98, 3.29, 4.56, 5.78, 6.59, 6.69, 6.45, 6.21, 5.98, 5.82, 6.04, 6.12, 6.21, 6.43, 6.82, 7.58, 8.79, 10.08, 11.46, 12.78, 14.11, 15.43, 16.73, 18.06, 19.38, 20.68, 21.93, 23.18, 24.45, 25.76, 26.75, 25.5, 24.17, 22.88, 21.52, 20.19, 18.82, 17.48, 16.09, 14.74, 13.36, 12.03, 10.68, 9.34, 7.97, 6.61, 5.24, 3.86, 2.46, 1.05, -0.34, -1.67, -2.61, -3.07, -2.29, -1.2, -1.3, -1.42, -1.24, -1.16, -0.99, -1.04, 0.0, -0.06, -0.76, -1.03, -0.98, -2.03], \"xaxis\": \"x2\", \"y\": [3.5, 3.72, 3.86, 4.77, 4.95, 5.02, 5.13, 5.04, 5.04, 4.81, 3.85, 2.58, 1.26, -0.05, -1.35, -2.22, -1.44, -0.17, 1.12, 2.38, 3.69, 4.59, 4.9, 4.88, 4.88, 4.84, 4.71, 4.72, 4.78, 4.8, 4.82, 4.74, 4.81, 4.95, 4.75, 4.83, 4.95, 5.06, 5.16, 5.21, 5.29, 5.22, 5.28, 5.35, 5.42, 5.44, 5.41, 5.44, 5.41, 5.4, 5.58, 5.62, 5.69, 5.77, 5.85, 5.93, 5.98, 5.17, 4.47, 3.73, 3.46, 2.26, 1.17, 0.43, 1.29, 2.34, 3.61, 4.25, 3.46, 2.34, 1.11, -0.07, -0.82, 0.45, 1.79, 3.05, 4.12, 4.4, 4.67, 5.71, 5.92, 5.64, 5.5, 5.36, 5.1, 4.63, 3.79, 2.55, 1.35, 0.12, -1.11, -2.24, -2.0, -0.79, 0.48, 1.73, 2.95, 3.99, 4.48, 4.39, 4.27, 4.08, 4.06, 4.01, 3.7, 3.61, 3.56, 3.35, 3.05, 2.76, 2.51, 2.45, 2.8, 2.84, 2.97, 3.2, 3.4, 3.59, 3.82, 4.0, 4.21, 4.4, 4.52, 4.75, 4.88, 5.03, 5.23, 5.3, 5.62, 5.95, 6.17, 6.44, 6.58, 6.81, 6.31, 5.35, 4.55, 4.21, 3.11, 2.08, 1.66, 1.81, 1.86, 2.05, -0.0, -0.0, 0.75, 1.7, 2.82, 3.5], \"yaxis\": \"y2\"}, {\"marker\": {\"color\": \"blue\"}, \"name\": \"Training Score\", \"type\": \"scatter\", \"x\": [0, 1, 2, 3, 4, 5, 6, 7, 8, 9, 10, 11, 12, 13, 14, 15, 16, 17, 18, 19, 20, 21, 22, 23, 24, 25, 26, 27, 28, 29, 30, 31, 32, 33, 34, 35, 36, 37, 38, 39, 40, 41, 42, 43, 44, 45, 46, 47, 48, 49, 50, 51, 52, 53, 54, 55, 56, 57, 58, 59, 60, 61, 62, 63, 64, 65, 66, 67, 68, 69, 70, 71, 72, 73, 74, 75, 76, 77, 78, 79, 80, 81, 82, 83, 84, 85], \"xaxis\": \"x3\", \"y\": [33.41331266837964, 34.2401239058454, 35.18037865471072, 26.492738704815523, 18.658269732833872, 19.02994678177247, 19.412348033645646, 19.496896298106336, 19.45354511298552, 19.425051288761285, 19.429277206843018, 19.297756959134382, 19.16135904907715, 19.04323155961053, 18.940583163261554, 18.875922985877136, 18.803157921315208, 18.708531983451508, 18.603214978670643, 18.523263312556807, 18.574509652698175, 18.630927504801658, 18.66909655172202, 19.06601928644548, 19.858105802853828, 28.419083982473477, 27.16026092214813, 25.47626490307238, 32.29721952758196, 38.24740508237174, 36.71027210840056, 35.350109407722705, 34.213476179411906, 33.34094779918132, 32.7632909992564, 32.518491484436055, 32.610517596097885, 32.97510502084426, 33.59899987949056, 34.45363139466806, 35.50184470771657, 36.70582072300904, 38.023546907996504, 39.40915479588911, 33.4868319966983, 34.83321767262705, 36.502367829518924, 37.96061176720185, 38.35488430069707, 29.818251541719157, 29.63914812823049, 29.921415988182066, 29.925065907150685, 29.797816445512453, 29.646046745862215, 29.588233968021402, 29.50561358962564, 29.406010637862895, 29.244446649682352, 29.096484749873728, 28.956307543211754, 28.823771688976482, 28.699805045119973, 28.595933504967384, 28.598492763167982, 28.58774126553333, 28.516210068425377, 28.233409230742375, 28.522557257184886, 36.48431831503406, 36.44058368496141, 35.704843057545425, 34.32032877434957, 33.63339812465797, 40.842347347082686, 40.62676626478642], \"yaxis\": \"y3\"}, {\"marker\": {\"color\": \"red\"}, \"name\": \"Testing Score\", \"type\": \"scatter\", \"x\": [0, 1, 2, 3, 4, 5, 6, 7, 8, 9, 10, 11, 12, 13, 14, 15, 16, 17, 18, 19, 20, 21, 22, 23, 24, 25, 26, 27, 28, 29, 30, 31, 32, 33, 34, 35, 36, 37, 38, 39, 40, 41, 42, 43, 44, 45, 46, 47, 48, 49, 50, 51, 52, 53, 54, 55, 56, 57, 58, 59, 60, 61, 62, 63, 64, 65, 66, 67, 68, 69, 70, 71, 72, 73, 74, 75, 76, 77, 78, 79, 80, 81, 82, 83, 84, 85, 86, 87, 88, 89, 90, 91, 92, 93, 94, 95, 96, 97, 98, 99, 100, 101, 102, 103, 104, 105, 106, 107, 108, 109, 110, 111, 112, 113, 114, 115, 116, 117, 118, 119, 120, 121, 122, 123, 124, 125], \"xaxis\": \"x3\", \"y\": [18.31973601461978, 17.61390283791465, 16.968640658288162, 16.68385835174027, 16.88111910659529, 17.818681246136325, 19.3696869525914, 21.452214378037464, 16.168030262823578, 11.878127390236996, 14.268614409104053, 17.362773471013153, 20.183029405537784, 22.681128509647518, 19.383447520501267, 17.674499040180716, 18.181664148395495, 17.858256759845233, 17.573780707014386, 17.254774465037684, 16.91492566502482, 16.485130784011755, 15.942025438722125, 15.238032411288323, 14.425570472233835, 13.554075457639915, 12.802855481709267, 12.053193216926564, 11.381738200491856, 10.726236297909542, 9.872766879389227, 8.817701241709086, 7.6576162844322395, 14.374873638092318, 22.093954899345754, 20.290724711305163, 18.030445677360923, 16.07559737853466, 14.734498603871437, 20.571421353829514, 25.973707571905585, 25.373282849154972, 29.85211534224175, 29.9721253955044, 30.481357734511935, 31.217278945184585, 32.08185377985348, 33.03374321498228, 34.004931808512225, 34.88571540851961, 35.67289701156597, 36.43211320508265, 37.09603329595147, 37.670318702476166, 38.15697541781131, 38.54977832772196, 38.81734808636333, 38.974075898909746, 39.01782508929751, 38.94289968116962, 38.773506418232145, 38.526113482090814, 38.19702563334521, 37.72221965069781, 37.094034376650406, 36.35349951169085, 35.44599860445212, 34.4958955351637, 33.11185984632145, 31.434738290979865, 29.552531861079242, 27.516669218058013, 25.34784053119952, 23.21270817223284, 21.315703740773262, 19.656818365799495, 18.28600373367059, 17.241422868375004, 12.178386874087192, 11.746911262124858, 11.856701472875738, 12.649429432195337, 14.030617797762128, 8.390720783665554, 10.85576270380803, 14.028115360420825, 8.811999761608423, 12.246761277171995, 8.044942508700679, 10.34505093755938, 8.162620599218645, 8.68457799106554, 9.93297761217973, 11.239266273418382, 9.469225537091386, 9.963302466413262, 9.099195308160263, 10.651412614709672, 9.627031515093641, 8.47890725091355, 7.261488746523303, 5.865295556989581, 4.615535079800554, 7.174305213751224, 5.739944612694115, 4.245495580111209, 2.651879575393481, 1.2418620078497682, 7.43503782171327, 6.1745233194182285, 5.225077126326334, 12.525569503444688, 10.648338442651482, 17.61450359415677, 15.768497275552493, 22.20298526232809, 21.016623678691268, 20.20037163303935, 19.78788594683019, 23.1969910619119, 26.493721963495403, 26.428373136577715, 29.108567708633878, 29.460692247653363, 29.888160574558466, 30.44619037740586], \"yaxis\": \"y3\"}],\n",
       "                        {\"annotations\": [{\"font\": {\"size\": 16}, \"showarrow\": false, \"text\": \"Training plot\", \"x\": 0.225, \"xanchor\": \"center\", \"xref\": \"paper\", \"y\": 1.0, \"yanchor\": \"bottom\", \"yref\": \"paper\"}, {\"font\": {\"size\": 16}, \"showarrow\": false, \"text\": \"Testing plot\", \"x\": 0.775, \"xanchor\": \"center\", \"xref\": \"paper\", \"y\": 1.0, \"yanchor\": \"bottom\", \"yref\": \"paper\"}, {\"font\": {\"size\": 16}, \"showarrow\": false, \"text\": \"Anomaly score by Multidimensional scaling\", \"x\": 0.5, \"xanchor\": \"center\", \"xref\": \"paper\", \"y\": 0.375, \"yanchor\": \"bottom\", \"yref\": \"paper\"}], \"showlegend\": false, \"template\": {\"data\": {\"bar\": [{\"error_x\": {\"color\": \"#2a3f5f\"}, \"error_y\": {\"color\": \"#2a3f5f\"}, \"marker\": {\"line\": {\"color\": \"#E5ECF6\", \"width\": 0.5}}, \"type\": \"bar\"}], \"barpolar\": [{\"marker\": {\"line\": {\"color\": \"#E5ECF6\", \"width\": 0.5}}, \"type\": \"barpolar\"}], \"carpet\": [{\"aaxis\": {\"endlinecolor\": \"#2a3f5f\", \"gridcolor\": \"white\", \"linecolor\": \"white\", \"minorgridcolor\": \"white\", \"startlinecolor\": \"#2a3f5f\"}, \"baxis\": {\"endlinecolor\": \"#2a3f5f\", \"gridcolor\": \"white\", \"linecolor\": \"white\", \"minorgridcolor\": \"white\", \"startlinecolor\": \"#2a3f5f\"}, \"type\": \"carpet\"}], \"choropleth\": [{\"colorbar\": {\"outlinewidth\": 0, \"ticks\": \"\"}, \"type\": \"choropleth\"}], \"contour\": [{\"colorbar\": {\"outlinewidth\": 0, \"ticks\": \"\"}, \"colorscale\": [[0.0, \"#0d0887\"], [0.1111111111111111, \"#46039f\"], [0.2222222222222222, \"#7201a8\"], [0.3333333333333333, \"#9c179e\"], [0.4444444444444444, \"#bd3786\"], [0.5555555555555556, \"#d8576b\"], [0.6666666666666666, \"#ed7953\"], [0.7777777777777778, \"#fb9f3a\"], [0.8888888888888888, \"#fdca26\"], [1.0, \"#f0f921\"]], \"type\": \"contour\"}], \"contourcarpet\": [{\"colorbar\": {\"outlinewidth\": 0, \"ticks\": \"\"}, \"type\": \"contourcarpet\"}], \"heatmap\": [{\"colorbar\": {\"outlinewidth\": 0, \"ticks\": \"\"}, \"colorscale\": [[0.0, \"#0d0887\"], [0.1111111111111111, \"#46039f\"], [0.2222222222222222, \"#7201a8\"], [0.3333333333333333, \"#9c179e\"], [0.4444444444444444, \"#bd3786\"], [0.5555555555555556, \"#d8576b\"], [0.6666666666666666, \"#ed7953\"], [0.7777777777777778, \"#fb9f3a\"], [0.8888888888888888, \"#fdca26\"], [1.0, \"#f0f921\"]], \"type\": \"heatmap\"}], \"heatmapgl\": [{\"colorbar\": {\"outlinewidth\": 0, \"ticks\": \"\"}, \"colorscale\": [[0.0, \"#0d0887\"], [0.1111111111111111, \"#46039f\"], [0.2222222222222222, \"#7201a8\"], [0.3333333333333333, \"#9c179e\"], [0.4444444444444444, \"#bd3786\"], [0.5555555555555556, \"#d8576b\"], [0.6666666666666666, \"#ed7953\"], [0.7777777777777778, \"#fb9f3a\"], [0.8888888888888888, \"#fdca26\"], [1.0, \"#f0f921\"]], \"type\": \"heatmapgl\"}], \"histogram\": [{\"marker\": {\"colorbar\": {\"outlinewidth\": 0, \"ticks\": \"\"}}, \"type\": \"histogram\"}], \"histogram2d\": [{\"colorbar\": {\"outlinewidth\": 0, \"ticks\": \"\"}, \"colorscale\": [[0.0, \"#0d0887\"], [0.1111111111111111, \"#46039f\"], [0.2222222222222222, \"#7201a8\"], [0.3333333333333333, \"#9c179e\"], [0.4444444444444444, \"#bd3786\"], [0.5555555555555556, \"#d8576b\"], [0.6666666666666666, \"#ed7953\"], [0.7777777777777778, \"#fb9f3a\"], [0.8888888888888888, \"#fdca26\"], [1.0, \"#f0f921\"]], \"type\": \"histogram2d\"}], \"histogram2dcontour\": [{\"colorbar\": {\"outlinewidth\": 0, \"ticks\": \"\"}, \"colorscale\": [[0.0, \"#0d0887\"], [0.1111111111111111, \"#46039f\"], [0.2222222222222222, \"#7201a8\"], [0.3333333333333333, \"#9c179e\"], [0.4444444444444444, \"#bd3786\"], [0.5555555555555556, \"#d8576b\"], [0.6666666666666666, \"#ed7953\"], [0.7777777777777778, \"#fb9f3a\"], [0.8888888888888888, \"#fdca26\"], [1.0, \"#f0f921\"]], \"type\": \"histogram2dcontour\"}], \"mesh3d\": [{\"colorbar\": {\"outlinewidth\": 0, \"ticks\": \"\"}, \"type\": \"mesh3d\"}], \"parcoords\": [{\"line\": {\"colorbar\": {\"outlinewidth\": 0, \"ticks\": \"\"}}, \"type\": \"parcoords\"}], \"pie\": [{\"automargin\": true, \"type\": \"pie\"}], \"scatter\": [{\"marker\": {\"colorbar\": {\"outlinewidth\": 0, \"ticks\": \"\"}}, \"type\": \"scatter\"}], \"scatter3d\": [{\"line\": {\"colorbar\": {\"outlinewidth\": 0, \"ticks\": \"\"}}, \"marker\": {\"colorbar\": {\"outlinewidth\": 0, \"ticks\": \"\"}}, \"type\": \"scatter3d\"}], \"scattercarpet\": [{\"marker\": {\"colorbar\": {\"outlinewidth\": 0, \"ticks\": \"\"}}, \"type\": \"scattercarpet\"}], \"scattergeo\": [{\"marker\": {\"colorbar\": {\"outlinewidth\": 0, \"ticks\": \"\"}}, \"type\": \"scattergeo\"}], \"scattergl\": [{\"marker\": {\"colorbar\": {\"outlinewidth\": 0, \"ticks\": \"\"}}, \"type\": \"scattergl\"}], \"scattermapbox\": [{\"marker\": {\"colorbar\": {\"outlinewidth\": 0, \"ticks\": \"\"}}, \"type\": \"scattermapbox\"}], \"scatterpolar\": [{\"marker\": {\"colorbar\": {\"outlinewidth\": 0, \"ticks\": \"\"}}, \"type\": \"scatterpolar\"}], \"scatterpolargl\": [{\"marker\": {\"colorbar\": {\"outlinewidth\": 0, \"ticks\": \"\"}}, \"type\": \"scatterpolargl\"}], \"scatterternary\": [{\"marker\": {\"colorbar\": {\"outlinewidth\": 0, \"ticks\": \"\"}}, \"type\": \"scatterternary\"}], \"surface\": [{\"colorbar\": {\"outlinewidth\": 0, \"ticks\": \"\"}, \"colorscale\": [[0.0, \"#0d0887\"], [0.1111111111111111, \"#46039f\"], [0.2222222222222222, \"#7201a8\"], [0.3333333333333333, \"#9c179e\"], [0.4444444444444444, \"#bd3786\"], [0.5555555555555556, \"#d8576b\"], [0.6666666666666666, \"#ed7953\"], [0.7777777777777778, \"#fb9f3a\"], [0.8888888888888888, \"#fdca26\"], [1.0, \"#f0f921\"]], \"type\": \"surface\"}], \"table\": [{\"cells\": {\"fill\": {\"color\": \"#EBF0F8\"}, \"line\": {\"color\": \"white\"}}, \"header\": {\"fill\": {\"color\": \"#C8D4E3\"}, \"line\": {\"color\": \"white\"}}, \"type\": \"table\"}]}, \"layout\": {\"annotationdefaults\": {\"arrowcolor\": \"#2a3f5f\", \"arrowhead\": 0, \"arrowwidth\": 1}, \"coloraxis\": {\"colorbar\": {\"outlinewidth\": 0, \"ticks\": \"\"}}, \"colorscale\": {\"diverging\": [[0, \"#8e0152\"], [0.1, \"#c51b7d\"], [0.2, \"#de77ae\"], [0.3, \"#f1b6da\"], [0.4, \"#fde0ef\"], [0.5, \"#f7f7f7\"], [0.6, \"#e6f5d0\"], [0.7, \"#b8e186\"], [0.8, \"#7fbc41\"], [0.9, \"#4d9221\"], [1, \"#276419\"]], \"sequential\": [[0.0, \"#0d0887\"], [0.1111111111111111, \"#46039f\"], [0.2222222222222222, \"#7201a8\"], [0.3333333333333333, \"#9c179e\"], [0.4444444444444444, \"#bd3786\"], [0.5555555555555556, \"#d8576b\"], [0.6666666666666666, \"#ed7953\"], [0.7777777777777778, \"#fb9f3a\"], [0.8888888888888888, \"#fdca26\"], [1.0, \"#f0f921\"]], \"sequentialminus\": [[0.0, \"#0d0887\"], [0.1111111111111111, \"#46039f\"], [0.2222222222222222, \"#7201a8\"], [0.3333333333333333, \"#9c179e\"], [0.4444444444444444, \"#bd3786\"], [0.5555555555555556, \"#d8576b\"], [0.6666666666666666, \"#ed7953\"], [0.7777777777777778, \"#fb9f3a\"], [0.8888888888888888, \"#fdca26\"], [1.0, \"#f0f921\"]]}, \"colorway\": [\"#636efa\", \"#EF553B\", \"#00cc96\", \"#ab63fa\", \"#FFA15A\", \"#19d3f3\", \"#FF6692\", \"#B6E880\", \"#FF97FF\", \"#FECB52\"], \"font\": {\"color\": \"#2a3f5f\"}, \"geo\": {\"bgcolor\": \"white\", \"lakecolor\": \"white\", \"landcolor\": \"#E5ECF6\", \"showlakes\": true, \"showland\": true, \"subunitcolor\": \"white\"}, \"hoverlabel\": {\"align\": \"left\"}, \"hovermode\": \"closest\", \"mapbox\": {\"style\": \"light\"}, \"paper_bgcolor\": \"white\", \"plot_bgcolor\": \"#E5ECF6\", \"polar\": {\"angularaxis\": {\"gridcolor\": \"white\", \"linecolor\": \"white\", \"ticks\": \"\"}, \"bgcolor\": \"#E5ECF6\", \"radialaxis\": {\"gridcolor\": \"white\", \"linecolor\": \"white\", \"ticks\": \"\"}}, \"scene\": {\"xaxis\": {\"backgroundcolor\": \"#E5ECF6\", \"gridcolor\": \"white\", \"gridwidth\": 2, \"linecolor\": \"white\", \"showbackground\": true, \"ticks\": \"\", \"zerolinecolor\": \"white\"}, \"yaxis\": {\"backgroundcolor\": \"#E5ECF6\", \"gridcolor\": \"white\", \"gridwidth\": 2, \"linecolor\": \"white\", \"showbackground\": true, \"ticks\": \"\", \"zerolinecolor\": \"white\"}, \"zaxis\": {\"backgroundcolor\": \"#E5ECF6\", \"gridcolor\": \"white\", \"gridwidth\": 2, \"linecolor\": \"white\", \"showbackground\": true, \"ticks\": \"\", \"zerolinecolor\": \"white\"}}, \"shapedefaults\": {\"line\": {\"color\": \"#2a3f5f\"}}, \"ternary\": {\"aaxis\": {\"gridcolor\": \"white\", \"linecolor\": \"white\", \"ticks\": \"\"}, \"baxis\": {\"gridcolor\": \"white\", \"linecolor\": \"white\", \"ticks\": \"\"}, \"bgcolor\": \"#E5ECF6\", \"caxis\": {\"gridcolor\": \"white\", \"linecolor\": \"white\", \"ticks\": \"\"}}, \"title\": {\"x\": 0.05}, \"xaxis\": {\"automargin\": true, \"gridcolor\": \"white\", \"linecolor\": \"white\", \"ticks\": \"\", \"title\": {\"standoff\": 15}, \"zerolinecolor\": \"white\", \"zerolinewidth\": 2}, \"yaxis\": {\"automargin\": true, \"gridcolor\": \"white\", \"linecolor\": \"white\", \"ticks\": \"\", \"title\": {\"standoff\": 15}, \"zerolinecolor\": \"white\", \"zerolinewidth\": 2}}}, \"xaxis\": {\"anchor\": \"y\", \"domain\": [0.0, 0.45]}, \"xaxis2\": {\"anchor\": \"y2\", \"domain\": [0.55, 1.0]}, \"xaxis3\": {\"anchor\": \"y3\", \"domain\": [0.0, 1.0]}, \"yaxis\": {\"anchor\": \"x\", \"domain\": [0.625, 1.0]}, \"yaxis2\": {\"anchor\": \"x2\", \"domain\": [0.625, 1.0]}, \"yaxis3\": {\"anchor\": \"x3\", \"domain\": [0.0, 0.375]}},\n",
       "                        {\"responsive\": true}\n",
       "                    ).then(function(){\n",
       "                            \n",
       "var gd = document.getElementById('f0792430-c1b5-4332-b6dd-5b57fb1f08d8');\n",
       "var x = new MutationObserver(function (mutations, observer) {{\n",
       "        var display = window.getComputedStyle(gd).display;\n",
       "        if (!display || display === 'none') {{\n",
       "            console.log([gd, 'removed!']);\n",
       "            Plotly.purge(gd);\n",
       "            observer.disconnect();\n",
       "        }}\n",
       "}});\n",
       "\n",
       "// Listen for the removal of the full notebook cells\n",
       "var notebookContainer = gd.closest('#notebook-container');\n",
       "if (notebookContainer) {{\n",
       "    x.observe(notebookContainer, {childList: true});\n",
       "}}\n",
       "\n",
       "// Listen for the clearing of the current output cell\n",
       "var outputEl = gd.closest('.output');\n",
       "if (outputEl) {{\n",
       "    x.observe(outputEl, {childList: true});\n",
       "}}\n",
       "\n",
       "                        })\n",
       "                };\n",
       "                });\n",
       "            </script>\n",
       "        </div>"
      ]
     },
     "metadata": {},
     "output_type": "display_data"
    }
   ],
   "source": [
    "fig = make_subplots(rows=2, cols=2,specs=[[{}, {}], [{\"colspan\": 2}, None]],\n",
    "    subplot_titles=(\"Training plot\",\"Testing plot\", \"Anomaly score by Multidimensional scaling\"))\n",
    "fig.add_trace(go.Scatter(x=df[1], y=df[2], marker_color='blue',\n",
    "                        name=\"Training path\"),row=1, col=1)\n",
    "fig.add_trace(go.Scatter(x=df_test[1], y=df_test[2], marker_color='red',\n",
    "                        name=\"Testing Score\"),row=1, col=2)\n",
    "fig.add_trace(go.Scatter(x=list(range(len(dt_scores))), y=dt_scores[5:-5], marker_color='blue',\n",
    "                         name=\"Training Score\"), row=2, col=1)\n",
    "fig.add_trace(go.Scatter(x=list(range(len(dj_scores))), y=dj_scores, marker_color='red',\n",
    "                        name=\"Testing Score\"), row=2, col=1)\n",
    "fig.update_layout(showlegend=False)\n"
   ]
  },
  {
   "cell_type": "code",
   "execution_count": null,
   "metadata": {},
   "outputs": [],
   "source": []
  },
  {
   "cell_type": "markdown",
   "metadata": {},
   "source": [
    "## Spectral Embedding\n",
    "Spectral Embedding is an approach to calculating a non-linear embedding. Scikit-learn implements Laplacian Eigenmaps, which finds a low dimensional representation of the data using a spectral decomposition of the graph Laplacian. The graph generated can be considered as a discrete approximation of the low dimensional manifold in the high dimensional space. Minimization of a cost function based on the graph ensures that points close to each other on the manifold are mapped close to each other in the low dimensional space, preserving local distances. Spectral embedding can be performed with the function spectral_embedding or its object-oriented counterpart SpectralEmbedding."
   ]
  },
  {
   "cell_type": "code",
   "execution_count": 50,
   "metadata": {},
   "outputs": [
    {
     "data": {
      "text/plain": [
       "odict_keys(['LLE', 'LTSA', 'Hessian LLE', 'Modified LLE', 'Isomap', 'MDS', 'SE', 't-SNE'])"
      ]
     },
     "execution_count": 50,
     "metadata": {},
     "output_type": "execute_result"
    }
   ],
   "source": [
    "methods.keys()"
   ]
  },
  {
   "cell_type": "code",
   "execution_count": 57,
   "metadata": {
    "scrolled": false
   },
   "outputs": [
    {
     "data": {
      "application/vnd.plotly.v1+json": {
       "config": {
        "plotlyServerURL": "https://plot.ly"
       },
       "data": [
        {
         "type": "scatter",
         "x": [
          0,
          1,
          2,
          3,
          4,
          5,
          6,
          7,
          8,
          9
         ],
         "y": [
          1.5514164684575862,
          0.8844004056638797,
          0.2130933626377272,
          0.020560475296278868,
          0.01261491035076935,
          0.009309959117343397,
          0.0014745011113878903,
          0.0007320331249634846,
          0.0006318690563417085,
          0.00037401821724361556
         ]
        }
       ],
       "layout": {
        "template": {
         "data": {
          "bar": [
           {
            "error_x": {
             "color": "#2a3f5f"
            },
            "error_y": {
             "color": "#2a3f5f"
            },
            "marker": {
             "line": {
              "color": "#E5ECF6",
              "width": 0.5
             }
            },
            "type": "bar"
           }
          ],
          "barpolar": [
           {
            "marker": {
             "line": {
              "color": "#E5ECF6",
              "width": 0.5
             }
            },
            "type": "barpolar"
           }
          ],
          "carpet": [
           {
            "aaxis": {
             "endlinecolor": "#2a3f5f",
             "gridcolor": "white",
             "linecolor": "white",
             "minorgridcolor": "white",
             "startlinecolor": "#2a3f5f"
            },
            "baxis": {
             "endlinecolor": "#2a3f5f",
             "gridcolor": "white",
             "linecolor": "white",
             "minorgridcolor": "white",
             "startlinecolor": "#2a3f5f"
            },
            "type": "carpet"
           }
          ],
          "choropleth": [
           {
            "colorbar": {
             "outlinewidth": 0,
             "ticks": ""
            },
            "type": "choropleth"
           }
          ],
          "contour": [
           {
            "colorbar": {
             "outlinewidth": 0,
             "ticks": ""
            },
            "colorscale": [
             [
              0,
              "#0d0887"
             ],
             [
              0.1111111111111111,
              "#46039f"
             ],
             [
              0.2222222222222222,
              "#7201a8"
             ],
             [
              0.3333333333333333,
              "#9c179e"
             ],
             [
              0.4444444444444444,
              "#bd3786"
             ],
             [
              0.5555555555555556,
              "#d8576b"
             ],
             [
              0.6666666666666666,
              "#ed7953"
             ],
             [
              0.7777777777777778,
              "#fb9f3a"
             ],
             [
              0.8888888888888888,
              "#fdca26"
             ],
             [
              1,
              "#f0f921"
             ]
            ],
            "type": "contour"
           }
          ],
          "contourcarpet": [
           {
            "colorbar": {
             "outlinewidth": 0,
             "ticks": ""
            },
            "type": "contourcarpet"
           }
          ],
          "heatmap": [
           {
            "colorbar": {
             "outlinewidth": 0,
             "ticks": ""
            },
            "colorscale": [
             [
              0,
              "#0d0887"
             ],
             [
              0.1111111111111111,
              "#46039f"
             ],
             [
              0.2222222222222222,
              "#7201a8"
             ],
             [
              0.3333333333333333,
              "#9c179e"
             ],
             [
              0.4444444444444444,
              "#bd3786"
             ],
             [
              0.5555555555555556,
              "#d8576b"
             ],
             [
              0.6666666666666666,
              "#ed7953"
             ],
             [
              0.7777777777777778,
              "#fb9f3a"
             ],
             [
              0.8888888888888888,
              "#fdca26"
             ],
             [
              1,
              "#f0f921"
             ]
            ],
            "type": "heatmap"
           }
          ],
          "heatmapgl": [
           {
            "colorbar": {
             "outlinewidth": 0,
             "ticks": ""
            },
            "colorscale": [
             [
              0,
              "#0d0887"
             ],
             [
              0.1111111111111111,
              "#46039f"
             ],
             [
              0.2222222222222222,
              "#7201a8"
             ],
             [
              0.3333333333333333,
              "#9c179e"
             ],
             [
              0.4444444444444444,
              "#bd3786"
             ],
             [
              0.5555555555555556,
              "#d8576b"
             ],
             [
              0.6666666666666666,
              "#ed7953"
             ],
             [
              0.7777777777777778,
              "#fb9f3a"
             ],
             [
              0.8888888888888888,
              "#fdca26"
             ],
             [
              1,
              "#f0f921"
             ]
            ],
            "type": "heatmapgl"
           }
          ],
          "histogram": [
           {
            "marker": {
             "colorbar": {
              "outlinewidth": 0,
              "ticks": ""
             }
            },
            "type": "histogram"
           }
          ],
          "histogram2d": [
           {
            "colorbar": {
             "outlinewidth": 0,
             "ticks": ""
            },
            "colorscale": [
             [
              0,
              "#0d0887"
             ],
             [
              0.1111111111111111,
              "#46039f"
             ],
             [
              0.2222222222222222,
              "#7201a8"
             ],
             [
              0.3333333333333333,
              "#9c179e"
             ],
             [
              0.4444444444444444,
              "#bd3786"
             ],
             [
              0.5555555555555556,
              "#d8576b"
             ],
             [
              0.6666666666666666,
              "#ed7953"
             ],
             [
              0.7777777777777778,
              "#fb9f3a"
             ],
             [
              0.8888888888888888,
              "#fdca26"
             ],
             [
              1,
              "#f0f921"
             ]
            ],
            "type": "histogram2d"
           }
          ],
          "histogram2dcontour": [
           {
            "colorbar": {
             "outlinewidth": 0,
             "ticks": ""
            },
            "colorscale": [
             [
              0,
              "#0d0887"
             ],
             [
              0.1111111111111111,
              "#46039f"
             ],
             [
              0.2222222222222222,
              "#7201a8"
             ],
             [
              0.3333333333333333,
              "#9c179e"
             ],
             [
              0.4444444444444444,
              "#bd3786"
             ],
             [
              0.5555555555555556,
              "#d8576b"
             ],
             [
              0.6666666666666666,
              "#ed7953"
             ],
             [
              0.7777777777777778,
              "#fb9f3a"
             ],
             [
              0.8888888888888888,
              "#fdca26"
             ],
             [
              1,
              "#f0f921"
             ]
            ],
            "type": "histogram2dcontour"
           }
          ],
          "mesh3d": [
           {
            "colorbar": {
             "outlinewidth": 0,
             "ticks": ""
            },
            "type": "mesh3d"
           }
          ],
          "parcoords": [
           {
            "line": {
             "colorbar": {
              "outlinewidth": 0,
              "ticks": ""
             }
            },
            "type": "parcoords"
           }
          ],
          "pie": [
           {
            "automargin": true,
            "type": "pie"
           }
          ],
          "scatter": [
           {
            "marker": {
             "colorbar": {
              "outlinewidth": 0,
              "ticks": ""
             }
            },
            "type": "scatter"
           }
          ],
          "scatter3d": [
           {
            "line": {
             "colorbar": {
              "outlinewidth": 0,
              "ticks": ""
             }
            },
            "marker": {
             "colorbar": {
              "outlinewidth": 0,
              "ticks": ""
             }
            },
            "type": "scatter3d"
           }
          ],
          "scattercarpet": [
           {
            "marker": {
             "colorbar": {
              "outlinewidth": 0,
              "ticks": ""
             }
            },
            "type": "scattercarpet"
           }
          ],
          "scattergeo": [
           {
            "marker": {
             "colorbar": {
              "outlinewidth": 0,
              "ticks": ""
             }
            },
            "type": "scattergeo"
           }
          ],
          "scattergl": [
           {
            "marker": {
             "colorbar": {
              "outlinewidth": 0,
              "ticks": ""
             }
            },
            "type": "scattergl"
           }
          ],
          "scattermapbox": [
           {
            "marker": {
             "colorbar": {
              "outlinewidth": 0,
              "ticks": ""
             }
            },
            "type": "scattermapbox"
           }
          ],
          "scatterpolar": [
           {
            "marker": {
             "colorbar": {
              "outlinewidth": 0,
              "ticks": ""
             }
            },
            "type": "scatterpolar"
           }
          ],
          "scatterpolargl": [
           {
            "marker": {
             "colorbar": {
              "outlinewidth": 0,
              "ticks": ""
             }
            },
            "type": "scatterpolargl"
           }
          ],
          "scatterternary": [
           {
            "marker": {
             "colorbar": {
              "outlinewidth": 0,
              "ticks": ""
             }
            },
            "type": "scatterternary"
           }
          ],
          "surface": [
           {
            "colorbar": {
             "outlinewidth": 0,
             "ticks": ""
            },
            "colorscale": [
             [
              0,
              "#0d0887"
             ],
             [
              0.1111111111111111,
              "#46039f"
             ],
             [
              0.2222222222222222,
              "#7201a8"
             ],
             [
              0.3333333333333333,
              "#9c179e"
             ],
             [
              0.4444444444444444,
              "#bd3786"
             ],
             [
              0.5555555555555556,
              "#d8576b"
             ],
             [
              0.6666666666666666,
              "#ed7953"
             ],
             [
              0.7777777777777778,
              "#fb9f3a"
             ],
             [
              0.8888888888888888,
              "#fdca26"
             ],
             [
              1,
              "#f0f921"
             ]
            ],
            "type": "surface"
           }
          ],
          "table": [
           {
            "cells": {
             "fill": {
              "color": "#EBF0F8"
             },
             "line": {
              "color": "white"
             }
            },
            "header": {
             "fill": {
              "color": "#C8D4E3"
             },
             "line": {
              "color": "white"
             }
            },
            "type": "table"
           }
          ]
         },
         "layout": {
          "annotationdefaults": {
           "arrowcolor": "#2a3f5f",
           "arrowhead": 0,
           "arrowwidth": 1
          },
          "coloraxis": {
           "colorbar": {
            "outlinewidth": 0,
            "ticks": ""
           }
          },
          "colorscale": {
           "diverging": [
            [
             0,
             "#8e0152"
            ],
            [
             0.1,
             "#c51b7d"
            ],
            [
             0.2,
             "#de77ae"
            ],
            [
             0.3,
             "#f1b6da"
            ],
            [
             0.4,
             "#fde0ef"
            ],
            [
             0.5,
             "#f7f7f7"
            ],
            [
             0.6,
             "#e6f5d0"
            ],
            [
             0.7,
             "#b8e186"
            ],
            [
             0.8,
             "#7fbc41"
            ],
            [
             0.9,
             "#4d9221"
            ],
            [
             1,
             "#276419"
            ]
           ],
           "sequential": [
            [
             0,
             "#0d0887"
            ],
            [
             0.1111111111111111,
             "#46039f"
            ],
            [
             0.2222222222222222,
             "#7201a8"
            ],
            [
             0.3333333333333333,
             "#9c179e"
            ],
            [
             0.4444444444444444,
             "#bd3786"
            ],
            [
             0.5555555555555556,
             "#d8576b"
            ],
            [
             0.6666666666666666,
             "#ed7953"
            ],
            [
             0.7777777777777778,
             "#fb9f3a"
            ],
            [
             0.8888888888888888,
             "#fdca26"
            ],
            [
             1,
             "#f0f921"
            ]
           ],
           "sequentialminus": [
            [
             0,
             "#0d0887"
            ],
            [
             0.1111111111111111,
             "#46039f"
            ],
            [
             0.2222222222222222,
             "#7201a8"
            ],
            [
             0.3333333333333333,
             "#9c179e"
            ],
            [
             0.4444444444444444,
             "#bd3786"
            ],
            [
             0.5555555555555556,
             "#d8576b"
            ],
            [
             0.6666666666666666,
             "#ed7953"
            ],
            [
             0.7777777777777778,
             "#fb9f3a"
            ],
            [
             0.8888888888888888,
             "#fdca26"
            ],
            [
             1,
             "#f0f921"
            ]
           ]
          },
          "colorway": [
           "#636efa",
           "#EF553B",
           "#00cc96",
           "#ab63fa",
           "#FFA15A",
           "#19d3f3",
           "#FF6692",
           "#B6E880",
           "#FF97FF",
           "#FECB52"
          ],
          "font": {
           "color": "#2a3f5f"
          },
          "geo": {
           "bgcolor": "white",
           "lakecolor": "white",
           "landcolor": "#E5ECF6",
           "showlakes": true,
           "showland": true,
           "subunitcolor": "white"
          },
          "hoverlabel": {
           "align": "left"
          },
          "hovermode": "closest",
          "mapbox": {
           "style": "light"
          },
          "paper_bgcolor": "white",
          "plot_bgcolor": "#E5ECF6",
          "polar": {
           "angularaxis": {
            "gridcolor": "white",
            "linecolor": "white",
            "ticks": ""
           },
           "bgcolor": "#E5ECF6",
           "radialaxis": {
            "gridcolor": "white",
            "linecolor": "white",
            "ticks": ""
           }
          },
          "scene": {
           "xaxis": {
            "backgroundcolor": "#E5ECF6",
            "gridcolor": "white",
            "gridwidth": 2,
            "linecolor": "white",
            "showbackground": true,
            "ticks": "",
            "zerolinecolor": "white"
           },
           "yaxis": {
            "backgroundcolor": "#E5ECF6",
            "gridcolor": "white",
            "gridwidth": 2,
            "linecolor": "white",
            "showbackground": true,
            "ticks": "",
            "zerolinecolor": "white"
           },
           "zaxis": {
            "backgroundcolor": "#E5ECF6",
            "gridcolor": "white",
            "gridwidth": 2,
            "linecolor": "white",
            "showbackground": true,
            "ticks": "",
            "zerolinecolor": "white"
           }
          },
          "shapedefaults": {
           "line": {
            "color": "#2a3f5f"
           }
          },
          "ternary": {
           "aaxis": {
            "gridcolor": "white",
            "linecolor": "white",
            "ticks": ""
           },
           "baxis": {
            "gridcolor": "white",
            "linecolor": "white",
            "ticks": ""
           },
           "bgcolor": "#E5ECF6",
           "caxis": {
            "gridcolor": "white",
            "linecolor": "white",
            "ticks": ""
           }
          },
          "title": {
           "x": 0.05
          },
          "xaxis": {
           "automargin": true,
           "gridcolor": "white",
           "linecolor": "white",
           "ticks": "",
           "title": {
            "standoff": 15
           },
           "zerolinecolor": "white",
           "zerolinewidth": 2
          },
          "yaxis": {
           "automargin": true,
           "gridcolor": "white",
           "linecolor": "white",
           "ticks": "",
           "title": {
            "standoff": 15
           },
           "zerolinecolor": "white",
           "zerolinewidth": 2
          }
         }
        },
        "title": {
         "text": "ScreePlot",
         "x": 0.5
        },
        "xaxis": {
         "title": {
          "text": "No of eigen values"
         }
        },
        "yaxis": {
         "title": {
          "text": "eigen value"
         }
        }
       }
      },
      "text/html": [
       "<div>\n",
       "        \n",
       "        \n",
       "            <div id=\"0818e348-ca53-42c3-ae86-9571c9ebd123\" class=\"plotly-graph-div\" style=\"height:525px; width:100%;\"></div>\n",
       "            <script type=\"text/javascript\">\n",
       "                require([\"plotly\"], function(Plotly) {\n",
       "                    window.PLOTLYENV=window.PLOTLYENV || {};\n",
       "                    \n",
       "                if (document.getElementById(\"0818e348-ca53-42c3-ae86-9571c9ebd123\")) {\n",
       "                    Plotly.newPlot(\n",
       "                        '0818e348-ca53-42c3-ae86-9571c9ebd123',\n",
       "                        [{\"type\": \"scatter\", \"x\": [0, 1, 2, 3, 4, 5, 6, 7, 8, 9], \"y\": [1.5514164684575862, 0.8844004056638797, 0.2130933626377272, 0.020560475296278868, 0.01261491035076935, 0.009309959117343397, 0.0014745011113878903, 0.0007320331249634846, 0.0006318690563417085, 0.00037401821724361556]}],\n",
       "                        {\"template\": {\"data\": {\"bar\": [{\"error_x\": {\"color\": \"#2a3f5f\"}, \"error_y\": {\"color\": \"#2a3f5f\"}, \"marker\": {\"line\": {\"color\": \"#E5ECF6\", \"width\": 0.5}}, \"type\": \"bar\"}], \"barpolar\": [{\"marker\": {\"line\": {\"color\": \"#E5ECF6\", \"width\": 0.5}}, \"type\": \"barpolar\"}], \"carpet\": [{\"aaxis\": {\"endlinecolor\": \"#2a3f5f\", \"gridcolor\": \"white\", \"linecolor\": \"white\", \"minorgridcolor\": \"white\", \"startlinecolor\": \"#2a3f5f\"}, \"baxis\": {\"endlinecolor\": \"#2a3f5f\", \"gridcolor\": \"white\", \"linecolor\": \"white\", \"minorgridcolor\": \"white\", \"startlinecolor\": \"#2a3f5f\"}, \"type\": \"carpet\"}], \"choropleth\": [{\"colorbar\": {\"outlinewidth\": 0, \"ticks\": \"\"}, \"type\": \"choropleth\"}], \"contour\": [{\"colorbar\": {\"outlinewidth\": 0, \"ticks\": \"\"}, \"colorscale\": [[0.0, \"#0d0887\"], [0.1111111111111111, \"#46039f\"], [0.2222222222222222, \"#7201a8\"], [0.3333333333333333, \"#9c179e\"], [0.4444444444444444, \"#bd3786\"], [0.5555555555555556, \"#d8576b\"], [0.6666666666666666, \"#ed7953\"], [0.7777777777777778, \"#fb9f3a\"], [0.8888888888888888, \"#fdca26\"], [1.0, \"#f0f921\"]], \"type\": \"contour\"}], \"contourcarpet\": [{\"colorbar\": {\"outlinewidth\": 0, \"ticks\": \"\"}, \"type\": \"contourcarpet\"}], \"heatmap\": [{\"colorbar\": {\"outlinewidth\": 0, \"ticks\": \"\"}, \"colorscale\": [[0.0, \"#0d0887\"], [0.1111111111111111, \"#46039f\"], [0.2222222222222222, \"#7201a8\"], [0.3333333333333333, \"#9c179e\"], [0.4444444444444444, \"#bd3786\"], [0.5555555555555556, \"#d8576b\"], [0.6666666666666666, \"#ed7953\"], [0.7777777777777778, \"#fb9f3a\"], [0.8888888888888888, \"#fdca26\"], [1.0, \"#f0f921\"]], \"type\": \"heatmap\"}], \"heatmapgl\": [{\"colorbar\": {\"outlinewidth\": 0, \"ticks\": \"\"}, \"colorscale\": [[0.0, \"#0d0887\"], [0.1111111111111111, \"#46039f\"], [0.2222222222222222, \"#7201a8\"], [0.3333333333333333, \"#9c179e\"], [0.4444444444444444, \"#bd3786\"], [0.5555555555555556, \"#d8576b\"], [0.6666666666666666, \"#ed7953\"], [0.7777777777777778, \"#fb9f3a\"], [0.8888888888888888, \"#fdca26\"], [1.0, \"#f0f921\"]], \"type\": \"heatmapgl\"}], \"histogram\": [{\"marker\": {\"colorbar\": {\"outlinewidth\": 0, \"ticks\": \"\"}}, \"type\": \"histogram\"}], \"histogram2d\": [{\"colorbar\": {\"outlinewidth\": 0, \"ticks\": \"\"}, \"colorscale\": [[0.0, \"#0d0887\"], [0.1111111111111111, \"#46039f\"], [0.2222222222222222, \"#7201a8\"], [0.3333333333333333, \"#9c179e\"], [0.4444444444444444, \"#bd3786\"], [0.5555555555555556, \"#d8576b\"], [0.6666666666666666, \"#ed7953\"], [0.7777777777777778, \"#fb9f3a\"], [0.8888888888888888, \"#fdca26\"], [1.0, \"#f0f921\"]], \"type\": \"histogram2d\"}], \"histogram2dcontour\": [{\"colorbar\": {\"outlinewidth\": 0, \"ticks\": \"\"}, \"colorscale\": [[0.0, \"#0d0887\"], [0.1111111111111111, \"#46039f\"], [0.2222222222222222, \"#7201a8\"], [0.3333333333333333, \"#9c179e\"], [0.4444444444444444, \"#bd3786\"], [0.5555555555555556, \"#d8576b\"], [0.6666666666666666, \"#ed7953\"], [0.7777777777777778, \"#fb9f3a\"], [0.8888888888888888, \"#fdca26\"], [1.0, \"#f0f921\"]], \"type\": \"histogram2dcontour\"}], \"mesh3d\": [{\"colorbar\": {\"outlinewidth\": 0, \"ticks\": \"\"}, \"type\": \"mesh3d\"}], \"parcoords\": [{\"line\": {\"colorbar\": {\"outlinewidth\": 0, \"ticks\": \"\"}}, \"type\": \"parcoords\"}], \"pie\": [{\"automargin\": true, \"type\": \"pie\"}], \"scatter\": [{\"marker\": {\"colorbar\": {\"outlinewidth\": 0, \"ticks\": \"\"}}, \"type\": \"scatter\"}], \"scatter3d\": [{\"line\": {\"colorbar\": {\"outlinewidth\": 0, \"ticks\": \"\"}}, \"marker\": {\"colorbar\": {\"outlinewidth\": 0, \"ticks\": \"\"}}, \"type\": \"scatter3d\"}], \"scattercarpet\": [{\"marker\": {\"colorbar\": {\"outlinewidth\": 0, \"ticks\": \"\"}}, \"type\": \"scattercarpet\"}], \"scattergeo\": [{\"marker\": {\"colorbar\": {\"outlinewidth\": 0, \"ticks\": \"\"}}, \"type\": \"scattergeo\"}], \"scattergl\": [{\"marker\": {\"colorbar\": {\"outlinewidth\": 0, \"ticks\": \"\"}}, \"type\": \"scattergl\"}], \"scattermapbox\": [{\"marker\": {\"colorbar\": {\"outlinewidth\": 0, \"ticks\": \"\"}}, \"type\": \"scattermapbox\"}], \"scatterpolar\": [{\"marker\": {\"colorbar\": {\"outlinewidth\": 0, \"ticks\": \"\"}}, \"type\": \"scatterpolar\"}], \"scatterpolargl\": [{\"marker\": {\"colorbar\": {\"outlinewidth\": 0, \"ticks\": \"\"}}, \"type\": \"scatterpolargl\"}], \"scatterternary\": [{\"marker\": {\"colorbar\": {\"outlinewidth\": 0, \"ticks\": \"\"}}, \"type\": \"scatterternary\"}], \"surface\": [{\"colorbar\": {\"outlinewidth\": 0, \"ticks\": \"\"}, \"colorscale\": [[0.0, \"#0d0887\"], [0.1111111111111111, \"#46039f\"], [0.2222222222222222, \"#7201a8\"], [0.3333333333333333, \"#9c179e\"], [0.4444444444444444, \"#bd3786\"], [0.5555555555555556, \"#d8576b\"], [0.6666666666666666, \"#ed7953\"], [0.7777777777777778, \"#fb9f3a\"], [0.8888888888888888, \"#fdca26\"], [1.0, \"#f0f921\"]], \"type\": \"surface\"}], \"table\": [{\"cells\": {\"fill\": {\"color\": \"#EBF0F8\"}, \"line\": {\"color\": \"white\"}}, \"header\": {\"fill\": {\"color\": \"#C8D4E3\"}, \"line\": {\"color\": \"white\"}}, \"type\": \"table\"}]}, \"layout\": {\"annotationdefaults\": {\"arrowcolor\": \"#2a3f5f\", \"arrowhead\": 0, \"arrowwidth\": 1}, \"coloraxis\": {\"colorbar\": {\"outlinewidth\": 0, \"ticks\": \"\"}}, \"colorscale\": {\"diverging\": [[0, \"#8e0152\"], [0.1, \"#c51b7d\"], [0.2, \"#de77ae\"], [0.3, \"#f1b6da\"], [0.4, \"#fde0ef\"], [0.5, \"#f7f7f7\"], [0.6, \"#e6f5d0\"], [0.7, \"#b8e186\"], [0.8, \"#7fbc41\"], [0.9, \"#4d9221\"], [1, \"#276419\"]], \"sequential\": [[0.0, \"#0d0887\"], [0.1111111111111111, \"#46039f\"], [0.2222222222222222, \"#7201a8\"], [0.3333333333333333, \"#9c179e\"], [0.4444444444444444, \"#bd3786\"], [0.5555555555555556, \"#d8576b\"], [0.6666666666666666, \"#ed7953\"], [0.7777777777777778, \"#fb9f3a\"], [0.8888888888888888, \"#fdca26\"], [1.0, \"#f0f921\"]], \"sequentialminus\": [[0.0, \"#0d0887\"], [0.1111111111111111, \"#46039f\"], [0.2222222222222222, \"#7201a8\"], [0.3333333333333333, \"#9c179e\"], [0.4444444444444444, \"#bd3786\"], [0.5555555555555556, \"#d8576b\"], [0.6666666666666666, \"#ed7953\"], [0.7777777777777778, \"#fb9f3a\"], [0.8888888888888888, \"#fdca26\"], [1.0, \"#f0f921\"]]}, \"colorway\": [\"#636efa\", \"#EF553B\", \"#00cc96\", \"#ab63fa\", \"#FFA15A\", \"#19d3f3\", \"#FF6692\", \"#B6E880\", \"#FF97FF\", \"#FECB52\"], \"font\": {\"color\": \"#2a3f5f\"}, \"geo\": {\"bgcolor\": \"white\", \"lakecolor\": \"white\", \"landcolor\": \"#E5ECF6\", \"showlakes\": true, \"showland\": true, \"subunitcolor\": \"white\"}, \"hoverlabel\": {\"align\": \"left\"}, \"hovermode\": \"closest\", \"mapbox\": {\"style\": \"light\"}, \"paper_bgcolor\": \"white\", \"plot_bgcolor\": \"#E5ECF6\", \"polar\": {\"angularaxis\": {\"gridcolor\": \"white\", \"linecolor\": \"white\", \"ticks\": \"\"}, \"bgcolor\": \"#E5ECF6\", \"radialaxis\": {\"gridcolor\": \"white\", \"linecolor\": \"white\", \"ticks\": \"\"}}, \"scene\": {\"xaxis\": {\"backgroundcolor\": \"#E5ECF6\", \"gridcolor\": \"white\", \"gridwidth\": 2, \"linecolor\": \"white\", \"showbackground\": true, \"ticks\": \"\", \"zerolinecolor\": \"white\"}, \"yaxis\": {\"backgroundcolor\": \"#E5ECF6\", \"gridcolor\": \"white\", \"gridwidth\": 2, \"linecolor\": \"white\", \"showbackground\": true, \"ticks\": \"\", \"zerolinecolor\": \"white\"}, \"zaxis\": {\"backgroundcolor\": \"#E5ECF6\", \"gridcolor\": \"white\", \"gridwidth\": 2, \"linecolor\": \"white\", \"showbackground\": true, \"ticks\": \"\", \"zerolinecolor\": \"white\"}}, \"shapedefaults\": {\"line\": {\"color\": \"#2a3f5f\"}}, \"ternary\": {\"aaxis\": {\"gridcolor\": \"white\", \"linecolor\": \"white\", \"ticks\": \"\"}, \"baxis\": {\"gridcolor\": \"white\", \"linecolor\": \"white\", \"ticks\": \"\"}, \"bgcolor\": \"#E5ECF6\", \"caxis\": {\"gridcolor\": \"white\", \"linecolor\": \"white\", \"ticks\": \"\"}}, \"title\": {\"x\": 0.05}, \"xaxis\": {\"automargin\": true, \"gridcolor\": \"white\", \"linecolor\": \"white\", \"ticks\": \"\", \"title\": {\"standoff\": 15}, \"zerolinecolor\": \"white\", \"zerolinewidth\": 2}, \"yaxis\": {\"automargin\": true, \"gridcolor\": \"white\", \"linecolor\": \"white\", \"ticks\": \"\", \"title\": {\"standoff\": 15}, \"zerolinecolor\": \"white\", \"zerolinewidth\": 2}}}, \"title\": {\"text\": \"ScreePlot\", \"x\": 0.5}, \"xaxis\": {\"title\": {\"text\": \"No of eigen values\"}}, \"yaxis\": {\"title\": {\"text\": \"eigen value\"}}},\n",
       "                        {\"responsive\": true}\n",
       "                    ).then(function(){\n",
       "                            \n",
       "var gd = document.getElementById('0818e348-ca53-42c3-ae86-9571c9ebd123');\n",
       "var x = new MutationObserver(function (mutations, observer) {{\n",
       "        var display = window.getComputedStyle(gd).display;\n",
       "        if (!display || display === 'none') {{\n",
       "            console.log([gd, 'removed!']);\n",
       "            Plotly.purge(gd);\n",
       "            observer.disconnect();\n",
       "        }}\n",
       "}});\n",
       "\n",
       "// Listen for the removal of the full notebook cells\n",
       "var notebookContainer = gd.closest('#notebook-container');\n",
       "if (notebookContainer) {{\n",
       "    x.observe(notebookContainer, {childList: true});\n",
       "}}\n",
       "\n",
       "// Listen for the clearing of the current output cell\n",
       "var outputEl = gd.closest('.output');\n",
       "if (outputEl) {{\n",
       "    x.observe(outputEl, {childList: true});\n",
       "}}\n",
       "\n",
       "                        })\n",
       "                };\n",
       "                });\n",
       "            </script>\n",
       "        </div>"
      ]
     },
     "metadata": {},
     "output_type": "display_data"
    }
   ],
   "source": [
    "method=methods['SE']\n",
    "X_train_data = method.fit_transform(df)\n",
    "N = len(X_train_data)\n",
    "L = (N)//2\n",
    "# L =  50\n",
    "X_train = hankel(X_train_data[:L],X_train_data[L-1:]) # Creating trajectory matrix\n",
    "eigenValues, eigenVectors = eigh(np.matmul(X_train, X_train.T))\n",
    "idx = eigenValues.argsort()[::-1]\n",
    "eigenValues = eigenValues[idx]\n",
    "eigenVectors = eigenVectors[:,idx]\n",
    "\n",
    "eigen_data = go.Scatter(x=list(range(len(eigenValues[0:10]))), y=eigenValues[0:10])\n",
    "eigen_layout = go.Layout(title='ScreePlot', title_x=0.5, xaxis_title=\"No of eigen values\", yaxis_title=\"eigen value\",)\n",
    "fig = go.Figure(data=[eigen_data], layout=eigen_layout)\n",
    "fig.show()\n"
   ]
  },
  {
   "cell_type": "code",
   "execution_count": 39,
   "metadata": {},
   "outputs": [],
   "source": [
    "# Setting statistical dimension based on screeplot above\n",
    "r = 1\n",
    "# Performing singular value decomposition\n",
    "U, Sigma, V = np.linalg.svd(X_train)\n",
    "V = V.T\n",
    "X_elem = np.array( [Sigma[i] * np.outer(U[:,i], V[:,i]) for i in range(0,r)] )\n",
    "X_train_extracted = X_elem.sum(axis=0)\n",
    "U = eigenVectors[:,:r] # r as statistical dimension\n",
    "UT = U.T\n",
    "pX = np.matmul(UT,X_train_extracted)\n",
    "centroid = np.mean(pX, axis=1)\n",
    "centroid = centroid[:,np.newaxis]\n",
    "pXt = np.matmul(UT,X_train)\n",
    "dt_matrix = centroid - pXt\n",
    "dt_scores = np.linalg.norm(dt_matrix, axis=0, ord=2)\n",
    "\n",
    "# Testing positional Deviation\n",
    "X_test = method.fit_transform(df_test)\n",
    "Xj = hankel(X_test[:L],X_test[L-1:])\n",
    "pXj = np.matmul(UT, Xj)\n",
    "dj_matrix = centroid - pXj\n",
    "dj_scores = np.linalg.norm(dj_matrix, axis=0, ord=2)\n",
    "dj_scores = np.asarray(dj_scores)\n"
   ]
  },
  {
   "cell_type": "code",
   "execution_count": 49,
   "metadata": {},
   "outputs": [
    {
     "data": {
      "application/vnd.plotly.v1+json": {
       "config": {
        "plotlyServerURL": "https://plot.ly"
       },
       "data": [
        {
         "marker": {
          "color": "blue"
         },
         "name": "Training path",
         "type": "scatter",
         "x": [
          0,
          -0.2,
          -0.25,
          -0.27,
          -0.8,
          -1.25,
          -2.53,
          -2.69,
          -2.02,
          -0.82,
          0.45,
          1.77,
          3.1,
          4.4,
          5.73,
          7.06,
          8.38,
          9.71,
          11.1,
          12.4,
          13.67,
          14.95,
          16.23,
          17.53,
          18.82,
          20.1,
          21.42,
          22.73,
          24.02,
          25.29,
          26.51,
          27.5,
          26.32,
          24.94,
          23.55,
          22.16,
          20.8,
          19.45,
          18.11,
          16.76,
          13.95,
          12.54,
          11.15,
          9.76,
          8.37,
          7,
          5.63,
          4.26,
          2.95,
          1.56,
          0.21,
          -1.12,
          -2.39,
          -3.48,
          -2.14,
          -0.74,
          0.64,
          2.04,
          3.48,
          4.91,
          6.31,
          7.7,
          9.08,
          10.48,
          11.88,
          13.27,
          14.67,
          16.05,
          17.4,
          18.75,
          20.11,
          21.46,
          22.79,
          24.13,
          25.53,
          26.82,
          27.7,
          26.38,
          25,
          23.58,
          22.17,
          20.72,
          19.26,
          17.81,
          16.36,
          14.92,
          13.48,
          12.07,
          10.67,
          9.23,
          7.78,
          6.34,
          4.9,
          3.45,
          1.99,
          0.58,
          -0.82,
          -2.2,
          -2.82,
          -2.96,
          -1.69,
          -1.06,
          -0.89,
          0.11,
          0.04,
          0.07,
          -0.11,
          0,
          -0.2,
          -0.25
         ],
         "xaxis": "x",
         "y": [
          0,
          -0.01,
          0.32,
          1.14,
          2.06,
          3.3,
          3.69,
          3.96,
          5.03,
          5.55,
          5.67,
          5.71,
          5.69,
          5.71,
          5.77,
          5.81,
          5.86,
          5.99,
          6.09,
          6.24,
          6.43,
          6.53,
          6.51,
          6.47,
          6.53,
          6.61,
          6.68,
          6.82,
          6.87,
          6.93,
          6.88,
          6.95,
          6.94,
          6.85,
          6.88,
          6.8,
          6.71,
          6.6,
          6.55,
          6.5,
          6.45,
          6.37,
          6.27,
          6.24,
          6.27,
          6.25,
          6.26,
          6.25,
          6.05,
          6,
          6.01,
          5.93,
          5.95,
          5.72,
          5.75,
          5.87,
          5.85,
          5.85,
          5.87,
          5.95,
          6.04,
          6.08,
          6.1,
          6.15,
          6.2,
          6.23,
          6.3,
          6.33,
          6.4,
          6.37,
          6.4,
          6.28,
          6.24,
          6.18,
          6.32,
          6.42,
          6.53,
          6.52,
          6.46,
          6.47,
          6.51,
          6.42,
          6.37,
          6.33,
          6.33,
          6.35,
          6.41,
          6.51,
          6.59,
          6.5,
          6.42,
          6.38,
          6.24,
          6.24,
          6.21,
          6.21,
          6.25,
          6.15,
          5.3,
          4.41,
          4.09,
          3.29,
          2.17,
          1.76,
          1.74,
          1.82,
          1.47,
          0,
          -0.01,
          0.32
         ],
         "yaxis": "y"
        },
        {
         "marker": {
          "color": "red"
         },
         "name": "Testing Score",
         "type": "scatter",
         "x": [
          -2.03,
          -2.97,
          -2.74,
          -1.95,
          -0.67,
          0.68,
          1.99,
          3.33,
          4.64,
          5.87,
          6.6,
          6.73,
          6.71,
          6.72,
          6.72,
          6.43,
          6.1,
          6.08,
          6.25,
          6.6,
          6.96,
          7.89,
          9.19,
          10.55,
          11.88,
          13.24,
          14.58,
          15.92,
          17.27,
          18.6,
          19.93,
          21.23,
          22.58,
          23.84,
          25,
          25.99,
          24.81,
          23.43,
          22.07,
          20.72,
          19.32,
          17.92,
          16.51,
          15.12,
          13.73,
          12.35,
          11.01,
          9.68,
          8.32,
          7,
          5.66,
          4.28,
          2.95,
          1.6,
          0.25,
          -1.09,
          -2.34,
          -2.86,
          -3.31,
          -2.38,
          -1.33,
          -1.23,
          -1.4,
          -1.22,
          -1,
          -1.15,
          -1.18,
          -2.36,
          -3.41,
          -3.95,
          -3.95,
          -3.96,
          -3.8,
          -3.78,
          -3.79,
          -3.6,
          -3.16,
          -2.83,
          -2.55,
          -1.85,
          -0.62,
          0.64,
          1.98,
          3.29,
          4.56,
          5.78,
          6.59,
          6.69,
          6.45,
          6.21,
          5.98,
          5.82,
          6.04,
          6.12,
          6.21,
          6.43,
          6.82,
          7.58,
          8.79,
          10.08,
          11.46,
          12.78,
          14.11,
          15.43,
          16.73,
          18.06,
          19.38,
          20.68,
          21.93,
          23.18,
          24.45,
          25.76,
          26.75,
          25.5,
          24.17,
          22.88,
          21.52,
          20.19,
          18.82,
          17.48,
          16.09,
          14.74,
          13.36,
          12.03,
          10.68,
          9.34,
          7.97,
          6.61,
          5.24,
          3.86,
          2.46,
          1.05,
          -0.34,
          -1.67,
          -2.61,
          -3.07,
          -2.29,
          -1.2,
          -1.3,
          -1.42,
          -1.24,
          -1.16,
          -0.99,
          -1.04,
          0,
          -0.06,
          -0.76,
          -1.03,
          -0.98,
          -2.03
         ],
         "xaxis": "x2",
         "y": [
          3.5,
          3.72,
          3.86,
          4.77,
          4.95,
          5.02,
          5.13,
          5.04,
          5.04,
          4.81,
          3.85,
          2.58,
          1.26,
          -0.05,
          -1.35,
          -2.22,
          -1.44,
          -0.17,
          1.12,
          2.38,
          3.69,
          4.59,
          4.9,
          4.88,
          4.88,
          4.84,
          4.71,
          4.72,
          4.78,
          4.8,
          4.82,
          4.74,
          4.81,
          4.95,
          4.75,
          4.83,
          4.95,
          5.06,
          5.16,
          5.21,
          5.29,
          5.22,
          5.28,
          5.35,
          5.42,
          5.44,
          5.41,
          5.44,
          5.41,
          5.4,
          5.58,
          5.62,
          5.69,
          5.77,
          5.85,
          5.93,
          5.98,
          5.17,
          4.47,
          3.73,
          3.46,
          2.26,
          1.17,
          0.43,
          1.29,
          2.34,
          3.61,
          4.25,
          3.46,
          2.34,
          1.11,
          -0.07,
          -0.82,
          0.45,
          1.79,
          3.05,
          4.12,
          4.4,
          4.67,
          5.71,
          5.92,
          5.64,
          5.5,
          5.36,
          5.1,
          4.63,
          3.79,
          2.55,
          1.35,
          0.12,
          -1.11,
          -2.24,
          -2,
          -0.79,
          0.48,
          1.73,
          2.95,
          3.99,
          4.48,
          4.39,
          4.27,
          4.08,
          4.06,
          4.01,
          3.7,
          3.61,
          3.56,
          3.35,
          3.05,
          2.76,
          2.51,
          2.45,
          2.8,
          2.84,
          2.97,
          3.2,
          3.4,
          3.59,
          3.82,
          4,
          4.21,
          4.4,
          4.52,
          4.75,
          4.88,
          5.03,
          5.23,
          5.3,
          5.62,
          5.95,
          6.17,
          6.44,
          6.58,
          6.81,
          6.31,
          5.35,
          4.55,
          4.21,
          3.11,
          2.08,
          1.66,
          1.81,
          1.86,
          2.05,
          0,
          0,
          0.75,
          1.7,
          2.82,
          3.5
         ],
         "yaxis": "y2"
        },
        {
         "marker": {
          "color": "blue"
         },
         "name": "Training Score",
         "type": "scatter",
         "x": [
          0,
          1,
          2,
          3,
          4,
          5,
          6,
          7,
          8,
          9,
          10,
          11,
          12,
          13,
          14,
          15,
          16,
          17,
          18,
          19,
          20,
          21,
          22,
          23,
          24,
          25,
          26,
          27,
          28,
          29,
          30,
          31,
          32,
          33,
          34,
          35,
          36,
          37,
          38,
          39,
          40,
          41,
          42,
          43,
          44,
          45,
          46,
          47,
          48,
          49,
          50,
          51,
          52,
          53,
          54,
          55,
          56,
          57,
          58,
          59,
          60
         ],
         "xaxis": "x3",
         "y": [
          32.154591745270785,
          37.18003125522518,
          41.62504603912652,
          45.446296763415994,
          48.63353216799102,
          50.77457395376382,
          51.85470924836889,
          51.60260169589665,
          50.01785416161806,
          47.32708267584,
          43.57785923540343,
          38.83448144166494,
          33.181098573451635,
          26.709123367844512,
          19.51171482366832,
          11.70974275476996,
          3.4314629353883586,
          5.19237837801389,
          14.014948764929153,
          22.877842900715713,
          31.654229048273578,
          40.21030747864372,
          48.40638953204501,
          56.10710364192746,
          63.187503318338585,
          69.54787079587577,
          75.06881721822397,
          79.58107027920948,
          82.59408941204184,
          84.0446214661287,
          83.8979160255079,
          82.15999654489764,
          78.88535134571464,
          74.52711269289131,
          69.19210621248365,
          62.965877493324754,
          55.948635327698256,
          48.24584480956268,
          39.98608896149733,
          31.299200568757023,
          22.319159069745176,
          13.463529774230448,
          4.614223651487938,
          4.091760773454878,
          12.517790444124183,
          20.53187709820859,
          27.998088661851845,
          34.787464816969184,
          40.783442213775274,
          45.795774447841,
          49.65842407274694,
          52.12626206148093,
          53.477596527194564,
          53.72901040423959,
          52.8708522653548,
          51.17131217465938,
          48.681440042685935,
          45.512770045724835,
          41.93180360290278,
          37.753319935719325,
          33.001422284520764
         ],
         "yaxis": "y3"
        },
        {
         "marker": {
          "color": "red"
         },
         "name": "Testing Score",
         "type": "scatter",
         "x": [
          0,
          1,
          2,
          3,
          4,
          5,
          6,
          7,
          8,
          9,
          10,
          11,
          12,
          13,
          14,
          15,
          16,
          17,
          18,
          19,
          20,
          21,
          22,
          23,
          24,
          25,
          26,
          27,
          28,
          29,
          30,
          31,
          32,
          33,
          34,
          35,
          36,
          37,
          38,
          39,
          40,
          41,
          42,
          43,
          44,
          45,
          46,
          47,
          48,
          49,
          50,
          51,
          52,
          53,
          54,
          55,
          56,
          57,
          58,
          59,
          60,
          61,
          62,
          63,
          64,
          65,
          66,
          67,
          68,
          69,
          70,
          71,
          72,
          73,
          74,
          75,
          76,
          77,
          78,
          79,
          80,
          81,
          82,
          83,
          84,
          85,
          86,
          87,
          88,
          89,
          90,
          91,
          92,
          93,
          94,
          95,
          96,
          97,
          98,
          99,
          100
         ],
         "xaxis": "x3",
         "y": [
          1.198398303933848,
          3.303006252158193,
          7.641025816227588,
          11.919856718394106,
          16.25319057275118,
          20.577332443717815,
          24.83847730016683,
          28.940333306252192,
          32.73048979424558,
          36.0947878277836,
          38.812341632514055,
          40.75628572065842,
          42.06410049509836,
          42.64560445885151,
          42.427858105667525,
          41.133323202816406,
          38.755840168377524,
          35.33203954643561,
          31.261171468624255,
          26.76235993463716,
          21.87881165075531,
          16.711682249660157,
          11.510717018713448,
          6.308023284629018,
          0.911841782682794,
          4.637212088047685,
          10.195218405393286,
          15.647159527627355,
          20.816583965583327,
          25.605926327033423,
          30.029643532653676,
          34.09798974505575,
          37.75646281830146,
          40.967428058445115,
          43.70519466928754,
          45.926435319160035,
          47.63730134258704,
          49.19988725452715,
          50.462734784706,
          51.3478852397484,
          51.844247812585465,
          51.953428271766626,
          51.67854923752972,
          51.06741379428473,
          50.15549284188634,
          48.96104646183267,
          47.50013337393355,
          45.79793909197385,
          43.992476332318276,
          42.20213899236664,
          40.47452212231132,
          38.87427072271549,
          37.42941542971966,
          36.16001110470634,
          35.09911716267801,
          34.27567162571824,
          33.71064113048262,
          33.40306949172858,
          33.28799542534179,
          33.321404698928546,
          33.351618151016154,
          33.36713480722597,
          33.68700935691117,
          34.23199743818897,
          34.512208208749556,
          34.218650755929716,
          33.31276556485108,
          31.741256539635962,
          29.841328486667713,
          27.765310105538813,
          25.501165660936948,
          23.065380953761107,
          20.512204061550122,
          17.753623872874794,
          14.52973265097018,
          10.839454698738074,
          6.7832390860525145,
          2.440345424565427,
          2.0302108961817833,
          6.5553679651230095,
          11.146684124033316,
          15.811456251497043,
          20.472803930873944,
          25.075099601379854,
          29.524527993460033,
          33.67402992850613,
          37.39038970786171,
          40.36343729736495,
          42.35259346857061,
          43.59401587619293,
          44.0717128909193,
          43.665727621788825,
          42.28937370567534,
          40.02916222483007,
          36.92174852378297,
          33.47242689510572,
          29.33255433666082,
          24.417618453426833,
          18.907577534353237,
          12.94849765229676,
          6.812214216871228
         ],
         "yaxis": "y3"
        }
       ],
       "layout": {
        "annotations": [
         {
          "font": {
           "size": 16
          },
          "showarrow": false,
          "text": "Training plot",
          "x": 0.225,
          "xanchor": "center",
          "xref": "paper",
          "y": 1,
          "yanchor": "bottom",
          "yref": "paper"
         },
         {
          "font": {
           "size": 16
          },
          "showarrow": false,
          "text": "Testing plot",
          "x": 0.775,
          "xanchor": "center",
          "xref": "paper",
          "y": 1,
          "yanchor": "bottom",
          "yref": "paper"
         },
         {
          "font": {
           "size": 16
          },
          "showarrow": false,
          "text": "Anomaly score by t_SNE",
          "x": 0.5,
          "xanchor": "center",
          "xref": "paper",
          "y": 0.375,
          "yanchor": "bottom",
          "yref": "paper"
         }
        ],
        "showlegend": false,
        "template": {
         "data": {
          "bar": [
           {
            "error_x": {
             "color": "#2a3f5f"
            },
            "error_y": {
             "color": "#2a3f5f"
            },
            "marker": {
             "line": {
              "color": "#E5ECF6",
              "width": 0.5
             }
            },
            "type": "bar"
           }
          ],
          "barpolar": [
           {
            "marker": {
             "line": {
              "color": "#E5ECF6",
              "width": 0.5
             }
            },
            "type": "barpolar"
           }
          ],
          "carpet": [
           {
            "aaxis": {
             "endlinecolor": "#2a3f5f",
             "gridcolor": "white",
             "linecolor": "white",
             "minorgridcolor": "white",
             "startlinecolor": "#2a3f5f"
            },
            "baxis": {
             "endlinecolor": "#2a3f5f",
             "gridcolor": "white",
             "linecolor": "white",
             "minorgridcolor": "white",
             "startlinecolor": "#2a3f5f"
            },
            "type": "carpet"
           }
          ],
          "choropleth": [
           {
            "colorbar": {
             "outlinewidth": 0,
             "ticks": ""
            },
            "type": "choropleth"
           }
          ],
          "contour": [
           {
            "colorbar": {
             "outlinewidth": 0,
             "ticks": ""
            },
            "colorscale": [
             [
              0,
              "#0d0887"
             ],
             [
              0.1111111111111111,
              "#46039f"
             ],
             [
              0.2222222222222222,
              "#7201a8"
             ],
             [
              0.3333333333333333,
              "#9c179e"
             ],
             [
              0.4444444444444444,
              "#bd3786"
             ],
             [
              0.5555555555555556,
              "#d8576b"
             ],
             [
              0.6666666666666666,
              "#ed7953"
             ],
             [
              0.7777777777777778,
              "#fb9f3a"
             ],
             [
              0.8888888888888888,
              "#fdca26"
             ],
             [
              1,
              "#f0f921"
             ]
            ],
            "type": "contour"
           }
          ],
          "contourcarpet": [
           {
            "colorbar": {
             "outlinewidth": 0,
             "ticks": ""
            },
            "type": "contourcarpet"
           }
          ],
          "heatmap": [
           {
            "colorbar": {
             "outlinewidth": 0,
             "ticks": ""
            },
            "colorscale": [
             [
              0,
              "#0d0887"
             ],
             [
              0.1111111111111111,
              "#46039f"
             ],
             [
              0.2222222222222222,
              "#7201a8"
             ],
             [
              0.3333333333333333,
              "#9c179e"
             ],
             [
              0.4444444444444444,
              "#bd3786"
             ],
             [
              0.5555555555555556,
              "#d8576b"
             ],
             [
              0.6666666666666666,
              "#ed7953"
             ],
             [
              0.7777777777777778,
              "#fb9f3a"
             ],
             [
              0.8888888888888888,
              "#fdca26"
             ],
             [
              1,
              "#f0f921"
             ]
            ],
            "type": "heatmap"
           }
          ],
          "heatmapgl": [
           {
            "colorbar": {
             "outlinewidth": 0,
             "ticks": ""
            },
            "colorscale": [
             [
              0,
              "#0d0887"
             ],
             [
              0.1111111111111111,
              "#46039f"
             ],
             [
              0.2222222222222222,
              "#7201a8"
             ],
             [
              0.3333333333333333,
              "#9c179e"
             ],
             [
              0.4444444444444444,
              "#bd3786"
             ],
             [
              0.5555555555555556,
              "#d8576b"
             ],
             [
              0.6666666666666666,
              "#ed7953"
             ],
             [
              0.7777777777777778,
              "#fb9f3a"
             ],
             [
              0.8888888888888888,
              "#fdca26"
             ],
             [
              1,
              "#f0f921"
             ]
            ],
            "type": "heatmapgl"
           }
          ],
          "histogram": [
           {
            "marker": {
             "colorbar": {
              "outlinewidth": 0,
              "ticks": ""
             }
            },
            "type": "histogram"
           }
          ],
          "histogram2d": [
           {
            "colorbar": {
             "outlinewidth": 0,
             "ticks": ""
            },
            "colorscale": [
             [
              0,
              "#0d0887"
             ],
             [
              0.1111111111111111,
              "#46039f"
             ],
             [
              0.2222222222222222,
              "#7201a8"
             ],
             [
              0.3333333333333333,
              "#9c179e"
             ],
             [
              0.4444444444444444,
              "#bd3786"
             ],
             [
              0.5555555555555556,
              "#d8576b"
             ],
             [
              0.6666666666666666,
              "#ed7953"
             ],
             [
              0.7777777777777778,
              "#fb9f3a"
             ],
             [
              0.8888888888888888,
              "#fdca26"
             ],
             [
              1,
              "#f0f921"
             ]
            ],
            "type": "histogram2d"
           }
          ],
          "histogram2dcontour": [
           {
            "colorbar": {
             "outlinewidth": 0,
             "ticks": ""
            },
            "colorscale": [
             [
              0,
              "#0d0887"
             ],
             [
              0.1111111111111111,
              "#46039f"
             ],
             [
              0.2222222222222222,
              "#7201a8"
             ],
             [
              0.3333333333333333,
              "#9c179e"
             ],
             [
              0.4444444444444444,
              "#bd3786"
             ],
             [
              0.5555555555555556,
              "#d8576b"
             ],
             [
              0.6666666666666666,
              "#ed7953"
             ],
             [
              0.7777777777777778,
              "#fb9f3a"
             ],
             [
              0.8888888888888888,
              "#fdca26"
             ],
             [
              1,
              "#f0f921"
             ]
            ],
            "type": "histogram2dcontour"
           }
          ],
          "mesh3d": [
           {
            "colorbar": {
             "outlinewidth": 0,
             "ticks": ""
            },
            "type": "mesh3d"
           }
          ],
          "parcoords": [
           {
            "line": {
             "colorbar": {
              "outlinewidth": 0,
              "ticks": ""
             }
            },
            "type": "parcoords"
           }
          ],
          "pie": [
           {
            "automargin": true,
            "type": "pie"
           }
          ],
          "scatter": [
           {
            "marker": {
             "colorbar": {
              "outlinewidth": 0,
              "ticks": ""
             }
            },
            "type": "scatter"
           }
          ],
          "scatter3d": [
           {
            "line": {
             "colorbar": {
              "outlinewidth": 0,
              "ticks": ""
             }
            },
            "marker": {
             "colorbar": {
              "outlinewidth": 0,
              "ticks": ""
             }
            },
            "type": "scatter3d"
           }
          ],
          "scattercarpet": [
           {
            "marker": {
             "colorbar": {
              "outlinewidth": 0,
              "ticks": ""
             }
            },
            "type": "scattercarpet"
           }
          ],
          "scattergeo": [
           {
            "marker": {
             "colorbar": {
              "outlinewidth": 0,
              "ticks": ""
             }
            },
            "type": "scattergeo"
           }
          ],
          "scattergl": [
           {
            "marker": {
             "colorbar": {
              "outlinewidth": 0,
              "ticks": ""
             }
            },
            "type": "scattergl"
           }
          ],
          "scattermapbox": [
           {
            "marker": {
             "colorbar": {
              "outlinewidth": 0,
              "ticks": ""
             }
            },
            "type": "scattermapbox"
           }
          ],
          "scatterpolar": [
           {
            "marker": {
             "colorbar": {
              "outlinewidth": 0,
              "ticks": ""
             }
            },
            "type": "scatterpolar"
           }
          ],
          "scatterpolargl": [
           {
            "marker": {
             "colorbar": {
              "outlinewidth": 0,
              "ticks": ""
             }
            },
            "type": "scatterpolargl"
           }
          ],
          "scatterternary": [
           {
            "marker": {
             "colorbar": {
              "outlinewidth": 0,
              "ticks": ""
             }
            },
            "type": "scatterternary"
           }
          ],
          "surface": [
           {
            "colorbar": {
             "outlinewidth": 0,
             "ticks": ""
            },
            "colorscale": [
             [
              0,
              "#0d0887"
             ],
             [
              0.1111111111111111,
              "#46039f"
             ],
             [
              0.2222222222222222,
              "#7201a8"
             ],
             [
              0.3333333333333333,
              "#9c179e"
             ],
             [
              0.4444444444444444,
              "#bd3786"
             ],
             [
              0.5555555555555556,
              "#d8576b"
             ],
             [
              0.6666666666666666,
              "#ed7953"
             ],
             [
              0.7777777777777778,
              "#fb9f3a"
             ],
             [
              0.8888888888888888,
              "#fdca26"
             ],
             [
              1,
              "#f0f921"
             ]
            ],
            "type": "surface"
           }
          ],
          "table": [
           {
            "cells": {
             "fill": {
              "color": "#EBF0F8"
             },
             "line": {
              "color": "white"
             }
            },
            "header": {
             "fill": {
              "color": "#C8D4E3"
             },
             "line": {
              "color": "white"
             }
            },
            "type": "table"
           }
          ]
         },
         "layout": {
          "annotationdefaults": {
           "arrowcolor": "#2a3f5f",
           "arrowhead": 0,
           "arrowwidth": 1
          },
          "coloraxis": {
           "colorbar": {
            "outlinewidth": 0,
            "ticks": ""
           }
          },
          "colorscale": {
           "diverging": [
            [
             0,
             "#8e0152"
            ],
            [
             0.1,
             "#c51b7d"
            ],
            [
             0.2,
             "#de77ae"
            ],
            [
             0.3,
             "#f1b6da"
            ],
            [
             0.4,
             "#fde0ef"
            ],
            [
             0.5,
             "#f7f7f7"
            ],
            [
             0.6,
             "#e6f5d0"
            ],
            [
             0.7,
             "#b8e186"
            ],
            [
             0.8,
             "#7fbc41"
            ],
            [
             0.9,
             "#4d9221"
            ],
            [
             1,
             "#276419"
            ]
           ],
           "sequential": [
            [
             0,
             "#0d0887"
            ],
            [
             0.1111111111111111,
             "#46039f"
            ],
            [
             0.2222222222222222,
             "#7201a8"
            ],
            [
             0.3333333333333333,
             "#9c179e"
            ],
            [
             0.4444444444444444,
             "#bd3786"
            ],
            [
             0.5555555555555556,
             "#d8576b"
            ],
            [
             0.6666666666666666,
             "#ed7953"
            ],
            [
             0.7777777777777778,
             "#fb9f3a"
            ],
            [
             0.8888888888888888,
             "#fdca26"
            ],
            [
             1,
             "#f0f921"
            ]
           ],
           "sequentialminus": [
            [
             0,
             "#0d0887"
            ],
            [
             0.1111111111111111,
             "#46039f"
            ],
            [
             0.2222222222222222,
             "#7201a8"
            ],
            [
             0.3333333333333333,
             "#9c179e"
            ],
            [
             0.4444444444444444,
             "#bd3786"
            ],
            [
             0.5555555555555556,
             "#d8576b"
            ],
            [
             0.6666666666666666,
             "#ed7953"
            ],
            [
             0.7777777777777778,
             "#fb9f3a"
            ],
            [
             0.8888888888888888,
             "#fdca26"
            ],
            [
             1,
             "#f0f921"
            ]
           ]
          },
          "colorway": [
           "#636efa",
           "#EF553B",
           "#00cc96",
           "#ab63fa",
           "#FFA15A",
           "#19d3f3",
           "#FF6692",
           "#B6E880",
           "#FF97FF",
           "#FECB52"
          ],
          "font": {
           "color": "#2a3f5f"
          },
          "geo": {
           "bgcolor": "white",
           "lakecolor": "white",
           "landcolor": "#E5ECF6",
           "showlakes": true,
           "showland": true,
           "subunitcolor": "white"
          },
          "hoverlabel": {
           "align": "left"
          },
          "hovermode": "closest",
          "mapbox": {
           "style": "light"
          },
          "paper_bgcolor": "white",
          "plot_bgcolor": "#E5ECF6",
          "polar": {
           "angularaxis": {
            "gridcolor": "white",
            "linecolor": "white",
            "ticks": ""
           },
           "bgcolor": "#E5ECF6",
           "radialaxis": {
            "gridcolor": "white",
            "linecolor": "white",
            "ticks": ""
           }
          },
          "scene": {
           "xaxis": {
            "backgroundcolor": "#E5ECF6",
            "gridcolor": "white",
            "gridwidth": 2,
            "linecolor": "white",
            "showbackground": true,
            "ticks": "",
            "zerolinecolor": "white"
           },
           "yaxis": {
            "backgroundcolor": "#E5ECF6",
            "gridcolor": "white",
            "gridwidth": 2,
            "linecolor": "white",
            "showbackground": true,
            "ticks": "",
            "zerolinecolor": "white"
           },
           "zaxis": {
            "backgroundcolor": "#E5ECF6",
            "gridcolor": "white",
            "gridwidth": 2,
            "linecolor": "white",
            "showbackground": true,
            "ticks": "",
            "zerolinecolor": "white"
           }
          },
          "shapedefaults": {
           "line": {
            "color": "#2a3f5f"
           }
          },
          "ternary": {
           "aaxis": {
            "gridcolor": "white",
            "linecolor": "white",
            "ticks": ""
           },
           "baxis": {
            "gridcolor": "white",
            "linecolor": "white",
            "ticks": ""
           },
           "bgcolor": "#E5ECF6",
           "caxis": {
            "gridcolor": "white",
            "linecolor": "white",
            "ticks": ""
           }
          },
          "title": {
           "x": 0.05
          },
          "xaxis": {
           "automargin": true,
           "gridcolor": "white",
           "linecolor": "white",
           "ticks": "",
           "title": {
            "standoff": 15
           },
           "zerolinecolor": "white",
           "zerolinewidth": 2
          },
          "yaxis": {
           "automargin": true,
           "gridcolor": "white",
           "linecolor": "white",
           "ticks": "",
           "title": {
            "standoff": 15
           },
           "zerolinecolor": "white",
           "zerolinewidth": 2
          }
         }
        },
        "xaxis": {
         "anchor": "y",
         "domain": [
          0,
          0.45
         ]
        },
        "xaxis2": {
         "anchor": "y2",
         "domain": [
          0.55,
          1
         ]
        },
        "xaxis3": {
         "anchor": "y3",
         "domain": [
          0,
          1
         ]
        },
        "yaxis": {
         "anchor": "x",
         "domain": [
          0.625,
          1
         ]
        },
        "yaxis2": {
         "anchor": "x2",
         "domain": [
          0.625,
          1
         ]
        },
        "yaxis3": {
         "anchor": "x3",
         "domain": [
          0,
          0.375
         ]
        }
       }
      },
      "text/html": [
       "<div>\n",
       "        \n",
       "        \n",
       "            <div id=\"ab78dcfa-58bf-4d94-a0ad-2f1d7675d67f\" class=\"plotly-graph-div\" style=\"height:525px; width:100%;\"></div>\n",
       "            <script type=\"text/javascript\">\n",
       "                require([\"plotly\"], function(Plotly) {\n",
       "                    window.PLOTLYENV=window.PLOTLYENV || {};\n",
       "                    \n",
       "                if (document.getElementById(\"ab78dcfa-58bf-4d94-a0ad-2f1d7675d67f\")) {\n",
       "                    Plotly.newPlot(\n",
       "                        'ab78dcfa-58bf-4d94-a0ad-2f1d7675d67f',\n",
       "                        [{\"marker\": {\"color\": \"blue\"}, \"name\": \"Training path\", \"type\": \"scatter\", \"x\": [-0.0, -0.2, -0.25, -0.27, -0.8, -1.25, -2.53, -2.69, -2.02, -0.82, 0.45, 1.77, 3.1, 4.4, 5.73, 7.06, 8.38, 9.71, 11.1, 12.4, 13.67, 14.95, 16.23, 17.53, 18.82, 20.1, 21.42, 22.73, 24.02, 25.29, 26.51, 27.5, 26.32, 24.94, 23.55, 22.16, 20.8, 19.45, 18.11, 16.76, 13.95, 12.54, 11.15, 9.76, 8.37, 7.0, 5.63, 4.26, 2.95, 1.56, 0.21, -1.12, -2.39, -3.48, -2.14, -0.74, 0.64, 2.04, 3.48, 4.91, 6.31, 7.7, 9.08, 10.48, 11.88, 13.27, 14.67, 16.05, 17.4, 18.75, 20.11, 21.46, 22.79, 24.13, 25.53, 26.82, 27.7, 26.38, 25.0, 23.58, 22.17, 20.72, 19.26, 17.81, 16.36, 14.92, 13.48, 12.07, 10.67, 9.23, 7.78, 6.34, 4.9, 3.45, 1.99, 0.58, -0.82, -2.2, -2.82, -2.96, -1.69, -1.06, -0.89, 0.11, 0.04, 0.07, -0.11, -0.0, -0.2, -0.25], \"xaxis\": \"x\", \"y\": [0.0, -0.01, 0.32, 1.14, 2.06, 3.3, 3.69, 3.96, 5.03, 5.55, 5.67, 5.71, 5.69, 5.71, 5.77, 5.81, 5.86, 5.99, 6.09, 6.24, 6.43, 6.53, 6.51, 6.47, 6.53, 6.61, 6.68, 6.82, 6.87, 6.93, 6.88, 6.95, 6.94, 6.85, 6.88, 6.8, 6.71, 6.6, 6.55, 6.5, 6.45, 6.37, 6.27, 6.24, 6.27, 6.25, 6.26, 6.25, 6.05, 6.0, 6.01, 5.93, 5.95, 5.72, 5.75, 5.87, 5.85, 5.85, 5.87, 5.95, 6.04, 6.08, 6.1, 6.15, 6.2, 6.23, 6.3, 6.33, 6.4, 6.37, 6.4, 6.28, 6.24, 6.18, 6.32, 6.42, 6.53, 6.52, 6.46, 6.47, 6.51, 6.42, 6.37, 6.33, 6.33, 6.35, 6.41, 6.51, 6.59, 6.5, 6.42, 6.38, 6.24, 6.24, 6.21, 6.21, 6.25, 6.15, 5.3, 4.41, 4.09, 3.29, 2.17, 1.76, 1.74, 1.82, 1.47, 0.0, -0.01, 0.32], \"yaxis\": \"y\"}, {\"marker\": {\"color\": \"red\"}, \"name\": \"Testing Score\", \"type\": \"scatter\", \"x\": [-2.03, -2.97, -2.74, -1.95, -0.67, 0.68, 1.99, 3.33, 4.64, 5.87, 6.6, 6.73, 6.71, 6.72, 6.72, 6.43, 6.1, 6.08, 6.25, 6.6, 6.96, 7.89, 9.19, 10.55, 11.88, 13.24, 14.58, 15.92, 17.27, 18.6, 19.93, 21.23, 22.58, 23.84, 25.0, 25.99, 24.81, 23.43, 22.07, 20.72, 19.32, 17.92, 16.51, 15.12, 13.73, 12.35, 11.01, 9.68, 8.32, 7.0, 5.66, 4.28, 2.95, 1.6, 0.25, -1.09, -2.34, -2.86, -3.31, -2.38, -1.33, -1.23, -1.4, -1.22, -1.0, -1.15, -1.18, -2.36, -3.41, -3.95, -3.95, -3.96, -3.8, -3.78, -3.79, -3.6, -3.16, -2.83, -2.55, -1.85, -0.62, 0.64, 1.98, 3.29, 4.56, 5.78, 6.59, 6.69, 6.45, 6.21, 5.98, 5.82, 6.04, 6.12, 6.21, 6.43, 6.82, 7.58, 8.79, 10.08, 11.46, 12.78, 14.11, 15.43, 16.73, 18.06, 19.38, 20.68, 21.93, 23.18, 24.45, 25.76, 26.75, 25.5, 24.17, 22.88, 21.52, 20.19, 18.82, 17.48, 16.09, 14.74, 13.36, 12.03, 10.68, 9.34, 7.97, 6.61, 5.24, 3.86, 2.46, 1.05, -0.34, -1.67, -2.61, -3.07, -2.29, -1.2, -1.3, -1.42, -1.24, -1.16, -0.99, -1.04, 0.0, -0.06, -0.76, -1.03, -0.98, -2.03], \"xaxis\": \"x2\", \"y\": [3.5, 3.72, 3.86, 4.77, 4.95, 5.02, 5.13, 5.04, 5.04, 4.81, 3.85, 2.58, 1.26, -0.05, -1.35, -2.22, -1.44, -0.17, 1.12, 2.38, 3.69, 4.59, 4.9, 4.88, 4.88, 4.84, 4.71, 4.72, 4.78, 4.8, 4.82, 4.74, 4.81, 4.95, 4.75, 4.83, 4.95, 5.06, 5.16, 5.21, 5.29, 5.22, 5.28, 5.35, 5.42, 5.44, 5.41, 5.44, 5.41, 5.4, 5.58, 5.62, 5.69, 5.77, 5.85, 5.93, 5.98, 5.17, 4.47, 3.73, 3.46, 2.26, 1.17, 0.43, 1.29, 2.34, 3.61, 4.25, 3.46, 2.34, 1.11, -0.07, -0.82, 0.45, 1.79, 3.05, 4.12, 4.4, 4.67, 5.71, 5.92, 5.64, 5.5, 5.36, 5.1, 4.63, 3.79, 2.55, 1.35, 0.12, -1.11, -2.24, -2.0, -0.79, 0.48, 1.73, 2.95, 3.99, 4.48, 4.39, 4.27, 4.08, 4.06, 4.01, 3.7, 3.61, 3.56, 3.35, 3.05, 2.76, 2.51, 2.45, 2.8, 2.84, 2.97, 3.2, 3.4, 3.59, 3.82, 4.0, 4.21, 4.4, 4.52, 4.75, 4.88, 5.03, 5.23, 5.3, 5.62, 5.95, 6.17, 6.44, 6.58, 6.81, 6.31, 5.35, 4.55, 4.21, 3.11, 2.08, 1.66, 1.81, 1.86, 2.05, -0.0, -0.0, 0.75, 1.7, 2.82, 3.5], \"yaxis\": \"y2\"}, {\"marker\": {\"color\": \"blue\"}, \"name\": \"Training Score\", \"type\": \"scatter\", \"x\": [0, 1, 2, 3, 4, 5, 6, 7, 8, 9, 10, 11, 12, 13, 14, 15, 16, 17, 18, 19, 20, 21, 22, 23, 24, 25, 26, 27, 28, 29, 30, 31, 32, 33, 34, 35, 36, 37, 38, 39, 40, 41, 42, 43, 44, 45, 46, 47, 48, 49, 50, 51, 52, 53, 54, 55, 56, 57, 58, 59, 60], \"xaxis\": \"x3\", \"y\": [32.154591745270785, 37.18003125522518, 41.62504603912652, 45.446296763415994, 48.63353216799102, 50.77457395376382, 51.85470924836889, 51.60260169589665, 50.01785416161806, 47.32708267584, 43.57785923540343, 38.83448144166494, 33.181098573451635, 26.709123367844512, 19.51171482366832, 11.70974275476996, 3.4314629353883586, 5.19237837801389, 14.014948764929153, 22.877842900715713, 31.654229048273578, 40.21030747864372, 48.40638953204501, 56.10710364192746, 63.187503318338585, 69.54787079587577, 75.06881721822397, 79.58107027920948, 82.59408941204184, 84.0446214661287, 83.8979160255079, 82.15999654489764, 78.88535134571464, 74.52711269289131, 69.19210621248365, 62.965877493324754, 55.948635327698256, 48.24584480956268, 39.98608896149733, 31.299200568757023, 22.319159069745176, 13.463529774230448, 4.614223651487938, 4.091760773454878, 12.517790444124183, 20.53187709820859, 27.998088661851845, 34.787464816969184, 40.783442213775274, 45.795774447841, 49.65842407274694, 52.12626206148093, 53.477596527194564, 53.72901040423959, 52.8708522653548, 51.17131217465938, 48.681440042685935, 45.512770045724835, 41.93180360290278, 37.753319935719325, 33.001422284520764], \"yaxis\": \"y3\"}, {\"marker\": {\"color\": \"red\"}, \"name\": \"Testing Score\", \"type\": \"scatter\", \"x\": [0, 1, 2, 3, 4, 5, 6, 7, 8, 9, 10, 11, 12, 13, 14, 15, 16, 17, 18, 19, 20, 21, 22, 23, 24, 25, 26, 27, 28, 29, 30, 31, 32, 33, 34, 35, 36, 37, 38, 39, 40, 41, 42, 43, 44, 45, 46, 47, 48, 49, 50, 51, 52, 53, 54, 55, 56, 57, 58, 59, 60, 61, 62, 63, 64, 65, 66, 67, 68, 69, 70, 71, 72, 73, 74, 75, 76, 77, 78, 79, 80, 81, 82, 83, 84, 85, 86, 87, 88, 89, 90, 91, 92, 93, 94, 95, 96, 97, 98, 99, 100], \"xaxis\": \"x3\", \"y\": [1.198398303933848, 3.303006252158193, 7.641025816227588, 11.919856718394106, 16.25319057275118, 20.577332443717815, 24.83847730016683, 28.940333306252192, 32.73048979424558, 36.0947878277836, 38.812341632514055, 40.75628572065842, 42.06410049509836, 42.64560445885151, 42.427858105667525, 41.133323202816406, 38.755840168377524, 35.33203954643561, 31.261171468624255, 26.76235993463716, 21.87881165075531, 16.711682249660157, 11.510717018713448, 6.308023284629018, 0.911841782682794, 4.637212088047685, 10.195218405393286, 15.647159527627355, 20.816583965583327, 25.605926327033423, 30.029643532653676, 34.09798974505575, 37.75646281830146, 40.967428058445115, 43.70519466928754, 45.926435319160035, 47.63730134258704, 49.19988725452715, 50.462734784706, 51.3478852397484, 51.844247812585465, 51.953428271766626, 51.67854923752972, 51.06741379428473, 50.15549284188634, 48.96104646183267, 47.50013337393355, 45.79793909197385, 43.992476332318276, 42.20213899236664, 40.47452212231132, 38.87427072271549, 37.42941542971966, 36.16001110470634, 35.09911716267801, 34.27567162571824, 33.71064113048262, 33.40306949172858, 33.28799542534179, 33.321404698928546, 33.351618151016154, 33.36713480722597, 33.68700935691117, 34.23199743818897, 34.512208208749556, 34.218650755929716, 33.31276556485108, 31.741256539635962, 29.841328486667713, 27.765310105538813, 25.501165660936948, 23.065380953761107, 20.512204061550122, 17.753623872874794, 14.52973265097018, 10.839454698738074, 6.7832390860525145, 2.440345424565427, 2.0302108961817833, 6.5553679651230095, 11.146684124033316, 15.811456251497043, 20.472803930873944, 25.075099601379854, 29.524527993460033, 33.67402992850613, 37.39038970786171, 40.36343729736495, 42.35259346857061, 43.59401587619293, 44.0717128909193, 43.665727621788825, 42.28937370567534, 40.02916222483007, 36.92174852378297, 33.47242689510572, 29.33255433666082, 24.417618453426833, 18.907577534353237, 12.94849765229676, 6.812214216871228], \"yaxis\": \"y3\"}],\n",
       "                        {\"annotations\": [{\"font\": {\"size\": 16}, \"showarrow\": false, \"text\": \"Training plot\", \"x\": 0.225, \"xanchor\": \"center\", \"xref\": \"paper\", \"y\": 1.0, \"yanchor\": \"bottom\", \"yref\": \"paper\"}, {\"font\": {\"size\": 16}, \"showarrow\": false, \"text\": \"Testing plot\", \"x\": 0.775, \"xanchor\": \"center\", \"xref\": \"paper\", \"y\": 1.0, \"yanchor\": \"bottom\", \"yref\": \"paper\"}, {\"font\": {\"size\": 16}, \"showarrow\": false, \"text\": \"Anomaly score by t_SNE\", \"x\": 0.5, \"xanchor\": \"center\", \"xref\": \"paper\", \"y\": 0.375, \"yanchor\": \"bottom\", \"yref\": \"paper\"}], \"showlegend\": false, \"template\": {\"data\": {\"bar\": [{\"error_x\": {\"color\": \"#2a3f5f\"}, \"error_y\": {\"color\": \"#2a3f5f\"}, \"marker\": {\"line\": {\"color\": \"#E5ECF6\", \"width\": 0.5}}, \"type\": \"bar\"}], \"barpolar\": [{\"marker\": {\"line\": {\"color\": \"#E5ECF6\", \"width\": 0.5}}, \"type\": \"barpolar\"}], \"carpet\": [{\"aaxis\": {\"endlinecolor\": \"#2a3f5f\", \"gridcolor\": \"white\", \"linecolor\": \"white\", \"minorgridcolor\": \"white\", \"startlinecolor\": \"#2a3f5f\"}, \"baxis\": {\"endlinecolor\": \"#2a3f5f\", \"gridcolor\": \"white\", \"linecolor\": \"white\", \"minorgridcolor\": \"white\", \"startlinecolor\": \"#2a3f5f\"}, \"type\": \"carpet\"}], \"choropleth\": [{\"colorbar\": {\"outlinewidth\": 0, \"ticks\": \"\"}, \"type\": \"choropleth\"}], \"contour\": [{\"colorbar\": {\"outlinewidth\": 0, \"ticks\": \"\"}, \"colorscale\": [[0.0, \"#0d0887\"], [0.1111111111111111, \"#46039f\"], [0.2222222222222222, \"#7201a8\"], [0.3333333333333333, \"#9c179e\"], [0.4444444444444444, \"#bd3786\"], [0.5555555555555556, \"#d8576b\"], [0.6666666666666666, \"#ed7953\"], [0.7777777777777778, \"#fb9f3a\"], [0.8888888888888888, \"#fdca26\"], [1.0, \"#f0f921\"]], \"type\": \"contour\"}], \"contourcarpet\": [{\"colorbar\": {\"outlinewidth\": 0, \"ticks\": \"\"}, \"type\": \"contourcarpet\"}], \"heatmap\": [{\"colorbar\": {\"outlinewidth\": 0, \"ticks\": \"\"}, \"colorscale\": [[0.0, \"#0d0887\"], [0.1111111111111111, \"#46039f\"], [0.2222222222222222, \"#7201a8\"], [0.3333333333333333, \"#9c179e\"], [0.4444444444444444, \"#bd3786\"], [0.5555555555555556, \"#d8576b\"], [0.6666666666666666, \"#ed7953\"], [0.7777777777777778, \"#fb9f3a\"], [0.8888888888888888, \"#fdca26\"], [1.0, \"#f0f921\"]], \"type\": \"heatmap\"}], \"heatmapgl\": [{\"colorbar\": {\"outlinewidth\": 0, \"ticks\": \"\"}, \"colorscale\": [[0.0, \"#0d0887\"], [0.1111111111111111, \"#46039f\"], [0.2222222222222222, \"#7201a8\"], [0.3333333333333333, \"#9c179e\"], [0.4444444444444444, \"#bd3786\"], [0.5555555555555556, \"#d8576b\"], [0.6666666666666666, \"#ed7953\"], [0.7777777777777778, \"#fb9f3a\"], [0.8888888888888888, \"#fdca26\"], [1.0, \"#f0f921\"]], \"type\": \"heatmapgl\"}], \"histogram\": [{\"marker\": {\"colorbar\": {\"outlinewidth\": 0, \"ticks\": \"\"}}, \"type\": \"histogram\"}], \"histogram2d\": [{\"colorbar\": {\"outlinewidth\": 0, \"ticks\": \"\"}, \"colorscale\": [[0.0, \"#0d0887\"], [0.1111111111111111, \"#46039f\"], [0.2222222222222222, \"#7201a8\"], [0.3333333333333333, \"#9c179e\"], [0.4444444444444444, \"#bd3786\"], [0.5555555555555556, \"#d8576b\"], [0.6666666666666666, \"#ed7953\"], [0.7777777777777778, \"#fb9f3a\"], [0.8888888888888888, \"#fdca26\"], [1.0, \"#f0f921\"]], \"type\": \"histogram2d\"}], \"histogram2dcontour\": [{\"colorbar\": {\"outlinewidth\": 0, \"ticks\": \"\"}, \"colorscale\": [[0.0, \"#0d0887\"], [0.1111111111111111, \"#46039f\"], [0.2222222222222222, \"#7201a8\"], [0.3333333333333333, \"#9c179e\"], [0.4444444444444444, \"#bd3786\"], [0.5555555555555556, \"#d8576b\"], [0.6666666666666666, \"#ed7953\"], [0.7777777777777778, \"#fb9f3a\"], [0.8888888888888888, \"#fdca26\"], [1.0, \"#f0f921\"]], \"type\": \"histogram2dcontour\"}], \"mesh3d\": [{\"colorbar\": {\"outlinewidth\": 0, \"ticks\": \"\"}, \"type\": \"mesh3d\"}], \"parcoords\": [{\"line\": {\"colorbar\": {\"outlinewidth\": 0, \"ticks\": \"\"}}, \"type\": \"parcoords\"}], \"pie\": [{\"automargin\": true, \"type\": \"pie\"}], \"scatter\": [{\"marker\": {\"colorbar\": {\"outlinewidth\": 0, \"ticks\": \"\"}}, \"type\": \"scatter\"}], \"scatter3d\": [{\"line\": {\"colorbar\": {\"outlinewidth\": 0, \"ticks\": \"\"}}, \"marker\": {\"colorbar\": {\"outlinewidth\": 0, \"ticks\": \"\"}}, \"type\": \"scatter3d\"}], \"scattercarpet\": [{\"marker\": {\"colorbar\": {\"outlinewidth\": 0, \"ticks\": \"\"}}, \"type\": \"scattercarpet\"}], \"scattergeo\": [{\"marker\": {\"colorbar\": {\"outlinewidth\": 0, \"ticks\": \"\"}}, \"type\": \"scattergeo\"}], \"scattergl\": [{\"marker\": {\"colorbar\": {\"outlinewidth\": 0, \"ticks\": \"\"}}, \"type\": \"scattergl\"}], \"scattermapbox\": [{\"marker\": {\"colorbar\": {\"outlinewidth\": 0, \"ticks\": \"\"}}, \"type\": \"scattermapbox\"}], \"scatterpolar\": [{\"marker\": {\"colorbar\": {\"outlinewidth\": 0, \"ticks\": \"\"}}, \"type\": \"scatterpolar\"}], \"scatterpolargl\": [{\"marker\": {\"colorbar\": {\"outlinewidth\": 0, \"ticks\": \"\"}}, \"type\": \"scatterpolargl\"}], \"scatterternary\": [{\"marker\": {\"colorbar\": {\"outlinewidth\": 0, \"ticks\": \"\"}}, \"type\": \"scatterternary\"}], \"surface\": [{\"colorbar\": {\"outlinewidth\": 0, \"ticks\": \"\"}, \"colorscale\": [[0.0, \"#0d0887\"], [0.1111111111111111, \"#46039f\"], [0.2222222222222222, \"#7201a8\"], [0.3333333333333333, \"#9c179e\"], [0.4444444444444444, \"#bd3786\"], [0.5555555555555556, \"#d8576b\"], [0.6666666666666666, \"#ed7953\"], [0.7777777777777778, \"#fb9f3a\"], [0.8888888888888888, \"#fdca26\"], [1.0, \"#f0f921\"]], \"type\": \"surface\"}], \"table\": [{\"cells\": {\"fill\": {\"color\": \"#EBF0F8\"}, \"line\": {\"color\": \"white\"}}, \"header\": {\"fill\": {\"color\": \"#C8D4E3\"}, \"line\": {\"color\": \"white\"}}, \"type\": \"table\"}]}, \"layout\": {\"annotationdefaults\": {\"arrowcolor\": \"#2a3f5f\", \"arrowhead\": 0, \"arrowwidth\": 1}, \"coloraxis\": {\"colorbar\": {\"outlinewidth\": 0, \"ticks\": \"\"}}, \"colorscale\": {\"diverging\": [[0, \"#8e0152\"], [0.1, \"#c51b7d\"], [0.2, \"#de77ae\"], [0.3, \"#f1b6da\"], [0.4, \"#fde0ef\"], [0.5, \"#f7f7f7\"], [0.6, \"#e6f5d0\"], [0.7, \"#b8e186\"], [0.8, \"#7fbc41\"], [0.9, \"#4d9221\"], [1, \"#276419\"]], \"sequential\": [[0.0, \"#0d0887\"], [0.1111111111111111, \"#46039f\"], [0.2222222222222222, \"#7201a8\"], [0.3333333333333333, \"#9c179e\"], [0.4444444444444444, \"#bd3786\"], [0.5555555555555556, \"#d8576b\"], [0.6666666666666666, \"#ed7953\"], [0.7777777777777778, \"#fb9f3a\"], [0.8888888888888888, \"#fdca26\"], [1.0, \"#f0f921\"]], \"sequentialminus\": [[0.0, \"#0d0887\"], [0.1111111111111111, \"#46039f\"], [0.2222222222222222, \"#7201a8\"], [0.3333333333333333, \"#9c179e\"], [0.4444444444444444, \"#bd3786\"], [0.5555555555555556, \"#d8576b\"], [0.6666666666666666, \"#ed7953\"], [0.7777777777777778, \"#fb9f3a\"], [0.8888888888888888, \"#fdca26\"], [1.0, \"#f0f921\"]]}, \"colorway\": [\"#636efa\", \"#EF553B\", \"#00cc96\", \"#ab63fa\", \"#FFA15A\", \"#19d3f3\", \"#FF6692\", \"#B6E880\", \"#FF97FF\", \"#FECB52\"], \"font\": {\"color\": \"#2a3f5f\"}, \"geo\": {\"bgcolor\": \"white\", \"lakecolor\": \"white\", \"landcolor\": \"#E5ECF6\", \"showlakes\": true, \"showland\": true, \"subunitcolor\": \"white\"}, \"hoverlabel\": {\"align\": \"left\"}, \"hovermode\": \"closest\", \"mapbox\": {\"style\": \"light\"}, \"paper_bgcolor\": \"white\", \"plot_bgcolor\": \"#E5ECF6\", \"polar\": {\"angularaxis\": {\"gridcolor\": \"white\", \"linecolor\": \"white\", \"ticks\": \"\"}, \"bgcolor\": \"#E5ECF6\", \"radialaxis\": {\"gridcolor\": \"white\", \"linecolor\": \"white\", \"ticks\": \"\"}}, \"scene\": {\"xaxis\": {\"backgroundcolor\": \"#E5ECF6\", \"gridcolor\": \"white\", \"gridwidth\": 2, \"linecolor\": \"white\", \"showbackground\": true, \"ticks\": \"\", \"zerolinecolor\": \"white\"}, \"yaxis\": {\"backgroundcolor\": \"#E5ECF6\", \"gridcolor\": \"white\", \"gridwidth\": 2, \"linecolor\": \"white\", \"showbackground\": true, \"ticks\": \"\", \"zerolinecolor\": \"white\"}, \"zaxis\": {\"backgroundcolor\": \"#E5ECF6\", \"gridcolor\": \"white\", \"gridwidth\": 2, \"linecolor\": \"white\", \"showbackground\": true, \"ticks\": \"\", \"zerolinecolor\": \"white\"}}, \"shapedefaults\": {\"line\": {\"color\": \"#2a3f5f\"}}, \"ternary\": {\"aaxis\": {\"gridcolor\": \"white\", \"linecolor\": \"white\", \"ticks\": \"\"}, \"baxis\": {\"gridcolor\": \"white\", \"linecolor\": \"white\", \"ticks\": \"\"}, \"bgcolor\": \"#E5ECF6\", \"caxis\": {\"gridcolor\": \"white\", \"linecolor\": \"white\", \"ticks\": \"\"}}, \"title\": {\"x\": 0.05}, \"xaxis\": {\"automargin\": true, \"gridcolor\": \"white\", \"linecolor\": \"white\", \"ticks\": \"\", \"title\": {\"standoff\": 15}, \"zerolinecolor\": \"white\", \"zerolinewidth\": 2}, \"yaxis\": {\"automargin\": true, \"gridcolor\": \"white\", \"linecolor\": \"white\", \"ticks\": \"\", \"title\": {\"standoff\": 15}, \"zerolinecolor\": \"white\", \"zerolinewidth\": 2}}}, \"xaxis\": {\"anchor\": \"y\", \"domain\": [0.0, 0.45]}, \"xaxis2\": {\"anchor\": \"y2\", \"domain\": [0.55, 1.0]}, \"xaxis3\": {\"anchor\": \"y3\", \"domain\": [0.0, 1.0]}, \"yaxis\": {\"anchor\": \"x\", \"domain\": [0.625, 1.0]}, \"yaxis2\": {\"anchor\": \"x2\", \"domain\": [0.625, 1.0]}, \"yaxis3\": {\"anchor\": \"x3\", \"domain\": [0.0, 0.375]}},\n",
       "                        {\"responsive\": true}\n",
       "                    ).then(function(){\n",
       "                            \n",
       "var gd = document.getElementById('ab78dcfa-58bf-4d94-a0ad-2f1d7675d67f');\n",
       "var x = new MutationObserver(function (mutations, observer) {{\n",
       "        var display = window.getComputedStyle(gd).display;\n",
       "        if (!display || display === 'none') {{\n",
       "            console.log([gd, 'removed!']);\n",
       "            Plotly.purge(gd);\n",
       "            observer.disconnect();\n",
       "        }}\n",
       "}});\n",
       "\n",
       "// Listen for the removal of the full notebook cells\n",
       "var notebookContainer = gd.closest('#notebook-container');\n",
       "if (notebookContainer) {{\n",
       "    x.observe(notebookContainer, {childList: true});\n",
       "}}\n",
       "\n",
       "// Listen for the clearing of the current output cell\n",
       "var outputEl = gd.closest('.output');\n",
       "if (outputEl) {{\n",
       "    x.observe(outputEl, {childList: true});\n",
       "}}\n",
       "\n",
       "                        })\n",
       "                };\n",
       "                });\n",
       "            </script>\n",
       "        </div>"
      ]
     },
     "metadata": {},
     "output_type": "display_data"
    }
   ],
   "source": [
    "fig = make_subplots(rows=2, cols=2,specs=[[{}, {}], [{\"colspan\": 2}, None]],\n",
    "    subplot_titles=(\"Training plot\",\"Testing plot\", \"Anomaly score by t_SNE\"))\n",
    "fig.add_trace(go.Scatter(x=df[1], y=df[2], marker_color='blue',\n",
    "                        name=\"Training path\"),row=1, col=1)\n",
    "fig.add_trace(go.Scatter(x=df_test[1], y=df_test[2], marker_color='red',\n",
    "                        name=\"Testing Score\"),row=1, col=2)\n",
    "fig.add_trace(go.Scatter(x=list(range(len(dt_scores))), y=dt_scores[:], marker_color='blue',\n",
    "                         name=\"Training Score\"), row=2, col=1)\n",
    "fig.add_trace(go.Scatter(x=list(range(len(dj_scores))), y=dj_scores, marker_color='red',\n",
    "                        name=\"Testing Score\"), row=2, col=1)\n",
    "fig.update_layout(showlegend=False)\n"
   ]
  },
  {
   "cell_type": "code",
   "execution_count": null,
   "metadata": {},
   "outputs": [],
   "source": []
  },
  {
   "cell_type": "markdown",
   "metadata": {},
   "source": [
    "## Isomap\n",
    "One of the earliest approaches to manifold learning is the Isomap algorithm, short for Isometric Mapping. Isomap can be viewed as an extension of Multi-dimensional Scaling (MDS) or Kernel PCA. Isomap seeks a lower-dimensional embedding which maintains geodesic distances between all points.\n"
   ]
  },
  {
   "cell_type": "code",
   "execution_count": 60,
   "metadata": {
    "scrolled": false
   },
   "outputs": [
    {
     "data": {
      "application/vnd.plotly.v1+json": {
       "config": {
        "plotlyServerURL": "https://plot.ly"
       },
       "data": [
        {
         "type": "scatter",
         "x": [
          0,
          1,
          2,
          3,
          4,
          5,
          6,
          7,
          8,
          9
         ],
         "y": [
          158887.15435763542,
          105709.65603446394,
          23421.096113215503,
          2395.209734674127,
          1199.7733707637453,
          975.6463074013005,
          592.7418693605525,
          151.32916598978645,
          138.66353637760838,
          118.00836191566083
         ]
        }
       ],
       "layout": {
        "template": {
         "data": {
          "bar": [
           {
            "error_x": {
             "color": "#2a3f5f"
            },
            "error_y": {
             "color": "#2a3f5f"
            },
            "marker": {
             "line": {
              "color": "#E5ECF6",
              "width": 0.5
             }
            },
            "type": "bar"
           }
          ],
          "barpolar": [
           {
            "marker": {
             "line": {
              "color": "#E5ECF6",
              "width": 0.5
             }
            },
            "type": "barpolar"
           }
          ],
          "carpet": [
           {
            "aaxis": {
             "endlinecolor": "#2a3f5f",
             "gridcolor": "white",
             "linecolor": "white",
             "minorgridcolor": "white",
             "startlinecolor": "#2a3f5f"
            },
            "baxis": {
             "endlinecolor": "#2a3f5f",
             "gridcolor": "white",
             "linecolor": "white",
             "minorgridcolor": "white",
             "startlinecolor": "#2a3f5f"
            },
            "type": "carpet"
           }
          ],
          "choropleth": [
           {
            "colorbar": {
             "outlinewidth": 0,
             "ticks": ""
            },
            "type": "choropleth"
           }
          ],
          "contour": [
           {
            "colorbar": {
             "outlinewidth": 0,
             "ticks": ""
            },
            "colorscale": [
             [
              0,
              "#0d0887"
             ],
             [
              0.1111111111111111,
              "#46039f"
             ],
             [
              0.2222222222222222,
              "#7201a8"
             ],
             [
              0.3333333333333333,
              "#9c179e"
             ],
             [
              0.4444444444444444,
              "#bd3786"
             ],
             [
              0.5555555555555556,
              "#d8576b"
             ],
             [
              0.6666666666666666,
              "#ed7953"
             ],
             [
              0.7777777777777778,
              "#fb9f3a"
             ],
             [
              0.8888888888888888,
              "#fdca26"
             ],
             [
              1,
              "#f0f921"
             ]
            ],
            "type": "contour"
           }
          ],
          "contourcarpet": [
           {
            "colorbar": {
             "outlinewidth": 0,
             "ticks": ""
            },
            "type": "contourcarpet"
           }
          ],
          "heatmap": [
           {
            "colorbar": {
             "outlinewidth": 0,
             "ticks": ""
            },
            "colorscale": [
             [
              0,
              "#0d0887"
             ],
             [
              0.1111111111111111,
              "#46039f"
             ],
             [
              0.2222222222222222,
              "#7201a8"
             ],
             [
              0.3333333333333333,
              "#9c179e"
             ],
             [
              0.4444444444444444,
              "#bd3786"
             ],
             [
              0.5555555555555556,
              "#d8576b"
             ],
             [
              0.6666666666666666,
              "#ed7953"
             ],
             [
              0.7777777777777778,
              "#fb9f3a"
             ],
             [
              0.8888888888888888,
              "#fdca26"
             ],
             [
              1,
              "#f0f921"
             ]
            ],
            "type": "heatmap"
           }
          ],
          "heatmapgl": [
           {
            "colorbar": {
             "outlinewidth": 0,
             "ticks": ""
            },
            "colorscale": [
             [
              0,
              "#0d0887"
             ],
             [
              0.1111111111111111,
              "#46039f"
             ],
             [
              0.2222222222222222,
              "#7201a8"
             ],
             [
              0.3333333333333333,
              "#9c179e"
             ],
             [
              0.4444444444444444,
              "#bd3786"
             ],
             [
              0.5555555555555556,
              "#d8576b"
             ],
             [
              0.6666666666666666,
              "#ed7953"
             ],
             [
              0.7777777777777778,
              "#fb9f3a"
             ],
             [
              0.8888888888888888,
              "#fdca26"
             ],
             [
              1,
              "#f0f921"
             ]
            ],
            "type": "heatmapgl"
           }
          ],
          "histogram": [
           {
            "marker": {
             "colorbar": {
              "outlinewidth": 0,
              "ticks": ""
             }
            },
            "type": "histogram"
           }
          ],
          "histogram2d": [
           {
            "colorbar": {
             "outlinewidth": 0,
             "ticks": ""
            },
            "colorscale": [
             [
              0,
              "#0d0887"
             ],
             [
              0.1111111111111111,
              "#46039f"
             ],
             [
              0.2222222222222222,
              "#7201a8"
             ],
             [
              0.3333333333333333,
              "#9c179e"
             ],
             [
              0.4444444444444444,
              "#bd3786"
             ],
             [
              0.5555555555555556,
              "#d8576b"
             ],
             [
              0.6666666666666666,
              "#ed7953"
             ],
             [
              0.7777777777777778,
              "#fb9f3a"
             ],
             [
              0.8888888888888888,
              "#fdca26"
             ],
             [
              1,
              "#f0f921"
             ]
            ],
            "type": "histogram2d"
           }
          ],
          "histogram2dcontour": [
           {
            "colorbar": {
             "outlinewidth": 0,
             "ticks": ""
            },
            "colorscale": [
             [
              0,
              "#0d0887"
             ],
             [
              0.1111111111111111,
              "#46039f"
             ],
             [
              0.2222222222222222,
              "#7201a8"
             ],
             [
              0.3333333333333333,
              "#9c179e"
             ],
             [
              0.4444444444444444,
              "#bd3786"
             ],
             [
              0.5555555555555556,
              "#d8576b"
             ],
             [
              0.6666666666666666,
              "#ed7953"
             ],
             [
              0.7777777777777778,
              "#fb9f3a"
             ],
             [
              0.8888888888888888,
              "#fdca26"
             ],
             [
              1,
              "#f0f921"
             ]
            ],
            "type": "histogram2dcontour"
           }
          ],
          "mesh3d": [
           {
            "colorbar": {
             "outlinewidth": 0,
             "ticks": ""
            },
            "type": "mesh3d"
           }
          ],
          "parcoords": [
           {
            "line": {
             "colorbar": {
              "outlinewidth": 0,
              "ticks": ""
             }
            },
            "type": "parcoords"
           }
          ],
          "pie": [
           {
            "automargin": true,
            "type": "pie"
           }
          ],
          "scatter": [
           {
            "marker": {
             "colorbar": {
              "outlinewidth": 0,
              "ticks": ""
             }
            },
            "type": "scatter"
           }
          ],
          "scatter3d": [
           {
            "line": {
             "colorbar": {
              "outlinewidth": 0,
              "ticks": ""
             }
            },
            "marker": {
             "colorbar": {
              "outlinewidth": 0,
              "ticks": ""
             }
            },
            "type": "scatter3d"
           }
          ],
          "scattercarpet": [
           {
            "marker": {
             "colorbar": {
              "outlinewidth": 0,
              "ticks": ""
             }
            },
            "type": "scattercarpet"
           }
          ],
          "scattergeo": [
           {
            "marker": {
             "colorbar": {
              "outlinewidth": 0,
              "ticks": ""
             }
            },
            "type": "scattergeo"
           }
          ],
          "scattergl": [
           {
            "marker": {
             "colorbar": {
              "outlinewidth": 0,
              "ticks": ""
             }
            },
            "type": "scattergl"
           }
          ],
          "scattermapbox": [
           {
            "marker": {
             "colorbar": {
              "outlinewidth": 0,
              "ticks": ""
             }
            },
            "type": "scattermapbox"
           }
          ],
          "scatterpolar": [
           {
            "marker": {
             "colorbar": {
              "outlinewidth": 0,
              "ticks": ""
             }
            },
            "type": "scatterpolar"
           }
          ],
          "scatterpolargl": [
           {
            "marker": {
             "colorbar": {
              "outlinewidth": 0,
              "ticks": ""
             }
            },
            "type": "scatterpolargl"
           }
          ],
          "scatterternary": [
           {
            "marker": {
             "colorbar": {
              "outlinewidth": 0,
              "ticks": ""
             }
            },
            "type": "scatterternary"
           }
          ],
          "surface": [
           {
            "colorbar": {
             "outlinewidth": 0,
             "ticks": ""
            },
            "colorscale": [
             [
              0,
              "#0d0887"
             ],
             [
              0.1111111111111111,
              "#46039f"
             ],
             [
              0.2222222222222222,
              "#7201a8"
             ],
             [
              0.3333333333333333,
              "#9c179e"
             ],
             [
              0.4444444444444444,
              "#bd3786"
             ],
             [
              0.5555555555555556,
              "#d8576b"
             ],
             [
              0.6666666666666666,
              "#ed7953"
             ],
             [
              0.7777777777777778,
              "#fb9f3a"
             ],
             [
              0.8888888888888888,
              "#fdca26"
             ],
             [
              1,
              "#f0f921"
             ]
            ],
            "type": "surface"
           }
          ],
          "table": [
           {
            "cells": {
             "fill": {
              "color": "#EBF0F8"
             },
             "line": {
              "color": "white"
             }
            },
            "header": {
             "fill": {
              "color": "#C8D4E3"
             },
             "line": {
              "color": "white"
             }
            },
            "type": "table"
           }
          ]
         },
         "layout": {
          "annotationdefaults": {
           "arrowcolor": "#2a3f5f",
           "arrowhead": 0,
           "arrowwidth": 1
          },
          "coloraxis": {
           "colorbar": {
            "outlinewidth": 0,
            "ticks": ""
           }
          },
          "colorscale": {
           "diverging": [
            [
             0,
             "#8e0152"
            ],
            [
             0.1,
             "#c51b7d"
            ],
            [
             0.2,
             "#de77ae"
            ],
            [
             0.3,
             "#f1b6da"
            ],
            [
             0.4,
             "#fde0ef"
            ],
            [
             0.5,
             "#f7f7f7"
            ],
            [
             0.6,
             "#e6f5d0"
            ],
            [
             0.7,
             "#b8e186"
            ],
            [
             0.8,
             "#7fbc41"
            ],
            [
             0.9,
             "#4d9221"
            ],
            [
             1,
             "#276419"
            ]
           ],
           "sequential": [
            [
             0,
             "#0d0887"
            ],
            [
             0.1111111111111111,
             "#46039f"
            ],
            [
             0.2222222222222222,
             "#7201a8"
            ],
            [
             0.3333333333333333,
             "#9c179e"
            ],
            [
             0.4444444444444444,
             "#bd3786"
            ],
            [
             0.5555555555555556,
             "#d8576b"
            ],
            [
             0.6666666666666666,
             "#ed7953"
            ],
            [
             0.7777777777777778,
             "#fb9f3a"
            ],
            [
             0.8888888888888888,
             "#fdca26"
            ],
            [
             1,
             "#f0f921"
            ]
           ],
           "sequentialminus": [
            [
             0,
             "#0d0887"
            ],
            [
             0.1111111111111111,
             "#46039f"
            ],
            [
             0.2222222222222222,
             "#7201a8"
            ],
            [
             0.3333333333333333,
             "#9c179e"
            ],
            [
             0.4444444444444444,
             "#bd3786"
            ],
            [
             0.5555555555555556,
             "#d8576b"
            ],
            [
             0.6666666666666666,
             "#ed7953"
            ],
            [
             0.7777777777777778,
             "#fb9f3a"
            ],
            [
             0.8888888888888888,
             "#fdca26"
            ],
            [
             1,
             "#f0f921"
            ]
           ]
          },
          "colorway": [
           "#636efa",
           "#EF553B",
           "#00cc96",
           "#ab63fa",
           "#FFA15A",
           "#19d3f3",
           "#FF6692",
           "#B6E880",
           "#FF97FF",
           "#FECB52"
          ],
          "font": {
           "color": "#2a3f5f"
          },
          "geo": {
           "bgcolor": "white",
           "lakecolor": "white",
           "landcolor": "#E5ECF6",
           "showlakes": true,
           "showland": true,
           "subunitcolor": "white"
          },
          "hoverlabel": {
           "align": "left"
          },
          "hovermode": "closest",
          "mapbox": {
           "style": "light"
          },
          "paper_bgcolor": "white",
          "plot_bgcolor": "#E5ECF6",
          "polar": {
           "angularaxis": {
            "gridcolor": "white",
            "linecolor": "white",
            "ticks": ""
           },
           "bgcolor": "#E5ECF6",
           "radialaxis": {
            "gridcolor": "white",
            "linecolor": "white",
            "ticks": ""
           }
          },
          "scene": {
           "xaxis": {
            "backgroundcolor": "#E5ECF6",
            "gridcolor": "white",
            "gridwidth": 2,
            "linecolor": "white",
            "showbackground": true,
            "ticks": "",
            "zerolinecolor": "white"
           },
           "yaxis": {
            "backgroundcolor": "#E5ECF6",
            "gridcolor": "white",
            "gridwidth": 2,
            "linecolor": "white",
            "showbackground": true,
            "ticks": "",
            "zerolinecolor": "white"
           },
           "zaxis": {
            "backgroundcolor": "#E5ECF6",
            "gridcolor": "white",
            "gridwidth": 2,
            "linecolor": "white",
            "showbackground": true,
            "ticks": "",
            "zerolinecolor": "white"
           }
          },
          "shapedefaults": {
           "line": {
            "color": "#2a3f5f"
           }
          },
          "ternary": {
           "aaxis": {
            "gridcolor": "white",
            "linecolor": "white",
            "ticks": ""
           },
           "baxis": {
            "gridcolor": "white",
            "linecolor": "white",
            "ticks": ""
           },
           "bgcolor": "#E5ECF6",
           "caxis": {
            "gridcolor": "white",
            "linecolor": "white",
            "ticks": ""
           }
          },
          "title": {
           "x": 0.05
          },
          "xaxis": {
           "automargin": true,
           "gridcolor": "white",
           "linecolor": "white",
           "ticks": "",
           "title": {
            "standoff": 15
           },
           "zerolinecolor": "white",
           "zerolinewidth": 2
          },
          "yaxis": {
           "automargin": true,
           "gridcolor": "white",
           "linecolor": "white",
           "ticks": "",
           "title": {
            "standoff": 15
           },
           "zerolinecolor": "white",
           "zerolinewidth": 2
          }
         }
        },
        "title": {
         "text": "ScreePlot",
         "x": 0.5
        },
        "xaxis": {
         "title": {
          "text": "No of eigen values"
         }
        },
        "yaxis": {
         "title": {
          "text": "eigen value"
         }
        }
       }
      },
      "text/html": [
       "<div>\n",
       "        \n",
       "        \n",
       "            <div id=\"e2aab54f-676f-4b79-b0c9-8926559e33bb\" class=\"plotly-graph-div\" style=\"height:525px; width:100%;\"></div>\n",
       "            <script type=\"text/javascript\">\n",
       "                require([\"plotly\"], function(Plotly) {\n",
       "                    window.PLOTLYENV=window.PLOTLYENV || {};\n",
       "                    \n",
       "                if (document.getElementById(\"e2aab54f-676f-4b79-b0c9-8926559e33bb\")) {\n",
       "                    Plotly.newPlot(\n",
       "                        'e2aab54f-676f-4b79-b0c9-8926559e33bb',\n",
       "                        [{\"type\": \"scatter\", \"x\": [0, 1, 2, 3, 4, 5, 6, 7, 8, 9], \"y\": [158887.15435763542, 105709.65603446394, 23421.096113215503, 2395.209734674127, 1199.7733707637453, 975.6463074013005, 592.7418693605525, 151.32916598978645, 138.66353637760838, 118.00836191566083]}],\n",
       "                        {\"template\": {\"data\": {\"bar\": [{\"error_x\": {\"color\": \"#2a3f5f\"}, \"error_y\": {\"color\": \"#2a3f5f\"}, \"marker\": {\"line\": {\"color\": \"#E5ECF6\", \"width\": 0.5}}, \"type\": \"bar\"}], \"barpolar\": [{\"marker\": {\"line\": {\"color\": \"#E5ECF6\", \"width\": 0.5}}, \"type\": \"barpolar\"}], \"carpet\": [{\"aaxis\": {\"endlinecolor\": \"#2a3f5f\", \"gridcolor\": \"white\", \"linecolor\": \"white\", \"minorgridcolor\": \"white\", \"startlinecolor\": \"#2a3f5f\"}, \"baxis\": {\"endlinecolor\": \"#2a3f5f\", \"gridcolor\": \"white\", \"linecolor\": \"white\", \"minorgridcolor\": \"white\", \"startlinecolor\": \"#2a3f5f\"}, \"type\": \"carpet\"}], \"choropleth\": [{\"colorbar\": {\"outlinewidth\": 0, \"ticks\": \"\"}, \"type\": \"choropleth\"}], \"contour\": [{\"colorbar\": {\"outlinewidth\": 0, \"ticks\": \"\"}, \"colorscale\": [[0.0, \"#0d0887\"], [0.1111111111111111, \"#46039f\"], [0.2222222222222222, \"#7201a8\"], [0.3333333333333333, \"#9c179e\"], [0.4444444444444444, \"#bd3786\"], [0.5555555555555556, \"#d8576b\"], [0.6666666666666666, \"#ed7953\"], [0.7777777777777778, \"#fb9f3a\"], [0.8888888888888888, \"#fdca26\"], [1.0, \"#f0f921\"]], \"type\": \"contour\"}], \"contourcarpet\": [{\"colorbar\": {\"outlinewidth\": 0, \"ticks\": \"\"}, \"type\": \"contourcarpet\"}], \"heatmap\": [{\"colorbar\": {\"outlinewidth\": 0, \"ticks\": \"\"}, \"colorscale\": [[0.0, \"#0d0887\"], [0.1111111111111111, \"#46039f\"], [0.2222222222222222, \"#7201a8\"], [0.3333333333333333, \"#9c179e\"], [0.4444444444444444, \"#bd3786\"], [0.5555555555555556, \"#d8576b\"], [0.6666666666666666, \"#ed7953\"], [0.7777777777777778, \"#fb9f3a\"], [0.8888888888888888, \"#fdca26\"], [1.0, \"#f0f921\"]], \"type\": \"heatmap\"}], \"heatmapgl\": [{\"colorbar\": {\"outlinewidth\": 0, \"ticks\": \"\"}, \"colorscale\": [[0.0, \"#0d0887\"], [0.1111111111111111, \"#46039f\"], [0.2222222222222222, \"#7201a8\"], [0.3333333333333333, \"#9c179e\"], [0.4444444444444444, \"#bd3786\"], [0.5555555555555556, \"#d8576b\"], [0.6666666666666666, \"#ed7953\"], [0.7777777777777778, \"#fb9f3a\"], [0.8888888888888888, \"#fdca26\"], [1.0, \"#f0f921\"]], \"type\": \"heatmapgl\"}], \"histogram\": [{\"marker\": {\"colorbar\": {\"outlinewidth\": 0, \"ticks\": \"\"}}, \"type\": \"histogram\"}], \"histogram2d\": [{\"colorbar\": {\"outlinewidth\": 0, \"ticks\": \"\"}, \"colorscale\": [[0.0, \"#0d0887\"], [0.1111111111111111, \"#46039f\"], [0.2222222222222222, \"#7201a8\"], [0.3333333333333333, \"#9c179e\"], [0.4444444444444444, \"#bd3786\"], [0.5555555555555556, \"#d8576b\"], [0.6666666666666666, \"#ed7953\"], [0.7777777777777778, \"#fb9f3a\"], [0.8888888888888888, \"#fdca26\"], [1.0, \"#f0f921\"]], \"type\": \"histogram2d\"}], \"histogram2dcontour\": [{\"colorbar\": {\"outlinewidth\": 0, \"ticks\": \"\"}, \"colorscale\": [[0.0, \"#0d0887\"], [0.1111111111111111, \"#46039f\"], [0.2222222222222222, \"#7201a8\"], [0.3333333333333333, \"#9c179e\"], [0.4444444444444444, \"#bd3786\"], [0.5555555555555556, \"#d8576b\"], [0.6666666666666666, \"#ed7953\"], [0.7777777777777778, \"#fb9f3a\"], [0.8888888888888888, \"#fdca26\"], [1.0, \"#f0f921\"]], \"type\": \"histogram2dcontour\"}], \"mesh3d\": [{\"colorbar\": {\"outlinewidth\": 0, \"ticks\": \"\"}, \"type\": \"mesh3d\"}], \"parcoords\": [{\"line\": {\"colorbar\": {\"outlinewidth\": 0, \"ticks\": \"\"}}, \"type\": \"parcoords\"}], \"pie\": [{\"automargin\": true, \"type\": \"pie\"}], \"scatter\": [{\"marker\": {\"colorbar\": {\"outlinewidth\": 0, \"ticks\": \"\"}}, \"type\": \"scatter\"}], \"scatter3d\": [{\"line\": {\"colorbar\": {\"outlinewidth\": 0, \"ticks\": \"\"}}, \"marker\": {\"colorbar\": {\"outlinewidth\": 0, \"ticks\": \"\"}}, \"type\": \"scatter3d\"}], \"scattercarpet\": [{\"marker\": {\"colorbar\": {\"outlinewidth\": 0, \"ticks\": \"\"}}, \"type\": \"scattercarpet\"}], \"scattergeo\": [{\"marker\": {\"colorbar\": {\"outlinewidth\": 0, \"ticks\": \"\"}}, \"type\": \"scattergeo\"}], \"scattergl\": [{\"marker\": {\"colorbar\": {\"outlinewidth\": 0, \"ticks\": \"\"}}, \"type\": \"scattergl\"}], \"scattermapbox\": [{\"marker\": {\"colorbar\": {\"outlinewidth\": 0, \"ticks\": \"\"}}, \"type\": \"scattermapbox\"}], \"scatterpolar\": [{\"marker\": {\"colorbar\": {\"outlinewidth\": 0, \"ticks\": \"\"}}, \"type\": \"scatterpolar\"}], \"scatterpolargl\": [{\"marker\": {\"colorbar\": {\"outlinewidth\": 0, \"ticks\": \"\"}}, \"type\": \"scatterpolargl\"}], \"scatterternary\": [{\"marker\": {\"colorbar\": {\"outlinewidth\": 0, \"ticks\": \"\"}}, \"type\": \"scatterternary\"}], \"surface\": [{\"colorbar\": {\"outlinewidth\": 0, \"ticks\": \"\"}, \"colorscale\": [[0.0, \"#0d0887\"], [0.1111111111111111, \"#46039f\"], [0.2222222222222222, \"#7201a8\"], [0.3333333333333333, \"#9c179e\"], [0.4444444444444444, \"#bd3786\"], [0.5555555555555556, \"#d8576b\"], [0.6666666666666666, \"#ed7953\"], [0.7777777777777778, \"#fb9f3a\"], [0.8888888888888888, \"#fdca26\"], [1.0, \"#f0f921\"]], \"type\": \"surface\"}], \"table\": [{\"cells\": {\"fill\": {\"color\": \"#EBF0F8\"}, \"line\": {\"color\": \"white\"}}, \"header\": {\"fill\": {\"color\": \"#C8D4E3\"}, \"line\": {\"color\": \"white\"}}, \"type\": \"table\"}]}, \"layout\": {\"annotationdefaults\": {\"arrowcolor\": \"#2a3f5f\", \"arrowhead\": 0, \"arrowwidth\": 1}, \"coloraxis\": {\"colorbar\": {\"outlinewidth\": 0, \"ticks\": \"\"}}, \"colorscale\": {\"diverging\": [[0, \"#8e0152\"], [0.1, \"#c51b7d\"], [0.2, \"#de77ae\"], [0.3, \"#f1b6da\"], [0.4, \"#fde0ef\"], [0.5, \"#f7f7f7\"], [0.6, \"#e6f5d0\"], [0.7, \"#b8e186\"], [0.8, \"#7fbc41\"], [0.9, \"#4d9221\"], [1, \"#276419\"]], \"sequential\": [[0.0, \"#0d0887\"], [0.1111111111111111, \"#46039f\"], [0.2222222222222222, \"#7201a8\"], [0.3333333333333333, \"#9c179e\"], [0.4444444444444444, \"#bd3786\"], [0.5555555555555556, \"#d8576b\"], [0.6666666666666666, \"#ed7953\"], [0.7777777777777778, \"#fb9f3a\"], [0.8888888888888888, \"#fdca26\"], [1.0, \"#f0f921\"]], \"sequentialminus\": [[0.0, \"#0d0887\"], [0.1111111111111111, \"#46039f\"], [0.2222222222222222, \"#7201a8\"], [0.3333333333333333, \"#9c179e\"], [0.4444444444444444, \"#bd3786\"], [0.5555555555555556, \"#d8576b\"], [0.6666666666666666, \"#ed7953\"], [0.7777777777777778, \"#fb9f3a\"], [0.8888888888888888, \"#fdca26\"], [1.0, \"#f0f921\"]]}, \"colorway\": [\"#636efa\", \"#EF553B\", \"#00cc96\", \"#ab63fa\", \"#FFA15A\", \"#19d3f3\", \"#FF6692\", \"#B6E880\", \"#FF97FF\", \"#FECB52\"], \"font\": {\"color\": \"#2a3f5f\"}, \"geo\": {\"bgcolor\": \"white\", \"lakecolor\": \"white\", \"landcolor\": \"#E5ECF6\", \"showlakes\": true, \"showland\": true, \"subunitcolor\": \"white\"}, \"hoverlabel\": {\"align\": \"left\"}, \"hovermode\": \"closest\", \"mapbox\": {\"style\": \"light\"}, \"paper_bgcolor\": \"white\", \"plot_bgcolor\": \"#E5ECF6\", \"polar\": {\"angularaxis\": {\"gridcolor\": \"white\", \"linecolor\": \"white\", \"ticks\": \"\"}, \"bgcolor\": \"#E5ECF6\", \"radialaxis\": {\"gridcolor\": \"white\", \"linecolor\": \"white\", \"ticks\": \"\"}}, \"scene\": {\"xaxis\": {\"backgroundcolor\": \"#E5ECF6\", \"gridcolor\": \"white\", \"gridwidth\": 2, \"linecolor\": \"white\", \"showbackground\": true, \"ticks\": \"\", \"zerolinecolor\": \"white\"}, \"yaxis\": {\"backgroundcolor\": \"#E5ECF6\", \"gridcolor\": \"white\", \"gridwidth\": 2, \"linecolor\": \"white\", \"showbackground\": true, \"ticks\": \"\", \"zerolinecolor\": \"white\"}, \"zaxis\": {\"backgroundcolor\": \"#E5ECF6\", \"gridcolor\": \"white\", \"gridwidth\": 2, \"linecolor\": \"white\", \"showbackground\": true, \"ticks\": \"\", \"zerolinecolor\": \"white\"}}, \"shapedefaults\": {\"line\": {\"color\": \"#2a3f5f\"}}, \"ternary\": {\"aaxis\": {\"gridcolor\": \"white\", \"linecolor\": \"white\", \"ticks\": \"\"}, \"baxis\": {\"gridcolor\": \"white\", \"linecolor\": \"white\", \"ticks\": \"\"}, \"bgcolor\": \"#E5ECF6\", \"caxis\": {\"gridcolor\": \"white\", \"linecolor\": \"white\", \"ticks\": \"\"}}, \"title\": {\"x\": 0.05}, \"xaxis\": {\"automargin\": true, \"gridcolor\": \"white\", \"linecolor\": \"white\", \"ticks\": \"\", \"title\": {\"standoff\": 15}, \"zerolinecolor\": \"white\", \"zerolinewidth\": 2}, \"yaxis\": {\"automargin\": true, \"gridcolor\": \"white\", \"linecolor\": \"white\", \"ticks\": \"\", \"title\": {\"standoff\": 15}, \"zerolinecolor\": \"white\", \"zerolinewidth\": 2}}}, \"title\": {\"text\": \"ScreePlot\", \"x\": 0.5}, \"xaxis\": {\"title\": {\"text\": \"No of eigen values\"}}, \"yaxis\": {\"title\": {\"text\": \"eigen value\"}}},\n",
       "                        {\"responsive\": true}\n",
       "                    ).then(function(){\n",
       "                            \n",
       "var gd = document.getElementById('e2aab54f-676f-4b79-b0c9-8926559e33bb');\n",
       "var x = new MutationObserver(function (mutations, observer) {{\n",
       "        var display = window.getComputedStyle(gd).display;\n",
       "        if (!display || display === 'none') {{\n",
       "            console.log([gd, 'removed!']);\n",
       "            Plotly.purge(gd);\n",
       "            observer.disconnect();\n",
       "        }}\n",
       "}});\n",
       "\n",
       "// Listen for the removal of the full notebook cells\n",
       "var notebookContainer = gd.closest('#notebook-container');\n",
       "if (notebookContainer) {{\n",
       "    x.observe(notebookContainer, {childList: true});\n",
       "}}\n",
       "\n",
       "// Listen for the clearing of the current output cell\n",
       "var outputEl = gd.closest('.output');\n",
       "if (outputEl) {{\n",
       "    x.observe(outputEl, {childList: true});\n",
       "}}\n",
       "\n",
       "                        })\n",
       "                };\n",
       "                });\n",
       "            </script>\n",
       "        </div>"
      ]
     },
     "metadata": {},
     "output_type": "display_data"
    }
   ],
   "source": [
    "method=methods['Isomap']\n",
    "X_train_data = method.fit_transform(df)\n",
    "N = len(X_train_data)\n",
    "# L = (N)//2\n",
    "L =  50\n",
    "X_train = hankel(X_train_data[:L],X_train_data[L-1:]) # Creating trajectory matrix\n",
    "eigenValues, eigenVectors = eigh(np.matmul(X_train, X_train.T))\n",
    "idx = eigenValues.argsort()[::-1]\n",
    "eigenValues = eigenValues[idx]\n",
    "eigenVectors = eigenVectors[:,idx]\n",
    "# Sree plot\n",
    "\n",
    "eigen_data = go.Scatter(x=list(range(len(eigenValues[0:10]))), y=eigenValues[0:10])\n",
    "eigen_layout = go.Layout(title='ScreePlot', title_x=0.5, xaxis_title=\"No of eigen values\", yaxis_title=\"eigen value\",)\n",
    "fig = go.Figure(data=[eigen_data], layout=eigen_layout)\n",
    "fig.show()"
   ]
  },
  {
   "cell_type": "code",
   "execution_count": 47,
   "metadata": {},
   "outputs": [],
   "source": [
    "# Setting statistical dimension based on screeplot above\n",
    "r = 1\n",
    "# Performing singular value decomposition\n",
    "U, Sigma, V = np.linalg.svd(X_train)\n",
    "V = V.T\n",
    "X_elem = np.array( [Sigma[i] * np.outer(U[:,i], V[:,i]) for i in range(0,r)] )\n",
    "X_train_extracted = X_elem.sum(axis=0)\n",
    "U = eigenVectors[:,:r] # r as statistical dimension\n",
    "UT = U.T\n",
    "pX = np.matmul(UT,X_train_extracted)\n",
    "centroid = np.mean(pX, axis=1)\n",
    "centroid = centroid[:,np.newaxis]\n",
    "pXt = np.matmul(UT,X_train)\n",
    "dt_matrix = centroid - pXt\n",
    "dt_scores = np.linalg.norm(dt_matrix, axis=0, ord=2)\n",
    "\n",
    "# Testing positional Deviation\n",
    "X_test = method.fit_transform(df_test)\n",
    "Xj = hankel(X_test[:L],X_test[L-1:])\n",
    "pXj = np.matmul(UT, Xj)\n",
    "dj_matrix = centroid - pXj\n",
    "dj_scores = np.linalg.norm(dj_matrix, axis=0, ord=2)\n",
    "dj_scores = np.asarray(dj_scores)\n"
   ]
  },
  {
   "cell_type": "code",
   "execution_count": 48,
   "metadata": {},
   "outputs": [
    {
     "data": {
      "application/vnd.plotly.v1+json": {
       "config": {
        "plotlyServerURL": "https://plot.ly"
       },
       "data": [
        {
         "marker": {
          "color": "blue"
         },
         "name": "Training path",
         "type": "scatter",
         "x": [
          0,
          -0.2,
          -0.25,
          -0.27,
          -0.8,
          -1.25,
          -2.53,
          -2.69,
          -2.02,
          -0.82,
          0.45,
          1.77,
          3.1,
          4.4,
          5.73,
          7.06,
          8.38,
          9.71,
          11.1,
          12.4,
          13.67,
          14.95,
          16.23,
          17.53,
          18.82,
          20.1,
          21.42,
          22.73,
          24.02,
          25.29,
          26.51,
          27.5,
          26.32,
          24.94,
          23.55,
          22.16,
          20.8,
          19.45,
          18.11,
          16.76,
          13.95,
          12.54,
          11.15,
          9.76,
          8.37,
          7,
          5.63,
          4.26,
          2.95,
          1.56,
          0.21,
          -1.12,
          -2.39,
          -3.48,
          -2.14,
          -0.74,
          0.64,
          2.04,
          3.48,
          4.91,
          6.31,
          7.7,
          9.08,
          10.48,
          11.88,
          13.27,
          14.67,
          16.05,
          17.4,
          18.75,
          20.11,
          21.46,
          22.79,
          24.13,
          25.53,
          26.82,
          27.7,
          26.38,
          25,
          23.58,
          22.17,
          20.72,
          19.26,
          17.81,
          16.36,
          14.92,
          13.48,
          12.07,
          10.67,
          9.23,
          7.78,
          6.34,
          4.9,
          3.45,
          1.99,
          0.58,
          -0.82,
          -2.2,
          -2.82,
          -2.96,
          -1.69,
          -1.06,
          -0.89,
          0.11,
          0.04,
          0.07,
          -0.11,
          0,
          -0.2,
          -0.25
         ],
         "xaxis": "x",
         "y": [
          0,
          -0.01,
          0.32,
          1.14,
          2.06,
          3.3,
          3.69,
          3.96,
          5.03,
          5.55,
          5.67,
          5.71,
          5.69,
          5.71,
          5.77,
          5.81,
          5.86,
          5.99,
          6.09,
          6.24,
          6.43,
          6.53,
          6.51,
          6.47,
          6.53,
          6.61,
          6.68,
          6.82,
          6.87,
          6.93,
          6.88,
          6.95,
          6.94,
          6.85,
          6.88,
          6.8,
          6.71,
          6.6,
          6.55,
          6.5,
          6.45,
          6.37,
          6.27,
          6.24,
          6.27,
          6.25,
          6.26,
          6.25,
          6.05,
          6,
          6.01,
          5.93,
          5.95,
          5.72,
          5.75,
          5.87,
          5.85,
          5.85,
          5.87,
          5.95,
          6.04,
          6.08,
          6.1,
          6.15,
          6.2,
          6.23,
          6.3,
          6.33,
          6.4,
          6.37,
          6.4,
          6.28,
          6.24,
          6.18,
          6.32,
          6.42,
          6.53,
          6.52,
          6.46,
          6.47,
          6.51,
          6.42,
          6.37,
          6.33,
          6.33,
          6.35,
          6.41,
          6.51,
          6.59,
          6.5,
          6.42,
          6.38,
          6.24,
          6.24,
          6.21,
          6.21,
          6.25,
          6.15,
          5.3,
          4.41,
          4.09,
          3.29,
          2.17,
          1.76,
          1.74,
          1.82,
          1.47,
          0,
          -0.01,
          0.32
         ],
         "yaxis": "y"
        },
        {
         "marker": {
          "color": "red"
         },
         "name": "Testing Score",
         "type": "scatter",
         "x": [
          -2.03,
          -2.97,
          -2.74,
          -1.95,
          -0.67,
          0.68,
          1.99,
          3.33,
          4.64,
          5.87,
          6.6,
          6.73,
          6.71,
          6.72,
          6.72,
          6.43,
          6.1,
          6.08,
          6.25,
          6.6,
          6.96,
          7.89,
          9.19,
          10.55,
          11.88,
          13.24,
          14.58,
          15.92,
          17.27,
          18.6,
          19.93,
          21.23,
          22.58,
          23.84,
          25,
          25.99,
          24.81,
          23.43,
          22.07,
          20.72,
          19.32,
          17.92,
          16.51,
          15.12,
          13.73,
          12.35,
          11.01,
          9.68,
          8.32,
          7,
          5.66,
          4.28,
          2.95,
          1.6,
          0.25,
          -1.09,
          -2.34,
          -2.86,
          -3.31,
          -2.38,
          -1.33,
          -1.23,
          -1.4,
          -1.22,
          -1,
          -1.15,
          -1.18,
          -2.36,
          -3.41,
          -3.95,
          -3.95,
          -3.96,
          -3.8,
          -3.78,
          -3.79,
          -3.6,
          -3.16,
          -2.83,
          -2.55,
          -1.85,
          -0.62,
          0.64,
          1.98,
          3.29,
          4.56,
          5.78,
          6.59,
          6.69,
          6.45,
          6.21,
          5.98,
          5.82,
          6.04,
          6.12,
          6.21,
          6.43,
          6.82,
          7.58,
          8.79,
          10.08,
          11.46,
          12.78,
          14.11,
          15.43,
          16.73,
          18.06,
          19.38,
          20.68,
          21.93,
          23.18,
          24.45,
          25.76,
          26.75,
          25.5,
          24.17,
          22.88,
          21.52,
          20.19,
          18.82,
          17.48,
          16.09,
          14.74,
          13.36,
          12.03,
          10.68,
          9.34,
          7.97,
          6.61,
          5.24,
          3.86,
          2.46,
          1.05,
          -0.34,
          -1.67,
          -2.61,
          -3.07,
          -2.29,
          -1.2,
          -1.3,
          -1.42,
          -1.24,
          -1.16,
          -0.99,
          -1.04,
          0,
          -0.06,
          -0.76,
          -1.03,
          -0.98,
          -2.03
         ],
         "xaxis": "x2",
         "y": [
          3.5,
          3.72,
          3.86,
          4.77,
          4.95,
          5.02,
          5.13,
          5.04,
          5.04,
          4.81,
          3.85,
          2.58,
          1.26,
          -0.05,
          -1.35,
          -2.22,
          -1.44,
          -0.17,
          1.12,
          2.38,
          3.69,
          4.59,
          4.9,
          4.88,
          4.88,
          4.84,
          4.71,
          4.72,
          4.78,
          4.8,
          4.82,
          4.74,
          4.81,
          4.95,
          4.75,
          4.83,
          4.95,
          5.06,
          5.16,
          5.21,
          5.29,
          5.22,
          5.28,
          5.35,
          5.42,
          5.44,
          5.41,
          5.44,
          5.41,
          5.4,
          5.58,
          5.62,
          5.69,
          5.77,
          5.85,
          5.93,
          5.98,
          5.17,
          4.47,
          3.73,
          3.46,
          2.26,
          1.17,
          0.43,
          1.29,
          2.34,
          3.61,
          4.25,
          3.46,
          2.34,
          1.11,
          -0.07,
          -0.82,
          0.45,
          1.79,
          3.05,
          4.12,
          4.4,
          4.67,
          5.71,
          5.92,
          5.64,
          5.5,
          5.36,
          5.1,
          4.63,
          3.79,
          2.55,
          1.35,
          0.12,
          -1.11,
          -2.24,
          -2,
          -0.79,
          0.48,
          1.73,
          2.95,
          3.99,
          4.48,
          4.39,
          4.27,
          4.08,
          4.06,
          4.01,
          3.7,
          3.61,
          3.56,
          3.35,
          3.05,
          2.76,
          2.51,
          2.45,
          2.8,
          2.84,
          2.97,
          3.2,
          3.4,
          3.59,
          3.82,
          4,
          4.21,
          4.4,
          4.52,
          4.75,
          4.88,
          5.03,
          5.23,
          5.3,
          5.62,
          5.95,
          6.17,
          6.44,
          6.58,
          6.81,
          6.31,
          5.35,
          4.55,
          4.21,
          3.11,
          2.08,
          1.66,
          1.81,
          1.86,
          2.05,
          0,
          0,
          0.75,
          1.7,
          2.82,
          3.5
         ],
         "yaxis": "y2"
        },
        {
         "marker": {
          "color": "blue"
         },
         "name": "Training Score",
         "type": "scatter",
         "x": [
          0,
          1,
          2,
          3,
          4,
          5,
          6,
          7,
          8,
          9,
          10,
          11,
          12,
          13,
          14,
          15,
          16,
          17,
          18,
          19,
          20,
          21,
          22,
          23,
          24,
          25,
          26,
          27,
          28,
          29,
          30,
          31,
          32,
          33,
          34,
          35,
          36,
          37,
          38,
          39,
          40,
          41,
          42,
          43,
          44,
          45,
          46,
          47,
          48,
          49,
          50,
          51,
          52,
          53,
          54,
          55,
          56,
          57,
          58,
          59,
          60
         ],
         "xaxis": "x3",
         "y": [
          32.154591745270785,
          37.18003125522518,
          41.62504603912652,
          45.446296763415994,
          48.63353216799102,
          50.77457395376382,
          51.85470924836889,
          51.60260169589665,
          50.01785416161806,
          47.32708267584,
          43.57785923540343,
          38.83448144166494,
          33.181098573451635,
          26.709123367844512,
          19.51171482366832,
          11.70974275476996,
          3.4314629353883586,
          5.19237837801389,
          14.014948764929153,
          22.877842900715713,
          31.654229048273578,
          40.21030747864372,
          48.40638953204501,
          56.10710364192746,
          63.187503318338585,
          69.54787079587577,
          75.06881721822397,
          79.58107027920948,
          82.59408941204184,
          84.0446214661287,
          83.8979160255079,
          82.15999654489764,
          78.88535134571464,
          74.52711269289131,
          69.19210621248365,
          62.965877493324754,
          55.948635327698256,
          48.24584480956268,
          39.98608896149733,
          31.299200568757023,
          22.319159069745176,
          13.463529774230448,
          4.614223651487938,
          4.091760773454878,
          12.517790444124183,
          20.53187709820859,
          27.998088661851845,
          34.787464816969184,
          40.783442213775274,
          45.795774447841,
          49.65842407274694,
          52.12626206148093,
          53.477596527194564,
          53.72901040423959,
          52.8708522653548,
          51.17131217465938,
          48.681440042685935,
          45.512770045724835,
          41.93180360290278,
          37.753319935719325,
          33.001422284520764
         ],
         "yaxis": "y3"
        },
        {
         "marker": {
          "color": "red"
         },
         "name": "Testing Score",
         "type": "scatter",
         "x": [
          0,
          1,
          2,
          3,
          4,
          5,
          6,
          7,
          8,
          9,
          10,
          11,
          12,
          13,
          14,
          15,
          16,
          17,
          18,
          19,
          20,
          21,
          22,
          23,
          24,
          25,
          26,
          27,
          28,
          29,
          30,
          31,
          32,
          33,
          34,
          35,
          36,
          37,
          38,
          39,
          40,
          41,
          42,
          43,
          44,
          45,
          46,
          47,
          48,
          49,
          50,
          51,
          52,
          53,
          54,
          55,
          56,
          57,
          58,
          59,
          60,
          61,
          62,
          63,
          64,
          65,
          66,
          67,
          68,
          69,
          70,
          71,
          72,
          73,
          74,
          75,
          76,
          77,
          78,
          79,
          80,
          81,
          82,
          83,
          84,
          85,
          86,
          87,
          88,
          89,
          90,
          91,
          92,
          93,
          94,
          95,
          96,
          97,
          98,
          99,
          100
         ],
         "xaxis": "x3",
         "y": [
          1.198398303933848,
          3.303006252158193,
          7.641025816227588,
          11.919856718394106,
          16.25319057275118,
          20.577332443717815,
          24.83847730016683,
          28.940333306252192,
          32.73048979424558,
          36.0947878277836,
          38.812341632514055,
          40.75628572065842,
          42.06410049509836,
          42.64560445885151,
          42.427858105667525,
          41.133323202816406,
          38.755840168377524,
          35.33203954643561,
          31.261171468624255,
          26.76235993463716,
          21.87881165075531,
          16.711682249660157,
          11.510717018713448,
          6.308023284629018,
          0.911841782682794,
          4.637212088047685,
          10.195218405393286,
          15.647159527627355,
          20.816583965583327,
          25.605926327033423,
          30.029643532653676,
          34.09798974505575,
          37.75646281830146,
          40.967428058445115,
          43.70519466928754,
          45.926435319160035,
          47.63730134258704,
          49.19988725452715,
          50.462734784706,
          51.3478852397484,
          51.844247812585465,
          51.953428271766626,
          51.67854923752972,
          51.06741379428473,
          50.15549284188634,
          48.96104646183267,
          47.50013337393355,
          45.79793909197385,
          43.992476332318276,
          42.20213899236664,
          40.47452212231132,
          38.87427072271549,
          37.42941542971966,
          36.16001110470634,
          35.09911716267801,
          34.27567162571824,
          33.71064113048262,
          33.40306949172858,
          33.28799542534179,
          33.321404698928546,
          33.351618151016154,
          33.36713480722597,
          33.68700935691117,
          34.23199743818897,
          34.512208208749556,
          34.218650755929716,
          33.31276556485108,
          31.741256539635962,
          29.841328486667713,
          27.765310105538813,
          25.501165660936948,
          23.065380953761107,
          20.512204061550122,
          17.753623872874794,
          14.52973265097018,
          10.839454698738074,
          6.7832390860525145,
          2.440345424565427,
          2.0302108961817833,
          6.5553679651230095,
          11.146684124033316,
          15.811456251497043,
          20.472803930873944,
          25.075099601379854,
          29.524527993460033,
          33.67402992850613,
          37.39038970786171,
          40.36343729736495,
          42.35259346857061,
          43.59401587619293,
          44.0717128909193,
          43.665727621788825,
          42.28937370567534,
          40.02916222483007,
          36.92174852378297,
          33.47242689510572,
          29.33255433666082,
          24.417618453426833,
          18.907577534353237,
          12.94849765229676,
          6.812214216871228
         ],
         "yaxis": "y3"
        }
       ],
       "layout": {
        "annotations": [
         {
          "font": {
           "size": 16
          },
          "showarrow": false,
          "text": "Training plot",
          "x": 0.225,
          "xanchor": "center",
          "xref": "paper",
          "y": 1,
          "yanchor": "bottom",
          "yref": "paper"
         },
         {
          "font": {
           "size": 16
          },
          "showarrow": false,
          "text": "Testing plot",
          "x": 0.775,
          "xanchor": "center",
          "xref": "paper",
          "y": 1,
          "yanchor": "bottom",
          "yref": "paper"
         },
         {
          "font": {
           "size": 16
          },
          "showarrow": false,
          "text": "Anomaly score by Multidimensional scaling",
          "x": 0.5,
          "xanchor": "center",
          "xref": "paper",
          "y": 0.375,
          "yanchor": "bottom",
          "yref": "paper"
         }
        ],
        "showlegend": false,
        "template": {
         "data": {
          "bar": [
           {
            "error_x": {
             "color": "#2a3f5f"
            },
            "error_y": {
             "color": "#2a3f5f"
            },
            "marker": {
             "line": {
              "color": "#E5ECF6",
              "width": 0.5
             }
            },
            "type": "bar"
           }
          ],
          "barpolar": [
           {
            "marker": {
             "line": {
              "color": "#E5ECF6",
              "width": 0.5
             }
            },
            "type": "barpolar"
           }
          ],
          "carpet": [
           {
            "aaxis": {
             "endlinecolor": "#2a3f5f",
             "gridcolor": "white",
             "linecolor": "white",
             "minorgridcolor": "white",
             "startlinecolor": "#2a3f5f"
            },
            "baxis": {
             "endlinecolor": "#2a3f5f",
             "gridcolor": "white",
             "linecolor": "white",
             "minorgridcolor": "white",
             "startlinecolor": "#2a3f5f"
            },
            "type": "carpet"
           }
          ],
          "choropleth": [
           {
            "colorbar": {
             "outlinewidth": 0,
             "ticks": ""
            },
            "type": "choropleth"
           }
          ],
          "contour": [
           {
            "colorbar": {
             "outlinewidth": 0,
             "ticks": ""
            },
            "colorscale": [
             [
              0,
              "#0d0887"
             ],
             [
              0.1111111111111111,
              "#46039f"
             ],
             [
              0.2222222222222222,
              "#7201a8"
             ],
             [
              0.3333333333333333,
              "#9c179e"
             ],
             [
              0.4444444444444444,
              "#bd3786"
             ],
             [
              0.5555555555555556,
              "#d8576b"
             ],
             [
              0.6666666666666666,
              "#ed7953"
             ],
             [
              0.7777777777777778,
              "#fb9f3a"
             ],
             [
              0.8888888888888888,
              "#fdca26"
             ],
             [
              1,
              "#f0f921"
             ]
            ],
            "type": "contour"
           }
          ],
          "contourcarpet": [
           {
            "colorbar": {
             "outlinewidth": 0,
             "ticks": ""
            },
            "type": "contourcarpet"
           }
          ],
          "heatmap": [
           {
            "colorbar": {
             "outlinewidth": 0,
             "ticks": ""
            },
            "colorscale": [
             [
              0,
              "#0d0887"
             ],
             [
              0.1111111111111111,
              "#46039f"
             ],
             [
              0.2222222222222222,
              "#7201a8"
             ],
             [
              0.3333333333333333,
              "#9c179e"
             ],
             [
              0.4444444444444444,
              "#bd3786"
             ],
             [
              0.5555555555555556,
              "#d8576b"
             ],
             [
              0.6666666666666666,
              "#ed7953"
             ],
             [
              0.7777777777777778,
              "#fb9f3a"
             ],
             [
              0.8888888888888888,
              "#fdca26"
             ],
             [
              1,
              "#f0f921"
             ]
            ],
            "type": "heatmap"
           }
          ],
          "heatmapgl": [
           {
            "colorbar": {
             "outlinewidth": 0,
             "ticks": ""
            },
            "colorscale": [
             [
              0,
              "#0d0887"
             ],
             [
              0.1111111111111111,
              "#46039f"
             ],
             [
              0.2222222222222222,
              "#7201a8"
             ],
             [
              0.3333333333333333,
              "#9c179e"
             ],
             [
              0.4444444444444444,
              "#bd3786"
             ],
             [
              0.5555555555555556,
              "#d8576b"
             ],
             [
              0.6666666666666666,
              "#ed7953"
             ],
             [
              0.7777777777777778,
              "#fb9f3a"
             ],
             [
              0.8888888888888888,
              "#fdca26"
             ],
             [
              1,
              "#f0f921"
             ]
            ],
            "type": "heatmapgl"
           }
          ],
          "histogram": [
           {
            "marker": {
             "colorbar": {
              "outlinewidth": 0,
              "ticks": ""
             }
            },
            "type": "histogram"
           }
          ],
          "histogram2d": [
           {
            "colorbar": {
             "outlinewidth": 0,
             "ticks": ""
            },
            "colorscale": [
             [
              0,
              "#0d0887"
             ],
             [
              0.1111111111111111,
              "#46039f"
             ],
             [
              0.2222222222222222,
              "#7201a8"
             ],
             [
              0.3333333333333333,
              "#9c179e"
             ],
             [
              0.4444444444444444,
              "#bd3786"
             ],
             [
              0.5555555555555556,
              "#d8576b"
             ],
             [
              0.6666666666666666,
              "#ed7953"
             ],
             [
              0.7777777777777778,
              "#fb9f3a"
             ],
             [
              0.8888888888888888,
              "#fdca26"
             ],
             [
              1,
              "#f0f921"
             ]
            ],
            "type": "histogram2d"
           }
          ],
          "histogram2dcontour": [
           {
            "colorbar": {
             "outlinewidth": 0,
             "ticks": ""
            },
            "colorscale": [
             [
              0,
              "#0d0887"
             ],
             [
              0.1111111111111111,
              "#46039f"
             ],
             [
              0.2222222222222222,
              "#7201a8"
             ],
             [
              0.3333333333333333,
              "#9c179e"
             ],
             [
              0.4444444444444444,
              "#bd3786"
             ],
             [
              0.5555555555555556,
              "#d8576b"
             ],
             [
              0.6666666666666666,
              "#ed7953"
             ],
             [
              0.7777777777777778,
              "#fb9f3a"
             ],
             [
              0.8888888888888888,
              "#fdca26"
             ],
             [
              1,
              "#f0f921"
             ]
            ],
            "type": "histogram2dcontour"
           }
          ],
          "mesh3d": [
           {
            "colorbar": {
             "outlinewidth": 0,
             "ticks": ""
            },
            "type": "mesh3d"
           }
          ],
          "parcoords": [
           {
            "line": {
             "colorbar": {
              "outlinewidth": 0,
              "ticks": ""
             }
            },
            "type": "parcoords"
           }
          ],
          "pie": [
           {
            "automargin": true,
            "type": "pie"
           }
          ],
          "scatter": [
           {
            "marker": {
             "colorbar": {
              "outlinewidth": 0,
              "ticks": ""
             }
            },
            "type": "scatter"
           }
          ],
          "scatter3d": [
           {
            "line": {
             "colorbar": {
              "outlinewidth": 0,
              "ticks": ""
             }
            },
            "marker": {
             "colorbar": {
              "outlinewidth": 0,
              "ticks": ""
             }
            },
            "type": "scatter3d"
           }
          ],
          "scattercarpet": [
           {
            "marker": {
             "colorbar": {
              "outlinewidth": 0,
              "ticks": ""
             }
            },
            "type": "scattercarpet"
           }
          ],
          "scattergeo": [
           {
            "marker": {
             "colorbar": {
              "outlinewidth": 0,
              "ticks": ""
             }
            },
            "type": "scattergeo"
           }
          ],
          "scattergl": [
           {
            "marker": {
             "colorbar": {
              "outlinewidth": 0,
              "ticks": ""
             }
            },
            "type": "scattergl"
           }
          ],
          "scattermapbox": [
           {
            "marker": {
             "colorbar": {
              "outlinewidth": 0,
              "ticks": ""
             }
            },
            "type": "scattermapbox"
           }
          ],
          "scatterpolar": [
           {
            "marker": {
             "colorbar": {
              "outlinewidth": 0,
              "ticks": ""
             }
            },
            "type": "scatterpolar"
           }
          ],
          "scatterpolargl": [
           {
            "marker": {
             "colorbar": {
              "outlinewidth": 0,
              "ticks": ""
             }
            },
            "type": "scatterpolargl"
           }
          ],
          "scatterternary": [
           {
            "marker": {
             "colorbar": {
              "outlinewidth": 0,
              "ticks": ""
             }
            },
            "type": "scatterternary"
           }
          ],
          "surface": [
           {
            "colorbar": {
             "outlinewidth": 0,
             "ticks": ""
            },
            "colorscale": [
             [
              0,
              "#0d0887"
             ],
             [
              0.1111111111111111,
              "#46039f"
             ],
             [
              0.2222222222222222,
              "#7201a8"
             ],
             [
              0.3333333333333333,
              "#9c179e"
             ],
             [
              0.4444444444444444,
              "#bd3786"
             ],
             [
              0.5555555555555556,
              "#d8576b"
             ],
             [
              0.6666666666666666,
              "#ed7953"
             ],
             [
              0.7777777777777778,
              "#fb9f3a"
             ],
             [
              0.8888888888888888,
              "#fdca26"
             ],
             [
              1,
              "#f0f921"
             ]
            ],
            "type": "surface"
           }
          ],
          "table": [
           {
            "cells": {
             "fill": {
              "color": "#EBF0F8"
             },
             "line": {
              "color": "white"
             }
            },
            "header": {
             "fill": {
              "color": "#C8D4E3"
             },
             "line": {
              "color": "white"
             }
            },
            "type": "table"
           }
          ]
         },
         "layout": {
          "annotationdefaults": {
           "arrowcolor": "#2a3f5f",
           "arrowhead": 0,
           "arrowwidth": 1
          },
          "coloraxis": {
           "colorbar": {
            "outlinewidth": 0,
            "ticks": ""
           }
          },
          "colorscale": {
           "diverging": [
            [
             0,
             "#8e0152"
            ],
            [
             0.1,
             "#c51b7d"
            ],
            [
             0.2,
             "#de77ae"
            ],
            [
             0.3,
             "#f1b6da"
            ],
            [
             0.4,
             "#fde0ef"
            ],
            [
             0.5,
             "#f7f7f7"
            ],
            [
             0.6,
             "#e6f5d0"
            ],
            [
             0.7,
             "#b8e186"
            ],
            [
             0.8,
             "#7fbc41"
            ],
            [
             0.9,
             "#4d9221"
            ],
            [
             1,
             "#276419"
            ]
           ],
           "sequential": [
            [
             0,
             "#0d0887"
            ],
            [
             0.1111111111111111,
             "#46039f"
            ],
            [
             0.2222222222222222,
             "#7201a8"
            ],
            [
             0.3333333333333333,
             "#9c179e"
            ],
            [
             0.4444444444444444,
             "#bd3786"
            ],
            [
             0.5555555555555556,
             "#d8576b"
            ],
            [
             0.6666666666666666,
             "#ed7953"
            ],
            [
             0.7777777777777778,
             "#fb9f3a"
            ],
            [
             0.8888888888888888,
             "#fdca26"
            ],
            [
             1,
             "#f0f921"
            ]
           ],
           "sequentialminus": [
            [
             0,
             "#0d0887"
            ],
            [
             0.1111111111111111,
             "#46039f"
            ],
            [
             0.2222222222222222,
             "#7201a8"
            ],
            [
             0.3333333333333333,
             "#9c179e"
            ],
            [
             0.4444444444444444,
             "#bd3786"
            ],
            [
             0.5555555555555556,
             "#d8576b"
            ],
            [
             0.6666666666666666,
             "#ed7953"
            ],
            [
             0.7777777777777778,
             "#fb9f3a"
            ],
            [
             0.8888888888888888,
             "#fdca26"
            ],
            [
             1,
             "#f0f921"
            ]
           ]
          },
          "colorway": [
           "#636efa",
           "#EF553B",
           "#00cc96",
           "#ab63fa",
           "#FFA15A",
           "#19d3f3",
           "#FF6692",
           "#B6E880",
           "#FF97FF",
           "#FECB52"
          ],
          "font": {
           "color": "#2a3f5f"
          },
          "geo": {
           "bgcolor": "white",
           "lakecolor": "white",
           "landcolor": "#E5ECF6",
           "showlakes": true,
           "showland": true,
           "subunitcolor": "white"
          },
          "hoverlabel": {
           "align": "left"
          },
          "hovermode": "closest",
          "mapbox": {
           "style": "light"
          },
          "paper_bgcolor": "white",
          "plot_bgcolor": "#E5ECF6",
          "polar": {
           "angularaxis": {
            "gridcolor": "white",
            "linecolor": "white",
            "ticks": ""
           },
           "bgcolor": "#E5ECF6",
           "radialaxis": {
            "gridcolor": "white",
            "linecolor": "white",
            "ticks": ""
           }
          },
          "scene": {
           "xaxis": {
            "backgroundcolor": "#E5ECF6",
            "gridcolor": "white",
            "gridwidth": 2,
            "linecolor": "white",
            "showbackground": true,
            "ticks": "",
            "zerolinecolor": "white"
           },
           "yaxis": {
            "backgroundcolor": "#E5ECF6",
            "gridcolor": "white",
            "gridwidth": 2,
            "linecolor": "white",
            "showbackground": true,
            "ticks": "",
            "zerolinecolor": "white"
           },
           "zaxis": {
            "backgroundcolor": "#E5ECF6",
            "gridcolor": "white",
            "gridwidth": 2,
            "linecolor": "white",
            "showbackground": true,
            "ticks": "",
            "zerolinecolor": "white"
           }
          },
          "shapedefaults": {
           "line": {
            "color": "#2a3f5f"
           }
          },
          "ternary": {
           "aaxis": {
            "gridcolor": "white",
            "linecolor": "white",
            "ticks": ""
           },
           "baxis": {
            "gridcolor": "white",
            "linecolor": "white",
            "ticks": ""
           },
           "bgcolor": "#E5ECF6",
           "caxis": {
            "gridcolor": "white",
            "linecolor": "white",
            "ticks": ""
           }
          },
          "title": {
           "x": 0.05
          },
          "xaxis": {
           "automargin": true,
           "gridcolor": "white",
           "linecolor": "white",
           "ticks": "",
           "title": {
            "standoff": 15
           },
           "zerolinecolor": "white",
           "zerolinewidth": 2
          },
          "yaxis": {
           "automargin": true,
           "gridcolor": "white",
           "linecolor": "white",
           "ticks": "",
           "title": {
            "standoff": 15
           },
           "zerolinecolor": "white",
           "zerolinewidth": 2
          }
         }
        },
        "xaxis": {
         "anchor": "y",
         "domain": [
          0,
          0.45
         ]
        },
        "xaxis2": {
         "anchor": "y2",
         "domain": [
          0.55,
          1
         ]
        },
        "xaxis3": {
         "anchor": "y3",
         "domain": [
          0,
          1
         ]
        },
        "yaxis": {
         "anchor": "x",
         "domain": [
          0.625,
          1
         ]
        },
        "yaxis2": {
         "anchor": "x2",
         "domain": [
          0.625,
          1
         ]
        },
        "yaxis3": {
         "anchor": "x3",
         "domain": [
          0,
          0.375
         ]
        }
       }
      },
      "text/html": [
       "<div>\n",
       "        \n",
       "        \n",
       "            <div id=\"723e009f-ab15-4b60-a19e-d43dabb2e58b\" class=\"plotly-graph-div\" style=\"height:525px; width:100%;\"></div>\n",
       "            <script type=\"text/javascript\">\n",
       "                require([\"plotly\"], function(Plotly) {\n",
       "                    window.PLOTLYENV=window.PLOTLYENV || {};\n",
       "                    \n",
       "                if (document.getElementById(\"723e009f-ab15-4b60-a19e-d43dabb2e58b\")) {\n",
       "                    Plotly.newPlot(\n",
       "                        '723e009f-ab15-4b60-a19e-d43dabb2e58b',\n",
       "                        [{\"marker\": {\"color\": \"blue\"}, \"name\": \"Training path\", \"type\": \"scatter\", \"x\": [-0.0, -0.2, -0.25, -0.27, -0.8, -1.25, -2.53, -2.69, -2.02, -0.82, 0.45, 1.77, 3.1, 4.4, 5.73, 7.06, 8.38, 9.71, 11.1, 12.4, 13.67, 14.95, 16.23, 17.53, 18.82, 20.1, 21.42, 22.73, 24.02, 25.29, 26.51, 27.5, 26.32, 24.94, 23.55, 22.16, 20.8, 19.45, 18.11, 16.76, 13.95, 12.54, 11.15, 9.76, 8.37, 7.0, 5.63, 4.26, 2.95, 1.56, 0.21, -1.12, -2.39, -3.48, -2.14, -0.74, 0.64, 2.04, 3.48, 4.91, 6.31, 7.7, 9.08, 10.48, 11.88, 13.27, 14.67, 16.05, 17.4, 18.75, 20.11, 21.46, 22.79, 24.13, 25.53, 26.82, 27.7, 26.38, 25.0, 23.58, 22.17, 20.72, 19.26, 17.81, 16.36, 14.92, 13.48, 12.07, 10.67, 9.23, 7.78, 6.34, 4.9, 3.45, 1.99, 0.58, -0.82, -2.2, -2.82, -2.96, -1.69, -1.06, -0.89, 0.11, 0.04, 0.07, -0.11, -0.0, -0.2, -0.25], \"xaxis\": \"x\", \"y\": [0.0, -0.01, 0.32, 1.14, 2.06, 3.3, 3.69, 3.96, 5.03, 5.55, 5.67, 5.71, 5.69, 5.71, 5.77, 5.81, 5.86, 5.99, 6.09, 6.24, 6.43, 6.53, 6.51, 6.47, 6.53, 6.61, 6.68, 6.82, 6.87, 6.93, 6.88, 6.95, 6.94, 6.85, 6.88, 6.8, 6.71, 6.6, 6.55, 6.5, 6.45, 6.37, 6.27, 6.24, 6.27, 6.25, 6.26, 6.25, 6.05, 6.0, 6.01, 5.93, 5.95, 5.72, 5.75, 5.87, 5.85, 5.85, 5.87, 5.95, 6.04, 6.08, 6.1, 6.15, 6.2, 6.23, 6.3, 6.33, 6.4, 6.37, 6.4, 6.28, 6.24, 6.18, 6.32, 6.42, 6.53, 6.52, 6.46, 6.47, 6.51, 6.42, 6.37, 6.33, 6.33, 6.35, 6.41, 6.51, 6.59, 6.5, 6.42, 6.38, 6.24, 6.24, 6.21, 6.21, 6.25, 6.15, 5.3, 4.41, 4.09, 3.29, 2.17, 1.76, 1.74, 1.82, 1.47, 0.0, -0.01, 0.32], \"yaxis\": \"y\"}, {\"marker\": {\"color\": \"red\"}, \"name\": \"Testing Score\", \"type\": \"scatter\", \"x\": [-2.03, -2.97, -2.74, -1.95, -0.67, 0.68, 1.99, 3.33, 4.64, 5.87, 6.6, 6.73, 6.71, 6.72, 6.72, 6.43, 6.1, 6.08, 6.25, 6.6, 6.96, 7.89, 9.19, 10.55, 11.88, 13.24, 14.58, 15.92, 17.27, 18.6, 19.93, 21.23, 22.58, 23.84, 25.0, 25.99, 24.81, 23.43, 22.07, 20.72, 19.32, 17.92, 16.51, 15.12, 13.73, 12.35, 11.01, 9.68, 8.32, 7.0, 5.66, 4.28, 2.95, 1.6, 0.25, -1.09, -2.34, -2.86, -3.31, -2.38, -1.33, -1.23, -1.4, -1.22, -1.0, -1.15, -1.18, -2.36, -3.41, -3.95, -3.95, -3.96, -3.8, -3.78, -3.79, -3.6, -3.16, -2.83, -2.55, -1.85, -0.62, 0.64, 1.98, 3.29, 4.56, 5.78, 6.59, 6.69, 6.45, 6.21, 5.98, 5.82, 6.04, 6.12, 6.21, 6.43, 6.82, 7.58, 8.79, 10.08, 11.46, 12.78, 14.11, 15.43, 16.73, 18.06, 19.38, 20.68, 21.93, 23.18, 24.45, 25.76, 26.75, 25.5, 24.17, 22.88, 21.52, 20.19, 18.82, 17.48, 16.09, 14.74, 13.36, 12.03, 10.68, 9.34, 7.97, 6.61, 5.24, 3.86, 2.46, 1.05, -0.34, -1.67, -2.61, -3.07, -2.29, -1.2, -1.3, -1.42, -1.24, -1.16, -0.99, -1.04, 0.0, -0.06, -0.76, -1.03, -0.98, -2.03], \"xaxis\": \"x2\", \"y\": [3.5, 3.72, 3.86, 4.77, 4.95, 5.02, 5.13, 5.04, 5.04, 4.81, 3.85, 2.58, 1.26, -0.05, -1.35, -2.22, -1.44, -0.17, 1.12, 2.38, 3.69, 4.59, 4.9, 4.88, 4.88, 4.84, 4.71, 4.72, 4.78, 4.8, 4.82, 4.74, 4.81, 4.95, 4.75, 4.83, 4.95, 5.06, 5.16, 5.21, 5.29, 5.22, 5.28, 5.35, 5.42, 5.44, 5.41, 5.44, 5.41, 5.4, 5.58, 5.62, 5.69, 5.77, 5.85, 5.93, 5.98, 5.17, 4.47, 3.73, 3.46, 2.26, 1.17, 0.43, 1.29, 2.34, 3.61, 4.25, 3.46, 2.34, 1.11, -0.07, -0.82, 0.45, 1.79, 3.05, 4.12, 4.4, 4.67, 5.71, 5.92, 5.64, 5.5, 5.36, 5.1, 4.63, 3.79, 2.55, 1.35, 0.12, -1.11, -2.24, -2.0, -0.79, 0.48, 1.73, 2.95, 3.99, 4.48, 4.39, 4.27, 4.08, 4.06, 4.01, 3.7, 3.61, 3.56, 3.35, 3.05, 2.76, 2.51, 2.45, 2.8, 2.84, 2.97, 3.2, 3.4, 3.59, 3.82, 4.0, 4.21, 4.4, 4.52, 4.75, 4.88, 5.03, 5.23, 5.3, 5.62, 5.95, 6.17, 6.44, 6.58, 6.81, 6.31, 5.35, 4.55, 4.21, 3.11, 2.08, 1.66, 1.81, 1.86, 2.05, -0.0, -0.0, 0.75, 1.7, 2.82, 3.5], \"yaxis\": \"y2\"}, {\"marker\": {\"color\": \"blue\"}, \"name\": \"Training Score\", \"type\": \"scatter\", \"x\": [0, 1, 2, 3, 4, 5, 6, 7, 8, 9, 10, 11, 12, 13, 14, 15, 16, 17, 18, 19, 20, 21, 22, 23, 24, 25, 26, 27, 28, 29, 30, 31, 32, 33, 34, 35, 36, 37, 38, 39, 40, 41, 42, 43, 44, 45, 46, 47, 48, 49, 50, 51, 52, 53, 54, 55, 56, 57, 58, 59, 60], \"xaxis\": \"x3\", \"y\": [32.154591745270785, 37.18003125522518, 41.62504603912652, 45.446296763415994, 48.63353216799102, 50.77457395376382, 51.85470924836889, 51.60260169589665, 50.01785416161806, 47.32708267584, 43.57785923540343, 38.83448144166494, 33.181098573451635, 26.709123367844512, 19.51171482366832, 11.70974275476996, 3.4314629353883586, 5.19237837801389, 14.014948764929153, 22.877842900715713, 31.654229048273578, 40.21030747864372, 48.40638953204501, 56.10710364192746, 63.187503318338585, 69.54787079587577, 75.06881721822397, 79.58107027920948, 82.59408941204184, 84.0446214661287, 83.8979160255079, 82.15999654489764, 78.88535134571464, 74.52711269289131, 69.19210621248365, 62.965877493324754, 55.948635327698256, 48.24584480956268, 39.98608896149733, 31.299200568757023, 22.319159069745176, 13.463529774230448, 4.614223651487938, 4.091760773454878, 12.517790444124183, 20.53187709820859, 27.998088661851845, 34.787464816969184, 40.783442213775274, 45.795774447841, 49.65842407274694, 52.12626206148093, 53.477596527194564, 53.72901040423959, 52.8708522653548, 51.17131217465938, 48.681440042685935, 45.512770045724835, 41.93180360290278, 37.753319935719325, 33.001422284520764], \"yaxis\": \"y3\"}, {\"marker\": {\"color\": \"red\"}, \"name\": \"Testing Score\", \"type\": \"scatter\", \"x\": [0, 1, 2, 3, 4, 5, 6, 7, 8, 9, 10, 11, 12, 13, 14, 15, 16, 17, 18, 19, 20, 21, 22, 23, 24, 25, 26, 27, 28, 29, 30, 31, 32, 33, 34, 35, 36, 37, 38, 39, 40, 41, 42, 43, 44, 45, 46, 47, 48, 49, 50, 51, 52, 53, 54, 55, 56, 57, 58, 59, 60, 61, 62, 63, 64, 65, 66, 67, 68, 69, 70, 71, 72, 73, 74, 75, 76, 77, 78, 79, 80, 81, 82, 83, 84, 85, 86, 87, 88, 89, 90, 91, 92, 93, 94, 95, 96, 97, 98, 99, 100], \"xaxis\": \"x3\", \"y\": [1.198398303933848, 3.303006252158193, 7.641025816227588, 11.919856718394106, 16.25319057275118, 20.577332443717815, 24.83847730016683, 28.940333306252192, 32.73048979424558, 36.0947878277836, 38.812341632514055, 40.75628572065842, 42.06410049509836, 42.64560445885151, 42.427858105667525, 41.133323202816406, 38.755840168377524, 35.33203954643561, 31.261171468624255, 26.76235993463716, 21.87881165075531, 16.711682249660157, 11.510717018713448, 6.308023284629018, 0.911841782682794, 4.637212088047685, 10.195218405393286, 15.647159527627355, 20.816583965583327, 25.605926327033423, 30.029643532653676, 34.09798974505575, 37.75646281830146, 40.967428058445115, 43.70519466928754, 45.926435319160035, 47.63730134258704, 49.19988725452715, 50.462734784706, 51.3478852397484, 51.844247812585465, 51.953428271766626, 51.67854923752972, 51.06741379428473, 50.15549284188634, 48.96104646183267, 47.50013337393355, 45.79793909197385, 43.992476332318276, 42.20213899236664, 40.47452212231132, 38.87427072271549, 37.42941542971966, 36.16001110470634, 35.09911716267801, 34.27567162571824, 33.71064113048262, 33.40306949172858, 33.28799542534179, 33.321404698928546, 33.351618151016154, 33.36713480722597, 33.68700935691117, 34.23199743818897, 34.512208208749556, 34.218650755929716, 33.31276556485108, 31.741256539635962, 29.841328486667713, 27.765310105538813, 25.501165660936948, 23.065380953761107, 20.512204061550122, 17.753623872874794, 14.52973265097018, 10.839454698738074, 6.7832390860525145, 2.440345424565427, 2.0302108961817833, 6.5553679651230095, 11.146684124033316, 15.811456251497043, 20.472803930873944, 25.075099601379854, 29.524527993460033, 33.67402992850613, 37.39038970786171, 40.36343729736495, 42.35259346857061, 43.59401587619293, 44.0717128909193, 43.665727621788825, 42.28937370567534, 40.02916222483007, 36.92174852378297, 33.47242689510572, 29.33255433666082, 24.417618453426833, 18.907577534353237, 12.94849765229676, 6.812214216871228], \"yaxis\": \"y3\"}],\n",
       "                        {\"annotations\": [{\"font\": {\"size\": 16}, \"showarrow\": false, \"text\": \"Training plot\", \"x\": 0.225, \"xanchor\": \"center\", \"xref\": \"paper\", \"y\": 1.0, \"yanchor\": \"bottom\", \"yref\": \"paper\"}, {\"font\": {\"size\": 16}, \"showarrow\": false, \"text\": \"Testing plot\", \"x\": 0.775, \"xanchor\": \"center\", \"xref\": \"paper\", \"y\": 1.0, \"yanchor\": \"bottom\", \"yref\": \"paper\"}, {\"font\": {\"size\": 16}, \"showarrow\": false, \"text\": \"Anomaly score by Multidimensional scaling\", \"x\": 0.5, \"xanchor\": \"center\", \"xref\": \"paper\", \"y\": 0.375, \"yanchor\": \"bottom\", \"yref\": \"paper\"}], \"showlegend\": false, \"template\": {\"data\": {\"bar\": [{\"error_x\": {\"color\": \"#2a3f5f\"}, \"error_y\": {\"color\": \"#2a3f5f\"}, \"marker\": {\"line\": {\"color\": \"#E5ECF6\", \"width\": 0.5}}, \"type\": \"bar\"}], \"barpolar\": [{\"marker\": {\"line\": {\"color\": \"#E5ECF6\", \"width\": 0.5}}, \"type\": \"barpolar\"}], \"carpet\": [{\"aaxis\": {\"endlinecolor\": \"#2a3f5f\", \"gridcolor\": \"white\", \"linecolor\": \"white\", \"minorgridcolor\": \"white\", \"startlinecolor\": \"#2a3f5f\"}, \"baxis\": {\"endlinecolor\": \"#2a3f5f\", \"gridcolor\": \"white\", \"linecolor\": \"white\", \"minorgridcolor\": \"white\", \"startlinecolor\": \"#2a3f5f\"}, \"type\": \"carpet\"}], \"choropleth\": [{\"colorbar\": {\"outlinewidth\": 0, \"ticks\": \"\"}, \"type\": \"choropleth\"}], \"contour\": [{\"colorbar\": {\"outlinewidth\": 0, \"ticks\": \"\"}, \"colorscale\": [[0.0, \"#0d0887\"], [0.1111111111111111, \"#46039f\"], [0.2222222222222222, \"#7201a8\"], [0.3333333333333333, \"#9c179e\"], [0.4444444444444444, \"#bd3786\"], [0.5555555555555556, \"#d8576b\"], [0.6666666666666666, \"#ed7953\"], [0.7777777777777778, \"#fb9f3a\"], [0.8888888888888888, \"#fdca26\"], [1.0, \"#f0f921\"]], \"type\": \"contour\"}], \"contourcarpet\": [{\"colorbar\": {\"outlinewidth\": 0, \"ticks\": \"\"}, \"type\": \"contourcarpet\"}], \"heatmap\": [{\"colorbar\": {\"outlinewidth\": 0, \"ticks\": \"\"}, \"colorscale\": [[0.0, \"#0d0887\"], [0.1111111111111111, \"#46039f\"], [0.2222222222222222, \"#7201a8\"], [0.3333333333333333, \"#9c179e\"], [0.4444444444444444, \"#bd3786\"], [0.5555555555555556, \"#d8576b\"], [0.6666666666666666, \"#ed7953\"], [0.7777777777777778, \"#fb9f3a\"], [0.8888888888888888, \"#fdca26\"], [1.0, \"#f0f921\"]], \"type\": \"heatmap\"}], \"heatmapgl\": [{\"colorbar\": {\"outlinewidth\": 0, \"ticks\": \"\"}, \"colorscale\": [[0.0, \"#0d0887\"], [0.1111111111111111, \"#46039f\"], [0.2222222222222222, \"#7201a8\"], [0.3333333333333333, \"#9c179e\"], [0.4444444444444444, \"#bd3786\"], [0.5555555555555556, \"#d8576b\"], [0.6666666666666666, \"#ed7953\"], [0.7777777777777778, \"#fb9f3a\"], [0.8888888888888888, \"#fdca26\"], [1.0, \"#f0f921\"]], \"type\": \"heatmapgl\"}], \"histogram\": [{\"marker\": {\"colorbar\": {\"outlinewidth\": 0, \"ticks\": \"\"}}, \"type\": \"histogram\"}], \"histogram2d\": [{\"colorbar\": {\"outlinewidth\": 0, \"ticks\": \"\"}, \"colorscale\": [[0.0, \"#0d0887\"], [0.1111111111111111, \"#46039f\"], [0.2222222222222222, \"#7201a8\"], [0.3333333333333333, \"#9c179e\"], [0.4444444444444444, \"#bd3786\"], [0.5555555555555556, \"#d8576b\"], [0.6666666666666666, \"#ed7953\"], [0.7777777777777778, \"#fb9f3a\"], [0.8888888888888888, \"#fdca26\"], [1.0, \"#f0f921\"]], \"type\": \"histogram2d\"}], \"histogram2dcontour\": [{\"colorbar\": {\"outlinewidth\": 0, \"ticks\": \"\"}, \"colorscale\": [[0.0, \"#0d0887\"], [0.1111111111111111, \"#46039f\"], [0.2222222222222222, \"#7201a8\"], [0.3333333333333333, \"#9c179e\"], [0.4444444444444444, \"#bd3786\"], [0.5555555555555556, \"#d8576b\"], [0.6666666666666666, \"#ed7953\"], [0.7777777777777778, \"#fb9f3a\"], [0.8888888888888888, \"#fdca26\"], [1.0, \"#f0f921\"]], \"type\": \"histogram2dcontour\"}], \"mesh3d\": [{\"colorbar\": {\"outlinewidth\": 0, \"ticks\": \"\"}, \"type\": \"mesh3d\"}], \"parcoords\": [{\"line\": {\"colorbar\": {\"outlinewidth\": 0, \"ticks\": \"\"}}, \"type\": \"parcoords\"}], \"pie\": [{\"automargin\": true, \"type\": \"pie\"}], \"scatter\": [{\"marker\": {\"colorbar\": {\"outlinewidth\": 0, \"ticks\": \"\"}}, \"type\": \"scatter\"}], \"scatter3d\": [{\"line\": {\"colorbar\": {\"outlinewidth\": 0, \"ticks\": \"\"}}, \"marker\": {\"colorbar\": {\"outlinewidth\": 0, \"ticks\": \"\"}}, \"type\": \"scatter3d\"}], \"scattercarpet\": [{\"marker\": {\"colorbar\": {\"outlinewidth\": 0, \"ticks\": \"\"}}, \"type\": \"scattercarpet\"}], \"scattergeo\": [{\"marker\": {\"colorbar\": {\"outlinewidth\": 0, \"ticks\": \"\"}}, \"type\": \"scattergeo\"}], \"scattergl\": [{\"marker\": {\"colorbar\": {\"outlinewidth\": 0, \"ticks\": \"\"}}, \"type\": \"scattergl\"}], \"scattermapbox\": [{\"marker\": {\"colorbar\": {\"outlinewidth\": 0, \"ticks\": \"\"}}, \"type\": \"scattermapbox\"}], \"scatterpolar\": [{\"marker\": {\"colorbar\": {\"outlinewidth\": 0, \"ticks\": \"\"}}, \"type\": \"scatterpolar\"}], \"scatterpolargl\": [{\"marker\": {\"colorbar\": {\"outlinewidth\": 0, \"ticks\": \"\"}}, \"type\": \"scatterpolargl\"}], \"scatterternary\": [{\"marker\": {\"colorbar\": {\"outlinewidth\": 0, \"ticks\": \"\"}}, \"type\": \"scatterternary\"}], \"surface\": [{\"colorbar\": {\"outlinewidth\": 0, \"ticks\": \"\"}, \"colorscale\": [[0.0, \"#0d0887\"], [0.1111111111111111, \"#46039f\"], [0.2222222222222222, \"#7201a8\"], [0.3333333333333333, \"#9c179e\"], [0.4444444444444444, \"#bd3786\"], [0.5555555555555556, \"#d8576b\"], [0.6666666666666666, \"#ed7953\"], [0.7777777777777778, \"#fb9f3a\"], [0.8888888888888888, \"#fdca26\"], [1.0, \"#f0f921\"]], \"type\": \"surface\"}], \"table\": [{\"cells\": {\"fill\": {\"color\": \"#EBF0F8\"}, \"line\": {\"color\": \"white\"}}, \"header\": {\"fill\": {\"color\": \"#C8D4E3\"}, \"line\": {\"color\": \"white\"}}, \"type\": \"table\"}]}, \"layout\": {\"annotationdefaults\": {\"arrowcolor\": \"#2a3f5f\", \"arrowhead\": 0, \"arrowwidth\": 1}, \"coloraxis\": {\"colorbar\": {\"outlinewidth\": 0, \"ticks\": \"\"}}, \"colorscale\": {\"diverging\": [[0, \"#8e0152\"], [0.1, \"#c51b7d\"], [0.2, \"#de77ae\"], [0.3, \"#f1b6da\"], [0.4, \"#fde0ef\"], [0.5, \"#f7f7f7\"], [0.6, \"#e6f5d0\"], [0.7, \"#b8e186\"], [0.8, \"#7fbc41\"], [0.9, \"#4d9221\"], [1, \"#276419\"]], \"sequential\": [[0.0, \"#0d0887\"], [0.1111111111111111, \"#46039f\"], [0.2222222222222222, \"#7201a8\"], [0.3333333333333333, \"#9c179e\"], [0.4444444444444444, \"#bd3786\"], [0.5555555555555556, \"#d8576b\"], [0.6666666666666666, \"#ed7953\"], [0.7777777777777778, \"#fb9f3a\"], [0.8888888888888888, \"#fdca26\"], [1.0, \"#f0f921\"]], \"sequentialminus\": [[0.0, \"#0d0887\"], [0.1111111111111111, \"#46039f\"], [0.2222222222222222, \"#7201a8\"], [0.3333333333333333, \"#9c179e\"], [0.4444444444444444, \"#bd3786\"], [0.5555555555555556, \"#d8576b\"], [0.6666666666666666, \"#ed7953\"], [0.7777777777777778, \"#fb9f3a\"], [0.8888888888888888, \"#fdca26\"], [1.0, \"#f0f921\"]]}, \"colorway\": [\"#636efa\", \"#EF553B\", \"#00cc96\", \"#ab63fa\", \"#FFA15A\", \"#19d3f3\", \"#FF6692\", \"#B6E880\", \"#FF97FF\", \"#FECB52\"], \"font\": {\"color\": \"#2a3f5f\"}, \"geo\": {\"bgcolor\": \"white\", \"lakecolor\": \"white\", \"landcolor\": \"#E5ECF6\", \"showlakes\": true, \"showland\": true, \"subunitcolor\": \"white\"}, \"hoverlabel\": {\"align\": \"left\"}, \"hovermode\": \"closest\", \"mapbox\": {\"style\": \"light\"}, \"paper_bgcolor\": \"white\", \"plot_bgcolor\": \"#E5ECF6\", \"polar\": {\"angularaxis\": {\"gridcolor\": \"white\", \"linecolor\": \"white\", \"ticks\": \"\"}, \"bgcolor\": \"#E5ECF6\", \"radialaxis\": {\"gridcolor\": \"white\", \"linecolor\": \"white\", \"ticks\": \"\"}}, \"scene\": {\"xaxis\": {\"backgroundcolor\": \"#E5ECF6\", \"gridcolor\": \"white\", \"gridwidth\": 2, \"linecolor\": \"white\", \"showbackground\": true, \"ticks\": \"\", \"zerolinecolor\": \"white\"}, \"yaxis\": {\"backgroundcolor\": \"#E5ECF6\", \"gridcolor\": \"white\", \"gridwidth\": 2, \"linecolor\": \"white\", \"showbackground\": true, \"ticks\": \"\", \"zerolinecolor\": \"white\"}, \"zaxis\": {\"backgroundcolor\": \"#E5ECF6\", \"gridcolor\": \"white\", \"gridwidth\": 2, \"linecolor\": \"white\", \"showbackground\": true, \"ticks\": \"\", \"zerolinecolor\": \"white\"}}, \"shapedefaults\": {\"line\": {\"color\": \"#2a3f5f\"}}, \"ternary\": {\"aaxis\": {\"gridcolor\": \"white\", \"linecolor\": \"white\", \"ticks\": \"\"}, \"baxis\": {\"gridcolor\": \"white\", \"linecolor\": \"white\", \"ticks\": \"\"}, \"bgcolor\": \"#E5ECF6\", \"caxis\": {\"gridcolor\": \"white\", \"linecolor\": \"white\", \"ticks\": \"\"}}, \"title\": {\"x\": 0.05}, \"xaxis\": {\"automargin\": true, \"gridcolor\": \"white\", \"linecolor\": \"white\", \"ticks\": \"\", \"title\": {\"standoff\": 15}, \"zerolinecolor\": \"white\", \"zerolinewidth\": 2}, \"yaxis\": {\"automargin\": true, \"gridcolor\": \"white\", \"linecolor\": \"white\", \"ticks\": \"\", \"title\": {\"standoff\": 15}, \"zerolinecolor\": \"white\", \"zerolinewidth\": 2}}}, \"xaxis\": {\"anchor\": \"y\", \"domain\": [0.0, 0.45]}, \"xaxis2\": {\"anchor\": \"y2\", \"domain\": [0.55, 1.0]}, \"xaxis3\": {\"anchor\": \"y3\", \"domain\": [0.0, 1.0]}, \"yaxis\": {\"anchor\": \"x\", \"domain\": [0.625, 1.0]}, \"yaxis2\": {\"anchor\": \"x2\", \"domain\": [0.625, 1.0]}, \"yaxis3\": {\"anchor\": \"x3\", \"domain\": [0.0, 0.375]}},\n",
       "                        {\"responsive\": true}\n",
       "                    ).then(function(){\n",
       "                            \n",
       "var gd = document.getElementById('723e009f-ab15-4b60-a19e-d43dabb2e58b');\n",
       "var x = new MutationObserver(function (mutations, observer) {{\n",
       "        var display = window.getComputedStyle(gd).display;\n",
       "        if (!display || display === 'none') {{\n",
       "            console.log([gd, 'removed!']);\n",
       "            Plotly.purge(gd);\n",
       "            observer.disconnect();\n",
       "        }}\n",
       "}});\n",
       "\n",
       "// Listen for the removal of the full notebook cells\n",
       "var notebookContainer = gd.closest('#notebook-container');\n",
       "if (notebookContainer) {{\n",
       "    x.observe(notebookContainer, {childList: true});\n",
       "}}\n",
       "\n",
       "// Listen for the clearing of the current output cell\n",
       "var outputEl = gd.closest('.output');\n",
       "if (outputEl) {{\n",
       "    x.observe(outputEl, {childList: true});\n",
       "}}\n",
       "\n",
       "                        })\n",
       "                };\n",
       "                });\n",
       "            </script>\n",
       "        </div>"
      ]
     },
     "metadata": {},
     "output_type": "display_data"
    }
   ],
   "source": [
    "fig = make_subplots(rows=2, cols=2,specs=[[{}, {}], [{\"colspan\": 2}, None]],\n",
    "    subplot_titles=(\"Training plot\",\"Testing plot\", \"Anomaly score by Isomap\"))\n",
    "fig.add_trace(go.Scatter(x=df[1], y=df[2], marker_color='blue',\n",
    "                        name=\"Training path\"),row=1, col=1)\n",
    "fig.add_trace(go.Scatter(x=df_test[1], y=df_test[2], marker_color='red',\n",
    "                        name=\"Testing Score\"),row=1, col=2)\n",
    "fig.add_trace(go.Scatter(x=list(range(len(dt_scores))), y=dt_scores[:], marker_color='blue',\n",
    "                         name=\"Training Score\"), row=2, col=1)\n",
    "fig.add_trace(go.Scatter(x=list(range(len(dj_scores))), y=dj_scores, marker_color='red',\n",
    "                        name=\"Testing Score\"), row=2, col=1)\n",
    "fig.update_layout(showlegend=False)\n"
   ]
  },
  {
   "cell_type": "code",
   "execution_count": null,
   "metadata": {},
   "outputs": [],
   "source": []
  }
 ],
 "metadata": {
  "kernelspec": {
   "display_name": "Python 3",
   "language": "python",
   "name": "python3"
  },
  "language_info": {
   "codemirror_mode": {
    "name": "ipython",
    "version": 3
   },
   "file_extension": ".py",
   "mimetype": "text/x-python",
   "name": "python",
   "nbconvert_exporter": "python",
   "pygments_lexer": "ipython3",
   "version": "3.7.5"
  }
 },
 "nbformat": 4,
 "nbformat_minor": 2
}
