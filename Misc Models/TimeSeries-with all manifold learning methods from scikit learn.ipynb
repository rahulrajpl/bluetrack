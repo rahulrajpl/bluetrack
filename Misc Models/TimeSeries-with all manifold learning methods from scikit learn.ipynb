{
 "cells": [
  {
   "cell_type": "code",
   "execution_count": 1,
   "metadata": {},
   "outputs": [],
   "source": [
    "import pandas as pd\n",
    "import numpy as np\n",
    "from functools import partial\n",
    "from collections import OrderedDict\n",
    "from sklearn import manifold\n",
    "import matplotlib.pyplot as plt\n",
    "import numpy as np\n",
    "import pandas as pd\n",
    "from scipy.linalg import hankel, eigh\n",
    "import plotly.graph_objects as go\n",
    "from plotly.subplots import make_subplots\n",
    "import time"
   ]
  },
  {
   "cell_type": "code",
   "execution_count": 2,
   "metadata": {},
   "outputs": [],
   "source": [
    "n_neighbors = 10\n",
    "n_components = 1\n",
    "# Set-up manifold methods\n",
    "LLE = partial(manifold.LocallyLinearEmbedding,\n",
    "              n_neighbors, n_components, eigen_solver='auto')\n",
    "\n",
    "methods = OrderedDict()\n",
    "methods['LLE'] = LLE(method='standard')\n",
    "methods['LTSA'] = LLE(method='ltsa')\n",
    "methods['Hessian LLE'] = LLE(method='hessian')\n",
    "methods['Modified LLE'] = LLE(method='modified')\n",
    "methods['Isomap'] = manifold.Isomap(n_neighbors, n_components)\n",
    "methods['MDS'] = manifold.MDS(n_components, max_iter=100, n_init=1)\n",
    "methods['SE'] = manifold.SpectralEmbedding(n_components=n_components,\n",
    "                                           n_neighbors=n_neighbors)\n",
    "methods['t-SNE'] = manifold.TSNE(n_components=n_components, init='pca',\n",
    "                                 random_state=0)"
   ]
  },
  {
   "cell_type": "code",
   "execution_count": 3,
   "metadata": {},
   "outputs": [],
   "source": [
    "df = pd.read_csv('steps_train.txt', skiprows=1,nrows=110, header=None, usecols=[1,2])\n",
    "df_test = pd.read_csv('steps_test.txt', skiprows=1, nrows=150, header=None, usecols=[1,2])"
   ]
  },
  {
   "cell_type": "code",
   "execution_count": 4,
   "metadata": {},
   "outputs": [],
   "source": [
    "report_cols = ['Method', 'Training Max Score', 'Training Min Score', \n",
    "               'Testing Max Score', 'Testing Min Score', 'Time elapsed']\n",
    "report = []"
   ]
  },
  {
   "cell_type": "code",
   "execution_count": 5,
   "metadata": {},
   "outputs": [],
   "source": [
    "def run_algo(r=1, method_name='LLE', L=25):\n",
    "    \n",
    "    method=methods[f'{method_name}']\n",
    "#     print(method_name)\n",
    "    X_train_data = method.fit_transform(df)\n",
    "    N = len(X_train_data)\n",
    "    # L = (N)//2\n",
    "    L =  25\n",
    "    X_train = hankel(X_train_data[:L],X_train_data[L-1:]) # Creating trajectory matrix\n",
    "    eigenValues, eigenVectors = eigh(np.matmul(X_train, X_train.T))\n",
    "    idx = eigenValues.argsort()[::-1]\n",
    "    eigenValues = eigenValues[idx]\n",
    "    eigenVectors = eigenVectors[:,idx]\n",
    "    # Sree plot\n",
    "\n",
    "    eigen_data = go.Scatter(x=list(range(len(eigenValues[0:10]))), y=eigenValues[0:10])\n",
    "    eigen_layout = go.Layout(title='ScreePlot', title_x=0.5, xaxis_title=\"No of eigen values\", yaxis_title=\"eigen value\",)\n",
    "    fig = go.Figure(data=[eigen_data], layout=eigen_layout)\n",
    "    fig.show()\n",
    "    \n",
    "    start = time.perf_counter()\n",
    "    # Setting statistical dimension based on screeplot above\n",
    "    r = 2\n",
    "    # Performing singular value decomposition\n",
    "    U, Sigma, V = np.linalg.svd(X_train)\n",
    "    V = V.T\n",
    "    X_elem = np.array( [Sigma[i] * np.outer(U[:,i], V[:,i]) for i in range(0,r)] )\n",
    "    X_train_extracted = X_elem.sum(axis=0)\n",
    "    U = eigenVectors[:,:r] # r as statistical dimension\n",
    "    UT = U.T\n",
    "    pX = np.matmul(UT,X_train_extracted)\n",
    "    centroid = np.mean(pX, axis=1)\n",
    "    centroid = centroid[:,np.newaxis]\n",
    "    pXt = np.matmul(UT,X_train)\n",
    "    dt_matrix = centroid - pXt\n",
    "    dt_scores = np.linalg.norm(dt_matrix, axis=0, ord=2)\n",
    "\n",
    "    # Testing positional Deviation\n",
    "    X_test = method.fit_transform(df_test)\n",
    "    Xj = hankel(X_test[:L],X_test[L-1:])\n",
    "    pXj = np.matmul(UT, Xj)\n",
    "    dj_matrix = centroid - pXj\n",
    "    dj_scores = np.linalg.norm(dj_matrix, axis=0, ord=2)\n",
    "    dj_scores = np.asarray(dj_scores)\n",
    "    end = time.perf_counter()\n",
    "    finish = time.perf_counter()\n",
    "#     print(\"Time Taken for execution is \", round(finish-start, 2), 'Seconds\\n\\n')\n",
    "    \n",
    "    fig = make_subplots(rows=2, cols=2,specs=[[{}, {}], [{\"colspan\": 2}, None]],\n",
    "    subplot_titles=(\"Training plot\",\"Testing plot\", f\"Anomaly score by {method_name}\"))\n",
    "    fig.add_trace(go.Scatter(x=df[1], y=df[2], marker_color='blue',\n",
    "                            name=\"Training path\"),row=1, col=1)\n",
    "    fig.add_trace(go.Scatter(x=df_test[1], y=df_test[2], marker_color='red',\n",
    "                            name=\"Testing Score\"),row=1, col=2)\n",
    "    fig.add_trace(go.Scatter(x=list(range(len(dt_scores))), y=dt_scores[5:-5], marker_color='blue',\n",
    "                             name=\"Training Score\"), row=2, col=1)\n",
    "    fig.add_trace(go.Scatter(x=list(range(len(dj_scores))), y=dj_scores, marker_color='red',\n",
    "                            name=\"Testing Score\"), row=2, col=1)\n",
    "    fig.update_layout(showlegend=False)\n",
    "    fig.show()\n",
    "    report.append([method_name, max(dt_scores), min(dt_scores), max(dj_scores), min(dj_scores), round(finish-start, 2)] )\n",
    "    return (pd.DataFrame(report, columns=report_cols))"
   ]
  },
  {
   "cell_type": "code",
   "execution_count": 6,
   "metadata": {},
   "outputs": [
    {
     "data": {
      "text/plain": [
       "odict_keys(['LLE', 'LTSA', 'Hessian LLE', 'Modified LLE', 'Isomap', 'MDS', 'SE', 't-SNE'])"
      ]
     },
     "execution_count": 6,
     "metadata": {},
     "output_type": "execute_result"
    }
   ],
   "source": [
    "methods.keys()"
   ]
  },
  {
   "cell_type": "code",
   "execution_count": 14,
   "metadata": {},
   "outputs": [
    {
     "data": {
      "application/vnd.plotly.v1+json": {
       "config": {
        "plotlyServerURL": "https://plot.ly"
       },
       "data": [
        {
         "type": "scatter",
         "x": [
          0,
          1,
          2,
          3,
          4,
          5,
          6,
          7,
          8,
          9
         ],
         "y": [
          66901.328125,
          7787.404296875,
          1693.739501953125,
          1580.827880859375,
          1545.34423828125,
          1467.37548828125,
          1363.931884765625,
          1105.273681640625,
          983.5630493164062,
          959.6190795898438
         ]
        }
       ],
       "layout": {
        "template": {
         "data": {
          "bar": [
           {
            "error_x": {
             "color": "#2a3f5f"
            },
            "error_y": {
             "color": "#2a3f5f"
            },
            "marker": {
             "line": {
              "color": "#E5ECF6",
              "width": 0.5
             }
            },
            "type": "bar"
           }
          ],
          "barpolar": [
           {
            "marker": {
             "line": {
              "color": "#E5ECF6",
              "width": 0.5
             }
            },
            "type": "barpolar"
           }
          ],
          "carpet": [
           {
            "aaxis": {
             "endlinecolor": "#2a3f5f",
             "gridcolor": "white",
             "linecolor": "white",
             "minorgridcolor": "white",
             "startlinecolor": "#2a3f5f"
            },
            "baxis": {
             "endlinecolor": "#2a3f5f",
             "gridcolor": "white",
             "linecolor": "white",
             "minorgridcolor": "white",
             "startlinecolor": "#2a3f5f"
            },
            "type": "carpet"
           }
          ],
          "choropleth": [
           {
            "colorbar": {
             "outlinewidth": 0,
             "ticks": ""
            },
            "type": "choropleth"
           }
          ],
          "contour": [
           {
            "colorbar": {
             "outlinewidth": 0,
             "ticks": ""
            },
            "colorscale": [
             [
              0,
              "#0d0887"
             ],
             [
              0.1111111111111111,
              "#46039f"
             ],
             [
              0.2222222222222222,
              "#7201a8"
             ],
             [
              0.3333333333333333,
              "#9c179e"
             ],
             [
              0.4444444444444444,
              "#bd3786"
             ],
             [
              0.5555555555555556,
              "#d8576b"
             ],
             [
              0.6666666666666666,
              "#ed7953"
             ],
             [
              0.7777777777777778,
              "#fb9f3a"
             ],
             [
              0.8888888888888888,
              "#fdca26"
             ],
             [
              1,
              "#f0f921"
             ]
            ],
            "type": "contour"
           }
          ],
          "contourcarpet": [
           {
            "colorbar": {
             "outlinewidth": 0,
             "ticks": ""
            },
            "type": "contourcarpet"
           }
          ],
          "heatmap": [
           {
            "colorbar": {
             "outlinewidth": 0,
             "ticks": ""
            },
            "colorscale": [
             [
              0,
              "#0d0887"
             ],
             [
              0.1111111111111111,
              "#46039f"
             ],
             [
              0.2222222222222222,
              "#7201a8"
             ],
             [
              0.3333333333333333,
              "#9c179e"
             ],
             [
              0.4444444444444444,
              "#bd3786"
             ],
             [
              0.5555555555555556,
              "#d8576b"
             ],
             [
              0.6666666666666666,
              "#ed7953"
             ],
             [
              0.7777777777777778,
              "#fb9f3a"
             ],
             [
              0.8888888888888888,
              "#fdca26"
             ],
             [
              1,
              "#f0f921"
             ]
            ],
            "type": "heatmap"
           }
          ],
          "heatmapgl": [
           {
            "colorbar": {
             "outlinewidth": 0,
             "ticks": ""
            },
            "colorscale": [
             [
              0,
              "#0d0887"
             ],
             [
              0.1111111111111111,
              "#46039f"
             ],
             [
              0.2222222222222222,
              "#7201a8"
             ],
             [
              0.3333333333333333,
              "#9c179e"
             ],
             [
              0.4444444444444444,
              "#bd3786"
             ],
             [
              0.5555555555555556,
              "#d8576b"
             ],
             [
              0.6666666666666666,
              "#ed7953"
             ],
             [
              0.7777777777777778,
              "#fb9f3a"
             ],
             [
              0.8888888888888888,
              "#fdca26"
             ],
             [
              1,
              "#f0f921"
             ]
            ],
            "type": "heatmapgl"
           }
          ],
          "histogram": [
           {
            "marker": {
             "colorbar": {
              "outlinewidth": 0,
              "ticks": ""
             }
            },
            "type": "histogram"
           }
          ],
          "histogram2d": [
           {
            "colorbar": {
             "outlinewidth": 0,
             "ticks": ""
            },
            "colorscale": [
             [
              0,
              "#0d0887"
             ],
             [
              0.1111111111111111,
              "#46039f"
             ],
             [
              0.2222222222222222,
              "#7201a8"
             ],
             [
              0.3333333333333333,
              "#9c179e"
             ],
             [
              0.4444444444444444,
              "#bd3786"
             ],
             [
              0.5555555555555556,
              "#d8576b"
             ],
             [
              0.6666666666666666,
              "#ed7953"
             ],
             [
              0.7777777777777778,
              "#fb9f3a"
             ],
             [
              0.8888888888888888,
              "#fdca26"
             ],
             [
              1,
              "#f0f921"
             ]
            ],
            "type": "histogram2d"
           }
          ],
          "histogram2dcontour": [
           {
            "colorbar": {
             "outlinewidth": 0,
             "ticks": ""
            },
            "colorscale": [
             [
              0,
              "#0d0887"
             ],
             [
              0.1111111111111111,
              "#46039f"
             ],
             [
              0.2222222222222222,
              "#7201a8"
             ],
             [
              0.3333333333333333,
              "#9c179e"
             ],
             [
              0.4444444444444444,
              "#bd3786"
             ],
             [
              0.5555555555555556,
              "#d8576b"
             ],
             [
              0.6666666666666666,
              "#ed7953"
             ],
             [
              0.7777777777777778,
              "#fb9f3a"
             ],
             [
              0.8888888888888888,
              "#fdca26"
             ],
             [
              1,
              "#f0f921"
             ]
            ],
            "type": "histogram2dcontour"
           }
          ],
          "mesh3d": [
           {
            "colorbar": {
             "outlinewidth": 0,
             "ticks": ""
            },
            "type": "mesh3d"
           }
          ],
          "parcoords": [
           {
            "line": {
             "colorbar": {
              "outlinewidth": 0,
              "ticks": ""
             }
            },
            "type": "parcoords"
           }
          ],
          "pie": [
           {
            "automargin": true,
            "type": "pie"
           }
          ],
          "scatter": [
           {
            "marker": {
             "colorbar": {
              "outlinewidth": 0,
              "ticks": ""
             }
            },
            "type": "scatter"
           }
          ],
          "scatter3d": [
           {
            "line": {
             "colorbar": {
              "outlinewidth": 0,
              "ticks": ""
             }
            },
            "marker": {
             "colorbar": {
              "outlinewidth": 0,
              "ticks": ""
             }
            },
            "type": "scatter3d"
           }
          ],
          "scattercarpet": [
           {
            "marker": {
             "colorbar": {
              "outlinewidth": 0,
              "ticks": ""
             }
            },
            "type": "scattercarpet"
           }
          ],
          "scattergeo": [
           {
            "marker": {
             "colorbar": {
              "outlinewidth": 0,
              "ticks": ""
             }
            },
            "type": "scattergeo"
           }
          ],
          "scattergl": [
           {
            "marker": {
             "colorbar": {
              "outlinewidth": 0,
              "ticks": ""
             }
            },
            "type": "scattergl"
           }
          ],
          "scattermapbox": [
           {
            "marker": {
             "colorbar": {
              "outlinewidth": 0,
              "ticks": ""
             }
            },
            "type": "scattermapbox"
           }
          ],
          "scatterpolar": [
           {
            "marker": {
             "colorbar": {
              "outlinewidth": 0,
              "ticks": ""
             }
            },
            "type": "scatterpolar"
           }
          ],
          "scatterpolargl": [
           {
            "marker": {
             "colorbar": {
              "outlinewidth": 0,
              "ticks": ""
             }
            },
            "type": "scatterpolargl"
           }
          ],
          "scatterternary": [
           {
            "marker": {
             "colorbar": {
              "outlinewidth": 0,
              "ticks": ""
             }
            },
            "type": "scatterternary"
           }
          ],
          "surface": [
           {
            "colorbar": {
             "outlinewidth": 0,
             "ticks": ""
            },
            "colorscale": [
             [
              0,
              "#0d0887"
             ],
             [
              0.1111111111111111,
              "#46039f"
             ],
             [
              0.2222222222222222,
              "#7201a8"
             ],
             [
              0.3333333333333333,
              "#9c179e"
             ],
             [
              0.4444444444444444,
              "#bd3786"
             ],
             [
              0.5555555555555556,
              "#d8576b"
             ],
             [
              0.6666666666666666,
              "#ed7953"
             ],
             [
              0.7777777777777778,
              "#fb9f3a"
             ],
             [
              0.8888888888888888,
              "#fdca26"
             ],
             [
              1,
              "#f0f921"
             ]
            ],
            "type": "surface"
           }
          ],
          "table": [
           {
            "cells": {
             "fill": {
              "color": "#EBF0F8"
             },
             "line": {
              "color": "white"
             }
            },
            "header": {
             "fill": {
              "color": "#C8D4E3"
             },
             "line": {
              "color": "white"
             }
            },
            "type": "table"
           }
          ]
         },
         "layout": {
          "annotationdefaults": {
           "arrowcolor": "#2a3f5f",
           "arrowhead": 0,
           "arrowwidth": 1
          },
          "coloraxis": {
           "colorbar": {
            "outlinewidth": 0,
            "ticks": ""
           }
          },
          "colorscale": {
           "diverging": [
            [
             0,
             "#8e0152"
            ],
            [
             0.1,
             "#c51b7d"
            ],
            [
             0.2,
             "#de77ae"
            ],
            [
             0.3,
             "#f1b6da"
            ],
            [
             0.4,
             "#fde0ef"
            ],
            [
             0.5,
             "#f7f7f7"
            ],
            [
             0.6,
             "#e6f5d0"
            ],
            [
             0.7,
             "#b8e186"
            ],
            [
             0.8,
             "#7fbc41"
            ],
            [
             0.9,
             "#4d9221"
            ],
            [
             1,
             "#276419"
            ]
           ],
           "sequential": [
            [
             0,
             "#0d0887"
            ],
            [
             0.1111111111111111,
             "#46039f"
            ],
            [
             0.2222222222222222,
             "#7201a8"
            ],
            [
             0.3333333333333333,
             "#9c179e"
            ],
            [
             0.4444444444444444,
             "#bd3786"
            ],
            [
             0.5555555555555556,
             "#d8576b"
            ],
            [
             0.6666666666666666,
             "#ed7953"
            ],
            [
             0.7777777777777778,
             "#fb9f3a"
            ],
            [
             0.8888888888888888,
             "#fdca26"
            ],
            [
             1,
             "#f0f921"
            ]
           ],
           "sequentialminus": [
            [
             0,
             "#0d0887"
            ],
            [
             0.1111111111111111,
             "#46039f"
            ],
            [
             0.2222222222222222,
             "#7201a8"
            ],
            [
             0.3333333333333333,
             "#9c179e"
            ],
            [
             0.4444444444444444,
             "#bd3786"
            ],
            [
             0.5555555555555556,
             "#d8576b"
            ],
            [
             0.6666666666666666,
             "#ed7953"
            ],
            [
             0.7777777777777778,
             "#fb9f3a"
            ],
            [
             0.8888888888888888,
             "#fdca26"
            ],
            [
             1,
             "#f0f921"
            ]
           ]
          },
          "colorway": [
           "#636efa",
           "#EF553B",
           "#00cc96",
           "#ab63fa",
           "#FFA15A",
           "#19d3f3",
           "#FF6692",
           "#B6E880",
           "#FF97FF",
           "#FECB52"
          ],
          "font": {
           "color": "#2a3f5f"
          },
          "geo": {
           "bgcolor": "white",
           "lakecolor": "white",
           "landcolor": "#E5ECF6",
           "showlakes": true,
           "showland": true,
           "subunitcolor": "white"
          },
          "hoverlabel": {
           "align": "left"
          },
          "hovermode": "closest",
          "mapbox": {
           "style": "light"
          },
          "paper_bgcolor": "white",
          "plot_bgcolor": "#E5ECF6",
          "polar": {
           "angularaxis": {
            "gridcolor": "white",
            "linecolor": "white",
            "ticks": ""
           },
           "bgcolor": "#E5ECF6",
           "radialaxis": {
            "gridcolor": "white",
            "linecolor": "white",
            "ticks": ""
           }
          },
          "scene": {
           "xaxis": {
            "backgroundcolor": "#E5ECF6",
            "gridcolor": "white",
            "gridwidth": 2,
            "linecolor": "white",
            "showbackground": true,
            "ticks": "",
            "zerolinecolor": "white"
           },
           "yaxis": {
            "backgroundcolor": "#E5ECF6",
            "gridcolor": "white",
            "gridwidth": 2,
            "linecolor": "white",
            "showbackground": true,
            "ticks": "",
            "zerolinecolor": "white"
           },
           "zaxis": {
            "backgroundcolor": "#E5ECF6",
            "gridcolor": "white",
            "gridwidth": 2,
            "linecolor": "white",
            "showbackground": true,
            "ticks": "",
            "zerolinecolor": "white"
           }
          },
          "shapedefaults": {
           "line": {
            "color": "#2a3f5f"
           }
          },
          "ternary": {
           "aaxis": {
            "gridcolor": "white",
            "linecolor": "white",
            "ticks": ""
           },
           "baxis": {
            "gridcolor": "white",
            "linecolor": "white",
            "ticks": ""
           },
           "bgcolor": "#E5ECF6",
           "caxis": {
            "gridcolor": "white",
            "linecolor": "white",
            "ticks": ""
           }
          },
          "title": {
           "x": 0.05
          },
          "xaxis": {
           "automargin": true,
           "gridcolor": "white",
           "linecolor": "white",
           "ticks": "",
           "title": {
            "standoff": 15
           },
           "zerolinecolor": "white",
           "zerolinewidth": 2
          },
          "yaxis": {
           "automargin": true,
           "gridcolor": "white",
           "linecolor": "white",
           "ticks": "",
           "title": {
            "standoff": 15
           },
           "zerolinecolor": "white",
           "zerolinewidth": 2
          }
         }
        },
        "title": {
         "text": "ScreePlot",
         "x": 0.5
        },
        "xaxis": {
         "title": {
          "text": "No of eigen values"
         }
        },
        "yaxis": {
         "title": {
          "text": "eigen value"
         }
        }
       }
      },
      "text/html": [
       "<div>\n",
       "        \n",
       "        \n",
       "            <div id=\"5235d14b-ba45-4579-9917-b1627d315bff\" class=\"plotly-graph-div\" style=\"height:525px; width:100%;\"></div>\n",
       "            <script type=\"text/javascript\">\n",
       "                require([\"plotly\"], function(Plotly) {\n",
       "                    window.PLOTLYENV=window.PLOTLYENV || {};\n",
       "                    \n",
       "                if (document.getElementById(\"5235d14b-ba45-4579-9917-b1627d315bff\")) {\n",
       "                    Plotly.newPlot(\n",
       "                        '5235d14b-ba45-4579-9917-b1627d315bff',\n",
       "                        [{\"type\": \"scatter\", \"x\": [0, 1, 2, 3, 4, 5, 6, 7, 8, 9], \"y\": [66901.328125, 7787.404296875, 1693.739501953125, 1580.827880859375, 1545.34423828125, 1467.37548828125, 1363.931884765625, 1105.273681640625, 983.5630493164062, 959.6190795898438]}],\n",
       "                        {\"template\": {\"data\": {\"bar\": [{\"error_x\": {\"color\": \"#2a3f5f\"}, \"error_y\": {\"color\": \"#2a3f5f\"}, \"marker\": {\"line\": {\"color\": \"#E5ECF6\", \"width\": 0.5}}, \"type\": \"bar\"}], \"barpolar\": [{\"marker\": {\"line\": {\"color\": \"#E5ECF6\", \"width\": 0.5}}, \"type\": \"barpolar\"}], \"carpet\": [{\"aaxis\": {\"endlinecolor\": \"#2a3f5f\", \"gridcolor\": \"white\", \"linecolor\": \"white\", \"minorgridcolor\": \"white\", \"startlinecolor\": \"#2a3f5f\"}, \"baxis\": {\"endlinecolor\": \"#2a3f5f\", \"gridcolor\": \"white\", \"linecolor\": \"white\", \"minorgridcolor\": \"white\", \"startlinecolor\": \"#2a3f5f\"}, \"type\": \"carpet\"}], \"choropleth\": [{\"colorbar\": {\"outlinewidth\": 0, \"ticks\": \"\"}, \"type\": \"choropleth\"}], \"contour\": [{\"colorbar\": {\"outlinewidth\": 0, \"ticks\": \"\"}, \"colorscale\": [[0.0, \"#0d0887\"], [0.1111111111111111, \"#46039f\"], [0.2222222222222222, \"#7201a8\"], [0.3333333333333333, \"#9c179e\"], [0.4444444444444444, \"#bd3786\"], [0.5555555555555556, \"#d8576b\"], [0.6666666666666666, \"#ed7953\"], [0.7777777777777778, \"#fb9f3a\"], [0.8888888888888888, \"#fdca26\"], [1.0, \"#f0f921\"]], \"type\": \"contour\"}], \"contourcarpet\": [{\"colorbar\": {\"outlinewidth\": 0, \"ticks\": \"\"}, \"type\": \"contourcarpet\"}], \"heatmap\": [{\"colorbar\": {\"outlinewidth\": 0, \"ticks\": \"\"}, \"colorscale\": [[0.0, \"#0d0887\"], [0.1111111111111111, \"#46039f\"], [0.2222222222222222, \"#7201a8\"], [0.3333333333333333, \"#9c179e\"], [0.4444444444444444, \"#bd3786\"], [0.5555555555555556, \"#d8576b\"], [0.6666666666666666, \"#ed7953\"], [0.7777777777777778, \"#fb9f3a\"], [0.8888888888888888, \"#fdca26\"], [1.0, \"#f0f921\"]], \"type\": \"heatmap\"}], \"heatmapgl\": [{\"colorbar\": {\"outlinewidth\": 0, \"ticks\": \"\"}, \"colorscale\": [[0.0, \"#0d0887\"], [0.1111111111111111, \"#46039f\"], [0.2222222222222222, \"#7201a8\"], [0.3333333333333333, \"#9c179e\"], [0.4444444444444444, \"#bd3786\"], [0.5555555555555556, \"#d8576b\"], [0.6666666666666666, \"#ed7953\"], [0.7777777777777778, \"#fb9f3a\"], [0.8888888888888888, \"#fdca26\"], [1.0, \"#f0f921\"]], \"type\": \"heatmapgl\"}], \"histogram\": [{\"marker\": {\"colorbar\": {\"outlinewidth\": 0, \"ticks\": \"\"}}, \"type\": \"histogram\"}], \"histogram2d\": [{\"colorbar\": {\"outlinewidth\": 0, \"ticks\": \"\"}, \"colorscale\": [[0.0, \"#0d0887\"], [0.1111111111111111, \"#46039f\"], [0.2222222222222222, \"#7201a8\"], [0.3333333333333333, \"#9c179e\"], [0.4444444444444444, \"#bd3786\"], [0.5555555555555556, \"#d8576b\"], [0.6666666666666666, \"#ed7953\"], [0.7777777777777778, \"#fb9f3a\"], [0.8888888888888888, \"#fdca26\"], [1.0, \"#f0f921\"]], \"type\": \"histogram2d\"}], \"histogram2dcontour\": [{\"colorbar\": {\"outlinewidth\": 0, \"ticks\": \"\"}, \"colorscale\": [[0.0, \"#0d0887\"], [0.1111111111111111, \"#46039f\"], [0.2222222222222222, \"#7201a8\"], [0.3333333333333333, \"#9c179e\"], [0.4444444444444444, \"#bd3786\"], [0.5555555555555556, \"#d8576b\"], [0.6666666666666666, \"#ed7953\"], [0.7777777777777778, \"#fb9f3a\"], [0.8888888888888888, \"#fdca26\"], [1.0, \"#f0f921\"]], \"type\": \"histogram2dcontour\"}], \"mesh3d\": [{\"colorbar\": {\"outlinewidth\": 0, \"ticks\": \"\"}, \"type\": \"mesh3d\"}], \"parcoords\": [{\"line\": {\"colorbar\": {\"outlinewidth\": 0, \"ticks\": \"\"}}, \"type\": \"parcoords\"}], \"pie\": [{\"automargin\": true, \"type\": \"pie\"}], \"scatter\": [{\"marker\": {\"colorbar\": {\"outlinewidth\": 0, \"ticks\": \"\"}}, \"type\": \"scatter\"}], \"scatter3d\": [{\"line\": {\"colorbar\": {\"outlinewidth\": 0, \"ticks\": \"\"}}, \"marker\": {\"colorbar\": {\"outlinewidth\": 0, \"ticks\": \"\"}}, \"type\": \"scatter3d\"}], \"scattercarpet\": [{\"marker\": {\"colorbar\": {\"outlinewidth\": 0, \"ticks\": \"\"}}, \"type\": \"scattercarpet\"}], \"scattergeo\": [{\"marker\": {\"colorbar\": {\"outlinewidth\": 0, \"ticks\": \"\"}}, \"type\": \"scattergeo\"}], \"scattergl\": [{\"marker\": {\"colorbar\": {\"outlinewidth\": 0, \"ticks\": \"\"}}, \"type\": \"scattergl\"}], \"scattermapbox\": [{\"marker\": {\"colorbar\": {\"outlinewidth\": 0, \"ticks\": \"\"}}, \"type\": \"scattermapbox\"}], \"scatterpolar\": [{\"marker\": {\"colorbar\": {\"outlinewidth\": 0, \"ticks\": \"\"}}, \"type\": \"scatterpolar\"}], \"scatterpolargl\": [{\"marker\": {\"colorbar\": {\"outlinewidth\": 0, \"ticks\": \"\"}}, \"type\": \"scatterpolargl\"}], \"scatterternary\": [{\"marker\": {\"colorbar\": {\"outlinewidth\": 0, \"ticks\": \"\"}}, \"type\": \"scatterternary\"}], \"surface\": [{\"colorbar\": {\"outlinewidth\": 0, \"ticks\": \"\"}, \"colorscale\": [[0.0, \"#0d0887\"], [0.1111111111111111, \"#46039f\"], [0.2222222222222222, \"#7201a8\"], [0.3333333333333333, \"#9c179e\"], [0.4444444444444444, \"#bd3786\"], [0.5555555555555556, \"#d8576b\"], [0.6666666666666666, \"#ed7953\"], [0.7777777777777778, \"#fb9f3a\"], [0.8888888888888888, \"#fdca26\"], [1.0, \"#f0f921\"]], \"type\": \"surface\"}], \"table\": [{\"cells\": {\"fill\": {\"color\": \"#EBF0F8\"}, \"line\": {\"color\": \"white\"}}, \"header\": {\"fill\": {\"color\": \"#C8D4E3\"}, \"line\": {\"color\": \"white\"}}, \"type\": \"table\"}]}, \"layout\": {\"annotationdefaults\": {\"arrowcolor\": \"#2a3f5f\", \"arrowhead\": 0, \"arrowwidth\": 1}, \"coloraxis\": {\"colorbar\": {\"outlinewidth\": 0, \"ticks\": \"\"}}, \"colorscale\": {\"diverging\": [[0, \"#8e0152\"], [0.1, \"#c51b7d\"], [0.2, \"#de77ae\"], [0.3, \"#f1b6da\"], [0.4, \"#fde0ef\"], [0.5, \"#f7f7f7\"], [0.6, \"#e6f5d0\"], [0.7, \"#b8e186\"], [0.8, \"#7fbc41\"], [0.9, \"#4d9221\"], [1, \"#276419\"]], \"sequential\": [[0.0, \"#0d0887\"], [0.1111111111111111, \"#46039f\"], [0.2222222222222222, \"#7201a8\"], [0.3333333333333333, \"#9c179e\"], [0.4444444444444444, \"#bd3786\"], [0.5555555555555556, \"#d8576b\"], [0.6666666666666666, \"#ed7953\"], [0.7777777777777778, \"#fb9f3a\"], [0.8888888888888888, \"#fdca26\"], [1.0, \"#f0f921\"]], \"sequentialminus\": [[0.0, \"#0d0887\"], [0.1111111111111111, \"#46039f\"], [0.2222222222222222, \"#7201a8\"], [0.3333333333333333, \"#9c179e\"], [0.4444444444444444, \"#bd3786\"], [0.5555555555555556, \"#d8576b\"], [0.6666666666666666, \"#ed7953\"], [0.7777777777777778, \"#fb9f3a\"], [0.8888888888888888, \"#fdca26\"], [1.0, \"#f0f921\"]]}, \"colorway\": [\"#636efa\", \"#EF553B\", \"#00cc96\", \"#ab63fa\", \"#FFA15A\", \"#19d3f3\", \"#FF6692\", \"#B6E880\", \"#FF97FF\", \"#FECB52\"], \"font\": {\"color\": \"#2a3f5f\"}, \"geo\": {\"bgcolor\": \"white\", \"lakecolor\": \"white\", \"landcolor\": \"#E5ECF6\", \"showlakes\": true, \"showland\": true, \"subunitcolor\": \"white\"}, \"hoverlabel\": {\"align\": \"left\"}, \"hovermode\": \"closest\", \"mapbox\": {\"style\": \"light\"}, \"paper_bgcolor\": \"white\", \"plot_bgcolor\": \"#E5ECF6\", \"polar\": {\"angularaxis\": {\"gridcolor\": \"white\", \"linecolor\": \"white\", \"ticks\": \"\"}, \"bgcolor\": \"#E5ECF6\", \"radialaxis\": {\"gridcolor\": \"white\", \"linecolor\": \"white\", \"ticks\": \"\"}}, \"scene\": {\"xaxis\": {\"backgroundcolor\": \"#E5ECF6\", \"gridcolor\": \"white\", \"gridwidth\": 2, \"linecolor\": \"white\", \"showbackground\": true, \"ticks\": \"\", \"zerolinecolor\": \"white\"}, \"yaxis\": {\"backgroundcolor\": \"#E5ECF6\", \"gridcolor\": \"white\", \"gridwidth\": 2, \"linecolor\": \"white\", \"showbackground\": true, \"ticks\": \"\", \"zerolinecolor\": \"white\"}, \"zaxis\": {\"backgroundcolor\": \"#E5ECF6\", \"gridcolor\": \"white\", \"gridwidth\": 2, \"linecolor\": \"white\", \"showbackground\": true, \"ticks\": \"\", \"zerolinecolor\": \"white\"}}, \"shapedefaults\": {\"line\": {\"color\": \"#2a3f5f\"}}, \"ternary\": {\"aaxis\": {\"gridcolor\": \"white\", \"linecolor\": \"white\", \"ticks\": \"\"}, \"baxis\": {\"gridcolor\": \"white\", \"linecolor\": \"white\", \"ticks\": \"\"}, \"bgcolor\": \"#E5ECF6\", \"caxis\": {\"gridcolor\": \"white\", \"linecolor\": \"white\", \"ticks\": \"\"}}, \"title\": {\"x\": 0.05}, \"xaxis\": {\"automargin\": true, \"gridcolor\": \"white\", \"linecolor\": \"white\", \"ticks\": \"\", \"title\": {\"standoff\": 15}, \"zerolinecolor\": \"white\", \"zerolinewidth\": 2}, \"yaxis\": {\"automargin\": true, \"gridcolor\": \"white\", \"linecolor\": \"white\", \"ticks\": \"\", \"title\": {\"standoff\": 15}, \"zerolinecolor\": \"white\", \"zerolinewidth\": 2}}}, \"title\": {\"text\": \"ScreePlot\", \"x\": 0.5}, \"xaxis\": {\"title\": {\"text\": \"No of eigen values\"}}, \"yaxis\": {\"title\": {\"text\": \"eigen value\"}}},\n",
       "                        {\"responsive\": true}\n",
       "                    ).then(function(){\n",
       "                            \n",
       "var gd = document.getElementById('5235d14b-ba45-4579-9917-b1627d315bff');\n",
       "var x = new MutationObserver(function (mutations, observer) {{\n",
       "        var display = window.getComputedStyle(gd).display;\n",
       "        if (!display || display === 'none') {{\n",
       "            console.log([gd, 'removed!']);\n",
       "            Plotly.purge(gd);\n",
       "            observer.disconnect();\n",
       "        }}\n",
       "}});\n",
       "\n",
       "// Listen for the removal of the full notebook cells\n",
       "var notebookContainer = gd.closest('#notebook-container');\n",
       "if (notebookContainer) {{\n",
       "    x.observe(notebookContainer, {childList: true});\n",
       "}}\n",
       "\n",
       "// Listen for the clearing of the current output cell\n",
       "var outputEl = gd.closest('.output');\n",
       "if (outputEl) {{\n",
       "    x.observe(outputEl, {childList: true});\n",
       "}}\n",
       "\n",
       "                        })\n",
       "                };\n",
       "                });\n",
       "            </script>\n",
       "        </div>"
      ]
     },
     "metadata": {},
     "output_type": "display_data"
    },
    {
     "data": {
      "application/vnd.plotly.v1+json": {
       "config": {
        "plotlyServerURL": "https://plot.ly"
       },
       "data": [
        {
         "marker": {
          "color": "blue"
         },
         "name": "Training path",
         "type": "scatter",
         "x": [
          0,
          -0.2,
          -0.25,
          -0.27,
          -0.8,
          -1.25,
          -2.53,
          -2.69,
          -2.02,
          -0.82,
          0.45,
          1.77,
          3.1,
          4.4,
          5.73,
          7.06,
          8.38,
          9.71,
          11.1,
          12.4,
          13.67,
          14.95,
          16.23,
          17.53,
          18.82,
          20.1,
          21.42,
          22.73,
          24.02,
          25.29,
          26.51,
          27.5,
          26.32,
          24.94,
          23.55,
          22.16,
          20.8,
          19.45,
          18.11,
          16.76,
          13.95,
          12.54,
          11.15,
          9.76,
          8.37,
          7,
          5.63,
          4.26,
          2.95,
          1.56,
          0.21,
          -1.12,
          -2.39,
          -3.48,
          -2.14,
          -0.74,
          0.64,
          2.04,
          3.48,
          4.91,
          6.31,
          7.7,
          9.08,
          10.48,
          11.88,
          13.27,
          14.67,
          16.05,
          17.4,
          18.75,
          20.11,
          21.46,
          22.79,
          24.13,
          25.53,
          26.82,
          27.7,
          26.38,
          25,
          23.58,
          22.17,
          20.72,
          19.26,
          17.81,
          16.36,
          14.92,
          13.48,
          12.07,
          10.67,
          9.23,
          7.78,
          6.34,
          4.9,
          3.45,
          1.99,
          0.58,
          -0.82,
          -2.2,
          -2.82,
          -2.96,
          -1.69,
          -1.06,
          -0.89,
          0.11,
          0.04,
          0.07,
          -0.11,
          0,
          -0.2,
          -0.25
         ],
         "xaxis": "x",
         "y": [
          0,
          -0.01,
          0.32,
          1.14,
          2.06,
          3.3,
          3.69,
          3.96,
          5.03,
          5.55,
          5.67,
          5.71,
          5.69,
          5.71,
          5.77,
          5.81,
          5.86,
          5.99,
          6.09,
          6.24,
          6.43,
          6.53,
          6.51,
          6.47,
          6.53,
          6.61,
          6.68,
          6.82,
          6.87,
          6.93,
          6.88,
          6.95,
          6.94,
          6.85,
          6.88,
          6.8,
          6.71,
          6.6,
          6.55,
          6.5,
          6.45,
          6.37,
          6.27,
          6.24,
          6.27,
          6.25,
          6.26,
          6.25,
          6.05,
          6,
          6.01,
          5.93,
          5.95,
          5.72,
          5.75,
          5.87,
          5.85,
          5.85,
          5.87,
          5.95,
          6.04,
          6.08,
          6.1,
          6.15,
          6.2,
          6.23,
          6.3,
          6.33,
          6.4,
          6.37,
          6.4,
          6.28,
          6.24,
          6.18,
          6.32,
          6.42,
          6.53,
          6.52,
          6.46,
          6.47,
          6.51,
          6.42,
          6.37,
          6.33,
          6.33,
          6.35,
          6.41,
          6.51,
          6.59,
          6.5,
          6.42,
          6.38,
          6.24,
          6.24,
          6.21,
          6.21,
          6.25,
          6.15,
          5.3,
          4.41,
          4.09,
          3.29,
          2.17,
          1.76,
          1.74,
          1.82,
          1.47,
          0,
          -0.01,
          0.32
         ],
         "yaxis": "y"
        },
        {
         "marker": {
          "color": "red"
         },
         "name": "Testing Score",
         "type": "scatter",
         "x": [
          -2.03,
          -2.97,
          -2.74,
          -1.95,
          -0.67,
          0.68,
          1.99,
          3.33,
          4.64,
          5.87,
          6.6,
          6.73,
          6.71,
          6.72,
          6.72,
          6.43,
          6.1,
          6.08,
          6.25,
          6.6,
          6.96,
          7.89,
          9.19,
          10.55,
          11.88,
          13.24,
          14.58,
          15.92,
          17.27,
          18.6,
          19.93,
          21.23,
          22.58,
          23.84,
          25,
          25.99,
          24.81,
          23.43,
          22.07,
          20.72,
          19.32,
          17.92,
          16.51,
          15.12,
          13.73,
          12.35,
          11.01,
          9.68,
          8.32,
          7,
          5.66,
          4.28,
          2.95,
          1.6,
          0.25,
          -1.09,
          -2.34,
          -2.86,
          -3.31,
          -2.38,
          -1.33,
          -1.23,
          -1.4,
          -1.22,
          -1,
          -1.15,
          -1.18,
          -2.36,
          -3.41,
          -3.95,
          -3.95,
          -3.96,
          -3.8,
          -3.78,
          -3.79,
          -3.6,
          -3.16,
          -2.83,
          -2.55,
          -1.85,
          -0.62,
          0.64,
          1.98,
          3.29,
          4.56,
          5.78,
          6.59,
          6.69,
          6.45,
          6.21,
          5.98,
          5.82,
          6.04,
          6.12,
          6.21,
          6.43,
          6.82,
          7.58,
          8.79,
          10.08,
          11.46,
          12.78,
          14.11,
          15.43,
          16.73,
          18.06,
          19.38,
          20.68,
          21.93,
          23.18,
          24.45,
          25.76,
          26.75,
          25.5,
          24.17,
          22.88,
          21.52,
          20.19,
          18.82,
          17.48,
          16.09,
          14.74,
          13.36,
          12.03,
          10.68,
          9.34,
          7.97,
          6.61,
          5.24,
          3.86,
          2.46,
          1.05,
          -0.34,
          -1.67,
          -2.61,
          -3.07,
          -2.29,
          -1.2,
          -1.3,
          -1.42,
          -1.24,
          -1.16,
          -0.99,
          -1.04,
          0,
          -0.06,
          -0.76,
          -1.03,
          -0.98,
          -2.03
         ],
         "xaxis": "x2",
         "y": [
          3.5,
          3.72,
          3.86,
          4.77,
          4.95,
          5.02,
          5.13,
          5.04,
          5.04,
          4.81,
          3.85,
          2.58,
          1.26,
          -0.05,
          -1.35,
          -2.22,
          -1.44,
          -0.17,
          1.12,
          2.38,
          3.69,
          4.59,
          4.9,
          4.88,
          4.88,
          4.84,
          4.71,
          4.72,
          4.78,
          4.8,
          4.82,
          4.74,
          4.81,
          4.95,
          4.75,
          4.83,
          4.95,
          5.06,
          5.16,
          5.21,
          5.29,
          5.22,
          5.28,
          5.35,
          5.42,
          5.44,
          5.41,
          5.44,
          5.41,
          5.4,
          5.58,
          5.62,
          5.69,
          5.77,
          5.85,
          5.93,
          5.98,
          5.17,
          4.47,
          3.73,
          3.46,
          2.26,
          1.17,
          0.43,
          1.29,
          2.34,
          3.61,
          4.25,
          3.46,
          2.34,
          1.11,
          -0.07,
          -0.82,
          0.45,
          1.79,
          3.05,
          4.12,
          4.4,
          4.67,
          5.71,
          5.92,
          5.64,
          5.5,
          5.36,
          5.1,
          4.63,
          3.79,
          2.55,
          1.35,
          0.12,
          -1.11,
          -2.24,
          -2,
          -0.79,
          0.48,
          1.73,
          2.95,
          3.99,
          4.48,
          4.39,
          4.27,
          4.08,
          4.06,
          4.01,
          3.7,
          3.61,
          3.56,
          3.35,
          3.05,
          2.76,
          2.51,
          2.45,
          2.8,
          2.84,
          2.97,
          3.2,
          3.4,
          3.59,
          3.82,
          4,
          4.21,
          4.4,
          4.52,
          4.75,
          4.88,
          5.03,
          5.23,
          5.3,
          5.62,
          5.95,
          6.17,
          6.44,
          6.58,
          6.81,
          6.31,
          5.35,
          4.55,
          4.21,
          3.11,
          2.08,
          1.66,
          1.81,
          1.86,
          2.05,
          0,
          0,
          0.75,
          1.7,
          2.82,
          3.5
         ],
         "yaxis": "y2"
        },
        {
         "marker": {
          "color": "blue"
         },
         "name": "Training Score",
         "type": "scatter",
         "x": [
          0,
          1,
          2,
          3,
          4,
          5,
          6,
          7,
          8,
          9,
          10,
          11,
          12,
          13,
          14,
          15,
          16,
          17,
          18,
          19,
          20,
          21,
          22,
          23,
          24,
          25,
          26,
          27,
          28,
          29,
          30,
          31,
          32,
          33,
          34,
          35,
          36,
          37,
          38,
          39,
          40,
          41,
          42,
          43,
          44,
          45,
          46,
          47,
          48,
          49,
          50,
          51,
          52,
          53,
          54,
          55,
          56,
          57,
          58,
          59,
          60,
          61,
          62,
          63,
          64,
          65,
          66,
          67,
          68,
          69,
          70,
          71,
          72,
          73,
          74,
          75,
          76,
          77,
          78,
          79,
          80,
          81,
          82,
          83,
          84,
          85
         ],
         "xaxis": "x3",
         "y": [
          15.17832088470459,
          13.72175407409668,
          12.337602615356445,
          11.035016059875488,
          10.00924301147461,
          9.017143249511719,
          8.73086166381836,
          8.709410667419434,
          9.145796775817871,
          9.728090286254883,
          7.691248416900635,
          8.203600883483887,
          8.77920913696289,
          9.401878356933594,
          8.23004150390625,
          8.666281700134277,
          8.923259735107422,
          7.739807605743408,
          6.7580647468566895,
          5.669234752655029,
          4.904269218444824,
          4.188714981079102,
          4.2505998611450195,
          2.4476747512817383,
          6.8911614418029785,
          7.30025053024292,
          8.055854797363281,
          8.876324653625488,
          9.558180809020996,
          9.537257194519043,
          9.578919410705566,
          9.500953674316406,
          9.16866683959961,
          8.8256254196167,
          8.790478706359863,
          8.274626731872559,
          6.5946946144104,
          8.589208602905273,
          7.241795063018799,
          6.392356872558594,
          8.151297569274902,
          8.31560230255127,
          8.825406074523926,
          8.813721656799316,
          12.408894538879395,
          11.999167442321777,
          11.653514862060547,
          10.656262397766113,
          13.709702491760254,
          12.779921531677246,
          11.902796745300293,
          11.20848560333252,
          10.847061157226562,
          10.942234992980957,
          11.188023567199707,
          11.782852172851562,
          12.450746536254883,
          12.103857040405273,
          11.698918342590332,
          9.82301139831543,
          9.786064147949219,
          8.722960472106934,
          11.760457038879395,
          11.089874267578125,
          10.522542953491211,
          10.383265495300293,
          10.442500114440918,
          11.039398193359375,
          11.882035255432129,
          13.111181259155273,
          14.310049057006836,
          11.940667152404785,
          13.164870262145996,
          14.327528953552246,
          15.463502883911133,
          16.467744827270508
         ],
         "yaxis": "y3"
        },
        {
         "marker": {
          "color": "red"
         },
         "name": "Testing Score",
         "type": "scatter",
         "x": [
          0,
          1,
          2,
          3,
          4,
          5,
          6,
          7,
          8,
          9,
          10,
          11,
          12,
          13,
          14,
          15,
          16,
          17,
          18,
          19,
          20,
          21,
          22,
          23,
          24,
          25,
          26,
          27,
          28,
          29,
          30,
          31,
          32,
          33,
          34,
          35,
          36,
          37,
          38,
          39,
          40,
          41,
          42,
          43,
          44,
          45,
          46,
          47,
          48,
          49,
          50,
          51,
          52,
          53,
          54,
          55,
          56,
          57,
          58,
          59,
          60,
          61,
          62,
          63,
          64,
          65,
          66,
          67,
          68,
          69,
          70,
          71,
          72,
          73,
          74,
          75,
          76,
          77,
          78,
          79,
          80,
          81,
          82,
          83,
          84,
          85,
          86,
          87,
          88,
          89,
          90,
          91,
          92,
          93,
          94,
          95,
          96,
          97,
          98,
          99,
          100,
          101,
          102,
          103,
          104,
          105,
          106,
          107,
          108,
          109,
          110,
          111,
          112,
          113,
          114,
          115,
          116,
          117,
          118,
          119,
          120,
          121,
          122,
          123,
          124,
          125
         ],
         "xaxis": "x3",
         "y": [
          54.81248092651367,
          52.538516998291016,
          50.207481384277344,
          47.80967330932617,
          45.48052978515625,
          43.27361297607422,
          41.25025177001953,
          39.50363540649414,
          37.92070388793945,
          36.48765563964844,
          35.239227294921875,
          34.91340637207031,
          33.981754302978516,
          33.07194900512695,
          32.18889617919922,
          31.179237365722656,
          29.890361785888672,
          28.31256866455078,
          26.443321228027344,
          24.119760513305664,
          17.30577278137207,
          10.6891508102417,
          9.227986335754395,
          8.651922225952148,
          9.135995864868164,
          10.527981758117676,
          13.3243989944458,
          16.503437042236328,
          19.871849060058594,
          23.336305618286133,
          26.84629249572754,
          30.356510162353516,
          33.82102966308594,
          37.16597366333008,
          40.415306091308594,
          43.55614471435547,
          46.651737213134766,
          43.692420959472656,
          47.01239776611328,
          50.14625930786133,
          47.184261322021484,
          49.98081970214844,
          52.40523147583008,
          54.38919448852539,
          56.61065673828125,
          58.933082580566406,
          61.47760009765625,
          64.0057601928711,
          66.41377258300781,
          68.75843048095703,
          70.59487915039062,
          71.79585266113281,
          72.73986053466797,
          73.53460693359375,
          74.13584899902344,
          74.45740509033203,
          74.48417663574219,
          74.25656127929688,
          73.79852294921875,
          73.1013412475586,
          72.20616912841797,
          71.09774017333984,
          73.5172119140625,
          73.71707916259766,
          70.34027099609375,
          73.57355499267578,
          71.99651336669922,
          70.65367889404297,
          69.49092102050781,
          68.03114318847656,
          66.42095947265625,
          63.27722930908203,
          60.874935150146484,
          58.101261138916016,
          55.400821685791016,
          52.90412139892578,
          50.420345306396484,
          48.097251892089844,
          45.65513610839844,
          43.212554931640625,
          40.74607849121094,
          38.60593032836914,
          36.388526916503906,
          34.34971618652344,
          32.33042907714844,
          30.646968841552734,
          28.916061401367188,
          27.38002586364746,
          22.0372257232666,
          24.245166778564453,
          22.779937744140625,
          21.155649185180664,
          19.510807037353516,
          17.514873504638672,
          15.394336700439453,
          12.931135177612305,
          14.26121711730957,
          11.300263404846191,
          9.163349151611328,
          7.566765785217285,
          6.86640739440918,
          7.342923641204834,
          8.81065559387207,
          10.869199752807617,
          14.074670791625977,
          17.440940856933594,
          20.88874053955078,
          24.381500244140625,
          27.886924743652344,
          31.318391799926758,
          34.661415100097656,
          37.883453369140625,
          40.991214752197266,
          43.88768768310547,
          47.04615783691406,
          50.26054000854492,
          53.373268127441406,
          56.30190658569336,
          59.080142974853516,
          61.674564361572266,
          64.33232879638672,
          66.86051177978516,
          69.21744537353516,
          71.37008666992188,
          68.4388656616211,
          70.13645935058594
         ],
         "yaxis": "y3"
        }
       ],
       "layout": {
        "annotations": [
         {
          "font": {
           "size": 16
          },
          "showarrow": false,
          "text": "Training plot",
          "x": 0.225,
          "xanchor": "center",
          "xref": "paper",
          "y": 1,
          "yanchor": "bottom",
          "yref": "paper"
         },
         {
          "font": {
           "size": 16
          },
          "showarrow": false,
          "text": "Testing plot",
          "x": 0.775,
          "xanchor": "center",
          "xref": "paper",
          "y": 1,
          "yanchor": "bottom",
          "yref": "paper"
         },
         {
          "font": {
           "size": 16
          },
          "showarrow": false,
          "text": "Anomaly score by t-SNE",
          "x": 0.5,
          "xanchor": "center",
          "xref": "paper",
          "y": 0.375,
          "yanchor": "bottom",
          "yref": "paper"
         }
        ],
        "showlegend": false,
        "template": {
         "data": {
          "bar": [
           {
            "error_x": {
             "color": "#2a3f5f"
            },
            "error_y": {
             "color": "#2a3f5f"
            },
            "marker": {
             "line": {
              "color": "#E5ECF6",
              "width": 0.5
             }
            },
            "type": "bar"
           }
          ],
          "barpolar": [
           {
            "marker": {
             "line": {
              "color": "#E5ECF6",
              "width": 0.5
             }
            },
            "type": "barpolar"
           }
          ],
          "carpet": [
           {
            "aaxis": {
             "endlinecolor": "#2a3f5f",
             "gridcolor": "white",
             "linecolor": "white",
             "minorgridcolor": "white",
             "startlinecolor": "#2a3f5f"
            },
            "baxis": {
             "endlinecolor": "#2a3f5f",
             "gridcolor": "white",
             "linecolor": "white",
             "minorgridcolor": "white",
             "startlinecolor": "#2a3f5f"
            },
            "type": "carpet"
           }
          ],
          "choropleth": [
           {
            "colorbar": {
             "outlinewidth": 0,
             "ticks": ""
            },
            "type": "choropleth"
           }
          ],
          "contour": [
           {
            "colorbar": {
             "outlinewidth": 0,
             "ticks": ""
            },
            "colorscale": [
             [
              0,
              "#0d0887"
             ],
             [
              0.1111111111111111,
              "#46039f"
             ],
             [
              0.2222222222222222,
              "#7201a8"
             ],
             [
              0.3333333333333333,
              "#9c179e"
             ],
             [
              0.4444444444444444,
              "#bd3786"
             ],
             [
              0.5555555555555556,
              "#d8576b"
             ],
             [
              0.6666666666666666,
              "#ed7953"
             ],
             [
              0.7777777777777778,
              "#fb9f3a"
             ],
             [
              0.8888888888888888,
              "#fdca26"
             ],
             [
              1,
              "#f0f921"
             ]
            ],
            "type": "contour"
           }
          ],
          "contourcarpet": [
           {
            "colorbar": {
             "outlinewidth": 0,
             "ticks": ""
            },
            "type": "contourcarpet"
           }
          ],
          "heatmap": [
           {
            "colorbar": {
             "outlinewidth": 0,
             "ticks": ""
            },
            "colorscale": [
             [
              0,
              "#0d0887"
             ],
             [
              0.1111111111111111,
              "#46039f"
             ],
             [
              0.2222222222222222,
              "#7201a8"
             ],
             [
              0.3333333333333333,
              "#9c179e"
             ],
             [
              0.4444444444444444,
              "#bd3786"
             ],
             [
              0.5555555555555556,
              "#d8576b"
             ],
             [
              0.6666666666666666,
              "#ed7953"
             ],
             [
              0.7777777777777778,
              "#fb9f3a"
             ],
             [
              0.8888888888888888,
              "#fdca26"
             ],
             [
              1,
              "#f0f921"
             ]
            ],
            "type": "heatmap"
           }
          ],
          "heatmapgl": [
           {
            "colorbar": {
             "outlinewidth": 0,
             "ticks": ""
            },
            "colorscale": [
             [
              0,
              "#0d0887"
             ],
             [
              0.1111111111111111,
              "#46039f"
             ],
             [
              0.2222222222222222,
              "#7201a8"
             ],
             [
              0.3333333333333333,
              "#9c179e"
             ],
             [
              0.4444444444444444,
              "#bd3786"
             ],
             [
              0.5555555555555556,
              "#d8576b"
             ],
             [
              0.6666666666666666,
              "#ed7953"
             ],
             [
              0.7777777777777778,
              "#fb9f3a"
             ],
             [
              0.8888888888888888,
              "#fdca26"
             ],
             [
              1,
              "#f0f921"
             ]
            ],
            "type": "heatmapgl"
           }
          ],
          "histogram": [
           {
            "marker": {
             "colorbar": {
              "outlinewidth": 0,
              "ticks": ""
             }
            },
            "type": "histogram"
           }
          ],
          "histogram2d": [
           {
            "colorbar": {
             "outlinewidth": 0,
             "ticks": ""
            },
            "colorscale": [
             [
              0,
              "#0d0887"
             ],
             [
              0.1111111111111111,
              "#46039f"
             ],
             [
              0.2222222222222222,
              "#7201a8"
             ],
             [
              0.3333333333333333,
              "#9c179e"
             ],
             [
              0.4444444444444444,
              "#bd3786"
             ],
             [
              0.5555555555555556,
              "#d8576b"
             ],
             [
              0.6666666666666666,
              "#ed7953"
             ],
             [
              0.7777777777777778,
              "#fb9f3a"
             ],
             [
              0.8888888888888888,
              "#fdca26"
             ],
             [
              1,
              "#f0f921"
             ]
            ],
            "type": "histogram2d"
           }
          ],
          "histogram2dcontour": [
           {
            "colorbar": {
             "outlinewidth": 0,
             "ticks": ""
            },
            "colorscale": [
             [
              0,
              "#0d0887"
             ],
             [
              0.1111111111111111,
              "#46039f"
             ],
             [
              0.2222222222222222,
              "#7201a8"
             ],
             [
              0.3333333333333333,
              "#9c179e"
             ],
             [
              0.4444444444444444,
              "#bd3786"
             ],
             [
              0.5555555555555556,
              "#d8576b"
             ],
             [
              0.6666666666666666,
              "#ed7953"
             ],
             [
              0.7777777777777778,
              "#fb9f3a"
             ],
             [
              0.8888888888888888,
              "#fdca26"
             ],
             [
              1,
              "#f0f921"
             ]
            ],
            "type": "histogram2dcontour"
           }
          ],
          "mesh3d": [
           {
            "colorbar": {
             "outlinewidth": 0,
             "ticks": ""
            },
            "type": "mesh3d"
           }
          ],
          "parcoords": [
           {
            "line": {
             "colorbar": {
              "outlinewidth": 0,
              "ticks": ""
             }
            },
            "type": "parcoords"
           }
          ],
          "pie": [
           {
            "automargin": true,
            "type": "pie"
           }
          ],
          "scatter": [
           {
            "marker": {
             "colorbar": {
              "outlinewidth": 0,
              "ticks": ""
             }
            },
            "type": "scatter"
           }
          ],
          "scatter3d": [
           {
            "line": {
             "colorbar": {
              "outlinewidth": 0,
              "ticks": ""
             }
            },
            "marker": {
             "colorbar": {
              "outlinewidth": 0,
              "ticks": ""
             }
            },
            "type": "scatter3d"
           }
          ],
          "scattercarpet": [
           {
            "marker": {
             "colorbar": {
              "outlinewidth": 0,
              "ticks": ""
             }
            },
            "type": "scattercarpet"
           }
          ],
          "scattergeo": [
           {
            "marker": {
             "colorbar": {
              "outlinewidth": 0,
              "ticks": ""
             }
            },
            "type": "scattergeo"
           }
          ],
          "scattergl": [
           {
            "marker": {
             "colorbar": {
              "outlinewidth": 0,
              "ticks": ""
             }
            },
            "type": "scattergl"
           }
          ],
          "scattermapbox": [
           {
            "marker": {
             "colorbar": {
              "outlinewidth": 0,
              "ticks": ""
             }
            },
            "type": "scattermapbox"
           }
          ],
          "scatterpolar": [
           {
            "marker": {
             "colorbar": {
              "outlinewidth": 0,
              "ticks": ""
             }
            },
            "type": "scatterpolar"
           }
          ],
          "scatterpolargl": [
           {
            "marker": {
             "colorbar": {
              "outlinewidth": 0,
              "ticks": ""
             }
            },
            "type": "scatterpolargl"
           }
          ],
          "scatterternary": [
           {
            "marker": {
             "colorbar": {
              "outlinewidth": 0,
              "ticks": ""
             }
            },
            "type": "scatterternary"
           }
          ],
          "surface": [
           {
            "colorbar": {
             "outlinewidth": 0,
             "ticks": ""
            },
            "colorscale": [
             [
              0,
              "#0d0887"
             ],
             [
              0.1111111111111111,
              "#46039f"
             ],
             [
              0.2222222222222222,
              "#7201a8"
             ],
             [
              0.3333333333333333,
              "#9c179e"
             ],
             [
              0.4444444444444444,
              "#bd3786"
             ],
             [
              0.5555555555555556,
              "#d8576b"
             ],
             [
              0.6666666666666666,
              "#ed7953"
             ],
             [
              0.7777777777777778,
              "#fb9f3a"
             ],
             [
              0.8888888888888888,
              "#fdca26"
             ],
             [
              1,
              "#f0f921"
             ]
            ],
            "type": "surface"
           }
          ],
          "table": [
           {
            "cells": {
             "fill": {
              "color": "#EBF0F8"
             },
             "line": {
              "color": "white"
             }
            },
            "header": {
             "fill": {
              "color": "#C8D4E3"
             },
             "line": {
              "color": "white"
             }
            },
            "type": "table"
           }
          ]
         },
         "layout": {
          "annotationdefaults": {
           "arrowcolor": "#2a3f5f",
           "arrowhead": 0,
           "arrowwidth": 1
          },
          "coloraxis": {
           "colorbar": {
            "outlinewidth": 0,
            "ticks": ""
           }
          },
          "colorscale": {
           "diverging": [
            [
             0,
             "#8e0152"
            ],
            [
             0.1,
             "#c51b7d"
            ],
            [
             0.2,
             "#de77ae"
            ],
            [
             0.3,
             "#f1b6da"
            ],
            [
             0.4,
             "#fde0ef"
            ],
            [
             0.5,
             "#f7f7f7"
            ],
            [
             0.6,
             "#e6f5d0"
            ],
            [
             0.7,
             "#b8e186"
            ],
            [
             0.8,
             "#7fbc41"
            ],
            [
             0.9,
             "#4d9221"
            ],
            [
             1,
             "#276419"
            ]
           ],
           "sequential": [
            [
             0,
             "#0d0887"
            ],
            [
             0.1111111111111111,
             "#46039f"
            ],
            [
             0.2222222222222222,
             "#7201a8"
            ],
            [
             0.3333333333333333,
             "#9c179e"
            ],
            [
             0.4444444444444444,
             "#bd3786"
            ],
            [
             0.5555555555555556,
             "#d8576b"
            ],
            [
             0.6666666666666666,
             "#ed7953"
            ],
            [
             0.7777777777777778,
             "#fb9f3a"
            ],
            [
             0.8888888888888888,
             "#fdca26"
            ],
            [
             1,
             "#f0f921"
            ]
           ],
           "sequentialminus": [
            [
             0,
             "#0d0887"
            ],
            [
             0.1111111111111111,
             "#46039f"
            ],
            [
             0.2222222222222222,
             "#7201a8"
            ],
            [
             0.3333333333333333,
             "#9c179e"
            ],
            [
             0.4444444444444444,
             "#bd3786"
            ],
            [
             0.5555555555555556,
             "#d8576b"
            ],
            [
             0.6666666666666666,
             "#ed7953"
            ],
            [
             0.7777777777777778,
             "#fb9f3a"
            ],
            [
             0.8888888888888888,
             "#fdca26"
            ],
            [
             1,
             "#f0f921"
            ]
           ]
          },
          "colorway": [
           "#636efa",
           "#EF553B",
           "#00cc96",
           "#ab63fa",
           "#FFA15A",
           "#19d3f3",
           "#FF6692",
           "#B6E880",
           "#FF97FF",
           "#FECB52"
          ],
          "font": {
           "color": "#2a3f5f"
          },
          "geo": {
           "bgcolor": "white",
           "lakecolor": "white",
           "landcolor": "#E5ECF6",
           "showlakes": true,
           "showland": true,
           "subunitcolor": "white"
          },
          "hoverlabel": {
           "align": "left"
          },
          "hovermode": "closest",
          "mapbox": {
           "style": "light"
          },
          "paper_bgcolor": "white",
          "plot_bgcolor": "#E5ECF6",
          "polar": {
           "angularaxis": {
            "gridcolor": "white",
            "linecolor": "white",
            "ticks": ""
           },
           "bgcolor": "#E5ECF6",
           "radialaxis": {
            "gridcolor": "white",
            "linecolor": "white",
            "ticks": ""
           }
          },
          "scene": {
           "xaxis": {
            "backgroundcolor": "#E5ECF6",
            "gridcolor": "white",
            "gridwidth": 2,
            "linecolor": "white",
            "showbackground": true,
            "ticks": "",
            "zerolinecolor": "white"
           },
           "yaxis": {
            "backgroundcolor": "#E5ECF6",
            "gridcolor": "white",
            "gridwidth": 2,
            "linecolor": "white",
            "showbackground": true,
            "ticks": "",
            "zerolinecolor": "white"
           },
           "zaxis": {
            "backgroundcolor": "#E5ECF6",
            "gridcolor": "white",
            "gridwidth": 2,
            "linecolor": "white",
            "showbackground": true,
            "ticks": "",
            "zerolinecolor": "white"
           }
          },
          "shapedefaults": {
           "line": {
            "color": "#2a3f5f"
           }
          },
          "ternary": {
           "aaxis": {
            "gridcolor": "white",
            "linecolor": "white",
            "ticks": ""
           },
           "baxis": {
            "gridcolor": "white",
            "linecolor": "white",
            "ticks": ""
           },
           "bgcolor": "#E5ECF6",
           "caxis": {
            "gridcolor": "white",
            "linecolor": "white",
            "ticks": ""
           }
          },
          "title": {
           "x": 0.05
          },
          "xaxis": {
           "automargin": true,
           "gridcolor": "white",
           "linecolor": "white",
           "ticks": "",
           "title": {
            "standoff": 15
           },
           "zerolinecolor": "white",
           "zerolinewidth": 2
          },
          "yaxis": {
           "automargin": true,
           "gridcolor": "white",
           "linecolor": "white",
           "ticks": "",
           "title": {
            "standoff": 15
           },
           "zerolinecolor": "white",
           "zerolinewidth": 2
          }
         }
        },
        "xaxis": {
         "anchor": "y",
         "domain": [
          0,
          0.45
         ]
        },
        "xaxis2": {
         "anchor": "y2",
         "domain": [
          0.55,
          1
         ]
        },
        "xaxis3": {
         "anchor": "y3",
         "domain": [
          0,
          1
         ]
        },
        "yaxis": {
         "anchor": "x",
         "domain": [
          0.625,
          1
         ]
        },
        "yaxis2": {
         "anchor": "x2",
         "domain": [
          0.625,
          1
         ]
        },
        "yaxis3": {
         "anchor": "x3",
         "domain": [
          0,
          0.375
         ]
        }
       }
      },
      "text/html": [
       "<div>\n",
       "        \n",
       "        \n",
       "            <div id=\"e48e0351-ee32-4f5a-8d1f-1b6ef0ba6ff5\" class=\"plotly-graph-div\" style=\"height:525px; width:100%;\"></div>\n",
       "            <script type=\"text/javascript\">\n",
       "                require([\"plotly\"], function(Plotly) {\n",
       "                    window.PLOTLYENV=window.PLOTLYENV || {};\n",
       "                    \n",
       "                if (document.getElementById(\"e48e0351-ee32-4f5a-8d1f-1b6ef0ba6ff5\")) {\n",
       "                    Plotly.newPlot(\n",
       "                        'e48e0351-ee32-4f5a-8d1f-1b6ef0ba6ff5',\n",
       "                        [{\"marker\": {\"color\": \"blue\"}, \"name\": \"Training path\", \"type\": \"scatter\", \"x\": [-0.0, -0.2, -0.25, -0.27, -0.8, -1.25, -2.53, -2.69, -2.02, -0.82, 0.45, 1.77, 3.1, 4.4, 5.73, 7.06, 8.38, 9.71, 11.1, 12.4, 13.67, 14.95, 16.23, 17.53, 18.82, 20.1, 21.42, 22.73, 24.02, 25.29, 26.51, 27.5, 26.32, 24.94, 23.55, 22.16, 20.8, 19.45, 18.11, 16.76, 13.95, 12.54, 11.15, 9.76, 8.37, 7.0, 5.63, 4.26, 2.95, 1.56, 0.21, -1.12, -2.39, -3.48, -2.14, -0.74, 0.64, 2.04, 3.48, 4.91, 6.31, 7.7, 9.08, 10.48, 11.88, 13.27, 14.67, 16.05, 17.4, 18.75, 20.11, 21.46, 22.79, 24.13, 25.53, 26.82, 27.7, 26.38, 25.0, 23.58, 22.17, 20.72, 19.26, 17.81, 16.36, 14.92, 13.48, 12.07, 10.67, 9.23, 7.78, 6.34, 4.9, 3.45, 1.99, 0.58, -0.82, -2.2, -2.82, -2.96, -1.69, -1.06, -0.89, 0.11, 0.04, 0.07, -0.11, -0.0, -0.2, -0.25], \"xaxis\": \"x\", \"y\": [0.0, -0.01, 0.32, 1.14, 2.06, 3.3, 3.69, 3.96, 5.03, 5.55, 5.67, 5.71, 5.69, 5.71, 5.77, 5.81, 5.86, 5.99, 6.09, 6.24, 6.43, 6.53, 6.51, 6.47, 6.53, 6.61, 6.68, 6.82, 6.87, 6.93, 6.88, 6.95, 6.94, 6.85, 6.88, 6.8, 6.71, 6.6, 6.55, 6.5, 6.45, 6.37, 6.27, 6.24, 6.27, 6.25, 6.26, 6.25, 6.05, 6.0, 6.01, 5.93, 5.95, 5.72, 5.75, 5.87, 5.85, 5.85, 5.87, 5.95, 6.04, 6.08, 6.1, 6.15, 6.2, 6.23, 6.3, 6.33, 6.4, 6.37, 6.4, 6.28, 6.24, 6.18, 6.32, 6.42, 6.53, 6.52, 6.46, 6.47, 6.51, 6.42, 6.37, 6.33, 6.33, 6.35, 6.41, 6.51, 6.59, 6.5, 6.42, 6.38, 6.24, 6.24, 6.21, 6.21, 6.25, 6.15, 5.3, 4.41, 4.09, 3.29, 2.17, 1.76, 1.74, 1.82, 1.47, 0.0, -0.01, 0.32], \"yaxis\": \"y\"}, {\"marker\": {\"color\": \"red\"}, \"name\": \"Testing Score\", \"type\": \"scatter\", \"x\": [-2.03, -2.97, -2.74, -1.95, -0.67, 0.68, 1.99, 3.33, 4.64, 5.87, 6.6, 6.73, 6.71, 6.72, 6.72, 6.43, 6.1, 6.08, 6.25, 6.6, 6.96, 7.89, 9.19, 10.55, 11.88, 13.24, 14.58, 15.92, 17.27, 18.6, 19.93, 21.23, 22.58, 23.84, 25.0, 25.99, 24.81, 23.43, 22.07, 20.72, 19.32, 17.92, 16.51, 15.12, 13.73, 12.35, 11.01, 9.68, 8.32, 7.0, 5.66, 4.28, 2.95, 1.6, 0.25, -1.09, -2.34, -2.86, -3.31, -2.38, -1.33, -1.23, -1.4, -1.22, -1.0, -1.15, -1.18, -2.36, -3.41, -3.95, -3.95, -3.96, -3.8, -3.78, -3.79, -3.6, -3.16, -2.83, -2.55, -1.85, -0.62, 0.64, 1.98, 3.29, 4.56, 5.78, 6.59, 6.69, 6.45, 6.21, 5.98, 5.82, 6.04, 6.12, 6.21, 6.43, 6.82, 7.58, 8.79, 10.08, 11.46, 12.78, 14.11, 15.43, 16.73, 18.06, 19.38, 20.68, 21.93, 23.18, 24.45, 25.76, 26.75, 25.5, 24.17, 22.88, 21.52, 20.19, 18.82, 17.48, 16.09, 14.74, 13.36, 12.03, 10.68, 9.34, 7.97, 6.61, 5.24, 3.86, 2.46, 1.05, -0.34, -1.67, -2.61, -3.07, -2.29, -1.2, -1.3, -1.42, -1.24, -1.16, -0.99, -1.04, 0.0, -0.06, -0.76, -1.03, -0.98, -2.03], \"xaxis\": \"x2\", \"y\": [3.5, 3.72, 3.86, 4.77, 4.95, 5.02, 5.13, 5.04, 5.04, 4.81, 3.85, 2.58, 1.26, -0.05, -1.35, -2.22, -1.44, -0.17, 1.12, 2.38, 3.69, 4.59, 4.9, 4.88, 4.88, 4.84, 4.71, 4.72, 4.78, 4.8, 4.82, 4.74, 4.81, 4.95, 4.75, 4.83, 4.95, 5.06, 5.16, 5.21, 5.29, 5.22, 5.28, 5.35, 5.42, 5.44, 5.41, 5.44, 5.41, 5.4, 5.58, 5.62, 5.69, 5.77, 5.85, 5.93, 5.98, 5.17, 4.47, 3.73, 3.46, 2.26, 1.17, 0.43, 1.29, 2.34, 3.61, 4.25, 3.46, 2.34, 1.11, -0.07, -0.82, 0.45, 1.79, 3.05, 4.12, 4.4, 4.67, 5.71, 5.92, 5.64, 5.5, 5.36, 5.1, 4.63, 3.79, 2.55, 1.35, 0.12, -1.11, -2.24, -2.0, -0.79, 0.48, 1.73, 2.95, 3.99, 4.48, 4.39, 4.27, 4.08, 4.06, 4.01, 3.7, 3.61, 3.56, 3.35, 3.05, 2.76, 2.51, 2.45, 2.8, 2.84, 2.97, 3.2, 3.4, 3.59, 3.82, 4.0, 4.21, 4.4, 4.52, 4.75, 4.88, 5.03, 5.23, 5.3, 5.62, 5.95, 6.17, 6.44, 6.58, 6.81, 6.31, 5.35, 4.55, 4.21, 3.11, 2.08, 1.66, 1.81, 1.86, 2.05, -0.0, -0.0, 0.75, 1.7, 2.82, 3.5], \"yaxis\": \"y2\"}, {\"marker\": {\"color\": \"blue\"}, \"name\": \"Training Score\", \"type\": \"scatter\", \"x\": [0, 1, 2, 3, 4, 5, 6, 7, 8, 9, 10, 11, 12, 13, 14, 15, 16, 17, 18, 19, 20, 21, 22, 23, 24, 25, 26, 27, 28, 29, 30, 31, 32, 33, 34, 35, 36, 37, 38, 39, 40, 41, 42, 43, 44, 45, 46, 47, 48, 49, 50, 51, 52, 53, 54, 55, 56, 57, 58, 59, 60, 61, 62, 63, 64, 65, 66, 67, 68, 69, 70, 71, 72, 73, 74, 75, 76, 77, 78, 79, 80, 81, 82, 83, 84, 85], \"xaxis\": \"x3\", \"y\": [15.17832088470459, 13.72175407409668, 12.337602615356445, 11.035016059875488, 10.00924301147461, 9.017143249511719, 8.73086166381836, 8.709410667419434, 9.145796775817871, 9.728090286254883, 7.691248416900635, 8.203600883483887, 8.77920913696289, 9.401878356933594, 8.23004150390625, 8.666281700134277, 8.923259735107422, 7.739807605743408, 6.7580647468566895, 5.669234752655029, 4.904269218444824, 4.188714981079102, 4.2505998611450195, 2.4476747512817383, 6.8911614418029785, 7.30025053024292, 8.055854797363281, 8.876324653625488, 9.558180809020996, 9.537257194519043, 9.578919410705566, 9.500953674316406, 9.16866683959961, 8.8256254196167, 8.790478706359863, 8.274626731872559, 6.5946946144104, 8.589208602905273, 7.241795063018799, 6.392356872558594, 8.151297569274902, 8.31560230255127, 8.825406074523926, 8.813721656799316, 12.408894538879395, 11.999167442321777, 11.653514862060547, 10.656262397766113, 13.709702491760254, 12.779921531677246, 11.902796745300293, 11.20848560333252, 10.847061157226562, 10.942234992980957, 11.188023567199707, 11.782852172851562, 12.450746536254883, 12.103857040405273, 11.698918342590332, 9.82301139831543, 9.786064147949219, 8.722960472106934, 11.760457038879395, 11.089874267578125, 10.522542953491211, 10.383265495300293, 10.442500114440918, 11.039398193359375, 11.882035255432129, 13.111181259155273, 14.310049057006836, 11.940667152404785, 13.164870262145996, 14.327528953552246, 15.463502883911133, 16.467744827270508], \"yaxis\": \"y3\"}, {\"marker\": {\"color\": \"red\"}, \"name\": \"Testing Score\", \"type\": \"scatter\", \"x\": [0, 1, 2, 3, 4, 5, 6, 7, 8, 9, 10, 11, 12, 13, 14, 15, 16, 17, 18, 19, 20, 21, 22, 23, 24, 25, 26, 27, 28, 29, 30, 31, 32, 33, 34, 35, 36, 37, 38, 39, 40, 41, 42, 43, 44, 45, 46, 47, 48, 49, 50, 51, 52, 53, 54, 55, 56, 57, 58, 59, 60, 61, 62, 63, 64, 65, 66, 67, 68, 69, 70, 71, 72, 73, 74, 75, 76, 77, 78, 79, 80, 81, 82, 83, 84, 85, 86, 87, 88, 89, 90, 91, 92, 93, 94, 95, 96, 97, 98, 99, 100, 101, 102, 103, 104, 105, 106, 107, 108, 109, 110, 111, 112, 113, 114, 115, 116, 117, 118, 119, 120, 121, 122, 123, 124, 125], \"xaxis\": \"x3\", \"y\": [54.81248092651367, 52.538516998291016, 50.207481384277344, 47.80967330932617, 45.48052978515625, 43.27361297607422, 41.25025177001953, 39.50363540649414, 37.92070388793945, 36.48765563964844, 35.239227294921875, 34.91340637207031, 33.981754302978516, 33.07194900512695, 32.18889617919922, 31.179237365722656, 29.890361785888672, 28.31256866455078, 26.443321228027344, 24.119760513305664, 17.30577278137207, 10.6891508102417, 9.227986335754395, 8.651922225952148, 9.135995864868164, 10.527981758117676, 13.3243989944458, 16.503437042236328, 19.871849060058594, 23.336305618286133, 26.84629249572754, 30.356510162353516, 33.82102966308594, 37.16597366333008, 40.415306091308594, 43.55614471435547, 46.651737213134766, 43.692420959472656, 47.01239776611328, 50.14625930786133, 47.184261322021484, 49.98081970214844, 52.40523147583008, 54.38919448852539, 56.61065673828125, 58.933082580566406, 61.47760009765625, 64.0057601928711, 66.41377258300781, 68.75843048095703, 70.59487915039062, 71.79585266113281, 72.73986053466797, 73.53460693359375, 74.13584899902344, 74.45740509033203, 74.48417663574219, 74.25656127929688, 73.79852294921875, 73.1013412475586, 72.20616912841797, 71.09774017333984, 73.5172119140625, 73.71707916259766, 70.34027099609375, 73.57355499267578, 71.99651336669922, 70.65367889404297, 69.49092102050781, 68.03114318847656, 66.42095947265625, 63.27722930908203, 60.874935150146484, 58.101261138916016, 55.400821685791016, 52.90412139892578, 50.420345306396484, 48.097251892089844, 45.65513610839844, 43.212554931640625, 40.74607849121094, 38.60593032836914, 36.388526916503906, 34.34971618652344, 32.33042907714844, 30.646968841552734, 28.916061401367188, 27.38002586364746, 22.0372257232666, 24.245166778564453, 22.779937744140625, 21.155649185180664, 19.510807037353516, 17.514873504638672, 15.394336700439453, 12.931135177612305, 14.26121711730957, 11.300263404846191, 9.163349151611328, 7.566765785217285, 6.86640739440918, 7.342923641204834, 8.81065559387207, 10.869199752807617, 14.074670791625977, 17.440940856933594, 20.88874053955078, 24.381500244140625, 27.886924743652344, 31.318391799926758, 34.661415100097656, 37.883453369140625, 40.991214752197266, 43.88768768310547, 47.04615783691406, 50.26054000854492, 53.373268127441406, 56.30190658569336, 59.080142974853516, 61.674564361572266, 64.33232879638672, 66.86051177978516, 69.21744537353516, 71.37008666992188, 68.4388656616211, 70.13645935058594], \"yaxis\": \"y3\"}],\n",
       "                        {\"annotations\": [{\"font\": {\"size\": 16}, \"showarrow\": false, \"text\": \"Training plot\", \"x\": 0.225, \"xanchor\": \"center\", \"xref\": \"paper\", \"y\": 1.0, \"yanchor\": \"bottom\", \"yref\": \"paper\"}, {\"font\": {\"size\": 16}, \"showarrow\": false, \"text\": \"Testing plot\", \"x\": 0.775, \"xanchor\": \"center\", \"xref\": \"paper\", \"y\": 1.0, \"yanchor\": \"bottom\", \"yref\": \"paper\"}, {\"font\": {\"size\": 16}, \"showarrow\": false, \"text\": \"Anomaly score by t-SNE\", \"x\": 0.5, \"xanchor\": \"center\", \"xref\": \"paper\", \"y\": 0.375, \"yanchor\": \"bottom\", \"yref\": \"paper\"}], \"showlegend\": false, \"template\": {\"data\": {\"bar\": [{\"error_x\": {\"color\": \"#2a3f5f\"}, \"error_y\": {\"color\": \"#2a3f5f\"}, \"marker\": {\"line\": {\"color\": \"#E5ECF6\", \"width\": 0.5}}, \"type\": \"bar\"}], \"barpolar\": [{\"marker\": {\"line\": {\"color\": \"#E5ECF6\", \"width\": 0.5}}, \"type\": \"barpolar\"}], \"carpet\": [{\"aaxis\": {\"endlinecolor\": \"#2a3f5f\", \"gridcolor\": \"white\", \"linecolor\": \"white\", \"minorgridcolor\": \"white\", \"startlinecolor\": \"#2a3f5f\"}, \"baxis\": {\"endlinecolor\": \"#2a3f5f\", \"gridcolor\": \"white\", \"linecolor\": \"white\", \"minorgridcolor\": \"white\", \"startlinecolor\": \"#2a3f5f\"}, \"type\": \"carpet\"}], \"choropleth\": [{\"colorbar\": {\"outlinewidth\": 0, \"ticks\": \"\"}, \"type\": \"choropleth\"}], \"contour\": [{\"colorbar\": {\"outlinewidth\": 0, \"ticks\": \"\"}, \"colorscale\": [[0.0, \"#0d0887\"], [0.1111111111111111, \"#46039f\"], [0.2222222222222222, \"#7201a8\"], [0.3333333333333333, \"#9c179e\"], [0.4444444444444444, \"#bd3786\"], [0.5555555555555556, \"#d8576b\"], [0.6666666666666666, \"#ed7953\"], [0.7777777777777778, \"#fb9f3a\"], [0.8888888888888888, \"#fdca26\"], [1.0, \"#f0f921\"]], \"type\": \"contour\"}], \"contourcarpet\": [{\"colorbar\": {\"outlinewidth\": 0, \"ticks\": \"\"}, \"type\": \"contourcarpet\"}], \"heatmap\": [{\"colorbar\": {\"outlinewidth\": 0, \"ticks\": \"\"}, \"colorscale\": [[0.0, \"#0d0887\"], [0.1111111111111111, \"#46039f\"], [0.2222222222222222, \"#7201a8\"], [0.3333333333333333, \"#9c179e\"], [0.4444444444444444, \"#bd3786\"], [0.5555555555555556, \"#d8576b\"], [0.6666666666666666, \"#ed7953\"], [0.7777777777777778, \"#fb9f3a\"], [0.8888888888888888, \"#fdca26\"], [1.0, \"#f0f921\"]], \"type\": \"heatmap\"}], \"heatmapgl\": [{\"colorbar\": {\"outlinewidth\": 0, \"ticks\": \"\"}, \"colorscale\": [[0.0, \"#0d0887\"], [0.1111111111111111, \"#46039f\"], [0.2222222222222222, \"#7201a8\"], [0.3333333333333333, \"#9c179e\"], [0.4444444444444444, \"#bd3786\"], [0.5555555555555556, \"#d8576b\"], [0.6666666666666666, \"#ed7953\"], [0.7777777777777778, \"#fb9f3a\"], [0.8888888888888888, \"#fdca26\"], [1.0, \"#f0f921\"]], \"type\": \"heatmapgl\"}], \"histogram\": [{\"marker\": {\"colorbar\": {\"outlinewidth\": 0, \"ticks\": \"\"}}, \"type\": \"histogram\"}], \"histogram2d\": [{\"colorbar\": {\"outlinewidth\": 0, \"ticks\": \"\"}, \"colorscale\": [[0.0, \"#0d0887\"], [0.1111111111111111, \"#46039f\"], [0.2222222222222222, \"#7201a8\"], [0.3333333333333333, \"#9c179e\"], [0.4444444444444444, \"#bd3786\"], [0.5555555555555556, \"#d8576b\"], [0.6666666666666666, \"#ed7953\"], [0.7777777777777778, \"#fb9f3a\"], [0.8888888888888888, \"#fdca26\"], [1.0, \"#f0f921\"]], \"type\": \"histogram2d\"}], \"histogram2dcontour\": [{\"colorbar\": {\"outlinewidth\": 0, \"ticks\": \"\"}, \"colorscale\": [[0.0, \"#0d0887\"], [0.1111111111111111, \"#46039f\"], [0.2222222222222222, \"#7201a8\"], [0.3333333333333333, \"#9c179e\"], [0.4444444444444444, \"#bd3786\"], [0.5555555555555556, \"#d8576b\"], [0.6666666666666666, \"#ed7953\"], [0.7777777777777778, \"#fb9f3a\"], [0.8888888888888888, \"#fdca26\"], [1.0, \"#f0f921\"]], \"type\": \"histogram2dcontour\"}], \"mesh3d\": [{\"colorbar\": {\"outlinewidth\": 0, \"ticks\": \"\"}, \"type\": \"mesh3d\"}], \"parcoords\": [{\"line\": {\"colorbar\": {\"outlinewidth\": 0, \"ticks\": \"\"}}, \"type\": \"parcoords\"}], \"pie\": [{\"automargin\": true, \"type\": \"pie\"}], \"scatter\": [{\"marker\": {\"colorbar\": {\"outlinewidth\": 0, \"ticks\": \"\"}}, \"type\": \"scatter\"}], \"scatter3d\": [{\"line\": {\"colorbar\": {\"outlinewidth\": 0, \"ticks\": \"\"}}, \"marker\": {\"colorbar\": {\"outlinewidth\": 0, \"ticks\": \"\"}}, \"type\": \"scatter3d\"}], \"scattercarpet\": [{\"marker\": {\"colorbar\": {\"outlinewidth\": 0, \"ticks\": \"\"}}, \"type\": \"scattercarpet\"}], \"scattergeo\": [{\"marker\": {\"colorbar\": {\"outlinewidth\": 0, \"ticks\": \"\"}}, \"type\": \"scattergeo\"}], \"scattergl\": [{\"marker\": {\"colorbar\": {\"outlinewidth\": 0, \"ticks\": \"\"}}, \"type\": \"scattergl\"}], \"scattermapbox\": [{\"marker\": {\"colorbar\": {\"outlinewidth\": 0, \"ticks\": \"\"}}, \"type\": \"scattermapbox\"}], \"scatterpolar\": [{\"marker\": {\"colorbar\": {\"outlinewidth\": 0, \"ticks\": \"\"}}, \"type\": \"scatterpolar\"}], \"scatterpolargl\": [{\"marker\": {\"colorbar\": {\"outlinewidth\": 0, \"ticks\": \"\"}}, \"type\": \"scatterpolargl\"}], \"scatterternary\": [{\"marker\": {\"colorbar\": {\"outlinewidth\": 0, \"ticks\": \"\"}}, \"type\": \"scatterternary\"}], \"surface\": [{\"colorbar\": {\"outlinewidth\": 0, \"ticks\": \"\"}, \"colorscale\": [[0.0, \"#0d0887\"], [0.1111111111111111, \"#46039f\"], [0.2222222222222222, \"#7201a8\"], [0.3333333333333333, \"#9c179e\"], [0.4444444444444444, \"#bd3786\"], [0.5555555555555556, \"#d8576b\"], [0.6666666666666666, \"#ed7953\"], [0.7777777777777778, \"#fb9f3a\"], [0.8888888888888888, \"#fdca26\"], [1.0, \"#f0f921\"]], \"type\": \"surface\"}], \"table\": [{\"cells\": {\"fill\": {\"color\": \"#EBF0F8\"}, \"line\": {\"color\": \"white\"}}, \"header\": {\"fill\": {\"color\": \"#C8D4E3\"}, \"line\": {\"color\": \"white\"}}, \"type\": \"table\"}]}, \"layout\": {\"annotationdefaults\": {\"arrowcolor\": \"#2a3f5f\", \"arrowhead\": 0, \"arrowwidth\": 1}, \"coloraxis\": {\"colorbar\": {\"outlinewidth\": 0, \"ticks\": \"\"}}, \"colorscale\": {\"diverging\": [[0, \"#8e0152\"], [0.1, \"#c51b7d\"], [0.2, \"#de77ae\"], [0.3, \"#f1b6da\"], [0.4, \"#fde0ef\"], [0.5, \"#f7f7f7\"], [0.6, \"#e6f5d0\"], [0.7, \"#b8e186\"], [0.8, \"#7fbc41\"], [0.9, \"#4d9221\"], [1, \"#276419\"]], \"sequential\": [[0.0, \"#0d0887\"], [0.1111111111111111, \"#46039f\"], [0.2222222222222222, \"#7201a8\"], [0.3333333333333333, \"#9c179e\"], [0.4444444444444444, \"#bd3786\"], [0.5555555555555556, \"#d8576b\"], [0.6666666666666666, \"#ed7953\"], [0.7777777777777778, \"#fb9f3a\"], [0.8888888888888888, \"#fdca26\"], [1.0, \"#f0f921\"]], \"sequentialminus\": [[0.0, \"#0d0887\"], [0.1111111111111111, \"#46039f\"], [0.2222222222222222, \"#7201a8\"], [0.3333333333333333, \"#9c179e\"], [0.4444444444444444, \"#bd3786\"], [0.5555555555555556, \"#d8576b\"], [0.6666666666666666, \"#ed7953\"], [0.7777777777777778, \"#fb9f3a\"], [0.8888888888888888, \"#fdca26\"], [1.0, \"#f0f921\"]]}, \"colorway\": [\"#636efa\", \"#EF553B\", \"#00cc96\", \"#ab63fa\", \"#FFA15A\", \"#19d3f3\", \"#FF6692\", \"#B6E880\", \"#FF97FF\", \"#FECB52\"], \"font\": {\"color\": \"#2a3f5f\"}, \"geo\": {\"bgcolor\": \"white\", \"lakecolor\": \"white\", \"landcolor\": \"#E5ECF6\", \"showlakes\": true, \"showland\": true, \"subunitcolor\": \"white\"}, \"hoverlabel\": {\"align\": \"left\"}, \"hovermode\": \"closest\", \"mapbox\": {\"style\": \"light\"}, \"paper_bgcolor\": \"white\", \"plot_bgcolor\": \"#E5ECF6\", \"polar\": {\"angularaxis\": {\"gridcolor\": \"white\", \"linecolor\": \"white\", \"ticks\": \"\"}, \"bgcolor\": \"#E5ECF6\", \"radialaxis\": {\"gridcolor\": \"white\", \"linecolor\": \"white\", \"ticks\": \"\"}}, \"scene\": {\"xaxis\": {\"backgroundcolor\": \"#E5ECF6\", \"gridcolor\": \"white\", \"gridwidth\": 2, \"linecolor\": \"white\", \"showbackground\": true, \"ticks\": \"\", \"zerolinecolor\": \"white\"}, \"yaxis\": {\"backgroundcolor\": \"#E5ECF6\", \"gridcolor\": \"white\", \"gridwidth\": 2, \"linecolor\": \"white\", \"showbackground\": true, \"ticks\": \"\", \"zerolinecolor\": \"white\"}, \"zaxis\": {\"backgroundcolor\": \"#E5ECF6\", \"gridcolor\": \"white\", \"gridwidth\": 2, \"linecolor\": \"white\", \"showbackground\": true, \"ticks\": \"\", \"zerolinecolor\": \"white\"}}, \"shapedefaults\": {\"line\": {\"color\": \"#2a3f5f\"}}, \"ternary\": {\"aaxis\": {\"gridcolor\": \"white\", \"linecolor\": \"white\", \"ticks\": \"\"}, \"baxis\": {\"gridcolor\": \"white\", \"linecolor\": \"white\", \"ticks\": \"\"}, \"bgcolor\": \"#E5ECF6\", \"caxis\": {\"gridcolor\": \"white\", \"linecolor\": \"white\", \"ticks\": \"\"}}, \"title\": {\"x\": 0.05}, \"xaxis\": {\"automargin\": true, \"gridcolor\": \"white\", \"linecolor\": \"white\", \"ticks\": \"\", \"title\": {\"standoff\": 15}, \"zerolinecolor\": \"white\", \"zerolinewidth\": 2}, \"yaxis\": {\"automargin\": true, \"gridcolor\": \"white\", \"linecolor\": \"white\", \"ticks\": \"\", \"title\": {\"standoff\": 15}, \"zerolinecolor\": \"white\", \"zerolinewidth\": 2}}}, \"xaxis\": {\"anchor\": \"y\", \"domain\": [0.0, 0.45]}, \"xaxis2\": {\"anchor\": \"y2\", \"domain\": [0.55, 1.0]}, \"xaxis3\": {\"anchor\": \"y3\", \"domain\": [0.0, 1.0]}, \"yaxis\": {\"anchor\": \"x\", \"domain\": [0.625, 1.0]}, \"yaxis2\": {\"anchor\": \"x2\", \"domain\": [0.625, 1.0]}, \"yaxis3\": {\"anchor\": \"x3\", \"domain\": [0.0, 0.375]}},\n",
       "                        {\"responsive\": true}\n",
       "                    ).then(function(){\n",
       "                            \n",
       "var gd = document.getElementById('e48e0351-ee32-4f5a-8d1f-1b6ef0ba6ff5');\n",
       "var x = new MutationObserver(function (mutations, observer) {{\n",
       "        var display = window.getComputedStyle(gd).display;\n",
       "        if (!display || display === 'none') {{\n",
       "            console.log([gd, 'removed!']);\n",
       "            Plotly.purge(gd);\n",
       "            observer.disconnect();\n",
       "        }}\n",
       "}});\n",
       "\n",
       "// Listen for the removal of the full notebook cells\n",
       "var notebookContainer = gd.closest('#notebook-container');\n",
       "if (notebookContainer) {{\n",
       "    x.observe(notebookContainer, {childList: true});\n",
       "}}\n",
       "\n",
       "// Listen for the clearing of the current output cell\n",
       "var outputEl = gd.closest('.output');\n",
       "if (outputEl) {{\n",
       "    x.observe(outputEl, {childList: true});\n",
       "}}\n",
       "\n",
       "                        })\n",
       "                };\n",
       "                });\n",
       "            </script>\n",
       "        </div>"
      ]
     },
     "metadata": {},
     "output_type": "display_data"
    },
    {
     "data": {
      "text/html": [
       "<div>\n",
       "<style scoped>\n",
       "    .dataframe tbody tr th:only-of-type {\n",
       "        vertical-align: middle;\n",
       "    }\n",
       "\n",
       "    .dataframe tbody tr th {\n",
       "        vertical-align: top;\n",
       "    }\n",
       "\n",
       "    .dataframe thead th {\n",
       "        text-align: right;\n",
       "    }\n",
       "</style>\n",
       "<table border=\"1\" class=\"dataframe\">\n",
       "  <thead>\n",
       "    <tr style=\"text-align: right;\">\n",
       "      <th></th>\n",
       "      <th>Method</th>\n",
       "      <th>Training Max Score</th>\n",
       "      <th>Training Min Score</th>\n",
       "      <th>Testing Max Score</th>\n",
       "      <th>Testing Min Score</th>\n",
       "      <th>Time elapsed</th>\n",
       "    </tr>\n",
       "  </thead>\n",
       "  <tbody>\n",
       "    <tr>\n",
       "      <th>0</th>\n",
       "      <td>LLE</td>\n",
       "      <td>0.614756</td>\n",
       "      <td>0.339257</td>\n",
       "      <td>0.552981</td>\n",
       "      <td>0.282888</td>\n",
       "      <td>0.06</td>\n",
       "    </tr>\n",
       "    <tr>\n",
       "      <th>1</th>\n",
       "      <td>LTSA</td>\n",
       "      <td>0.510238</td>\n",
       "      <td>0.431487</td>\n",
       "      <td>0.479564</td>\n",
       "      <td>0.261395</td>\n",
       "      <td>0.06</td>\n",
       "    </tr>\n",
       "    <tr>\n",
       "      <th>2</th>\n",
       "      <td>Hessian LLE</td>\n",
       "      <td>0.510238</td>\n",
       "      <td>0.431487</td>\n",
       "      <td>0.479564</td>\n",
       "      <td>0.261395</td>\n",
       "      <td>0.04</td>\n",
       "    </tr>\n",
       "    <tr>\n",
       "      <th>3</th>\n",
       "      <td>Modified LLE</td>\n",
       "      <td>0.532398</td>\n",
       "      <td>0.405601</td>\n",
       "      <td>0.749987</td>\n",
       "      <td>0.082877</td>\n",
       "      <td>0.04</td>\n",
       "    </tr>\n",
       "    <tr>\n",
       "      <th>4</th>\n",
       "      <td>Isomap</td>\n",
       "      <td>64.949332</td>\n",
       "      <td>40.817950</td>\n",
       "      <td>66.737926</td>\n",
       "      <td>23.779329</td>\n",
       "      <td>0.01</td>\n",
       "    </tr>\n",
       "    <tr>\n",
       "      <th>5</th>\n",
       "      <td>MDS</td>\n",
       "      <td>47.296974</td>\n",
       "      <td>18.846010</td>\n",
       "      <td>23.926399</td>\n",
       "      <td>4.696800</td>\n",
       "      <td>0.02</td>\n",
       "    </tr>\n",
       "    <tr>\n",
       "      <th>6</th>\n",
       "      <td>SE</td>\n",
       "      <td>0.198066</td>\n",
       "      <td>0.119936</td>\n",
       "      <td>0.216395</td>\n",
       "      <td>0.065254</td>\n",
       "      <td>0.02</td>\n",
       "    </tr>\n",
       "    <tr>\n",
       "      <th>7</th>\n",
       "      <td>t-SNE</td>\n",
       "      <td>22.362803</td>\n",
       "      <td>2.447675</td>\n",
       "      <td>74.484177</td>\n",
       "      <td>6.866407</td>\n",
       "      <td>0.54</td>\n",
       "    </tr>\n",
       "  </tbody>\n",
       "</table>\n",
       "</div>"
      ],
      "text/plain": [
       "         Method  Training Max Score  Training Min Score  Testing Max Score  \\\n",
       "0           LLE            0.614756            0.339257           0.552981   \n",
       "1          LTSA            0.510238            0.431487           0.479564   \n",
       "2   Hessian LLE            0.510238            0.431487           0.479564   \n",
       "3  Modified LLE            0.532398            0.405601           0.749987   \n",
       "4        Isomap           64.949332           40.817950          66.737926   \n",
       "5           MDS           47.296974           18.846010          23.926399   \n",
       "6            SE            0.198066            0.119936           0.216395   \n",
       "7         t-SNE           22.362803            2.447675          74.484177   \n",
       "\n",
       "   Testing Min Score  Time elapsed  \n",
       "0           0.282888          0.06  \n",
       "1           0.261395          0.06  \n",
       "2           0.261395          0.04  \n",
       "3           0.082877          0.04  \n",
       "4          23.779329          0.01  \n",
       "5           4.696800          0.02  \n",
       "6           0.065254          0.02  \n",
       "7           6.866407          0.54  "
      ]
     },
     "execution_count": 14,
     "metadata": {},
     "output_type": "execute_result"
    }
   ],
   "source": [
    "result = run_algo(method_name='t-SNE')\n",
    "result"
   ]
  },
  {
   "cell_type": "code",
   "execution_count": 18,
   "metadata": {},
   "outputs": [],
   "source": [
    "cols = list(result.columns)"
   ]
  },
  {
   "cell_type": "code",
   "execution_count": 21,
   "metadata": {},
   "outputs": [],
   "source": [
    "cols=['Method',\n",
    " 'Training Max Score',\n",
    " 'Testing Max Score',\n",
    " 'Time elapsed']"
   ]
  },
  {
   "cell_type": "code",
   "execution_count": 26,
   "metadata": {},
   "outputs": [
    {
     "data": {
      "text/html": [
       "<div>\n",
       "<style scoped>\n",
       "    .dataframe tbody tr th:only-of-type {\n",
       "        vertical-align: middle;\n",
       "    }\n",
       "\n",
       "    .dataframe tbody tr th {\n",
       "        vertical-align: top;\n",
       "    }\n",
       "\n",
       "    .dataframe thead th {\n",
       "        text-align: right;\n",
       "    }\n",
       "</style>\n",
       "<table border=\"1\" class=\"dataframe\">\n",
       "  <thead>\n",
       "    <tr style=\"text-align: right;\">\n",
       "      <th></th>\n",
       "      <th>Method</th>\n",
       "      <th>Training Max Score</th>\n",
       "      <th>Testing Max Score</th>\n",
       "      <th>Time elapsed</th>\n",
       "    </tr>\n",
       "  </thead>\n",
       "  <tbody>\n",
       "    <tr>\n",
       "      <th>0</th>\n",
       "      <td>LLE</td>\n",
       "      <td>0.614756</td>\n",
       "      <td>0.552981</td>\n",
       "      <td>0.06</td>\n",
       "    </tr>\n",
       "    <tr>\n",
       "      <th>1</th>\n",
       "      <td>LTSA</td>\n",
       "      <td>0.510238</td>\n",
       "      <td>0.479564</td>\n",
       "      <td>0.06</td>\n",
       "    </tr>\n",
       "    <tr>\n",
       "      <th>2</th>\n",
       "      <td>Hessian LLE</td>\n",
       "      <td>0.510238</td>\n",
       "      <td>0.479564</td>\n",
       "      <td>0.04</td>\n",
       "    </tr>\n",
       "    <tr>\n",
       "      <th>3</th>\n",
       "      <td>Modified LLE</td>\n",
       "      <td>0.532398</td>\n",
       "      <td>0.749987</td>\n",
       "      <td>0.04</td>\n",
       "    </tr>\n",
       "    <tr>\n",
       "      <th>4</th>\n",
       "      <td>Isomap</td>\n",
       "      <td>64.949332</td>\n",
       "      <td>66.737926</td>\n",
       "      <td>0.01</td>\n",
       "    </tr>\n",
       "    <tr>\n",
       "      <th>5</th>\n",
       "      <td>MDS</td>\n",
       "      <td>47.296974</td>\n",
       "      <td>23.926399</td>\n",
       "      <td>0.02</td>\n",
       "    </tr>\n",
       "    <tr>\n",
       "      <th>6</th>\n",
       "      <td>SE</td>\n",
       "      <td>0.198066</td>\n",
       "      <td>0.216395</td>\n",
       "      <td>0.02</td>\n",
       "    </tr>\n",
       "    <tr>\n",
       "      <th>7</th>\n",
       "      <td>t-SNE</td>\n",
       "      <td>22.362803</td>\n",
       "      <td>74.484177</td>\n",
       "      <td>0.54</td>\n",
       "    </tr>\n",
       "  </tbody>\n",
       "</table>\n",
       "</div>"
      ],
      "text/plain": [
       "         Method  Training Max Score  Testing Max Score  Time elapsed\n",
       "0           LLE            0.614756           0.552981          0.06\n",
       "1          LTSA            0.510238           0.479564          0.06\n",
       "2   Hessian LLE            0.510238           0.479564          0.04\n",
       "3  Modified LLE            0.532398           0.749987          0.04\n",
       "4        Isomap           64.949332          66.737926          0.01\n",
       "5           MDS           47.296974          23.926399          0.02\n",
       "6            SE            0.198066           0.216395          0.02\n",
       "7         t-SNE           22.362803          74.484177          0.54"
      ]
     },
     "execution_count": 26,
     "metadata": {},
     "output_type": "execute_result"
    }
   ],
   "source": [
    "result[cols]"
   ]
  },
  {
   "cell_type": "markdown",
   "metadata": {},
   "source": [
    "### Diffusion Map based reduction"
   ]
  },
  {
   "cell_type": "code",
   "execution_count": null,
   "metadata": {},
   "outputs": [],
   "source": [
    "from sklearn.metrics.pairwise import euclidean_distances\n"
   ]
  },
  {
   "cell_type": "code",
   "execution_count": null,
   "metadata": {},
   "outputs": [],
   "source": [
    "df = pd.read_csv('steps_train.txt', skiprows=1,nrows=110, header=None, usecols=[1,2])\n",
    "df_test = pd.read_csv('steps_test.txt', skiprows=1, nrows=150, header=None, usecols=[1,2])"
   ]
  },
  {
   "cell_type": "code",
   "execution_count": null,
   "metadata": {},
   "outputs": [],
   "source": [
    "def find_diffusion_matrix(X=None, alpha=0.15):\n",
    "    \"\"\"Function to find the diffusion matrix P\n",
    "        \n",
    "        >Parameters:\n",
    "        alpha - to be used for gaussian kernel function\n",
    "        X - feature matrix as numpy array\n",
    "        \n",
    "        >Returns:\n",
    "        P_prime, P, Di, K, D_left\n",
    "    \"\"\"\n",
    "    alpha = alpha\n",
    "        \n",
    "    dists = euclidean_distances(X, X)\n",
    "    K = np.exp(-dists**2 / alpha)\n",
    "    \n",
    "    r = np.sum(K, axis=0)\n",
    "    Di = np.diag(1/r)\n",
    "    P = np.matmul(Di, K)\n",
    "    \n",
    "    D_right = np.diag((r)**0.5)\n",
    "    D_left = np.diag((r)**-0.5)\n",
    "    P_prime = np.matmul(D_right, np.matmul(P,D_left))\n",
    "\n",
    "    return P_prime, P, Di, K, D_left"
   ]
  },
  {
   "cell_type": "code",
   "execution_count": null,
   "metadata": {},
   "outputs": [],
   "source": [
    "def find_diffusion_map(P_prime, D_left, n_eign=3):\n",
    "    \"\"\"Function to find the diffusion coordinates in the diffusion space\n",
    "        \n",
    "        >Parameters:\n",
    "        P_prime - Symmetrized version of Diffusion Matrix P\n",
    "        D_left - D^{-1/2} matrix\n",
    "        n_eigen - Number of eigen vectors to return. This is effectively \n",
    "                    the dimensions to keep in diffusion space.\n",
    "        \n",
    "        >Returns:\n",
    "        Diffusion_map as np.array object\n",
    "    \"\"\"   \n",
    "    n_eign = n_eign\n",
    "    \n",
    "    eigenValues, eigenVectors = eigh(P_prime)\n",
    "    idx = eigenValues.argsort()[::-1]\n",
    "    eigenValues = eigenValues[idx]\n",
    "    eigenVectors = eigenVectors[:,idx]\n",
    "    \n",
    "    diffusion_coordinates = np.matmul(D_left, eigenVectors)\n",
    "    \n",
    "    return diffusion_coordinates[:,:n_eign]"
   ]
  },
  {
   "cell_type": "code",
   "execution_count": null,
   "metadata": {},
   "outputs": [],
   "source": [
    "P_prime, P, Di, K, D_left = find_diffusion_matrix(df, alpha=0.15)"
   ]
  },
  {
   "cell_type": "code",
   "execution_count": null,
   "metadata": {},
   "outputs": [],
   "source": [
    "X_train_data = find_diffusion_map(P_prime, D_left, n_eign=1)"
   ]
  },
  {
   "cell_type": "code",
   "execution_count": null,
   "metadata": {},
   "outputs": [],
   "source": [
    "N = len(X_train_data)\n",
    "# L = (N)//2\n",
    "L =  50\n",
    "X_train = hankel(X_train_data[:L],X_train_data[L-1:]) # Creating trajectory matrix\n",
    "eigenValues, eigenVectors = eigh(np.matmul(X_train, X_train.T))\n",
    "idx = eigenValues.argsort()[::-1]\n",
    "eigenValues = eigenValues[idx]\n",
    "eigenVectors = eigenVectors[:,idx]\n",
    "# Sree plot\n",
    "\n",
    "eigen_data = go.Scatter(x=list(range(len(eigenValues[0:10]))), y=eigenValues[0:10])\n",
    "eigen_layout = go.Layout(title='ScreePlot', title_x=0.5, xaxis_title=\"No of eigen values\", yaxis_title=\"eigen value\",)\n",
    "fig = go.Figure(data=[eigen_data], layout=eigen_layout)\n",
    "fig.show()"
   ]
  },
  {
   "cell_type": "code",
   "execution_count": null,
   "metadata": {},
   "outputs": [],
   "source": [
    "# Setting statistical dimension based on screeplot above\n",
    "r = 1\n",
    "# Performing singular value decomposition\n",
    "U, Sigma, V = np.linalg.svd(X_train)\n",
    "V = V.T\n",
    "X_elem = np.array( [Sigma[i] * np.outer(U[:,i], V[:,i]) for i in range(0,r)] )\n",
    "X_train_extracted = X_elem.sum(axis=0)\n",
    "U = eigenVectors[:,:r] # r as statistical dimension\n",
    "UT = U.T\n",
    "pX = np.matmul(UT,X_train_extracted)\n",
    "centroid = np.mean(pX, axis=1)\n",
    "centroid = centroid[:,np.newaxis]\n",
    "pXt = np.matmul(UT,X_train)\n",
    "dt_matrix = centroid - pXt\n",
    "dt_scores = np.linalg.norm(dt_matrix, axis=0, ord=2)\n",
    "\n",
    "# Testing positional Deviation\n",
    "# X_test = method.fit_transform(df_test)\n",
    "P_prime, P, Di, K, D_left = find_diffusion_matrix(df_test, alpha=0.15)\n",
    "X_test = find_diffusion_map(P_prime, D_left, n_eign=1)\n",
    "\n",
    "Xj = hankel(X_test[:L],X_test[L-1:])\n",
    "pXj = np.matmul(UT, Xj)\n",
    "dj_matrix = centroid - pXj\n",
    "dj_scores = np.linalg.norm(dj_matrix, axis=0, ord=2)\n",
    "dj_scores = np.asarray(dj_scores)"
   ]
  },
  {
   "cell_type": "code",
   "execution_count": null,
   "metadata": {},
   "outputs": [],
   "source": [
    "fig = make_subplots(rows=2, cols=2,specs=[[{}, {}], [{\"colspan\": 2}, None]],\n",
    "    subplot_titles=(\"Training plot\",\"Testing plot\", \"Anomaly score by Diffusion Map\"))\n",
    "fig.add_trace(go.Scatter(x=df[1], y=df[2], marker_color='blue',\n",
    "                        name=\"Training path\"),row=1, col=1)\n",
    "fig.add_trace(go.Scatter(x=df_test[1], y=df_test[2], marker_color='red',\n",
    "                        name=\"Testing Score\"),row=1, col=2)\n",
    "fig.add_trace(go.Scatter(x=list(range(len(dt_scores))), y=dt_scores[:], marker_color='blue',\n",
    "                         name=\"Training Score\"), row=2, col=1)\n",
    "fig.add_trace(go.Scatter(x=list(range(len(dj_scores))), y=dj_scores, marker_color='red',\n",
    "                        name=\"Testing Score\"), row=2, col=1)\n",
    "fig.update_layout(showlegend=False)\n"
   ]
  },
  {
   "cell_type": "code",
   "execution_count": null,
   "metadata": {},
   "outputs": [],
   "source": []
  }
 ],
 "metadata": {
  "kernelspec": {
   "display_name": "Python 3",
   "language": "python",
   "name": "python3"
  },
  "language_info": {
   "codemirror_mode": {
    "name": "ipython",
    "version": 3
   },
   "file_extension": ".py",
   "mimetype": "text/x-python",
   "name": "python",
   "nbconvert_exporter": "python",
   "pygments_lexer": "ipython3",
   "version": "3.7.5"
  }
 },
 "nbformat": 4,
 "nbformat_minor": 2
}
